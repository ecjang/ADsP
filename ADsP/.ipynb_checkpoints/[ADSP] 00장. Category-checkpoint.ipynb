{
 "cells": [
  {
   "cell_type": "markdown",
   "metadata": {},
   "source": [
    "# 과목 개요\n",
    "\n",
    "## 1. 데이터 이해\n",
    "- 데이터의 이해\n",
    "- 데이터의 가치와 미래\n",
    "- 가치 창조를 위한 데이터 사이언스와 전략 인사이트\n",
    "\n",
    "## 2. 데이터 분석 기획\n",
    "- 데이터 분석 기획의 이해\n",
    "- 분석 마스터플랜\n",
    "\n",
    "## 3. 데이터 분석\n",
    "- 데이터 분석 개요\n",
    "- 데이터마트\n",
    "- 통계분석\n",
    "- 정형 데이터 마이닝\n",
    "\n"
   ]
  }
 ],
 "metadata": {
  "kernelspec": {
   "display_name": "Python 3",
   "language": "python",
   "name": "python3"
  },
  "language_info": {
   "codemirror_mode": {
    "name": "ipython",
    "version": 3
   },
   "file_extension": ".py",
   "mimetype": "text/x-python",
   "name": "python",
   "nbconvert_exporter": "python",
   "pygments_lexer": "ipython3",
   "version": "3.7.0"
  }
 },
 "nbformat": 4,
 "nbformat_minor": 2
}
