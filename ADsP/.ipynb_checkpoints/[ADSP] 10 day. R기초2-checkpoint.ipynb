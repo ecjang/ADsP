{
 "cells": [
  {
   "cell_type": "markdown",
   "metadata": {},
   "source": [
    "<h1><center>2절. R의 기초2</center></h1>"
   ]
  },
  {
   "cell_type": "markdown",
   "metadata": {},
   "source": [
    "## 1. R 기초 중에 기초\n",
    "\n",
    "### 1_1. 기초\n",
    "가장 기초가 되는 코드부터 알아본다."
   ]
  },
  {
   "cell_type": "markdown",
   "metadata": {},
   "source": [
    "1. 출력하기\n",
    "    - print() : 한번에 하나씩 출력, 출력후에는 행을 바꿈.\n",
    "    - cat() : 여러 항목을 출력. 행렬, 리스트 같이 복합적인 구조는 출력 불가. 행을 바꾸지 않음"
   ]
  },
  {
   "cell_type": "code",
   "execution_count": 1,
   "metadata": {},
   "outputs": [
    {
     "name": "stdout",
     "output_type": "stream",
     "text": [
      "[1] \"abc\"\n",
      "1 2 3 4 5 \n"
     ]
    }
   ],
   "source": [
    "# 출력하기\n",
    "print(\"abc\")\n",
    "cat(1,2,3,4,5, '\\n')"
   ]
  },
  {
   "cell_type": "code",
   "execution_count": 2,
   "metadata": {},
   "outputs": [
    {
     "name": "stdout",
     "output_type": "stream",
     "text": [
      "Adding...1 ...2 ...3 ...4 ...5 ...6 ...7 ...8 ...9 ...10 ...Done! \n"
     ]
    }
   ],
   "source": [
    "sum_to_ten <- function(){\n",
    "    sum <- 0\n",
    "    cat('Adding...')\n",
    "    for (i in 1:10){\n",
    "        sum <- sum + i\n",
    "        cat(i, (\"...\"))\n",
    "    }\n",
    "    cat('Done!', \"\\n\")\n",
    "}\n",
    "sum_to_ten()"
   ]
  },
  {
   "cell_type": "markdown",
   "metadata": {},
   "source": [
    "2. 대입연산자\n",
    "    - `<-`, `<<-`, `=`, `->` : 변수에 값을 할당."
   ]
  },
  {
   "cell_type": "markdown",
   "metadata": {},
   "source": [
    "3. 변수 목록\n",
    "    - ls() : 객체 목록 조회\n",
    "    - ls.str() : 객체 목록과 객체의 참조값도 같이 표시"
   ]
  },
  {
   "cell_type": "code",
   "execution_count": 3,
   "metadata": {},
   "outputs": [],
   "source": [
    "ls_1 <- c(1,2,3)\n",
    "ls_2 <- c('one', 'two', 'three')"
   ]
  },
  {
   "cell_type": "code",
   "execution_count": 4,
   "metadata": {},
   "outputs": [
    {
     "name": "stdout",
     "output_type": "stream",
     "text": [
      "ls():  ls_1 ls_2 sum_to_ten \n",
      "\n",
      "ls.str(): "
     ]
    },
    {
     "data": {
      "text/plain": [
       "ls_1 :  num [1:3] 1 2 3\n",
       "ls_2 :  chr [1:3] \"one\" \"two\" \"three\"\n",
       "sum_to_ten : function ()  "
      ]
     },
     "metadata": {},
     "output_type": "display_data"
    }
   ],
   "source": [
    "cat('ls(): ', ls(), '\\n\\n')\n",
    "cat('ls.str(): ')\n",
    "ls.str()"
   ]
  },
  {
   "cell_type": "markdown",
   "metadata": {},
   "source": [
    "4. 변수 삭제 : rm()"
   ]
  },
  {
   "cell_type": "code",
   "execution_count": 5,
   "metadata": {},
   "outputs": [
    {
     "data": {
      "text/html": [
       "'sum_to_ten'"
      ],
      "text/latex": [
       "'sum\\_to\\_ten'"
      ],
      "text/markdown": [
       "'sum_to_ten'"
      ],
      "text/plain": [
       "[1] \"sum_to_ten\""
      ]
     },
     "metadata": {},
     "output_type": "display_data"
    }
   ],
   "source": [
    "rm(ls_1, ls_2)\n",
    "ls()"
   ]
  },
  {
   "cell_type": "markdown",
   "metadata": {},
   "source": [
    "5. 백터 생성하기: c()"
   ]
  },
  {
   "cell_type": "code",
   "execution_count": 6,
   "metadata": {},
   "outputs": [
    {
     "data": {
      "text/html": [
       "<ol class=list-inline>\n",
       "\t<li>1</li>\n",
       "\t<li>2</li>\n",
       "\t<li>3</li>\n",
       "\t<li>4</li>\n",
       "\t<li>5</li>\n",
       "\t<li>6</li>\n",
       "\t<li>7</li>\n",
       "\t<li>8</li>\n",
       "\t<li>9</li>\n",
       "\t<li>10</li>\n",
       "</ol>\n"
      ],
      "text/latex": [
       "\\begin{enumerate*}\n",
       "\\item 1\n",
       "\\item 2\n",
       "\\item 3\n",
       "\\item 4\n",
       "\\item 5\n",
       "\\item 6\n",
       "\\item 7\n",
       "\\item 8\n",
       "\\item 9\n",
       "\\item 10\n",
       "\\end{enumerate*}\n"
      ],
      "text/markdown": [
       "1. 1\n",
       "2. 2\n",
       "3. 3\n",
       "4. 4\n",
       "5. 5\n",
       "6. 6\n",
       "7. 7\n",
       "8. 8\n",
       "9. 9\n",
       "10. 10\n",
       "\n",
       "\n"
      ],
      "text/plain": [
       " [1]  1  2  3  4  5  6  7  8  9 10"
      ]
     },
     "metadata": {},
     "output_type": "display_data"
    }
   ],
   "source": [
    "create_vector <- c(1:10)\n",
    "create_vector"
   ]
  },
  {
   "cell_type": "markdown",
   "metadata": {},
   "source": [
    "6. R함수 정의하기 : function(매개변수){expr}\n",
    "7. expr 내용\n",
    "    - 지역변수 : 함수 종료시 자동 종료\n",
    "    - 조건부 실행 : if문\n",
    "    - 반복실행 : for, while, repeat\n",
    "    - 전역변수 : <<-을 사용, 추천하지 않음."
   ]
  },
  {
   "cell_type": "markdown",
   "metadata": {},
   "source": [
    "----"
   ]
  },
  {
   "cell_type": "markdown",
   "metadata": {},
   "source": [
    "### 1_2. R프로그램\n",
    "기초 명령어를 통해 R의 기본적인 변수를 만들어본다."
   ]
  },
  {
   "cell_type": "markdown",
   "metadata": {},
   "source": [
    "1. combine() : 결합, 문자, 숫자, 논리값, 변수를 결합하여 벡터와 데이터셋을 생성"
   ]
  },
  {
   "cell_type": "code",
   "execution_count": 7,
   "metadata": {},
   "outputs": [
    {
     "data": {
      "text/html": [
       "<ol class=list-inline>\n",
       "\t<li>'1'</li>\n",
       "\t<li>'2'</li>\n",
       "\t<li>'3.5'</li>\n",
       "\t<li>'4.5'</li>\n",
       "\t<li>'one'</li>\n",
       "\t<li>'two'</li>\n",
       "\t<li>'three'</li>\n",
       "</ol>\n"
      ],
      "text/latex": [
       "\\begin{enumerate*}\n",
       "\\item '1'\n",
       "\\item '2'\n",
       "\\item '3.5'\n",
       "\\item '4.5'\n",
       "\\item 'one'\n",
       "\\item 'two'\n",
       "\\item 'three'\n",
       "\\end{enumerate*}\n"
      ],
      "text/markdown": [
       "1. '1'\n",
       "2. '2'\n",
       "3. '3.5'\n",
       "4. '4.5'\n",
       "5. 'one'\n",
       "6. 'two'\n",
       "7. 'three'\n",
       "\n",
       "\n"
      ],
      "text/plain": [
       "[1] \"1\"     \"2\"     \"3.5\"   \"4.5\"   \"one\"   \"two\"   \"three\""
      ]
     },
     "metadata": {},
     "output_type": "display_data"
    }
   ],
   "source": [
    "num <- c(1,2,3.5,4.5)\n",
    "txt <- c('one', 'two', 'three') \n",
    "x <- c(num, txt)\n",
    "x"
   ]
  },
  {
   "cell_type": "markdown",
   "metadata": {},
   "source": [
    "2. 구간 설정\n",
    "    - ` : ` : 시잣값부터 종료값까지 연속적인 숫자 생성\n",
    "    - seq() : 간격과 길이 제한 가능"
   ]
  },
  {
   "cell_type": "code",
   "execution_count": 8,
   "metadata": {},
   "outputs": [
    {
     "data": {
      "text/html": [
       "<ol class=list-inline>\n",
       "\t<li>1</li>\n",
       "\t<li>2</li>\n",
       "\t<li>3</li>\n",
       "\t<li>4</li>\n",
       "\t<li>5</li>\n",
       "\t<li>6</li>\n",
       "\t<li>7</li>\n",
       "\t<li>8</li>\n",
       "\t<li>9</li>\n",
       "\t<li>10</li>\n",
       "</ol>\n"
      ],
      "text/latex": [
       "\\begin{enumerate*}\n",
       "\\item 1\n",
       "\\item 2\n",
       "\\item 3\n",
       "\\item 4\n",
       "\\item 5\n",
       "\\item 6\n",
       "\\item 7\n",
       "\\item 8\n",
       "\\item 9\n",
       "\\item 10\n",
       "\\end{enumerate*}\n"
      ],
      "text/markdown": [
       "1. 1\n",
       "2. 2\n",
       "3. 3\n",
       "4. 4\n",
       "5. 5\n",
       "6. 6\n",
       "7. 7\n",
       "8. 8\n",
       "9. 9\n",
       "10. 10\n",
       "\n",
       "\n"
      ],
      "text/plain": [
       " [1]  1  2  3  4  5  6  7  8  9 10"
      ]
     },
     "metadata": {},
     "output_type": "display_data"
    },
    {
     "data": {
      "text/html": [
       "<ol class=list-inline>\n",
       "\t<li>10</li>\n",
       "\t<li>9</li>\n",
       "\t<li>8</li>\n",
       "\t<li>7</li>\n",
       "\t<li>6</li>\n",
       "\t<li>5</li>\n",
       "\t<li>4</li>\n",
       "\t<li>3</li>\n",
       "\t<li>2</li>\n",
       "\t<li>1</li>\n",
       "\t<li>0</li>\n",
       "\t<li>-1</li>\n",
       "\t<li>-2</li>\n",
       "\t<li>-3</li>\n",
       "\t<li>-4</li>\n",
       "\t<li>-5</li>\n",
       "\t<li>-6</li>\n",
       "\t<li>-7</li>\n",
       "\t<li>-8</li>\n",
       "\t<li>-9</li>\n",
       "\t<li>-10</li>\n",
       "</ol>\n"
      ],
      "text/latex": [
       "\\begin{enumerate*}\n",
       "\\item 10\n",
       "\\item 9\n",
       "\\item 8\n",
       "\\item 7\n",
       "\\item 6\n",
       "\\item 5\n",
       "\\item 4\n",
       "\\item 3\n",
       "\\item 2\n",
       "\\item 1\n",
       "\\item 0\n",
       "\\item -1\n",
       "\\item -2\n",
       "\\item -3\n",
       "\\item -4\n",
       "\\item -5\n",
       "\\item -6\n",
       "\\item -7\n",
       "\\item -8\n",
       "\\item -9\n",
       "\\item -10\n",
       "\\end{enumerate*}\n"
      ],
      "text/markdown": [
       "1. 10\n",
       "2. 9\n",
       "3. 8\n",
       "4. 7\n",
       "5. 6\n",
       "6. 5\n",
       "7. 4\n",
       "8. 3\n",
       "9. 2\n",
       "10. 1\n",
       "11. 0\n",
       "12. -1\n",
       "13. -2\n",
       "14. -3\n",
       "15. -4\n",
       "16. -5\n",
       "17. -6\n",
       "18. -7\n",
       "19. -8\n",
       "20. -9\n",
       "21. -10\n",
       "\n",
       "\n"
      ],
      "text/plain": [
       " [1]  10   9   8   7   6   5   4   3   2   1   0  -1  -2  -3  -4  -5  -6  -7  -8\n",
       "[20]  -9 -10"
      ]
     },
     "metadata": {},
     "output_type": "display_data"
    },
    {
     "data": {
      "text/html": [
       "<ol class=list-inline>\n",
       "\t<li>-10</li>\n",
       "\t<li>-8</li>\n",
       "\t<li>-6</li>\n",
       "\t<li>-4</li>\n",
       "\t<li>-2</li>\n",
       "\t<li>0</li>\n",
       "\t<li>2</li>\n",
       "\t<li>4</li>\n",
       "\t<li>6</li>\n",
       "\t<li>8</li>\n",
       "\t<li>10</li>\n",
       "</ol>\n"
      ],
      "text/latex": [
       "\\begin{enumerate*}\n",
       "\\item -10\n",
       "\\item -8\n",
       "\\item -6\n",
       "\\item -4\n",
       "\\item -2\n",
       "\\item 0\n",
       "\\item 2\n",
       "\\item 4\n",
       "\\item 6\n",
       "\\item 8\n",
       "\\item 10\n",
       "\\end{enumerate*}\n"
      ],
      "text/markdown": [
       "1. -10\n",
       "2. -8\n",
       "3. -6\n",
       "4. -4\n",
       "5. -2\n",
       "6. 0\n",
       "7. 2\n",
       "8. 4\n",
       "9. 6\n",
       "10. 8\n",
       "11. 10\n",
       "\n",
       "\n"
      ],
      "text/plain": [
       " [1] -10  -8  -6  -4  -2   0   2   4   6   8  10"
      ]
     },
     "metadata": {},
     "output_type": "display_data"
    },
    {
     "data": {
      "text/html": [
       "<ol class=list-inline>\n",
       "\t<li>10</li>\n",
       "\t<li>9.31034482758621</li>\n",
       "\t<li>8.62068965517241</li>\n",
       "\t<li>7.93103448275862</li>\n",
       "\t<li>7.24137931034483</li>\n",
       "\t<li>6.55172413793103</li>\n",
       "\t<li>5.86206896551724</li>\n",
       "\t<li>5.17241379310345</li>\n",
       "\t<li>4.48275862068965</li>\n",
       "\t<li>3.79310344827586</li>\n",
       "\t<li>3.10344827586207</li>\n",
       "\t<li>2.41379310344828</li>\n",
       "\t<li>1.72413793103448</li>\n",
       "\t<li>1.03448275862069</li>\n",
       "\t<li>0.344827586206897</li>\n",
       "\t<li>-0.344827586206897</li>\n",
       "\t<li>-1.03448275862069</li>\n",
       "\t<li>-1.72413793103448</li>\n",
       "\t<li>-2.41379310344828</li>\n",
       "\t<li>-3.10344827586207</li>\n",
       "\t<li>-3.79310344827586</li>\n",
       "\t<li>-4.48275862068966</li>\n",
       "\t<li>-5.17241379310345</li>\n",
       "\t<li>-5.86206896551724</li>\n",
       "\t<li>-6.55172413793104</li>\n",
       "\t<li>-7.24137931034483</li>\n",
       "\t<li>-7.93103448275862</li>\n",
       "\t<li>-8.62068965517242</li>\n",
       "\t<li>-9.31034482758621</li>\n",
       "\t<li>-10</li>\n",
       "</ol>\n"
      ],
      "text/latex": [
       "\\begin{enumerate*}\n",
       "\\item 10\n",
       "\\item 9.31034482758621\n",
       "\\item 8.62068965517241\n",
       "\\item 7.93103448275862\n",
       "\\item 7.24137931034483\n",
       "\\item 6.55172413793103\n",
       "\\item 5.86206896551724\n",
       "\\item 5.17241379310345\n",
       "\\item 4.48275862068965\n",
       "\\item 3.79310344827586\n",
       "\\item 3.10344827586207\n",
       "\\item 2.41379310344828\n",
       "\\item 1.72413793103448\n",
       "\\item 1.03448275862069\n",
       "\\item 0.344827586206897\n",
       "\\item -0.344827586206897\n",
       "\\item -1.03448275862069\n",
       "\\item -1.72413793103448\n",
       "\\item -2.41379310344828\n",
       "\\item -3.10344827586207\n",
       "\\item -3.79310344827586\n",
       "\\item -4.48275862068966\n",
       "\\item -5.17241379310345\n",
       "\\item -5.86206896551724\n",
       "\\item -6.55172413793104\n",
       "\\item -7.24137931034483\n",
       "\\item -7.93103448275862\n",
       "\\item -8.62068965517242\n",
       "\\item -9.31034482758621\n",
       "\\item -10\n",
       "\\end{enumerate*}\n"
      ],
      "text/markdown": [
       "1. 10\n",
       "2. 9.31034482758621\n",
       "3. 8.62068965517241\n",
       "4. 7.93103448275862\n",
       "5. 7.24137931034483\n",
       "6. 6.55172413793103\n",
       "7. 5.86206896551724\n",
       "8. 5.17241379310345\n",
       "9. 4.48275862068965\n",
       "10. 3.79310344827586\n",
       "11. 3.10344827586207\n",
       "12. 2.41379310344828\n",
       "13. 1.72413793103448\n",
       "14. 1.03448275862069\n",
       "15. 0.344827586206897\n",
       "16. -0.344827586206897\n",
       "17. -1.03448275862069\n",
       "18. -1.72413793103448\n",
       "19. -2.41379310344828\n",
       "20. -3.10344827586207\n",
       "21. -3.79310344827586\n",
       "22. -4.48275862068966\n",
       "23. -5.17241379310345\n",
       "24. -5.86206896551724\n",
       "25. -6.55172413793104\n",
       "26. -7.24137931034483\n",
       "27. -7.93103448275862\n",
       "28. -8.62068965517242\n",
       "29. -9.31034482758621\n",
       "30. -10\n",
       "\n",
       "\n"
      ],
      "text/plain": [
       " [1]  10.0000000   9.3103448   8.6206897   7.9310345   7.2413793   6.5517241\n",
       " [7]   5.8620690   5.1724138   4.4827586   3.7931034   3.1034483   2.4137931\n",
       "[13]   1.7241379   1.0344828   0.3448276  -0.3448276  -1.0344828  -1.7241379\n",
       "[19]  -2.4137931  -3.1034483  -3.7931034  -4.4827586  -5.1724138  -5.8620690\n",
       "[25]  -6.5517241  -7.2413793  -7.9310345  -8.6206897  -9.3103448 -10.0000000"
      ]
     },
     "metadata": {},
     "output_type": "display_data"
    }
   ],
   "source": [
    "1:10\n",
    "10:-10\n",
    "seq(from=-10, to=10, by=2)  # 간격을 2로 설정, 시작값이 종료값보다 작아야 한다.\n",
    "seq(from=10, to=-10, length.out=30)   # 등분을 30으로 설정"
   ]
  },
  {
   "cell_type": "markdown",
   "metadata": {},
   "source": [
    "3. 반복 기능\n",
    "    - 입력값 전체를 여러번 반복\n",
    "    - each : 입력값의 원소를 각각 여러번 반복"
   ]
  },
  {
   "cell_type": "code",
   "execution_count": 9,
   "metadata": {},
   "outputs": [
    {
     "data": {
      "text/html": [
       "<ol class=list-inline>\n",
       "\t<li>1</li>\n",
       "\t<li>1</li>\n",
       "\t<li>1</li>\n",
       "\t<li>1</li>\n",
       "\t<li>1</li>\n",
       "\t<li>1</li>\n",
       "\t<li>1</li>\n",
       "\t<li>1</li>\n",
       "\t<li>1</li>\n",
       "\t<li>1</li>\n",
       "</ol>\n"
      ],
      "text/latex": [
       "\\begin{enumerate*}\n",
       "\\item 1\n",
       "\\item 1\n",
       "\\item 1\n",
       "\\item 1\n",
       "\\item 1\n",
       "\\item 1\n",
       "\\item 1\n",
       "\\item 1\n",
       "\\item 1\n",
       "\\item 1\n",
       "\\end{enumerate*}\n"
      ],
      "text/markdown": [
       "1. 1\n",
       "2. 1\n",
       "3. 1\n",
       "4. 1\n",
       "5. 1\n",
       "6. 1\n",
       "7. 1\n",
       "8. 1\n",
       "9. 1\n",
       "10. 1\n",
       "\n",
       "\n"
      ],
      "text/plain": [
       " [1] 1 1 1 1 1 1 1 1 1 1"
      ]
     },
     "metadata": {},
     "output_type": "display_data"
    },
    {
     "data": {
      "text/html": [
       "<ol class=list-inline>\n",
       "\t<li>-10</li>\n",
       "\t<li>-9</li>\n",
       "\t<li>-8</li>\n",
       "\t<li>-7</li>\n",
       "\t<li>-6</li>\n",
       "\t<li>-5</li>\n",
       "\t<li>-4</li>\n",
       "\t<li>-3</li>\n",
       "\t<li>-2</li>\n",
       "\t<li>-1</li>\n",
       "\t<li>0</li>\n",
       "\t<li>1</li>\n",
       "\t<li>2</li>\n",
       "\t<li>3</li>\n",
       "\t<li>4</li>\n",
       "\t<li>5</li>\n",
       "\t<li>6</li>\n",
       "\t<li>7</li>\n",
       "\t<li>8</li>\n",
       "\t<li>9</li>\n",
       "\t<li>10</li>\n",
       "\t<li>-10</li>\n",
       "\t<li>-9</li>\n",
       "\t<li>-8</li>\n",
       "\t<li>-7</li>\n",
       "\t<li>-6</li>\n",
       "\t<li>-5</li>\n",
       "\t<li>-4</li>\n",
       "\t<li>-3</li>\n",
       "\t<li>-2</li>\n",
       "\t<li>-1</li>\n",
       "\t<li>0</li>\n",
       "\t<li>1</li>\n",
       "\t<li>2</li>\n",
       "\t<li>3</li>\n",
       "\t<li>4</li>\n",
       "\t<li>5</li>\n",
       "\t<li>6</li>\n",
       "\t<li>7</li>\n",
       "\t<li>8</li>\n",
       "\t<li>9</li>\n",
       "\t<li>10</li>\n",
       "</ol>\n"
      ],
      "text/latex": [
       "\\begin{enumerate*}\n",
       "\\item -10\n",
       "\\item -9\n",
       "\\item -8\n",
       "\\item -7\n",
       "\\item -6\n",
       "\\item -5\n",
       "\\item -4\n",
       "\\item -3\n",
       "\\item -2\n",
       "\\item -1\n",
       "\\item 0\n",
       "\\item 1\n",
       "\\item 2\n",
       "\\item 3\n",
       "\\item 4\n",
       "\\item 5\n",
       "\\item 6\n",
       "\\item 7\n",
       "\\item 8\n",
       "\\item 9\n",
       "\\item 10\n",
       "\\item -10\n",
       "\\item -9\n",
       "\\item -8\n",
       "\\item -7\n",
       "\\item -6\n",
       "\\item -5\n",
       "\\item -4\n",
       "\\item -3\n",
       "\\item -2\n",
       "\\item -1\n",
       "\\item 0\n",
       "\\item 1\n",
       "\\item 2\n",
       "\\item 3\n",
       "\\item 4\n",
       "\\item 5\n",
       "\\item 6\n",
       "\\item 7\n",
       "\\item 8\n",
       "\\item 9\n",
       "\\item 10\n",
       "\\end{enumerate*}\n"
      ],
      "text/markdown": [
       "1. -10\n",
       "2. -9\n",
       "3. -8\n",
       "4. -7\n",
       "5. -6\n",
       "6. -5\n",
       "7. -4\n",
       "8. -3\n",
       "9. -2\n",
       "10. -1\n",
       "11. 0\n",
       "12. 1\n",
       "13. 2\n",
       "14. 3\n",
       "15. 4\n",
       "16. 5\n",
       "17. 6\n",
       "18. 7\n",
       "19. 8\n",
       "20. 9\n",
       "21. 10\n",
       "22. -10\n",
       "23. -9\n",
       "24. -8\n",
       "25. -7\n",
       "26. -6\n",
       "27. -5\n",
       "28. -4\n",
       "29. -3\n",
       "30. -2\n",
       "31. -1\n",
       "32. 0\n",
       "33. 1\n",
       "34. 2\n",
       "35. 3\n",
       "36. 4\n",
       "37. 5\n",
       "38. 6\n",
       "39. 7\n",
       "40. 8\n",
       "41. 9\n",
       "42. 10\n",
       "\n",
       "\n"
      ],
      "text/plain": [
       " [1] -10  -9  -8  -7  -6  -5  -4  -3  -2  -1   0   1   2   3   4   5   6   7   8\n",
       "[20]   9  10 -10  -9  -8  -7  -6  -5  -4  -3  -2  -1   0   1   2   3   4   5   6\n",
       "[39]   7   8   9  10"
      ]
     },
     "metadata": {},
     "output_type": "display_data"
    },
    {
     "data": {
      "text/html": [
       "<ol class=list-inline>\n",
       "\t<li>-10</li>\n",
       "\t<li>-10</li>\n",
       "\t<li>-9</li>\n",
       "\t<li>-9</li>\n",
       "\t<li>-8</li>\n",
       "\t<li>-8</li>\n",
       "\t<li>-7</li>\n",
       "\t<li>-7</li>\n",
       "\t<li>-6</li>\n",
       "\t<li>-6</li>\n",
       "\t<li>-5</li>\n",
       "\t<li>-5</li>\n",
       "\t<li>-4</li>\n",
       "\t<li>-4</li>\n",
       "\t<li>-3</li>\n",
       "\t<li>-3</li>\n",
       "\t<li>-2</li>\n",
       "\t<li>-2</li>\n",
       "\t<li>-1</li>\n",
       "\t<li>-1</li>\n",
       "\t<li>0</li>\n",
       "\t<li>0</li>\n",
       "\t<li>1</li>\n",
       "\t<li>1</li>\n",
       "\t<li>2</li>\n",
       "\t<li>2</li>\n",
       "\t<li>3</li>\n",
       "\t<li>3</li>\n",
       "\t<li>4</li>\n",
       "\t<li>4</li>\n",
       "\t<li>5</li>\n",
       "\t<li>5</li>\n",
       "\t<li>6</li>\n",
       "\t<li>6</li>\n",
       "\t<li>7</li>\n",
       "\t<li>7</li>\n",
       "\t<li>8</li>\n",
       "\t<li>8</li>\n",
       "\t<li>9</li>\n",
       "\t<li>9</li>\n",
       "\t<li>10</li>\n",
       "\t<li>10</li>\n",
       "</ol>\n"
      ],
      "text/latex": [
       "\\begin{enumerate*}\n",
       "\\item -10\n",
       "\\item -10\n",
       "\\item -9\n",
       "\\item -9\n",
       "\\item -8\n",
       "\\item -8\n",
       "\\item -7\n",
       "\\item -7\n",
       "\\item -6\n",
       "\\item -6\n",
       "\\item -5\n",
       "\\item -5\n",
       "\\item -4\n",
       "\\item -4\n",
       "\\item -3\n",
       "\\item -3\n",
       "\\item -2\n",
       "\\item -2\n",
       "\\item -1\n",
       "\\item -1\n",
       "\\item 0\n",
       "\\item 0\n",
       "\\item 1\n",
       "\\item 1\n",
       "\\item 2\n",
       "\\item 2\n",
       "\\item 3\n",
       "\\item 3\n",
       "\\item 4\n",
       "\\item 4\n",
       "\\item 5\n",
       "\\item 5\n",
       "\\item 6\n",
       "\\item 6\n",
       "\\item 7\n",
       "\\item 7\n",
       "\\item 8\n",
       "\\item 8\n",
       "\\item 9\n",
       "\\item 9\n",
       "\\item 10\n",
       "\\item 10\n",
       "\\end{enumerate*}\n"
      ],
      "text/markdown": [
       "1. -10\n",
       "2. -10\n",
       "3. -9\n",
       "4. -9\n",
       "5. -8\n",
       "6. -8\n",
       "7. -7\n",
       "8. -7\n",
       "9. -6\n",
       "10. -6\n",
       "11. -5\n",
       "12. -5\n",
       "13. -4\n",
       "14. -4\n",
       "15. -3\n",
       "16. -3\n",
       "17. -2\n",
       "18. -2\n",
       "19. -1\n",
       "20. -1\n",
       "21. 0\n",
       "22. 0\n",
       "23. 1\n",
       "24. 1\n",
       "25. 2\n",
       "26. 2\n",
       "27. 3\n",
       "28. 3\n",
       "29. 4\n",
       "30. 4\n",
       "31. 5\n",
       "32. 5\n",
       "33. 6\n",
       "34. 6\n",
       "35. 7\n",
       "36. 7\n",
       "37. 8\n",
       "38. 8\n",
       "39. 9\n",
       "40. 9\n",
       "41. 10\n",
       "42. 10\n",
       "\n",
       "\n"
      ],
      "text/plain": [
       " [1] -10 -10  -9  -9  -8  -8  -7  -7  -6  -6  -5  -5  -4  -4  -3  -3  -2  -2  -1\n",
       "[20]  -1   0   0   1   1   2   2   3   3   4   4   5   5   6   6   7   7   8   8\n",
       "[39]   9   9  10  10"
      ]
     },
     "metadata": {},
     "output_type": "display_data"
    }
   ],
   "source": [
    "rep(1, time=10)  # 숫자 반복\n",
    "rep(-10:10, 2)  # 전체 2번 반복\n",
    "rep(-10:10, each=2)  # 원소 2번 반복"
   ]
  },
  {
   "cell_type": "markdown",
   "metadata": {},
   "source": [
    "4. 붙이기\n",
    "    - paste() : 매개변수까리 이어 붙이는 기능"
   ]
  },
  {
   "cell_type": "code",
   "execution_count": 10,
   "metadata": {},
   "outputs": [
    {
     "data": {
      "text/html": [
       "'l~o~n~g'"
      ],
      "text/latex": [
       "'l\\textasciitilde{}o\\textasciitilde{}n\\textasciitilde{}g'"
      ],
      "text/markdown": [
       "'l~o~n~g'"
      ],
      "text/plain": [
       "[1] \"l~o~n~g\""
      ]
     },
     "metadata": {},
     "output_type": "display_data"
    },
    {
     "data": {
      "text/html": [
       "<ol class=list-inline>\n",
       "\t<li>'l~o~n~g e'</li>\n",
       "\t<li>'l~o~n~g r'</li>\n",
       "\t<li><span style=white-space:pre-wrap>'l~o~n~g  '</span></li>\n",
       "</ol>\n"
      ],
      "text/latex": [
       "\\begin{enumerate*}\n",
       "\\item 'l\\textasciitilde{}o\\textasciitilde{}n\\textasciitilde{}g e'\n",
       "\\item 'l\\textasciitilde{}o\\textasciitilde{}n\\textasciitilde{}g r'\n",
       "\\item 'l\\textasciitilde{}o\\textasciitilde{}n\\textasciitilde{}g  '\n",
       "\\end{enumerate*}\n"
      ],
      "text/markdown": [
       "1. 'l~o~n~g e'\n",
       "2. 'l~o~n~g r'\n",
       "3. <span style=white-space:pre-wrap>'l~o~n~g  '</span>\n",
       "\n",
       "\n"
      ],
      "text/plain": [
       "[1] \"l~o~n~g e\" \"l~o~n~g r\" \"l~o~n~g  \""
      ]
     },
     "metadata": {},
     "output_type": "display_data"
    },
    {
     "data": {
      "text/html": [
       "'l~o~n~g~est'"
      ],
      "text/latex": [
       "'l\\textasciitilde{}o\\textasciitilde{}n\\textasciitilde{}g\\textasciitilde{}est'"
      ],
      "text/markdown": [
       "'l~o~n~g~est'"
      ],
      "text/plain": [
       "[1] \"l~o~n~g~est\""
      ]
     },
     "metadata": {},
     "output_type": "display_data"
    }
   ],
   "source": [
    "\n",
    "txt <- paste('l','o','n','g', sep='~')\n",
    "txt\n",
    "paste(txt, c('e','r', ' '))    # 입력한 문자를 각각 붙임\n",
    "paste(txt,'est', sep=\"~\")      # 입력한 문자를 붙임"
   ]
  },
  {
   "cell_type": "markdown",
   "metadata": {},
   "source": [
    "5. 문자 추출\n",
    "    - substr() : 원하는 부분의 문자를 추출"
   ]
  },
  {
   "cell_type": "code",
   "execution_count": 11,
   "metadata": {},
   "outputs": [
    {
     "data": {
      "text/html": [
       "'part'"
      ],
      "text/latex": [
       "'part'"
      ],
      "text/markdown": [
       "'part'"
      ],
      "text/plain": [
       "[1] \"part\""
      ]
     },
     "metadata": {},
     "output_type": "display_data"
    }
   ],
   "source": [
    "substr('partpartpartpartpart', 5,8)"
   ]
  },
  {
   "cell_type": "markdown",
   "metadata": {},
   "source": [
    "6. 논리값\n",
    "    - T만 적어도 TRUE로 인식, 꼭 대문자로 적어야 함.\n",
    "    - `&, |`은 and, `&&, ||` or을 의미."
   ]
  },
  {
   "cell_type": "code",
   "execution_count": 12,
   "metadata": {},
   "outputs": [
    {
     "name": "stdout",
     "output_type": "stream",
     "text": [
      "TRUE FALSE \n",
      "TRUE FALSE"
     ]
    }
   ],
   "source": [
    "right_1 <- T\n",
    "right_2 <- TRUE\n",
    "false_1 <- F\n",
    "false_2 <- FALSE\n",
    "\n",
    "cat(right_1 == right_2, right_1 != right_2, '\\n')\n",
    "cat(false_1 == false_2, false_1 != false_2)"
   ]
  },
  {
   "cell_type": "markdown",
   "metadata": {},
   "source": [
    "7. 원소 선택\n",
    "    - 변수[n] : 원소 선택, n은 원소의 위치 번호\n",
    "    - 변수[-n] : n위치의 원소를 제외한 자리수\n"
   ]
  },
  {
   "cell_type": "code",
   "execution_count": 13,
   "metadata": {},
   "outputs": [
    {
     "data": {
      "text/html": [
       "<ol class=list-inline>\n",
       "\t<li>1</li>\n",
       "\t<li>2</li>\n",
       "\t<li>3.5</li>\n",
       "\t<li>4.5</li>\n",
       "</ol>\n"
      ],
      "text/latex": [
       "\\begin{enumerate*}\n",
       "\\item 1\n",
       "\\item 2\n",
       "\\item 3.5\n",
       "\\item 4.5\n",
       "\\end{enumerate*}\n"
      ],
      "text/markdown": [
       "1. 1\n",
       "2. 2\n",
       "3. 3.5\n",
       "4. 4.5\n",
       "\n",
       "\n"
      ],
      "text/plain": [
       "[1] 1.0 2.0 3.5 4.5"
      ]
     },
     "metadata": {},
     "output_type": "display_data"
    },
    {
     "data": {
      "text/html": [
       "2"
      ],
      "text/latex": [
       "2"
      ],
      "text/markdown": [
       "2"
      ],
      "text/plain": [
       "[1] 2"
      ]
     },
     "metadata": {},
     "output_type": "display_data"
    },
    {
     "data": {
      "text/html": [
       "<ol class=list-inline>\n",
       "\t<li>1</li>\n",
       "\t<li>2</li>\n",
       "\t<li>4.5</li>\n",
       "</ol>\n"
      ],
      "text/latex": [
       "\\begin{enumerate*}\n",
       "\\item 1\n",
       "\\item 2\n",
       "\\item 4.5\n",
       "\\end{enumerate*}\n"
      ],
      "text/markdown": [
       "1. 1\n",
       "2. 2\n",
       "3. 4.5\n",
       "\n",
       "\n"
      ],
      "text/plain": [
       "[1] 1.0 2.0 4.5"
      ]
     },
     "metadata": {},
     "output_type": "display_data"
    }
   ],
   "source": [
    "num\n",
    "num[2]\n",
    "num[-3]"
   ]
  },
  {
   "cell_type": "markdown",
   "metadata": {},
   "source": [
    "----"
   ]
  },
  {
   "cell_type": "markdown",
   "metadata": {},
   "source": [
    "### 1_3. 벡터의 연산\n",
    "벡터 연산을 위해 제공하는 연산자를 알아본다."
   ]
  },
  {
   "cell_type": "markdown",
   "metadata": {},
   "source": [
    "1. ` $ `: 리스트를 인덱싱하는 연산자"
   ]
  },
  {
   "cell_type": "code",
   "execution_count": 14,
   "metadata": {},
   "outputs": [
    {
     "data": {
      "text/html": [
       "'hello'"
      ],
      "text/latex": [
       "'hello'"
      ],
      "text/markdown": [
       "'hello'"
      ],
      "text/plain": [
       "[1] \"hello\""
      ]
     },
     "metadata": {},
     "output_type": "display_data"
    }
   ],
   "source": [
    "a_list <- list('pi'=3.14, 'say'='hello', 'T'=TRUE)\n",
    "a_list$say"
   ]
  },
  {
   "cell_type": "markdown",
   "metadata": {},
   "source": [
    "2. 특수연산자, 어떤 문자라도 이항연산자로 해석\n",
    "    - `%%` : 나머지 연산자\n",
    "    - `%/%` : 정수 나눗셈\n",
    "    - `%*%` : 행렬 곱셈\n",
    "    - `%in%` : 왼쪽 피연산자가 오른쪽 피연산자에 나타나면 TRUE, 아니면 FALSE 반환"
   ]
  },
  {
   "cell_type": "code",
   "execution_count": 15,
   "metadata": {},
   "outputs": [
    {
     "data": {
      "text/html": [
       "<ol class=list-inline>\n",
       "\t<li>0</li>\n",
       "\t<li>1</li>\n",
       "\t<li>0</li>\n",
       "</ol>\n"
      ],
      "text/latex": [
       "\\begin{enumerate*}\n",
       "\\item 0\n",
       "\\item 1\n",
       "\\item 0\n",
       "\\end{enumerate*}\n"
      ],
      "text/markdown": [
       "1. 0\n",
       "2. 1\n",
       "3. 0\n",
       "\n",
       "\n"
      ],
      "text/plain": [
       "[1] 0 1 0"
      ]
     },
     "metadata": {},
     "output_type": "display_data"
    },
    {
     "data": {
      "text/html": [
       "<ol class=list-inline>\n",
       "\t<li>4</li>\n",
       "\t<li>2</li>\n",
       "\t<li>2</li>\n",
       "</ol>\n"
      ],
      "text/latex": [
       "\\begin{enumerate*}\n",
       "\\item 4\n",
       "\\item 2\n",
       "\\item 2\n",
       "\\end{enumerate*}\n"
      ],
      "text/markdown": [
       "1. 4\n",
       "2. 2\n",
       "3. 2\n",
       "\n",
       "\n"
      ],
      "text/plain": [
       "[1] 4 2 2"
      ]
     },
     "metadata": {},
     "output_type": "display_data"
    },
    {
     "data": {
      "text/html": [
       "<ol class=list-inline>\n",
       "\t<li>4</li>\n",
       "\t<li>10</li>\n",
       "\t<li>18</li>\n",
       "</ol>\n"
      ],
      "text/latex": [
       "\\begin{enumerate*}\n",
       "\\item 4\n",
       "\\item 10\n",
       "\\item 18\n",
       "\\end{enumerate*}\n"
      ],
      "text/markdown": [
       "1. 4\n",
       "2. 10\n",
       "3. 18\n",
       "\n",
       "\n"
      ],
      "text/plain": [
       "[1]  4 10 18"
      ]
     },
     "metadata": {},
     "output_type": "display_data"
    },
    {
     "data": {
      "text/html": [
       "<ol class=list-inline>\n",
       "\t<li>FALSE</li>\n",
       "\t<li>FALSE</li>\n",
       "\t<li>FALSE</li>\n",
       "</ol>\n"
      ],
      "text/latex": [
       "\\begin{enumerate*}\n",
       "\\item FALSE\n",
       "\\item FALSE\n",
       "\\item FALSE\n",
       "\\end{enumerate*}\n"
      ],
      "text/markdown": [
       "1. FALSE\n",
       "2. FALSE\n",
       "3. FALSE\n",
       "\n",
       "\n"
      ],
      "text/plain": [
       "[1] FALSE FALSE FALSE"
      ]
     },
     "metadata": {},
     "output_type": "display_data"
    }
   ],
   "source": [
    "a<-c(1,2,3)\n",
    "b<-c(4,5,6)\n",
    "b %% a   # 나머지\n",
    "b %/% a  # 몫\n",
    "a * b    # 행렬 곱셈\n",
    "a %in% b # 비교"
   ]
  },
  {
   "cell_type": "markdown",
   "metadata": {},
   "source": [
    "3. ` ~ `: 종속변수와 독립변수를 구분짓는 기호.\n",
    "    - `종속변수 ~ 독립변수` 형태로서 종속변수는 `행`, 독립변수는 `열`로 사용.\n",
    "    - 여러 변수를 연결할 때는 `+`를 사용"
   ]
  },
  {
   "cell_type": "code",
   "execution_count": 16,
   "metadata": {},
   "outputs": [
    {
     "data": {
      "text/html": [
       "<table>\n",
       "<thead><tr><th></th><th scope=col>mpg</th><th scope=col>cyl</th><th scope=col>disp</th><th scope=col>hp</th><th scope=col>drat</th><th scope=col>wt</th><th scope=col>qsec</th><th scope=col>vs</th><th scope=col>am</th><th scope=col>gear</th><th scope=col>carb</th></tr></thead>\n",
       "<tbody>\n",
       "\t<tr><th scope=row>Mazda RX4</th><td>21.0 </td><td>6    </td><td>160  </td><td>110  </td><td>3.90 </td><td>2.620</td><td>16.46</td><td>0    </td><td>1    </td><td>4    </td><td>4    </td></tr>\n",
       "\t<tr><th scope=row>Mazda RX4 Wag</th><td>21.0 </td><td>6    </td><td>160  </td><td>110  </td><td>3.90 </td><td>2.875</td><td>17.02</td><td>0    </td><td>1    </td><td>4    </td><td>4    </td></tr>\n",
       "\t<tr><th scope=row>Datsun 710</th><td>22.8 </td><td>4    </td><td>108  </td><td> 93  </td><td>3.85 </td><td>2.320</td><td>18.61</td><td>1    </td><td>1    </td><td>4    </td><td>1    </td></tr>\n",
       "\t<tr><th scope=row>Hornet 4 Drive</th><td>21.4 </td><td>6    </td><td>258  </td><td>110  </td><td>3.08 </td><td>3.215</td><td>19.44</td><td>1    </td><td>0    </td><td>3    </td><td>1    </td></tr>\n",
       "\t<tr><th scope=row>Hornet Sportabout</th><td>18.7 </td><td>8    </td><td>360  </td><td>175  </td><td>3.15 </td><td>3.440</td><td>17.02</td><td>0    </td><td>0    </td><td>3    </td><td>2    </td></tr>\n",
       "\t<tr><th scope=row>Valiant</th><td>18.1 </td><td>6    </td><td>225  </td><td>105  </td><td>2.76 </td><td>3.460</td><td>20.22</td><td>1    </td><td>0    </td><td>3    </td><td>1    </td></tr>\n",
       "</tbody>\n",
       "</table>\n"
      ],
      "text/latex": [
       "\\begin{tabular}{r|lllllllllll}\n",
       "  & mpg & cyl & disp & hp & drat & wt & qsec & vs & am & gear & carb\\\\\n",
       "\\hline\n",
       "\tMazda RX4 & 21.0  & 6     & 160   & 110   & 3.90  & 2.620 & 16.46 & 0     & 1     & 4     & 4    \\\\\n",
       "\tMazda RX4 Wag & 21.0  & 6     & 160   & 110   & 3.90  & 2.875 & 17.02 & 0     & 1     & 4     & 4    \\\\\n",
       "\tDatsun 710 & 22.8  & 4     & 108   &  93   & 3.85  & 2.320 & 18.61 & 1     & 1     & 4     & 1    \\\\\n",
       "\tHornet 4 Drive & 21.4  & 6     & 258   & 110   & 3.08  & 3.215 & 19.44 & 1     & 0     & 3     & 1    \\\\\n",
       "\tHornet Sportabout & 18.7  & 8     & 360   & 175   & 3.15  & 3.440 & 17.02 & 0     & 0     & 3     & 2    \\\\\n",
       "\tValiant & 18.1  & 6     & 225   & 105   & 2.76  & 3.460 & 20.22 & 1     & 0     & 3     & 1    \\\\\n",
       "\\end{tabular}\n"
      ],
      "text/markdown": [
       "\n",
       "| <!--/--> | mpg | cyl | disp | hp | drat | wt | qsec | vs | am | gear | carb | \n",
       "|---|---|---|---|---|---|\n",
       "| Mazda RX4 | 21.0  | 6     | 160   | 110   | 3.90  | 2.620 | 16.46 | 0     | 1     | 4     | 4     | \n",
       "| Mazda RX4 Wag | 21.0  | 6     | 160   | 110   | 3.90  | 2.875 | 17.02 | 0     | 1     | 4     | 4     | \n",
       "| Datsun 710 | 22.8  | 4     | 108   |  93   | 3.85  | 2.320 | 18.61 | 1     | 1     | 4     | 1     | \n",
       "| Hornet 4 Drive | 21.4  | 6     | 258   | 110   | 3.08  | 3.215 | 19.44 | 1     | 0     | 3     | 1     | \n",
       "| Hornet Sportabout | 18.7  | 8     | 360   | 175   | 3.15  | 3.440 | 17.02 | 0     | 0     | 3     | 2     | \n",
       "| Valiant | 18.1  | 6     | 225   | 105   | 2.76  | 3.460 | 20.22 | 1     | 0     | 3     | 1     | \n",
       "\n",
       "\n"
      ],
      "text/plain": [
       "                  mpg  cyl disp hp  drat wt    qsec  vs am gear carb\n",
       "Mazda RX4         21.0 6   160  110 3.90 2.620 16.46 0  1  4    4   \n",
       "Mazda RX4 Wag     21.0 6   160  110 3.90 2.875 17.02 0  1  4    4   \n",
       "Datsun 710        22.8 4   108   93 3.85 2.320 18.61 1  1  4    1   \n",
       "Hornet 4 Drive    21.4 6   258  110 3.08 3.215 19.44 1  0  3    1   \n",
       "Hornet Sportabout 18.7 8   360  175 3.15 3.440 17.02 0  0  3    2   \n",
       "Valiant           18.1 6   225  105 2.76 3.460 20.22 1  0  3    1   "
      ]
     },
     "metadata": {},
     "output_type": "display_data"
    },
    {
     "data": {
      "text/plain": [
       "\n",
       "Call:\n",
       "lm(formula = mpg ~ wt, data = mtcars)\n",
       "\n",
       "Coefficients:\n",
       "(Intercept)           wt  \n",
       "     37.285       -5.344  \n"
      ]
     },
     "metadata": {},
     "output_type": "display_data"
    }
   ],
   "source": [
    "head(mtcars)\n",
    "lm(mpg ~ wt, data = mtcars)"
   ]
  },
  {
   "cell_type": "code",
   "execution_count": 17,
   "metadata": {},
   "outputs": [
    {
     "data": {
      "text/plain": [
       "\n",
       "Call:\n",
       "lm(formula = mpg ~ wt + cyl, data = mtcars)\n",
       "\n",
       "Coefficients:\n",
       "(Intercept)           wt          cyl  \n",
       "     39.686       -3.191       -1.508  \n"
      ]
     },
     "metadata": {},
     "output_type": "display_data"
    }
   ],
   "source": [
    "# 독립변수를 wt와 cyl로 다중회귀 분석을 할 경우\n",
    "lm(mpg ~ wt + cyl, data = mtcars)"
   ]
  },
  {
   "cell_type": "code",
   "execution_count": 18,
   "metadata": {},
   "outputs": [
    {
     "data": {
      "text/plain": [
       "\n",
       "Call:\n",
       "lm(formula = mpg ~ cyl + disp + wt + qsec + vs + am + gear + \n",
       "    carb, data = mtcars)\n",
       "\n",
       "Coefficients:\n",
       "(Intercept)          cyl         disp           wt         qsec           vs  \n",
       "  15.558405    -0.475210     0.004802    -3.425529     0.887983    -0.240429  \n",
       "         am         gear         carb  \n",
       "   2.602821     0.580885    -0.554057  \n"
      ]
     },
     "metadata": {},
     "output_type": "display_data"
    }
   ],
   "source": [
    "# 종속변수를 설명할 수 있는 독립변수들이 모두 포진되어 있는 경우\n",
    "# 독립변수들을 모두 고려한 다중회귀 적합을 할 경우\n",
    "lm(mpg ~ cyl + disp + wt + qsec + vs + am + gear + carb, data = mtcars)"
   ]
  },
  {
   "cell_type": "code",
   "execution_count": 19,
   "metadata": {},
   "outputs": [
    {
     "data": {
      "text/plain": [
       "\n",
       "Call:\n",
       "lm(formula = mpg ~ ., data = mtcars)\n",
       "\n",
       "Coefficients:\n",
       "(Intercept)          cyl         disp           hp         drat           wt  \n",
       "   12.30337     -0.11144      0.01334     -0.02148      0.78711     -3.71530  \n",
       "       qsec           vs           am         gear         carb  \n",
       "    0.82104      0.31776      2.52023      0.65541     -0.19942  \n"
      ]
     },
     "metadata": {},
     "output_type": "display_data"
    }
   ],
   "source": [
    "# 위의 식을 .기호(=전부)로 한번에 작성 가능\n",
    "lm(mpg ~ . ,data = mtcars)"
   ]
  },
  {
   "cell_type": "code",
   "execution_count": 20,
   "metadata": {},
   "outputs": [
    {
     "data": {
      "text/plain": [
       "\n",
       "Call:\n",
       "lm(formula = mpg ~ wt + cyl + wt:cyl, data = mtcars)\n",
       "\n",
       "Coefficients:\n",
       "(Intercept)           wt          cyl       wt:cyl  \n",
       "    54.3068      -8.6556      -3.8032       0.8084  \n"
      ]
     },
     "metadata": {},
     "output_type": "display_data"
    },
    {
     "data": {
      "text/plain": [
       "\n",
       "Call:\n",
       "lm(formula = mpg ~ wt * cyl * gear, data = mtcars)\n",
       "\n",
       "Coefficients:\n",
       "(Intercept)           wt          cyl         gear       wt:cyl      wt:gear  \n",
       "    47.3853     -10.4502      -0.8957       2.2704       0.5459       0.3527  \n",
       "   cyl:gear  wt:cyl:gear  \n",
       "    -0.8794       0.1001  \n"
      ]
     },
     "metadata": {},
     "output_type": "display_data"
    }
   ],
   "source": [
    "# : 기호로 상호작용 파악 가능\n",
    "# * 기호 모든 조합에 대한 상포작용을 계산\n",
    "lm(mpg ~ wt + cyl + wt:cyl, data = mtcars)\n",
    "lm(mpg ~ wt * cyl * gear, data=mtcars)"
   ]
  },
  {
   "cell_type": "code",
   "execution_count": null,
   "metadata": {},
   "outputs": [],
   "source": []
  },
  {
   "cell_type": "markdown",
   "metadata": {},
   "source": [
    "----"
   ]
  },
  {
   "cell_type": "markdown",
   "metadata": {},
   "source": [
    "### 1_4. 기초 통계\n",
    "벡터를 활용한 기초적인 통계 함수를 알아보자.\n",
    "1. `mean(), sum()` : 각각 평균과 합계\n",
    "2. `median()` : 중앙값 산출\n",
    "3. `log(), log(10, base=2)` : 입력값의 자연로그를 계산, 밑이 2인 로그\n",
    "4. `sd(), var()` : 각각 표준편차와 분산 계산\n",
    "5. `cov(변수1, 변수2), cor(변수1, 변수2)` : 각각 공분산과 상관계수 계산\n",
    "6. `length()` : 입력 변수의 길이 반환"
   ]
  },
  {
   "cell_type": "markdown",
   "metadata": {},
   "source": [
    "-----"
   ]
  },
  {
   "cell_type": "markdown",
   "metadata": {},
   "source": [
    "두 변수간의 선형적 관계를 **[상관 Correlation]**이라고 하고, 이러한 관계에 대한 분석을 **[상관분석 Correlation Analysis]**라고 함."
   ]
  },
  {
   "cell_type": "code",
   "execution_count": 21,
   "metadata": {},
   "outputs": [],
   "source": [
    "# 상관분석과 회귀분석의 예제\n",
    "# Correlation analysis, Regression analysis\n",
    "# 놀이동산에 대한 만족도 조사 : 주말이용여부, 동반자녀수, 거리, 만족도, 대기시간 등..\n",
    "df <- read.csv(\"http://goo.gl/HKnl74\")"
   ]
  },
  {
   "cell_type": "code",
   "execution_count": 22,
   "metadata": {},
   "outputs": [
    {
     "data": {
      "text/html": [
       "<table>\n",
       "<thead><tr><th scope=col>weekend</th><th scope=col>num.child</th><th scope=col>distance</th><th scope=col>rides</th><th scope=col>games</th><th scope=col>wait</th><th scope=col>clean</th><th scope=col>overall</th></tr></thead>\n",
       "<tbody>\n",
       "\t<tr><td>yes      </td><td>0        </td><td>114.64826</td><td>87       </td><td>73       </td><td>60       </td><td>89       </td><td>47       </td></tr>\n",
       "\t<tr><td>yes      </td><td>2        </td><td> 27.01410</td><td>87       </td><td>78       </td><td>76       </td><td>87       </td><td>65       </td></tr>\n",
       "\t<tr><td>no       </td><td>1        </td><td> 63.30098</td><td>85       </td><td>80       </td><td>70       </td><td>88       </td><td>61       </td></tr>\n",
       "\t<tr><td>yes      </td><td>0        </td><td> 25.90993</td><td>88       </td><td>72       </td><td>66       </td><td>89       </td><td>37       </td></tr>\n",
       "\t<tr><td>no       </td><td>4        </td><td> 54.71831</td><td>84       </td><td>87       </td><td>74       </td><td>87       </td><td>68       </td></tr>\n",
       "\t<tr><td>no       </td><td>5        </td><td> 22.67934</td><td>81       </td><td>79       </td><td>48       </td><td>79       </td><td>27       </td></tr>\n",
       "</tbody>\n",
       "</table>\n"
      ],
      "text/latex": [
       "\\begin{tabular}{r|llllllll}\n",
       " weekend & num.child & distance & rides & games & wait & clean & overall\\\\\n",
       "\\hline\n",
       "\t yes       & 0         & 114.64826 & 87        & 73        & 60        & 89        & 47       \\\\\n",
       "\t yes       & 2         &  27.01410 & 87        & 78        & 76        & 87        & 65       \\\\\n",
       "\t no        & 1         &  63.30098 & 85        & 80        & 70        & 88        & 61       \\\\\n",
       "\t yes       & 0         &  25.90993 & 88        & 72        & 66        & 89        & 37       \\\\\n",
       "\t no        & 4         &  54.71831 & 84        & 87        & 74        & 87        & 68       \\\\\n",
       "\t no        & 5         &  22.67934 & 81        & 79        & 48        & 79        & 27       \\\\\n",
       "\\end{tabular}\n"
      ],
      "text/markdown": [
       "\n",
       "weekend | num.child | distance | rides | games | wait | clean | overall | \n",
       "|---|---|---|---|---|---|\n",
       "| yes       | 0         | 114.64826 | 87        | 73        | 60        | 89        | 47        | \n",
       "| yes       | 2         |  27.01410 | 87        | 78        | 76        | 87        | 65        | \n",
       "| no        | 1         |  63.30098 | 85        | 80        | 70        | 88        | 61        | \n",
       "| yes       | 0         |  25.90993 | 88        | 72        | 66        | 89        | 37        | \n",
       "| no        | 4         |  54.71831 | 84        | 87        | 74        | 87        | 68        | \n",
       "| no        | 5         |  22.67934 | 81        | 79        | 48        | 79        | 27        | \n",
       "\n",
       "\n"
      ],
      "text/plain": [
       "  weekend num.child distance  rides games wait clean overall\n",
       "1 yes     0         114.64826 87    73    60   89    47     \n",
       "2 yes     2          27.01410 87    78    76   87    65     \n",
       "3 no      1          63.30098 85    80    70   88    61     \n",
       "4 yes     0          25.90993 88    72    66   89    37     \n",
       "5 no      4          54.71831 84    87    74   87    68     \n",
       "6 no      5          22.67934 81    79    48   79    27     "
      ]
     },
     "metadata": {},
     "output_type": "display_data"
    }
   ],
   "source": [
    "# 데이터 확인\n",
    "head(df)"
   ]
  },
  {
   "cell_type": "code",
   "execution_count": 23,
   "metadata": {},
   "outputs": [
    {
     "data": {
      "text/html": [
       "<dl class=dl-horizontal>\n",
       "\t<dt>weekend</dt>\n",
       "\t\t<dd>0</dd>\n",
       "\t<dt>num.child</dt>\n",
       "\t\t<dd>0</dd>\n",
       "\t<dt>distance</dt>\n",
       "\t\t<dd>0</dd>\n",
       "\t<dt>rides</dt>\n",
       "\t\t<dd>0</dd>\n",
       "\t<dt>games</dt>\n",
       "\t\t<dd>0</dd>\n",
       "\t<dt>wait</dt>\n",
       "\t\t<dd>0</dd>\n",
       "\t<dt>clean</dt>\n",
       "\t\t<dd>0</dd>\n",
       "\t<dt>overall</dt>\n",
       "\t\t<dd>0</dd>\n",
       "</dl>\n"
      ],
      "text/latex": [
       "\\begin{description*}\n",
       "\\item[weekend] 0\n",
       "\\item[num.child] 0\n",
       "\\item[distance] 0\n",
       "\\item[rides] 0\n",
       "\\item[games] 0\n",
       "\\item[wait] 0\n",
       "\\item[clean] 0\n",
       "\\item[overall] 0\n",
       "\\end{description*}\n"
      ],
      "text/markdown": [
       "weekend\n",
       ":   0num.child\n",
       ":   0distance\n",
       ":   0rides\n",
       ":   0games\n",
       ":   0wait\n",
       ":   0clean\n",
       ":   0overall\n",
       ":   0\n",
       "\n"
      ],
      "text/plain": [
       "  weekend num.child  distance     rides     games      wait     clean   overall \n",
       "        0         0         0         0         0         0         0         0 "
      ]
     },
     "metadata": {},
     "output_type": "display_data"
    }
   ],
   "source": [
    "# NA값 처리\n",
    "colSums(is.na(df))  # 분석 결과 결측값 없음"
   ]
  },
  {
   "cell_type": "markdown",
   "metadata": {},
   "source": [
    "- 놀이기구 만족도(rides)와 전체만족도(overall) 간의 관계 분석\n",
    "- 놀이기구에 대한 만족도가 높으면 전체 만족도가 높을 것으로 예상하고 [산점도 Scatterplot]을 그림\n",
    "- [산점도 Scatterplot] : 직교 좌표계를 이용해 두 개의 변수간의 관계를 나타내는 방법\n",
    "- 그래프 분석 결과 양의 상관 관계를 이루고 있음."
   ]
  },
  {
   "cell_type": "code",
   "execution_count": 57,
   "metadata": {},
   "outputs": [
    {
     "data": {
      "image/png": "[encoded data removed]",
      "text/plain": [
       "Plot with title \"Overrall~Ries\""
      ]
     },
     "metadata": {},
     "output_type": "display_data"
    }
   ],
   "source": [
    "# 좀 더 보기 편하게 변경\n",
    "# cex : 점의 크기, pch : 점의 형태 \n",
    "attach(df)\n",
    "plot(overall ~ rides, main=\"Overrall~Ries\", \n",
    "     xlab=\"Satisfaction with Rides\", ylab=\"Overall satisfaction\",\n",
    "     xlim=c(70,105),ylim=c(0,105),\n",
    "     cex=1.5, pch=16, col=\"red\")"
   ]
  },
  {
   "cell_type": "markdown",
   "metadata": {},
   "source": [
    "##### [공분산 Corvariance] 및 [상관계수 Corralation Coefficient]\n",
    "\n",
    "산점도를 이용해 두 변수간의 관계를 파악할 순 있지만, 두 변수 사잉의 관계를 숫자로 정확하 알 수 없디 때문에 **공분산**과 **상관계수**를 이용한다.\n",
    "- `cov()` : 공분산 계산. 2개의 확률변수의 상관정도를 나타냄. 하나가 상승하면 다른 값의 공분산은 양수, 반대는 음수.\n",
    "- `cor()` : 상관계수 공분산의 구한 경향이 어느 정도인지 계산. -1~1사이의 값이며 0이면 상관관계가 없음."
   ]
  },
  {
   "cell_type": "code",
   "execution_count": 59,
   "metadata": {},
   "outputs": [
    {
     "data": {
      "text/html": [
       "50.8293907815631"
      ],
      "text/latex": [
       "50.8293907815631"
      ],
      "text/markdown": [
       "50.8293907815631"
      ],
      "text/plain": [
       "[1] 50.82939"
      ]
     },
     "metadata": {},
     "output_type": "display_data"
    }
   ],
   "source": [
    "# 공분산 계산\n",
    "# 결과값이 50이 나오며, 두 변수 간의 상관관계는 상승하는 경향이 있다고 이해.\n",
    "cov(overall, rides)"
   ]
  },
  {
   "cell_type": "code",
   "execution_count": 62,
   "metadata": {},
   "outputs": [
    {
     "data": {
      "text/html": [
       "0.585986282003428"
      ],
      "text/latex": [
       "0.585986282003428"
      ],
      "text/markdown": [
       "0.585986282003428"
      ],
      "text/plain": [
       "[1] 0.5859863"
      ]
     },
     "metadata": {},
     "output_type": "display_data"
    }
   ],
   "source": [
    "# 상관계수 계산\n",
    "# use=\"complete.obs\" : 결측값을 모두 제거\n",
    "# method=\"pearson\" : 피어슨 상관계수를 지정\n",
    "# 0.5는 뚜렷한 상관관계가, 0.7이상이면 강한 양적 선형관계\n",
    "cor(overall, rides, use=\"complete.obs\", method=\"pearson\")"
   ]
  },
  {
   "cell_type": "markdown",
   "metadata": {},
   "source": [
    "상관계수를 검정할 때는 `cor.test()`함수를 사용한다. **귀무가설 \"상관관계가 없다\"**에 대한 검정 결과 ` p-value < 2.2e-16`가 나왔으므로 귀무가설을 기각할 수 있다. 그외 검정통계량의 값(t = 16.138), 95% 신뢰구간(95 percent confidence interval:0.5252879 0.6407515)등을 확인 가능하다."
   ]
  },
  {
   "cell_type": "code",
   "execution_count": 63,
   "metadata": {},
   "outputs": [
    {
     "data": {
      "text/plain": [
       "\n",
       "\tPearson's product-moment correlation\n",
       "\n",
       "data:  overall and rides\n",
       "t = 16.138, df = 498, p-value < 2.2e-16\n",
       "alternative hypothesis: true correlation is not equal to 0\n",
       "95 percent confidence interval:\n",
       " 0.5252879 0.6407515\n",
       "sample estimates:\n",
       "      cor \n",
       "0.5859863 \n"
      ]
     },
     "metadata": {},
     "output_type": "display_data"
    }
   ],
   "source": [
    "# 상관계수의 검정\n",
    "cor.test(overall, rides)"
   ]
  },
  {
   "cell_type": "markdown",
   "metadata": {},
   "source": [
    "이번에는 다양한 변수들을 통해 상관관계를 한 눈에 파악해본다."
   ]
  },
  {
   "cell_type": "code",
   "execution_count": 64,
   "metadata": {},
   "outputs": [
    {
     "data": {
      "image/png": "[encoded data removed]",
      "text/plain": [
       "plot without title"
      ]
     },
     "metadata": {},
     "output_type": "display_data"
    }
   ],
   "source": [
    "# 전체 만족도, 놀이기구 만족도, 게임 만족도, 대기시간 만족도, 청결상태 만족도\n",
    "plot(df[4:8])"
   ]
  },
  {
   "cell_type": "code",
   "execution_count": 69,
   "metadata": {},
   "outputs": [
    {
     "name": "stderr",
     "output_type": "stream",
     "text": [
      "corrplot 0.84 loaded\n"
     ]
    },
    {
     "data": {
      "text/html": [
       "<table>\n",
       "<thead><tr><th></th><th scope=col>rides</th><th scope=col>games</th><th scope=col>wait</th><th scope=col>clean</th><th scope=col>overall</th></tr></thead>\n",
       "<tbody>\n",
       "\t<tr><th scope=row>rides</th><td>1.0000000</td><td>0.4551851</td><td>0.3141995</td><td>0.7895651</td><td>0.5859863</td></tr>\n",
       "\t<tr><th scope=row>games</th><td>0.4551851</td><td>1.0000000</td><td>0.2991050</td><td>0.5169799</td><td>0.4374679</td></tr>\n",
       "\t<tr><th scope=row>wait</th><td>0.3141995</td><td>0.2991050</td><td>1.0000000</td><td>0.3678847</td><td>0.5726217</td></tr>\n",
       "\t<tr><th scope=row>clean</th><td>0.7895651</td><td>0.5169799</td><td>0.3678847</td><td>1.0000000</td><td>0.6393982</td></tr>\n",
       "\t<tr><th scope=row>overall</th><td>0.5859863</td><td>0.4374679</td><td>0.5726217</td><td>0.6393982</td><td>1.0000000</td></tr>\n",
       "</tbody>\n",
       "</table>\n"
      ],
      "text/latex": [
       "\\begin{tabular}{r|lllll}\n",
       "  & rides & games & wait & clean & overall\\\\\n",
       "\\hline\n",
       "\trides & 1.0000000 & 0.4551851 & 0.3141995 & 0.7895651 & 0.5859863\\\\\n",
       "\tgames & 0.4551851 & 1.0000000 & 0.2991050 & 0.5169799 & 0.4374679\\\\\n",
       "\twait & 0.3141995 & 0.2991050 & 1.0000000 & 0.3678847 & 0.5726217\\\\\n",
       "\tclean & 0.7895651 & 0.5169799 & 0.3678847 & 1.0000000 & 0.6393982\\\\\n",
       "\toverall & 0.5859863 & 0.4374679 & 0.5726217 & 0.6393982 & 1.0000000\\\\\n",
       "\\end{tabular}\n"
      ],
      "text/markdown": [
       "\n",
       "| <!--/--> | rides | games | wait | clean | overall | \n",
       "|---|---|---|---|---|\n",
       "| rides | 1.0000000 | 0.4551851 | 0.3141995 | 0.7895651 | 0.5859863 | \n",
       "| games | 0.4551851 | 1.0000000 | 0.2991050 | 0.5169799 | 0.4374679 | \n",
       "| wait | 0.3141995 | 0.2991050 | 1.0000000 | 0.3678847 | 0.5726217 | \n",
       "| clean | 0.7895651 | 0.5169799 | 0.3678847 | 1.0000000 | 0.6393982 | \n",
       "| overall | 0.5859863 | 0.4374679 | 0.5726217 | 0.6393982 | 1.0000000 | \n",
       "\n",
       "\n"
      ],
      "text/plain": [
       "        rides     games     wait      clean     overall  \n",
       "rides   1.0000000 0.4551851 0.3141995 0.7895651 0.5859863\n",
       "games   0.4551851 1.0000000 0.2991050 0.5169799 0.4374679\n",
       "wait    0.3141995 0.2991050 1.0000000 0.3678847 0.5726217\n",
       "clean   0.7895651 0.5169799 0.3678847 1.0000000 0.6393982\n",
       "overall 0.5859863 0.4374679 0.5726217 0.6393982 1.0000000"
      ]
     },
     "metadata": {},
     "output_type": "display_data"
    }
   ],
   "source": [
    "# cor() 함수를 통해 상관계수를 계산\n",
    "# corrplot이 없으면 설치 : install.packages(\"corrplot\")\n",
    "library(corrplot)\n",
    "cor(df[4:8])"
   ]
  },
  {
   "cell_type": "code",
   "execution_count": 71,
   "metadata": {},
   "outputs": [
    {
     "data": {
      "image/png": "[encoded data removed]",
      "text/plain": [
       "Plot with title \"\""
      ]
     },
     "metadata": {},
     "output_type": "display_data"
    }
   ],
   "source": [
    "X <- cor(df[4:8])\n",
    "corrplot(X)"
   ]
  },
  {
   "cell_type": "markdown",
   "metadata": {},
   "source": [
    "----"
   ]
  }
 ],
 "metadata": {
  "kernelspec": {
   "display_name": "R 3.3",
   "language": "R",
   "name": "ir33"
  },
  "language_info": {
   "codemirror_mode": "r",
   "file_extension": ".r",
   "mimetype": "text/x-r-source",
   "name": "R",
   "pygments_lexer": "r",
   "version": "3.5.1"
  }
 },
 "nbformat": 4,
 "nbformat_minor": 2
}
