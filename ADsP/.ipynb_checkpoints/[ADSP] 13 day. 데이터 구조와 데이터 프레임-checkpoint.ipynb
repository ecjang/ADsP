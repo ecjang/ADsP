{
 "cells": [
  {
   "cell_type": "markdown",
   "metadata": {},
   "source": [
    "<h1><center>4절. 데이터 구조 & 데이터 프레임 2</center></h1>"
   ]
  },
  {
   "cell_type": "markdown",
   "metadata": {},
   "source": [
    "## 1. [Vector 벡터]\n",
    "\n",
    "### 1_1. 벡터\n",
    "1. **[Homogenous 동질적]** : 모든 원소는 같은 자료형 또는 모드.\n",
    "1. 위치로 인덱스, 하위벡터 생성 가능, 원소들은 이름을 가질 수 있음."
   ]
  },
  {
   "cell_type": "code",
   "execution_count": 9,
   "metadata": {},
   "outputs": [
    {
     "data": {
      "text/html": [
       "<strong>ten:</strong> 10"
      ],
      "text/latex": [
       "\\textbf{ten:} 10"
      ],
      "text/markdown": [
       "**ten:** 10"
      ],
      "text/plain": [
       "ten \n",
       " 10 "
      ]
     },
     "metadata": {},
     "output_type": "display_data"
    },
    {
     "data": {
      "text/html": [
       "<strong>twenty:</strong> 20"
      ],
      "text/latex": [
       "\\textbf{twenty:} 20"
      ],
      "text/markdown": [
       "**twenty:** 20"
      ],
      "text/plain": [
       "twenty \n",
       "    20 "
      ]
     },
     "metadata": {},
     "output_type": "display_data"
    }
   ],
   "source": [
    "V <- c(10,20,30); names(V) <- c('ten', 'twenty', 'thrity')\n",
    "V[1]; V['twenty']"
   ]
  }
 ],
 "metadata": {
  "kernelspec": {
   "display_name": "R 3.3",
   "language": "R",
   "name": "ir33"
  },
  "language_info": {
   "codemirror_mode": "r",
   "file_extension": ".r",
   "mimetype": "text/x-r-source",
   "name": "R",
   "pygments_lexer": "r",
   "version": "3.5.1"
  }
 },
 "nbformat": 4,
 "nbformat_minor": 2
}
