{
 "cells": [
  {
   "cell_type": "markdown",
   "metadata": {},
   "source": [
    "<h1><center>4절. 데이터 구조 & 데이터 프레임 2</center></h1>"
   ]
  },
  {
   "cell_type": "markdown",
   "metadata": {},
   "source": [
    "## 6. 벡터, 리스트, 행렬 다루기\n",
    "### 6_1 관련 기능들\n",
    "행렬은 차원을 가진 벡터이다. 빈값을 자동을 채워서 계산하는 [Recycling Rule 재활용 규칙]이 적용된다."
   ]
  },
  {
   "cell_type": "markdown",
   "metadata": {},
   "source": [
    "## 1. [Vector 벡터]\n",
    "\n",
    "### 1_1. 벡터\n",
    "1. **[Homogenous 동질적]** : 모든 원소는 같은 자료형 또는 모드.\n",
    "1. 위치로 인덱스, 하위벡터 생성 가능, 원소들은 이름을 가질 수 있음."
   ]
  },
  {
   "cell_type": "code",
   "execution_count": 13,
   "metadata": {},
   "outputs": [
    {
     "data": {
      "text/html": [
       "<table>\n",
       "<thead><tr><th scope=col>a</th><th scope=col>b</th><th scope=col>c</th><th scope=col>d</th></tr></thead>\n",
       "<tbody>\n",
       "\t<tr><td>1</td><td>1</td><td>3</td><td>a</td></tr>\n",
       "</tbody>\n",
       "</table>\n"
      ],
      "text/latex": [
       "\\begin{tabular}{r|llll}\n",
       " a & b & c & d\\\\\n",
       "\\hline\n",
       "\t 1 & 1 & 3 & a\\\\\n",
       "\\end{tabular}\n"
      ],
      "text/markdown": [
       "\n",
       "a | b | c | d | \n",
       "|---|\n",
       "| 1 | 1 | 3 | a | \n",
       "\n",
       "\n"
      ],
      "text/plain": [
       "  a b c d\n",
       "1 1 1 3 a"
      ]
     },
     "metadata": {},
     "output_type": "display_data"
    }
   ],
   "source": [
    "# 데이터 프레임 생성\n",
    "df <- data.frame(a=1, b=1, c=3, d=\"a\"); df"
   ]
  },
  {
   "cell_type": "code",
   "execution_count": 39,
   "metadata": {},
   "outputs": [
    {
     "data": {
      "text/html": [
       "<table>\n",
       "<thead><tr><th scope=col>v_num</th><th scope=col>v_eng</th><th scope=col>v_kor</th></tr></thead>\n",
       "<tbody>\n",
       "\t<tr><td>1 </td><td>A </td><td>가</td></tr>\n",
       "\t<tr><td>2 </td><td>B </td><td>나</td></tr>\n",
       "\t<tr><td>3 </td><td>C </td><td>다</td></tr>\n",
       "\t<tr><td>4 </td><td>D </td><td>라</td></tr>\n",
       "</tbody>\n",
       "</table>\n"
      ],
      "text/latex": [
       "\\begin{tabular}{r|lll}\n",
       " v\\_num & v\\_eng & v\\_kor\\\\\n",
       "\\hline\n",
       "\t 1  & A  & 가\\\\\n",
       "\t 2  & B  & 나\\\\\n",
       "\t 3  & C  & 다\\\\\n",
       "\t 4  & D  & 라\\\\\n",
       "\\end{tabular}\n"
      ],
      "text/markdown": [
       "\n",
       "v_num | v_eng | v_kor | \n",
       "|---|---|---|---|\n",
       "| 1  | A  | 가 | \n",
       "| 2  | B  | 나 | \n",
       "| 3  | C  | 다 | \n",
       "| 4  | D  | 라 | \n",
       "\n",
       "\n"
      ],
      "text/plain": [
       "  v_num v_eng v_kor\n",
       "1 1     A     가   \n",
       "2 2     B     나   \n",
       "3 3     C     다   \n",
       "4 4     D     라   "
      ]
     },
     "metadata": {},
     "output_type": "display_data"
    }
   ],
   "source": [
    "# 리스트로 데이터 프레임 생성\n",
    "v_num <- c(1,2,3,4)\n",
    "v_eng <- c('A', 'B', 'C', 'D')\n",
    "v_kor <- c('가', '나', '다', '라')\n",
    "df2 <- data.frame(v_num, v_eng, v_kor); df2"
   ]
  },
  {
   "cell_type": "code",
   "execution_count": 40,
   "metadata": {},
   "outputs": [
    {
     "name": "stdout",
     "output_type": "stream",
     "text": [
      "'data.frame':\t4 obs. of  3 variables:\n",
      " $ v_num: num  1 2 3 4\n",
      " $ v_eng: Factor w/ 4 levels \"A\",\"B\",\"C\",\"D\": 1 2 3 4\n",
      " $ v_kor: Factor w/ 4 levels \"가\",\"나\",\"다\",..: 1 2 3 4\n"
     ]
    }
   ],
   "source": [
    "# 데이터 프레임 구조 확인\n",
    "str(df2)"
   ]
  },
  {
   "cell_type": "code",
   "execution_count": 58,
   "metadata": {},
   "outputs": [
    {
     "name": "stdout",
     "output_type": "stream",
     "text": [
      "[1] \"cbind() : 열결합\"\n"
     ]
    },
    {
     "data": {
      "text/html": [
       "<table>\n",
       "<thead><tr><th scope=col>v_num</th><th scope=col>v_eng</th><th scope=col>v_kor</th><th scope=col>Xs</th></tr></thead>\n",
       "<tbody>\n",
       "\t<tr><td>1 </td><td>A </td><td>가</td><td>X1</td></tr>\n",
       "\t<tr><td>2 </td><td>B </td><td>나</td><td>X2</td></tr>\n",
       "\t<tr><td>3 </td><td>C </td><td>다</td><td>X3</td></tr>\n",
       "\t<tr><td>4 </td><td>D </td><td>라</td><td>X4</td></tr>\n",
       "</tbody>\n",
       "</table>\n"
      ],
      "text/latex": [
       "\\begin{tabular}{r|llll}\n",
       " v\\_num & v\\_eng & v\\_kor & Xs\\\\\n",
       "\\hline\n",
       "\t 1  & A  & 가 & X1\\\\\n",
       "\t 2  & B  & 나 & X2\\\\\n",
       "\t 3  & C  & 다 & X3\\\\\n",
       "\t 4  & D  & 라 & X4\\\\\n",
       "\\end{tabular}\n"
      ],
      "text/markdown": [
       "\n",
       "v_num | v_eng | v_kor | Xs | \n",
       "|---|---|---|---|\n",
       "| 1  | A  | 가 | X1 | \n",
       "| 2  | B  | 나 | X2 | \n",
       "| 3  | C  | 다 | X3 | \n",
       "| 4  | D  | 라 | X4 | \n",
       "\n",
       "\n"
      ],
      "text/plain": [
       "  v_num v_eng v_kor Xs\n",
       "1 1     A     가    X1\n",
       "2 2     B     나    X2\n",
       "3 3     C     다    X3\n",
       "4 4     D     라    X4"
      ]
     },
     "metadata": {},
     "output_type": "display_data"
    },
    {
     "name": "stdout",
     "output_type": "stream",
     "text": [
      "[1] \"rbind() : 행결합\"\n"
     ]
    },
    {
     "data": {
      "text/html": [
       "<table>\n",
       "<thead><tr><th scope=col>v_num</th><th scope=col>v_eng</th><th scope=col>v_kor</th></tr></thead>\n",
       "<tbody>\n",
       "\t<tr><td>1 </td><td>A </td><td>가</td></tr>\n",
       "\t<tr><td>2 </td><td>B </td><td>나</td></tr>\n",
       "\t<tr><td>3 </td><td>C </td><td>다</td></tr>\n",
       "\t<tr><td>4 </td><td>D </td><td>라</td></tr>\n",
       "\t<tr><td>5 </td><td>E </td><td>마</td></tr>\n",
       "\t<tr><td>6 </td><td>F </td><td>바</td></tr>\n",
       "</tbody>\n",
       "</table>\n"
      ],
      "text/latex": [
       "\\begin{tabular}{r|lll}\n",
       " v\\_num & v\\_eng & v\\_kor\\\\\n",
       "\\hline\n",
       "\t 1  & A  & 가\\\\\n",
       "\t 2  & B  & 나\\\\\n",
       "\t 3  & C  & 다\\\\\n",
       "\t 4  & D  & 라\\\\\n",
       "\t 5  & E  & 마\\\\\n",
       "\t 6  & F  & 바\\\\\n",
       "\\end{tabular}\n"
      ],
      "text/markdown": [
       "\n",
       "v_num | v_eng | v_kor | \n",
       "|---|---|---|---|---|---|\n",
       "| 1  | A  | 가 | \n",
       "| 2  | B  | 나 | \n",
       "| 3  | C  | 다 | \n",
       "| 4  | D  | 라 | \n",
       "| 5  | E  | 마 | \n",
       "| 6  | F  | 바 | \n",
       "\n",
       "\n"
      ],
      "text/plain": [
       "  v_num v_eng v_kor\n",
       "1 1     A     가   \n",
       "2 2     B     나   \n",
       "3 3     C     다   \n",
       "4 4     D     라   \n",
       "5 5     E     마   \n",
       "6 6     F     바   "
      ]
     },
     "metadata": {},
     "output_type": "display_data"
    }
   ],
   "source": [
    "# 데이터셋 결합\n",
    "df3 <- data.frame(list('Xs'= c('X1', 'X2', 'X3', 'X4') ))\n",
    "df4 <- data.frame('v_num'=c(5,6), 'v_eng'=c('E','F'), 'v_kor'=c('마','바'))\n",
    "\n",
    "print('cbind() : 열결합')\n",
    "df_cbind <- cbind(df2, df3); df_cbind  # 열 결합\n",
    "\n",
    "print('rbind() : 행결합')\n",
    "df_rbind <- rbind(df2, df4); df_rbind  # 행 결합"
   ]
  },
  {
   "cell_type": "code",
   "execution_count": 65,
   "metadata": {},
   "outputs": [
    {
     "data": {
      "text/html": [
       "<table>\n",
       "<thead><tr><th scope=col>col1</th><th scope=col>X3</th><th scope=col>col3</th></tr></thead>\n",
       "<tbody>\n",
       "\t<tr><td>0</td><td>3</td><td>0</td></tr>\n",
       "\t<tr><td>0</td><td>3</td><td>0</td></tr>\n",
       "\t<tr><td>0</td><td>3</td><td>0</td></tr>\n",
       "</tbody>\n",
       "</table>\n"
      ],
      "text/latex": [
       "\\begin{tabular}{r|lll}\n",
       " col1 & X3 & col3\\\\\n",
       "\\hline\n",
       "\t 0 & 3 & 0\\\\\n",
       "\t 0 & 3 & 0\\\\\n",
       "\t 0 & 3 & 0\\\\\n",
       "\\end{tabular}\n"
      ],
      "text/markdown": [
       "\n",
       "col1 | X3 | col3 | \n",
       "|---|---|---|\n",
       "| 0 | 3 | 0 | \n",
       "| 0 | 3 | 0 | \n",
       "| 0 | 3 | 0 | \n",
       "\n",
       "\n"
      ],
      "text/plain": [
       "  col1 X3 col3\n",
       "1 0    3  0   \n",
       "2 0    3  0   \n",
       "3 0    3  0   "
      ]
     },
     "metadata": {},
     "output_type": "display_data"
    },
    {
     "name": "stdout",
     "output_type": "stream",
     "text": [
      "'data.frame':\t3 obs. of  3 variables:\n",
      " $ col1: num  0 0 0\n",
      " $ X3  : num  3 3 3\n",
      " $ col3: num  0 0 0\n"
     ]
    }
   ],
   "source": [
    "# 데이터 프레임 할당\n",
    "N = 3\n",
    "df5 <- data.frame(col1=numeric(N), col2=list(N), col3=numeric(N)); df5\n",
    "str(df5)"
   ]
  },
  {
   "cell_type": "code",
   "execution_count": 176,
   "metadata": {},
   "outputs": [
    {
     "name": "stdout",
     "output_type": "stream",
     "text": [
      "[1] \"str : 데이터 프레임 조회\"\n"
     ]
    },
    {
     "data": {
      "text/html": [
       "<table>\n",
       "<thead><tr><th scope=col>Ozone</th><th scope=col>Solar.R</th><th scope=col>Wind</th><th scope=col>Temp</th><th scope=col>Month</th><th scope=col>Day</th></tr></thead>\n",
       "<tbody>\n",
       "\t<tr><td>41  </td><td>190 </td><td> 7.4</td><td>67  </td><td>5   </td><td>1   </td></tr>\n",
       "\t<tr><td>36  </td><td>118 </td><td> 8.0</td><td>72  </td><td>5   </td><td>2   </td></tr>\n",
       "\t<tr><td>12  </td><td>149 </td><td>12.6</td><td>74  </td><td>5   </td><td>3   </td></tr>\n",
       "\t<tr><td>18  </td><td>313 </td><td>11.5</td><td>62  </td><td>5   </td><td>4   </td></tr>\n",
       "\t<tr><td>NA  </td><td> NA </td><td>14.3</td><td>56  </td><td>5   </td><td>5   </td></tr>\n",
       "\t<tr><td>28  </td><td> NA </td><td>14.9</td><td>66  </td><td>5   </td><td>6   </td></tr>\n",
       "</tbody>\n",
       "</table>\n"
      ],
      "text/latex": [
       "\\begin{tabular}{r|llllll}\n",
       " Ozone & Solar.R & Wind & Temp & Month & Day\\\\\n",
       "\\hline\n",
       "\t 41   & 190  &  7.4 & 67   & 5    & 1   \\\\\n",
       "\t 36   & 118  &  8.0 & 72   & 5    & 2   \\\\\n",
       "\t 12   & 149  & 12.6 & 74   & 5    & 3   \\\\\n",
       "\t 18   & 313  & 11.5 & 62   & 5    & 4   \\\\\n",
       "\t NA   &  NA  & 14.3 & 56   & 5    & 5   \\\\\n",
       "\t 28   &  NA  & 14.9 & 66   & 5    & 6   \\\\\n",
       "\\end{tabular}\n"
      ],
      "text/markdown": [
       "\n",
       "Ozone | Solar.R | Wind | Temp | Month | Day | \n",
       "|---|---|---|---|---|---|\n",
       "| 41   | 190  |  7.4 | 67   | 5    | 1    | \n",
       "| 36   | 118  |  8.0 | 72   | 5    | 2    | \n",
       "| 12   | 149  | 12.6 | 74   | 5    | 3    | \n",
       "| 18   | 313  | 11.5 | 62   | 5    | 4    | \n",
       "| NA   |  NA  | 14.3 | 56   | 5    | 5    | \n",
       "| 28   |  NA  | 14.9 | 66   | 5    | 6    | \n",
       "\n",
       "\n"
      ],
      "text/plain": [
       "  Ozone Solar.R Wind Temp Month Day\n",
       "1 41    190      7.4 67   5     1  \n",
       "2 36    118      8.0 72   5     2  \n",
       "3 12    149     12.6 74   5     3  \n",
       "4 18    313     11.5 62   5     4  \n",
       "5 NA     NA     14.3 56   5     5  \n",
       "6 28     NA     14.9 66   5     6  "
      ]
     },
     "metadata": {},
     "output_type": "display_data"
    },
    {
     "name": "stdout",
     "output_type": "stream",
     "text": [
      "'data.frame':\t153 obs. of  6 variables:\n",
      " $ Ozone  : int  41 36 12 18 NA 28 23 19 8 NA ...\n",
      " $ Solar.R: int  190 118 149 313 NA NA 299 99 19 194 ...\n",
      " $ Wind   : num  7.4 8 12.6 11.5 14.3 14.9 8.6 13.8 20.1 8.6 ...\n",
      " $ Temp   : int  67 72 74 62 56 66 65 59 61 69 ...\n",
      " $ Month  : int  5 5 5 5 5 5 5 5 5 5 ...\n",
      " $ Day    : int  1 2 3 4 5 6 7 8 9 10 ...\n",
      "[1] \"tapply : month 단위로 데이터 요약\"\n"
     ]
    },
    {
     "data": {
      "text/plain": [
       "$`5`\n",
       "   Min. 1st Qu.  Median    Mean 3rd Qu.    Max.    NA's \n",
       "   1.00   11.00   18.00   23.62   31.50  115.00       5 \n",
       "\n",
       "$`6`\n",
       "   Min. 1st Qu.  Median    Mean 3rd Qu.    Max.    NA's \n",
       "  12.00   20.00   23.00   29.44   37.00   71.00      21 \n",
       "\n",
       "$`7`\n",
       "   Min. 1st Qu.  Median    Mean 3rd Qu.    Max.    NA's \n",
       "   7.00   36.25   60.00   59.12   79.75  135.00       5 \n",
       "\n",
       "$`8`\n",
       "   Min. 1st Qu.  Median    Mean 3rd Qu.    Max.    NA's \n",
       "   9.00   28.75   52.00   59.96   82.50  168.00       5 \n",
       "\n",
       "$`9`\n",
       "   Min. 1st Qu.  Median    Mean 3rd Qu.    Max.    NA's \n",
       "   7.00   16.00   23.00   31.45   36.00   96.00       1 \n"
      ]
     },
     "metadata": {},
     "output_type": "display_data"
    }
   ],
   "source": [
    "# 데이터 추출   https://jonnyomme.blogspot.com/2017/02/r-programming-subset.html\n",
    "print('str : 데이터 프레임 조회')\n",
    "head(airquality)\n",
    "str(airquality)  # airquality 데이터 프레임 조회\n",
    "print('tapply : month 단위로 데이터 요약')\n",
    "tapply(airquality[,1], airquality$Month, summary)   # tapply(X, Index, Function) : 그룹별로 함수 적용"
   ]
  },
  {
   "cell_type": "code",
   "execution_count": 171,
   "metadata": {},
   "outputs": [
    {
     "name": "stdout",
     "output_type": "stream",
     "text": [
      "[1] \"5월 데이터만 추출\"\n"
     ]
    },
    {
     "data": {
      "text/html": [
       "<table>\n",
       "<thead><tr><th scope=col>Ozone</th><th scope=col>Solar.R</th><th scope=col>Wind</th><th scope=col>Temp</th><th scope=col>Month</th><th scope=col>Day</th></tr></thead>\n",
       "<tbody>\n",
       "\t<tr><td>41  </td><td>190 </td><td> 7.4</td><td>67  </td><td>5   </td><td>1   </td></tr>\n",
       "\t<tr><td>36  </td><td>118 </td><td> 8.0</td><td>72  </td><td>5   </td><td>2   </td></tr>\n",
       "\t<tr><td>12  </td><td>149 </td><td>12.6</td><td>74  </td><td>5   </td><td>3   </td></tr>\n",
       "\t<tr><td>18  </td><td>313 </td><td>11.5</td><td>62  </td><td>5   </td><td>4   </td></tr>\n",
       "\t<tr><td>NA  </td><td> NA </td><td>14.3</td><td>56  </td><td>5   </td><td>5   </td></tr>\n",
       "\t<tr><td>28  </td><td> NA </td><td>14.9</td><td>66  </td><td>5   </td><td>6   </td></tr>\n",
       "</tbody>\n",
       "</table>\n"
      ],
      "text/latex": [
       "\\begin{tabular}{r|llllll}\n",
       " Ozone & Solar.R & Wind & Temp & Month & Day\\\\\n",
       "\\hline\n",
       "\t 41   & 190  &  7.4 & 67   & 5    & 1   \\\\\n",
       "\t 36   & 118  &  8.0 & 72   & 5    & 2   \\\\\n",
       "\t 12   & 149  & 12.6 & 74   & 5    & 3   \\\\\n",
       "\t 18   & 313  & 11.5 & 62   & 5    & 4   \\\\\n",
       "\t NA   &  NA  & 14.3 & 56   & 5    & 5   \\\\\n",
       "\t 28   &  NA  & 14.9 & 66   & 5    & 6   \\\\\n",
       "\\end{tabular}\n"
      ],
      "text/markdown": [
       "\n",
       "Ozone | Solar.R | Wind | Temp | Month | Day | \n",
       "|---|---|---|---|---|---|\n",
       "| 41   | 190  |  7.4 | 67   | 5    | 1    | \n",
       "| 36   | 118  |  8.0 | 72   | 5    | 2    | \n",
       "| 12   | 149  | 12.6 | 74   | 5    | 3    | \n",
       "| 18   | 313  | 11.5 | 62   | 5    | 4    | \n",
       "| NA   |  NA  | 14.3 | 56   | 5    | 5    | \n",
       "| 28   |  NA  | 14.9 | 66   | 5    | 6    | \n",
       "\n",
       "\n"
      ],
      "text/plain": [
       "  Ozone Solar.R Wind Temp Month Day\n",
       "1 41    190      7.4 67   5     1  \n",
       "2 36    118      8.0 72   5     2  \n",
       "3 12    149     12.6 74   5     3  \n",
       "4 18    313     11.5 62   5     4  \n",
       "5 NA     NA     14.3 56   5     5  \n",
       "6 28     NA     14.9 66   5     6  "
      ]
     },
     "metadata": {},
     "output_type": "display_data"
    },
    {
     "name": "stdout",
     "output_type": "stream",
     "text": [
      "[1] \"5월 또는 6월 데이터만 추출 : | 기호\"\n"
     ]
    },
    {
     "data": {
      "text/html": [
       "<table>\n",
       "<thead><tr><th scope=col>Ozone</th><th scope=col>Solar.R</th><th scope=col>Wind</th><th scope=col>Temp</th><th scope=col>Month</th><th scope=col>Day</th></tr></thead>\n",
       "<tbody>\n",
       "\t<tr><td>41  </td><td>190 </td><td> 7.4</td><td>67  </td><td>5   </td><td>1   </td></tr>\n",
       "\t<tr><td>36  </td><td>118 </td><td> 8.0</td><td>72  </td><td>5   </td><td>2   </td></tr>\n",
       "\t<tr><td>12  </td><td>149 </td><td>12.6</td><td>74  </td><td>5   </td><td>3   </td></tr>\n",
       "\t<tr><td>18  </td><td>313 </td><td>11.5</td><td>62  </td><td>5   </td><td>4   </td></tr>\n",
       "\t<tr><td>NA  </td><td> NA </td><td>14.3</td><td>56  </td><td>5   </td><td>5   </td></tr>\n",
       "\t<tr><td>28  </td><td> NA </td><td>14.9</td><td>66  </td><td>5   </td><td>6   </td></tr>\n",
       "</tbody>\n",
       "</table>\n"
      ],
      "text/latex": [
       "\\begin{tabular}{r|llllll}\n",
       " Ozone & Solar.R & Wind & Temp & Month & Day\\\\\n",
       "\\hline\n",
       "\t 41   & 190  &  7.4 & 67   & 5    & 1   \\\\\n",
       "\t 36   & 118  &  8.0 & 72   & 5    & 2   \\\\\n",
       "\t 12   & 149  & 12.6 & 74   & 5    & 3   \\\\\n",
       "\t 18   & 313  & 11.5 & 62   & 5    & 4   \\\\\n",
       "\t NA   &  NA  & 14.3 & 56   & 5    & 5   \\\\\n",
       "\t 28   &  NA  & 14.9 & 66   & 5    & 6   \\\\\n",
       "\\end{tabular}\n"
      ],
      "text/markdown": [
       "\n",
       "Ozone | Solar.R | Wind | Temp | Month | Day | \n",
       "|---|---|---|---|---|---|\n",
       "| 41   | 190  |  7.4 | 67   | 5    | 1    | \n",
       "| 36   | 118  |  8.0 | 72   | 5    | 2    | \n",
       "| 12   | 149  | 12.6 | 74   | 5    | 3    | \n",
       "| 18   | 313  | 11.5 | 62   | 5    | 4    | \n",
       "| NA   |  NA  | 14.3 | 56   | 5    | 5    | \n",
       "| 28   |  NA  | 14.9 | 66   | 5    | 6    | \n",
       "\n",
       "\n"
      ],
      "text/plain": [
       "  Ozone Solar.R Wind Temp Month Day\n",
       "1 41    190      7.4 67   5     1  \n",
       "2 36    118      8.0 72   5     2  \n",
       "3 12    149     12.6 74   5     3  \n",
       "4 18    313     11.5 62   5     4  \n",
       "5 NA     NA     14.3 56   5     5  \n",
       "6 28     NA     14.9 66   5     6  "
      ]
     },
     "metadata": {},
     "output_type": "display_data"
    },
    {
     "name": "stdout",
     "output_type": "stream",
     "text": [
      "[1] \"5월 그리고 60도 이상 데이터만 추출 : & 기호\"\n"
     ]
    },
    {
     "data": {
      "text/html": [
       "<table>\n",
       "<thead><tr><th></th><th scope=col>Ozone</th><th scope=col>Solar.R</th><th scope=col>Wind</th><th scope=col>Temp</th><th scope=col>Month</th><th scope=col>Day</th></tr></thead>\n",
       "<tbody>\n",
       "\t<tr><th scope=row>1</th><td>41  </td><td>190 </td><td> 7.4</td><td>67  </td><td>5   </td><td>1   </td></tr>\n",
       "\t<tr><th scope=row>2</th><td>36  </td><td>118 </td><td> 8.0</td><td>72  </td><td>5   </td><td>2   </td></tr>\n",
       "\t<tr><th scope=row>3</th><td>12  </td><td>149 </td><td>12.6</td><td>74  </td><td>5   </td><td>3   </td></tr>\n",
       "\t<tr><th scope=row>4</th><td>18  </td><td>313 </td><td>11.5</td><td>62  </td><td>5   </td><td>4   </td></tr>\n",
       "\t<tr><th scope=row>6</th><td>28  </td><td> NA </td><td>14.9</td><td>66  </td><td>5   </td><td>6   </td></tr>\n",
       "\t<tr><th scope=row>7</th><td>23  </td><td>299 </td><td> 8.6</td><td>65  </td><td>5   </td><td>7   </td></tr>\n",
       "</tbody>\n",
       "</table>\n"
      ],
      "text/latex": [
       "\\begin{tabular}{r|llllll}\n",
       "  & Ozone & Solar.R & Wind & Temp & Month & Day\\\\\n",
       "\\hline\n",
       "\t1 & 41   & 190  &  7.4 & 67   & 5    & 1   \\\\\n",
       "\t2 & 36   & 118  &  8.0 & 72   & 5    & 2   \\\\\n",
       "\t3 & 12   & 149  & 12.6 & 74   & 5    & 3   \\\\\n",
       "\t4 & 18   & 313  & 11.5 & 62   & 5    & 4   \\\\\n",
       "\t6 & 28   &  NA  & 14.9 & 66   & 5    & 6   \\\\\n",
       "\t7 & 23   & 299  &  8.6 & 65   & 5    & 7   \\\\\n",
       "\\end{tabular}\n"
      ],
      "text/markdown": [
       "\n",
       "| <!--/--> | Ozone | Solar.R | Wind | Temp | Month | Day | \n",
       "|---|---|---|---|---|---|\n",
       "| 1 | 41   | 190  |  7.4 | 67   | 5    | 1    | \n",
       "| 2 | 36   | 118  |  8.0 | 72   | 5    | 2    | \n",
       "| 3 | 12   | 149  | 12.6 | 74   | 5    | 3    | \n",
       "| 4 | 18   | 313  | 11.5 | 62   | 5    | 4    | \n",
       "| 6 | 28   |  NA  | 14.9 | 66   | 5    | 6    | \n",
       "| 7 | 23   | 299  |  8.6 | 65   | 5    | 7    | \n",
       "\n",
       "\n"
      ],
      "text/plain": [
       "  Ozone Solar.R Wind Temp Month Day\n",
       "1 41    190      7.4 67   5     1  \n",
       "2 36    118      8.0 72   5     2  \n",
       "3 12    149     12.6 74   5     3  \n",
       "4 18    313     11.5 62   5     4  \n",
       "6 28     NA     14.9 66   5     6  \n",
       "7 23    299      8.6 65   5     7  "
      ]
     },
     "metadata": {},
     "output_type": "display_data"
    },
    {
     "name": "stdout",
     "output_type": "stream",
     "text": [
      "[1] \"결과중에서 필요한 열만 가져오기\"\n"
     ]
    },
    {
     "data": {
      "text/html": [
       "<table>\n",
       "<thead><tr><th></th><th scope=col>Ozone</th><th scope=col>Wind</th></tr></thead>\n",
       "<tbody>\n",
       "\t<tr><th scope=row>1</th><td>41  </td><td> 7.4</td></tr>\n",
       "\t<tr><th scope=row>2</th><td>36  </td><td> 8.0</td></tr>\n",
       "\t<tr><th scope=row>3</th><td>12  </td><td>12.6</td></tr>\n",
       "\t<tr><th scope=row>4</th><td>18  </td><td>11.5</td></tr>\n",
       "\t<tr><th scope=row>6</th><td>28  </td><td>14.9</td></tr>\n",
       "\t<tr><th scope=row>7</th><td>23  </td><td> 8.6</td></tr>\n",
       "</tbody>\n",
       "</table>\n"
      ],
      "text/latex": [
       "\\begin{tabular}{r|ll}\n",
       "  & Ozone & Wind\\\\\n",
       "\\hline\n",
       "\t1 & 41   &  7.4\\\\\n",
       "\t2 & 36   &  8.0\\\\\n",
       "\t3 & 12   & 12.6\\\\\n",
       "\t4 & 18   & 11.5\\\\\n",
       "\t6 & 28   & 14.9\\\\\n",
       "\t7 & 23   &  8.6\\\\\n",
       "\\end{tabular}\n"
      ],
      "text/markdown": [
       "\n",
       "| <!--/--> | Ozone | Wind | \n",
       "|---|---|---|---|---|---|\n",
       "| 1 | 41   |  7.4 | \n",
       "| 2 | 36   |  8.0 | \n",
       "| 3 | 12   | 12.6 | \n",
       "| 4 | 18   | 11.5 | \n",
       "| 6 | 28   | 14.9 | \n",
       "| 7 | 23   |  8.6 | \n",
       "\n",
       "\n"
      ],
      "text/plain": [
       "  Ozone Wind\n",
       "1 41     7.4\n",
       "2 36     8.0\n",
       "3 12    12.6\n",
       "4 18    11.5\n",
       "6 28    14.9\n",
       "7 23     8.6"
      ]
     },
     "metadata": {},
     "output_type": "display_data"
    }
   ],
   "source": [
    "# 데이터 프레임의 조건 검색\n",
    "print('5월 데이터만 추출')\n",
    "reault_subset_month <- subset(airquality, Month==5, sort=F)\n",
    "head(reault_subset_month)\n",
    "\n",
    "print('5월 또는 6월 데이터만 추출 : | 기호')\n",
    "result_subset_month_or <- subset(airquality, (Month==5 | Month==6), sort=F)\n",
    "head(result_subset_month_or)\n",
    "\n",
    "print('5월 그리고 60도 이상 데이터만 추출 : & 기호')\n",
    "result_subset_month_and <- subset(airquality, (Month==5 & Temp>=60), sort=F)\n",
    "head(result_subset_month_and)\n",
    "\n",
    "print('결과중에서 필요한 열만 가져오기')\n",
    "result_subset_month_need <- subset(airquality, (Month==5 & Temp >= 60), select=c(Ozone, Wind), sort=F)\n",
    "head(result_subset_month_need)"
   ]
  },
  {
   "cell_type": "code",
   "execution_count": 198,
   "metadata": {},
   "outputs": [
    {
     "data": {
      "text/html": [
       "<table>\n",
       "<thead><tr><th scope=col>date</th><th scope=col>count</th><th scope=col>price</th><th scope=col>store</th></tr></thead>\n",
       "<tbody>\n",
       "\t<tr><td>2018-09-01</td><td>2         </td><td> 56600    </td><td>강남점    </td></tr>\n",
       "\t<tr><td>2018-09-02</td><td>1         </td><td> 77100    </td><td>신림점    </td></tr>\n",
       "\t<tr><td>2018-09-03</td><td>5         </td><td>  4300    </td><td>홍대점    </td></tr>\n",
       "\t<tr><td>2018-09-04</td><td>4         </td><td>101900    </td><td>건대점    </td></tr>\n",
       "\t<tr><td>2018-09-05</td><td>3         </td><td> 88900    </td><td>신촌점    </td></tr>\n",
       "</tbody>\n",
       "</table>\n"
      ],
      "text/latex": [
       "\\begin{tabular}{r|llll}\n",
       " date & count & price & store\\\\\n",
       "\\hline\n",
       "\t 2018-09-01 & 2          &  56600     & 강남점    \\\\\n",
       "\t 2018-09-02 & 1          &  77100     & 신림점    \\\\\n",
       "\t 2018-09-03 & 5          &   4300     & 홍대점    \\\\\n",
       "\t 2018-09-04 & 4          & 101900     & 건대점    \\\\\n",
       "\t 2018-09-05 & 3          &  88900     & 신촌점    \\\\\n",
       "\\end{tabular}\n"
      ],
      "text/markdown": [
       "\n",
       "date | count | price | store | \n",
       "|---|---|---|---|---|\n",
       "| 2018-09-01 | 2          |  56600     | 강남점     | \n",
       "| 2018-09-02 | 1          |  77100     | 신림점     | \n",
       "| 2018-09-03 | 5          |   4300     | 홍대점     | \n",
       "| 2018-09-04 | 4          | 101900     | 건대점     | \n",
       "| 2018-09-05 | 3          |  88900     | 신촌점     | \n",
       "\n",
       "\n"
      ],
      "text/plain": [
       "  date       count price  store \n",
       "1 2018-09-01 2      56600 강남점\n",
       "2 2018-09-02 1      77100 신림점\n",
       "3 2018-09-03 5       4300 홍대점\n",
       "4 2018-09-04 4     101900 건대점\n",
       "5 2018-09-05 3      88900 신촌점"
      ]
     },
     "metadata": {},
     "output_type": "display_data"
    }
   ],
   "source": [
    "# 데이터프레임 조회  http://using.tistory.com/68\n",
    "date <- c(seq(as.Date(\"2018-09-01\"), as.Date(\"2018-09-5\"), 1))\n",
    "store <- c('강남점', '신림점', '홍대점', '건대점', '신촌점')\n",
    "price <- c(abs(trunc(rnorm(5,0,1000))*100))\n",
    "count <- c(sample(5))\n",
    "data <- data.frame(date, count, price, store); data"
   ]
  },
  {
   "cell_type": "code",
   "execution_count": 199,
   "metadata": {},
   "outputs": [
    {
     "data": {
      "text/html": [
       "<table>\n",
       "<thead><tr><th scope=col>date</th><th scope=col>count</th><th scope=col>price</th><th scope=col>store</th><th scope=col>V1</th></tr></thead>\n",
       "<tbody>\n",
       "\t<tr><td>2018-09-01</td><td>2         </td><td> 56600    </td><td>강남점    </td><td>1         </td></tr>\n",
       "\t<tr><td>2018-09-02</td><td>1         </td><td> 77100    </td><td>신림점    </td><td>0         </td></tr>\n",
       "\t<tr><td>2018-09-03</td><td>5         </td><td>  4300    </td><td>홍대점    </td><td>0         </td></tr>\n",
       "\t<tr><td>2018-09-04</td><td>4         </td><td>101900    </td><td>건대점    </td><td>0         </td></tr>\n",
       "\t<tr><td>2018-09-05</td><td>3         </td><td> 88900    </td><td>신촌점    </td><td>0         </td></tr>\n",
       "</tbody>\n",
       "</table>\n"
      ],
      "text/latex": [
       "\\begin{tabular}{r|lllll}\n",
       " date & count & price & store & V1\\\\\n",
       "\\hline\n",
       "\t 2018-09-01 & 2          &  56600     & 강남점     & 1         \\\\\n",
       "\t 2018-09-02 & 1          &  77100     & 신림점     & 0         \\\\\n",
       "\t 2018-09-03 & 5          &   4300     & 홍대점     & 0         \\\\\n",
       "\t 2018-09-04 & 4          & 101900     & 건대점     & 0         \\\\\n",
       "\t 2018-09-05 & 3          &  88900     & 신촌점     & 0         \\\\\n",
       "\\end{tabular}\n"
      ],
      "text/markdown": [
       "\n",
       "date | count | price | store | V1 | \n",
       "|---|---|---|---|---|\n",
       "| 2018-09-01 | 2          |  56600     | 강남점     | 1          | \n",
       "| 2018-09-02 | 1          |  77100     | 신림점     | 0          | \n",
       "| 2018-09-03 | 5          |   4300     | 홍대점     | 0          | \n",
       "| 2018-09-04 | 4          | 101900     | 건대점     | 0          | \n",
       "| 2018-09-05 | 3          |  88900     | 신촌점     | 0          | \n",
       "\n",
       "\n"
      ],
      "text/plain": [
       "  date       count price  store  V1\n",
       "1 2018-09-01 2      56600 강남점 1 \n",
       "2 2018-09-02 1      77100 신림점 0 \n",
       "3 2018-09-03 5       4300 홍대점 0 \n",
       "4 2018-09-04 4     101900 건대점 0 \n",
       "5 2018-09-05 3      88900 신촌점 0 "
      ]
     },
     "metadata": {},
     "output_type": "display_data"
    },
    {
     "name": "stdout",
     "output_type": "stream",
     "text": [
      "[1] \"V1이 1인 경우\"\n"
     ]
    },
    {
     "data": {
      "text/html": [
       "<table>\n",
       "<thead><tr><th scope=col>date</th><th scope=col>count</th><th scope=col>price</th><th scope=col>store</th><th scope=col>V1</th></tr></thead>\n",
       "<tbody>\n",
       "\t<tr><td>2018-09-01</td><td>2         </td><td>56600     </td><td>강남점    </td><td>1         </td></tr>\n",
       "</tbody>\n",
       "</table>\n"
      ],
      "text/latex": [
       "\\begin{tabular}{r|lllll}\n",
       " date & count & price & store & V1\\\\\n",
       "\\hline\n",
       "\t 2018-09-01 & 2          & 56600      & 강남점     & 1         \\\\\n",
       "\\end{tabular}\n"
      ],
      "text/markdown": [
       "\n",
       "date | count | price | store | V1 | \n",
       "|---|\n",
       "| 2018-09-01 | 2          | 56600      | 강남점     | 1          | \n",
       "\n",
       "\n"
      ],
      "text/plain": [
       "  date       count price store  V1\n",
       "1 2018-09-01 2     56600 강남점 1 "
      ]
     },
     "metadata": {},
     "output_type": "display_data"
    },
    {
     "name": "stdout",
     "output_type": "stream",
     "text": [
      "[1] \"날짜 검색\"\n"
     ]
    },
    {
     "data": {
      "text/html": [
       "<table>\n",
       "<thead><tr><th scope=col>date</th><th scope=col>count</th><th scope=col>price</th><th scope=col>store</th></tr></thead>\n",
       "<tbody>\n",
       "\t<tr><td>2018-09-02</td><td>1         </td><td> 77100    </td><td>신림점    </td></tr>\n",
       "\t<tr><td>2018-09-03</td><td>5         </td><td>  4300    </td><td>홍대점    </td></tr>\n",
       "\t<tr><td>2018-09-04</td><td>4         </td><td>101900    </td><td>건대점    </td></tr>\n",
       "</tbody>\n",
       "</table>\n"
      ],
      "text/latex": [
       "\\begin{tabular}{r|llll}\n",
       " date & count & price & store\\\\\n",
       "\\hline\n",
       "\t 2018-09-02 & 1          &  77100     & 신림점    \\\\\n",
       "\t 2018-09-03 & 5          &   4300     & 홍대점    \\\\\n",
       "\t 2018-09-04 & 4          & 101900     & 건대점    \\\\\n",
       "\\end{tabular}\n"
      ],
      "text/markdown": [
       "\n",
       "date | count | price | store | \n",
       "|---|---|---|\n",
       "| 2018-09-02 | 1          |  77100     | 신림점     | \n",
       "| 2018-09-03 | 5          |   4300     | 홍대점     | \n",
       "| 2018-09-04 | 4          | 101900     | 건대점     | \n",
       "\n",
       "\n"
      ],
      "text/plain": [
       "  date       count price  store \n",
       "1 2018-09-02 1      77100 신림점\n",
       "2 2018-09-03 5       4300 홍대점\n",
       "3 2018-09-04 4     101900 건대점"
      ]
     },
     "metadata": {},
     "output_type": "display_data"
    }
   ],
   "source": [
    "# store가 강남점인 것을 검색\n",
    "# 연산 결과 'V1' 칼럼이 새로 생성됨. \n",
    "library(data.table)\n",
    "data <- data.table(data) \n",
    "store <- data[, length(which(store=='강남점')), by=names(data)]\n",
    "store\n",
    "\n",
    "# 조건 검색\n",
    "print('V1이 1인 경우')\n",
    "store[V1==1]\n",
    "\n",
    "print('날짜 검색')\n",
    "data <- data.frame(subset(data, \n",
    "                          as.Date(date, '%d/%m/%Y %H:%M:%S', tz='UTC') >= '2018-09-02' & \n",
    "                          as.Date(date, '%d/%m/%Y %H:%M:%S', tz='UTC') <= '2018-09-04'), row.names=NULL)\n",
    "data"
   ]
  },
  {
   "cell_type": "markdown",
   "metadata": {},
   "source": [
    "##### 기타  명령어 \n",
    "1. `merge()` : 데이터 프레임 결합\n",
    "1. `subset(df, select=[-열이름])` : 지정한 열 제거\n",
    "1. `colnames(df)<-[열이름]` : 열이름 교체\n",
    "1. `NA_cleaning<-na.omit(df)` : NA 행 삭제\n",
    "1. `with(df, exp)`: 데이터 프레임 내용 접근\n",
    "1.  `attach(df)`, `detach(df)` : 데이터 프레임 활성화(지정), 비활성화\n",
    "1. `install.packages(\"패키지명\")` : 패키지 설치\n",
    "1. `setwd(\"경로\")` : 작업 디렉토리 지정"
   ]
  },
  {
   "cell_type": "markdown",
   "metadata": {},
   "source": [
    "----"
   ]
  }
 ],
 "metadata": {
  "kernelspec": {
   "display_name": "R 3.3",
   "language": "R",
   "name": "ir33"
  },
  "language_info": {
   "codemirror_mode": "r",
   "file_extension": ".r",
   "mimetype": "text/x-r-source",
   "name": "R",
   "pygments_lexer": "r",
   "version": "3.5.1"
  }
 },
 "nbformat": 4,
 "nbformat_minor": 2
}
