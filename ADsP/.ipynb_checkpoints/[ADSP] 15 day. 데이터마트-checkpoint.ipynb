{
 "cells": [
  {
   "cell_type": "markdown",
   "metadata": {},
   "source": [
    "<h1><center>제 1절. 데이터 변경 및 요약</center></h1>"
   ]
  },
  {
   "cell_type": "markdown",
   "metadata": {},
   "source": [
    "## 1. R reshape를 이용한 데이터 마트 개발\n",
    "\n",
    "[DM Data Mart 데이터마트]는 데이터 웨어하우스와 사용자 중간에 위치한 하나의 주제. 대부분 데이터 웨어하우스에서 복제되지만, 자체적으로 수집될 수 있으며, RDBMS나 다차원 데이터 베이스를 활용한다.\n",
    "\n",
    "CRM 관련 업무 중에서 고객 데이터 마트를 구축하는 핵심 역할.\n",
    "\n",
    "동일한 데이터 셋을 활용할 경우 데이터 마트를 어떻게 구축하느냐에 따라 분석 효과는 크게 차이가 난다."
   ]
  },
  {
   "cell_type": "markdown",
   "metadata": {},
   "source": [
    "### 1-1. 요약변수 : 정보를 분석에 맞게 종합한 변수\n",
    "데이터 마트에서 가장 기본적인 변수로써 데이터 분석을 위한 변수 **총구매 금액, 횟수, 구매여부 등** .\n",
    "- 많은 모델이 공통으로 사용하여 높은 재활용성.\n",
    "- 합계, 횟수 등의 간단한 구조로 자동화에 유리.\n",
    "- 단점으로 기준값의 모호한 의미 해석, 연속형 변수를 그룹핑 해서 사용하면 좋음."
   ]
  },
  {
   "cell_type": "markdown",
   "metadata": {},
   "source": [
    "##### 요약변수 예시\n",
    "1. 고객의 구매 패턴 : 기간별 구매 금액, 횟수 여부\n",
    "1. 구매 시기로 고객 추정 : 위클리 쇼퍼\n",
    "1. 라이프 스타일 이해 : 상품별 구매 금액\n",
    "1. 고객에 대한 이해와 해석 : 상품별 구매 순서\n",
    "1. 채널 파악 및 추천 : 유통 채널별 구매 금액\n",
    "1. 단어 출현 빈도 : 단어 빈도\n",
    "1. 거래 패턴 예상 : 초기 행동 변수\n",
    "1. 추이값 : 트렌트 변수\n",
    "1. 데이터 내용 파악 : 결측값과 이상값 처리\n",
    "1. 의미있는 구간 : 연속형 변수의 구간화\n"
   ]
  },
  {
   "cell_type": "markdown",
   "metadata": {},
   "source": [
    "### 1_2 파생변수 : 특정 함수에 의해 만들어진 함수\n",
    "\n",
    "매우 주관적일 수 있으므로 타당성을 갖출 필요가 있다. **세분화, 고객행동 예측, 반응 예측 등에 활용**된다."
   ]
  },
  {
   "cell_type": "markdown",
   "metadata": {},
   "source": [
    "##### 파생변수 예시\n",
    "1. 근무시간 구매자수 : 근무시간대에 거래가 발생하는 비율을 산출\n",
    "1. 주 구매 매장 변수 : 고객의 주거래 매장을 예측하여 적절한 분석에 활용\n",
    "1. 주 활동 지역 변수 : 고객 정보나 거래내용을 통해 주 활동지역을 예측하여 분석에 활용\n",
    "1. 주 구매 상품 변수 : 1순위 상품을 구매한 고객한테 2순위 상품을 추천하는데 활용\n",
    "1. 구매 상품의 다양성 : 주로 구매하는 상품이나 브랜드로 성향을 분석\n",
    "1. 선호 가격대 변수 : 취향, 소득, 서비스 등에 따라 많이 투자하는 상품군을 분석\n",
    "1. 시즌 선호고객 변수 : 의미 있는 날에 소비 활동이 증가하므로 패턴 분석\n",
    "1. 라이프 스테이지 변수 : 고객의 행동을 이해하고 니즈와 가치를 파악하는데 활용\n",
    "1. 행사민감 변수 : 행사할 때 구매하는 고객과 그렇치 않은 고객의 행동을 파악\n",
    "1. 휴면가망 변수 : 취향이나 관심사가 변해 구매하지 않는 경우, 이를 파악하여 대응\n",
    "1. 최적 통화 시간 : 콜센터에 걸려온 시간으로 직업, 통화시간 등을 예측하여 통화 시도"
   ]
  },
  {
   "cell_type": "markdown",
   "metadata": {},
   "source": [
    "### 1_3 reshape의 활용\n",
    "\n",
    "reshape는 **melt()**와 **cast()** 2가지 함수가 있으며, melt()로 데이터를 녹이고 cast()로 다시 주조하는 것을 비유한 함수이다.\n",
    "- 데이터를 조합해 변수명을 만들고, 다양한 요약변수와 파생변수를 생성 가능."
   ]
  },
  {
   "cell_type": "code",
   "execution_count": 14,
   "metadata": {},
   "outputs": [
    {
     "data": {
      "text/html": [
       "<table>\n",
       "<thead><tr><th scope=col>Ozone</th><th scope=col>Solar.R</th><th scope=col>Wind</th><th scope=col>Temp</th><th scope=col>Month</th><th scope=col>Day</th></tr></thead>\n",
       "<tbody>\n",
       "\t<tr><td>41  </td><td>190 </td><td> 7.4</td><td>67  </td><td>5   </td><td>1   </td></tr>\n",
       "\t<tr><td>36  </td><td>118 </td><td> 8.0</td><td>72  </td><td>5   </td><td>2   </td></tr>\n",
       "\t<tr><td>12  </td><td>149 </td><td>12.6</td><td>74  </td><td>5   </td><td>3   </td></tr>\n",
       "\t<tr><td>18  </td><td>313 </td><td>11.5</td><td>62  </td><td>5   </td><td>4   </td></tr>\n",
       "\t<tr><td>NA  </td><td> NA </td><td>14.3</td><td>56  </td><td>5   </td><td>5   </td></tr>\n",
       "\t<tr><td>28  </td><td> NA </td><td>14.9</td><td>66  </td><td>5   </td><td>6   </td></tr>\n",
       "</tbody>\n",
       "</table>\n"
      ],
      "text/latex": [
       "\\begin{tabular}{r|llllll}\n",
       " Ozone & Solar.R & Wind & Temp & Month & Day\\\\\n",
       "\\hline\n",
       "\t 41   & 190  &  7.4 & 67   & 5    & 1   \\\\\n",
       "\t 36   & 118  &  8.0 & 72   & 5    & 2   \\\\\n",
       "\t 12   & 149  & 12.6 & 74   & 5    & 3   \\\\\n",
       "\t 18   & 313  & 11.5 & 62   & 5    & 4   \\\\\n",
       "\t NA   &  NA  & 14.3 & 56   & 5    & 5   \\\\\n",
       "\t 28   &  NA  & 14.9 & 66   & 5    & 6   \\\\\n",
       "\\end{tabular}\n"
      ],
      "text/markdown": [
       "\n",
       "Ozone | Solar.R | Wind | Temp | Month | Day | \n",
       "|---|---|---|---|---|---|\n",
       "| 41   | 190  |  7.4 | 67   | 5    | 1    | \n",
       "| 36   | 118  |  8.0 | 72   | 5    | 2    | \n",
       "| 12   | 149  | 12.6 | 74   | 5    | 3    | \n",
       "| 18   | 313  | 11.5 | 62   | 5    | 4    | \n",
       "| NA   |  NA  | 14.3 | 56   | 5    | 5    | \n",
       "| 28   |  NA  | 14.9 | 66   | 5    | 6    | \n",
       "\n",
       "\n"
      ],
      "text/plain": [
       "  Ozone Solar.R Wind Temp Month Day\n",
       "1 41    190      7.4 67   5     1  \n",
       "2 36    118      8.0 72   5     2  \n",
       "3 12    149     12.6 74   5     3  \n",
       "4 18    313     11.5 62   5     4  \n",
       "5 NA     NA     14.3 56   5     5  \n",
       "6 28     NA     14.9 66   5     6  "
      ]
     },
     "metadata": {},
     "output_type": "display_data"
    },
    {
     "data": {
      "text/html": [
       "153"
      ],
      "text/latex": [
       "153"
      ],
      "text/markdown": [
       "153"
      ],
      "text/plain": [
       "[1] 153"
      ]
     },
     "metadata": {},
     "output_type": "display_data"
    }
   ],
   "source": [
    "# airquailty로 연습\n",
    "# 6개의 변수와 153개의 자료로 구성.\n",
    "# https://jonnyomme.blogspot.com/2017/03/r-programming-reshape-melt-cast.html\n",
    "head(airquality)\n",
    "length(airquality[['Ozone']])"
   ]
  },
  {
   "cell_type": "code",
   "execution_count": 12,
   "metadata": {},
   "outputs": [
    {
     "name": "stderr",
     "output_type": "stream",
     "text": [
      "Installing package into 'C:/Users/jang/Documents/R/win-library/3.5'\n",
      "(as 'lib' is unspecified)\n",
      "Warning message in download.file(url, destfile, method, mode = \"wb\", ...):\n",
      "\"InternetOpenUrl failed: '서버에 연결할 수 없습니다.'\"Warning message in download.packages(pkgs, destdir = tmpd, available = available, :\n",
      "\"download of package 'reshape2' failed\""
     ]
    }
   ],
   "source": [
    "# 함수가 없을 경우 설치\n",
    "# install.packages(\"reshape\")"
   ]
  },
  {
   "cell_type": "code",
   "execution_count": 32,
   "metadata": {},
   "outputs": [
    {
     "data": {
      "text/html": [
       "<table>\n",
       "<thead><tr><th scope=col>Month</th><th scope=col>Day</th><th scope=col>variable</th><th scope=col>value</th></tr></thead>\n",
       "<tbody>\n",
       "\t<tr><td>5    </td><td>1    </td><td>Ozone</td><td>41   </td></tr>\n",
       "\t<tr><td>5    </td><td>2    </td><td>Ozone</td><td>36   </td></tr>\n",
       "\t<tr><td>5    </td><td>3    </td><td>Ozone</td><td>12   </td></tr>\n",
       "\t<tr><td>5    </td><td>4    </td><td>Ozone</td><td>18   </td></tr>\n",
       "\t<tr><td>5    </td><td>5    </td><td>Ozone</td><td>NA   </td></tr>\n",
       "\t<tr><td>5    </td><td>6    </td><td>Ozone</td><td>28   </td></tr>\n",
       "</tbody>\n",
       "</table>\n"
      ],
      "text/latex": [
       "\\begin{tabular}{r|llll}\n",
       " Month & Day & variable & value\\\\\n",
       "\\hline\n",
       "\t 5     & 1     & Ozone & 41   \\\\\n",
       "\t 5     & 2     & Ozone & 36   \\\\\n",
       "\t 5     & 3     & Ozone & 12   \\\\\n",
       "\t 5     & 4     & Ozone & 18   \\\\\n",
       "\t 5     & 5     & Ozone & NA   \\\\\n",
       "\t 5     & 6     & Ozone & 28   \\\\\n",
       "\\end{tabular}\n"
      ],
      "text/markdown": [
       "\n",
       "Month | Day | variable | value | \n",
       "|---|---|---|---|---|---|\n",
       "| 5     | 1     | Ozone | 41    | \n",
       "| 5     | 2     | Ozone | 36    | \n",
       "| 5     | 3     | Ozone | 12    | \n",
       "| 5     | 4     | Ozone | 18    | \n",
       "| 5     | 5     | Ozone | NA    | \n",
       "| 5     | 6     | Ozone | 28    | \n",
       "\n",
       "\n"
      ],
      "text/plain": [
       "  Month Day variable value\n",
       "1 5     1   Ozone    41   \n",
       "2 5     2   Ozone    36   \n",
       "3 5     3   Ozone    12   \n",
       "4 5     4   Ozone    18   \n",
       "5 5     5   Ozone    NA   \n",
       "6 5     6   Ozone    28   "
      ]
     },
     "metadata": {},
     "output_type": "display_data"
    },
    {
     "data": {
      "text/html": [
       "<table>\n",
       "<thead><tr><th></th><th scope=col>Month</th><th scope=col>Day</th><th scope=col>variable</th><th scope=col>value</th></tr></thead>\n",
       "<tbody>\n",
       "\t<tr><th scope=row>607</th><td>9   </td><td>25  </td><td>Temp</td><td>63  </td></tr>\n",
       "\t<tr><th scope=row>608</th><td>9   </td><td>26  </td><td>Temp</td><td>70  </td></tr>\n",
       "\t<tr><th scope=row>609</th><td>9   </td><td>27  </td><td>Temp</td><td>77  </td></tr>\n",
       "\t<tr><th scope=row>610</th><td>9   </td><td>28  </td><td>Temp</td><td>75  </td></tr>\n",
       "\t<tr><th scope=row>611</th><td>9   </td><td>29  </td><td>Temp</td><td>76  </td></tr>\n",
       "\t<tr><th scope=row>612</th><td>9   </td><td>30  </td><td>Temp</td><td>68  </td></tr>\n",
       "</tbody>\n",
       "</table>\n"
      ],
      "text/latex": [
       "\\begin{tabular}{r|llll}\n",
       "  & Month & Day & variable & value\\\\\n",
       "\\hline\n",
       "\t607 & 9    & 25   & Temp & 63  \\\\\n",
       "\t608 & 9    & 26   & Temp & 70  \\\\\n",
       "\t609 & 9    & 27   & Temp & 77  \\\\\n",
       "\t610 & 9    & 28   & Temp & 75  \\\\\n",
       "\t611 & 9    & 29   & Temp & 76  \\\\\n",
       "\t612 & 9    & 30   & Temp & 68  \\\\\n",
       "\\end{tabular}\n"
      ],
      "text/markdown": [
       "\n",
       "| <!--/--> | Month | Day | variable | value | \n",
       "|---|---|---|---|---|---|\n",
       "| 607 | 9    | 25   | Temp | 63   | \n",
       "| 608 | 9    | 26   | Temp | 70   | \n",
       "| 609 | 9    | 27   | Temp | 77   | \n",
       "| 610 | 9    | 28   | Temp | 75   | \n",
       "| 611 | 9    | 29   | Temp | 76   | \n",
       "| 612 | 9    | 30   | Temp | 68   | \n",
       "\n",
       "\n"
      ],
      "text/plain": [
       "    Month Day variable value\n",
       "607 9     25  Temp     63   \n",
       "608 9     26  Temp     70   \n",
       "609 9     27  Temp     77   \n",
       "610 9     28  Temp     75   \n",
       "611 9     29  Temp     76   \n",
       "612 9     30  Temp     68   "
      ]
     },
     "metadata": {},
     "output_type": "display_data"
    },
    {
     "name": "stdout",
     "output_type": "stream",
     "text": [
      "'data.frame':\t612 obs. of  4 variables:\n",
      " $ Month   : int  5 5 5 5 5 5 5 5 5 5 ...\n",
      " $ Day     : int  1 2 3 4 5 6 7 8 9 10 ...\n",
      " $ variable: Factor w/ 4 levels \"Ozone\",\"Solar.R\",..: 1 1 1 1 1 1 1 1 1 1 ...\n",
      " $ value   : num  41 36 12 18 NA 28 23 19 8 NA ...\n"
     ]
    }
   ],
   "source": [
    "# melt 함수 : 데이터를 수정하기 용의한 상태로 변화\n",
    "require(reshape)\n",
    "\n",
    "melting.air <- melt(airquality, id=c(\"Month\", \"Day\"))\n",
    "head(melting.air)\n",
    "tail(melting.air)\n",
    "str(melting.air)"
   ]
  },
  {
   "cell_type": "code",
   "execution_count": 35,
   "metadata": {},
   "outputs": [
    {
     "data": {
      "text/html": [
       "<ol class=list-inline>\n",
       "\t<li>41</li>\n",
       "\t<li>36</li>\n",
       "\t<li>12</li>\n",
       "\t<li>18</li>\n",
       "\t<li>&lt;NA&gt;</li>\n",
       "\t<li>28</li>\n",
       "</ol>\n"
      ],
      "text/latex": [
       "\\begin{enumerate*}\n",
       "\\item 41\n",
       "\\item 36\n",
       "\\item 12\n",
       "\\item 18\n",
       "\\item <NA>\n",
       "\\item 28\n",
       "\\end{enumerate*}\n"
      ],
      "text/markdown": [
       "1. 41\n",
       "2. 36\n",
       "3. 12\n",
       "4. 18\n",
       "5. &lt;NA&gt;\n",
       "6. 28\n",
       "\n",
       "\n"
      ],
      "text/plain": [
       "[1] 41 36 12 18 NA 28"
      ]
     },
     "metadata": {},
     "output_type": "display_data"
    },
    {
     "data": {
      "text/html": [
       "<table>\n",
       "<thead><tr><th scope=col>Month</th><th scope=col>Ozone</th><th scope=col>Solar.R</th><th scope=col>Wind</th><th scope=col>Temp</th></tr></thead>\n",
       "<tbody>\n",
       "\t<tr><td>5        </td><td>NA       </td><td>      NA </td><td>11.622581</td><td>65.54839 </td></tr>\n",
       "\t<tr><td>6        </td><td>NA       </td><td>190.1667 </td><td>10.266667</td><td>79.10000 </td></tr>\n",
       "\t<tr><td>7        </td><td>NA       </td><td>216.4839 </td><td> 8.941935</td><td>83.90323 </td></tr>\n",
       "\t<tr><td>8        </td><td>NA       </td><td>      NA </td><td> 8.793548</td><td>83.96774 </td></tr>\n",
       "\t<tr><td>9        </td><td>NA       </td><td>167.4333 </td><td>10.180000</td><td>76.90000 </td></tr>\n",
       "</tbody>\n",
       "</table>\n"
      ],
      "text/latex": [
       "\\begin{tabular}{r|lllll}\n",
       " Month & Ozone & Solar.R & Wind & Temp\\\\\n",
       "\\hline\n",
       "\t 5         & NA        &       NA  & 11.622581 & 65.54839 \\\\\n",
       "\t 6         & NA        & 190.1667  & 10.266667 & 79.10000 \\\\\n",
       "\t 7         & NA        & 216.4839  &  8.941935 & 83.90323 \\\\\n",
       "\t 8         & NA        &       NA  &  8.793548 & 83.96774 \\\\\n",
       "\t 9         & NA        & 167.4333  & 10.180000 & 76.90000 \\\\\n",
       "\\end{tabular}\n"
      ],
      "text/markdown": [
       "\n",
       "Month | Ozone | Solar.R | Wind | Temp | \n",
       "|---|---|---|---|---|\n",
       "| 5         | NA        |       NA  | 11.622581 | 65.54839  | \n",
       "| 6         | NA        | 190.1667  | 10.266667 | 79.10000  | \n",
       "| 7         | NA        | 216.4839  |  8.941935 | 83.90323  | \n",
       "| 8         | NA        |       NA  |  8.793548 | 83.96774  | \n",
       "| 9         | NA        | 167.4333  | 10.180000 | 76.90000  | \n",
       "\n",
       "\n"
      ],
      "text/plain": [
       "  Month Ozone Solar.R  Wind      Temp    \n",
       "1 5     NA          NA 11.622581 65.54839\n",
       "2 6     NA    190.1667 10.266667 79.10000\n",
       "3 7     NA    216.4839  8.941935 83.90323\n",
       "4 8     NA          NA  8.793548 83.96774\n",
       "5 9     NA    167.4333 10.180000 76.90000"
      ]
     },
     "metadata": {},
     "output_type": "display_data"
    }
   ],
   "source": [
    "# cast 함수 : 데이터를 원하는 형태로 변형\n",
    "# x1 변수 + x2 변수 + ... ~ y1변수 + y2변수 + ~ z1변수 + z2변수\n",
    "# 변수의 정렬순서에 따라 데이터 형태가 달라짐.\n",
    "casting.air <- cast(melting.air, Day~Month~variable)\n",
    "head(casting.air)\n",
    "\n",
    "casting.air2 <- cast(melting.air, Month~variable, mean)\n",
    "head(casting.air2)"
   ]
  },
  {
   "cell_type": "markdown",
   "metadata": {},
   "source": [
    "## 1_4. 데이터 테이블\n",
    "\n",
    "data.table 패키지는 R에서 가장 많이 사용하는 데이터 헨들링 패키지 중 하나로, 탐색, 연산, 병합하는데 유용하다.\n",
    "- data.frame 방식보다 월등히 빠른 속도\n",
    "- 특정 column을 key 값으로 색인을 지정한 후 데이터를 처리."
   ]
  },
  {
   "cell_type": "code",
   "execution_count": 38,
   "metadata": {},
   "outputs": [
    {
     "name": "stderr",
     "output_type": "stream",
     "text": [
      "Installing package into 'C:/Users/jang/Documents/R/win-library/3.5'\n",
      "(as 'lib' is unspecified)\n",
      "Warning message:\n",
      "\"package 'data.table' is in use and will not be installed\""
     ]
    }
   ],
   "source": [
    "# 설치\n",
    "install.packages(\"data.table\")"
   ]
  },
  {
   "cell_type": "code",
   "execution_count": 41,
   "metadata": {},
   "outputs": [],
   "source": [
    "library(data.table)\n",
    "DF <- data.frame(x = runif(2.6e+07), y = rep(LETTERS, each=10000))\n",
    "df <- data.frame(x = runif(2.6e+07), y = rep(letters, each = 10000))"
   ]
  },
  {
   "cell_type": "code",
   "execution_count": 42,
   "metadata": {},
   "outputs": [
    {
     "data": {
      "text/plain": [
       "   user  system elapsed \n",
       "   0.25    0.04    0.30 "
      ]
     },
     "metadata": {},
     "output_type": "display_data"
    }
   ],
   "source": [
    "system.time(x <- DF[DF$y == \"C\",])"
   ]
  },
  {
   "cell_type": "code",
   "execution_count": 45,
   "metadata": {},
   "outputs": [
    {
     "data": {
      "text/plain": [
       "   user  system elapsed \n",
       "   0.03    0.00    0.03 "
      ]
     },
     "metadata": {},
     "output_type": "display_data"
    }
   ],
   "source": [
    "DT <- as.data.table(DF)\n",
    "setkey(DT, y)\n",
    "system.time(x <- DT[J(\"C\"),])"
   ]
  },
  {
   "cell_type": "markdown",
   "metadata": {},
   "source": [
    "----"
   ]
  }
 ],
 "metadata": {
  "kernelspec": {
   "display_name": "R 3.3",
   "language": "R",
   "name": "ir33"
  },
  "language_info": {
   "codemirror_mode": "r",
   "file_extension": ".r",
   "mimetype": "text/x-r-source",
   "name": "R",
   "pygments_lexer": "r",
   "version": "3.5.1"
  }
 },
 "nbformat": 4,
 "nbformat_minor": 2
}
