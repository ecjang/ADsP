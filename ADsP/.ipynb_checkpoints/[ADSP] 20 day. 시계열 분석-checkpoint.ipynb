{
 "cells": [
  {
   "cell_type": "markdown",
   "metadata": {},
   "source": [
    "<h1><center>Chapter04. 통계분석</center></h1>"
   ]
  },
  {
   "cell_type": "markdown",
   "metadata": {},
   "source": [
    "<h1><center>제 4절. 시계열 분석</center></h1>"
   ]
  },
  {
   "cell_type": "markdown",
   "metadata": {},
   "source": [
    "### 학습목표\n",
    "1. 시계열 자료에 대한 이해\n",
    "1. 정상 시계열과 비정상 시계열을 구분\n",
    "1. ARIMA 모형과 분해 시계열 분석\n",
    "1. R프로그램으로 시계열 분석과 예측\n",
    "\n",
    "\n",
    "### 시계열 자료의 정상성\n",
    "대부분의 시계열 자료는 비정상성 데이터로써 미래를 예측하기 위해서는 비정상성을 정상성 데이터로 변환해야 한다.\n",
    "\n",
    "### 회귀분석과 상관분석\n",
    "시계열 분석은 회귀분석과 상관분석에 대한 이해를 필요로 하는 고급통계분석에 해당한다. "
   ]
  },
  {
   "cell_type": "markdown",
   "metadata": {},
   "source": [
    "----"
   ]
  },
  {
   "cell_type": "markdown",
   "metadata": {},
   "source": [
    "# 1. 시계열 자료"
   ]
  },
  {
   "cell_type": "markdown",
   "metadata": {},
   "source": [
    "## 1_1. 역사\n",
    "- 17세기 태양의 흑점자료나 밀 가격지구 변동을 나타내는 함수로 sin, cos 곡선 활용\n",
    "- Yule(1926), Walker(1937) : ARMA 개념 제시\n",
    "- Durbin(1960), Box & Jenkins(1970) : ARMA 모형에 대한 추정\n",
    "- Holt(1957) : [Exponential Smoothing 지수평활법] 제시\n",
    "- Winter(1960) : [Seasonal 계절성] 지수평활법 제시"
   ]
  },
  {
   "cell_type": "markdown",
   "metadata": {},
   "source": [
    "## 1_2. 시계열 자료\n",
    "시간의 흐름에 따라 관찰된 값들을 시계열 자료라고 한다. \n",
    "\n",
    "\n",
    "1. **[Univariate Time Series 일변량 시계열] 분석** : 하나의 변수만 가지고 분석. ARMA, 지수 평활법, 시계열 분해법 등\n",
    "1. **[Multivariate Time Series 다중 시계열] 분석** : 계량경제 모형, 전이함수모형, 개입분석, 상태공간 분석, 다변량 ARIMA 분석 등\n",
    "1. **[Enconometrics 계량경제] 분석** : 시계열 데이터에 대한 회귀분석(이자율, 인플레이션이 환율에 미치는 요인)\n",
    "1. **[Unstationarity Time Series 비정상성 시계열]** : 시계열 분석하는데 다루기 어려운 시계열 자료\n",
    "1. **[Stationarity Time Series 정상성 시계열]** : 비정상성 시계열 자료를 핸들링하여 다루기 쉬운 자료로 변환한 자료"
   ]
  },
  {
   "cell_type": "markdown",
   "metadata": {},
   "source": [
    "----"
   ]
  },
  {
   "cell_type": "markdown",
   "metadata": {},
   "source": [
    "# 2. 정상성"
   ]
  },
  {
   "cell_type": "markdown",
   "metadata": {},
   "source": [
    "## 2_1. 평균이 일정한 경우\n",
    "- 평균이 일정하지 않은 시계열은 **[Difference 차분]**을 통해 정상화\n",
    "- 차분은 현시점 자료에서 전 시점 자료를 뺌\n",
    "- [Regular Difference 일반차분] : 바로 전 시점의 자료를 빼는 것\n",
    "- [Seasonal Difference 계절차분] : 여러 시점의 자료를 빼는 것, 주로 계절성을 갖는 자료를 정상화하는데 사용"
   ]
  },
  {
   "cell_type": "markdown",
   "metadata": {},
   "source": [
    "## 2_2. 평균이 일정하지 않을 경우\n",
    "- 분산이 일정하지 않은 시계열은 **[Transformation 변환]**을 통해 정상화"
   ]
  },
  {
   "cell_type": "markdown",
   "metadata": {},
   "source": [
    "## 2_3. 정상시계열의 특징\n",
    "\n",
    "1. 어떤 시점에서 평균, 분산, 자기공분산을 측정하여도 동일한 값을 가짐.\n",
    "1. 항상 평균값으로 회귀하려는 경향이 있으며, 평균값 주변에서의 변동은 대체로 일정한 폭을 가짐\n",
    "1. 비정상성 시계열인 경우 특정 기간의 시계열 정보를 다른 시기로 일반화 불가"
   ]
  },
  {
   "cell_type": "markdown",
   "metadata": {},
   "source": [
    "----"
   ]
  },
  {
   "cell_type": "markdown",
   "metadata": {},
   "source": [
    "# 3. 시계열 자료 분석 방법"
   ]
  },
  {
   "cell_type": "markdown",
   "metadata": {},
   "source": [
    "1. 수학적 이론 모형 : **Box-Jenkins 방법, 지수 평활법, 시계열 분해법**\n",
    "1. 직관적 예측 : **지수평활법, 시계열 분해법**\n",
    "1. 장기 예측  : **회귀분석방법 활용**\n",
    "1. 단기 예측 : **Box-Jenkins 방법, 지수 평활법, 시례열 분해법**"
   ]
  },
  {
   "cell_type": "markdown",
   "metadata": {},
   "source": [
    "----"
   ]
  },
  {
   "cell_type": "markdown",
   "metadata": {},
   "source": [
    "# 4. 시계열 모형\n",
    "\n",
    "참고 : https://m.blog.naver.com/bluefish850/220749045909"
   ]
  },
  {
   "cell_type": "markdown",
   "metadata": {},
   "source": [
    "## 4_1. [AR Autoregression Model 자기회귀 모형]\n",
    "\n",
    "**자기상관 모형**이라고도 하며, 이전 값이 이후 값에 영향을 미치는 것을 의미하는데 이전의 값이 크면 이후에는 낮은 값이 나오는 식이다. 이런 **자기상관성을 시계열 모형으로 구성한 것이 AR모형**이며 가장 간단한 형태가 바로 직전 데이터가 다음 데이터에 영향을 준다고 가정한 AR(1)모형이다.\n",
    "\n",
    "$$ X(t)=(a\\times{X}(t-1)+c)+u\\times{e(t)} $$\n",
    "\n",
    "공식을 풀이해보면 시점 t에서 얻게 될 X(t)의 평균값은 t-1에서 얻었던 X(t-1)의 값에 a를 곱하고 c를 더한 것과 같다는 뜻이다. 여기서 e(t)항은 [White Noise 백색소음]이라고 부르며 표준정규분포에서 도출된 Random한 값이다. 즉 X(t)값은 평균이 $aX(t-1)+c$이며 분산이 u인 정규분포에서 도출되는 임의의 값이라는 뜻이다.\n",
    "\n",
    "- **AR(1)모형** : $ Z_t = \\Phi_1Z_{t-1} + \\alpha_t $ \n",
    "- **AR(2)모형** : $ Z_t = \\Phi_1Z_{t-1} + \\Phi_2Z_{t-2} + \\alpha_t $\n",
    "- 기호 설명\n",
    "    - $ Z_t $ : 현재 시점의 시계열 자료\n",
    "    - $ Z_{t-1}, Z_{t-2}, ..., Z_{p} $ : 이전, 그 이전 시점, ..., p 시점의 시계열 자료\n",
    "    - $ \\Phi_p $ : p 시점이 현재에 어느정도 영향을 주는지를 나타내는 모수"
   ]
  },
  {
   "cell_type": "markdown",
   "metadata": {},
   "source": [
    "- 백색잡음과정 : 시계열 분석의 오차항을 의미. \n",
    "- 부분자기함수(PCF)의 절단점을 통해 p의 값을 결정"
   ]
  },
  {
   "cell_type": "markdown",
   "metadata": {},
   "source": [
    "## 4_2. [MA Moving Average Model 이동평균 모형]"
   ]
  },
  {
   "cell_type": "markdown",
   "metadata": {},
   "source": [
    "유한한 개수의 백색잡음의 결합으로 항상 정상성을 만족한다. 자기상관함수(ACF)가 절단점을 갖고, 분열 자기상관계수(PACF)가 빠르게 감소한다.\n",
    "\n",
    "$$ Z_t = \\alpha_t - \\Theta_1\\alpha_{t-1} - \\Theta_2\\alpha_{t-2} - ... - \\Theta_p\\alpha_{t-p} $$\n",
    "\n",
    "- MA(2) = $ Z_t = \\alpha_t = \\Theta_1\\alpha_{t-1} - \\Theta_2\\alpha_{t-2} $"
   ]
  },
  {
   "cell_type": "markdown",
   "metadata": {},
   "source": [
    "## 4_3. [ARIMA AutoRegression Integrated Moving Average Model 자기회귀누적이동평균 모형(=p,d,q) ]"
   ]
  },
  {
   "cell_type": "markdown",
   "metadata": {},
   "source": [
    "비정상시계열 모형. 차분과 변환을 통해 ARMA모형으로 정상화 가능하다.\n",
    "\n",
    "$$ Z_t = \\Theta_1Z_{t-1} + \\Theta_2Z_{t-2} + ... + \\Theta_pZ_{t-p} + \\alpha_1 - \\Theta_1\\alpha_{t-1} - \\Theta_2\\alpha_{t-2} - ... - \\Theta_p\\alpha_{t-p} $$\n",
    "\n",
    "- p : AR모형, q:MA모형, d:차분횟수\n",
    "- 차분이나 변환을 통해서 AR 또는 MA 모형, 이 둘을 합친 ARMA 모형을 정상화함\n",
    "\n",
    "- d=0 일때 ARMA(p,q) : 정상성 만족\n",
    "- p=0 일때 IMA(d,q) : d번 차분하면 MA(q)\n",
    "- q=0 일때 ARI(p,d) : d번 차분하면 AR(p)"
   ]
  },
  {
   "cell_type": "markdown",
   "metadata": {},
   "source": [
    "## 4_4. 분해 시계열 : TSCI 추계순불"
   ]
  },
  {
   "cell_type": "markdown",
   "metadata": {},
   "source": [
    "시계열에 영향을 주는 4가지 요소가 있다.\n",
    "\n",
    "1. **[T(t) Trend Foactor 추세요인]** : -그래프가 형태가 오르거나 내리는 추세\n",
    "1. **[S(t) Seasonal Foactor 계절요인]** : 요일, 월, 사분기 등 고정된 주기에 따라 변함\n",
    "1. **[C(t) Cuclical Foactor 순환요인]** : 명백한 경제적 자연적 이유없이 일정 주기를 가짐\n",
    "1. **[I(t) Irregual Foactor 불규칙요인]** : 위 세가지 요인으로 설명할 수 없는 오차"
   ]
  },
  {
   "cell_type": "markdown",
   "metadata": {},
   "source": [
    "----"
   ]
  },
  {
   "cell_type": "markdown",
   "metadata": {},
   "source": [
    "# 5. 시계열 분석 사례"
   ]
  },
  {
   "cell_type": "markdown",
   "metadata": {},
   "source": [
    "## 5_1. 영국 왕들의 사망 시 나이 데이터"
   ]
  },
  {
   "cell_type": "markdown",
   "metadata": {},
   "source": [
    "- 영국 왕들의 사망 나이 분석 데이터 : http://localhost:8888/notebooks/%5Bdata%5D%20Nybirth_TimeSeries.ipynb#"
   ]
  },
  {
   "cell_type": "markdown",
   "metadata": {},
   "source": [
    "----"
   ]
  }
 ],
 "metadata": {
  "kernelspec": {
   "display_name": "R",
   "language": "R",
   "name": "ir"
  },
  "language_info": {
   "codemirror_mode": "r",
   "file_extension": ".r",
   "mimetype": "text/x-r-source",
   "name": "R",
   "pygments_lexer": "r",
   "version": "3.5.1"
  }
 },
 "nbformat": 4,
 "nbformat_minor": 2
}
