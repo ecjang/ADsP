{
 "cells": [
  {
   "cell_type": "markdown",
   "metadata": {},
   "source": [
    "<h1><center>Chapter04. 통계분석</center></h1>"
   ]
  },
  {
   "cell_type": "markdown",
   "metadata": {},
   "source": [
    "<h1><center>제 5절. 다차원 척도법</center></h1>"
   ]
  },
  {
   "cell_type": "markdown",
   "metadata": {},
   "source": [
    "## [MultiDiensional Scaling, MDS 다차원 척도법]\n",
    "\n",
    "여러 대상 간의 관계에 관한 수치적 자료를 이용해 유사성에 대한 상대적 거리로 구조화하는 방법이다. 따라서 2차원 혹은 3차원에서 특정 위치에 관측치를 배치하게 된다."
   ]
  },
  {
   "cell_type": "markdown",
   "metadata": {},
   "source": [
    "----"
   ]
  },
  {
   "cell_type": "markdown",
   "metadata": {},
   "source": [
    "## 1. [Classical MDS 전통적 다차원척도법]"
   ]
  },
  {
   "cell_type": "markdown",
   "metadata": {},
   "source": [
    "Numeric Data로만 이루어져 있고 **Stats 패키지의 cmdscale 함수**를 사용한다."
   ]
  },
  {
   "cell_type": "markdown",
   "metadata": {},
   "source": [
    "### 1_1. Watervoles 분석 사례\n",
    "영국 14개 지역의 물쥐의 13개 특성 발현 비율에 대한 데이터셋이다.\n",
    "- url : http://localhost:8888/notebooks/%5Bdata%5D%20ClassicalMDS_Watervoloes.ipynb"
   ]
  },
  {
   "cell_type": "markdown",
   "metadata": {},
   "source": [
    "### 1_2. Kinshup(친족) 분석 사례\n",
    "\n",
    "15가지 친족에 대해 6개의 그룹이 각각 정한 기준에 의해 분류한 데이터셋이다.\n",
    "- url : http://localhost:8888/notebooks/%5Bdata%5D%20ClassicalMDS_Kinship.ipynb"
   ]
  },
  {
   "cell_type": "markdown",
   "metadata": {},
   "source": [
    "----"
   ]
  },
  {
   "cell_type": "markdown",
   "metadata": {},
   "source": [
    "## 2. [Nonmetirc MDS 비계량적 다차원척도법]"
   ]
  },
  {
   "cell_type": "markdown",
   "metadata": {},
   "source": [
    "투입변수로 Numeric이 아닌 자료고 포함하며, **MASS 패키지의 isoMDS 함수**를 사용한다."
   ]
  },
  {
   "cell_type": "markdown",
   "metadata": {},
   "source": [
    "### 2_1. Swiss 분석 사례\n",
    "1888년 스위스 47개 불어권 도시에서 demographic 정보로써 출산률 저하에 따라 수집한 데이터셋.\n",
    "\n",
    "- url : http://localhost:8888/notebooks/%5Bdata%5D%20Nonmetric%20MDS_Swiss.ipynb"
   ]
  },
  {
   "cell_type": "markdown",
   "metadata": {},
   "source": [
    "----"
   ]
  }
 ],
 "metadata": {
  "kernelspec": {
   "display_name": "R",
   "language": "R",
   "name": "ir"
  },
  "language_info": {
   "codemirror_mode": "r",
   "file_extension": ".r",
   "mimetype": "text/x-r-source",
   "name": "R",
   "pygments_lexer": "r",
   "version": "3.5.1"
  }
 },
 "nbformat": 4,
 "nbformat_minor": 2
}
