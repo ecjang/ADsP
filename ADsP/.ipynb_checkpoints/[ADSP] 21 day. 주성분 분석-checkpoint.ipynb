{
 "cells": [
  {
   "cell_type": "markdown",
   "metadata": {},
   "source": [
    "<h1><center>Chapter04. 통계분석</center></h1>"
   ]
  },
  {
   "cell_type": "markdown",
   "metadata": {},
   "source": [
    "<h1><center>제 6절. 주성분 분석</center></h1>"
   ]
  },
  {
   "cell_type": "markdown",
   "metadata": {},
   "source": [
    "## [PCA Principal Component Analysis 주성분분석]\n",
    "\n",
    "상관관계가 있는 변수들을 결합해 상관관계가 없는 변수로 분산을 극대화하는 변수이다.\n",
    "- 선형 결합을 통해 변수를 축약하는데 사용\n",
    "- 데이터의 내부 구조를 파악하여 예측모델을 만드는데 사용\n",
    "- 희생되는 정보가 가장 적은 방향을 결정\n",
    "- 보통 3개 이내로 축약, 정보손실은 20% 이내로 설정"
   ]
  },
  {
   "cell_type": "markdown",
   "metadata": {},
   "source": [
    "----"
   ]
  },
  {
   "cell_type": "markdown",
   "metadata": {},
   "source": [
    "## 1. 요인분석과 비교"
   ]
  },
  {
   "cell_type": "markdown",
   "metadata": {},
   "source": [
    "요인 분석은 몇 개의 잠재된 변수를 추출하기 위해 사용하는 분석 방법이다. \n",
    "- 여러가지 방법이 있는데 주성분 분석은 그 중 한가지 방법"
   ]
  },
  {
   "cell_type": "markdown",
   "metadata": {},
   "source": [
    "- **공통점** : 많은 변수들을 몇 개의 변수로 축소하는데 활용한다.\n",
    "\n",
    "\n",
    "- **차이점**\n",
    "    1. **변수의 수와 이름** : 요인분석은 이름을 붙일 수 있고 몇 개든 지정가능, 주성분 분석은 보통 2개 정도\n",
    "    1. **변수와의 관계** : 요인분석은 기본적으로 대등한 관계, 주성분은 제 1주성분이 중요, 제 2주성분은 그 다음으로 중요\n",
    "    1. **목표변수와의 관계** : 요인분석은 목표변수를 고려하지 않음, 주성분은 목표변수에 따라 주성분 변수를 생성"
   ]
  },
  {
   "cell_type": "markdown",
   "metadata": {},
   "source": [
    "----"
   ]
  },
  {
   "cell_type": "markdown",
   "metadata": {},
   "source": [
    "## 2. [Heprathlon 7종 경기] 데이터셋 분석"
   ]
  },
  {
   "cell_type": "markdown",
   "metadata": {},
   "source": [
    "올림픽 여자 7종 경기 데이더셋. \n",
    "- 패키지가 없을 경우 : `install.packages(\"HSAUR\")`\n",
    "- 참고 : https://blog.naver.com/projaewon2/220775652966"
   ]
  },
  {
   "cell_type": "markdown",
   "metadata": {},
   "source": [
    "### 2_1. Load Dataset\n",
    "\n",
    "종목에 따라 큰 숫자가 좋은 것도 있고 나쁜 것도 있다. 이를 한 방향으로 맞추기 위해 시간 기록을 가장 늦은 선수의 기록에서 빼는 것으로 하여 수치가 클 수록 좋은 것으로 방향을 맞춘다."
   ]
  },
  {
   "cell_type": "code",
   "execution_count": 12,
   "metadata": {},
   "outputs": [
    {
     "data": {
      "text/html": [
       "<table>\n",
       "<thead><tr><th></th><th scope=col>hurdles</th><th scope=col>highjump</th><th scope=col>shot</th><th scope=col>run200m</th><th scope=col>longjump</th><th scope=col>javelin</th><th scope=col>run800m</th><th scope=col>score</th></tr></thead>\n",
       "<tbody>\n",
       "\t<tr><th scope=row>Joyner-Kersee (USA)</th><td>12.69 </td><td>1.86  </td><td>15.80 </td><td>22.56 </td><td>7.27  </td><td>45.66 </td><td>128.51</td><td>7291  </td></tr>\n",
       "\t<tr><th scope=row>John (GDR)</th><td>12.85 </td><td>1.80  </td><td>16.23 </td><td>23.65 </td><td>6.71  </td><td>42.56 </td><td>126.12</td><td>6897  </td></tr>\n",
       "\t<tr><th scope=row>Behmer (GDR)</th><td>13.20 </td><td>1.83  </td><td>14.20 </td><td>23.10 </td><td>6.68  </td><td>44.54 </td><td>124.20</td><td>6858  </td></tr>\n",
       "\t<tr><th scope=row>Sablovskaite (URS)</th><td>13.61 </td><td>1.80  </td><td>15.23 </td><td>23.92 </td><td>6.25  </td><td>42.78 </td><td>132.24</td><td>6540  </td></tr>\n",
       "\t<tr><th scope=row>Choubenkova (URS)</th><td>13.51 </td><td>1.74  </td><td>14.76 </td><td>23.93 </td><td>6.32  </td><td>47.46 </td><td>127.90</td><td>6540  </td></tr>\n",
       "\t<tr><th scope=row>Schulz (GDR)</th><td>13.75 </td><td>1.83  </td><td>13.50 </td><td>24.65 </td><td>6.33  </td><td>42.82 </td><td>125.79</td><td>6411  </td></tr>\n",
       "</tbody>\n",
       "</table>\n"
      ],
      "text/latex": [
       "\\begin{tabular}{r|llllllll}\n",
       "  & hurdles & highjump & shot & run200m & longjump & javelin & run800m & score\\\\\n",
       "\\hline\n",
       "\tJoyner-Kersee (USA) & 12.69  & 1.86   & 15.80  & 22.56  & 7.27   & 45.66  & 128.51 & 7291  \\\\\n",
       "\tJohn (GDR) & 12.85  & 1.80   & 16.23  & 23.65  & 6.71   & 42.56  & 126.12 & 6897  \\\\\n",
       "\tBehmer (GDR) & 13.20  & 1.83   & 14.20  & 23.10  & 6.68   & 44.54  & 124.20 & 6858  \\\\\n",
       "\tSablovskaite (URS) & 13.61  & 1.80   & 15.23  & 23.92  & 6.25   & 42.78  & 132.24 & 6540  \\\\\n",
       "\tChoubenkova (URS) & 13.51  & 1.74   & 14.76  & 23.93  & 6.32   & 47.46  & 127.90 & 6540  \\\\\n",
       "\tSchulz (GDR) & 13.75  & 1.83   & 13.50  & 24.65  & 6.33   & 42.82  & 125.79 & 6411  \\\\\n",
       "\\end{tabular}\n"
      ],
      "text/markdown": [
       "\n",
       "| <!--/--> | hurdles | highjump | shot | run200m | longjump | javelin | run800m | score | \n",
       "|---|---|---|---|---|---|\n",
       "| Joyner-Kersee (USA) | 12.69  | 1.86   | 15.80  | 22.56  | 7.27   | 45.66  | 128.51 | 7291   | \n",
       "| John (GDR) | 12.85  | 1.80   | 16.23  | 23.65  | 6.71   | 42.56  | 126.12 | 6897   | \n",
       "| Behmer (GDR) | 13.20  | 1.83   | 14.20  | 23.10  | 6.68   | 44.54  | 124.20 | 6858   | \n",
       "| Sablovskaite (URS) | 13.61  | 1.80   | 15.23  | 23.92  | 6.25   | 42.78  | 132.24 | 6540   | \n",
       "| Choubenkova (URS) | 13.51  | 1.74   | 14.76  | 23.93  | 6.32   | 47.46  | 127.90 | 6540   | \n",
       "| Schulz (GDR) | 13.75  | 1.83   | 13.50  | 24.65  | 6.33   | 42.82  | 125.79 | 6411   | \n",
       "\n",
       "\n"
      ],
      "text/plain": [
       "                    hurdles highjump shot  run200m longjump javelin run800m\n",
       "Joyner-Kersee (USA) 12.69   1.86     15.80 22.56   7.27     45.66   128.51 \n",
       "John (GDR)          12.85   1.80     16.23 23.65   6.71     42.56   126.12 \n",
       "Behmer (GDR)        13.20   1.83     14.20 23.10   6.68     44.54   124.20 \n",
       "Sablovskaite (URS)  13.61   1.80     15.23 23.92   6.25     42.78   132.24 \n",
       "Choubenkova (URS)   13.51   1.74     14.76 23.93   6.32     47.46   127.90 \n",
       "Schulz (GDR)        13.75   1.83     13.50 24.65   6.33     42.82   125.79 \n",
       "                    score\n",
       "Joyner-Kersee (USA) 7291 \n",
       "John (GDR)          6897 \n",
       "Behmer (GDR)        6858 \n",
       "Sablovskaite (URS)  6540 \n",
       "Choubenkova (URS)   6540 \n",
       "Schulz (GDR)        6411 "
      ]
     },
     "metadata": {},
     "output_type": "display_data"
    }
   ],
   "source": [
    "library(HSAUR)\n",
    "data(heptathlon)\n",
    "head(heptathlon)"
   ]
  },
  {
   "cell_type": "code",
   "execution_count": 22,
   "metadata": {},
   "outputs": [
    {
     "name": "stdout",
     "output_type": "stream",
     "text": [
      "'data.frame':\t25 obs. of  8 variables:\n",
      " $ hurdles : num  12.7 12.8 13.2 13.6 13.5 ...\n",
      " $ highjump: num  1.86 1.8 1.83 1.8 1.74 1.83 1.8 1.8 1.83 1.77 ...\n",
      " $ shot    : num  15.8 16.2 14.2 15.2 14.8 ...\n",
      " $ run200m : num  22.6 23.6 23.1 23.9 23.9 ...\n",
      " $ longjump: num  7.27 6.71 6.68 6.25 6.32 6.33 6.37 6.47 6.11 6.28 ...\n",
      " $ javelin : num  45.7 42.6 44.5 42.8 47.5 ...\n",
      " $ run800m : num  129 126 124 132 128 ...\n",
      " $ score   : int  7291 6897 6858 6540 6540 6411 6351 6297 6252 6252 ...\n"
     ]
    }
   ],
   "source": [
    "# 데이터 확인\n",
    "str(heptathlon)  # 전부 수치형 데이터"
   ]
  },
  {
   "cell_type": "code",
   "execution_count": 20,
   "metadata": {},
   "outputs": [],
   "source": [
    "# 데이터 전처리 작업. 데이터의 방향성을 맞춤.\n",
    "heptathlon_pre = heptathlon_org\n",
    "heptathlon_pre$hurdles <- max(heptathlon_pre$hurdles) - heptathlon_pre$hurdles\n",
    "heptathlon_pre$run200m <- max(heptathlon_pre$run200m) - heptathlon_pre$run200m\n",
    "heptathlon_pre$run800m <- max(heptathlon_pre$run800m) - heptathlon_pre$run800m"
   ]
  },
  {
   "cell_type": "code",
   "execution_count": 21,
   "metadata": {},
   "outputs": [
    {
     "data": {
      "text/html": [
       "<table>\n",
       "<thead><tr><th></th><th scope=col>hurdles</th><th scope=col>highjump</th><th scope=col>shot</th><th scope=col>run200m</th><th scope=col>longjump</th><th scope=col>javelin</th><th scope=col>run800m</th><th scope=col>score</th></tr></thead>\n",
       "<tbody>\n",
       "\t<tr><th scope=row>Joyner-Kersee (USA)</th><td>3.73 </td><td>1.86 </td><td>15.80</td><td>4.05 </td><td>7.27 </td><td>45.66</td><td>34.92</td><td>7291 </td></tr>\n",
       "\t<tr><th scope=row>John (GDR)</th><td>3.57 </td><td>1.80 </td><td>16.23</td><td>2.96 </td><td>6.71 </td><td>42.56</td><td>37.31</td><td>6897 </td></tr>\n",
       "\t<tr><th scope=row>Behmer (GDR)</th><td>3.22 </td><td>1.83 </td><td>14.20</td><td>3.51 </td><td>6.68 </td><td>44.54</td><td>39.23</td><td>6858 </td></tr>\n",
       "\t<tr><th scope=row>Sablovskaite (URS)</th><td>2.81 </td><td>1.80 </td><td>15.23</td><td>2.69 </td><td>6.25 </td><td>42.78</td><td>31.19</td><td>6540 </td></tr>\n",
       "\t<tr><th scope=row>Choubenkova (URS)</th><td>2.91 </td><td>1.74 </td><td>14.76</td><td>2.68 </td><td>6.32 </td><td>47.46</td><td>35.53</td><td>6540 </td></tr>\n",
       "\t<tr><th scope=row>Schulz (GDR)</th><td>2.67 </td><td>1.83 </td><td>13.50</td><td>1.96 </td><td>6.33 </td><td>42.82</td><td>37.64</td><td>6411 </td></tr>\n",
       "</tbody>\n",
       "</table>\n"
      ],
      "text/latex": [
       "\\begin{tabular}{r|llllllll}\n",
       "  & hurdles & highjump & shot & run200m & longjump & javelin & run800m & score\\\\\n",
       "\\hline\n",
       "\tJoyner-Kersee (USA) & 3.73  & 1.86  & 15.80 & 4.05  & 7.27  & 45.66 & 34.92 & 7291 \\\\\n",
       "\tJohn (GDR) & 3.57  & 1.80  & 16.23 & 2.96  & 6.71  & 42.56 & 37.31 & 6897 \\\\\n",
       "\tBehmer (GDR) & 3.22  & 1.83  & 14.20 & 3.51  & 6.68  & 44.54 & 39.23 & 6858 \\\\\n",
       "\tSablovskaite (URS) & 2.81  & 1.80  & 15.23 & 2.69  & 6.25  & 42.78 & 31.19 & 6540 \\\\\n",
       "\tChoubenkova (URS) & 2.91  & 1.74  & 14.76 & 2.68  & 6.32  & 47.46 & 35.53 & 6540 \\\\\n",
       "\tSchulz (GDR) & 2.67  & 1.83  & 13.50 & 1.96  & 6.33  & 42.82 & 37.64 & 6411 \\\\\n",
       "\\end{tabular}\n"
      ],
      "text/markdown": [
       "\n",
       "| <!--/--> | hurdles | highjump | shot | run200m | longjump | javelin | run800m | score | \n",
       "|---|---|---|---|---|---|\n",
       "| Joyner-Kersee (USA) | 3.73  | 1.86  | 15.80 | 4.05  | 7.27  | 45.66 | 34.92 | 7291  | \n",
       "| John (GDR) | 3.57  | 1.80  | 16.23 | 2.96  | 6.71  | 42.56 | 37.31 | 6897  | \n",
       "| Behmer (GDR) | 3.22  | 1.83  | 14.20 | 3.51  | 6.68  | 44.54 | 39.23 | 6858  | \n",
       "| Sablovskaite (URS) | 2.81  | 1.80  | 15.23 | 2.69  | 6.25  | 42.78 | 31.19 | 6540  | \n",
       "| Choubenkova (URS) | 2.91  | 1.74  | 14.76 | 2.68  | 6.32  | 47.46 | 35.53 | 6540  | \n",
       "| Schulz (GDR) | 2.67  | 1.83  | 13.50 | 1.96  | 6.33  | 42.82 | 37.64 | 6411  | \n",
       "\n",
       "\n"
      ],
      "text/plain": [
       "                    hurdles highjump shot  run200m longjump javelin run800m\n",
       "Joyner-Kersee (USA) 3.73    1.86     15.80 4.05    7.27     45.66   34.92  \n",
       "John (GDR)          3.57    1.80     16.23 2.96    6.71     42.56   37.31  \n",
       "Behmer (GDR)        3.22    1.83     14.20 3.51    6.68     44.54   39.23  \n",
       "Sablovskaite (URS)  2.81    1.80     15.23 2.69    6.25     42.78   31.19  \n",
       "Choubenkova (URS)   2.91    1.74     14.76 2.68    6.32     47.46   35.53  \n",
       "Schulz (GDR)        2.67    1.83     13.50 1.96    6.33     42.82   37.64  \n",
       "                    score\n",
       "Joyner-Kersee (USA) 7291 \n",
       "John (GDR)          6897 \n",
       "Behmer (GDR)        6858 \n",
       "Sablovskaite (URS)  6540 \n",
       "Choubenkova (URS)   6540 \n",
       "Schulz (GDR)        6411 "
      ]
     },
     "metadata": {},
     "output_type": "display_data"
    }
   ],
   "source": [
    "# hurdle, run200m, run800m의 값 변경 확인.\n",
    "head(heptathlon_pre)"
   ]
  },
  {
   "cell_type": "markdown",
   "metadata": {},
   "source": [
    "### 2_2. 산점도 확인\n",
    "\n",
    "산점도를 보면 7개 종목 중 두 종목 간에는 양의 상관 관계가 있음을 알 수 있다. [Javalin 투창]은 약간 예외인데 다른 종목과 다르게 기술이 중요하기 때문이다."
   ]
  },
  {
   "cell_type": "code",
   "execution_count": 28,
   "metadata": {},
   "outputs": [
    {
     "data": {
      "image/png": "[encoded data removed]",
      "text/plain": [
       "plot without title"
      ]
     },
     "metadata": {},
     "output_type": "display_data"
    }
   ],
   "source": [
    "score <- which(colnames(heptathlon_pre)==\"score\")\n",
    "plot(heptathlon_pre[-score])"
   ]
  },
  {
   "cell_type": "markdown",
   "metadata": {},
   "source": [
    "### 2_3. 상관계수 확인\n",
    "\n",
    "cor 함수를 이용해 두 종목간의 상관계수를 산출 종목 간 상관계수도 산점도에서와 같이 투창을 제외하고는 다른 종목간에 상관관계가 있다는 것을 확인 가능하다."
   ]
  },
  {
   "cell_type": "code",
   "execution_count": 38,
   "metadata": {
    "scrolled": true
   },
   "outputs": [
    {
     "data": {
      "text/html": [
       "<table>\n",
       "<thead><tr><th></th><th scope=col>hurdles</th><th scope=col>highjump</th><th scope=col>shot</th><th scope=col>run200m</th><th scope=col>longjump</th><th scope=col>javelin</th><th scope=col>run800m</th></tr></thead>\n",
       "<tbody>\n",
       "\t<tr><th scope=row>hurdles</th><td>1.00 </td><td>0.81 </td><td>0.65 </td><td>0.77 </td><td>0.91 </td><td> 0.01</td><td> 0.78</td></tr>\n",
       "\t<tr><th scope=row>highjump</th><td>0.81 </td><td>1.00 </td><td>0.44 </td><td>0.49 </td><td>0.78 </td><td> 0.00</td><td> 0.59</td></tr>\n",
       "\t<tr><th scope=row>shot</th><td>0.65 </td><td>0.44 </td><td>1.00 </td><td>0.68 </td><td>0.74 </td><td> 0.27</td><td> 0.42</td></tr>\n",
       "\t<tr><th scope=row>run200m</th><td>0.77 </td><td>0.49 </td><td>0.68 </td><td>1.00 </td><td>0.82 </td><td> 0.33</td><td> 0.62</td></tr>\n",
       "\t<tr><th scope=row>longjump</th><td>0.91 </td><td>0.78 </td><td>0.74 </td><td>0.82 </td><td>1.00 </td><td> 0.07</td><td> 0.70</td></tr>\n",
       "\t<tr><th scope=row>javelin</th><td>0.01 </td><td>0.00 </td><td>0.27 </td><td>0.33 </td><td>0.07 </td><td> 1.00</td><td>-0.02</td></tr>\n",
       "\t<tr><th scope=row>run800m</th><td>0.78 </td><td>0.59 </td><td>0.42 </td><td>0.62 </td><td>0.70 </td><td>-0.02</td><td> 1.00</td></tr>\n",
       "</tbody>\n",
       "</table>\n"
      ],
      "text/latex": [
       "\\begin{tabular}{r|lllllll}\n",
       "  & hurdles & highjump & shot & run200m & longjump & javelin & run800m\\\\\n",
       "\\hline\n",
       "\thurdles & 1.00  & 0.81  & 0.65  & 0.77  & 0.91  &  0.01 &  0.78\\\\\n",
       "\thighjump & 0.81  & 1.00  & 0.44  & 0.49  & 0.78  &  0.00 &  0.59\\\\\n",
       "\tshot & 0.65  & 0.44  & 1.00  & 0.68  & 0.74  &  0.27 &  0.42\\\\\n",
       "\trun200m & 0.77  & 0.49  & 0.68  & 1.00  & 0.82  &  0.33 &  0.62\\\\\n",
       "\tlongjump & 0.91  & 0.78  & 0.74  & 0.82  & 1.00  &  0.07 &  0.70\\\\\n",
       "\tjavelin & 0.01  & 0.00  & 0.27  & 0.33  & 0.07  &  1.00 & -0.02\\\\\n",
       "\trun800m & 0.78  & 0.59  & 0.42  & 0.62  & 0.70  & -0.02 &  1.00\\\\\n",
       "\\end{tabular}\n"
      ],
      "text/markdown": [
       "\n",
       "| <!--/--> | hurdles | highjump | shot | run200m | longjump | javelin | run800m | \n",
       "|---|---|---|---|---|---|---|\n",
       "| hurdles | 1.00  | 0.81  | 0.65  | 0.77  | 0.91  |  0.01 |  0.78 | \n",
       "| highjump | 0.81  | 1.00  | 0.44  | 0.49  | 0.78  |  0.00 |  0.59 | \n",
       "| shot | 0.65  | 0.44  | 1.00  | 0.68  | 0.74  |  0.27 |  0.42 | \n",
       "| run200m | 0.77  | 0.49  | 0.68  | 1.00  | 0.82  |  0.33 |  0.62 | \n",
       "| longjump | 0.91  | 0.78  | 0.74  | 0.82  | 1.00  |  0.07 |  0.70 | \n",
       "| javelin | 0.01  | 0.00  | 0.27  | 0.33  | 0.07  |  1.00 | -0.02 | \n",
       "| run800m | 0.78  | 0.59  | 0.42  | 0.62  | 0.70  | -0.02 |  1.00 | \n",
       "\n",
       "\n"
      ],
      "text/plain": [
       "         hurdles highjump shot run200m longjump javelin run800m\n",
       "hurdles  1.00    0.81     0.65 0.77    0.91      0.01    0.78  \n",
       "highjump 0.81    1.00     0.44 0.49    0.78      0.00    0.59  \n",
       "shot     0.65    0.44     1.00 0.68    0.74      0.27    0.42  \n",
       "run200m  0.77    0.49     0.68 1.00    0.82      0.33    0.62  \n",
       "longjump 0.91    0.78     0.74 0.82    1.00      0.07    0.70  \n",
       "javelin  0.01    0.00     0.27 0.33    0.07      1.00   -0.02  \n",
       "run800m  0.78    0.59     0.42 0.62    0.70     -0.02    1.00  "
      ]
     },
     "metadata": {},
     "output_type": "display_data"
    }
   ],
   "source": [
    "round(cor(heptathlon_pre[-score]), 2)"
   ]
  },
  {
   "cell_type": "markdown",
   "metadata": {},
   "source": [
    "### 2_4. 주성분 분석\n",
    "\n",
    "primp 함수를 적용하면 각 요소에 대한 계수와 주성분 점수를 얻을 수 있다."
   ]
  },
  {
   "cell_type": "code",
   "execution_count": 42,
   "metadata": {
    "scrolled": true
   },
   "outputs": [
    {
     "data": {
      "text/plain": [
       "Standard deviations (1, .., p=7):\n",
       "[1] 2.1119364 1.0928497 0.7218131 0.6761411 0.4952441 0.2701029 0.2213617\n",
       "\n",
       "Rotation (n x k) = (7 x 7):\n",
       "                PC1         PC2         PC3         PC4         PC5         PC6\n",
       "hurdles  -0.4528710  0.15792058 -0.04514996  0.02653873 -0.09494792 -0.78334101\n",
       "highjump -0.3771992  0.24807386 -0.36777902  0.67999172  0.01879888  0.09939981\n",
       "shot     -0.3630725 -0.28940743  0.67618919  0.12431725  0.51165201 -0.05085983\n",
       "run200m  -0.4078950 -0.26038545  0.08359211 -0.36106580 -0.64983404  0.02495639\n",
       "longjump -0.4562318  0.05587394  0.13931653  0.11129249 -0.18429810  0.59020972\n",
       "javelin  -0.0754090 -0.84169212 -0.47156016  0.12079924  0.13510669 -0.02724076\n",
       "run800m  -0.3749594  0.22448984 -0.39585671 -0.60341130  0.50432116  0.15555520\n",
       "                 PC7\n",
       "hurdles   0.38024707\n",
       "highjump -0.43393114\n",
       "shot     -0.21762491\n",
       "run200m  -0.45338483\n",
       "longjump  0.61206388\n",
       "javelin   0.17294667\n",
       "run800m  -0.09830963"
      ]
     },
     "metadata": {},
     "output_type": "display_data"
    }
   ],
   "source": [
    "heptathlon_pca <- prcomp(heptathlon_pre[-score], scale=T)\n",
    "heptathlon_pca"
   ]
  },
  {
   "cell_type": "markdown",
   "metadata": {},
   "source": [
    "summary 함수를 이용해 추가적인 정보를 얻을 수 있다. longjump와 run200m가 중요하고, javelin이 가장 덜 중요함을 알 수 있다."
   ]
  },
  {
   "cell_type": "code",
   "execution_count": 45,
   "metadata": {},
   "outputs": [
    {
     "data": {
      "text/plain": [
       "Importance of components:\n",
       "                          PC1    PC2     PC3     PC4     PC5     PC6    PC7\n",
       "Standard deviation     2.1119 1.0928 0.72181 0.67614 0.49524 0.27010 0.2214\n",
       "Proportion of Variance 0.6372 0.1706 0.07443 0.06531 0.03504 0.01042 0.0070\n",
       "Cumulative Proportion  0.6372 0.8078 0.88223 0.94754 0.98258 0.99300 1.0000"
      ]
     },
     "metadata": {},
     "output_type": "display_data"
    }
   ],
   "source": [
    "summary(heptathlon_pca)"
   ]
  },
  {
   "cell_type": "markdown",
   "metadata": {},
   "source": [
    "- 제1주성분과 제2주성분의 누적 기여율은 80%\n",
    "- 제1주성분의 기여율(해석률)은 63%, 제2주성분을 통한 기여율은 17% 정도"
   ]
  },
  {
   "cell_type": "code",
   "execution_count": 58,
   "metadata": {},
   "outputs": [
    {
     "data": {
      "text/html": [
       "'numeric'"
      ],
      "text/latex": [
       "'numeric'"
      ],
      "text/markdown": [
       "'numeric'"
      ],
      "text/plain": [
       "[1] \"numeric\""
      ]
     },
     "metadata": {},
     "output_type": "display_data"
    },
    {
     "data": {
      "text/html": [
       "<dl class=dl-horizontal>\n",
       "\t<dt>longjump</dt>\n",
       "\t\t<dd>-0.45623184977594</dd>\n",
       "\t<dt>hurdles</dt>\n",
       "\t\t<dd>-0.452871046493355</dd>\n",
       "\t<dt>run200m</dt>\n",
       "\t\t<dd>-0.407895041254615</dd>\n",
       "\t<dt>highjump</dt>\n",
       "\t\t<dd>-0.377199230355884</dd>\n",
       "\t<dt>run800m</dt>\n",
       "\t\t<dd>-0.374959378673202</dd>\n",
       "\t<dt>shot</dt>\n",
       "\t\t<dd>-0.363072497179237</dd>\n",
       "\t<dt>javelin</dt>\n",
       "\t\t<dd>-0.0754089953115748</dd>\n",
       "</dl>\n"
      ],
      "text/latex": [
       "\\begin{description*}\n",
       "\\item[longjump] -0.45623184977594\n",
       "\\item[hurdles] -0.452871046493355\n",
       "\\item[run200m] -0.407895041254615\n",
       "\\item[highjump] -0.377199230355884\n",
       "\\item[run800m] -0.374959378673202\n",
       "\\item[shot] -0.363072497179237\n",
       "\\item[javelin] -0.0754089953115748\n",
       "\\end{description*}\n"
      ],
      "text/markdown": [
       "longjump\n",
       ":   -0.45623184977594hurdles\n",
       ":   -0.452871046493355run200m\n",
       ":   -0.407895041254615highjump\n",
       ":   -0.377199230355884run800m\n",
       ":   -0.374959378673202shot\n",
       ":   -0.363072497179237javelin\n",
       ":   -0.0754089953115748\n",
       "\n"
      ],
      "text/plain": [
       "  longjump    hurdles    run200m   highjump    run800m       shot    javelin \n",
       "-0.4562318 -0.4528710 -0.4078950 -0.3771992 -0.3749594 -0.3630725 -0.0754090 "
      ]
     },
     "metadata": {},
     "output_type": "display_data"
    }
   ],
   "source": [
    "a1 <- heptathlon_pca$rotation[,1]\n",
    "mode(a1)\n",
    "sort(a1)"
   ]
  },
  {
   "cell_type": "code",
   "execution_count": 57,
   "metadata": {},
   "outputs": [
    {
     "data": {
      "text/html": [
       "'numeric'"
      ],
      "text/latex": [
       "'numeric'"
      ],
      "text/markdown": [
       "'numeric'"
      ],
      "text/plain": [
       "[1] \"numeric\""
      ]
     },
     "metadata": {},
     "output_type": "display_data"
    },
    {
     "data": {
      "text/html": [
       "<dl class=dl-horizontal>\n",
       "\t<dt>javelin</dt>\n",
       "\t\t<dd>-0.841692115095656</dd>\n",
       "\t<dt>shot</dt>\n",
       "\t\t<dd>-0.289407432671848</dd>\n",
       "\t<dt>run200m</dt>\n",
       "\t\t<dd>-0.260385452676582</dd>\n",
       "\t<dt>longjump</dt>\n",
       "\t\t<dd>0.0558739391464912</dd>\n",
       "\t<dt>hurdles</dt>\n",
       "\t\t<dd>0.15792058051048</dd>\n",
       "\t<dt>run800m</dt>\n",
       "\t\t<dd>0.224489844480035</dd>\n",
       "\t<dt>highjump</dt>\n",
       "\t\t<dd>0.248073860443456</dd>\n",
       "</dl>\n"
      ],
      "text/latex": [
       "\\begin{description*}\n",
       "\\item[javelin] -0.841692115095656\n",
       "\\item[shot] -0.289407432671848\n",
       "\\item[run200m] -0.260385452676582\n",
       "\\item[longjump] 0.0558739391464912\n",
       "\\item[hurdles] 0.15792058051048\n",
       "\\item[run800m] 0.224489844480035\n",
       "\\item[highjump] 0.248073860443456\n",
       "\\end{description*}\n"
      ],
      "text/markdown": [
       "javelin\n",
       ":   -0.841692115095656shot\n",
       ":   -0.289407432671848run200m\n",
       ":   -0.260385452676582longjump\n",
       ":   0.0558739391464912hurdles\n",
       ":   0.15792058051048run800m\n",
       ":   0.224489844480035highjump\n",
       ":   0.248073860443456\n",
       "\n"
      ],
      "text/plain": [
       "    javelin        shot     run200m    longjump     hurdles     run800m \n",
       "-0.84169212 -0.28940743 -0.26038545  0.05587394  0.15792058  0.22448984 \n",
       "   highjump \n",
       " 0.24807386 "
      ]
     },
     "metadata": {},
     "output_type": "display_data"
    }
   ],
   "source": [
    "a2 <- heptathlon_pca$rotation[,2]\n",
    "mode(a2)\n",
    "sort(a2)"
   ]
  },
  {
   "cell_type": "markdown",
   "metadata": {},
   "source": [
    "summary의 **Cumulative Proportion**을 보면 처음 2개의 성분이 81%를 설명하는 것을 알 수 있다. batplot을 통해서 보면 두 성분이 얼마나 중요한지 알 수 있다."
   ]
  },
  {
   "cell_type": "code",
   "execution_count": 64,
   "metadata": {},
   "outputs": [
    {
     "data": {
      "text/html": [
       "-0.991097774838951"
      ],
      "text/latex": [
       "-0.991097774838951"
      ],
      "text/markdown": [
       "-0.991097774838951"
      ],
      "text/plain": [
       "[1] -0.9910978"
      ]
     },
     "metadata": {},
     "output_type": "display_data"
    },
    {
     "data": {
      "image/png": "[encoded data removed]",
      "text/plain": [
       "Plot with title \"heptathlon_pca\""
      ]
     },
     "metadata": {},
     "output_type": "display_data"
    }
   ],
   "source": [
    "cor(heptathlon_pre$score, heptathlon_pca$x[,1] )\n",
    "plot(heptathlon_pca)"
   ]
  },
  {
   "cell_type": "markdown",
   "metadata": {},
   "source": [
    "- PC7까지 있지만 1,2가 대부분을 설명함을 알 수 있다."
   ]
  },
  {
   "cell_type": "markdown",
   "metadata": {},
   "source": [
    "rescale을 위해 centor와 scale값을 추출한다. \n",
    "- rescale은 규모를 축소해서 다시 설계한다는 의미"
   ]
  },
  {
   "cell_type": "code",
   "execution_count": 68,
   "metadata": {},
   "outputs": [],
   "source": [
    "center <- heptathlon_pca$center\n",
    "scale <- heptathlon_pca$scale"
   ]
  },
  {
   "cell_type": "markdown",
   "metadata": {},
   "source": [
    "첫번째 주성분을 추출한다. scale 함수를 적용하고, 각 선수별 주성분 점수를 계산한다.\n",
    "- hm을 score를 제외한 matrix로 저장. hm을 center와 scale을 추출한 값으로 축소하고 PC1값과 행렬 곱셈\n",
    "- **drop** : 1개 수준을 가진 집합체의 차원을 삭제\n",
    "- **%*%** : 행렬곱셈 명령어"
   ]
  },
  {
   "cell_type": "code",
   "execution_count": 75,
   "metadata": {},
   "outputs": [
    {
     "data": {
      "text/html": [
       "<dl class=dl-horizontal>\n",
       "\t<dt>Joyner-Kersee (USA)</dt>\n",
       "\t\t<dd>-4.12144762636023</dd>\n",
       "\t<dt>John (GDR)</dt>\n",
       "\t\t<dd>-2.88218593484013</dd>\n",
       "\t<dt>Behmer (GDR)</dt>\n",
       "\t\t<dd>-2.64963376599126</dd>\n",
       "\t<dt>Sablovskaite (URS)</dt>\n",
       "\t\t<dd>-1.34335120967757</dd>\n",
       "\t<dt>Choubenkova (URS)</dt>\n",
       "\t\t<dd>-1.35902569554282</dd>\n",
       "\t<dt>Schulz (GDR)</dt>\n",
       "\t\t<dd>-1.04384747092169</dd>\n",
       "\t<dt>Fleming (AUS)</dt>\n",
       "\t\t<dd>-1.10038563857154</dd>\n",
       "\t<dt>Greiner (USA)</dt>\n",
       "\t\t<dd>-0.923173638862049</dd>\n",
       "\t<dt>Lajbnerova (CZE)</dt>\n",
       "\t\t<dd>-0.530250688783237</dd>\n",
       "\t<dt>Bouraga (URS)</dt>\n",
       "\t\t<dd>-0.759819023916292</dd>\n",
       "\t<dt>Wijnsma (HOL)</dt>\n",
       "\t\t<dd>-0.556268302151919</dd>\n",
       "\t<dt>Dimitrova (BUL)</dt>\n",
       "\t\t<dd>-1.18645383210095</dd>\n",
       "\t<dt>Scheider (SWI)</dt>\n",
       "\t\t<dd>0.0154612264093372</dd>\n",
       "\t<dt>Braun (FRG)</dt>\n",
       "\t\t<dd>0.00377422255698401</dd>\n",
       "\t<dt>Ruotsalainen (FIN)</dt>\n",
       "\t\t<dd>0.0907477089383149</dd>\n",
       "\t<dt>Yuping (CHN)</dt>\n",
       "\t\t<dd>-0.13722543980327</dd>\n",
       "\t<dt>Hagger (GB)</dt>\n",
       "\t\t<dd>0.171128651449239</dd>\n",
       "\t<dt>Brown (USA)</dt>\n",
       "\t\t<dd>0.51925264574111</dd>\n",
       "\t<dt>Mulliner (GB)</dt>\n",
       "\t\t<dd>1.12548183277136</dd>\n",
       "\t<dt>Hautenauve (BEL)</dt>\n",
       "\t\t<dd>1.08569764619083</dd>\n",
       "\t<dt>Kytola (FIN)</dt>\n",
       "\t\t<dd>1.44705549915266</dd>\n",
       "\t<dt>Geremias (BRA)</dt>\n",
       "\t\t<dd>2.01402962042439</dd>\n",
       "\t<dt>Hui-Ing (TAI)</dt>\n",
       "\t\t<dd>2.88029863527855</dd>\n",
       "\t<dt>Jeong-Mi (KOR)</dt>\n",
       "\t\t<dd>2.97011860698208</dd>\n",
       "\t<dt>Launa (PNG)</dt>\n",
       "\t\t<dd>6.27002197162808</dd>\n",
       "</dl>\n"
      ],
      "text/latex": [
       "\\begin{description*}\n",
       "\\item[Joyner-Kersee (USA)] -4.12144762636023\n",
       "\\item[John (GDR)] -2.88218593484013\n",
       "\\item[Behmer (GDR)] -2.64963376599126\n",
       "\\item[Sablovskaite (URS)] -1.34335120967757\n",
       "\\item[Choubenkova (URS)] -1.35902569554282\n",
       "\\item[Schulz (GDR)] -1.04384747092169\n",
       "\\item[Fleming (AUS)] -1.10038563857154\n",
       "\\item[Greiner (USA)] -0.923173638862049\n",
       "\\item[Lajbnerova (CZE)] -0.530250688783237\n",
       "\\item[Bouraga (URS)] -0.759819023916292\n",
       "\\item[Wijnsma (HOL)] -0.556268302151919\n",
       "\\item[Dimitrova (BUL)] -1.18645383210095\n",
       "\\item[Scheider (SWI)] 0.0154612264093372\n",
       "\\item[Braun (FRG)] 0.00377422255698401\n",
       "\\item[Ruotsalainen (FIN)] 0.0907477089383149\n",
       "\\item[Yuping (CHN)] -0.13722543980327\n",
       "\\item[Hagger (GB)] 0.171128651449239\n",
       "\\item[Brown (USA)] 0.51925264574111\n",
       "\\item[Mulliner (GB)] 1.12548183277136\n",
       "\\item[Hautenauve (BEL)] 1.08569764619083\n",
       "\\item[Kytola (FIN)] 1.44705549915266\n",
       "\\item[Geremias (BRA)] 2.01402962042439\n",
       "\\item[Hui-Ing (TAI)] 2.88029863527855\n",
       "\\item[Jeong-Mi (KOR)] 2.97011860698208\n",
       "\\item[Launa (PNG)] 6.27002197162808\n",
       "\\end{description*}\n"
      ],
      "text/markdown": [
       "Joyner-Kersee (USA)\n",
       ":   -4.12144762636023John (GDR)\n",
       ":   -2.88218593484013Behmer (GDR)\n",
       ":   -2.64963376599126Sablovskaite (URS)\n",
       ":   -1.34335120967757Choubenkova (URS)\n",
       ":   -1.35902569554282Schulz (GDR)\n",
       ":   -1.04384747092169Fleming (AUS)\n",
       ":   -1.10038563857154Greiner (USA)\n",
       ":   -0.923173638862049Lajbnerova (CZE)\n",
       ":   -0.530250688783237Bouraga (URS)\n",
       ":   -0.759819023916292Wijnsma (HOL)\n",
       ":   -0.556268302151919Dimitrova (BUL)\n",
       ":   -1.18645383210095Scheider (SWI)\n",
       ":   0.0154612264093372Braun (FRG)\n",
       ":   0.00377422255698401Ruotsalainen (FIN)\n",
       ":   0.0907477089383149Yuping (CHN)\n",
       ":   -0.13722543980327Hagger (GB)\n",
       ":   0.171128651449239Brown (USA)\n",
       ":   0.51925264574111Mulliner (GB)\n",
       ":   1.12548183277136Hautenauve (BEL)\n",
       ":   1.08569764619083Kytola (FIN)\n",
       ":   1.44705549915266Geremias (BRA)\n",
       ":   2.01402962042439Hui-Ing (TAI)\n",
       ":   2.88029863527855Jeong-Mi (KOR)\n",
       ":   2.97011860698208Launa (PNG)\n",
       ":   6.27002197162808\n",
       "\n"
      ],
      "text/plain": [
       "Joyner-Kersee (USA)          John (GDR)        Behmer (GDR)  Sablovskaite (URS) \n",
       "       -4.121447626        -2.882185935        -2.649633766        -1.343351210 \n",
       "  Choubenkova (URS)        Schulz (GDR)       Fleming (AUS)       Greiner (USA) \n",
       "       -1.359025696        -1.043847471        -1.100385639        -0.923173639 \n",
       "   Lajbnerova (CZE)       Bouraga (URS)       Wijnsma (HOL)     Dimitrova (BUL) \n",
       "       -0.530250689        -0.759819024        -0.556268302        -1.186453832 \n",
       "     Scheider (SWI)         Braun (FRG)  Ruotsalainen (FIN)        Yuping (CHN) \n",
       "        0.015461226         0.003774223         0.090747709        -0.137225440 \n",
       "        Hagger (GB)         Brown (USA)       Mulliner (GB)    Hautenauve (BEL) \n",
       "        0.171128651         0.519252646         1.125481833         1.085697646 \n",
       "       Kytola (FIN)      Geremias (BRA)       Hui-Ing (TAI)      Jeong-Mi (KOR) \n",
       "        1.447055499         2.014029620         2.880298635         2.970118607 \n",
       "        Launa (PNG) \n",
       "        6.270021972 "
      ]
     },
     "metadata": {},
     "output_type": "display_data"
    }
   ],
   "source": [
    "hm <- as.matrix(heptathlon_pre[, -score])\n",
    "drop(scale(hm, center=center, scale=scale) %*% heptathlon_pca$rotation[,1] )"
   ]
  },
  {
   "cell_type": "markdown",
   "metadata": {},
   "source": [
    "이렇게 선수별 주성분 점수가 계산됨. 또는 주성분 요소로부터 직접 값을 얻을 수 있다."
   ]
  },
  {
   "cell_type": "code",
   "execution_count": 77,
   "metadata": {},
   "outputs": [
    {
     "data": {
      "text/html": [
       "<dl class=dl-horizontal>\n",
       "\t<dt>Joyner-Kersee (USA)</dt>\n",
       "\t\t<dd>-4.12144762636023</dd>\n",
       "\t<dt>John (GDR)</dt>\n",
       "\t\t<dd>-2.88218593484013</dd>\n",
       "\t<dt>Behmer (GDR)</dt>\n",
       "\t\t<dd>-2.64963376599126</dd>\n",
       "\t<dt>Sablovskaite (URS)</dt>\n",
       "\t\t<dd>-1.34335120967757</dd>\n",
       "\t<dt>Choubenkova (URS)</dt>\n",
       "\t\t<dd>-1.35902569554282</dd>\n",
       "\t<dt>Schulz (GDR)</dt>\n",
       "\t\t<dd>-1.04384747092169</dd>\n",
       "\t<dt>Fleming (AUS)</dt>\n",
       "\t\t<dd>-1.10038563857154</dd>\n",
       "\t<dt>Greiner (USA)</dt>\n",
       "\t\t<dd>-0.923173638862049</dd>\n",
       "\t<dt>Lajbnerova (CZE)</dt>\n",
       "\t\t<dd>-0.530250688783237</dd>\n",
       "\t<dt>Bouraga (URS)</dt>\n",
       "\t\t<dd>-0.759819023916292</dd>\n",
       "\t<dt>Wijnsma (HOL)</dt>\n",
       "\t\t<dd>-0.556268302151919</dd>\n",
       "\t<dt>Dimitrova (BUL)</dt>\n",
       "\t\t<dd>-1.18645383210095</dd>\n",
       "\t<dt>Scheider (SWI)</dt>\n",
       "\t\t<dd>0.0154612264093372</dd>\n",
       "\t<dt>Braun (FRG)</dt>\n",
       "\t\t<dd>0.00377422255698401</dd>\n",
       "\t<dt>Ruotsalainen (FIN)</dt>\n",
       "\t\t<dd>0.0907477089383149</dd>\n",
       "\t<dt>Yuping (CHN)</dt>\n",
       "\t\t<dd>-0.13722543980327</dd>\n",
       "\t<dt>Hagger (GB)</dt>\n",
       "\t\t<dd>0.171128651449239</dd>\n",
       "\t<dt>Brown (USA)</dt>\n",
       "\t\t<dd>0.51925264574111</dd>\n",
       "\t<dt>Mulliner (GB)</dt>\n",
       "\t\t<dd>1.12548183277136</dd>\n",
       "\t<dt>Hautenauve (BEL)</dt>\n",
       "\t\t<dd>1.08569764619083</dd>\n",
       "\t<dt>Kytola (FIN)</dt>\n",
       "\t\t<dd>1.44705549915266</dd>\n",
       "\t<dt>Geremias (BRA)</dt>\n",
       "\t\t<dd>2.01402962042439</dd>\n",
       "\t<dt>Hui-Ing (TAI)</dt>\n",
       "\t\t<dd>2.88029863527855</dd>\n",
       "\t<dt>Jeong-Mi (KOR)</dt>\n",
       "\t\t<dd>2.97011860698208</dd>\n",
       "\t<dt>Launa (PNG)</dt>\n",
       "\t\t<dd>6.27002197162808</dd>\n",
       "</dl>\n"
      ],
      "text/latex": [
       "\\begin{description*}\n",
       "\\item[Joyner-Kersee (USA)] -4.12144762636023\n",
       "\\item[John (GDR)] -2.88218593484013\n",
       "\\item[Behmer (GDR)] -2.64963376599126\n",
       "\\item[Sablovskaite (URS)] -1.34335120967757\n",
       "\\item[Choubenkova (URS)] -1.35902569554282\n",
       "\\item[Schulz (GDR)] -1.04384747092169\n",
       "\\item[Fleming (AUS)] -1.10038563857154\n",
       "\\item[Greiner (USA)] -0.923173638862049\n",
       "\\item[Lajbnerova (CZE)] -0.530250688783237\n",
       "\\item[Bouraga (URS)] -0.759819023916292\n",
       "\\item[Wijnsma (HOL)] -0.556268302151919\n",
       "\\item[Dimitrova (BUL)] -1.18645383210095\n",
       "\\item[Scheider (SWI)] 0.0154612264093372\n",
       "\\item[Braun (FRG)] 0.00377422255698401\n",
       "\\item[Ruotsalainen (FIN)] 0.0907477089383149\n",
       "\\item[Yuping (CHN)] -0.13722543980327\n",
       "\\item[Hagger (GB)] 0.171128651449239\n",
       "\\item[Brown (USA)] 0.51925264574111\n",
       "\\item[Mulliner (GB)] 1.12548183277136\n",
       "\\item[Hautenauve (BEL)] 1.08569764619083\n",
       "\\item[Kytola (FIN)] 1.44705549915266\n",
       "\\item[Geremias (BRA)] 2.01402962042439\n",
       "\\item[Hui-Ing (TAI)] 2.88029863527855\n",
       "\\item[Jeong-Mi (KOR)] 2.97011860698208\n",
       "\\item[Launa (PNG)] 6.27002197162808\n",
       "\\end{description*}\n"
      ],
      "text/markdown": [
       "Joyner-Kersee (USA)\n",
       ":   -4.12144762636023John (GDR)\n",
       ":   -2.88218593484013Behmer (GDR)\n",
       ":   -2.64963376599126Sablovskaite (URS)\n",
       ":   -1.34335120967757Choubenkova (URS)\n",
       ":   -1.35902569554282Schulz (GDR)\n",
       ":   -1.04384747092169Fleming (AUS)\n",
       ":   -1.10038563857154Greiner (USA)\n",
       ":   -0.923173638862049Lajbnerova (CZE)\n",
       ":   -0.530250688783237Bouraga (URS)\n",
       ":   -0.759819023916292Wijnsma (HOL)\n",
       ":   -0.556268302151919Dimitrova (BUL)\n",
       ":   -1.18645383210095Scheider (SWI)\n",
       ":   0.0154612264093372Braun (FRG)\n",
       ":   0.00377422255698401Ruotsalainen (FIN)\n",
       ":   0.0907477089383149Yuping (CHN)\n",
       ":   -0.13722543980327Hagger (GB)\n",
       ":   0.171128651449239Brown (USA)\n",
       ":   0.51925264574111Mulliner (GB)\n",
       ":   1.12548183277136Hautenauve (BEL)\n",
       ":   1.08569764619083Kytola (FIN)\n",
       ":   1.44705549915266Geremias (BRA)\n",
       ":   2.01402962042439Hui-Ing (TAI)\n",
       ":   2.88029863527855Jeong-Mi (KOR)\n",
       ":   2.97011860698208Launa (PNG)\n",
       ":   6.27002197162808\n",
       "\n"
      ],
      "text/plain": [
       "Joyner-Kersee (USA)          John (GDR)        Behmer (GDR)  Sablovskaite (URS) \n",
       "       -4.121447626        -2.882185935        -2.649633766        -1.343351210 \n",
       "  Choubenkova (URS)        Schulz (GDR)       Fleming (AUS)       Greiner (USA) \n",
       "       -1.359025696        -1.043847471        -1.100385639        -0.923173639 \n",
       "   Lajbnerova (CZE)       Bouraga (URS)       Wijnsma (HOL)     Dimitrova (BUL) \n",
       "       -0.530250689        -0.759819024        -0.556268302        -1.186453832 \n",
       "     Scheider (SWI)         Braun (FRG)  Ruotsalainen (FIN)        Yuping (CHN) \n",
       "        0.015461226         0.003774223         0.090747709        -0.137225440 \n",
       "        Hagger (GB)         Brown (USA)       Mulliner (GB)    Hautenauve (BEL) \n",
       "        0.171128651         0.519252646         1.125481833         1.085697646 \n",
       "       Kytola (FIN)      Geremias (BRA)       Hui-Ing (TAI)      Jeong-Mi (KOR) \n",
       "        1.447055499         2.014029620         2.880298635         2.970118607 \n",
       "        Launa (PNG) \n",
       "        6.270021972 "
      ]
     },
     "metadata": {},
     "output_type": "display_data"
    }
   ],
   "source": [
    "predict(heptathlon_pca)[,1]"
   ]
  },
  {
   "cell_type": "markdown",
   "metadata": {},
   "source": [
    "### 2_5. 2개의 주성분을 이용한 시각화\n",
    "\n",
    "선수들의 2개의 주성분에 의한 시각화는 좌측과 아래의 척도로, 종목별 주성분에 대한 시각화는 우측과 상단의 척도로 시각화 한다.\n",
    "\n"
   ]
  },
  {
   "cell_type": "code",
   "execution_count": 82,
   "metadata": {
    "scrolled": false
   },
   "outputs": [
    {
     "data": {
      "image/png": "[encoded data removed]",
      "text/plain": [
       "plot without title"
      ]
     },
     "metadata": {},
     "output_type": "display_data"
    }
   ],
   "source": [
    "biplot(heptathlon_pca, col=c(\"gray\", \"black\"), cex=0.8)"
   ]
  },
  {
   "cell_type": "markdown",
   "metadata": {},
   "source": [
    "### 2_6. 첫번째 주성분과 7종 경기 점수와의 상관관계\n",
    "\n",
    "7종 경기에서 쓰이는 표준점수와 첫 번째 주성분 점수와의 상관관계를 확인.\n"
   ]
  },
  {
   "cell_type": "code",
   "execution_count": 83,
   "metadata": {},
   "outputs": [
    {
     "data": {
      "image/png": "[encoded data removed]",
      "text/plain": [
       "plot without title"
      ]
     },
     "metadata": {},
     "output_type": "display_data"
    }
   ],
   "source": [
    "plot(heptathlon_pre$score, heptathlon_pca$x[,1])"
   ]
  },
  {
   "cell_type": "code",
   "execution_count": 85,
   "metadata": {},
   "outputs": [
    {
     "data": {
      "text/html": [
       "-0.991097774838951"
      ],
      "text/latex": [
       "-0.991097774838951"
      ],
      "text/markdown": [
       "-0.991097774838951"
      ],
      "text/plain": [
       "[1] -0.9910978"
      ]
     },
     "metadata": {},
     "output_type": "display_data"
    }
   ],
   "source": [
    "cor(heptathlon_pre$score, heptathlon_pca$x[,1])"
   ]
  },
  {
   "cell_type": "markdown",
   "metadata": {},
   "source": [
    "### 2_7. 결론\n",
    "\n",
    "첫 번째 주성분이 올림픽 7종 경기의 공식 점수와 한 방향임을 알 수 있다."
   ]
  },
  {
   "cell_type": "markdown",
   "metadata": {},
   "source": [
    "----"
   ]
  }
 ],
 "metadata": {
  "kernelspec": {
   "display_name": "R",
   "language": "R",
   "name": "ir"
  },
  "language_info": {
   "codemirror_mode": "r",
   "file_extension": ".r",
   "mimetype": "text/x-r-source",
   "name": "R",
   "pygments_lexer": "r",
   "version": "3.5.1"
  }
 },
 "nbformat": 4,
 "nbformat_minor": 2
}
