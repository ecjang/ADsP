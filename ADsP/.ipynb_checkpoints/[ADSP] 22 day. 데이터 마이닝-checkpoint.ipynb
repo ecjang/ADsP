{
 "cells": [
  {
   "cell_type": "markdown",
   "metadata": {},
   "source": [
    "<h1><center>Chapter05. 정형 데이터 마이닝</center></h1>"
   ]
  },
  {
   "cell_type": "markdown",
   "metadata": {},
   "source": [
    "<h1><center>제 1절. 데이터 마이닝의 개요</center></h1>"
   ]
  },
  {
   "cell_type": "markdown",
   "metadata": {},
   "source": [
    "----"
   ]
  },
  {
   "cell_type": "markdown",
   "metadata": {},
   "source": [
    "## 1. 데이터 마이닝의 개요"
   ]
  },
  {
   "cell_type": "markdown",
   "metadata": {},
   "source": [
    "대규모의 데이터 안에서 의미 있는 **규칙이나 패턴**을 찾아내어 의사결정에 활용하는 것을 의미한다.\n",
    "\n",
    "- 통계분석과의 차이점\n",
    "    - **통계분석** : 가설에 따른 분석이나 검증을 진행\n",
    "    - **데이터 마이닝** : 다양한 알고리즘으로 의미 있는 정보를 찾아는 방법"
   ]
  },
  {
   "cell_type": "markdown",
   "metadata": {},
   "source": [
    "### 1_1. 종류\n",
    "\n",
    "- 지도학습 : **인공지능, 의사결정나무, K-평균 군집화, 연관분석, 회귀분석, 로짓분석, 최근접 이웃, 일반화 선형 모형**\n",
    "- 비지도학습 : **OLAP, 연관규칙 분석, 시각화 분석 분류, 군집화, 포케스팅, SOM**\n",
    "\n",
    "\n",
    "- 사용 예시\n",
    "    1. 병원 : 환자 데이터를 이용해 추후 어떤 질병이 발생할지 미리 예측\n",
    "    1. 응급실 : 이전 환자의 기록으로 어떤 조치를 할지 결정\n",
    "    1. 은행 : 고객 데이터를 통해 우량, 불량으로 구분하여 대출적격을 판단\n",
    "    1. 세관 : 입국자의 이력 데이터로 관세물품 반입여부 결정\n"
   ]
  },
  {
   "cell_type": "markdown",
   "metadata": {},
   "source": [
    "## 1_2. 모델 구분\n",
    "\n",
    "- **[Predictive Modeling 예측 모델]**\n",
    "    1. **[Classification 분류 분석]** : 가장 많이 사용되는 작업, 과거의 데이터로부터 특성을 찾아 분류 모형을 만들어 결과값을 예측함\n",
    "        - 회귀분석, 판별분석, 신경망, 의사결정나무\n",
    "        \n",
    "- **[Descriptive Modeling 설명 모델]** \n",
    "    1. **[Asscociation 연관 규칙]** : 종속관계를 찾아내어 교차판매, 매장진형, 첨부우편, 사기적발 등의 분야에 활용\n",
    "        - 동시발생 매트릭스\n",
    "        \n",
    "    1. **[Seqence 연속 규칙]** : 고객의 구매 이력 속성이 필요하며 목표 마케팅이나 일대일 마케팅에 활용\n",
    "        - 동시발생 매트릭스\n",
    "        \n",
    "    1 **[Clustering 데이터 군집화]** : 유사한 특징을 가진 몇 개의 그룹으로 분할. 분류 분석과 유사하나 분석 대상 값이 없음\n",
    "        - K-평균 군집화"
   ]
  },
  {
   "cell_type": "markdown",
   "metadata": {},
   "source": [
    "----"
   ]
  },
  {
   "cell_type": "markdown",
   "metadata": {},
   "source": [
    "## 2. 추진 단계"
   ]
  },
  {
   "cell_type": "markdown",
   "metadata": {},
   "source": [
    "1. 1단계 **목적 설정** : 무엇을 왜 분석하는지 명확한 목적을 설정. 전문가가 참여해 사용할 모델과 데이터를 정의\n",
    "1. 2단계 **데이터 준비** : 다양한 데이터를 준비, 정제 과정을 거쳐 품질을 보장해야 함\n",
    "1. 3계 **가공** : 목적 변수를 정의, 소프트웨어에 적용할 수 있는 형식으로 가공\n",
    "1. 4계 **기법 적용** : 사전에 정한 데이터마이닝 기법을 적용하여 정보를 추출\n",
    "1. 5계 **검증** : 추출 결과를 검증하고 업무에 적용. [ROI 투자대비성과]로 기대효과 전파"
   ]
  },
  {
   "cell_type": "markdown",
   "metadata": {},
   "source": [
    "----"
   ]
  }
 ],
 "metadata": {
  "kernelspec": {
   "display_name": "R",
   "language": "R",
   "name": "ir"
  },
  "language_info": {
   "codemirror_mode": "r",
   "file_extension": ".r",
   "mimetype": "text/x-r-source",
   "name": "R",
   "pygments_lexer": "r",
   "version": "3.5.1"
  }
 },
 "nbformat": 4,
 "nbformat_minor": 2
}
