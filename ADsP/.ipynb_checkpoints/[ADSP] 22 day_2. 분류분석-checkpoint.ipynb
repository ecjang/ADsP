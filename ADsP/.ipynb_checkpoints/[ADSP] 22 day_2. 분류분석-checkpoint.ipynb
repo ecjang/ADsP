{
 "cells": [
  {
   "cell_type": "markdown",
   "metadata": {},
   "source": [
    "<h1><center>Chapter05. 정형 데이터 마이닝</center></h1>"
   ]
  },
  {
   "cell_type": "markdown",
   "metadata": {},
   "source": [
    "<h1><center>제 2절. 분류 분석</center></h1>"
   ]
  },
  {
   "cell_type": "markdown",
   "metadata": {},
   "source": [
    "----"
   ]
  },
  {
   "cell_type": "markdown",
   "metadata": {},
   "source": [
    "## 1. 개요"
   ]
  },
  {
   "cell_type": "markdown",
   "metadata": {},
   "source": [
    "분류하고자 하는 타켓값을 범주형으로 설정하고, 입력변수를 이용해 **타켓을 분류예측하는 패턴을 파악하는 방법**이다.\n",
    "- 정의된 유한한 범주로 분류하는 분석하는 방법\n",
    "- 잘 정의된 범주와 충분한 훈련 데이터를 확보하는 것이 중요"
   ]
  },
  {
   "cell_type": "markdown",
   "metadata": {},
   "source": [
    "## 2. 활용"
   ]
  },
  {
   "cell_type": "markdown",
   "metadata": {},
   "source": [
    "- CRM : 갬페인에 반응할 고객과 그렇치 않을 고객 분류\n",
    "- 금융기관 : 고객의 대출한도액 분류, 우량 및 불량 고객 분류\n",
    "- 주식 : 상승 및 하락 예상 종목 분류, 부실기업 예측\n",
    "- 다수의 범주형 변수의 병합을 통한 범주 축소\n",
    "- 연속현 변수의 이산화 작업\n"
   ]
  },
  {
   "cell_type": "markdown",
   "metadata": {},
   "source": [
    "## 3. 적용시 유의사항"
   ]
  },
  {
   "cell_type": "markdown",
   "metadata": {},
   "source": [
    "잘 정의된 Training 데이터를 확보하여 **[Training 훈련]과 [Validation 검증]**을 위해 8:2 또는 7:3으로 나누어야 하고, 개발 모델을 검증할 Test 데이터도 확보해야 한다. \n",
    "- 동일 기간내의 검증용 데이터는 물론, 인접한 다른 기간의 데이터로 변동 기간에도 안정적으로 작용하는지 검증해야 함\n",
    "- 예: 1~6월까지의 데이터가 있다면 1~4월 데이터를 훈련용과 검증용으로 나누어 검증한 후, 5,6월 데이터로 다시 한 번 검증"
   ]
  },
  {
   "cell_type": "markdown",
   "metadata": {},
   "source": [
    "## 4. 모형"
   ]
  },
  {
   "cell_type": "markdown",
   "metadata": {},
   "source": [
    "\n",
    "1. **[Decision Tree 의사 결정 나무] : tree**\n",
    "1. **[Logistic Regression 로지스틱 회귀분석]**\n",
    "1. **[Nearest Neighborhood 최근접 이웃] : kknn**\n",
    "1. **[Neural Network 신경망 분석] : nnet**\n",
    "1. **[Support Vector Machine 지지도벡터기계] : e1071**\n",
    "1. **[Classification And Regression Tree CARET] : caret**\n",
    "1. **[Baysian Theorem 베이시안 정리] : LearnBayes**"
   ]
  },
  {
   "cell_type": "markdown",
   "metadata": {},
   "source": [
    "##### 4_2. [Logistic Regression 로지스틱 회귀분석]\n",
    "\n",
    "특정 집단에 속할 추정확률을 **[Posterior Probability 사후확률]**이라고 하며, 변수별 **[Odds 오즈]**값을 이용해 해당 값이 증가할 때 예측값이 얼마나 증가하는지를 알려주기 때문에 주로 사용하는 분석 방법이다. \n",
    "- 표준 로지스틱 분포의 누적확률분포로 1을 예측\n",
    "- 유사한 Probit 모형은 표준정규분포의 누적확률함수로 모형화한 것. 기준값이 0.5보다 크면 1로 분류"
   ]
  },
  {
   "cell_type": "markdown",
   "metadata": {},
   "source": [
    "----"
   ]
  },
  {
   "cell_type": "markdown",
   "metadata": {},
   "source": [
    "## 5. 의사결정 나무\n",
    "\n",
    "의사 결정 규칙이 나무 모형으로 이루어진 분류 방법이다.\n",
    "\n",
    "- 결정 시점과 성과를 한 눈에 볼 수 있음\n",
    "- 계산 결과가 직접 나타나 분석이 간편함\n",
    "- 계산이 복잡하지 않아 대용량데이터에도 적합\n",
    "- 비정상 잡음 데이터에도 민감함 없이 분류 가능\n",
    "- 상관성이 높은 다른 변수가 있어도 크게 영향을 받지 않음\n",
    "\n",
    "#### 의사결정나무 용어\n",
    "- [Node 노드] : 각 분기점\n",
    "- [Root Node 뿌리노드] : 최상위 분기점\n",
    "- [Ternimal Node 끝노드] : 자식이 없는 마디\n",
    "- [Leaf 잎] : 최하단의 각 개체가 속하는 그룹, 분류의 결과"
   ]
  },
  {
   "cell_type": "markdown",
   "metadata": {},
   "source": [
    "#### Iris 의사결정 예제\n",
    "- iris : http://localhost:8888/notebooks/%5Bdata%5D%20DecisionTree_Iris.ipynb\n",
    "- wine : http://localhost:8888/notebooks/%5Bdata%5D%20DecisionTree_Wine.ipynb"
   ]
  },
  {
   "cell_type": "markdown",
   "metadata": {},
   "source": [
    "----"
   ]
  },
  {
   "cell_type": "markdown",
   "metadata": {},
   "source": [
    "## 6. 신경망 분석\n",
    "\n",
    "뇌의 처리구조를 모방한 인공신경망 기법으로 입력된 값을 분류하거나 연속형 값을 예측하는데 사용한다. \n",
    "- 입력한 값에 따라 **[Wegith 가중치]**가 부여되고 **[Activation Function 활성화 함수]**에 따라 출력값이 결정됨\n",
    "- 원하는 값이 나올 때까지 오차가 작아지게 가중치가 조정\n",
    "- 입력 출력 모두 한개 또는 여러개 가능\n",
    "- **[Hidden Layer 은닉층]** 입력층과 출력층 사이에 있는 층으로 입력과 출력사이에서 가중치 계산\n",
    "- IT발전으로 처리속도가 빨라지고, GPU 다수의 코어로 빠른 연산이 가능해짐"
   ]
  },
  {
   "cell_type": "markdown",
   "metadata": {},
   "source": [
    "- iris 분석 : http://localhost:8888/notebooks/%5Bdata%5D%20NeuralNet_Iris.ipynb\n",
    "- infert 분석 : http://localhost:8888/notebooks/%5Bdata%5D%20NeuralNet_infert.ipynb"
   ]
  },
  {
   "cell_type": "markdown",
   "metadata": {},
   "source": [
    "---"
   ]
  },
  {
   "cell_type": "markdown",
   "metadata": {},
   "source": [
    "## 7. [Enssemble 앙상블]\n",
    "\n",
    "한 개의 데이텅 대해 여러개의 모델을 [Conbine 합치거나], 또는 [Consensus 만장일치]에 의해 예측값을 결정하는 방법이다. 마치 여러분야의 전문가들의 의견을 모아 하나로 합치는 방식과 유사하며 예측성능을 높일 수 있는 장점이 있지만 이해가 어려운 단점이 있다.\n",
    "- 각각의 알고리즘 마다 장점이 다르기 때문에 여러 모델의 결과를 결합하여 사용\n",
    "- Netflix 경진대회에서 각 팀의 예측을 결합한 방식이 우승"
   ]
  },
  {
   "cell_type": "markdown",
   "metadata": {},
   "source": [
    "### 7_1. [Bagging Bootstrap Aggregation 배깅]\n",
    "\n",
    "전체 데이터에서 **동일 크기로 단순 복원 추출한 데이터**로 모델을 생성하고 결합하는 방식이다.\n",
    "- **[Bootstrap 부트스트랩]** : 동일 크기로 단순복원추출한 데이터\n",
    "- adabag 패키지를 사용, 앙상블 모델을 이용하려면 caet 패키지를 사용\n",
    "\n",
    "\n",
    "- iris Bagging 분석 : http://localhost:8888/notebooks/%5Bdata%5D%20EnssembleBagging_Iris.ipynb"
   ]
  },
  {
   "cell_type": "markdown",
   "metadata": {},
   "source": [
    "### 7_2. [Boosting 부스팅]\n",
    "\n",
    "Bagging과 비슷한 방식에 **오분류된 데이터에 가중치**를 주어서 추출하는 방식이다. adaBoosting 방법이 많이 사용된다.\n",
    "- 편향이나 분산을 줄여서 성과를 내는 방식\n",
    "- 다른 모델에서 변수 중요도가 낮은 변수의 중요도가 높게 나옴\n",
    "\n",
    "\n",
    "- iris Boosting 분석 : http://localhost:8888/notebooks/%5Bdata%5D%20EnssembleBoosting_Iris.ipynb"
   ]
  },
  {
   "cell_type": "markdown",
   "metadata": {},
   "source": [
    "### 7_3. [Random Forest 랜덤 포레스트]\n",
    "\n",
    "가치치기할 때 Tree 구성을 시도하며 **상관관계를 줄이는데** 이 과정으로 오류가 줄어들기 때문에 **Bagging 보다 성능이 좋다.** 앙상블 분석에서 선호하는 방법이다.\n",
    "\n",
    "- 분류에서는 **Majority Voting**을 사용, 회귀분석에서는 예측의 평균을 이용\n",
    "- 별도의 검증 데이터가 없어도 [OOB Out og Bag] 과정에서 제외된 자료를 이용해 검증\n",
    "- [Impurity 불순도]의 감소가 얼마나 나타나는지로 변수의 중요도를 제공\n",
    "- Gini Index를 이용해 노드의 불순도를 측정\n",
    "- 회귀모형의 경우 최소자승법으로 평가\n"
   ]
  },
  {
   "cell_type": "markdown",
   "metadata": {},
   "source": [
    "---"
   ]
  },
  {
   "cell_type": "markdown",
   "metadata": {},
   "source": [
    "## 8. 모델 평가"
   ]
  },
  {
   "cell_type": "markdown",
   "metadata": {},
   "source": [
    "## 8_1. [Confusion Matrix 혼돈 행렬]\n",
    "\n",
    "도출한 결과와 실제 값을 비교한 테이블로 **[Accuracy 탐지율], [Precision 정확도], [Detect Rate(=Recall) 재현율]의 정확성 지표**를 정확히 알 수 있다.\n",
    "\n",
    "- 참고 : http://darkpgmr.tistory.com/162\n",
    "- 참고 : https://thebook.io/006723/ch09/03/01/\n",
    "- 참고 : https://www.waytoliah.com/1222"
   ]
  },
  {
   "cell_type": "code",
   "execution_count": null,
   "metadata": {},
   "outputs": [],
   "source": []
  },
  {
   "cell_type": "code",
   "execution_count": null,
   "metadata": {},
   "outputs": [],
   "source": []
  },
  {
   "cell_type": "code",
   "execution_count": null,
   "metadata": {},
   "outputs": [],
   "source": []
  },
  {
   "cell_type": "code",
   "execution_count": null,
   "metadata": {},
   "outputs": [],
   "source": []
  },
  {
   "cell_type": "markdown",
   "metadata": {},
   "source": [
    "----"
   ]
  }
 ],
 "metadata": {
  "kernelspec": {
   "display_name": "R",
   "language": "R",
   "name": "ir"
  },
  "language_info": {
   "codemirror_mode": "r",
   "file_extension": ".r",
   "mimetype": "text/x-r-source",
   "name": "R",
   "pygments_lexer": "r",
   "version": "3.5.1"
  }
 },
 "nbformat": 4,
 "nbformat_minor": 2
}
