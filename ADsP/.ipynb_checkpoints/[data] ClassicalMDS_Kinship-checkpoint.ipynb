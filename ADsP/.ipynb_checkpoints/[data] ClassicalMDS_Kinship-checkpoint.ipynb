{
 "cells": [
  {
   "cell_type": "markdown",
   "metadata": {},
   "source": [
    "----"
   ]
  },
  {
   "cell_type": "markdown",
   "metadata": {},
   "source": [
    "# 전통적 다차원 분석 사례"
   ]
  },
  {
   "cell_type": "markdown",
   "metadata": {},
   "source": [
    "----"
   ]
  },
  {
   "cell_type": "markdown",
   "metadata": {},
   "source": [
    "## 1. Kinship Datasetz\n",
    "\n",
    "15가지 친족에 대해 6개의 그룹이 일정 기준에 의해 분류된 결과 데이터셋이다.\n",
    "- read.spss() 기능으로 웹에서 데이터를 불러옴\n",
    "- 데이터 로드 안됨\n",
    "- `file 'C:\\Users\\jang\\AppData\\Local\\Temp\\RtmpoTS12R\\file227c7456147e' is not in any supported SPSS format` 오류 발생.\n",
    "- 실습 불가"
   ]
  }
 ],
 "metadata": {
  "kernelspec": {
   "display_name": "R",
   "language": "R",
   "name": "ir"
  },
  "language_info": {
   "codemirror_mode": "r",
   "file_extension": ".r",
   "mimetype": "text/x-r-source",
   "name": "R",
   "pygments_lexer": "r",
   "version": "3.5.1"
  }
 },
 "nbformat": 4,
 "nbformat_minor": 2
}
