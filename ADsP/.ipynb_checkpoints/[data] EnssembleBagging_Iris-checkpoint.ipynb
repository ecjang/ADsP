{
 "cells": [
  {
   "cell_type": "markdown",
   "metadata": {},
   "source": [
    "----"
   ]
  },
  {
   "cell_type": "markdown",
   "metadata": {},
   "source": [
    "# 앙상블 분석"
   ]
  },
  {
   "cell_type": "markdown",
   "metadata": {},
   "source": [
    "- 참고 : http://r-bong.blogspot.com/2016/10/adabag.html\n",
    "- 참고 : http://contents2.kocw.or.kr/KOCW/document/2017/chungbuk/najonghwa/13.pdf"
   ]
  },
  {
   "cell_type": "markdown",
   "metadata": {},
   "source": [
    "----"
   ]
  },
  {
   "cell_type": "markdown",
   "metadata": {},
   "source": [
    "## 1. Load Library\n",
    "\n",
    "필요한 라이브러리를 불러온다. 설치가 안되어 있을 경우 패키지를 설치한다."
   ]
  },
  {
   "cell_type": "code",
   "execution_count": 1,
   "metadata": {},
   "outputs": [
    {
     "name": "stderr",
     "output_type": "stream",
     "text": [
      "Loading required package: rpart\n",
      "Loading required package: caret\n",
      "Loading required package: lattice\n",
      "Loading required package: ggplot2\n",
      "Loading required package: foreach\n",
      "Loading required package: doParallel\n",
      "Loading required package: iterators\n",
      "Loading required package: parallel\n",
      "Loading required package: grid\n",
      "Loading required package: libcoin\n",
      "Loading required package: mvtnorm\n"
     ]
    }
   ],
   "source": [
    "library(adabag)\n",
    "library(partykit)\n",
    "data(iris)"
   ]
  },
  {
   "cell_type": "markdown",
   "metadata": {},
   "source": [
    "## 2. Enssemble Model\n",
    "\n",
    "앙상플 모델링을 진행한다. mfinal은 기본적으로 100이며 이 값은 bootstrap 반복실행의 횟수나 몇 개의 tree를 이용하는지에 대한 값을 의미한다."
   ]
  },
  {
   "cell_type": "code",
   "execution_count": 2,
   "metadata": {},
   "outputs": [],
   "source": [
    "iris.bag <- bagging(Species~. , data=iris, mfinal=10)"
   ]
  },
  {
   "cell_type": "code",
   "execution_count": 3,
   "metadata": {},
   "outputs": [
    {
     "data": {
      "text/plain": [
       "n= 150 \n",
       "\n",
       "node), split, n, loss, yval, (yprob)\n",
       "      * denotes terminal node\n",
       "\n",
       "1) root 150 94 versicolor (0.29333333 0.37333333 0.33333333)  \n",
       "  2) Petal.Length< 2.45 44  0 setosa (1.00000000 0.00000000 0.00000000) *\n",
       "  3) Petal.Length>=2.45 106 50 versicolor (0.00000000 0.52830189 0.47169811)  \n",
       "    6) Petal.Width< 1.75 60  5 versicolor (0.00000000 0.91666667 0.08333333) *\n",
       "    7) Petal.Width>=1.75 46  1 virginica (0.00000000 0.02173913 0.97826087) *"
      ]
     },
     "metadata": {},
     "output_type": "display_data"
    }
   ],
   "source": [
    "iris.bag$tree[[10]]"
   ]
  },
  {
   "cell_type": "markdown",
   "metadata": {},
   "source": [
    "## 3. Validation\n",
    "\n",
    "변수의 중요도를 확인해본다."
   ]
  },
  {
   "cell_type": "code",
   "execution_count": 4,
   "metadata": {},
   "outputs": [
    {
     "data": {
      "text/html": [
       "<dl class=dl-horizontal>\n",
       "\t<dt>Petal.Length</dt>\n",
       "\t\t<dd>74.6384689492351</dd>\n",
       "\t<dt>Petal.Width</dt>\n",
       "\t\t<dd>25.3615310507649</dd>\n",
       "\t<dt>Sepal.Length</dt>\n",
       "\t\t<dd>0</dd>\n",
       "\t<dt>Sepal.Width</dt>\n",
       "\t\t<dd>0</dd>\n",
       "</dl>\n"
      ],
      "text/latex": [
       "\\begin{description*}\n",
       "\\item[Petal.Length] 74.6384689492351\n",
       "\\item[Petal.Width] 25.3615310507649\n",
       "\\item[Sepal.Length] 0\n",
       "\\item[Sepal.Width] 0\n",
       "\\end{description*}\n"
      ],
      "text/markdown": [
       "Petal.Length\n",
       ":   74.6384689492351Petal.Width\n",
       ":   25.3615310507649Sepal.Length\n",
       ":   0Sepal.Width\n",
       ":   0\n",
       "\n"
      ],
      "text/plain": [
       "Petal.Length  Petal.Width Sepal.Length  Sepal.Width \n",
       "    74.63847     25.36153      0.00000      0.00000 "
      ]
     },
     "metadata": {},
     "output_type": "display_data"
    }
   ],
   "source": [
    "iris.bag$importance"
   ]
  },
  {
   "cell_type": "markdown",
   "metadata": {},
   "source": [
    "## 4. Visualization\n",
    "\n",
    "해당 결과를 시각화 해본다."
   ]
  },
  {
   "cell_type": "code",
   "execution_count": 14,
   "metadata": {},
   "outputs": [
    {
     "data": {
      "image/png": "[encoded data removed]",
      "text/plain": [
       "plot without title"
      ]
     },
     "metadata": {},
     "output_type": "display_data"
    }
   ],
   "source": [
    "plot(iris.bag$tree[[10]])\n",
    "text(iris.bag$tree[[10]])"
   ]
  },
  {
   "cell_type": "markdown",
   "metadata": {},
   "source": [
    "## 5. Predict\n",
    "\n",
    "만들어진 모형으로 예측을 해본다."
   ]
  },
  {
   "cell_type": "code",
   "execution_count": 12,
   "metadata": {},
   "outputs": [
    {
     "data": {
      "text/plain": [
       "            \n",
       "             setosa versicolor virginica\n",
       "  setosa         50          0         0\n",
       "  versicolor      0         48         5\n",
       "  virginica       0          2        45"
      ]
     },
     "metadata": {},
     "output_type": "display_data"
    }
   ],
   "source": [
    "pred <- predict(iris.bag, newdata=iris)\n",
    "tb <- table(pred$class, iris[,5])\n",
    "tb"
   ]
  },
  {
   "cell_type": "markdown",
   "metadata": {},
   "source": [
    "결과를 보면 잘 분리 된 것을 확인 가능"
   ]
  },
  {
   "cell_type": "markdown",
   "metadata": {},
   "source": [
    "----"
   ]
  }
 ],
 "metadata": {
  "kernelspec": {
   "display_name": "R",
   "language": "R",
   "name": "ir"
  },
  "language_info": {
   "codemirror_mode": "r",
   "file_extension": ".r",
   "mimetype": "text/x-r-source",
   "name": "R",
   "pygments_lexer": "r",
   "version": "3.5.1"
  }
 },
 "nbformat": 4,
 "nbformat_minor": 2
}
