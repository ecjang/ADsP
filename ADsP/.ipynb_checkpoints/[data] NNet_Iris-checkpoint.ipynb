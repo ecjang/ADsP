{
 "cells": [
  {
   "cell_type": "markdown",
   "metadata": {},
   "source": [
    "----"
   ]
  },
  {
   "cell_type": "markdown",
   "metadata": {},
   "source": [
    "# 신경망 분석"
   ]
  },
  {
   "cell_type": "markdown",
   "metadata": {},
   "source": [
    "- 참고 : http://contents2.kocw.or.kr/KOCW/document/2017/chungbuk/najonghwa/10.pdf\n",
    "- 참고 : https://statkclee.github.io/deep-learning/r-nnet.html"
   ]
  },
  {
   "cell_type": "markdown",
   "metadata": {},
   "source": [
    "----"
   ]
  },
  {
   "cell_type": "markdown",
   "metadata": {},
   "source": [
    "## 1. Load Library\n",
    "\n",
    "필요한 라이브러리와 데이터를 불러온다. nnet() 함수를 이용하여 신경망 모형을 만들어 본다.\n",
    "\n",
    "- iris 데이터셋은 총 150개의 자료가 있음"
   ]
  },
  {
   "cell_type": "code",
   "execution_count": 2,
   "metadata": {},
   "outputs": [],
   "source": [
    "library(nnet)"
   ]
  },
  {
   "cell_type": "markdown",
   "metadata": {},
   "source": [
    "## 3. Renral Model\n",
    "\n",
    "은닉층을 추가하여 신경망 모형을 만든다.\n",
    "- **size** : 은닉 노드 수\n",
    "- **range** : 초기 랜덤 가중치는 0.1\n",
    "- **weight decay**의 모수는 0(기본값)\n",
    "- **maxit** : 최대 반복수는 200(기본값은 100)\n"
   ]
  },
  {
   "cell_type": "code",
   "execution_count": 4,
   "metadata": {},
   "outputs": [
    {
     "name": "stdout",
     "output_type": "stream",
     "text": [
      "# weights:  19\n",
      "initial  value 172.703441 \n",
      "iter  10 value 69.692898\n",
      "iter  20 value 69.589126\n",
      "iter  30 value 69.554873\n",
      "iter  40 value 52.204748\n",
      "iter  50 value 7.609713\n",
      "iter  60 value 7.163221\n",
      "iter  70 value 7.126012\n",
      "iter  80 value 7.104163\n",
      "iter  90 value 7.065723\n",
      "iter 100 value 7.044546\n",
      "iter 110 value 7.041510\n",
      "final  value 7.040236 \n",
      "converged\n"
     ]
    }
   ],
   "source": [
    "nn.iris <- nnet(Species~., data=iris, size=2, range=0.1, decay=5e-4, maxit=200)"
   ]
  },
  {
   "cell_type": "code",
   "execution_count": 5,
   "metadata": {
    "scrolled": true
   },
   "outputs": [
    {
     "data": {
      "text/plain": [
       "a 4-2-3 network with 19 weights\n",
       "options were - softmax modelling  decay=5e-04\n",
       " b->h1 i1->h1 i2->h1 i3->h1 i4->h1 \n",
       " -0.27  -0.85  -1.63   3.16   0.98 \n",
       " b->h2 i1->h2 i2->h2 i3->h2 i4->h2 \n",
       "-24.19  -9.77  -9.64  17.96  15.29 \n",
       " b->o1 h1->o1 h2->o1 \n",
       "  6.54  -7.31  -4.54 \n",
       " b->o2 h1->o2 h2->o2 \n",
       " -1.81  10.98  -8.59 \n",
       " b->o3 h1->o3 h2->o3 \n",
       " -4.70  -3.65  13.14 "
      ]
     },
     "metadata": {},
     "output_type": "display_data"
    }
   ],
   "source": [
    "summary(nn.iris)"
   ]
  },
  {
   "cell_type": "markdown",
   "metadata": {},
   "source": [
    "- 위 결과는 연결선의 방향과 가중치를 표현\n",
    "- 초깃값이 별로 지정되지 않으면 훈련시마다 값이 달라짐"
   ]
  },
  {
   "cell_type": "markdown",
   "metadata": {},
   "source": [
    "## 4. Visualization\n",
    "\n",
    "해당 결과를 시각화 해본다. 신경망 모델의 시각화를 위한 함수는 웹에서 불러올 수 있다."
   ]
  },
  {
   "cell_type": "code",
   "execution_count": 9,
   "metadata": {},
   "outputs": [
    {
     "name": "stderr",
     "output_type": "stream",
     "text": [
      "SHA-1 hash of file is bf3c7b8ac910823b729e3ce73bb6ab5e6955ad3d\n",
      "Loading required package: scales\n",
      "Loading required package: reshape\n"
     ]
    },
    {
     "data": {
      "image/png": "[encoded data removed]",
      "text/plain": [
       "plot without title"
      ]
     },
     "metadata": {},
     "output_type": "display_data"
    }
   ],
   "source": [
    "library(devtools)\n",
    "source_url('https://gist.githubusercontent.com/Peque/41a9e20d6687f2f3108d/raw/85e14f3a292e126f1454864427e3a189c2fe33f3/nnet_plot_update.r')\n",
    "plot.nnet(nn.iris)"
   ]
  },
  {
   "cell_type": "markdown",
   "metadata": {},
   "source": [
    "다른 방법으로 라이브러리를 사용할 수 있다."
   ]
  },
  {
   "cell_type": "code",
   "execution_count": 10,
   "metadata": {},
   "outputs": [
    {
     "name": "stderr",
     "output_type": "stream",
     "text": [
      "Loading required package: MASS\n"
     ]
    },
    {
     "data": {
      "text/html": [
       "<ol>\n",
       "\t<li><ol class=list-inline>\n",
       "\t<li>'clusterGeneration'</li>\n",
       "\t<li>'MASS'</li>\n",
       "\t<li>'reshape'</li>\n",
       "\t<li>'scales'</li>\n",
       "\t<li>'devtools'</li>\n",
       "\t<li>'nnet'</li>\n",
       "\t<li>'stats'</li>\n",
       "\t<li>'graphics'</li>\n",
       "\t<li>'grDevices'</li>\n",
       "\t<li>'utils'</li>\n",
       "\t<li>'datasets'</li>\n",
       "\t<li>'methods'</li>\n",
       "\t<li>'base'</li>\n",
       "</ol>\n",
       "</li>\n",
       "\t<li><ol class=list-inline>\n",
       "\t<li>'clusterGeneration'</li>\n",
       "\t<li>'MASS'</li>\n",
       "\t<li>'reshape'</li>\n",
       "\t<li>'scales'</li>\n",
       "\t<li>'devtools'</li>\n",
       "\t<li>'nnet'</li>\n",
       "\t<li>'stats'</li>\n",
       "\t<li>'graphics'</li>\n",
       "\t<li>'grDevices'</li>\n",
       "\t<li>'utils'</li>\n",
       "\t<li>'datasets'</li>\n",
       "\t<li>'methods'</li>\n",
       "\t<li>'base'</li>\n",
       "</ol>\n",
       "</li>\n",
       "\t<li><ol class=list-inline>\n",
       "\t<li>'clusterGeneration'</li>\n",
       "\t<li>'MASS'</li>\n",
       "\t<li>'reshape'</li>\n",
       "\t<li>'scales'</li>\n",
       "\t<li>'devtools'</li>\n",
       "\t<li>'nnet'</li>\n",
       "\t<li>'stats'</li>\n",
       "\t<li>'graphics'</li>\n",
       "\t<li>'grDevices'</li>\n",
       "\t<li>'utils'</li>\n",
       "\t<li>'datasets'</li>\n",
       "\t<li>'methods'</li>\n",
       "\t<li>'base'</li>\n",
       "</ol>\n",
       "</li>\n",
       "</ol>\n"
      ],
      "text/latex": [
       "\\begin{enumerate}\n",
       "\\item \\begin{enumerate*}\n",
       "\\item 'clusterGeneration'\n",
       "\\item 'MASS'\n",
       "\\item 'reshape'\n",
       "\\item 'scales'\n",
       "\\item 'devtools'\n",
       "\\item 'nnet'\n",
       "\\item 'stats'\n",
       "\\item 'graphics'\n",
       "\\item 'grDevices'\n",
       "\\item 'utils'\n",
       "\\item 'datasets'\n",
       "\\item 'methods'\n",
       "\\item 'base'\n",
       "\\end{enumerate*}\n",
       "\n",
       "\\item \\begin{enumerate*}\n",
       "\\item 'clusterGeneration'\n",
       "\\item 'MASS'\n",
       "\\item 'reshape'\n",
       "\\item 'scales'\n",
       "\\item 'devtools'\n",
       "\\item 'nnet'\n",
       "\\item 'stats'\n",
       "\\item 'graphics'\n",
       "\\item 'grDevices'\n",
       "\\item 'utils'\n",
       "\\item 'datasets'\n",
       "\\item 'methods'\n",
       "\\item 'base'\n",
       "\\end{enumerate*}\n",
       "\n",
       "\\item \\begin{enumerate*}\n",
       "\\item 'clusterGeneration'\n",
       "\\item 'MASS'\n",
       "\\item 'reshape'\n",
       "\\item 'scales'\n",
       "\\item 'devtools'\n",
       "\\item 'nnet'\n",
       "\\item 'stats'\n",
       "\\item 'graphics'\n",
       "\\item 'grDevices'\n",
       "\\item 'utils'\n",
       "\\item 'datasets'\n",
       "\\item 'methods'\n",
       "\\item 'base'\n",
       "\\end{enumerate*}\n",
       "\n",
       "\\end{enumerate}\n"
      ],
      "text/markdown": [
       "1. 1. 'clusterGeneration'\n",
       "2. 'MASS'\n",
       "3. 'reshape'\n",
       "4. 'scales'\n",
       "5. 'devtools'\n",
       "6. 'nnet'\n",
       "7. 'stats'\n",
       "8. 'graphics'\n",
       "9. 'grDevices'\n",
       "10. 'utils'\n",
       "11. 'datasets'\n",
       "12. 'methods'\n",
       "13. 'base'\n",
       "\n",
       "\n",
       "\n",
       "2. 1. 'clusterGeneration'\n",
       "2. 'MASS'\n",
       "3. 'reshape'\n",
       "4. 'scales'\n",
       "5. 'devtools'\n",
       "6. 'nnet'\n",
       "7. 'stats'\n",
       "8. 'graphics'\n",
       "9. 'grDevices'\n",
       "10. 'utils'\n",
       "11. 'datasets'\n",
       "12. 'methods'\n",
       "13. 'base'\n",
       "\n",
       "\n",
       "\n",
       "3. 1. 'clusterGeneration'\n",
       "2. 'MASS'\n",
       "3. 'reshape'\n",
       "4. 'scales'\n",
       "5. 'devtools'\n",
       "6. 'nnet'\n",
       "7. 'stats'\n",
       "8. 'graphics'\n",
       "9. 'grDevices'\n",
       "10. 'utils'\n",
       "11. 'datasets'\n",
       "12. 'methods'\n",
       "13. 'base'\n",
       "\n",
       "\n",
       "\n",
       "\n",
       "\n"
      ],
      "text/plain": [
       "[[1]]\n",
       " [1] \"clusterGeneration\" \"MASS\"              \"reshape\"          \n",
       " [4] \"scales\"            \"devtools\"          \"nnet\"             \n",
       " [7] \"stats\"             \"graphics\"          \"grDevices\"        \n",
       "[10] \"utils\"             \"datasets\"          \"methods\"          \n",
       "[13] \"base\"             \n",
       "\n",
       "[[2]]\n",
       " [1] \"clusterGeneration\" \"MASS\"              \"reshape\"          \n",
       " [4] \"scales\"            \"devtools\"          \"nnet\"             \n",
       " [7] \"stats\"             \"graphics\"          \"grDevices\"        \n",
       "[10] \"utils\"             \"datasets\"          \"methods\"          \n",
       "[13] \"base\"             \n",
       "\n",
       "[[3]]\n",
       " [1] \"clusterGeneration\" \"MASS\"              \"reshape\"          \n",
       " [4] \"scales\"            \"devtools\"          \"nnet\"             \n",
       " [7] \"stats\"             \"graphics\"          \"grDevices\"        \n",
       "[10] \"utils\"             \"datasets\"          \"methods\"          \n",
       "[13] \"base\"             \n"
      ]
     },
     "metadata": {},
     "output_type": "display_data"
    }
   ],
   "source": [
    "Packages <- c(\"clusterGeneration\", \"scales\", \"reshape\")\n",
    "lapply(Packages, library, character.only = TRUE)"
   ]
  },
  {
   "cell_type": "code",
   "execution_count": 11,
   "metadata": {},
   "outputs": [
    {
     "data": {
      "image/png": "[encoded data removed]",
      "text/plain": [
       "plot without title"
      ]
     },
     "metadata": {},
     "output_type": "display_data"
    }
   ],
   "source": [
    "plot(nn.iris)"
   ]
  },
  {
   "cell_type": "markdown",
   "metadata": {},
   "source": [
    "- 선의 굵기가 굵을 수록 가중치가 높음"
   ]
  },
  {
   "cell_type": "markdown",
   "metadata": {},
   "source": [
    "## 5. Result\n",
    "\n",
    "신경망 모형에 대한 정오분류표는 다음과 같이 구할 수 있다."
   ]
  },
  {
   "cell_type": "code",
   "execution_count": 12,
   "metadata": {},
   "outputs": [
    {
     "data": {
      "text/plain": [
       "            \n",
       "             setosa versicolor virginica\n",
       "  setosa         50          0         0\n",
       "  versicolor      0         49         1\n",
       "  virginica       0          0        50"
      ]
     },
     "metadata": {},
     "output_type": "display_data"
    }
   ],
   "source": [
    "table(iris$Species, predict(nn.iris, iris, type=\"class\"))"
   ]
  },
  {
   "cell_type": "markdown",
   "metadata": {},
   "source": [
    "분석 결과 꽃의 품종별로 잘 분류되었음을 알 수 있다.\n",
    "- vsersicolor 1개만 오분류됨"
   ]
  },
  {
   "cell_type": "code",
   "execution_count": null,
   "metadata": {},
   "outputs": [],
   "source": []
  },
  {
   "cell_type": "markdown",
   "metadata": {},
   "source": [
    "----"
   ]
  }
 ],
 "metadata": {
  "kernelspec": {
   "display_name": "R",
   "language": "R",
   "name": "ir"
  },
  "language_info": {
   "codemirror_mode": "r",
   "file_extension": ".r",
   "mimetype": "text/x-r-source",
   "name": "R",
   "pygments_lexer": "r",
   "version": "3.5.1"
  }
 },
 "nbformat": 4,
 "nbformat_minor": 2
}
