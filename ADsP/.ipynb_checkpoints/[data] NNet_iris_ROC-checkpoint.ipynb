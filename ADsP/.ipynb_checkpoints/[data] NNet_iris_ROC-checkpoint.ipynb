{
 "cells": [
  {
   "cell_type": "markdown",
   "metadata": {},
   "source": [
    "----"
   ]
  },
  {
   "cell_type": "markdown",
   "metadata": {},
   "source": [
    "# 신경망 분석"
   ]
  },
  {
   "cell_type": "markdown",
   "metadata": {},
   "source": [
    "인공 신경망 모델을 통해 ROC 분석을 실시한다.\n",
    "- Predictive Analytics: NeuralNet, Bayesian, SVM, KNN : http://horicky.blogspot.com/2012/06/predictive-analytics-neuralnet-bayesian.html\n",
    "\n",
    "- R - neuralnet 함수를 사용하여 역전파 알고리즘 사용 예제 : https://note.espriter.net/1263"
   ]
  },
  {
   "cell_type": "markdown",
   "metadata": {},
   "source": [
    "----"
   ]
  },
  {
   "cell_type": "markdown",
   "metadata": {},
   "source": [
    "## 1. Load Library\n",
    "\n",
    "필요한 라이브러리와 데이터를 불러온다. 패키지가 없을 경우 설치해준다."
   ]
  },
  {
   "cell_type": "code",
   "execution_count": 1,
   "metadata": {},
   "outputs": [],
   "source": [
    "library(neuralnet)\n",
    "library(nnet)\n",
    "data(iris)\n",
    "set.seed(67)  # 시드 설정. 동일한 결과가 나올 수 있도록 설정"
   ]
  },
  {
   "cell_type": "markdown",
   "metadata": {},
   "source": [
    "## 2. Split Data\n",
    "\n",
    "아이리스 데이터를 불러와 70%의 훈련용 데이터, 30% 검증용 데이터로 나눈다."
   ]
  },
  {
   "cell_type": "code",
   "execution_count": 2,
   "metadata": {},
   "outputs": [
    {
     "data": {
      "text/html": [
       "<ol class=list-inline>\n",
       "\t<li>2</li>\n",
       "\t<li>1</li>\n",
       "\t<li>1</li>\n",
       "\t<li>2</li>\n",
       "\t<li>1</li>\n",
       "\t<li>1</li>\n",
       "\t<li>1</li>\n",
       "\t<li>1</li>\n",
       "\t<li>1</li>\n",
       "\t<li>2</li>\n",
       "\t<li>1</li>\n",
       "\t<li>1</li>\n",
       "\t<li>1</li>\n",
       "\t<li>1</li>\n",
       "\t<li>2</li>\n",
       "\t<li>1</li>\n",
       "\t<li>2</li>\n",
       "\t<li>1</li>\n",
       "\t<li>1</li>\n",
       "\t<li>1</li>\n",
       "\t<li>1</li>\n",
       "\t<li>2</li>\n",
       "\t<li>2</li>\n",
       "\t<li>1</li>\n",
       "\t<li>2</li>\n",
       "\t<li>2</li>\n",
       "\t<li>1</li>\n",
       "\t<li>1</li>\n",
       "\t<li>2</li>\n",
       "\t<li>1</li>\n",
       "\t<li>1</li>\n",
       "\t<li>2</li>\n",
       "\t<li>1</li>\n",
       "\t<li>1</li>\n",
       "\t<li>1</li>\n",
       "\t<li>1</li>\n",
       "\t<li>1</li>\n",
       "\t<li>1</li>\n",
       "\t<li>1</li>\n",
       "\t<li>1</li>\n",
       "\t<li>1</li>\n",
       "\t<li>1</li>\n",
       "\t<li>2</li>\n",
       "\t<li>1</li>\n",
       "\t<li>2</li>\n",
       "\t<li>1</li>\n",
       "\t<li>2</li>\n",
       "\t<li>1</li>\n",
       "\t<li>2</li>\n",
       "\t<li>1</li>\n",
       "\t<li>1</li>\n",
       "\t<li>1</li>\n",
       "\t<li>1</li>\n",
       "\t<li>2</li>\n",
       "\t<li>2</li>\n",
       "\t<li>2</li>\n",
       "\t<li>1</li>\n",
       "\t<li>1</li>\n",
       "\t<li>1</li>\n",
       "\t<li>2</li>\n",
       "\t<li>2</li>\n",
       "\t<li>2</li>\n",
       "\t<li>1</li>\n",
       "\t<li>2</li>\n",
       "\t<li>1</li>\n",
       "\t<li>1</li>\n",
       "\t<li>1</li>\n",
       "\t<li>1</li>\n",
       "\t<li>1</li>\n",
       "\t<li>1</li>\n",
       "\t<li>2</li>\n",
       "\t<li>2</li>\n",
       "\t<li>1</li>\n",
       "\t<li>1</li>\n",
       "\t<li>2</li>\n",
       "\t<li>1</li>\n",
       "\t<li>2</li>\n",
       "\t<li>1</li>\n",
       "\t<li>2</li>\n",
       "\t<li>2</li>\n",
       "\t<li>1</li>\n",
       "\t<li>1</li>\n",
       "\t<li>1</li>\n",
       "\t<li>1</li>\n",
       "\t<li>1</li>\n",
       "\t<li>1</li>\n",
       "\t<li>1</li>\n",
       "\t<li>1</li>\n",
       "\t<li>1</li>\n",
       "\t<li>1</li>\n",
       "\t<li>1</li>\n",
       "\t<li>1</li>\n",
       "\t<li>1</li>\n",
       "\t<li>1</li>\n",
       "\t<li>1</li>\n",
       "\t<li>1</li>\n",
       "\t<li>1</li>\n",
       "\t<li>1</li>\n",
       "\t<li>1</li>\n",
       "\t<li>2</li>\n",
       "\t<li>2</li>\n",
       "\t<li>2</li>\n",
       "\t<li>1</li>\n",
       "\t<li>2</li>\n",
       "\t<li>2</li>\n",
       "\t<li>1</li>\n",
       "\t<li>1</li>\n",
       "\t<li>2</li>\n",
       "\t<li>1</li>\n",
       "\t<li>2</li>\n",
       "\t<li>2</li>\n",
       "\t<li>1</li>\n",
       "\t<li>1</li>\n",
       "\t<li>2</li>\n",
       "\t<li>1</li>\n",
       "\t<li>1</li>\n",
       "\t<li>1</li>\n",
       "\t<li>1</li>\n",
       "\t<li>1</li>\n",
       "\t<li>1</li>\n",
       "\t<li>2</li>\n",
       "\t<li>2</li>\n",
       "\t<li>1</li>\n",
       "\t<li>2</li>\n",
       "\t<li>2</li>\n",
       "\t<li>1</li>\n",
       "\t<li>1</li>\n",
       "\t<li>1</li>\n",
       "\t<li>1</li>\n",
       "\t<li>1</li>\n",
       "\t<li>1</li>\n",
       "\t<li>1</li>\n",
       "\t<li>1</li>\n",
       "\t<li>2</li>\n",
       "\t<li>1</li>\n",
       "\t<li>1</li>\n",
       "\t<li>2</li>\n",
       "\t<li>2</li>\n",
       "\t<li>1</li>\n",
       "\t<li>2</li>\n",
       "\t<li>1</li>\n",
       "\t<li>1</li>\n",
       "\t<li>2</li>\n",
       "\t<li>1</li>\n",
       "\t<li>2</li>\n",
       "\t<li>1</li>\n",
       "\t<li>1</li>\n",
       "\t<li>2</li>\n",
       "\t<li>1</li>\n",
       "\t<li>1</li>\n",
       "</ol>\n"
      ],
      "text/latex": [
       "\\begin{enumerate*}\n",
       "\\item 2\n",
       "\\item 1\n",
       "\\item 1\n",
       "\\item 2\n",
       "\\item 1\n",
       "\\item 1\n",
       "\\item 1\n",
       "\\item 1\n",
       "\\item 1\n",
       "\\item 2\n",
       "\\item 1\n",
       "\\item 1\n",
       "\\item 1\n",
       "\\item 1\n",
       "\\item 2\n",
       "\\item 1\n",
       "\\item 2\n",
       "\\item 1\n",
       "\\item 1\n",
       "\\item 1\n",
       "\\item 1\n",
       "\\item 2\n",
       "\\item 2\n",
       "\\item 1\n",
       "\\item 2\n",
       "\\item 2\n",
       "\\item 1\n",
       "\\item 1\n",
       "\\item 2\n",
       "\\item 1\n",
       "\\item 1\n",
       "\\item 2\n",
       "\\item 1\n",
       "\\item 1\n",
       "\\item 1\n",
       "\\item 1\n",
       "\\item 1\n",
       "\\item 1\n",
       "\\item 1\n",
       "\\item 1\n",
       "\\item 1\n",
       "\\item 1\n",
       "\\item 2\n",
       "\\item 1\n",
       "\\item 2\n",
       "\\item 1\n",
       "\\item 2\n",
       "\\item 1\n",
       "\\item 2\n",
       "\\item 1\n",
       "\\item 1\n",
       "\\item 1\n",
       "\\item 1\n",
       "\\item 2\n",
       "\\item 2\n",
       "\\item 2\n",
       "\\item 1\n",
       "\\item 1\n",
       "\\item 1\n",
       "\\item 2\n",
       "\\item 2\n",
       "\\item 2\n",
       "\\item 1\n",
       "\\item 2\n",
       "\\item 1\n",
       "\\item 1\n",
       "\\item 1\n",
       "\\item 1\n",
       "\\item 1\n",
       "\\item 1\n",
       "\\item 2\n",
       "\\item 2\n",
       "\\item 1\n",
       "\\item 1\n",
       "\\item 2\n",
       "\\item 1\n",
       "\\item 2\n",
       "\\item 1\n",
       "\\item 2\n",
       "\\item 2\n",
       "\\item 1\n",
       "\\item 1\n",
       "\\item 1\n",
       "\\item 1\n",
       "\\item 1\n",
       "\\item 1\n",
       "\\item 1\n",
       "\\item 1\n",
       "\\item 1\n",
       "\\item 1\n",
       "\\item 1\n",
       "\\item 1\n",
       "\\item 1\n",
       "\\item 1\n",
       "\\item 1\n",
       "\\item 1\n",
       "\\item 1\n",
       "\\item 1\n",
       "\\item 1\n",
       "\\item 2\n",
       "\\item 2\n",
       "\\item 2\n",
       "\\item 1\n",
       "\\item 2\n",
       "\\item 2\n",
       "\\item 1\n",
       "\\item 1\n",
       "\\item 2\n",
       "\\item 1\n",
       "\\item 2\n",
       "\\item 2\n",
       "\\item 1\n",
       "\\item 1\n",
       "\\item 2\n",
       "\\item 1\n",
       "\\item 1\n",
       "\\item 1\n",
       "\\item 1\n",
       "\\item 1\n",
       "\\item 1\n",
       "\\item 2\n",
       "\\item 2\n",
       "\\item 1\n",
       "\\item 2\n",
       "\\item 2\n",
       "\\item 1\n",
       "\\item 1\n",
       "\\item 1\n",
       "\\item 1\n",
       "\\item 1\n",
       "\\item 1\n",
       "\\item 1\n",
       "\\item 1\n",
       "\\item 2\n",
       "\\item 1\n",
       "\\item 1\n",
       "\\item 2\n",
       "\\item 2\n",
       "\\item 1\n",
       "\\item 2\n",
       "\\item 1\n",
       "\\item 1\n",
       "\\item 2\n",
       "\\item 1\n",
       "\\item 2\n",
       "\\item 1\n",
       "\\item 1\n",
       "\\item 2\n",
       "\\item 1\n",
       "\\item 1\n",
       "\\end{enumerate*}\n"
      ],
      "text/markdown": [
       "1. 2\n",
       "2. 1\n",
       "3. 1\n",
       "4. 2\n",
       "5. 1\n",
       "6. 1\n",
       "7. 1\n",
       "8. 1\n",
       "9. 1\n",
       "10. 2\n",
       "11. 1\n",
       "12. 1\n",
       "13. 1\n",
       "14. 1\n",
       "15. 2\n",
       "16. 1\n",
       "17. 2\n",
       "18. 1\n",
       "19. 1\n",
       "20. 1\n",
       "21. 1\n",
       "22. 2\n",
       "23. 2\n",
       "24. 1\n",
       "25. 2\n",
       "26. 2\n",
       "27. 1\n",
       "28. 1\n",
       "29. 2\n",
       "30. 1\n",
       "31. 1\n",
       "32. 2\n",
       "33. 1\n",
       "34. 1\n",
       "35. 1\n",
       "36. 1\n",
       "37. 1\n",
       "38. 1\n",
       "39. 1\n",
       "40. 1\n",
       "41. 1\n",
       "42. 1\n",
       "43. 2\n",
       "44. 1\n",
       "45. 2\n",
       "46. 1\n",
       "47. 2\n",
       "48. 1\n",
       "49. 2\n",
       "50. 1\n",
       "51. 1\n",
       "52. 1\n",
       "53. 1\n",
       "54. 2\n",
       "55. 2\n",
       "56. 2\n",
       "57. 1\n",
       "58. 1\n",
       "59. 1\n",
       "60. 2\n",
       "61. 2\n",
       "62. 2\n",
       "63. 1\n",
       "64. 2\n",
       "65. 1\n",
       "66. 1\n",
       "67. 1\n",
       "68. 1\n",
       "69. 1\n",
       "70. 1\n",
       "71. 2\n",
       "72. 2\n",
       "73. 1\n",
       "74. 1\n",
       "75. 2\n",
       "76. 1\n",
       "77. 2\n",
       "78. 1\n",
       "79. 2\n",
       "80. 2\n",
       "81. 1\n",
       "82. 1\n",
       "83. 1\n",
       "84. 1\n",
       "85. 1\n",
       "86. 1\n",
       "87. 1\n",
       "88. 1\n",
       "89. 1\n",
       "90. 1\n",
       "91. 1\n",
       "92. 1\n",
       "93. 1\n",
       "94. 1\n",
       "95. 1\n",
       "96. 1\n",
       "97. 1\n",
       "98. 1\n",
       "99. 1\n",
       "100. 2\n",
       "101. 2\n",
       "102. 2\n",
       "103. 1\n",
       "104. 2\n",
       "105. 2\n",
       "106. 1\n",
       "107. 1\n",
       "108. 2\n",
       "109. 1\n",
       "110. 2\n",
       "111. 2\n",
       "112. 1\n",
       "113. 1\n",
       "114. 2\n",
       "115. 1\n",
       "116. 1\n",
       "117. 1\n",
       "118. 1\n",
       "119. 1\n",
       "120. 1\n",
       "121. 2\n",
       "122. 2\n",
       "123. 1\n",
       "124. 2\n",
       "125. 2\n",
       "126. 1\n",
       "127. 1\n",
       "128. 1\n",
       "129. 1\n",
       "130. 1\n",
       "131. 1\n",
       "132. 1\n",
       "133. 1\n",
       "134. 2\n",
       "135. 1\n",
       "136. 1\n",
       "137. 2\n",
       "138. 2\n",
       "139. 1\n",
       "140. 2\n",
       "141. 1\n",
       "142. 1\n",
       "143. 2\n",
       "144. 1\n",
       "145. 2\n",
       "146. 1\n",
       "147. 1\n",
       "148. 2\n",
       "149. 1\n",
       "150. 1\n",
       "\n",
       "\n"
      ],
      "text/plain": [
       "  [1] 2 1 1 2 1 1 1 1 1 2 1 1 1 1 2 1 2 1 1 1 1 2 2 1 2 2 1 1 2 1 1 2 1 1 1 1 1\n",
       " [38] 1 1 1 1 1 2 1 2 1 2 1 2 1 1 1 1 2 2 2 1 1 1 2 2 2 1 2 1 1 1 1 1 1 2 2 1 1\n",
       " [75] 2 1 2 1 2 2 1 1 1 1 1 1 1 1 1 1 1 1 1 1 1 1 1 1 1 2 2 2 1 2 2 1 1 2 1 2 2\n",
       "[112] 1 1 2 1 1 1 1 1 1 2 2 1 2 2 1 1 1 1 1 1 1 1 2 1 1 2 2 1 2 1 1 2 1 2 1 1 2\n",
       "[149] 1 1"
      ]
     },
     "metadata": {},
     "output_type": "display_data"
    }
   ],
   "source": [
    "ind <- sample(2, nrow(iris), replace=T, prob=c(0.7, 0.4))\n",
    "ind"
   ]
  },
  {
   "cell_type": "code",
   "execution_count": 3,
   "metadata": {},
   "outputs": [
    {
     "data": {
      "text/html": [
       "102"
      ],
      "text/latex": [
       "102"
      ],
      "text/markdown": [
       "102"
      ],
      "text/plain": [
       "[1] 102"
      ]
     },
     "metadata": {},
     "output_type": "display_data"
    },
    {
     "data": {
      "text/html": [
       "48"
      ],
      "text/latex": [
       "48"
      ],
      "text/markdown": [
       "48"
      ],
      "text/plain": [
       "[1] 48"
      ]
     },
     "metadata": {},
     "output_type": "display_data"
    }
   ],
   "source": [
    "trainData <- iris[ind==1,]\n",
    "testData <- iris[ind==2,]\n",
    "nrow(trainData)   # 훈련 데이터는 102개\n",
    "nrow(testData)    # 검증 데이터는 48개"
   ]
  },
  {
   "cell_type": "code",
   "execution_count": 4,
   "metadata": {},
   "outputs": [
    {
     "data": {
      "text/html": [
       "<table>\n",
       "<thead><tr><th></th><th scope=col>Sepal.Length</th><th scope=col>Sepal.Width</th><th scope=col>Petal.Length</th><th scope=col>Petal.Width</th><th scope=col>Species</th></tr></thead>\n",
       "<tbody>\n",
       "\t<tr><th scope=row>2</th><td>4.9   </td><td>3.0   </td><td>1.4   </td><td>0.2   </td><td>setosa</td></tr>\n",
       "\t<tr><th scope=row>3</th><td>4.7   </td><td>3.2   </td><td>1.3   </td><td>0.2   </td><td>setosa</td></tr>\n",
       "\t<tr><th scope=row>5</th><td>5.0   </td><td>3.6   </td><td>1.4   </td><td>0.2   </td><td>setosa</td></tr>\n",
       "\t<tr><th scope=row>6</th><td>5.4   </td><td>3.9   </td><td>1.7   </td><td>0.4   </td><td>setosa</td></tr>\n",
       "\t<tr><th scope=row>7</th><td>4.6   </td><td>3.4   </td><td>1.4   </td><td>0.3   </td><td>setosa</td></tr>\n",
       "\t<tr><th scope=row>8</th><td>5.0   </td><td>3.4   </td><td>1.5   </td><td>0.2   </td><td>setosa</td></tr>\n",
       "</tbody>\n",
       "</table>\n"
      ],
      "text/latex": [
       "\\begin{tabular}{r|lllll}\n",
       "  & Sepal.Length & Sepal.Width & Petal.Length & Petal.Width & Species\\\\\n",
       "\\hline\n",
       "\t2 & 4.9    & 3.0    & 1.4    & 0.2    & setosa\\\\\n",
       "\t3 & 4.7    & 3.2    & 1.3    & 0.2    & setosa\\\\\n",
       "\t5 & 5.0    & 3.6    & 1.4    & 0.2    & setosa\\\\\n",
       "\t6 & 5.4    & 3.9    & 1.7    & 0.4    & setosa\\\\\n",
       "\t7 & 4.6    & 3.4    & 1.4    & 0.3    & setosa\\\\\n",
       "\t8 & 5.0    & 3.4    & 1.5    & 0.2    & setosa\\\\\n",
       "\\end{tabular}\n"
      ],
      "text/markdown": [
       "\n",
       "| <!--/--> | Sepal.Length | Sepal.Width | Petal.Length | Petal.Width | Species | \n",
       "|---|---|---|---|---|---|\n",
       "| 2 | 4.9    | 3.0    | 1.4    | 0.2    | setosa | \n",
       "| 3 | 4.7    | 3.2    | 1.3    | 0.2    | setosa | \n",
       "| 5 | 5.0    | 3.6    | 1.4    | 0.2    | setosa | \n",
       "| 6 | 5.4    | 3.9    | 1.7    | 0.4    | setosa | \n",
       "| 7 | 4.6    | 3.4    | 1.4    | 0.3    | setosa | \n",
       "| 8 | 5.0    | 3.4    | 1.5    | 0.2    | setosa | \n",
       "\n",
       "\n"
      ],
      "text/plain": [
       "  Sepal.Length Sepal.Width Petal.Length Petal.Width Species\n",
       "2 4.9          3.0         1.4          0.2         setosa \n",
       "3 4.7          3.2         1.3          0.2         setosa \n",
       "5 5.0          3.6         1.4          0.2         setosa \n",
       "6 5.4          3.9         1.7          0.4         setosa \n",
       "7 4.6          3.4         1.4          0.3         setosa \n",
       "8 5.0          3.4         1.5          0.2         setosa "
      ]
     },
     "metadata": {},
     "output_type": "display_data"
    }
   ],
   "source": [
    "nnet_iristrain <- trainData\n",
    "head(nnet_iristrain)"
   ]
  },
  {
   "cell_type": "markdown",
   "metadata": {},
   "source": [
    "아이리스 품종별로 비교하는 칼럼을 추가한 후 구분하기 쉽게 이름을 변경한다."
   ]
  },
  {
   "cell_type": "code",
   "execution_count": 5,
   "metadata": {},
   "outputs": [],
   "source": [
    "nnet_iristrain <- cbind(nnet_iristrain, trainData$Species == 'setosa')\n",
    "nnet_iristrain <- cbind(nnet_iristrain, trainData$Species == 'versicolor')\n",
    "nnet_iristrain <- cbind(nnet_iristrain, trainData$Species == 'virginica')\n",
    "names(nnet_iristrain)[6] <- 'setosa'\n",
    "names(nnet_iristrain)[7] <- 'versicolor'\n",
    "names(nnet_iristrain)[8] <- 'virginica'"
   ]
  },
  {
   "cell_type": "code",
   "execution_count": 6,
   "metadata": {},
   "outputs": [
    {
     "data": {
      "text/html": [
       "<table>\n",
       "<thead><tr><th></th><th scope=col>Sepal.Length</th><th scope=col>Sepal.Width</th><th scope=col>Petal.Length</th><th scope=col>Petal.Width</th><th scope=col>Species</th><th scope=col>setosa</th><th scope=col>versicolor</th><th scope=col>virginica</th></tr></thead>\n",
       "<tbody>\n",
       "\t<tr><th scope=row>2</th><td>4.9   </td><td>3.0   </td><td>1.4   </td><td>0.2   </td><td>setosa</td><td>TRUE  </td><td>FALSE </td><td>FALSE </td></tr>\n",
       "\t<tr><th scope=row>3</th><td>4.7   </td><td>3.2   </td><td>1.3   </td><td>0.2   </td><td>setosa</td><td>TRUE  </td><td>FALSE </td><td>FALSE </td></tr>\n",
       "\t<tr><th scope=row>5</th><td>5.0   </td><td>3.6   </td><td>1.4   </td><td>0.2   </td><td>setosa</td><td>TRUE  </td><td>FALSE </td><td>FALSE </td></tr>\n",
       "\t<tr><th scope=row>6</th><td>5.4   </td><td>3.9   </td><td>1.7   </td><td>0.4   </td><td>setosa</td><td>TRUE  </td><td>FALSE </td><td>FALSE </td></tr>\n",
       "\t<tr><th scope=row>7</th><td>4.6   </td><td>3.4   </td><td>1.4   </td><td>0.3   </td><td>setosa</td><td>TRUE  </td><td>FALSE </td><td>FALSE </td></tr>\n",
       "\t<tr><th scope=row>8</th><td>5.0   </td><td>3.4   </td><td>1.5   </td><td>0.2   </td><td>setosa</td><td>TRUE  </td><td>FALSE </td><td>FALSE </td></tr>\n",
       "</tbody>\n",
       "</table>\n"
      ],
      "text/latex": [
       "\\begin{tabular}{r|llllllll}\n",
       "  & Sepal.Length & Sepal.Width & Petal.Length & Petal.Width & Species & setosa & versicolor & virginica\\\\\n",
       "\\hline\n",
       "\t2 & 4.9    & 3.0    & 1.4    & 0.2    & setosa & TRUE   & FALSE  & FALSE \\\\\n",
       "\t3 & 4.7    & 3.2    & 1.3    & 0.2    & setosa & TRUE   & FALSE  & FALSE \\\\\n",
       "\t5 & 5.0    & 3.6    & 1.4    & 0.2    & setosa & TRUE   & FALSE  & FALSE \\\\\n",
       "\t6 & 5.4    & 3.9    & 1.7    & 0.4    & setosa & TRUE   & FALSE  & FALSE \\\\\n",
       "\t7 & 4.6    & 3.4    & 1.4    & 0.3    & setosa & TRUE   & FALSE  & FALSE \\\\\n",
       "\t8 & 5.0    & 3.4    & 1.5    & 0.2    & setosa & TRUE   & FALSE  & FALSE \\\\\n",
       "\\end{tabular}\n"
      ],
      "text/markdown": [
       "\n",
       "| <!--/--> | Sepal.Length | Sepal.Width | Petal.Length | Petal.Width | Species | setosa | versicolor | virginica | \n",
       "|---|---|---|---|---|---|\n",
       "| 2 | 4.9    | 3.0    | 1.4    | 0.2    | setosa | TRUE   | FALSE  | FALSE  | \n",
       "| 3 | 4.7    | 3.2    | 1.3    | 0.2    | setosa | TRUE   | FALSE  | FALSE  | \n",
       "| 5 | 5.0    | 3.6    | 1.4    | 0.2    | setosa | TRUE   | FALSE  | FALSE  | \n",
       "| 6 | 5.4    | 3.9    | 1.7    | 0.4    | setosa | TRUE   | FALSE  | FALSE  | \n",
       "| 7 | 4.6    | 3.4    | 1.4    | 0.3    | setosa | TRUE   | FALSE  | FALSE  | \n",
       "| 8 | 5.0    | 3.4    | 1.5    | 0.2    | setosa | TRUE   | FALSE  | FALSE  | \n",
       "\n",
       "\n"
      ],
      "text/plain": [
       "  Sepal.Length Sepal.Width Petal.Length Petal.Width Species setosa versicolor\n",
       "2 4.9          3.0         1.4          0.2         setosa  TRUE   FALSE     \n",
       "3 4.7          3.2         1.3          0.2         setosa  TRUE   FALSE     \n",
       "5 5.0          3.6         1.4          0.2         setosa  TRUE   FALSE     \n",
       "6 5.4          3.9         1.7          0.4         setosa  TRUE   FALSE     \n",
       "7 4.6          3.4         1.4          0.3         setosa  TRUE   FALSE     \n",
       "8 5.0          3.4         1.5          0.2         setosa  TRUE   FALSE     \n",
       "  virginica\n",
       "2 FALSE    \n",
       "3 FALSE    \n",
       "5 FALSE    \n",
       "6 FALSE    \n",
       "7 FALSE    \n",
       "8 FALSE    "
      ]
     },
     "metadata": {},
     "output_type": "display_data"
    }
   ],
   "source": [
    "head(nnet_iristrain)"
   ]
  },
  {
   "cell_type": "markdown",
   "metadata": {},
   "source": [
    "## 3. Build Model\n",
    "\n",
    "전처리한 데이터를 통해 모델을 훈련시킨다."
   ]
  },
  {
   "cell_type": "code",
   "execution_count": 7,
   "metadata": {},
   "outputs": [
    {
     "data": {
      "text/plain": [
       "                    Length Class      Mode    \n",
       "call                  4    -none-     call    \n",
       "response            306    -none-     logical \n",
       "covariate           408    -none-     numeric \n",
       "model.list            2    -none-     list    \n",
       "err.fct               1    -none-     function\n",
       "act.fct               1    -none-     function\n",
       "linear.output         1    -none-     logical \n",
       "data                  8    data.frame list    \n",
       "net.result            1    -none-     list    \n",
       "weights               1    -none-     list    \n",
       "startweights          1    -none-     list    \n",
       "generalized.weights   1    -none-     list    \n",
       "result.matrix        30    -none-     numeric "
      ]
     },
     "metadata": {},
     "output_type": "display_data"
    }
   ],
   "source": [
    "nn <- neuralnet(setosa + versicolor + virginica ~ Sepal.Length + Sepal.Width + Petal.Length + Petal.Width, \n",
    "                data=nnet_iristrain, hidden=c(3))\n",
    "summary(nn)"
   ]
  },
  {
   "cell_type": "markdown",
   "metadata": {},
   "source": [
    "## 4. Visualization\n",
    "\n",
    "훈련한 모델을 그래프로 그려본다.\n",
    "- 해당 환경에서는 그래프 기능 작동 안함"
   ]
  },
  {
   "cell_type": "code",
   "execution_count": 9,
   "metadata": {},
   "outputs": [],
   "source": [
    "plot(nn)"
   ]
  },
  {
   "cell_type": "markdown",
   "metadata": {},
   "source": [
    "## 5. Predict\n",
    "\n",
    "만든 모델을 통해 예측작업을 실시한다."
   ]
  },
  {
   "cell_type": "code",
   "execution_count": 11,
   "metadata": {},
   "outputs": [
    {
     "data": {
      "text/html": [
       "<table>\n",
       "<tbody>\n",
       "\t<tr><th scope=row>1</th><td>1.000272138     </td><td>-0.0002979962002</td><td>0.00003174470793</td></tr>\n",
       "\t<tr><th scope=row>4</th><td>1.000097846     </td><td>-0.0001224162087</td><td>0.00003046045092</td></tr>\n",
       "\t<tr><th scope=row>10</th><td>1.000239216     </td><td>-0.0002648305632</td><td>0.00003150212219</td></tr>\n",
       "\t<tr><th scope=row>15</th><td>1.000281914     </td><td>-0.0003078442372</td><td>0.00003181674011</td></tr>\n",
       "\t<tr><th scope=row>17</th><td>1.000277872     </td><td>-0.0003037722422</td><td>0.00003178695604</td></tr>\n",
       "\t<tr><th scope=row>22</th><td>1.000251391     </td><td>-0.0002770951774</td><td>0.00003159183012</td></tr>\n",
       "</tbody>\n",
       "</table>\n"
      ],
      "text/latex": [
       "\\begin{tabular}{r|lll}\n",
       "\t1 & 1.000272138      & -0.0002979962002 & 0.00003174470793\\\\\n",
       "\t4 & 1.000097846      & -0.0001224162087 & 0.00003046045092\\\\\n",
       "\t10 & 1.000239216      & -0.0002648305632 & 0.00003150212219\\\\\n",
       "\t15 & 1.000281914      & -0.0003078442372 & 0.00003181674011\\\\\n",
       "\t17 & 1.000277872      & -0.0003037722422 & 0.00003178695604\\\\\n",
       "\t22 & 1.000251391      & -0.0002770951774 & 0.00003159183012\\\\\n",
       "\\end{tabular}\n"
      ],
      "text/markdown": [
       "\n",
       "| 1 | 1.000272138      | -0.0002979962002 | 0.00003174470793 | \n",
       "| 4 | 1.000097846      | -0.0001224162087 | 0.00003046045092 | \n",
       "| 10 | 1.000239216      | -0.0002648305632 | 0.00003150212219 | \n",
       "| 15 | 1.000281914      | -0.0003078442372 | 0.00003181674011 | \n",
       "| 17 | 1.000277872      | -0.0003037722422 | 0.00003178695604 | \n",
       "| 22 | 1.000251391      | -0.0002770951774 | 0.00003159183012 | \n",
       "\n",
       "\n"
      ],
      "text/plain": [
       "   [,1]        [,2]             [,3]            \n",
       "1  1.000272138 -0.0002979962002 0.00003174470793\n",
       "4  1.000097846 -0.0001224162087 0.00003046045092\n",
       "10 1.000239216 -0.0002648305632 0.00003150212219\n",
       "15 1.000281914 -0.0003078442372 0.00003181674011\n",
       "17 1.000277872 -0.0003037722422 0.00003178695604\n",
       "22 1.000251391 -0.0002770951774 0.00003159183012"
      ]
     },
     "metadata": {},
     "output_type": "display_data"
    }
   ],
   "source": [
    "mypredict <- compute(nn, testData[-5])$net.result\n",
    "head(mypredict)"
   ]
  },
  {
   "cell_type": "markdown",
   "metadata": {},
   "source": [
    "maxidx 라는 새로운 함수를 생성한다. 입력값중 최대값과 같은지 비교하는 기능이다.\n",
    "- **apply()** : 일괄 적용 기능\n",
    "- apply(X, MARGIN, FUN, ...) 양식으로 작성\n",
    "- **MARGIN** : 1은 행, 2는 열, c(1,2)는 행렬을 의미"
   ]
  },
  {
   "cell_type": "code",
   "execution_count": 12,
   "metadata": {},
   "outputs": [],
   "source": [
    "maxidx <- function(tmp){\n",
    "    return(which(tmp == max(tmp)))\n",
    "}"
   ]
  },
  {
   "cell_type": "code",
   "execution_count": 16,
   "metadata": {},
   "outputs": [
    {
     "data": {
      "text/html": [
       "<dl class=dl-horizontal>\n",
       "\t<dt>1</dt>\n",
       "\t\t<dd>1</dd>\n",
       "\t<dt>4</dt>\n",
       "\t\t<dd>1</dd>\n",
       "\t<dt>10</dt>\n",
       "\t\t<dd>1</dd>\n",
       "\t<dt>15</dt>\n",
       "\t\t<dd>1</dd>\n",
       "\t<dt>17</dt>\n",
       "\t\t<dd>1</dd>\n",
       "\t<dt>22</dt>\n",
       "\t\t<dd>1</dd>\n",
       "</dl>\n"
      ],
      "text/latex": [
       "\\begin{description*}\n",
       "\\item[1] 1\n",
       "\\item[4] 1\n",
       "\\item[10] 1\n",
       "\\item[15] 1\n",
       "\\item[17] 1\n",
       "\\item[22] 1\n",
       "\\end{description*}\n"
      ],
      "text/markdown": [
       "1\n",
       ":   14\n",
       ":   110\n",
       ":   115\n",
       ":   117\n",
       ":   122\n",
       ":   1\n",
       "\n"
      ],
      "text/plain": [
       " 1  4 10 15 17 22 \n",
       " 1  1  1  1  1  1 "
      ]
     },
     "metadata": {},
     "output_type": "display_data"
    }
   ],
   "source": [
    "idx <- apply(mypredict, c(1), maxidx)\n",
    "head(idx)  # 결과값에서 1은 첫번째 인덱스 값이 제일 크다는 의미"
   ]
  },
  {
   "cell_type": "code",
   "execution_count": 18,
   "metadata": {},
   "outputs": [
    {
     "data": {
      "text/html": [
       "<ol class=list-inline>\n",
       "\t<li>'setosa'</li>\n",
       "\t<li>'setosa'</li>\n",
       "\t<li>'setosa'</li>\n",
       "\t<li>'setosa'</li>\n",
       "\t<li>'setosa'</li>\n",
       "\t<li>'setosa'</li>\n",
       "\t<li>'setosa'</li>\n",
       "\t<li>'setosa'</li>\n",
       "\t<li>'setosa'</li>\n",
       "\t<li>'setosa'</li>\n",
       "\t<li>'setosa'</li>\n",
       "\t<li>'setosa'</li>\n",
       "\t<li>'setosa'</li>\n",
       "\t<li>'setosa'</li>\n",
       "\t<li>'setosa'</li>\n",
       "\t<li>'verginica'</li>\n",
       "\t<li>'verginica'</li>\n",
       "\t<li>'verginica'</li>\n",
       "\t<li>'verginica'</li>\n",
       "\t<li>'verginica'</li>\n",
       "\t<li>'verginica'</li>\n",
       "\t<li>'verginica'</li>\n",
       "\t<li>'verginica'</li>\n",
       "\t<li>'verginica'</li>\n",
       "\t<li>'verginica'</li>\n",
       "\t<li>'verginica'</li>\n",
       "\t<li>'verginica'</li>\n",
       "\t<li>'verginica'</li>\n",
       "\t<li>'verginica'</li>\n",
       "\t<li>'versicolor'</li>\n",
       "\t<li>'versicolor'</li>\n",
       "\t<li>'versicolor'</li>\n",
       "\t<li>'versicolor'</li>\n",
       "\t<li>'versicolor'</li>\n",
       "\t<li>'versicolor'</li>\n",
       "\t<li>'versicolor'</li>\n",
       "\t<li>'versicolor'</li>\n",
       "\t<li>'versicolor'</li>\n",
       "\t<li>'versicolor'</li>\n",
       "\t<li>'versicolor'</li>\n",
       "\t<li>'versicolor'</li>\n",
       "\t<li>'verginica'</li>\n",
       "\t<li>'versicolor'</li>\n",
       "\t<li>'versicolor'</li>\n",
       "\t<li>'versicolor'</li>\n",
       "\t<li>'versicolor'</li>\n",
       "\t<li>'versicolor'</li>\n",
       "\t<li>'versicolor'</li>\n",
       "</ol>\n"
      ],
      "text/latex": [
       "\\begin{enumerate*}\n",
       "\\item 'setosa'\n",
       "\\item 'setosa'\n",
       "\\item 'setosa'\n",
       "\\item 'setosa'\n",
       "\\item 'setosa'\n",
       "\\item 'setosa'\n",
       "\\item 'setosa'\n",
       "\\item 'setosa'\n",
       "\\item 'setosa'\n",
       "\\item 'setosa'\n",
       "\\item 'setosa'\n",
       "\\item 'setosa'\n",
       "\\item 'setosa'\n",
       "\\item 'setosa'\n",
       "\\item 'setosa'\n",
       "\\item 'verginica'\n",
       "\\item 'verginica'\n",
       "\\item 'verginica'\n",
       "\\item 'verginica'\n",
       "\\item 'verginica'\n",
       "\\item 'verginica'\n",
       "\\item 'verginica'\n",
       "\\item 'verginica'\n",
       "\\item 'verginica'\n",
       "\\item 'verginica'\n",
       "\\item 'verginica'\n",
       "\\item 'verginica'\n",
       "\\item 'verginica'\n",
       "\\item 'verginica'\n",
       "\\item 'versicolor'\n",
       "\\item 'versicolor'\n",
       "\\item 'versicolor'\n",
       "\\item 'versicolor'\n",
       "\\item 'versicolor'\n",
       "\\item 'versicolor'\n",
       "\\item 'versicolor'\n",
       "\\item 'versicolor'\n",
       "\\item 'versicolor'\n",
       "\\item 'versicolor'\n",
       "\\item 'versicolor'\n",
       "\\item 'versicolor'\n",
       "\\item 'verginica'\n",
       "\\item 'versicolor'\n",
       "\\item 'versicolor'\n",
       "\\item 'versicolor'\n",
       "\\item 'versicolor'\n",
       "\\item 'versicolor'\n",
       "\\item 'versicolor'\n",
       "\\end{enumerate*}\n"
      ],
      "text/markdown": [
       "1. 'setosa'\n",
       "2. 'setosa'\n",
       "3. 'setosa'\n",
       "4. 'setosa'\n",
       "5. 'setosa'\n",
       "6. 'setosa'\n",
       "7. 'setosa'\n",
       "8. 'setosa'\n",
       "9. 'setosa'\n",
       "10. 'setosa'\n",
       "11. 'setosa'\n",
       "12. 'setosa'\n",
       "13. 'setosa'\n",
       "14. 'setosa'\n",
       "15. 'setosa'\n",
       "16. 'verginica'\n",
       "17. 'verginica'\n",
       "18. 'verginica'\n",
       "19. 'verginica'\n",
       "20. 'verginica'\n",
       "21. 'verginica'\n",
       "22. 'verginica'\n",
       "23. 'verginica'\n",
       "24. 'verginica'\n",
       "25. 'verginica'\n",
       "26. 'verginica'\n",
       "27. 'verginica'\n",
       "28. 'verginica'\n",
       "29. 'verginica'\n",
       "30. 'versicolor'\n",
       "31. 'versicolor'\n",
       "32. 'versicolor'\n",
       "33. 'versicolor'\n",
       "34. 'versicolor'\n",
       "35. 'versicolor'\n",
       "36. 'versicolor'\n",
       "37. 'versicolor'\n",
       "38. 'versicolor'\n",
       "39. 'versicolor'\n",
       "40. 'versicolor'\n",
       "41. 'versicolor'\n",
       "42. 'verginica'\n",
       "43. 'versicolor'\n",
       "44. 'versicolor'\n",
       "45. 'versicolor'\n",
       "46. 'versicolor'\n",
       "47. 'versicolor'\n",
       "48. 'versicolor'\n",
       "\n",
       "\n"
      ],
      "text/plain": [
       " [1] \"setosa\"     \"setosa\"     \"setosa\"     \"setosa\"     \"setosa\"    \n",
       " [6] \"setosa\"     \"setosa\"     \"setosa\"     \"setosa\"     \"setosa\"    \n",
       "[11] \"setosa\"     \"setosa\"     \"setosa\"     \"setosa\"     \"setosa\"    \n",
       "[16] \"verginica\"  \"verginica\"  \"verginica\"  \"verginica\"  \"verginica\" \n",
       "[21] \"verginica\"  \"verginica\"  \"verginica\"  \"verginica\"  \"verginica\" \n",
       "[26] \"verginica\"  \"verginica\"  \"verginica\"  \"verginica\"  \"versicolor\"\n",
       "[31] \"versicolor\" \"versicolor\" \"versicolor\" \"versicolor\" \"versicolor\"\n",
       "[36] \"versicolor\" \"versicolor\" \"versicolor\" \"versicolor\" \"versicolor\"\n",
       "[41] \"versicolor\" \"verginica\"  \"versicolor\" \"versicolor\" \"versicolor\"\n",
       "[46] \"versicolor\" \"versicolor\" \"versicolor\""
      ]
     },
     "metadata": {},
     "output_type": "display_data"
    }
   ],
   "source": [
    "prediction <- c('setosa', 'verginica', 'versicolor')[idx]\n",
    "prediction"
   ]
  },
  {
   "cell_type": "markdown",
   "metadata": {},
   "source": [
    "## 6. Result\n",
    "\n",
    "최종 결과를 분석해본다."
   ]
  },
  {
   "cell_type": "code",
   "execution_count": 19,
   "metadata": {},
   "outputs": [
    {
     "data": {
      "text/plain": [
       "            \n",
       "prediction   setosa versicolor virginica\n",
       "  setosa         15          0         0\n",
       "  verginica       0         14         1\n",
       "  versicolor      0          0        18"
      ]
     },
     "metadata": {},
     "output_type": "display_data"
    }
   ],
   "source": [
    "table(prediction, testData$Species)"
   ]
  },
  {
   "cell_type": "markdown",
   "metadata": {},
   "source": [
    "- 각 품종 별로 잘 분리되었음을 확인"
   ]
  },
  {
   "cell_type": "markdown",
   "metadata": {},
   "source": [
    "----"
   ]
  }
 ],
 "metadata": {
  "kernelspec": {
   "display_name": "R",
   "language": "R",
   "name": "ir"
  },
  "language_info": {
   "codemirror_mode": "r",
   "file_extension": ".r",
   "mimetype": "text/x-r-source",
   "name": "R",
   "pygments_lexer": "r",
   "version": "3.5.1"
  }
 },
 "nbformat": 4,
 "nbformat_minor": 2
}
