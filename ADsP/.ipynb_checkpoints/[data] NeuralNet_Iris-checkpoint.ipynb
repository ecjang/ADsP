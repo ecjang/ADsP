{
 "cells": [
  {
   "cell_type": "markdown",
   "metadata": {},
   "source": [
    "----"
   ]
  },
  {
   "cell_type": "markdown",
   "metadata": {},
   "source": [
    "# 신경망 분석"
   ]
  },
  {
   "cell_type": "markdown",
   "metadata": {},
   "source": [
    "- 참고 : http://contents2.kocw.or.kr/KOCW/document/2017/chungbuk/najonghwa/10.pdf\n",
    "- 참고 : https://statkclee.github.io/deep-learning/r-nnet.html"
   ]
  },
  {
   "cell_type": "markdown",
   "metadata": {},
   "source": [
    "Iris 데이터로 신경망 분석을 해본다. 자료는 총 150개 이면 입력변수는 4차원, 목표값은 3개의 범주로 출력된다."
   ]
  },
  {
   "cell_type": "markdown",
   "metadata": {},
   "source": [
    "----"
   ]
  },
  {
   "cell_type": "markdown",
   "metadata": {},
   "source": [
    "## 1. Install Packages : Scales, Reshape\n",
    "\n",
    "인공 신경망 분석에 필요한 페키지를 설치한다."
   ]
  },
  {
   "cell_type": "code",
   "execution_count": 2,
   "metadata": {},
   "outputs": [
    {
     "name": "stderr",
     "output_type": "stream",
     "text": [
      "Installing packages into 'C:/Users/jang/Documents/R/win-library/3.5'\n",
      "(as 'lib' is unspecified)\n"
     ]
    },
    {
     "name": "stdout",
     "output_type": "stream",
     "text": [
      "package 'scales' successfully unpacked and MD5 sums checked\n",
      "package 'reshape' successfully unpacked and MD5 sums checked\n",
      "\n",
      "The downloaded binary packages are in\n",
      "\tC:\\Users\\jang\\AppData\\Local\\Temp\\RtmpETq0zt\\downloaded_packages\n"
     ]
    }
   ],
   "source": [
    "install.packages(c(\"scales\", \"reshape\"))\n",
    "install.packages(\"clusterGeneration\")"
   ]
  },
  {
   "cell_type": "markdown",
   "metadata": {},
   "source": [
    "## 2. Load Library\n",
    "\n",
    "필요한 라이브러리와 데이터를 불러온다.\n",
    "- **nnet** : 신경망 분석에 사용하는 함수\n",
    "- **sample** : 훈련 데이터 100개, 검증 데이터 50개로 분리"
   ]
  },
  {
   "cell_type": "code",
   "execution_count": 33,
   "metadata": {},
   "outputs": [],
   "source": [
    "library(nnet)\n",
    "data(iris)"
   ]
  },
  {
   "cell_type": "code",
   "execution_count": 34,
   "metadata": {},
   "outputs": [
    {
     "data": {
      "text/html": [
       "<table>\n",
       "<thead><tr><th scope=col>Sepal.Length</th><th scope=col>Sepal.Width</th><th scope=col>Petal.Length</th><th scope=col>Petal.Width</th><th scope=col>Species</th></tr></thead>\n",
       "<tbody>\n",
       "\t<tr><td>5.1   </td><td>3.5   </td><td>1.4   </td><td>0.2   </td><td>setosa</td></tr>\n",
       "\t<tr><td>4.9   </td><td>3.0   </td><td>1.4   </td><td>0.2   </td><td>setosa</td></tr>\n",
       "\t<tr><td>4.7   </td><td>3.2   </td><td>1.3   </td><td>0.2   </td><td>setosa</td></tr>\n",
       "\t<tr><td>4.6   </td><td>3.1   </td><td>1.5   </td><td>0.2   </td><td>setosa</td></tr>\n",
       "\t<tr><td>5.0   </td><td>3.6   </td><td>1.4   </td><td>0.2   </td><td>setosa</td></tr>\n",
       "\t<tr><td>5.4   </td><td>3.9   </td><td>1.7   </td><td>0.4   </td><td>setosa</td></tr>\n",
       "</tbody>\n",
       "</table>\n"
      ],
      "text/latex": [
       "\\begin{tabular}{r|lllll}\n",
       " Sepal.Length & Sepal.Width & Petal.Length & Petal.Width & Species\\\\\n",
       "\\hline\n",
       "\t 5.1    & 3.5    & 1.4    & 0.2    & setosa\\\\\n",
       "\t 4.9    & 3.0    & 1.4    & 0.2    & setosa\\\\\n",
       "\t 4.7    & 3.2    & 1.3    & 0.2    & setosa\\\\\n",
       "\t 4.6    & 3.1    & 1.5    & 0.2    & setosa\\\\\n",
       "\t 5.0    & 3.6    & 1.4    & 0.2    & setosa\\\\\n",
       "\t 5.4    & 3.9    & 1.7    & 0.4    & setosa\\\\\n",
       "\\end{tabular}\n"
      ],
      "text/markdown": [
       "\n",
       "Sepal.Length | Sepal.Width | Petal.Length | Petal.Width | Species | \n",
       "|---|---|---|---|---|---|\n",
       "| 5.1    | 3.5    | 1.4    | 0.2    | setosa | \n",
       "| 4.9    | 3.0    | 1.4    | 0.2    | setosa | \n",
       "| 4.7    | 3.2    | 1.3    | 0.2    | setosa | \n",
       "| 4.6    | 3.1    | 1.5    | 0.2    | setosa | \n",
       "| 5.0    | 3.6    | 1.4    | 0.2    | setosa | \n",
       "| 5.4    | 3.9    | 1.7    | 0.4    | setosa | \n",
       "\n",
       "\n"
      ],
      "text/plain": [
       "  Sepal.Length Sepal.Width Petal.Length Petal.Width Species\n",
       "1 5.1          3.5         1.4          0.2         setosa \n",
       "2 4.9          3.0         1.4          0.2         setosa \n",
       "3 4.7          3.2         1.3          0.2         setosa \n",
       "4 4.6          3.1         1.5          0.2         setosa \n",
       "5 5.0          3.6         1.4          0.2         setosa \n",
       "6 5.4          3.9         1.7          0.4         setosa "
      ]
     },
     "metadata": {},
     "output_type": "display_data"
    }
   ],
   "source": [
    "head(iris)"
   ]
  },
  {
   "cell_type": "markdown",
   "metadata": {},
   "source": [
    "## 3. Variable\n",
    "\n",
    "종속변수를 입력할 수 있도록 변환한다."
   ]
  },
  {
   "cell_type": "code",
   "execution_count": 35,
   "metadata": {},
   "outputs": [
    {
     "data": {
      "text/html": [
       "<table>\n",
       "<thead><tr><th scope=col>Sepal.Length</th><th scope=col>Sepal.Width</th><th scope=col>Petal.Length</th><th scope=col>Petal.Width</th><th scope=col>Species</th><th scope=col>setosa</th><th scope=col>versicolor</th><th scope=col>virginica</th></tr></thead>\n",
       "<tbody>\n",
       "\t<tr><td>5.1   </td><td>3.5   </td><td>1.4   </td><td>0.2   </td><td>setosa</td><td>1     </td><td>0     </td><td>0     </td></tr>\n",
       "\t<tr><td>4.9   </td><td>3.0   </td><td>1.4   </td><td>0.2   </td><td>setosa</td><td>1     </td><td>0     </td><td>0     </td></tr>\n",
       "\t<tr><td>4.7   </td><td>3.2   </td><td>1.3   </td><td>0.2   </td><td>setosa</td><td>1     </td><td>0     </td><td>0     </td></tr>\n",
       "\t<tr><td>4.6   </td><td>3.1   </td><td>1.5   </td><td>0.2   </td><td>setosa</td><td>1     </td><td>0     </td><td>0     </td></tr>\n",
       "\t<tr><td>5.0   </td><td>3.6   </td><td>1.4   </td><td>0.2   </td><td>setosa</td><td>1     </td><td>0     </td><td>0     </td></tr>\n",
       "\t<tr><td>5.4   </td><td>3.9   </td><td>1.7   </td><td>0.4   </td><td>setosa</td><td>1     </td><td>0     </td><td>0     </td></tr>\n",
       "</tbody>\n",
       "</table>\n"
      ],
      "text/latex": [
       "\\begin{tabular}{r|llllllll}\n",
       " Sepal.Length & Sepal.Width & Petal.Length & Petal.Width & Species & setosa & versicolor & virginica\\\\\n",
       "\\hline\n",
       "\t 5.1    & 3.5    & 1.4    & 0.2    & setosa & 1      & 0      & 0     \\\\\n",
       "\t 4.9    & 3.0    & 1.4    & 0.2    & setosa & 1      & 0      & 0     \\\\\n",
       "\t 4.7    & 3.2    & 1.3    & 0.2    & setosa & 1      & 0      & 0     \\\\\n",
       "\t 4.6    & 3.1    & 1.5    & 0.2    & setosa & 1      & 0      & 0     \\\\\n",
       "\t 5.0    & 3.6    & 1.4    & 0.2    & setosa & 1      & 0      & 0     \\\\\n",
       "\t 5.4    & 3.9    & 1.7    & 0.4    & setosa & 1      & 0      & 0     \\\\\n",
       "\\end{tabular}\n"
      ],
      "text/markdown": [
       "\n",
       "Sepal.Length | Sepal.Width | Petal.Length | Petal.Width | Species | setosa | versicolor | virginica | \n",
       "|---|---|---|---|---|---|\n",
       "| 5.1    | 3.5    | 1.4    | 0.2    | setosa | 1      | 0      | 0      | \n",
       "| 4.9    | 3.0    | 1.4    | 0.2    | setosa | 1      | 0      | 0      | \n",
       "| 4.7    | 3.2    | 1.3    | 0.2    | setosa | 1      | 0      | 0      | \n",
       "| 4.6    | 3.1    | 1.5    | 0.2    | setosa | 1      | 0      | 0      | \n",
       "| 5.0    | 3.6    | 1.4    | 0.2    | setosa | 1      | 0      | 0      | \n",
       "| 5.4    | 3.9    | 1.7    | 0.4    | setosa | 1      | 0      | 0      | \n",
       "\n",
       "\n"
      ],
      "text/plain": [
       "  Sepal.Length Sepal.Width Petal.Length Petal.Width Species setosa versicolor\n",
       "1 5.1          3.5         1.4          0.2         setosa  1      0         \n",
       "2 4.9          3.0         1.4          0.2         setosa  1      0         \n",
       "3 4.7          3.2         1.3          0.2         setosa  1      0         \n",
       "4 4.6          3.1         1.5          0.2         setosa  1      0         \n",
       "5 5.0          3.6         1.4          0.2         setosa  1      0         \n",
       "6 5.4          3.9         1.7          0.4         setosa  1      0         \n",
       "  virginica\n",
       "1 0        \n",
       "2 0        \n",
       "3 0        \n",
       "4 0        \n",
       "5 0        \n",
       "6 0        "
      ]
     },
     "metadata": {},
     "output_type": "display_data"
    }
   ],
   "source": [
    "species.ind <- class.ind(iris$Species)\n",
    "iris <- cbind(iris, species.ind)\n",
    "head(iris)"
   ]
  },
  {
   "cell_type": "markdown",
   "metadata": {},
   "source": [
    "## 4. Sample Data\n",
    "\n",
    "훈련용과 검증요 데이터로 분리한다."
   ]
  },
  {
   "cell_type": "code",
   "execution_count": 61,
   "metadata": {},
   "outputs": [],
   "source": [
    "train.idx <- sample(1:150, 100)\n",
    "iris.train.df <- iris[train.idx, ]\n",
    "iris.test.df <- iris[-train.idx, ]"
   ]
  },
  {
   "cell_type": "markdown",
   "metadata": {},
   "source": [
    "## 5. Renral Model\n",
    "\n",
    "신경망 모형을 만든다.\n",
    "- iris.train.df[, c(1:4)] : 1번째 부터 4번째 열(Sepal.Length, Sepal.Width, Petal.Length, Petal.Width)가 입력값\n",
    "- iris.train.df[, c(6:8)] : 6번째 부터 8번째 열(setosa, versicolor, virginica)가 출력값\n",
    "- size : 은닉층의 개수"
   ]
  },
  {
   "cell_type": "code",
   "execution_count": 50,
   "metadata": {},
   "outputs": [
    {
     "name": "stdout",
     "output_type": "stream",
     "text": [
      "# weights:  83\n",
      "initial  value 109.196844 \n",
      "iter  10 value 6.330971\n",
      "iter  20 value 0.234102\n",
      "iter  30 value 0.000337\n",
      "final  value 0.000039 \n",
      "converged\n"
     ]
    }
   ],
   "source": [
    "iris.nn <- nnet(iris.train.df[, c(1:4)], y=iris.train.df[, c(6:8)], size = 10, softmax=T)"
   ]
  },
  {
   "cell_type": "code",
   "execution_count": 51,
   "metadata": {
    "scrolled": true
   },
   "outputs": [
    {
     "data": {
      "text/plain": [
       "a 4-10-3 network with 83 weights\n",
       "options were - softmax modelling \n",
       " b->h1 i1->h1 i2->h1 i3->h1 i4->h1 \n",
       " -1.77 -13.12  -5.30 -11.28  -4.06 \n",
       " b->h2 i1->h2 i2->h2 i3->h2 i4->h2 \n",
       " -6.23 -25.12 -22.72   1.55   3.64 \n",
       " b->h3 i1->h3 i2->h3 i3->h3 i4->h3 \n",
       " -5.32 -22.37 -12.07  -7.71   0.40 \n",
       " b->h4 i1->h4 i2->h4 i3->h4 i4->h4 \n",
       "  0.94   3.85   1.87   1.83   0.56 \n",
       " b->h5 i1->h5 i2->h5 i3->h5 i4->h5 \n",
       " -2.08  -4.53  -4.07   6.78   5.25 \n",
       " b->h6 i1->h6 i2->h6 i3->h6 i4->h6 \n",
       "  3.67   5.89  14.92 -25.14 -13.57 \n",
       " b->h7 i1->h7 i2->h7 i3->h7 i4->h7 \n",
       "  0.30   6.20   0.27   8.23   2.56 \n",
       " b->h8 i1->h8 i2->h8 i3->h8 i4->h8 \n",
       "-52.61 -22.07 -17.36  40.51  24.56 \n",
       " b->h9 i1->h9 i2->h9 i3->h9 i4->h9 \n",
       "  1.63  11.90   4.61   9.90   3.42 \n",
       " b->h10 i1->h10 i2->h10 i3->h10 i4->h10 \n",
       "   2.17    8.87    6.00   -0.79   -2.87 \n",
       "  b->o1  h1->o1  h2->o1  h3->o1  h4->o1  h5->o1  h6->o1  h7->o1  h8->o1  h9->o1 \n",
       "   1.56    0.25   -6.27   -7.14    0.29  -23.83   36.02    1.86  -13.57   -9.32 \n",
       "h10->o1 \n",
       "   1.99 \n",
       "  b->o2  h1->o2  h2->o2  h3->o2  h4->o2  h5->o2  h6->o2  h7->o2  h8->o2  h9->o2 \n",
       "   5.16    1.94   -9.62    5.96    6.33   14.57  -22.23    4.54  -38.26   13.76 \n",
       "h10->o2 \n",
       "   0.12 \n",
       "  b->o3  h1->o3  h2->o3  h3->o3  h4->o3  h5->o3  h6->o3  h7->o3  h8->o3  h9->o3 \n",
       "  -7.82   -1.42   16.23    1.71   -7.43    9.18  -13.24   -7.49   52.30   -4.62 \n",
       "h10->o3 \n",
       "  -2.68 "
      ]
     },
     "metadata": {},
     "output_type": "display_data"
    }
   ],
   "source": [
    "summary(iris.nn)"
   ]
  },
  {
   "cell_type": "markdown",
   "metadata": {},
   "source": [
    "- 출력 결과는 연결선의 방향과 가중치를 의미\n",
    "- 초기값이 별로도 지정되지 않으면 실행시마다 값이 달라짐"
   ]
  },
  {
   "cell_type": "markdown",
   "metadata": {},
   "source": [
    "## 6. Validation\n",
    "\n",
    "만든 모델을 검증한다."
   ]
  },
  {
   "cell_type": "code",
   "execution_count": 56,
   "metadata": {},
   "outputs": [
    {
     "data": {
      "text/plain": [
       "            \n",
       "iris.pred    setosa versicolor virginica\n",
       "  setosa         33          0         0\n",
       "  versicolor      0         32         0\n",
       "  virginica       0          0        35"
      ]
     },
     "metadata": {},
     "output_type": "display_data"
    }
   ],
   "source": [
    "# 훈련 데이터\n",
    "iris.pred <- predict(iris.nn, iris.train.df[,c(1:4)], type=\"class\")\n",
    "table(iris.pred, iris.train.df$Species)"
   ]
  },
  {
   "cell_type": "code",
   "execution_count": 63,
   "metadata": {},
   "outputs": [
    {
     "data": {
      "text/plain": [
       "            \n",
       "iris.pred    setosa versicolor virginica\n",
       "  setosa         16          0         0\n",
       "  versicolor      0         17         0\n",
       "  virginica       0          1        16"
      ]
     },
     "metadata": {},
     "output_type": "display_data"
    }
   ],
   "source": [
    "# 검증데이터\n",
    "iris.pred <- predict(iris.nn, iris.test.df[,c(1:4)], type=\"class\")\n",
    "table(iris.pred, iris.test.df$Species)"
   ]
  },
  {
   "cell_type": "markdown",
   "metadata": {},
   "source": [
    "- 결과중 훈련 데이터를 사용한 신경망 모형에서 오분류가 1건 발생함"
   ]
  },
  {
   "cell_type": "markdown",
   "metadata": {},
   "source": [
    "## 7. Visualization\n",
    "\n",
    "해당 결과를 시각화 해본다.\n",
    "- 시각화를 위한 plot.nnet() 함수를 불러와서 사용"
   ]
  },
  {
   "cell_type": "code",
   "execution_count": 64,
   "metadata": {},
   "outputs": [
    {
     "name": "stderr",
     "output_type": "stream",
     "text": [
      "SHA-1 hash of file is bf3c7b8ac910823b729e3ce73bb6ab5e6955ad3d\n"
     ]
    }
   ],
   "source": [
    "library(devtools)\n",
    "source_url('https://gist.githubusercontent.com/Peque/41a9e20d6687f2f3108d/raw/85e14f3a292e126f1454864427e3a189c2fe33f3/nnet_plot_update.r')"
   ]
  },
  {
   "cell_type": "code",
   "execution_count": 76,
   "metadata": {},
   "outputs": [
    {
     "data": {
      "image/png": "[encoded data removed]",
      "text/plain": [
       "plot without title"
      ]
     },
     "metadata": {},
     "output_type": "display_data"
    }
   ],
   "source": [
    "plot.nnet(iris.nn)"
   ]
  },
  {
   "cell_type": "markdown",
   "metadata": {},
   "source": [
    "다른 방식으로 그래프를 출력할 수 있다."
   ]
  },
  {
   "cell_type": "code",
   "execution_count": 77,
   "metadata": {},
   "outputs": [
    {
     "data": {
      "image/png": "[encoded data removed]",
      "text/plain": [
       "plot without title"
      ]
     },
     "metadata": {},
     "output_type": "display_data"
    }
   ],
   "source": [
    "library(clusterGeneration)\n",
    "library(scales)\n",
    "library(reshape)\n",
    "plot(iris.nn)"
   ]
  },
  {
   "cell_type": "markdown",
   "metadata": {},
   "source": [
    "----"
   ]
  }
 ],
 "metadata": {
  "kernelspec": {
   "display_name": "R",
   "language": "R",
   "name": "ir"
  },
  "language_info": {
   "codemirror_mode": "r",
   "file_extension": ".r",
   "mimetype": "text/x-r-source",
   "name": "R",
   "pygments_lexer": "r",
   "version": "3.5.1"
  }
 },
 "nbformat": 4,
 "nbformat_minor": 2
}
