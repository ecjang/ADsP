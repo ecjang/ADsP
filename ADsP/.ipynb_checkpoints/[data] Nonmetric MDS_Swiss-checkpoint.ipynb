{
 "cells": [
  {
   "cell_type": "markdown",
   "metadata": {},
   "source": [
    "----"
   ]
  },
  {
   "cell_type": "markdown",
   "metadata": {},
   "source": [
    "# 비계량적 다차원 척도법\n",
    "\n",
    "- 참고 1: https://blog.naver.com/projaewon2/220773123445"
   ]
  },
  {
   "cell_type": "markdown",
   "metadata": {},
   "source": [
    "----"
   ]
  },
  {
   "cell_type": "markdown",
   "metadata": {},
   "source": [
    "## 1. Swiess\n",
    "\n",
    "1888년 스위 47개 불어권 도시의 인구 통계 정보"
   ]
  },
  {
   "cell_type": "code",
   "execution_count": 14,
   "metadata": {},
   "outputs": [
    {
     "data": {
      "text/html": [
       "<table>\n",
       "<thead><tr><th></th><th scope=col>Fertility</th><th scope=col>Agriculture</th><th scope=col>Examination</th><th scope=col>Education</th><th scope=col>Catholic</th><th scope=col>Infant.Mortality</th></tr></thead>\n",
       "<tbody>\n",
       "\t<tr><th scope=row>Courtelary</th><td>80.2 </td><td>17.0 </td><td>15   </td><td>12   </td><td> 9.96</td><td>22.2 </td></tr>\n",
       "\t<tr><th scope=row>Delemont</th><td>83.1 </td><td>45.1 </td><td> 6   </td><td> 9   </td><td>84.84</td><td>22.2 </td></tr>\n",
       "\t<tr><th scope=row>Franches-Mnt</th><td>92.5 </td><td>39.7 </td><td> 5   </td><td> 5   </td><td>93.40</td><td>20.2 </td></tr>\n",
       "\t<tr><th scope=row>Moutier</th><td>85.8 </td><td>36.5 </td><td>12   </td><td> 7   </td><td>33.77</td><td>20.3 </td></tr>\n",
       "\t<tr><th scope=row>Neuveville</th><td>76.9 </td><td>43.5 </td><td>17   </td><td>15   </td><td> 5.16</td><td>20.6 </td></tr>\n",
       "\t<tr><th scope=row>Porrentruy</th><td>76.1 </td><td>35.3 </td><td> 9   </td><td> 7   </td><td>90.57</td><td>26.6 </td></tr>\n",
       "</tbody>\n",
       "</table>\n"
      ],
      "text/latex": [
       "\\begin{tabular}{r|llllll}\n",
       "  & Fertility & Agriculture & Examination & Education & Catholic & Infant.Mortality\\\\\n",
       "\\hline\n",
       "\tCourtelary & 80.2  & 17.0  & 15    & 12    &  9.96 & 22.2 \\\\\n",
       "\tDelemont & 83.1  & 45.1  &  6    &  9    & 84.84 & 22.2 \\\\\n",
       "\tFranches-Mnt & 92.5  & 39.7  &  5    &  5    & 93.40 & 20.2 \\\\\n",
       "\tMoutier & 85.8  & 36.5  & 12    &  7    & 33.77 & 20.3 \\\\\n",
       "\tNeuveville & 76.9  & 43.5  & 17    & 15    &  5.16 & 20.6 \\\\\n",
       "\tPorrentruy & 76.1  & 35.3  &  9    &  7    & 90.57 & 26.6 \\\\\n",
       "\\end{tabular}\n"
      ],
      "text/markdown": [
       "\n",
       "| <!--/--> | Fertility | Agriculture | Examination | Education | Catholic | Infant.Mortality | \n",
       "|---|---|---|---|---|---|\n",
       "| Courtelary | 80.2  | 17.0  | 15    | 12    |  9.96 | 22.2  | \n",
       "| Delemont | 83.1  | 45.1  |  6    |  9    | 84.84 | 22.2  | \n",
       "| Franches-Mnt | 92.5  | 39.7  |  5    |  5    | 93.40 | 20.2  | \n",
       "| Moutier | 85.8  | 36.5  | 12    |  7    | 33.77 | 20.3  | \n",
       "| Neuveville | 76.9  | 43.5  | 17    | 15    |  5.16 | 20.6  | \n",
       "| Porrentruy | 76.1  | 35.3  |  9    |  7    | 90.57 | 26.6  | \n",
       "\n",
       "\n"
      ],
      "text/plain": [
       "             Fertility Agriculture Examination Education Catholic\n",
       "Courtelary   80.2      17.0        15          12         9.96   \n",
       "Delemont     83.1      45.1         6           9        84.84   \n",
       "Franches-Mnt 92.5      39.7         5           5        93.40   \n",
       "Moutier      85.8      36.5        12           7        33.77   \n",
       "Neuveville   76.9      43.5        17          15         5.16   \n",
       "Porrentruy   76.1      35.3         9           7        90.57   \n",
       "             Infant.Mortality\n",
       "Courtelary   22.2            \n",
       "Delemont     22.2            \n",
       "Franches-Mnt 20.2            \n",
       "Moutier      20.3            \n",
       "Neuveville   20.6            \n",
       "Porrentruy   26.6            "
      ]
     },
     "metadata": {},
     "output_type": "display_data"
    }
   ],
   "source": [
    "# 데이터 로드\n",
    "library(MASS)\n",
    "head(swiss)"
   ]
  },
  {
   "cell_type": "markdown",
   "metadata": {},
   "source": [
    "총 6 개의 변수,  47 개의 관측치를 갖는 데이터 프레임.\n",
    "\n",
    "1. Fertility 불임 : 일반적으로 표준화된 출산율 측정\n",
    "1. Agriculture 농업 : 농업에 종사하는 남성의 비율\n",
    "1. Examination 검사 : 육군 시험에서 가장 높은 점수를받은 초안생의 비율\n",
    "1. Education 교육 : 초등교육을 넘어서는 비율\n",
    "1. Cathilic 카톨릭 : 개신교와 반대\n",
    "1. Infant.Mortality 유아 : 1살 이하의 유아"
   ]
  },
  {
   "cell_type": "code",
   "execution_count": 13,
   "metadata": {},
   "outputs": [
    {
     "name": "stdout",
     "output_type": "stream",
     "text": [
      "'data.frame':\t47 obs. of  6 variables:\n",
      " $ Fertility       : num  80.2 83.1 92.5 85.8 76.9 76.1 83.8 92.4 82.4 82.9 ...\n",
      " $ Agriculture     : num  17 45.1 39.7 36.5 43.5 35.3 70.2 67.8 53.3 45.2 ...\n",
      " $ Examination     : int  15 6 5 12 17 9 16 14 12 16 ...\n",
      " $ Education       : int  12 9 5 7 15 7 7 8 7 13 ...\n",
      " $ Catholic        : num  9.96 84.84 93.4 33.77 5.16 ...\n",
      " $ Infant.Mortality: num  22.2 22.2 20.2 20.3 20.6 26.6 23.6 24.9 21 24.4 ...\n"
     ]
    },
    {
     "data": {
      "text/plain": [
       "   Fertility      Agriculture     Examination      Education    \n",
       " Min.   :35.00   Min.   : 1.20   Min.   : 3.00   Min.   : 1.00  \n",
       " 1st Qu.:64.70   1st Qu.:35.90   1st Qu.:12.00   1st Qu.: 6.00  \n",
       " Median :70.40   Median :54.10   Median :16.00   Median : 8.00  \n",
       " Mean   :70.14   Mean   :50.66   Mean   :16.49   Mean   :10.98  \n",
       " 3rd Qu.:78.45   3rd Qu.:67.65   3rd Qu.:22.00   3rd Qu.:12.00  \n",
       " Max.   :92.50   Max.   :89.70   Max.   :37.00   Max.   :53.00  \n",
       "    Catholic       Infant.Mortality\n",
       " Min.   :  2.150   Min.   :10.80   \n",
       " 1st Qu.:  5.195   1st Qu.:18.15   \n",
       " Median : 15.140   Median :20.00   \n",
       " Mean   : 41.144   Mean   :19.94   \n",
       " 3rd Qu.: 93.125   3rd Qu.:21.70   \n",
       " Max.   :100.000   Max.   :26.60   "
      ]
     },
     "metadata": {},
     "output_type": "display_data"
    }
   ],
   "source": [
    "# 데이터 확인\n",
    "str(swiss)\n",
    "summary(swiss)"
   ]
  },
  {
   "cell_type": "markdown",
   "metadata": {},
   "source": [
    "----"
   ]
  },
  {
   "cell_type": "markdown",
   "metadata": {},
   "source": [
    "## 2. isoMDS\n",
    "Distance Matrix로 변환후 isoMDS 함수를 적용한다."
   ]
  },
  {
   "cell_type": "code",
   "execution_count": 16,
   "metadata": {},
   "outputs": [
    {
     "name": "stdout",
     "output_type": "stream",
     "text": [
      "initial  value 5.463800 \n",
      "iter   5 value 4.499103\n",
      "iter   5 value 4.495335\n",
      "iter   5 value 4.492669\n",
      "final  value 4.492669 \n",
      "converged\n"
     ]
    }
   ],
   "source": [
    "swiss.dist <- dist(swiss)\n",
    "swiss.mds <- isoMDS(swiss.dist)"
   ]
  },
  {
   "cell_type": "markdown",
   "metadata": {},
   "source": [
    "- 변환 결과 시작은 5.46이고, 반복계산 결과 4.49로 수렴함."
   ]
  },
  {
   "cell_type": "markdown",
   "metadata": {},
   "source": [
    "----"
   ]
  },
  {
   "cell_type": "markdown",
   "metadata": {},
   "source": [
    "## 3. Result\n",
    "\n",
    "결과 부분만 출력해본다."
   ]
  },
  {
   "cell_type": "code",
   "execution_count": 18,
   "metadata": {},
   "outputs": [
    {
     "data": {
      "text/html": [
       "<table>\n",
       "<tbody>\n",
       "\t<tr><th scope=row>Courtelary</th><td> 38.850496</td><td>-16.154674</td></tr>\n",
       "\t<tr><th scope=row>Delemont</th><td>-42.676573</td><td>-13.720989</td></tr>\n",
       "\t<tr><th scope=row>Franches-Mnt</th><td>-53.587659</td><td>-21.335763</td></tr>\n",
       "\t<tr><th scope=row>Moutier</th><td>  6.735536</td><td> -4.604116</td></tr>\n",
       "\t<tr><th scope=row>Neuveville</th><td> 35.622307</td><td>  4.633972</td></tr>\n",
       "\t<tr><th scope=row>Porrentruy</th><td>-44.739479</td><td>-25.495702</td></tr>\n",
       "</tbody>\n",
       "</table>\n"
      ],
      "text/latex": [
       "\\begin{tabular}{r|ll}\n",
       "\tCourtelary &  38.850496 & -16.154674\\\\\n",
       "\tDelemont & -42.676573 & -13.720989\\\\\n",
       "\tFranches-Mnt & -53.587659 & -21.335763\\\\\n",
       "\tMoutier &   6.735536 &  -4.604116\\\\\n",
       "\tNeuveville &  35.622307 &   4.633972\\\\\n",
       "\tPorrentruy & -44.739479 & -25.495702\\\\\n",
       "\\end{tabular}\n"
      ],
      "text/markdown": [
       "\n",
       "| Courtelary |  38.850496 | -16.154674 | \n",
       "| Delemont | -42.676573 | -13.720989 | \n",
       "| Franches-Mnt | -53.587659 | -21.335763 | \n",
       "| Moutier |   6.735536 |  -4.604116 | \n",
       "| Neuveville |  35.622307 |   4.633972 | \n",
       "| Porrentruy | -44.739479 | -25.495702 | \n",
       "\n",
       "\n"
      ],
      "text/plain": [
       "             [,1]       [,2]      \n",
       "Courtelary    38.850496 -16.154674\n",
       "Delemont     -42.676573 -13.720989\n",
       "Franches-Mnt -53.587659 -21.335763\n",
       "Moutier        6.735536  -4.604116\n",
       "Neuveville    35.622307   4.633972\n",
       "Porrentruy   -44.739479 -25.495702"
      ]
     },
     "metadata": {},
     "output_type": "display_data"
    }
   ],
   "source": [
    "head(swiss.mds$points)"
   ]
  },
  {
   "cell_type": "markdown",
   "metadata": {},
   "source": [
    "----"
   ]
  },
  {
   "cell_type": "markdown",
   "metadata": {},
   "source": [
    "## 4. Visualization\n",
    "\n",
    "결과값을 구 축으로 지정하여 그래프를 그려본다."
   ]
  },
  {
   "cell_type": "code",
   "execution_count": 27,
   "metadata": {},
   "outputs": [
    {
     "data": {
      "image/png": "[encoded data removed]",
      "text/plain": [
       "plot without title"
      ]
     },
     "metadata": {},
     "output_type": "display_data"
    }
   ],
   "source": [
    "plot(swiss.mds$points, type=\"n\")# type=\"n\" 옵션을 적용하면 포인트가 사라짐\n",
    "segments(-75,-0,55,0, lty=\"dotted\")\n",
    "segments(-0,-80,0,35, lty=\"dotted\")\n",
    "text(swiss.mds$points, labels=row.names(swiss), col=\"red\")"
   ]
  },
  {
   "cell_type": "markdown",
   "metadata": {},
   "source": [
    "----"
   ]
  }
 ],
 "metadata": {
  "kernelspec": {
   "display_name": "R",
   "language": "R",
   "name": "ir"
  },
  "language_info": {
   "codemirror_mode": "r",
   "file_extension": ".r",
   "mimetype": "text/x-r-source",
   "name": "R",
   "pygments_lexer": "r",
   "version": "3.5.1"
  }
 },
 "nbformat": 4,
 "nbformat_minor": 2
}
