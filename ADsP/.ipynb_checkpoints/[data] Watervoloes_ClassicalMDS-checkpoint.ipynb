{
 "cells": [
  {
   "cell_type": "markdown",
   "metadata": {},
   "source": [
    "----"
   ]
  },
  {
   "cell_type": "markdown",
   "metadata": {},
   "source": [
    "# 전통적 다차원 분석 사례"
   ]
  },
  {
   "cell_type": "markdown",
   "metadata": {},
   "source": [
    "----"
   ]
  },
  {
   "cell_type": "markdown",
   "metadata": {},
   "source": [
    "## 1. Watervoloes Dataset\n",
    "영국 14개 지역 물쥐의 13개 특성 발현 비율을 나타내는 데이터셋이다."
   ]
  },
  {
   "cell_type": "code",
   "execution_count": 4,
   "metadata": {},
   "outputs": [
    {
     "name": "stderr",
     "output_type": "stream",
     "text": [
      "Installing package into 'C:/Users/jang/Documents/R/win-library/3.5'\n",
      "(as 'lib' is unspecified)\n"
     ]
    },
    {
     "name": "stdout",
     "output_type": "stream",
     "text": [
      "package 'HSAUR' successfully unpacked and MD5 sums checked\n",
      "\n",
      "The downloaded binary packages are in\n",
      "\tC:\\Users\\jang\\AppData\\Local\\Temp\\RtmpOGQAm0\\downloaded_packages\n"
     ]
    }
   ],
   "source": [
    "# 패키지 설치\n",
    "install.packages(\"HSAUR\")"
   ]
  },
  {
   "cell_type": "code",
   "execution_count": 6,
   "metadata": {},
   "outputs": [
    {
     "data": {
      "text/html": [
       "<table>\n",
       "<thead><tr><th></th><th scope=col>Surrey</th><th scope=col>Shropshire</th><th scope=col>Yorkshire</th><th scope=col>Perthshire</th><th scope=col>Aberdeen</th><th scope=col>Elean Gamhna</th><th scope=col>Alps</th><th scope=col>Yugoslavia</th><th scope=col>Germany</th><th scope=col>Norway</th><th scope=col>Pyrenees I</th><th scope=col>Pyrenees II</th><th scope=col>North Spain</th><th scope=col>South Spain</th></tr></thead>\n",
       "<tbody>\n",
       "\t<tr><th scope=row>Surrey</th><td>0.000</td><td>0.099</td><td>0.033</td><td>0.183</td><td>0.148</td><td>0.198</td><td>0.462</td><td>0.628</td><td>0.113</td><td>0.173</td><td>0.434</td><td>0.762</td><td>0.530</td><td>0.586</td></tr>\n",
       "\t<tr><th scope=row>Shropshire</th><td>0.099</td><td>0.000</td><td>0.022</td><td>0.114</td><td>0.224</td><td>0.039</td><td>0.266</td><td>0.442</td><td>0.070</td><td>0.119</td><td>0.419</td><td>0.633</td><td>0.389</td><td>0.435</td></tr>\n",
       "\t<tr><th scope=row>Yorkshire</th><td>0.033</td><td>0.022</td><td>0.000</td><td>0.042</td><td>0.059</td><td>0.053</td><td>0.322</td><td>0.444</td><td>0.046</td><td>0.162</td><td>0.339</td><td>0.781</td><td>0.482</td><td>0.550</td></tr>\n",
       "\t<tr><th scope=row>Perthshire</th><td>0.183</td><td>0.114</td><td>0.042</td><td>0.000</td><td>0.068</td><td>0.085</td><td>0.435</td><td>0.406</td><td>0.047</td><td>0.331</td><td>0.505</td><td>0.700</td><td>0.579</td><td>0.530</td></tr>\n",
       "\t<tr><th scope=row>Aberdeen</th><td>0.148</td><td>0.224</td><td>0.059</td><td>0.068</td><td>0.000</td><td>0.051</td><td>0.268</td><td>0.240</td><td>0.034</td><td>0.177</td><td>0.469</td><td>0.758</td><td>0.597</td><td>0.552</td></tr>\n",
       "\t<tr><th scope=row>Elean Gamhna</th><td>0.198</td><td>0.039</td><td>0.053</td><td>0.085</td><td>0.051</td><td>0.000</td><td>0.025</td><td>0.129</td><td>0.002</td><td>0.039</td><td>0.390</td><td>0.625</td><td>0.498</td><td>0.509</td></tr>\n",
       "</tbody>\n",
       "</table>\n"
      ],
      "text/latex": [
       "\\begin{tabular}{r|llllllllllllll}\n",
       "  & Surrey & Shropshire & Yorkshire & Perthshire & Aberdeen & Elean Gamhna & Alps & Yugoslavia & Germany & Norway & Pyrenees I & Pyrenees II & North Spain & South Spain\\\\\n",
       "\\hline\n",
       "\tSurrey & 0.000 & 0.099 & 0.033 & 0.183 & 0.148 & 0.198 & 0.462 & 0.628 & 0.113 & 0.173 & 0.434 & 0.762 & 0.530 & 0.586\\\\\n",
       "\tShropshire & 0.099 & 0.000 & 0.022 & 0.114 & 0.224 & 0.039 & 0.266 & 0.442 & 0.070 & 0.119 & 0.419 & 0.633 & 0.389 & 0.435\\\\\n",
       "\tYorkshire & 0.033 & 0.022 & 0.000 & 0.042 & 0.059 & 0.053 & 0.322 & 0.444 & 0.046 & 0.162 & 0.339 & 0.781 & 0.482 & 0.550\\\\\n",
       "\tPerthshire & 0.183 & 0.114 & 0.042 & 0.000 & 0.068 & 0.085 & 0.435 & 0.406 & 0.047 & 0.331 & 0.505 & 0.700 & 0.579 & 0.530\\\\\n",
       "\tAberdeen & 0.148 & 0.224 & 0.059 & 0.068 & 0.000 & 0.051 & 0.268 & 0.240 & 0.034 & 0.177 & 0.469 & 0.758 & 0.597 & 0.552\\\\\n",
       "\tElean Gamhna & 0.198 & 0.039 & 0.053 & 0.085 & 0.051 & 0.000 & 0.025 & 0.129 & 0.002 & 0.039 & 0.390 & 0.625 & 0.498 & 0.509\\\\\n",
       "\\end{tabular}\n"
      ],
      "text/markdown": [
       "\n",
       "| <!--/--> | Surrey | Shropshire | Yorkshire | Perthshire | Aberdeen | Elean Gamhna | Alps | Yugoslavia | Germany | Norway | Pyrenees I | Pyrenees II | North Spain | South Spain | \n",
       "|---|---|---|---|---|---|\n",
       "| Surrey | 0.000 | 0.099 | 0.033 | 0.183 | 0.148 | 0.198 | 0.462 | 0.628 | 0.113 | 0.173 | 0.434 | 0.762 | 0.530 | 0.586 | \n",
       "| Shropshire | 0.099 | 0.000 | 0.022 | 0.114 | 0.224 | 0.039 | 0.266 | 0.442 | 0.070 | 0.119 | 0.419 | 0.633 | 0.389 | 0.435 | \n",
       "| Yorkshire | 0.033 | 0.022 | 0.000 | 0.042 | 0.059 | 0.053 | 0.322 | 0.444 | 0.046 | 0.162 | 0.339 | 0.781 | 0.482 | 0.550 | \n",
       "| Perthshire | 0.183 | 0.114 | 0.042 | 0.000 | 0.068 | 0.085 | 0.435 | 0.406 | 0.047 | 0.331 | 0.505 | 0.700 | 0.579 | 0.530 | \n",
       "| Aberdeen | 0.148 | 0.224 | 0.059 | 0.068 | 0.000 | 0.051 | 0.268 | 0.240 | 0.034 | 0.177 | 0.469 | 0.758 | 0.597 | 0.552 | \n",
       "| Elean Gamhna | 0.198 | 0.039 | 0.053 | 0.085 | 0.051 | 0.000 | 0.025 | 0.129 | 0.002 | 0.039 | 0.390 | 0.625 | 0.498 | 0.509 | \n",
       "\n",
       "\n"
      ],
      "text/plain": [
       "             Surrey Shropshire Yorkshire Perthshire Aberdeen Elean Gamhna Alps \n",
       "Surrey       0.000  0.099      0.033     0.183      0.148    0.198        0.462\n",
       "Shropshire   0.099  0.000      0.022     0.114      0.224    0.039        0.266\n",
       "Yorkshire    0.033  0.022      0.000     0.042      0.059    0.053        0.322\n",
       "Perthshire   0.183  0.114      0.042     0.000      0.068    0.085        0.435\n",
       "Aberdeen     0.148  0.224      0.059     0.068      0.000    0.051        0.268\n",
       "Elean Gamhna 0.198  0.039      0.053     0.085      0.051    0.000        0.025\n",
       "             Yugoslavia Germany Norway Pyrenees I Pyrenees II North Spain\n",
       "Surrey       0.628      0.113   0.173  0.434      0.762       0.530      \n",
       "Shropshire   0.442      0.070   0.119  0.419      0.633       0.389      \n",
       "Yorkshire    0.444      0.046   0.162  0.339      0.781       0.482      \n",
       "Perthshire   0.406      0.047   0.331  0.505      0.700       0.579      \n",
       "Aberdeen     0.240      0.034   0.177  0.469      0.758       0.597      \n",
       "Elean Gamhna 0.129      0.002   0.039  0.390      0.625       0.498      \n",
       "             South Spain\n",
       "Surrey       0.586      \n",
       "Shropshire   0.435      \n",
       "Yorkshire    0.550      \n",
       "Perthshire   0.530      \n",
       "Aberdeen     0.552      \n",
       "Elean Gamhna 0.509      "
      ]
     },
     "metadata": {},
     "output_type": "display_data"
    }
   ],
   "source": [
    "# 데이터 로드\n",
    "data(\"watervoles\", package = \"HSAUR\")\n",
    "head(watervoles)"
   ]
  },
  {
   "cell_type": "code",
   "execution_count": 7,
   "metadata": {},
   "outputs": [
    {
     "name": "stdout",
     "output_type": "stream",
     "text": [
      " num [1:14, 1:14] 0 0.099 0.033 0.183 0.148 0.198 0.462 0.628 0.113 0.173 ...\n",
      " - attr(*, \"dimnames\")=List of 2\n",
      "  ..$ : chr [1:14] \"Surrey\" \"Shropshire\" \"Yorkshire\" \"Perthshire\" ...\n",
      "  ..$ : chr [1:14] \"Surrey\" \"Shropshire\" \"Yorkshire\" \"Perthshire\" ...\n"
     ]
    }
   ],
   "source": [
    "# 데이터 확인\n",
    "str(watervoles)"
   ]
  },
  {
   "cell_type": "markdown",
   "metadata": {},
   "source": [
    "----"
   ]
  },
  {
   "cell_type": "markdown",
   "metadata": {},
   "source": [
    "## 2. Cmdscale 함수 적용\n",
    "\n",
    "전통적 MDS 분석 방법으로 Principal Coordinates 분석이라고도 한다. 점 사이의 거리를 계산한 집합을 반환한다. \n",
    "- cmdscale() : Matrix 데이터 상의 데이터들의 값을 거리로 생각하고 2차원상으로 나타내주는 기능"
   ]
  },
  {
   "cell_type": "code",
   "execution_count": 14,
   "metadata": {},
   "outputs": [],
   "source": [
    "?cmdscale()"
   ]
  },
  {
   "cell_type": "code",
   "execution_count": 24,
   "metadata": {},
   "outputs": [
    {
     "data": {
      "text/html": [
       "<table>\n",
       "<tbody>\n",
       "\t<tr><th scope=row>Surrey</th><td>-0.240788133</td><td> 0.233677162</td></tr>\n",
       "\t<tr><th scope=row>Shropshire</th><td>-0.113656033</td><td> 0.116786026</td></tr>\n",
       "\t<tr><th scope=row>Yorkshire</th><td>-0.239359809</td><td> 0.076003132</td></tr>\n",
       "\t<tr><th scope=row>Perthshire</th><td>-0.212934123</td><td> 0.060479017</td></tr>\n",
       "\t<tr><th scope=row>Aberdeen</th><td>-0.249489548</td><td>-0.069331766</td></tr>\n",
       "\t<tr><th scope=row>Elean Gamhna</th><td>-0.148728549</td><td>-0.077835691</td></tr>\n",
       "\t<tr><th scope=row>Alps</th><td> 0.051393974</td><td>-0.162305986</td></tr>\n",
       "\t<tr><th scope=row>Yugoslavia</th><td>-0.011536211</td><td>-0.344631490</td></tr>\n",
       "\t<tr><th scope=row>Germany</th><td> 0.003932616</td><td> 0.005908733</td></tr>\n",
       "\t<tr><th scope=row>Norway</th><td>-0.038569294</td><td>-0.008874157</td></tr>\n",
       "\t<tr><th scope=row>Pyrenees I</th><td> 0.042115821</td><td>-0.056555465</td></tr>\n",
       "\t<tr><th scope=row>Pyrenees II</th><td> 0.515830349</td><td> 0.029097752</td></tr>\n",
       "\t<tr><th scope=row>North Spain</th><td> 0.318027269</td><td> 0.150096450</td></tr>\n",
       "\t<tr><th scope=row>South Spain</th><td> 0.323761671</td><td> 0.047486283</td></tr>\n",
       "</tbody>\n",
       "</table>\n"
      ],
      "text/latex": [
       "\\begin{tabular}{r|ll}\n",
       "\tSurrey & -0.240788133 &  0.233677162\\\\\n",
       "\tShropshire & -0.113656033 &  0.116786026\\\\\n",
       "\tYorkshire & -0.239359809 &  0.076003132\\\\\n",
       "\tPerthshire & -0.212934123 &  0.060479017\\\\\n",
       "\tAberdeen & -0.249489548 & -0.069331766\\\\\n",
       "\tElean Gamhna & -0.148728549 & -0.077835691\\\\\n",
       "\tAlps &  0.051393974 & -0.162305986\\\\\n",
       "\tYugoslavia & -0.011536211 & -0.344631490\\\\\n",
       "\tGermany &  0.003932616 &  0.005908733\\\\\n",
       "\tNorway & -0.038569294 & -0.008874157\\\\\n",
       "\tPyrenees I &  0.042115821 & -0.056555465\\\\\n",
       "\tPyrenees II &  0.515830349 &  0.029097752\\\\\n",
       "\tNorth Spain &  0.318027269 &  0.150096450\\\\\n",
       "\tSouth Spain &  0.323761671 &  0.047486283\\\\\n",
       "\\end{tabular}\n"
      ],
      "text/markdown": [
       "\n",
       "| Surrey | -0.240788133 |  0.233677162 | \n",
       "| Shropshire | -0.113656033 |  0.116786026 | \n",
       "| Yorkshire | -0.239359809 |  0.076003132 | \n",
       "| Perthshire | -0.212934123 |  0.060479017 | \n",
       "| Aberdeen | -0.249489548 | -0.069331766 | \n",
       "| Elean Gamhna | -0.148728549 | -0.077835691 | \n",
       "| Alps |  0.051393974 | -0.162305986 | \n",
       "| Yugoslavia | -0.011536211 | -0.344631490 | \n",
       "| Germany |  0.003932616 |  0.005908733 | \n",
       "| Norway | -0.038569294 | -0.008874157 | \n",
       "| Pyrenees I |  0.042115821 | -0.056555465 | \n",
       "| Pyrenees II |  0.515830349 |  0.029097752 | \n",
       "| North Spain |  0.318027269 |  0.150096450 | \n",
       "| South Spain |  0.323761671 |  0.047486283 | \n",
       "\n",
       "\n"
      ],
      "text/plain": [
       "             [,1]         [,2]        \n",
       "Surrey       -0.240788133  0.233677162\n",
       "Shropshire   -0.113656033  0.116786026\n",
       "Yorkshire    -0.239359809  0.076003132\n",
       "Perthshire   -0.212934123  0.060479017\n",
       "Aberdeen     -0.249489548 -0.069331766\n",
       "Elean Gamhna -0.148728549 -0.077835691\n",
       "Alps          0.051393974 -0.162305986\n",
       "Yugoslavia   -0.011536211 -0.344631490\n",
       "Germany       0.003932616  0.005908733\n",
       "Norway       -0.038569294 -0.008874157\n",
       "Pyrenees I    0.042115821 -0.056555465\n",
       "Pyrenees II   0.515830349  0.029097752\n",
       "North Spain   0.318027269  0.150096450\n",
       "South Spain   0.323761671  0.047486283"
      ]
     },
     "metadata": {},
     "output_type": "display_data"
    }
   ],
   "source": [
    "voles_mds <- cmdscale(watervoles)\n",
    "voles_mds"
   ]
  },
  {
   "cell_type": "markdown",
   "metadata": {},
   "source": [
    "----"
   ]
  },
  {
   "cell_type": "markdown",
   "metadata": {},
   "source": [
    "## 3. Cmdscale 함수 적용 : eig 옵션\n",
    "\n",
    "[Eigenvalues 고유값]을 생성하는 옵션을 추가한다. \n",
    "- eigenvalue는 얼만큼 거리를 이동할지에 대한 값"
   ]
  },
  {
   "cell_type": "code",
   "execution_count": 23,
   "metadata": {},
   "outputs": [
    {
     "data": {
      "text/html": [
       "<dl>\n",
       "\t<dt>$points</dt>\n",
       "\t\t<dd><table>\n",
       "<tbody>\n",
       "\t<tr><th scope=row>Surrey</th><td>-0.240788133</td><td> 0.233677162</td></tr>\n",
       "\t<tr><th scope=row>Shropshire</th><td>-0.113656033</td><td> 0.116786026</td></tr>\n",
       "\t<tr><th scope=row>Yorkshire</th><td>-0.239359809</td><td> 0.076003132</td></tr>\n",
       "\t<tr><th scope=row>Perthshire</th><td>-0.212934123</td><td> 0.060479017</td></tr>\n",
       "\t<tr><th scope=row>Aberdeen</th><td>-0.249489548</td><td>-0.069331766</td></tr>\n",
       "\t<tr><th scope=row>Elean Gamhna</th><td>-0.148728549</td><td>-0.077835691</td></tr>\n",
       "\t<tr><th scope=row>Alps</th><td> 0.051393974</td><td>-0.162305986</td></tr>\n",
       "\t<tr><th scope=row>Yugoslavia</th><td>-0.011536211</td><td>-0.344631490</td></tr>\n",
       "\t<tr><th scope=row>Germany</th><td> 0.003932616</td><td> 0.005908733</td></tr>\n",
       "\t<tr><th scope=row>Norway</th><td>-0.038569294</td><td>-0.008874157</td></tr>\n",
       "\t<tr><th scope=row>Pyrenees I</th><td> 0.042115821</td><td>-0.056555465</td></tr>\n",
       "\t<tr><th scope=row>Pyrenees II</th><td> 0.515830349</td><td> 0.029097752</td></tr>\n",
       "\t<tr><th scope=row>North Spain</th><td> 0.318027269</td><td> 0.150096450</td></tr>\n",
       "\t<tr><th scope=row>South Spain</th><td> 0.323761671</td><td> 0.047486283</td></tr>\n",
       "</tbody>\n",
       "</table>\n",
       "</dd>\n",
       "\t<dt>$eig</dt>\n",
       "\t\t<dd><ol class=list-inline>\n",
       "\t<li>0.735991028388857</li>\n",
       "\t<li>0.262600320416587</li>\n",
       "\t<li>0.149262215335922</li>\n",
       "\t<li>0.0699045653712844</li>\n",
       "\t<li>0.0295697240904513</li>\n",
       "\t<li>0.019311838990461</li>\n",
       "\t<li>1.2490009027033e-16</li>\n",
       "\t<li>-0.0113945147456324</li>\n",
       "\t<li>-0.0127956910447932</li>\n",
       "\t<li>-0.0284992418004556</li>\n",
       "\t<li>-0.0425150241554585</li>\n",
       "\t<li>-0.0525545020625844</li>\n",
       "\t<li>-0.0740614312329592</li>\n",
       "\t<li>-0.10978328755168</li>\n",
       "</ol>\n",
       "</dd>\n",
       "\t<dt>$x</dt>\n",
       "\t\t<dd>NULL</dd>\n",
       "\t<dt>$ac</dt>\n",
       "\t\t<dd>0</dd>\n",
       "\t<dt>$GOF</dt>\n",
       "\t\t<dd><ol class=list-inline>\n",
       "\t<li>0.62480555718898</li>\n",
       "\t<li>0.788378379932761</li>\n",
       "</ol>\n",
       "</dd>\n",
       "</dl>\n"
      ],
      "text/latex": [
       "\\begin{description}\n",
       "\\item[\\$points] \\begin{tabular}{r|ll}\n",
       "\tSurrey & -0.240788133 &  0.233677162\\\\\n",
       "\tShropshire & -0.113656033 &  0.116786026\\\\\n",
       "\tYorkshire & -0.239359809 &  0.076003132\\\\\n",
       "\tPerthshire & -0.212934123 &  0.060479017\\\\\n",
       "\tAberdeen & -0.249489548 & -0.069331766\\\\\n",
       "\tElean Gamhna & -0.148728549 & -0.077835691\\\\\n",
       "\tAlps &  0.051393974 & -0.162305986\\\\\n",
       "\tYugoslavia & -0.011536211 & -0.344631490\\\\\n",
       "\tGermany &  0.003932616 &  0.005908733\\\\\n",
       "\tNorway & -0.038569294 & -0.008874157\\\\\n",
       "\tPyrenees I &  0.042115821 & -0.056555465\\\\\n",
       "\tPyrenees II &  0.515830349 &  0.029097752\\\\\n",
       "\tNorth Spain &  0.318027269 &  0.150096450\\\\\n",
       "\tSouth Spain &  0.323761671 &  0.047486283\\\\\n",
       "\\end{tabular}\n",
       "\n",
       "\\item[\\$eig] \\begin{enumerate*}\n",
       "\\item 0.735991028388857\n",
       "\\item 0.262600320416587\n",
       "\\item 0.149262215335922\n",
       "\\item 0.0699045653712844\n",
       "\\item 0.0295697240904513\n",
       "\\item 0.019311838990461\n",
       "\\item 1.2490009027033e-16\n",
       "\\item -0.0113945147456324\n",
       "\\item -0.0127956910447932\n",
       "\\item -0.0284992418004556\n",
       "\\item -0.0425150241554585\n",
       "\\item -0.0525545020625844\n",
       "\\item -0.0740614312329592\n",
       "\\item -0.10978328755168\n",
       "\\end{enumerate*}\n",
       "\n",
       "\\item[\\$x] NULL\n",
       "\\item[\\$ac] 0\n",
       "\\item[\\$GOF] \\begin{enumerate*}\n",
       "\\item 0.62480555718898\n",
       "\\item 0.788378379932761\n",
       "\\end{enumerate*}\n",
       "\n",
       "\\end{description}\n"
      ],
      "text/markdown": [
       "$points\n",
       ":   \n",
       "| Surrey | -0.240788133 |  0.233677162 | \n",
       "| Shropshire | -0.113656033 |  0.116786026 | \n",
       "| Yorkshire | -0.239359809 |  0.076003132 | \n",
       "| Perthshire | -0.212934123 |  0.060479017 | \n",
       "| Aberdeen | -0.249489548 | -0.069331766 | \n",
       "| Elean Gamhna | -0.148728549 | -0.077835691 | \n",
       "| Alps |  0.051393974 | -0.162305986 | \n",
       "| Yugoslavia | -0.011536211 | -0.344631490 | \n",
       "| Germany |  0.003932616 |  0.005908733 | \n",
       "| Norway | -0.038569294 | -0.008874157 | \n",
       "| Pyrenees I |  0.042115821 | -0.056555465 | \n",
       "| Pyrenees II |  0.515830349 |  0.029097752 | \n",
       "| North Spain |  0.318027269 |  0.150096450 | \n",
       "| South Spain |  0.323761671 |  0.047486283 | \n",
       "\n",
       "\n",
       "\n",
       "$eig\n",
       ":   1. 0.735991028388857\n",
       "2. 0.262600320416587\n",
       "3. 0.149262215335922\n",
       "4. 0.0699045653712844\n",
       "5. 0.0295697240904513\n",
       "6. 0.019311838990461\n",
       "7. 1.2490009027033e-16\n",
       "8. -0.0113945147456324\n",
       "9. -0.0127956910447932\n",
       "10. -0.0284992418004556\n",
       "11. -0.0425150241554585\n",
       "12. -0.0525545020625844\n",
       "13. -0.0740614312329592\n",
       "14. -0.10978328755168\n",
       "\n",
       "\n",
       "\n",
       "$x\n",
       ":   NULL\n",
       "$ac\n",
       ":   0\n",
       "$GOF\n",
       ":   1. 0.62480555718898\n",
       "2. 0.788378379932761\n",
       "\n",
       "\n",
       "\n",
       "\n",
       "\n"
      ],
      "text/plain": [
       "$points\n",
       "                     [,1]         [,2]\n",
       "Surrey       -0.240788133  0.233677162\n",
       "Shropshire   -0.113656033  0.116786026\n",
       "Yorkshire    -0.239359809  0.076003132\n",
       "Perthshire   -0.212934123  0.060479017\n",
       "Aberdeen     -0.249489548 -0.069331766\n",
       "Elean Gamhna -0.148728549 -0.077835691\n",
       "Alps          0.051393974 -0.162305986\n",
       "Yugoslavia   -0.011536211 -0.344631490\n",
       "Germany       0.003932616  0.005908733\n",
       "Norway       -0.038569294 -0.008874157\n",
       "Pyrenees I    0.042115821 -0.056555465\n",
       "Pyrenees II   0.515830349  0.029097752\n",
       "North Spain   0.318027269  0.150096450\n",
       "South Spain   0.323761671  0.047486283\n",
       "\n",
       "$eig\n",
       " [1]  7.359910e-01  2.626003e-01  1.492622e-01  6.990457e-02  2.956972e-02\n",
       " [6]  1.931184e-02  1.249001e-16 -1.139451e-02 -1.279569e-02 -2.849924e-02\n",
       "[11] -4.251502e-02 -5.255450e-02 -7.406143e-02 -1.097833e-01\n",
       "\n",
       "$x\n",
       "NULL\n",
       "\n",
       "$ac\n",
       "[1] 0\n",
       "\n",
       "$GOF\n",
       "[1] 0.6248056 0.7883784\n"
      ]
     },
     "metadata": {},
     "output_type": "display_data"
    }
   ],
   "source": [
    "voles_mds_eig <- cmdscale(watervoles, eig=T)\n",
    "voles_mds_eig"
   ]
  },
  {
   "cell_type": "markdown",
   "metadata": {},
   "source": [
    "----"
   ]
  },
  {
   "cell_type": "markdown",
   "metadata": {},
   "source": [
    "## 4. Visualization\n",
    "\n",
    "결과값을 구 축으로 지정하여 그래프를 그려본다."
   ]
  },
  {
   "cell_type": "code",
   "execution_count": 30,
   "metadata": {},
   "outputs": [],
   "source": [
    "Dim1 = voles_mds[,1]\n",
    "Dim2 = voles_mds[,2]"
   ]
  },
  {
   "cell_type": "code",
   "execution_count": 57,
   "metadata": {},
   "outputs": [
    {
     "data": {
      "image/png": "[encoded data removed]",
      "text/plain": [
       "Plot with title \"cmdscale(watervoles)\""
      ]
     },
     "metadata": {},
     "output_type": "display_data"
    }
   ],
   "source": [
    "plot(Dim1, Dim2, type=\"n\", xlab=\"Dim1\", ylab=\"Dim2\", xlim=range(Dim1)*1.2, ylim=range(Dim2)*1.2, main=\"cmdscale(watervoles)\")\n",
    "segments(-1, -0, 1, 0, lty=\"dotted\")   # 점(-1,0)에서 점(1,0)까지 점선을 표시\n",
    "segments(0, -1, 0, 1, lty=\"dotted\")\n",
    "text(voles_mds, rownames(voles_mds), cex = 1, col = \"blue\")  # 글자 표시"
   ]
  },
  {
   "cell_type": "markdown",
   "metadata": {},
   "source": [
    "- Dim1은 x축 데이터, Dim2는 y축 데이터를 입력\n",
    "- plot 옵션중 main은 그래프의 제목\n",
    "- segments()는 지정한 좌표 2개를 선으로 연결하는 기능\n",
    "- text()는 이름을 표시하는 기능으로 voles_mds 행의 데이터를 표시"
   ]
  },
  {
   "cell_type": "code",
   "execution_count": 58,
   "metadata": {},
   "outputs": [
    {
     "data": {
      "image/png": "[encoded data removed]",
      "text/plain": [
       "Plot with title \"cmdscale(watervoles)\""
      ]
     },
     "metadata": {},
     "output_type": "display_data"
    }
   ],
   "source": [
    "# 이번에는 다른 모형을 사용\n",
    "plot(Dim1, Dim2, type=\"n\", xlab=\"Dim1\", ylab=\"Dim2\", xlim=range(Dim1)*1.2, ylim=range(Dim2)*1.2, main=\"cmdscale(watervoles)\")\n",
    "segments(-1, -0, 1, 0, lty=\"dotted\")   # 점(-1,0)에서 점(1,0)까지 점선을 표시\n",
    "segments(0, -1, 0, 1, lty=\"dotted\")\n",
    "text(voles_mds, rownames(voles_mds), cex = 1, col = \"blue\")  # 글자 표시"
   ]
  },
  {
   "cell_type": "markdown",
   "metadata": {},
   "source": [
    "----"
   ]
  }
 ],
 "metadata": {
  "kernelspec": {
   "display_name": "R",
   "language": "R",
   "name": "ir"
  },
  "language_info": {
   "codemirror_mode": "r",
   "file_extension": ".r",
   "mimetype": "text/x-r-source",
   "name": "R",
   "pygments_lexer": "r",
   "version": "3.5.1"
  }
 },
 "nbformat": 4,
 "nbformat_minor": 2
}
