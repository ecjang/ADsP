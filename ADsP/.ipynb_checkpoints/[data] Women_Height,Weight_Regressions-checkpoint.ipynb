{
 "cells": [
  {
   "cell_type": "markdown",
   "metadata": {},
   "source": [
    "# 회귀의 다양한 얼굴\n",
    "\n",
    "url : http://rstudio-pubs-static.s3.amazonaws.com/189354_277dfb3a83a34a2abaae855b90fcf269.html"
   ]
  },
  {
   "cell_type": "markdown",
   "metadata": {},
   "source": [
    "일반적으로 회귀는 [OLS Ordinary Least Square 최소제곱]에 의한 회귀를 의미하지만 그외에도 많은 종류가 있다. 2005년에 Vito Ricci가 만든 목록을 보면 R에서 사용하는 회귀에 관련된 함수는 205개이다.\n",
    "출처 : http://cran.r-project.org/doc/contrib/Ricci-refcard-regression.pdf"
   ]
  },
  {
   "cell_type": "markdown",
   "metadata": {},
   "source": [
    "### 대표적인 회귀 모델\n",
    "\n",
    "1. [Simple Linear 단순회귀] : 정량적인 설명변수로부터 정량적인 반응변수 예측\n",
    "1. [Polynomial 다항] : 설명변수와 반응변수와의 관계가 다항식\n",
    "1. [Multiple Linear 다중선형] : 두 개 이상의 설명변수로 반응변수 예측\n",
    "1. [MultiLevel 다수준] : 계통적 구조를 가지고 있는 변수로부터 반응을 예측\n",
    "1. [MultiVaeiate 다변량] : 하나 이상의 설명변수로부터 하나 이상의 반응변수 예측\n",
    "1. [Rogistic 로지스틱] : 하나 이상의 설명변수로부터 범주형 변수의 예측\n",
    "1. [Possion 포아송] : 하나 이상의 설명변수로부터 비율이나 도수로 나타나는 반응변수의 예측\n",
    "1  [Cox 비례위험] : 하나 이상의 설명변수로부터 event 시간 예측\n",
    "1. [Time-Series 시계열] : 시계열 데이터 및 관련 오차 모형\n",
    "1. [Non-Linear 비선형] : 비선형 모델을 이용한 회귀\n",
    "1. [Non-Parametric 비모수] : 정형화되어 있지 않는 데이터로부터 회귀모형\n",
    "1. [Robust 로버스트] : 영향력 있는관찰지의 영향에 저항력있는 회귀"
   ]
  },
  {
   "cell_type": "markdown",
   "metadata": {},
   "source": [
    "### Women 데이터\n",
    "30~39세의 미국여성 15명의 키와 몸무게 데이터로 키(인치)와 몸무게(파운드)로 되어 있다."
   ]
  },
  {
   "cell_type": "code",
   "execution_count": 3,
   "metadata": {},
   "outputs": [
    {
     "data": {
      "text/html": [
       "<table>\n",
       "<thead><tr><th scope=col>height</th><th scope=col>weight</th></tr></thead>\n",
       "<tbody>\n",
       "\t<tr><td>58 </td><td>115</td></tr>\n",
       "\t<tr><td>59 </td><td>117</td></tr>\n",
       "\t<tr><td>60 </td><td>120</td></tr>\n",
       "\t<tr><td>61 </td><td>123</td></tr>\n",
       "\t<tr><td>62 </td><td>126</td></tr>\n",
       "\t<tr><td>63 </td><td>129</td></tr>\n",
       "</tbody>\n",
       "</table>\n"
      ],
      "text/latex": [
       "\\begin{tabular}{r|ll}\n",
       " height & weight\\\\\n",
       "\\hline\n",
       "\t 58  & 115\\\\\n",
       "\t 59  & 117\\\\\n",
       "\t 60  & 120\\\\\n",
       "\t 61  & 123\\\\\n",
       "\t 62  & 126\\\\\n",
       "\t 63  & 129\\\\\n",
       "\\end{tabular}\n"
      ],
      "text/markdown": [
       "\n",
       "height | weight | \n",
       "|---|---|---|---|---|---|\n",
       "| 58  | 115 | \n",
       "| 59  | 117 | \n",
       "| 60  | 120 | \n",
       "| 61  | 123 | \n",
       "| 62  | 126 | \n",
       "| 63  | 129 | \n",
       "\n",
       "\n"
      ],
      "text/plain": [
       "  height weight\n",
       "1 58     115   \n",
       "2 59     117   \n",
       "3 60     120   \n",
       "4 61     123   \n",
       "5 62     126   \n",
       "6 63     129   "
      ]
     },
     "metadata": {},
     "output_type": "display_data"
    }
   ],
   "source": [
    "head(women)"
   ]
  },
  {
   "cell_type": "markdown",
   "metadata": {},
   "source": [
    "----"
   ]
  },
  {
   "cell_type": "markdown",
   "metadata": {},
   "source": [
    "## 1. 단순 선형회귀\n",
    "선형모형을 사용해 회귀분석으로 분석해본다."
   ]
  },
  {
   "cell_type": "code",
   "execution_count": 7,
   "metadata": {},
   "outputs": [
    {
     "data": {
      "text/plain": [
       "\n",
       "Call:\n",
       "lm(formula = weight ~ height, data = women)\n",
       "\n",
       "Residuals:\n",
       "    Min      1Q  Median      3Q     Max \n",
       "-1.7333 -1.1333 -0.3833  0.7417  3.1167 \n",
       "\n",
       "Coefficients:\n",
       "             Estimate Std. Error t value Pr(>|t|)    \n",
       "(Intercept) -87.51667    5.93694  -14.74 1.71e-09 ***\n",
       "height        3.45000    0.09114   37.85 1.09e-14 ***\n",
       "---\n",
       "Signif. codes:  0 '***' 0.001 '**' 0.01 '*' 0.05 '.' 0.1 ' ' 1\n",
       "\n",
       "Residual standard error: 1.525 on 13 degrees of freedom\n",
       "Multiple R-squared:  0.991,\tAdjusted R-squared:  0.9903 \n",
       "F-statistic:  1433 on 1 and 13 DF,  p-value: 1.091e-14\n"
      ]
     },
     "metadata": {},
     "output_type": "display_data"
    }
   ],
   "source": [
    "fit <- lm(weight~height, data=women)\n",
    "summary(fit)"
   ]
  },
  {
   "cell_type": "markdown",
   "metadata": {},
   "source": [
    "회귀분석 결과부분 Ceofficients를 살펴보면, [Intercept y절편]은 -87.51, 기울기인 Height의 Estimate 값은 3.45이고, p값은 1.091e-14($1.091\\times10^{14}$)로 매우 낮다.\n",
    "- 그러므로 몸무게와 키는 다음 관계가 성립.  $$ weight = 3.45 \\times height -87.52 $$\n"
   ]
  },
  {
   "cell_type": "markdown",
   "metadata": {},
   "source": [
    "결과의 마지막 3줄을 보자.\n",
    "- Residual standard error=1.525 : 이 모형을 사용해서 예측했을 때 평균 1.525의 오차가 생김.\n",
    "- Multiple R-squared=0.991 : 이 모형은 몸무게 분산의 99.1%를 설명.\n",
    "- 이것은 상관분석에서 나오는 상관계수 r의 제곱이기도 함."
   ]
  },
  {
   "cell_type": "code",
   "execution_count": 8,
   "metadata": {},
   "outputs": [
    {
     "data": {
      "text/plain": [
       "\n",
       "\tPearson's product-moment correlation\n",
       "\n",
       "data:  women$weight and women$height\n",
       "t = 37.855, df = 13, p-value = 1.091e-14\n",
       "alternative hypothesis: true correlation is not equal to 0\n",
       "95 percent confidence interval:\n",
       " 0.9860970 0.9985447\n",
       "sample estimates:\n",
       "      cor \n",
       "0.9954948 \n"
      ]
     },
     "metadata": {},
     "output_type": "display_data"
    }
   ],
   "source": [
    "cor.test(women$weight, women$height)"
   ]
  },
  {
   "cell_type": "code",
   "execution_count": 11,
   "metadata": {},
   "outputs": [
    {
     "data": {
      "text/html": [
       "0.99102025"
      ],
      "text/latex": [
       "0.99102025"
      ],
      "text/markdown": [
       "0.99102025"
      ],
      "text/plain": [
       "[1] 0.9910203"
      ]
     },
     "metadata": {},
     "output_type": "display_data"
    }
   ],
   "source": [
    "0.9955^2"
   ]
  },
  {
   "cell_type": "markdown",
   "metadata": {},
   "source": [
    "상관분석 결과 r값은 0.9955이고 이 값의 제곱은 0.991임을 알 수 있다. F-statistic은 예측인자들을 모두 고려하였을 때 우연 이상으로 반응변수를 예측할 수 있는 정도를 나타낸다. 이 경우와 같이 예측인자가 하나인 경우는 키의 회귀계수에 대한 t-test 결과와 같다.\n",
    "\n",
    "그림으로 그려보면 실제수치와 예측지가 사장 많은 차이를 보일는 경우는 키가 아주 클 때와 작을 때이다."
   ]
  },
  {
   "cell_type": "code",
   "execution_count": 12,
   "metadata": {},
   "outputs": [
    {
     "data": {
      "image/png": "[encoded data removed]",
      "text/plain": [
       "plot without title"
      ]
     },
     "metadata": {},
     "output_type": "display_data"
    }
   ],
   "source": [
    "plot(weight~height, data=women)\n",
    "abline(fit, col=\"blue\")"
   ]
  },
  {
   "cell_type": "markdown",
   "metadata": {},
   "source": [
    "이 그림을 보면 회귀선이 한번 구부러지면 더 정확한 예측이 가능하다. 다항회귀는 한 개의 예측변수와 반응변수의 관계가 n차 다항식일 때 적용할 수 있다."
   ]
  },
  {
   "cell_type": "markdown",
   "metadata": {},
   "source": [
    "----"
   ]
  },
  {
   "cell_type": "markdown",
   "metadata": {},
   "source": [
    "## 2. [Polynomial Regression 다항회귀]\n",
    "\n",
    "보다 정확한 예측을 위해 이차방정식을 도입하여 회귀분석을 해보자."
   ]
  },
  {
   "cell_type": "code",
   "execution_count": 16,
   "metadata": {},
   "outputs": [
    {
     "data": {
      "text/plain": [
       "\n",
       "Call:\n",
       "lm(formula = weight ~ height + I(height^2), data = women)\n",
       "\n",
       "Residuals:\n",
       "     Min       1Q   Median       3Q      Max \n",
       "-0.50941 -0.29611 -0.00941  0.28615  0.59706 \n",
       "\n",
       "Coefficients:\n",
       "             Estimate Std. Error t value Pr(>|t|)    \n",
       "(Intercept) 261.87818   25.19677  10.393 2.36e-07 ***\n",
       "height       -7.34832    0.77769  -9.449 6.58e-07 ***\n",
       "I(height^2)   0.08306    0.00598  13.891 9.32e-09 ***\n",
       "---\n",
       "Signif. codes:  0 '***' 0.001 '**' 0.01 '*' 0.05 '.' 0.1 ' ' 1\n",
       "\n",
       "Residual standard error: 0.3841 on 12 degrees of freedom\n",
       "Multiple R-squared:  0.9995,\tAdjusted R-squared:  0.9994 \n",
       "F-statistic: 1.139e+04 on 2 and 12 DF,  p-value: < 2.2e-16\n"
      ]
     },
     "metadata": {},
     "output_type": "display_data"
    }
   ],
   "source": [
    "fit2 <- lm(weight~height+I(height^2), data=women)\n",
    "summary(fit2)"
   ]
  },
  {
   "cell_type": "markdown",
   "metadata": {},
   "source": [
    "lm함수에서 **I()**함수를 사용하면 괄호안의 수식을 R의 보통 수식처럼 계산하라는 의미이다. 이차방정식의 회귀결과를 보면 height 및 height의 제곱의 회귀계수가 모두 유의하다.\n",
    "- Multiple R-squared은 0.991에서 0.999로 증가.\n",
    "- 몸무게와 키의 관계 공식. $$ weight = 0.0831\\times{height^2}-7.34\\times{height}+261.9 $$"
   ]
  },
  {
   "cell_type": "markdown",
   "metadata": {},
   "source": [
    "이 회귀모형의 예측차와 실제값을 plot해보면 다음과 같다."
   ]
  },
  {
   "cell_type": "code",
   "execution_count": 20,
   "metadata": {},
   "outputs": [
    {
     "data": {
      "image/png": "[encoded data removed]",
      "text/plain": [
       "plot without title"
      ]
     },
     "metadata": {},
     "output_type": "display_data"
    }
   ],
   "source": [
    "plot(weight~height, data=women)\n",
    "lines(women$height, fitted(fit2), col=\"red\")"
   ]
  },
  {
   "cell_type": "markdown",
   "metadata": {},
   "source": [
    "일반적으로 n차 다항식은 n-1개의 bend를 갖는 곡선을 만든다. 3제곱 다항식은 아래와 같다.\n",
    "- 4,5차 같이 더 고차방정식도 만들수 있지만 많이 사용하지 않음.\n",
    "- car 패키지의 **scatterplot()**로 두 변수간의 관계 파악.\n",
    "- 설치가 안되어 있을 경우 : install.packages(\"car\")\n",
    "- scatterplot() 함수는 가로, 세로 축에 boxplot을 그려주고 가장 잘 맞는 직선회귀선과 Loess 회귀선을 표현"
   ]
  },
  {
   "cell_type": "code",
   "execution_count": 34,
   "metadata": {},
   "outputs": [
    {
     "data": {
      "image/png": "[encoded data removed]",
      "text/plain": [
       "Plot with title \"Woman Age 30~39\""
      ]
     },
     "metadata": {},
     "output_type": "display_data"
    }
   ],
   "source": [
    "fit3 <- lm(weight~height+I(height^2)+I(height^3), data=women)\n",
    "require(car)\n",
    "scatterplot(weight~height, data=women, pch=19, main=\"Woman Age 30~39\", xlab=\"Height(inches)\", ylab=\"Weight(lbs)\")"
   ]
  },
  {
   "cell_type": "raw",
   "metadata": {},
   "source": [
    "직선모형보다 곡선 모형일 더 잘 맞는 것을 알 수 있다."
   ]
  },
  {
   "cell_type": "code",
   "execution_count": 46,
   "metadata": {},
   "outputs": [
    {
     "name": "stderr",
     "output_type": "stream",
     "text": [
      "`geom_smooth()` using method = 'loess'\n"
     ]
    },
    {
     "data": {},
     "metadata": {},
     "output_type": "display_data"
    },
    {
     "data": {
      "image/png": "[encoded data removed]",
      "text/plain": [
       "plot without title"
      ]
     },
     "metadata": {},
     "output_type": "display_data"
    }
   ],
   "source": [
    "require(ggplot2)\n",
    "ggplot(women, aes(x=height, y=weight))+geom_point()+geom_smooth(colour=\"red\")+geom_smooth(method=\"lm\", colour=\"green\", se=FALSE)"
   ]
  },
  {
   "cell_type": "markdown",
   "metadata": {},
   "source": [
    "----"
   ]
  },
  {
   "cell_type": "markdown",
   "metadata": {},
   "source": [
    "## 3. [Multiple Linear Regression 다중회귀]\n",
    "\n",
    "### [ EA Exploratory Analysis 모형선택]\n",
    "\n",
    "다중회귀는 단순회귀와 다르게 예측변수가 2개 이상일 때 사용한다. 예측변수가 많을 경우 분석에 앞서 모형선택 과정을 거친다.예측변수의 선택은 다음과 같다.\n",
    "- 반응변수와 높은 상관관계\n",
    "- 선택된 예측변수끼리 낮은 상관관계\n",
    "- 소수정예의 원칙"
   ]
  },
  {
   "cell_type": "markdown",
   "metadata": {},
   "source": [
    "예측변수끼리 상관관계가 높다는 것은 중복된 정보가 반영된다는 의미이다. 변수 낭비뿐만 아니라 계산상으로도 문제를 일으켜 예측변수를 의미없게 만들수 있다. (다중공선성 Multicolinearity)"
   ]
  },
  {
   "cell_type": "markdown",
   "metadata": {},
   "source": [
    "### 모형선택의 종류\n",
    "변수들간에 높은 상관관계가 있을 경우 전진선택법, 너무 많지 않은 경우 후진제거법을 권장한다.\n",
    "\n",
    "1. [All Possible Regression 전체선택법] : 가증한 모든 예측변수드의 조합으로 모형을 만듬.\n",
    "1. [Forword Selection 전진선택법] : 가장 유의한 변수 순으로 하나씩 추가.\n",
    "1. [Backword Elimination 후진제거법] : 모든 변수를 넣고 기여도 낮은 변수를 하나씩 제거.\n",
    "1. [Stepwise Method 단계별방법] : 전진선택법으로 변수를 추가후 중요도에 따라 추가 또는 제거.\n"
   ]
  },
  {
   "cell_type": "code",
   "execution_count": null,
   "metadata": {},
   "outputs": [],
   "source": []
  },
  {
   "cell_type": "code",
   "execution_count": null,
   "metadata": {},
   "outputs": [],
   "source": []
  },
  {
   "cell_type": "code",
   "execution_count": null,
   "metadata": {},
   "outputs": [],
   "source": []
  },
  {
   "cell_type": "code",
   "execution_count": null,
   "metadata": {},
   "outputs": [],
   "source": []
  },
  {
   "cell_type": "code",
   "execution_count": null,
   "metadata": {},
   "outputs": [],
   "source": []
  }
 ],
 "metadata": {
  "kernelspec": {
   "display_name": "R",
   "language": "R",
   "name": "ir"
  },
  "language_info": {
   "codemirror_mode": "r",
   "file_extension": ".r",
   "mimetype": "text/x-r-source",
   "name": "R",
   "pygments_lexer": "r",
   "version": "3.5.1"
  }
 },
 "nbformat": 4,
 "nbformat_minor": 2
}
