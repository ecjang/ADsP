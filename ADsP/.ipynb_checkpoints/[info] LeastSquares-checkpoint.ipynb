{
 "cells": [
  {
   "cell_type": "markdown",
   "metadata": {},
   "source": [
    "----"
   ]
  },
  {
   "cell_type": "markdown",
   "metadata": {},
   "source": [
    "# 최소제곱법\n",
    "url : https://blog.naver.com/moojigai07/120186757908"
   ]
  },
  {
   "cell_type": "markdown",
   "metadata": {},
   "source": [
    "최소제곱법은 가설 방정식이 데이터와의 잔차를 가장 적게 만드는 방법이다. \n",
    "\n",
    "$$ E(a,b) = \\sum^{n}_{i=1}(y_i - (ax_i+b))^2 $$\n",
    "\n",
    "이런 식을 **최적의 최소 제곱직선**이라고 하는데 E(a,b)의 최소값은 a, b에 의해 결정되므로 기울기 a와 절편b의 값을 찾기 위해 편미분한다.\n",
    "\n",
    "$$ 0 = \\frac{\\vartheta E}{\\vartheta a} = \\sum 2(y_i-ax_i-b)(-x_i) = 2(a\\sum x^2_i + b\\sum x_i - \\sum x_iy_i) $$\n",
    "\n",
    "$$ 0 = \\frac{\\vartheta E}{\\vartheta b} = \\sum 2(y_i-ax_i-b)(-1) = 2(a\\sum x_i + b\\sum 1 - \\sum y_i) $$\n",
    "\n",
    "따라서 다음과 같은 연립방정식을 만들게 된다.\n",
    "$$\n",
    "\\begin{cases}\n",
    "a\\sum x^2_i + b\\sum x_i = \\sum x_iy_i \\\\\n",
    "a\\sum x_i + b\\sum 1 = \\sum y_i\n",
    "\\end{cases}\n",
    "$$\n",
    "\n",
    "위 연립방정식으로 최소제곱 직선을 만들 수 있다. 식을 a와 b에 관해 풀면 다음과 같다. (x바와 y바는 x와 y의 평균값)\n",
    "\n",
    "$$ a = \\frac{ \\sum^{n}_{i=1}(y_i-\\bar y)(xi - \\bar x) }{ \\sum^{n}_{i=1}(x_i - \\bar x)^2 } = b = \\bar y - a \\bar x $$\n",
    "\n",
    "데이터가 2개인 $(x_1, y_1)(x_2, y_2)$ 경우를 생각해보면 평균값 $\\bar x$는 $(x1+x2)/2$이고 $\\bar y = (y_1+y_2)/2$이다. 이것을 a에 대입해서 풀어보면 a의 의미를 알 수 있다.\n",
    "\n",
    "$$ a = \\frac{(y_1 - \\bar y)(x_1 - \\bar x) + (y_2 - \\bar y)(x2 - \\bar x)}{(x1-\\bar x)^2 + (x_2 - \\bar x)^2}  = \\frac{(x_1-x_2)(y_1-y_2)}{(x_1-x_2)^2}=\\frac{(y_1-y_2)}{(x_1-x_2)} $$\n",
    "\n",
    "이 결과가 (x1, y1)(x2, y2)를 지나는 직선의 기울기이다."
   ]
  },
  {
   "cell_type": "markdown",
   "metadata": {},
   "source": [
    "----"
   ]
  }
 ],
 "metadata": {
  "kernelspec": {
   "display_name": "R",
   "language": "R",
   "name": "ir"
  },
  "language_info": {
   "codemirror_mode": "r",
   "file_extension": ".r",
   "mimetype": "text/x-r-source",
   "name": "R",
   "pygments_lexer": "r",
   "version": "3.5.1"
  }
 },
 "nbformat": 4,
 "nbformat_minor": 2
}
