{
 "cells": [
  {
   "cell_type": "markdown",
   "metadata": {},
   "source": [
    "----"
   ]
  },
  {
   "cell_type": "markdown",
   "metadata": {},
   "source": [
    "# Ⅰ. 데이터 이해"
   ]
  },
  {
   "cell_type": "markdown",
   "metadata": {},
   "source": [
    "## 제2장. 데이터 가치와 미래"
   ]
  },
  {
   "cell_type": "markdown",
   "metadata": {},
   "source": [
    "### 1. 빅데이터\n",
    "\n",
    "1. **데이터의 정의**\n",
    "\n",
    "\n",
    "1. **빅데이터 정의의 범주 및 효과**\n",
    "\n",
    "\n",
    "1. **빅데이터가 만들어내는 본질적인 변화**"
   ]
  },
  {
   "cell_type": "markdown",
   "metadata": {},
   "source": [
    "### 2. 빅데이터 가치와 영향\n",
    "\n",
    "1. **빅데이터의 가치와 영향**\n",
    "\n",
    "\n",
    "1. **위기요인과 통제방안**\n",
    "\n",
    "\n",
    "1. **미래의 빅데이터**"
   ]
  },
  {
   "cell_type": "markdown",
   "metadata": {},
   "source": [
    "## 제3장. 가치창조를 위한 데이터 사이언스와 전략 인사이트"
   ]
  },
  {
   "cell_type": "markdown",
   "metadata": {},
   "source": [
    "### 1. 빅데이터 분석과 전략 인사이트\n",
    "\n",
    "1. **빅데이터의 회의론**\n",
    "\n",
    "\n",
    "1. **싸이월드의 퇴보론**\n",
    "\n",
    "\n",
    "1. **전략적 통찰이 없는 분석의 함정**"
   ]
  },
  {
   "cell_type": "markdown",
   "metadata": {},
   "source": [
    "### 2. 데이터 사이언티스트\n",
    "\n",
    "1. **데이터 사이언스**\n",
    "\n",
    "\n",
    "1. **데이터 사이언티스트**\n"
   ]
  },
  {
   "cell_type": "markdown",
   "metadata": {},
   "source": [
    "### 3. 빅데이터와 데이터 사이언스의 미래\n",
    "\n",
    "1. **외부 환경적 측면의 인문학 열풍**\n",
    "\n",
    "\n",
    "1. **가치 페러다임의 변화**\n",
    "\n",
    "\n",
    "1. **데이터 사이언스의 한계와 인문학**\n"
   ]
  },
  {
   "cell_type": "markdown",
   "metadata": {},
   "source": [
    "----"
   ]
  },
  {
   "cell_type": "markdown",
   "metadata": {},
   "source": [
    "# Ⅱ. 데이터 분석 기획"
   ]
  },
  {
   "cell_type": "markdown",
   "metadata": {},
   "source": [
    "## 제1장. 데이터 분석 기획의 이해"
   ]
  },
  {
   "cell_type": "markdown",
   "metadata": {},
   "source": [
    "### 1. 분석 기획 방향성 도출\n",
    "\n",
    "1. **분석 기획**\n",
    "\n",
    "\n",
    "1. **목표 시점별 기획 방안의 차이**\n",
    "\n",
    "\n",
    "1. **분석 기획시 고려사항**"
   ]
  },
  {
   "cell_type": "markdown",
   "metadata": {},
   "source": [
    "###  2. 분석 방법론\n",
    "\n",
    "1. **KDD 분석 방법론**\n",
    "\n",
    "\n",
    "1. **CRISP-DM 방법론**\n",
    "\n",
    "\n",
    "1. **빅데이터 분석 방법론**"
   ]
  },
  {
   "cell_type": "markdown",
   "metadata": {},
   "source": [
    "###  3. 분석 과제 발굴\n",
    "\n",
    "1. **하향식 접근 방식**\n",
    "\n",
    "\n",
    "1. **상향식 접근 방식**"
   ]
  },
  {
   "cell_type": "markdown",
   "metadata": {},
   "source": [
    "###  4. 하향식 접근법 Top Down Approach\n",
    "\n",
    "1. **문제 탐색 Problem Discovery**\n",
    "\n",
    "\n",
    "1. **문제 정의 Problem Definition**\n",
    "\n",
    "\n",
    "1. **해결방안 탐색 Solution Search**\n",
    "\n",
    "\n",
    "1. **타당성 검토 Feasibility Study**"
   ]
  },
  {
   "cell_type": "markdown",
   "metadata": {},
   "source": [
    "### 5. 상향식 접근법 Bottom Up Approach\n",
    "\n",
    "1. **상향식 접근법**\n"
   ]
  },
  {
   "cell_type": "markdown",
   "metadata": {},
   "source": [
    "## 제2장. 분석 마스터 플랜"
   ]
  },
  {
   "cell_type": "markdown",
   "metadata": {},
   "source": [
    "### 1. 마스터 플랜 수립\n",
    "\n",
    "1. **마스터 플랜 수립**"
   ]
  },
  {
   "cell_type": "markdown",
   "metadata": {},
   "source": [
    "### 2. 분석 거버넌스 체계 수립\n",
    "\n",
    "1. **분석 거버넌스**\n"
   ]
  },
  {
   "cell_type": "markdown",
   "metadata": {},
   "source": [
    "----"
   ]
  },
  {
   "cell_type": "markdown",
   "metadata": {},
   "source": [
    "# Ⅲ. 데이터 분석"
   ]
  },
  {
   "cell_type": "markdown",
   "metadata": {},
   "source": [
    "## 제1장. 데이터 분석 이해"
   ]
  },
  {
   "cell_type": "markdown",
   "metadata": {},
   "source": [
    "### 1. 데이터 처리 과정\n",
    "\n",
    "1. **데이터 처리 과정**\n",
    "\n",
    "1. **시각화 기법**\n",
    "\n",
    "1. **공간분석**\n",
    "\n",
    "1. **탐색적 자료 분석(EDA)**\n",
    "\n",
    "1. **데이터마이닝**\n",
    "\n",
    "1. **시뮬레이션**\n",
    "\n",
    "1. **최적화**\n"
   ]
  },
  {
   "cell_type": "markdown",
   "metadata": {},
   "source": [
    "## 제2장. R프로그램 기초"
   ]
  },
  {
   "cell_type": "markdown",
   "metadata": {},
   "source": [
    "### 1. 데이터 처리 과정\n",
    "\n",
    "1. **데이터 처리 과정**\n"
   ]
  },
  {
   "cell_type": "markdown",
   "metadata": {},
   "source": [
    "## 제3장. 데이터 마트"
   ]
  },
  {
   "cell_type": "markdown",
   "metadata": {},
   "source": [
    "## 제4장. 통계분석"
   ]
  },
  {
   "cell_type": "markdown",
   "metadata": {},
   "source": [
    "### 1. 데이터 처리 과정\n",
    "\n",
    "1. **데이터 처리 과정**\n",
    "\n",
    "\n",
    "1. **내용**\n",
    "\n",
    "\n",
    "1. **내뇽**"
   ]
  },
  {
   "cell_type": "markdown",
   "metadata": {},
   "source": [
    "## 제5장. 정형데이터 마이닝"
   ]
  },
  {
   "cell_type": "markdown",
   "metadata": {},
   "source": [
    "----"
   ]
  }
 ],
 "metadata": {
  "kernelspec": {
   "display_name": "Python 3",
   "language": "python",
   "name": "python3"
  },
  "language_info": {
   "codemirror_mode": {
    "name": "ipython",
    "version": 3
   },
   "file_extension": ".py",
   "mimetype": "text/x-python",
   "name": "python",
   "nbconvert_exporter": "python",
   "pygments_lexer": "ipython3",
   "version": "3.7.0"
  }
 },
 "nbformat": 4,
 "nbformat_minor": 2
}
