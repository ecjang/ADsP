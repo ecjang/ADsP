{
 "cells": [
  {
   "cell_type": "markdown",
   "metadata": {},
   "source": [
    "----"
   ]
  },
  {
   "cell_type": "markdown",
   "metadata": {},
   "source": [
    "# Ⅰ. 데이터 이해"
   ]
  },
  {
   "cell_type": "markdown",
   "metadata": {},
   "source": [
    "## 제2장. 데이터 가치와 미래"
   ]
  },
  {
   "cell_type": "markdown",
   "metadata": {},
   "source": [
    "### 1. 빅데이터\n",
    "\n",
    "1. **데이터의 정의**\n",
    "\n",
    "\n",
    "1. **빅데이터 정의의 범주 및 효과**\n",
    "\n",
    "\n",
    "1. **빅데이터가 만들어내는 본질적인 변화**"
   ]
  },
  {
   "cell_type": "markdown",
   "metadata": {},
   "source": [
    "### 2. 빅데이터 가치와 영향\n",
    "\n",
    "1. **빅데이터의 가치와 영향**\n",
    "\n",
    "\n",
    "1. **위기요인과 통제방안**\n",
    "\n",
    "\n",
    "1. **미래의 빅데이터**"
   ]
  },
  {
   "cell_type": "markdown",
   "metadata": {},
   "source": [
    "## 제3장. 가치창조를 위한 데이터 사이언스와 전략 인사이트"
   ]
  },
  {
   "cell_type": "markdown",
   "metadata": {},
   "source": [
    "### 1. 빅데이터 분석과 전략 인사이트\n",
    "\n",
    "1. **빅데이터의 회의론**\n",
    "\n",
    "\n",
    "1. **싸이월드의 퇴보론**\n",
    "\n",
    "\n",
    "1. **전략적 통찰이 없는 분석의 함정**"
   ]
  },
  {
   "cell_type": "markdown",
   "metadata": {},
   "source": [
    "### 2. 데이터 사이언티스트\n",
    "\n",
    "1. **데이터 사이언스**\n",
    "\n",
    "\n",
    "1. **데이터 사이언티스트**\n"
   ]
  },
  {
   "cell_type": "markdown",
   "metadata": {},
   "source": [
    "### 3. 빅데이터와 데이터 사이언스의 미래\n",
    "\n",
    "1. **외부 환경적 측면의 인문학 열풍**\n",
    "\n",
    "\n",
    "1. **가치 페러다임의 변화**\n",
    "\n",
    "\n",
    "1. **데이터 사이언스의 한계와 인문학**\n"
   ]
  },
  {
   "cell_type": "markdown",
   "metadata": {},
   "source": [
    "----"
   ]
  },
  {
   "cell_type": "markdown",
   "metadata": {},
   "source": [
    "# Ⅱ. 데이터 분석 기획"
   ]
  },
  {
   "cell_type": "markdown",
   "metadata": {},
   "source": [
    "## 제1장. 데이터 분석 기획의 이해"
   ]
  },
  {
   "cell_type": "markdown",
   "metadata": {},
   "source": [
    "### 1. 분석 기획 방향성 도출\n",
    "\n",
    "1. **분석 기획**\n",
    "\n",
    "\n",
    "1. **목표 시점별 기획 방안의 차이**\n",
    "\n",
    "\n",
    "1. **분석 기획시 고려사항**"
   ]
  },
  {
   "cell_type": "markdown",
   "metadata": {},
   "source": [
    "###  2. 분석 방법론\n",
    "\n",
    "1. **KDD 분석 방법론**\n",
    "\n",
    "\n",
    "1. **CRISP-DM 방법론**\n",
    "\n",
    "\n",
    "1. **빅데이터 분석 방법론**"
   ]
  },
  {
   "cell_type": "markdown",
   "metadata": {},
   "source": [
    "###  3. 분석 과제 발굴\n",
    "\n",
    "1. **하향식 접근 방식**\n",
    "\n",
    "\n",
    "1. **상향식 접근 방식**"
   ]
  },
  {
   "cell_type": "markdown",
   "metadata": {},
   "source": [
    "###  4. 하향식 접근법 Top Down Approach\n",
    "\n",
    "1. **문제 탐색 Problem Discovery**\n",
    "\n",
    "\n",
    "1. **문제 정의 Problem Definition**\n",
    "\n",
    "\n",
    "1. **해결방안 탐색 Solution Search**\n",
    "\n",
    "\n",
    "1. **타당성 검토 Feasibility Study**"
   ]
  },
  {
   "cell_type": "markdown",
   "metadata": {},
   "source": [
    "### 5. 상향식 접근법 Bottom Up Approach\n",
    "\n",
    "1. **상향식 접근법**\n"
   ]
  },
  {
   "cell_type": "markdown",
   "metadata": {},
   "source": [
    "## 제2장. 분석 마스터 플랜"
   ]
  },
  {
   "cell_type": "markdown",
   "metadata": {},
   "source": [
    "### 1. 마스터 플랜 수립\n",
    "\n",
    "1. **마스터 플랜 수립**"
   ]
  },
  {
   "cell_type": "markdown",
   "metadata": {},
   "source": [
    "### 2. 분석 거버넌스 체계 수립\n",
    "\n",
    "1. **분석 거버넌스**\n"
   ]
  },
  {
   "cell_type": "markdown",
   "metadata": {},
   "source": [
    "----"
   ]
  },
  {
   "cell_type": "markdown",
   "metadata": {},
   "source": [
    "# Ⅲ. 데이터 분석"
   ]
  },
  {
   "cell_type": "markdown",
   "metadata": {},
   "source": [
    "## 제1장. 데이터 분석 이해"
   ]
  },
  {
   "cell_type": "markdown",
   "metadata": {},
   "source": [
    "### 1. 데이터 처리 과정\n",
    "\n",
    "1. **데이터 처리 과정**\n",
    "\n",
    "1. **시각화 기법**\n",
    "\n",
    "1. **공간분석**\n",
    "\n",
    "1. **탐색적 자료 분석(EDA)**\n",
    "\n",
    "1. **데이터마이닝**\n",
    "\n",
    "1. **시뮬레이션**\n",
    "\n",
    "1. **최적화**\n"
   ]
  },
  {
   "cell_type": "markdown",
   "metadata": {},
   "source": [
    "## 제2장. 빅데이터 분석도구 R"
   ]
  },
  {
   "cell_type": "markdown",
   "metadata": {},
   "source": [
    "### 1. R 개\n",
    "\n",
    "1. **R프로그래밍 언어**\n",
    "\n",
    "\n",
    "1. **R의 특징**\n",
    "\n",
    "\n",
    "1. **통계분석도구의 비교**\n",
    "\n",
    "\n",
    "\n"
   ]
  },
  {
   "cell_type": "markdown",
   "metadata": {},
   "source": [
    "### 2. R 들어가기\n",
    "\n",
    "1. **편리한 기능**\n",
    "\n",
    "1. **스크립트 실행하기**\n",
    "\n",
    "1. **패키지**\n",
    "\n",
    "1. **배치 파일**\n"
   ]
  },
  {
   "cell_type": "markdown",
   "metadata": {},
   "source": [
    "### 3. R 기초\n",
    "\n",
    "1. **변수 다루기**\n",
    "\n",
    "1. **기본적인 통계량 계산**\n",
    "\n",
    "1. **함수의 생성 및 활용**\n"
   ]
  },
  {
   "cell_type": "markdown",
   "metadata": {},
   "source": [
    "### 4. 입력과 출력\n",
    "\n",
    "1. **데이터 입력과 출력**\n",
    "\n",
    "1. **외부 파일 입력과 출력**\n",
    "\n",
    "1. **웹 페이지에서 데이터 읽어오기**\n"
   ]
  },
  {
   "cell_type": "markdown",
   "metadata": {},
   "source": [
    "### 5. 데이터 구조\n",
    "\n",
    "1. **데이터 구조의 정의**\n",
    "\n",
    "1. **리스트 다루기**\n",
    "\n",
    "1. **행렬 다루기**\n",
    "\n",
    "1. **데이터 구조 변경 방법**\n"
   ]
  },
  {
   "cell_type": "markdown",
   "metadata": {},
   "source": [
    "### 6. 데이터 프레임\n",
    "\n",
    "1. **집단으로 분할하기**\n",
    "\n",
    "1. **함수 적용하기**\n",
    "\n",
    "1. **집단별로 함수 적용하기**\n",
    "\n",
    "1. **병렬 벡터들과 리스트에 함수 적용하기**\n",
    "\n",
    "\n"
   ]
  },
  {
   "cell_type": "markdown",
   "metadata": {},
   "source": [
    "### 7. 데이터 변환\n",
    "\n",
    "1. **문자열 다루기**\n",
    "\n",
    "1. **날짜 다루기**\n"
   ]
  },
  {
   "cell_type": "markdown",
   "metadata": {},
   "source": [
    "## 제3장. 데이터 마트"
   ]
  },
  {
   "cell_type": "markdown",
   "metadata": {},
   "source": [
    "### 1. 변수\n",
    "\n",
    "1. **요약변수**\n",
    "\n",
    "1. **파생변수**\n"
   ]
  },
  {
   "cell_type": "markdown",
   "metadata": {},
   "source": [
    "### 2. 패키지\n",
    "\n",
    "1. **Reshape 패키지**\n",
    "\n",
    "1. **sqldf 패키지**\n",
    "\n",
    "1. **plyr 패키지**\n",
    "\n",
    "1. **Data Table 패키지**\n"
   ]
  },
  {
   "cell_type": "markdown",
   "metadata": {},
   "source": [
    "### 3. 데이터 가공 및 데이터 관리\n",
    "\n",
    "1. **변수의 구간과**\n",
    "\n",
    "1. **결측값 처리**\n",
    "\n",
    "1. **이상값 처리**\n"
   ]
  },
  {
   "cell_type": "markdown",
   "metadata": {},
   "source": [
    "## 제4장. 통계분석"
   ]
  },
  {
   "cell_type": "markdown",
   "metadata": {},
   "source": [
    "### 1. 통계 분석의 이해\n",
    "\n",
    "1. **통계**\n",
    "\n",
    "\n",
    "1. **통계분석**\n",
    "\n",
    "\n",
    "1. **확률 및 확률 분포**\n",
    "\n",
    "\n",
    "1. **추정 및 가설 검정**\n",
    "\n",
    "1. **비모수 검정**"
   ]
  },
  {
   "cell_type": "markdown",
   "metadata": {},
   "source": [
    "### 2. 기술 통계 분석\n",
    "\n",
    "1. **기술통계**\n",
    "\n",
    "1. **통계량에 의한 자료 분석**\n",
    "\n",
    "1. **그래프를 통한 자료 분석**\n",
    "\n",
    "1. **연관성 분석**\n",
    "\n",
    "1. **상관분석**\n"
   ]
  },
  {
   "cell_type": "markdown",
   "metadata": {},
   "source": [
    "### 3. 회귀분석\n",
    "\n",
    "1. **회귀분석**\n",
    "\n",
    "1. **회귀분석 특징**\n",
    "\n",
    "1. **다중선형회귀분석**\n",
    "\n",
    "1. **변수선택법**"
   ]
  },
  {
   "cell_type": "markdown",
   "metadata": {},
   "source": [
    "### 4. 시계열 분석\n",
    "\n",
    "1. **시계열 자료**\n",
    "\n",
    "1. **정상성**\n",
    "\n",
    "1. **정상시계열의 특징**\n",
    "\n",
    "1. **시계열 모형**\n"
   ]
  },
  {
   "cell_type": "markdown",
   "metadata": {},
   "source": [
    "### 5. 다차원척도법(MDS)\n",
    "\n",
    "1. **다차원 척도법**\n"
   ]
  },
  {
   "cell_type": "markdown",
   "metadata": {},
   "source": [
    "### 6. 주성분분석\n",
    "\n",
    "1. **주성분 분석**\n",
    "\n",
    "1. **주성분 분석의 활용**\n",
    "\n",
    "1. **R결과 해석**\n"
   ]
  },
  {
   "cell_type": "markdown",
   "metadata": {},
   "source": [
    "## 제5장. 정형데이터 마이닝"
   ]
  },
  {
   "cell_type": "markdown",
   "metadata": {},
   "source": [
    "### 1. 데이터마이닝 개요\n",
    "\n",
    "1. **데이터마이닝**\n",
    "\n",
    "1. **데이터마이닝 학습법**\n",
    "\n",
    "1. **데이터마이닝 추진단계**\n",
    "\n",
    "1. **데이터 분할**\n",
    "\n",
    "1. **모델의 성능 평가**\n"
   ]
  },
  {
   "cell_type": "markdown",
   "metadata": {},
   "source": [
    "### 2. 의사결정분석 나무\n",
    "\n",
    "1. **분류분석 vs 예측분석**\n",
    "\n",
    "1. **의사결정나무 특징**\n",
    "\n",
    "1. **의사결정나무 활용**\n",
    "\n",
    "1. **의사결정나무 분석**\n",
    "\n",
    "1. **의사결정나무 분석의 종류**"
   ]
  },
  {
   "cell_type": "markdown",
   "metadata": {},
   "source": [
    "### 3. 앙상블 기법\n",
    "\n",
    "1. **앙상블 기법**\n",
    "\n",
    "1. **오분류표**\n",
    "\n",
    "1. **ROC**\n",
    "\n",
    "1. **이익도표**\n"
   ]
  },
  {
   "cell_type": "markdown",
   "metadata": {},
   "source": [
    "### 4. 인공신경망 분석\n",
    "\n",
    "1. **인공신경망 연구**\n",
    "\n",
    "1. **뉴런**\n",
    "\n",
    "1. **신경망모형 구축시 고려사항**\n",
    "\n",
    "1. **로지스틱 회귀분석**\n",
    "\n"
   ]
  },
  {
   "cell_type": "markdown",
   "metadata": {},
   "source": [
    "### 5. 군집분석\n",
    "\n",
    "1. **군집분석**\n",
    "\n",
    "1. **군집분석 특징**\n",
    "\n",
    "1. **군집분석 거리 측정**\n",
    "\n",
    "1. **계층적 군집 분석**\n",
    "\n",
    "1. **비계층적 군집 분석**\n",
    "\n",
    "1. **혼합분포 군집**\n",
    "\n",
    "1. **SOM**"
   ]
  },
  {
   "cell_type": "markdown",
   "metadata": {},
   "source": [
    "### 6. 연관분석\n",
    "\n",
    "\n",
    "1. **연관성 분석**\n",
    "\n",
    "1. **연관성 규칙 개념**\n",
    "\n",
    "1. **연관성 분석의 측도**\n",
    "\n",
    "1. **연관분석 특징**\n",
    "\n",
    "1. **평가기준 적용시 주의점**\n",
    "\n",
    "1. **Apriori 가장 많이 사용하는 알고리즘**"
   ]
  },
  {
   "cell_type": "markdown",
   "metadata": {},
   "source": [
    "----"
   ]
  }
 ],
 "metadata": {
  "kernelspec": {
   "display_name": "Python 3",
   "language": "python",
   "name": "python3"
  },
  "language_info": {
   "codemirror_mode": {
    "name": "ipython",
    "version": 3
   },
   "file_extension": ".py",
   "mimetype": "text/x-python",
   "name": "python",
   "nbconvert_exporter": "python",
   "pygments_lexer": "ipython3",
   "version": "3.7.0"
  }
 },
 "nbformat": 4,
 "nbformat_minor": 2
}
