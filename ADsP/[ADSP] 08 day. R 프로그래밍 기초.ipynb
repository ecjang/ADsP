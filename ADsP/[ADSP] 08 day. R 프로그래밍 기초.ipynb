{
 "cells": [
  {
   "cell_type": "markdown",
   "metadata": {},
   "source": [
    "<h1><center>1절. R의 기초</center></h1>"
   ]
  },
  {
   "cell_type": "markdown",
   "metadata": {},
   "source": [
    "## 1. 데이터 분석 도구 현황\n",
    "\n",
    "### 1_1. 분석 도구의 비교\n",
    "다른 프로그램에 비해 R의 사용이 증가하고 있음.\n",
    "- **SAS, SPSS** : 유로에 고가, 최신 알고리즘 반영 느림, 유로 도서 구매 필요\n",
    "- **R** : 오픈소스에 무료, 묘듈화 설치, 최신 알고리즘 반영 빠름, 공개 논문과 커뮤니티 풍부\n",
    "\n",
    "### 1_2. R 프로그램 특징\n",
    "1. 오픈소스 프로그램 \n",
    "1. 그래릭 성능\n",
    "1. 시스템 데이터 저장 방식\n",
    "    - 각 세션마다 시스템에 데이터를 저장, 신속히 사용 가능\n",
    "1. 모든 운영체제 지원\n",
    "1. 표준 플렛폼\n",
    "    - S 통계 언어를 기반으로 구현\n",
    "    - RS 플랫폼은 통계 전문가들의 표준 플렛폼으로 활용\n",
    "1. 객체지향 언어\n",
    "    - 일반 프로그래밍 언어처럼 함수를 객체화 하여 사용 가능\n",
    "1. **함수형 언어**\n",
    "    - 일반 코드보다 단축된 언어로 보다 깔끔한 구조\n",
    "    - 매우 빠른 코드 수행 속도\n",
    "    - 단순한 코드로 보다 수월해진 디버깅\n",
    "    - 병렬 프로그램으로 전환 용이\n",
    "\n",
    "### 1_3. R 스튜디오\n",
    "R 언어를 보다 사용하기 편리하게 만든 [IDE Integrated Development Enviorment 통합 개발 환경].\n",
    "- 스크립트와 도큐먼테이션 관리가 용이\n",
    "- 메모리에 저장된 변수 확인 가능\n",
    "- [Rattle 래틀] 지원 : 데이터마이닝을 위한 [GUI Graphic User Interface] 소프트웨어"
   ]
  }
 ],
 "metadata": {
  "kernelspec": {
   "display_name": "R 3.3",
   "language": "R",
   "name": "ir33"
  },
  "language_info": {
   "codemirror_mode": "r",
   "file_extension": ".r",
   "mimetype": "text/x-r-source",
   "name": "R",
   "pygments_lexer": "r",
   "version": "3.5.1"
  }
 },
 "nbformat": 4,
 "nbformat_minor": 2
}
