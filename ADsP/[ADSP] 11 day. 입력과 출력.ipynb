{
 "cells": [
  {
   "cell_type": "markdown",
   "metadata": {},
   "source": [
    "<h1><center>3절. 입력과 출력 </center></h1>"
   ]
  },
  {
   "cell_type": "markdown",
   "metadata": {},
   "source": [
    "## 1. 데이터 분석 과정\n",
    "\n",
    "### 1_1. [Data Handing 데이터 핸들링]\n",
    "```\n",
    "데이터를 분석하기 위해서는 데이터를 정확하게 입력하는 것이 중요\n",
    "입력된 데이터를 전처리 과정을 통해 분석이 가능한 형태로 재정히는 작업\n",
    "```"
   ]
  },
  {
   "cell_type": "markdown",
   "metadata": {},
   "source": [
    "## 2. 불러오기, 내보내기\n",
    "\n",
    "### 2_1. Import와 Export 기능\n",
    "1. 키보드로 데이터를 입력\n",
    "1. 출력한 내용의 자리수 정의 : `digits`\n",
    "1. 파일에 출력 : `cat()`\n",
    "1. 파일 목록 보기 : `list.files()`\n",
    "1. 파일 불러오기 오류시\n",
    "1. 고정자리수 데이터 : `read.fwf()`\n",
    "1. 테이블 데이터 : `read.table()`\n",
    "1. CSV 파일 읽기, 쓰기 : `read.csv()`, `write.scv()`\n",
    "1. 웹에서 파일 읽기 : `read.csv(url)`, `readHTXMLTable(url)`"
   ]
  },
  {
   "cell_type": "code",
   "execution_count": 112,
   "metadata": {},
   "outputs": [
    {
     "name": "stdout",
     "output_type": "stream",
     "text": [
      "[1] 3\n"
     ]
    },
    {
     "data": {
      "text/html": [
       "<ol class=list-inline>\n",
       "\t<li>'[ADSP] 0장. Category.ipynb'</li>\n",
       "\t<li>'[ADSP] 1 day. 데이터의 이해.ipynb'</li>\n",
       "\t<li>'[ADSP] 10 day. R기초2.ipynb'</li>\n",
       "\t<li>'[ADSP] 11 day. 입력과 출력.ipynb'</li>\n",
       "\t<li>'[ADSP] 2 day. 빅데이터의 이해.ipynb'</li>\n",
       "\t<li>'[ADSP] 3 day.데이터 사이언스,전략 인사이트.ipynb'</li>\n",
       "\t<li>'[ADSP] 3.5 day. 최신 빅데이터 상식.ipynb'</li>\n",
       "\t<li>'[ADSP] 4 day. 분석 기획의 이해.ipynb'</li>\n",
       "\t<li>'[ADSP] 5 day. 분석 과제 발굴.ipynb'</li>\n",
       "\t<li>'[ADSP] 6 day. 분석 마스터플랜.ipynb'</li>\n",
       "\t<li>'[ADSP] 7 day. 데이터 분석 개요.ipynb'</li>\n",
       "\t<li>'[ADSP] 8 day. R 프로그래밍 기초.ipynb'</li>\n",
       "\t<li>'[ADSP] 9 day. R 기초1.ipynb'</li>\n",
       "\t<li>'[ADSP] Test. 1 Week.ipynb'</li>\n",
       "</ol>\n"
      ],
      "text/latex": [
       "\\begin{enumerate*}\n",
       "\\item '{[}ADSP{]} 0장. Category.ipynb'\n",
       "\\item '{[}ADSP{]} 1 day. 데이터의 이해.ipynb'\n",
       "\\item '{[}ADSP{]} 10 day. R기초2.ipynb'\n",
       "\\item '{[}ADSP{]} 11 day. 입력과 출력.ipynb'\n",
       "\\item '{[}ADSP{]} 2 day. 빅데이터의 이해.ipynb'\n",
       "\\item '{[}ADSP{]} 3 day.데이터 사이언스,전략 인사이트.ipynb'\n",
       "\\item '{[}ADSP{]} 3.5 day. 최신 빅데이터 상식.ipynb'\n",
       "\\item '{[}ADSP{]} 4 day. 분석 기획의 이해.ipynb'\n",
       "\\item '{[}ADSP{]} 5 day. 분석 과제 발굴.ipynb'\n",
       "\\item '{[}ADSP{]} 6 day. 분석 마스터플랜.ipynb'\n",
       "\\item '{[}ADSP{]} 7 day. 데이터 분석 개요.ipynb'\n",
       "\\item '{[}ADSP{]} 8 day. R 프로그래밍 기초.ipynb'\n",
       "\\item '{[}ADSP{]} 9 day. R 기초1.ipynb'\n",
       "\\item '{[}ADSP{]} Test. 1 Week.ipynb'\n",
       "\\end{enumerate*}\n"
      ],
      "text/markdown": [
       "1. '[ADSP] 0장. Category.ipynb'\n",
       "2. '[ADSP] 1 day. 데이터의 이해.ipynb'\n",
       "3. '[ADSP] 10 day. R기초2.ipynb'\n",
       "4. '[ADSP] 11 day. 입력과 출력.ipynb'\n",
       "5. '[ADSP] 2 day. 빅데이터의 이해.ipynb'\n",
       "6. '[ADSP] 3 day.데이터 사이언스,전략 인사이트.ipynb'\n",
       "7. '[ADSP] 3.5 day. 최신 빅데이터 상식.ipynb'\n",
       "8. '[ADSP] 4 day. 분석 기획의 이해.ipynb'\n",
       "9. '[ADSP] 5 day. 분석 과제 발굴.ipynb'\n",
       "10. '[ADSP] 6 day. 분석 마스터플랜.ipynb'\n",
       "11. '[ADSP] 7 day. 데이터 분석 개요.ipynb'\n",
       "12. '[ADSP] 8 day. R 프로그래밍 기초.ipynb'\n",
       "13. '[ADSP] 9 day. R 기초1.ipynb'\n",
       "14. '[ADSP] Test. 1 Week.ipynb'\n",
       "\n",
       "\n"
      ],
      "text/plain": [
       " [1] \"[ADSP] 0장. Category.ipynb\"                      \n",
       " [2] \"[ADSP] 1 day. 데이터의 이해.ipynb\"               \n",
       " [3] \"[ADSP] 10 day. R기초2.ipynb\"                     \n",
       " [4] \"[ADSP] 11 day. 입력과 출력.ipynb\"                \n",
       " [5] \"[ADSP] 2 day. 빅데이터의 이해.ipynb\"             \n",
       " [6] \"[ADSP] 3 day.데이터 사이언스,전략 인사이트.ipynb\"\n",
       " [7] \"[ADSP] 3.5 day. 최신 빅데이터 상식.ipynb\"        \n",
       " [8] \"[ADSP] 4 day. 분석 기획의 이해.ipynb\"            \n",
       " [9] \"[ADSP] 5 day. 분석 과제 발굴.ipynb\"              \n",
       "[10] \"[ADSP] 6 day. 분석 마스터플랜.ipynb\"             \n",
       "[11] \"[ADSP] 7 day. 데이터 분석 개요.ipynb\"            \n",
       "[12] \"[ADSP] 8 day. R 프로그래밍 기초.ipynb\"           \n",
       "[13] \"[ADSP] 9 day. R 기초1.ipynb\"                     \n",
       "[14] \"[ADSP] Test. 1 Week.ipynb\"                       "
      ]
     },
     "metadata": {},
     "output_type": "display_data"
    },
    {
     "name": "stderr",
     "output_type": "stream",
     "text": [
      "Warning message in readLines(file, n = thisblock):\n",
      "\"'data/fwf_data.txt'에서 불완전한 마지막 행이 발견되었습니다\""
     ]
    },
    {
     "data": {
      "text/html": [
       "<table>\n",
       "<thead><tr><th scope=col>alpha</th><th scope=col>num</th><th scope=col>kor</th></tr></thead>\n",
       "<tbody>\n",
       "\t<tr><td>11    </td><td>aaa   </td><td>가가가</td></tr>\n",
       "\t<tr><td>33    </td><td>bbb   </td><td>나나나</td></tr>\n",
       "\t<tr><td>55    </td><td>ccc   </td><td>다다다</td></tr>\n",
       "</tbody>\n",
       "</table>\n"
      ],
      "text/latex": [
       "\\begin{tabular}{r|lll}\n",
       " alpha & num & kor\\\\\n",
       "\\hline\n",
       "\t 11     & aaa    & 가가가\\\\\n",
       "\t 33     & bbb    & 나나나\\\\\n",
       "\t 55     & ccc    & 다다다\\\\\n",
       "\\end{tabular}\n"
      ],
      "text/markdown": [
       "\n",
       "alpha | num | kor | \n",
       "|---|---|---|\n",
       "| 11     | aaa    | 가가가 | \n",
       "| 33     | bbb    | 나나나 | \n",
       "| 55     | ccc    | 다다다 | \n",
       "\n",
       "\n"
      ],
      "text/plain": [
       "  alpha num kor   \n",
       "1 11    aaa 가가가\n",
       "2 33    bbb 나나나\n",
       "3 55    ccc 다다다"
      ]
     },
     "metadata": {},
     "output_type": "display_data"
    },
    {
     "data": {
      "text/html": [
       "<table>\n",
       "<thead><tr><th scope=col>cust_id</th><th scope=col>last_name</th><th scope=col>age</th></tr></thead>\n",
       "<tbody>\n",
       "\t<tr><td>1    </td><td> Kim </td><td>32   </td></tr>\n",
       "\t<tr><td>2    </td><td> Lee </td><td>29   </td></tr>\n",
       "\t<tr><td>3    </td><td> Choi</td><td>45   </td></tr>\n",
       "\t<tr><td>4    </td><td> Park</td><td>38   </td></tr>\n",
       "\t<tr><td>5    </td><td> Lim </td><td>NA   </td></tr>\n",
       "</tbody>\n",
       "</table>\n"
      ],
      "text/latex": [
       "\\begin{tabular}{r|lll}\n",
       " cust\\_id & last\\_name & age\\\\\n",
       "\\hline\n",
       "\t 1     &  Kim  & 32   \\\\\n",
       "\t 2     &  Lee  & 29   \\\\\n",
       "\t 3     &  Choi & 45   \\\\\n",
       "\t 4     &  Park & 38   \\\\\n",
       "\t 5     &  Lim  & NA   \\\\\n",
       "\\end{tabular}\n"
      ],
      "text/markdown": [
       "\n",
       "cust_id | last_name | age | \n",
       "|---|---|---|---|---|\n",
       "| 1     |  Kim  | 32    | \n",
       "| 2     |  Lee  | 29    | \n",
       "| 3     |  Choi | 45    | \n",
       "| 4     |  Park | 38    | \n",
       "| 5     |  Lim  | NA    | \n",
       "\n",
       "\n"
      ],
      "text/plain": [
       "  cust_id last_name age\n",
       "1 1        Kim      32 \n",
       "2 2        Lee      29 \n",
       "3 3        Choi     45 \n",
       "4 4        Park     38 \n",
       "5 5        Lim      NA "
      ]
     },
     "metadata": {},
     "output_type": "display_data"
    }
   ],
   "source": [
    "# 자리수 고정 \n",
    "print(pi, digits=num)\n",
    "\n",
    "# 파일 출력\n",
    "cat('출력 내용: ', pi, file=\"data/export_pi.txt\", append=T)\n",
    "\n",
    "# 파일 목록 확인\n",
    "list.files(pattern = '.ipynb')\n",
    "\n",
    "# 고정 데이터 : [fwf Fixed Width File] 고정된 폭의 데이터\n",
    "# fwf_data.txt\n",
    "# 11aaa가가가\n",
    "# 33bbb나나나\n",
    "# 55ccc다다다\n",
    "fwf_data = read.fwf(\"data/fwf_data.txt\", widths=c(2, 3, 3), col.names=c('alpha', 'num', 'kor'))\n",
    "fwf_data\n",
    "\n",
    "# 외부 테이블 불러오기\n",
    "# stringAsFactor : 문자를 요인으로 인식 여부, na.string : 결측값 표시 여부\n",
    "dataset_1 = read.table(\"data/dataset_1.txt\", header = TRUE, sep= \",\", stringsAsFactors = FALSE, na.string=\"\")\n",
    "dataset_1"
   ]
  },
  {
   "cell_type": "markdown",
   "metadata": {},
   "source": [
    "----"
   ]
  }
 ],
 "metadata": {
  "kernelspec": {
   "display_name": "R 3.3",
   "language": "R",
   "name": "ir33"
  },
  "language_info": {
   "codemirror_mode": "r",
   "file_extension": ".r",
   "mimetype": "text/x-r-source",
   "name": "R",
   "pygments_lexer": "r",
   "version": "3.5.1"
  }
 },
 "nbformat": 4,
 "nbformat_minor": 2
}
