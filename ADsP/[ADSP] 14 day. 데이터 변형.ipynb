{
 "cells": [
  {
   "cell_type": "markdown",
   "metadata": {},
   "source": [
    "<h1><center>5절. 데이터 변형</center></h1>"
   ]
  },
  {
   "cell_type": "markdown",
   "metadata": {},
   "source": [
    "## 1. 데이터 변형\n",
    "\n",
    "### 1_1. 데이터 변형\n"
   ]
  },
  {
   "cell_type": "code",
   "execution_count": 1,
   "metadata": {},
   "outputs": [
    {
     "name": "stdout",
     "output_type": "stream",
     "text": [
      "[1] \"tapply : month 단위로 데이터 요약\"\n"
     ]
    },
    {
     "data": {
      "text/plain": [
       "$`5`\n",
       "   Min. 1st Qu.  Median    Mean 3rd Qu.    Max.    NA's \n",
       "   1.00   11.00   18.00   23.62   31.50  115.00       5 \n",
       "\n",
       "$`6`\n",
       "   Min. 1st Qu.  Median    Mean 3rd Qu.    Max.    NA's \n",
       "  12.00   20.00   23.00   29.44   37.00   71.00      21 \n",
       "\n",
       "$`7`\n",
       "   Min. 1st Qu.  Median    Mean 3rd Qu.    Max.    NA's \n",
       "   7.00   36.25   60.00   59.12   79.75  135.00       5 \n",
       "\n",
       "$`8`\n",
       "   Min. 1st Qu.  Median    Mean 3rd Qu.    Max.    NA's \n",
       "   9.00   28.75   52.00   59.96   82.50  168.00       5 \n",
       "\n",
       "$`9`\n",
       "   Min. 1st Qu.  Median    Mean 3rd Qu.    Max.    NA's \n",
       "   7.00   16.00   23.00   31.45   36.00   96.00       1 \n"
      ]
     },
     "metadata": {},
     "output_type": "display_data"
    }
   ],
   "source": [
    "print('tapply : month 단위로 데이터 요약')\n",
    "tapply(airquality[,1], airquality$Month, summary) "
   ]
  },
  {
   "cell_type": "code",
   "execution_count": 21,
   "metadata": {},
   "outputs": [
    {
     "name": "stdout",
     "output_type": "stream",
     "text": [
      "[1] \"Cars93 데이터를 출력\"\n"
     ]
    },
    {
     "data": {
      "text/html": [
       "<table>\n",
       "<thead><tr><th scope=col>Manufacturer</th><th scope=col>Model</th><th scope=col>Type</th><th scope=col>Min.Price</th><th scope=col>Price</th><th scope=col>Max.Price</th><th scope=col>MPG.city</th><th scope=col>MPG.highway</th><th scope=col>AirBags</th><th scope=col>DriveTrain</th><th scope=col>...</th><th scope=col>Passengers</th><th scope=col>Length</th><th scope=col>Wheelbase</th><th scope=col>Width</th><th scope=col>Turn.circle</th><th scope=col>Rear.seat.room</th><th scope=col>Luggage.room</th><th scope=col>Weight</th><th scope=col>Origin</th><th scope=col>Make</th></tr></thead>\n",
       "<tbody>\n",
       "\t<tr><td>Acura             </td><td>Integra           </td><td>Small             </td><td>12.9              </td><td>15.9              </td><td>18.8              </td><td>25                </td><td>31                </td><td>None              </td><td>Front             </td><td>...               </td><td>5                 </td><td>177               </td><td>102               </td><td>68                </td><td>37                </td><td>26.5              </td><td>11                </td><td>2705              </td><td>non-USA           </td><td>Acura Integra     </td></tr>\n",
       "\t<tr><td>Acura                 </td><td>Legend                </td><td>Midsize               </td><td>29.2                  </td><td>33.9                  </td><td>38.7                  </td><td>18                    </td><td>25                    </td><td>Driver &amp; Passenger</td><td>Front                 </td><td>...                   </td><td>5                     </td><td>195                   </td><td>115                   </td><td>71                    </td><td>38                    </td><td>30.0                  </td><td>15                    </td><td>3560                  </td><td>non-USA               </td><td>Acura Legend          </td></tr>\n",
       "\t<tr><td>Audi              </td><td>90                </td><td>Compact           </td><td>25.9              </td><td>29.1              </td><td>32.3              </td><td>20                </td><td>26                </td><td>Driver only       </td><td>Front             </td><td>...               </td><td>5                 </td><td>180               </td><td>102               </td><td>67                </td><td>37                </td><td>28.0              </td><td>14                </td><td>3375              </td><td>non-USA           </td><td>Audi 90           </td></tr>\n",
       "\t<tr><td>Audi                                                 </td><td><span style=white-space:pre-wrap>100    </span>      </td><td>Midsize                                              </td><td>30.8                                                 </td><td>37.7                                                 </td><td>44.6                                                 </td><td>19                                                   </td><td>26                                                   </td><td>Driver &amp; Passenger                               </td><td>Front                                                </td><td>...                                                  </td><td>6                                                    </td><td>193                                                  </td><td>106                                                  </td><td>70                                                   </td><td>37                                                   </td><td>31.0                                                 </td><td>17                                                   </td><td>3405                                                 </td><td>non-USA                                              </td><td><span style=white-space:pre-wrap>Audi 100     </span></td></tr>\n",
       "\t<tr><td>BMW               </td><td>535i              </td><td>Midsize           </td><td>23.7              </td><td>30.0              </td><td>36.2              </td><td>22                </td><td>30                </td><td>Driver only       </td><td>Rear              </td><td>...               </td><td>4                 </td><td>186               </td><td>109               </td><td>69                </td><td>39                </td><td>27.0              </td><td>13                </td><td>3640              </td><td>non-USA           </td><td>BMW 535i          </td></tr>\n",
       "\t<tr><td>Buick             </td><td>Century           </td><td>Midsize           </td><td>14.2              </td><td>15.7              </td><td>17.3              </td><td>22                </td><td>31                </td><td>Driver only       </td><td>Front             </td><td>...               </td><td>6                 </td><td>189               </td><td>105               </td><td>69                </td><td>41                </td><td>28.0              </td><td>16                </td><td>2880              </td><td>USA               </td><td>Buick Century     </td></tr>\n",
       "</tbody>\n",
       "</table>\n"
      ],
      "text/latex": [
       "\\begin{tabular}{r|lllllllllllllllllllllllllll}\n",
       " Manufacturer & Model & Type & Min.Price & Price & Max.Price & MPG.city & MPG.highway & AirBags & DriveTrain & ... & Passengers & Length & Wheelbase & Width & Turn.circle & Rear.seat.room & Luggage.room & Weight & Origin & Make\\\\\n",
       "\\hline\n",
       "\t Acura              & Integra            & Small              & 12.9               & 15.9               & 18.8               & 25                 & 31                 & None               & Front              & ...                & 5                  & 177                & 102                & 68                 & 37                 & 26.5               & 11                 & 2705               & non-USA            & Acura Integra     \\\\\n",
       "\t Acura                & Legend               & Midsize              & 29.2                 & 33.9                 & 38.7                 & 18                   & 25                   & Driver \\& Passenger & Front                & ...                  & 5                    & 195                  & 115                  & 71                   & 38                   & 30.0                 & 15                   & 3560                 & non-USA              & Acura Legend        \\\\\n",
       "\t Audi               & 90                 & Compact            & 25.9               & 29.1               & 32.3               & 20                 & 26                 & Driver only        & Front              & ...                & 5                  & 180                & 102                & 67                 & 37                 & 28.0               & 14                 & 3375               & non-USA            & Audi 90           \\\\\n",
       "\t Audi                 & 100                  & Midsize              & 30.8                 & 37.7                 & 44.6                 & 19                   & 26                   & Driver \\& Passenger & Front                & ...                  & 6                    & 193                  & 106                  & 70                   & 37                   & 31.0                 & 17                   & 3405                 & non-USA              & Audi 100            \\\\\n",
       "\t BMW                & 535i               & Midsize            & 23.7               & 30.0               & 36.2               & 22                 & 30                 & Driver only        & Rear               & ...                & 4                  & 186                & 109                & 69                 & 39                 & 27.0               & 13                 & 3640               & non-USA            & BMW 535i          \\\\\n",
       "\t Buick              & Century            & Midsize            & 14.2               & 15.7               & 17.3               & 22                 & 31                 & Driver only        & Front              & ...                & 6                  & 189                & 105                & 69                 & 41                 & 28.0               & 16                 & 2880               & USA                & Buick Century     \\\\\n",
       "\\end{tabular}\n"
      ],
      "text/markdown": [
       "\n",
       "Manufacturer | Model | Type | Min.Price | Price | Max.Price | MPG.city | MPG.highway | AirBags | DriveTrain | ... | Passengers | Length | Wheelbase | Width | Turn.circle | Rear.seat.room | Luggage.room | Weight | Origin | Make | \n",
       "|---|---|---|---|---|---|\n",
       "| Acura              | Integra            | Small              | 12.9               | 15.9               | 18.8               | 25                 | 31                 | None               | Front              | ...                | 5                  | 177                | 102                | 68                 | 37                 | 26.5               | 11                 | 2705               | non-USA            | Acura Integra      | \n",
       "| Acura              | Legend             | Midsize            | 29.2               | 33.9               | 38.7               | 18                 | 25                 | Driver & Passenger | Front              | ...                | 5                  | 195                | 115                | 71                 | 38                 | 30.0               | 15                 | 3560               | non-USA            | Acura Legend       | \n",
       "| Audi               | 90                 | Compact            | 25.9               | 29.1               | 32.3               | 20                 | 26                 | Driver only        | Front              | ...                | 5                  | 180                | 102                | 67                 | 37                 | 28.0               | 14                 | 3375               | non-USA            | Audi 90            | \n",
       "| Audi               | 100                | Midsize            | 30.8               | 37.7               | 44.6               | 19                 | 26                 | Driver & Passenger | Front              | ...                | 6                  | 193                | 106                | 70                 | 37                 | 31.0               | 17                 | 3405               | non-USA            | Audi 100           | \n",
       "| BMW                | 535i               | Midsize            | 23.7               | 30.0               | 36.2               | 22                 | 30                 | Driver only        | Rear               | ...                | 4                  | 186                | 109                | 69                 | 39                 | 27.0               | 13                 | 3640               | non-USA            | BMW 535i           | \n",
       "| Buick              | Century            | Midsize            | 14.2               | 15.7               | 17.3               | 22                 | 31                 | Driver only        | Front              | ...                | 6                  | 189                | 105                | 69                 | 41                 | 28.0               | 16                 | 2880               | USA                | Buick Century      | \n",
       "\n",
       "\n"
      ],
      "text/plain": [
       "  Manufacturer Model   Type    Min.Price Price Max.Price MPG.city MPG.highway\n",
       "1 Acura        Integra Small   12.9      15.9  18.8      25       31         \n",
       "2 Acura        Legend  Midsize 29.2      33.9  38.7      18       25         \n",
       "3 Audi         90      Compact 25.9      29.1  32.3      20       26         \n",
       "4 Audi         100     Midsize 30.8      37.7  44.6      19       26         \n",
       "5 BMW          535i    Midsize 23.7      30.0  36.2      22       30         \n",
       "6 Buick        Century Midsize 14.2      15.7  17.3      22       31         \n",
       "  AirBags            DriveTrain ... Passengers Length Wheelbase Width\n",
       "1 None               Front      ... 5          177    102       68   \n",
       "2 Driver & Passenger Front      ... 5          195    115       71   \n",
       "3 Driver only        Front      ... 5          180    102       67   \n",
       "4 Driver & Passenger Front      ... 6          193    106       70   \n",
       "5 Driver only        Rear       ... 4          186    109       69   \n",
       "6 Driver only        Front      ... 6          189    105       69   \n",
       "  Turn.circle Rear.seat.room Luggage.room Weight Origin  Make         \n",
       "1 37          26.5           11           2705   non-USA Acura Integra\n",
       "2 38          30.0           15           3560   non-USA Acura Legend \n",
       "3 37          28.0           14           3375   non-USA Audi 90      \n",
       "4 37          31.0           17           3405   non-USA Audi 100     \n",
       "5 39          27.0           13           3640   non-USA BMW 535i     \n",
       "6 41          28.0           16           2880   USA     Buick Century"
      ]
     },
     "metadata": {},
     "output_type": "display_data"
    },
    {
     "name": "stdout",
     "output_type": "stream",
     "text": [
      "[1] \"Cars93 데이터를 MPG.city값을 Origin으로 나눔\"\n"
     ]
    },
    {
     "data": {
      "text/html": [
       "<dl>\n",
       "\t<dt>$USA</dt>\n",
       "\t\t<dd><ol class=list-inline>\n",
       "\t<li>22</li>\n",
       "\t<li>19</li>\n",
       "\t<li>16</li>\n",
       "\t<li>19</li>\n",
       "\t<li>16</li>\n",
       "\t<li>16</li>\n",
       "\t<li>25</li>\n",
       "\t<li>25</li>\n",
       "\t<li>19</li>\n",
       "\t<li>21</li>\n",
       "\t<li>18</li>\n",
       "\t<li>15</li>\n",
       "\t<li>17</li>\n",
       "\t<li>17</li>\n",
       "\t<li>20</li>\n",
       "\t<li>23</li>\n",
       "\t<li>20</li>\n",
       "\t<li>29</li>\n",
       "\t<li>23</li>\n",
       "\t<li>22</li>\n",
       "\t<li>17</li>\n",
       "\t<li>21</li>\n",
       "\t<li>18</li>\n",
       "\t<li>29</li>\n",
       "\t<li>20</li>\n",
       "\t<li>31</li>\n",
       "\t<li>23</li>\n",
       "\t<li>22</li>\n",
       "\t<li>22</li>\n",
       "\t<li>24</li>\n",
       "\t<li>15</li>\n",
       "\t<li>21</li>\n",
       "\t<li>18</li>\n",
       "\t<li>17</li>\n",
       "\t<li>18</li>\n",
       "\t<li>23</li>\n",
       "\t<li>19</li>\n",
       "\t<li>24</li>\n",
       "\t<li>23</li>\n",
       "\t<li>18</li>\n",
       "\t<li>19</li>\n",
       "\t<li>23</li>\n",
       "\t<li>31</li>\n",
       "\t<li>23</li>\n",
       "\t<li>19</li>\n",
       "\t<li>19</li>\n",
       "\t<li>19</li>\n",
       "\t<li>28</li>\n",
       "</ol>\n",
       "</dd>\n",
       "\t<dt>$`non-USA`</dt>\n",
       "\t\t<dd><ol class=list-inline>\n",
       "\t<li>25</li>\n",
       "\t<li>18</li>\n",
       "\t<li>20</li>\n",
       "\t<li>19</li>\n",
       "\t<li>22</li>\n",
       "\t<li>46</li>\n",
       "\t<li>30</li>\n",
       "\t<li>24</li>\n",
       "\t<li>42</li>\n",
       "\t<li>24</li>\n",
       "\t<li>29</li>\n",
       "\t<li>22</li>\n",
       "\t<li>26</li>\n",
       "\t<li>20</li>\n",
       "\t<li>17</li>\n",
       "\t<li>18</li>\n",
       "\t<li>18</li>\n",
       "\t<li>29</li>\n",
       "\t<li>28</li>\n",
       "\t<li>26</li>\n",
       "\t<li>18</li>\n",
       "\t<li>17</li>\n",
       "\t<li>20</li>\n",
       "\t<li>19</li>\n",
       "\t<li>29</li>\n",
       "\t<li>18</li>\n",
       "\t<li>29</li>\n",
       "\t<li>24</li>\n",
       "\t<li>17</li>\n",
       "\t<li>21</li>\n",
       "\t<li>20</li>\n",
       "\t<li>33</li>\n",
       "\t<li>25</li>\n",
       "\t<li>23</li>\n",
       "\t<li>39</li>\n",
       "\t<li>32</li>\n",
       "\t<li>25</li>\n",
       "\t<li>22</li>\n",
       "\t<li>18</li>\n",
       "\t<li>25</li>\n",
       "\t<li>17</li>\n",
       "\t<li>21</li>\n",
       "\t<li>18</li>\n",
       "\t<li>21</li>\n",
       "\t<li>20</li>\n",
       "</ol>\n",
       "</dd>\n",
       "</dl>\n"
      ],
      "text/latex": [
       "\\begin{description}\n",
       "\\item[\\$USA] \\begin{enumerate*}\n",
       "\\item 22\n",
       "\\item 19\n",
       "\\item 16\n",
       "\\item 19\n",
       "\\item 16\n",
       "\\item 16\n",
       "\\item 25\n",
       "\\item 25\n",
       "\\item 19\n",
       "\\item 21\n",
       "\\item 18\n",
       "\\item 15\n",
       "\\item 17\n",
       "\\item 17\n",
       "\\item 20\n",
       "\\item 23\n",
       "\\item 20\n",
       "\\item 29\n",
       "\\item 23\n",
       "\\item 22\n",
       "\\item 17\n",
       "\\item 21\n",
       "\\item 18\n",
       "\\item 29\n",
       "\\item 20\n",
       "\\item 31\n",
       "\\item 23\n",
       "\\item 22\n",
       "\\item 22\n",
       "\\item 24\n",
       "\\item 15\n",
       "\\item 21\n",
       "\\item 18\n",
       "\\item 17\n",
       "\\item 18\n",
       "\\item 23\n",
       "\\item 19\n",
       "\\item 24\n",
       "\\item 23\n",
       "\\item 18\n",
       "\\item 19\n",
       "\\item 23\n",
       "\\item 31\n",
       "\\item 23\n",
       "\\item 19\n",
       "\\item 19\n",
       "\\item 19\n",
       "\\item 28\n",
       "\\end{enumerate*}\n",
       "\n",
       "\\item[\\$`non-USA`] \\begin{enumerate*}\n",
       "\\item 25\n",
       "\\item 18\n",
       "\\item 20\n",
       "\\item 19\n",
       "\\item 22\n",
       "\\item 46\n",
       "\\item 30\n",
       "\\item 24\n",
       "\\item 42\n",
       "\\item 24\n",
       "\\item 29\n",
       "\\item 22\n",
       "\\item 26\n",
       "\\item 20\n",
       "\\item 17\n",
       "\\item 18\n",
       "\\item 18\n",
       "\\item 29\n",
       "\\item 28\n",
       "\\item 26\n",
       "\\item 18\n",
       "\\item 17\n",
       "\\item 20\n",
       "\\item 19\n",
       "\\item 29\n",
       "\\item 18\n",
       "\\item 29\n",
       "\\item 24\n",
       "\\item 17\n",
       "\\item 21\n",
       "\\item 20\n",
       "\\item 33\n",
       "\\item 25\n",
       "\\item 23\n",
       "\\item 39\n",
       "\\item 32\n",
       "\\item 25\n",
       "\\item 22\n",
       "\\item 18\n",
       "\\item 25\n",
       "\\item 17\n",
       "\\item 21\n",
       "\\item 18\n",
       "\\item 21\n",
       "\\item 20\n",
       "\\end{enumerate*}\n",
       "\n",
       "\\end{description}\n"
      ],
      "text/markdown": [
       "$USA\n",
       ":   1. 22\n",
       "2. 19\n",
       "3. 16\n",
       "4. 19\n",
       "5. 16\n",
       "6. 16\n",
       "7. 25\n",
       "8. 25\n",
       "9. 19\n",
       "10. 21\n",
       "11. 18\n",
       "12. 15\n",
       "13. 17\n",
       "14. 17\n",
       "15. 20\n",
       "16. 23\n",
       "17. 20\n",
       "18. 29\n",
       "19. 23\n",
       "20. 22\n",
       "21. 17\n",
       "22. 21\n",
       "23. 18\n",
       "24. 29\n",
       "25. 20\n",
       "26. 31\n",
       "27. 23\n",
       "28. 22\n",
       "29. 22\n",
       "30. 24\n",
       "31. 15\n",
       "32. 21\n",
       "33. 18\n",
       "34. 17\n",
       "35. 18\n",
       "36. 23\n",
       "37. 19\n",
       "38. 24\n",
       "39. 23\n",
       "40. 18\n",
       "41. 19\n",
       "42. 23\n",
       "43. 31\n",
       "44. 23\n",
       "45. 19\n",
       "46. 19\n",
       "47. 19\n",
       "48. 28\n",
       "\n",
       "\n",
       "\n",
       "$`non-USA`\n",
       ":   1. 25\n",
       "2. 18\n",
       "3. 20\n",
       "4. 19\n",
       "5. 22\n",
       "6. 46\n",
       "7. 30\n",
       "8. 24\n",
       "9. 42\n",
       "10. 24\n",
       "11. 29\n",
       "12. 22\n",
       "13. 26\n",
       "14. 20\n",
       "15. 17\n",
       "16. 18\n",
       "17. 18\n",
       "18. 29\n",
       "19. 28\n",
       "20. 26\n",
       "21. 18\n",
       "22. 17\n",
       "23. 20\n",
       "24. 19\n",
       "25. 29\n",
       "26. 18\n",
       "27. 29\n",
       "28. 24\n",
       "29. 17\n",
       "30. 21\n",
       "31. 20\n",
       "32. 33\n",
       "33. 25\n",
       "34. 23\n",
       "35. 39\n",
       "36. 32\n",
       "37. 25\n",
       "38. 22\n",
       "39. 18\n",
       "40. 25\n",
       "41. 17\n",
       "42. 21\n",
       "43. 18\n",
       "44. 21\n",
       "45. 20\n",
       "\n",
       "\n",
       "\n",
       "\n",
       "\n"
      ],
      "text/plain": [
       "$USA\n",
       " [1] 22 19 16 19 16 16 25 25 19 21 18 15 17 17 20 23 20 29 23 22 17 21 18 29 20\n",
       "[26] 31 23 22 22 24 15 21 18 17 18 23 19 24 23 18 19 23 31 23 19 19 19 28\n",
       "\n",
       "$`non-USA`\n",
       " [1] 25 18 20 19 22 46 30 24 42 24 29 22 26 20 17 18 18 29 28 26 18 17 20 19 29\n",
       "[26] 18 29 24 17 21 20 33 25 23 39 32 25 22 18 25 17 21 18 21 20\n"
      ]
     },
     "metadata": {},
     "output_type": "display_data"
    },
    {
     "name": "stdout",
     "output_type": "stream",
     "text": [
      "[1] \"리스트의 각 원소에 함수 적용 : lapply(X, Function)\"\n"
     ]
    },
    {
     "data": {
      "text/plain": [
       "[[1]]\n",
       "   Min. 1st Qu.  Median    Mean 3rd Qu.    Max. \n",
       "   15.9    15.9    15.9    15.9    15.9    15.9 \n",
       "\n",
       "[[2]]\n",
       "   Min. 1st Qu.  Median    Mean 3rd Qu.    Max. \n",
       "   33.9    33.9    33.9    33.9    33.9    33.9 \n",
       "\n",
       "[[3]]\n",
       "   Min. 1st Qu.  Median    Mean 3rd Qu.    Max. \n",
       "   29.1    29.1    29.1    29.1    29.1    29.1 \n",
       "\n",
       "[[4]]\n",
       "   Min. 1st Qu.  Median    Mean 3rd Qu.    Max. \n",
       "   37.7    37.7    37.7    37.7    37.7    37.7 \n",
       "\n",
       "[[5]]\n",
       "   Min. 1st Qu.  Median    Mean 3rd Qu.    Max. \n",
       "     30      30      30      30      30      30 \n",
       "\n",
       "[[6]]\n",
       "   Min. 1st Qu.  Median    Mean 3rd Qu.    Max. \n",
       "   15.7    15.7    15.7    15.7    15.7    15.7 \n"
      ]
     },
     "metadata": {},
     "output_type": "display_data"
    }
   ],
   "source": [
    "# 데이터 프레임을 여러 집단으로 분할\n",
    "library(MASS)\n",
    "print('Cars93 데이터를 출력')\n",
    "head(Cars93)\n",
    "\n",
    "print('Cars93 데이터를 MPG.city값을 Origin으로 나눔')\n",
    "sp <- split(Cars93$MPG.city, Cars93$Origin); sp\n",
    "\n",
    "print('리스트의 각 원소에 함수 적용 : lapply(X, Function)')\n",
    "la <- lapply(Cars93$Price, summary)\n",
    "head(la)"
   ]
  },
  {
   "cell_type": "code",
   "execution_count": 49,
   "metadata": {},
   "outputs": [
    {
     "name": "stdout",
     "output_type": "stream",
     "text": [
      "[1] \"lapply() 적용 : 리스트를 반환\"\n"
     ]
    },
    {
     "data": {
      "text/html": [
       "<dl>\n",
       "\t<dt>$Sepal.Length</dt>\n",
       "\t\t<dd>5.84333333333333</dd>\n",
       "\t<dt>$Sepal.Width</dt>\n",
       "\t\t<dd>3.05733333333333</dd>\n",
       "\t<dt>$Petal.Length</dt>\n",
       "\t\t<dd>3.758</dd>\n",
       "\t<dt>$Petal.Width</dt>\n",
       "\t\t<dd>1.19933333333333</dd>\n",
       "</dl>\n"
      ],
      "text/latex": [
       "\\begin{description}\n",
       "\\item[\\$Sepal.Length] 5.84333333333333\n",
       "\\item[\\$Sepal.Width] 3.05733333333333\n",
       "\\item[\\$Petal.Length] 3.758\n",
       "\\item[\\$Petal.Width] 1.19933333333333\n",
       "\\end{description}\n"
      ],
      "text/markdown": [
       "$Sepal.Length\n",
       ":   5.84333333333333\n",
       "$Sepal.Width\n",
       ":   3.05733333333333\n",
       "$Petal.Length\n",
       ":   3.758\n",
       "$Petal.Width\n",
       ":   1.19933333333333\n",
       "\n",
       "\n"
      ],
      "text/plain": [
       "$Sepal.Length\n",
       "[1] 5.843333\n",
       "\n",
       "$Sepal.Width\n",
       "[1] 3.057333\n",
       "\n",
       "$Petal.Length\n",
       "[1] 3.758\n",
       "\n",
       "$Petal.Width\n",
       "[1] 1.199333\n"
      ]
     },
     "metadata": {},
     "output_type": "display_data"
    },
    {
     "name": "stdout",
     "output_type": "stream",
     "text": [
      "[1] \"sapply() 적용 : 데이터 프레임 반환\"\n"
     ]
    },
    {
     "data": {
      "text/html": [
       "<table>\n",
       "<thead><tr><th scope=col>Sepal.Length</th><th scope=col>Sepal.Width</th><th scope=col>Petal.Length</th><th scope=col>Petal.Width</th></tr></thead>\n",
       "<tbody>\n",
       "\t<tr><td>5.843333</td><td>3.057333</td><td>3.758   </td><td>1.199333</td></tr>\n",
       "</tbody>\n",
       "</table>\n"
      ],
      "text/latex": [
       "\\begin{tabular}{r|llll}\n",
       " Sepal.Length & Sepal.Width & Petal.Length & Petal.Width\\\\\n",
       "\\hline\n",
       "\t 5.843333 & 3.057333 & 3.758    & 1.199333\\\\\n",
       "\\end{tabular}\n"
      ],
      "text/markdown": [
       "\n",
       "Sepal.Length | Sepal.Width | Petal.Length | Petal.Width | \n",
       "|---|\n",
       "| 5.843333 | 3.057333 | 3.758    | 1.199333 | \n",
       "\n",
       "\n"
      ],
      "text/plain": [
       "  Sepal.Length Sepal.Width Petal.Length Petal.Width\n",
       "1 5.843333     3.057333    3.758        1.199333   "
      ]
     },
     "metadata": {},
     "output_type": "display_data"
    },
    {
     "name": "stdout",
     "output_type": "stream",
     "text": [
      "[1] \"대용량 데이터 파악에 유용\"\n"
     ]
    },
    {
     "data": {
      "text/html": [
       "<table>\n",
       "<thead><tr><th scope=col>Sepal.Length</th><th scope=col>Sepal.Width</th><th scope=col>Petal.Length</th><th scope=col>Petal.Width</th><th scope=col>Species</th></tr></thead>\n",
       "<tbody>\n",
       "\t<tr><td>numeric</td><td>numeric</td><td>numeric</td><td>numeric</td><td>factor </td></tr>\n",
       "</tbody>\n",
       "</table>\n"
      ],
      "text/latex": [
       "\\begin{tabular}{lllll}\n",
       " Sepal.Length & Sepal.Width & Petal.Length & Petal.Width & Species\\\\\n",
       "\\hline\n",
       "\t numeric & numeric & numeric & numeric & factor \\\\\n",
       "\\end{tabular}\n"
      ],
      "text/markdown": [
       "\n",
       "Sepal.Length | Sepal.Width | Petal.Length | Petal.Width | Species | \n",
       "|---|\n",
       "| numeric | numeric | numeric | numeric | factor  | \n",
       "\n",
       "\n"
      ],
      "text/plain": [
       "     Sepal.Length Sepal.Width Petal.Length Petal.Width Species\n",
       "[1,] numeric      numeric     numeric      numeric     factor "
      ]
     },
     "metadata": {},
     "output_type": "display_data"
    }
   ],
   "source": [
    "# https://thebook.io/006723/ch04/04/03/\n",
    "# sapply는 lapply와 유사하지만, 리스트 대신 행렬, 벡터 등의 데이터 타입으로 반환.\n",
    "# sapply(X, Function)\n",
    "print('lapply() 적용 : 리스트를 반환')\n",
    "lapply(iris[, 1:4], mean)\n",
    "\n",
    "print('sapply() 적용 : 데이터 프레임 반환')\n",
    "x <- sapply(iris[, 1:4], mean)\n",
    "as.data.frame(t(x))\n",
    "\n",
    "print('대용량 데이터 파악에 유용')\n",
    "t(sapply(iris, class))"
   ]
  },
  {
   "cell_type": "markdown",
   "metadata": {},
   "source": [
    "### 1_2. 문자열 다루기"
   ]
  },
  {
   "cell_type": "code",
   "execution_count": 55,
   "metadata": {},
   "outputs": [
    {
     "name": "stdout",
     "output_type": "stream",
     "text": [
      "[1] \"문자열 길이 구하기\"\n"
     ]
    },
    {
     "data": {
      "text/html": [
       "9"
      ],
      "text/latex": [
       "9"
      ],
      "text/markdown": [
       "9"
      ],
      "text/plain": [
       "[1] 9"
      ]
     },
     "metadata": {},
     "output_type": "display_data"
    },
    {
     "name": "stdout",
     "output_type": "stream",
     "text": [
      "[1] \"문자열 연결\"\n"
     ]
    },
    {
     "data": {
      "text/html": [
       "'이거-저거-그거'"
      ],
      "text/latex": [
       "'이거-저거-그거'"
      ],
      "text/markdown": [
       "'이거-저거-그거'"
      ],
      "text/plain": [
       "[1] \"이거-저거-그거\""
      ]
     },
     "metadata": {},
     "output_type": "display_data"
    },
    {
     "name": "stdout",
     "output_type": "stream",
     "text": [
      "[1] \"문자열 추출\"\n"
     ]
    },
    {
     "data": {
      "text/html": [
       "'문자열'"
      ],
      "text/latex": [
       "'문자열'"
      ],
      "text/markdown": [
       "'문자열'"
      ],
      "text/plain": [
       "[1] \"문자열\""
      ]
     },
     "metadata": {},
     "output_type": "display_data"
    },
    {
     "name": "stdout",
     "output_type": "stream",
     "text": [
      "[1] \"쌍별 조합\"\n"
     ]
    },
    {
     "data": {
      "text/html": [
       "<table>\n",
       "<tbody>\n",
       "\t<tr><td>문자열1문자열2</td></tr>\n",
       "</tbody>\n",
       "</table>\n"
      ],
      "text/latex": [
       "\\begin{tabular}{l}\n",
       "\t 문자열1문자열2\\\\\n",
       "\\end{tabular}\n"
      ],
      "text/markdown": [
       "\n",
       "| 문자열1문자열2 | \n",
       "\n",
       "\n"
      ],
      "text/plain": [
       "     [,1]          \n",
       "[1,] 문자열1문자열2"
      ]
     },
     "metadata": {},
     "output_type": "display_data"
    }
   ],
   "source": [
    "# 문자열 길이 구하기\n",
    "print(\"문자열 길이 구하기\")\n",
    "nchar(\"123456789\")\n",
    "\n",
    "# 문자열 연결\n",
    "print(\"문자열 연결\")\n",
    "paste(\"이거\", \"저거\", \"그거\", sep=\"-\")\n",
    "\n",
    "# 문자열 추출\n",
    "print(\"문자열 추출\")\n",
    "substr(\"많은 문자열 중에 처음 문자열만 추출\", 4,6)\n",
    "\n",
    "# 쌍별 조합\n",
    "print(\"쌍별 조합\")\n",
    "mat <- outer(\"문자열1\", \"문자열2\", paste, sep=\"\")\n",
    "mat"
   ]
  },
  {
   "cell_type": "markdown",
   "metadata": {},
   "source": [
    "### 1_3. 날짜 다루기"
   ]
  },
  {
   "cell_type": "code",
   "execution_count": 71,
   "metadata": {},
   "outputs": [
    {
     "name": "stdout",
     "output_type": "stream",
     "text": [
      "[1] \"시스템 날짜\"\n"
     ]
    },
    {
     "data": {
      "text/html": [
       "<time datetime=\"2018-09-08\">2018-09-08</time>"
      ],
      "text/latex": [
       "2018-09-08"
      ],
      "text/markdown": [
       "2018-09-08"
      ],
      "text/plain": [
       "[1] \"2018-09-08\""
      ]
     },
     "metadata": {},
     "output_type": "display_data"
    },
    {
     "name": "stdout",
     "output_type": "stream",
     "text": [
      "[1] \"날짜 변환\"\n"
     ]
    },
    {
     "data": {
      "text/html": [
       "'09/08/18'"
      ],
      "text/latex": [
       "'09/08/18'"
      ],
      "text/markdown": [
       "'09/08/18'"
      ],
      "text/plain": [
       "[1] \"09/08/18\""
      ]
     },
     "metadata": {},
     "output_type": "display_data"
    },
    {
     "name": "stdout",
     "output_type": "stream",
     "text": [
      "[1] \"날짜 조회\"\n"
     ]
    },
    {
     "data": {
      "text/html": [
       "'토 | 9 | 9월'"
      ],
      "text/latex": [
       "'토 \\textbar{} 9 \\textbar{} 9월'"
      ],
      "text/markdown": [
       "'토 | 9 | 9월'"
      ],
      "text/plain": [
       "[1] \"토 | 9 | 9월\""
      ]
     },
     "metadata": {},
     "output_type": "display_data"
    },
    {
     "data": {
      "text/html": [
       "'18 / 09 / 08'"
      ],
      "text/latex": [
       "'18 / 09 / 08'"
      ],
      "text/markdown": [
       "'18 / 09 / 08'"
      ],
      "text/plain": [
       "[1] \"18 / 09 / 08\""
      ]
     },
     "metadata": {},
     "output_type": "display_data"
    },
    {
     "data": {
      "text/html": [
       "'2018'"
      ],
      "text/latex": [
       "'2018'"
      ],
      "text/markdown": [
       "'2018'"
      ],
      "text/plain": [
       "[1] \"2018\""
      ]
     },
     "metadata": {},
     "output_type": "display_data"
    },
    {
     "data": {
      "text/html": [
       "136"
      ],
      "text/latex": [
       "136"
      ],
      "text/markdown": [
       "136"
      ],
      "text/plain": [
       "[1] 136"
      ]
     },
     "metadata": {},
     "output_type": "display_data"
    },
    {
     "data": {
      "text/html": [
       "<ol class=list-inline>\n",
       "\t<li><time datetime=\"2018-05-01\">2018-05-01</time></li>\n",
       "\t<li><time datetime=\"2018-05-02\">2018-05-02</time></li>\n",
       "\t<li><time datetime=\"2018-05-03\">2018-05-03</time></li>\n",
       "\t<li><time datetime=\"2018-05-04\">2018-05-04</time></li>\n",
       "\t<li><time datetime=\"2018-05-05\">2018-05-05</time></li>\n",
       "\t<li><time datetime=\"2018-05-06\">2018-05-06</time></li>\n",
       "\t<li><time datetime=\"2018-05-07\">2018-05-07</time></li>\n",
       "\t<li><time datetime=\"2018-05-08\">2018-05-08</time></li>\n",
       "\t<li><time datetime=\"2018-05-09\">2018-05-09</time></li>\n",
       "\t<li><time datetime=\"2018-05-10\">2018-05-10</time></li>\n",
       "\t<li><time datetime=\"2018-05-11\">2018-05-11</time></li>\n",
       "\t<li><time datetime=\"2018-05-12\">2018-05-12</time></li>\n",
       "\t<li><time datetime=\"2018-05-13\">2018-05-13</time></li>\n",
       "\t<li><time datetime=\"2018-05-14\">2018-05-14</time></li>\n",
       "\t<li><time datetime=\"2018-05-15\">2018-05-15</time></li>\n",
       "\t<li><time datetime=\"2018-05-16\">2018-05-16</time></li>\n",
       "\t<li><time datetime=\"2018-05-17\">2018-05-17</time></li>\n",
       "\t<li><time datetime=\"2018-05-18\">2018-05-18</time></li>\n",
       "\t<li><time datetime=\"2018-05-19\">2018-05-19</time></li>\n",
       "\t<li><time datetime=\"2018-05-20\">2018-05-20</time></li>\n",
       "\t<li><time datetime=\"2018-05-21\">2018-05-21</time></li>\n",
       "\t<li><time datetime=\"2018-05-22\">2018-05-22</time></li>\n",
       "\t<li><time datetime=\"2018-05-23\">2018-05-23</time></li>\n",
       "\t<li><time datetime=\"2018-05-24\">2018-05-24</time></li>\n",
       "\t<li><time datetime=\"2018-05-25\">2018-05-25</time></li>\n",
       "\t<li><time datetime=\"2018-05-26\">2018-05-26</time></li>\n",
       "\t<li><time datetime=\"2018-05-27\">2018-05-27</time></li>\n",
       "\t<li><time datetime=\"2018-05-28\">2018-05-28</time></li>\n",
       "\t<li><time datetime=\"2018-05-29\">2018-05-29</time></li>\n",
       "\t<li><time datetime=\"2018-05-30\">2018-05-30</time></li>\n",
       "\t<li><time datetime=\"2018-05-31\">2018-05-31</time></li>\n",
       "</ol>\n"
      ],
      "text/latex": [
       "\\begin{enumerate*}\n",
       "\\item 2018-05-01\n",
       "\\item 2018-05-02\n",
       "\\item 2018-05-03\n",
       "\\item 2018-05-04\n",
       "\\item 2018-05-05\n",
       "\\item 2018-05-06\n",
       "\\item 2018-05-07\n",
       "\\item 2018-05-08\n",
       "\\item 2018-05-09\n",
       "\\item 2018-05-10\n",
       "\\item 2018-05-11\n",
       "\\item 2018-05-12\n",
       "\\item 2018-05-13\n",
       "\\item 2018-05-14\n",
       "\\item 2018-05-15\n",
       "\\item 2018-05-16\n",
       "\\item 2018-05-17\n",
       "\\item 2018-05-18\n",
       "\\item 2018-05-19\n",
       "\\item 2018-05-20\n",
       "\\item 2018-05-21\n",
       "\\item 2018-05-22\n",
       "\\item 2018-05-23\n",
       "\\item 2018-05-24\n",
       "\\item 2018-05-25\n",
       "\\item 2018-05-26\n",
       "\\item 2018-05-27\n",
       "\\item 2018-05-28\n",
       "\\item 2018-05-29\n",
       "\\item 2018-05-30\n",
       "\\item 2018-05-31\n",
       "\\end{enumerate*}\n"
      ],
      "text/markdown": [
       "1. 2018-05-01\n",
       "2. 2018-05-02\n",
       "3. 2018-05-03\n",
       "4. 2018-05-04\n",
       "5. 2018-05-05\n",
       "6. 2018-05-06\n",
       "7. 2018-05-07\n",
       "8. 2018-05-08\n",
       "9. 2018-05-09\n",
       "10. 2018-05-10\n",
       "11. 2018-05-11\n",
       "12. 2018-05-12\n",
       "13. 2018-05-13\n",
       "14. 2018-05-14\n",
       "15. 2018-05-15\n",
       "16. 2018-05-16\n",
       "17. 2018-05-17\n",
       "18. 2018-05-18\n",
       "19. 2018-05-19\n",
       "20. 2018-05-20\n",
       "21. 2018-05-21\n",
       "22. 2018-05-22\n",
       "23. 2018-05-23\n",
       "24. 2018-05-24\n",
       "25. 2018-05-25\n",
       "26. 2018-05-26\n",
       "27. 2018-05-27\n",
       "28. 2018-05-28\n",
       "29. 2018-05-29\n",
       "30. 2018-05-30\n",
       "31. 2018-05-31\n",
       "\n",
       "\n"
      ],
      "text/plain": [
       " [1] \"2018-05-01\" \"2018-05-02\" \"2018-05-03\" \"2018-05-04\" \"2018-05-05\"\n",
       " [6] \"2018-05-06\" \"2018-05-07\" \"2018-05-08\" \"2018-05-09\" \"2018-05-10\"\n",
       "[11] \"2018-05-11\" \"2018-05-12\" \"2018-05-13\" \"2018-05-14\" \"2018-05-15\"\n",
       "[16] \"2018-05-16\" \"2018-05-17\" \"2018-05-18\" \"2018-05-19\" \"2018-05-20\"\n",
       "[21] \"2018-05-21\" \"2018-05-22\" \"2018-05-23\" \"2018-05-24\" \"2018-05-25\"\n",
       "[26] \"2018-05-26\" \"2018-05-27\" \"2018-05-28\" \"2018-05-29\" \"2018-05-30\"\n",
       "[31] \"2018-05-31\""
      ]
     },
     "metadata": {},
     "output_type": "display_data"
    }
   ],
   "source": [
    "# 시스템 날짜\n",
    "print(\"시스템 날짜\")\n",
    "Sys.Date()\n",
    "\n",
    "# 날짜 변환\n",
    "print(\"날짜 변환\")\n",
    "format(Sys.Date(), format=\"%m/%d/%y\")\n",
    "\n",
    "# 날짜 조회\n",
    "print(\"날짜 조회\")\n",
    "format(Sys.Date(), '%a | %b | %B')  # 요일 | 월이름 | 월  \n",
    "format(Sys.Date(), '%y / %m / %d')  # 2자리 년도 / 2자리 일자 / 2자리 월 \n",
    "format(Sys.Date(), '%Y')  # 4자리 연도\n",
    "\n",
    "# 날짜 추출\n",
    "# POSIX는 유닉스간 소통 가능한 프로그램 인터페이스\n",
    "d <- as.Date(\"2018-05-17\")\n",
    "p <- as.POSIXlt(d); p$yday\n",
    "start <- as.Date(\"2018-05-01\")\n",
    "end <- as.Date(\"2018-05-31\")\n",
    "seq(from=start, to=end, by=1)"
   ]
  },
  {
   "cell_type": "markdown",
   "metadata": {},
   "source": [
    "----"
   ]
  }
 ],
 "metadata": {
  "kernelspec": {
   "display_name": "R 3.3",
   "language": "R",
   "name": "ir33"
  },
  "language_info": {
   "codemirror_mode": "r",
   "file_extension": ".r",
   "mimetype": "text/x-r-source",
   "name": "R",
   "pygments_lexer": "r",
   "version": "3.5.1"
  }
 },
 "nbformat": 4,
 "nbformat_minor": 2
}
