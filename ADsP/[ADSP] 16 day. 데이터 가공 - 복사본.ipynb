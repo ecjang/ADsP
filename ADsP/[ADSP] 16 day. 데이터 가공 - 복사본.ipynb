{
 "cells": [
  {
   "cell_type": "markdown",
   "metadata": {},
   "source": [
    "<h1><center>Chapter03. 데이터 마트</center></h1>"
   ]
  },
  {
   "cell_type": "markdown",
   "metadata": {},
   "source": [
    "<h1><center>제 2절. 데이터 가공</center></h1>"
   ]
  },
  {
   "cell_type": "markdown",
   "metadata": {},
   "source": [
    "## 1. Data Exploration\n",
    "\n",
    "데이터 분석을 위해서 **head(), summary()** 명령어로 데이터의 상태를 파악해야 한다.\n",
    "\n",
    "1. 수치형 변수 : 최대값, 최소값, 평균 등\n",
    "2. 명목형 면주 : 명목값, 데이터 개수"
   ]
  },
  {
   "cell_type": "code",
   "execution_count": 2,
   "metadata": {},
   "outputs": [
    {
     "data": {
      "text/html": [
       "<table>\n",
       "<thead><tr><th scope=col>carat</th><th scope=col>cut</th><th scope=col>color</th><th scope=col>clarity</th><th scope=col>depth</th><th scope=col>table</th><th scope=col>price</th><th scope=col>x</th><th scope=col>y</th><th scope=col>z</th></tr></thead>\n",
       "<tbody>\n",
       "\t<tr><td>0.23     </td><td>Ideal    </td><td>E        </td><td>SI2      </td><td>61.5     </td><td>55       </td><td>326      </td><td>3.95     </td><td>3.98     </td><td>2.43     </td></tr>\n",
       "\t<tr><td>0.21     </td><td>Premium  </td><td>E        </td><td>SI1      </td><td>59.8     </td><td>61       </td><td>326      </td><td>3.89     </td><td>3.84     </td><td>2.31     </td></tr>\n",
       "\t<tr><td>0.23     </td><td>Good     </td><td>E        </td><td>VS1      </td><td>56.9     </td><td>65       </td><td>327      </td><td>4.05     </td><td>4.07     </td><td>2.31     </td></tr>\n",
       "\t<tr><td>0.29     </td><td>Premium  </td><td>I        </td><td>VS2      </td><td>62.4     </td><td>58       </td><td>334      </td><td>4.20     </td><td>4.23     </td><td>2.63     </td></tr>\n",
       "\t<tr><td>0.31     </td><td>Good     </td><td>J        </td><td>SI2      </td><td>63.3     </td><td>58       </td><td>335      </td><td>4.34     </td><td>4.35     </td><td>2.75     </td></tr>\n",
       "\t<tr><td>0.24     </td><td>Very Good</td><td>J        </td><td>VVS2     </td><td>62.8     </td><td>57       </td><td>336      </td><td>3.94     </td><td>3.96     </td><td>2.48     </td></tr>\n",
       "</tbody>\n",
       "</table>\n"
      ],
      "text/latex": [
       "\\begin{tabular}{r|llllllllll}\n",
       " carat & cut & color & clarity & depth & table & price & x & y & z\\\\\n",
       "\\hline\n",
       "\t 0.23      & Ideal     & E         & SI2       & 61.5      & 55        & 326       & 3.95      & 3.98      & 2.43     \\\\\n",
       "\t 0.21      & Premium   & E         & SI1       & 59.8      & 61        & 326       & 3.89      & 3.84      & 2.31     \\\\\n",
       "\t 0.23      & Good      & E         & VS1       & 56.9      & 65        & 327       & 4.05      & 4.07      & 2.31     \\\\\n",
       "\t 0.29      & Premium   & I         & VS2       & 62.4      & 58        & 334       & 4.20      & 4.23      & 2.63     \\\\\n",
       "\t 0.31      & Good      & J         & SI2       & 63.3      & 58        & 335       & 4.34      & 4.35      & 2.75     \\\\\n",
       "\t 0.24      & Very Good & J         & VVS2      & 62.8      & 57        & 336       & 3.94      & 3.96      & 2.48     \\\\\n",
       "\\end{tabular}\n"
      ],
      "text/markdown": [
       "\n",
       "carat | cut | color | clarity | depth | table | price | x | y | z | \n",
       "|---|---|---|---|---|---|\n",
       "| 0.23      | Ideal     | E         | SI2       | 61.5      | 55        | 326       | 3.95      | 3.98      | 2.43      | \n",
       "| 0.21      | Premium   | E         | SI1       | 59.8      | 61        | 326       | 3.89      | 3.84      | 2.31      | \n",
       "| 0.23      | Good      | E         | VS1       | 56.9      | 65        | 327       | 4.05      | 4.07      | 2.31      | \n",
       "| 0.29      | Premium   | I         | VS2       | 62.4      | 58        | 334       | 4.20      | 4.23      | 2.63      | \n",
       "| 0.31      | Good      | J         | SI2       | 63.3      | 58        | 335       | 4.34      | 4.35      | 2.75      | \n",
       "| 0.24      | Very Good | J         | VVS2      | 62.8      | 57        | 336       | 3.94      | 3.96      | 2.48      | \n",
       "\n",
       "\n"
      ],
      "text/plain": [
       "  carat cut       color clarity depth table price x    y    z   \n",
       "1 0.23  Ideal     E     SI2     61.5  55    326   3.95 3.98 2.43\n",
       "2 0.21  Premium   E     SI1     59.8  61    326   3.89 3.84 2.31\n",
       "3 0.23  Good      E     VS1     56.9  65    327   4.05 4.07 2.31\n",
       "4 0.29  Premium   I     VS2     62.4  58    334   4.20 4.23 2.63\n",
       "5 0.31  Good      J     SI2     63.3  58    335   4.34 4.35 2.75\n",
       "6 0.24  Very Good J     VVS2    62.8  57    336   3.94 3.96 2.48"
      ]
     },
     "metadata": {},
     "output_type": "display_data"
    }
   ],
   "source": [
    "# Diamond Data\n",
    "# head()를 통해 상위 5개의 데이터를 출력\n",
    "require(ggplot2)\n",
    "data(diamonds)\n",
    "dia.data <- diamonds\n",
    "head(dia.data)"
   ]
  },
  {
   "cell_type": "code",
   "execution_count": 3,
   "metadata": {},
   "outputs": [
    {
     "data": {
      "text/plain": [
       "     carat               cut        color        clarity          depth      \n",
       " Min.   :0.2000   Fair     : 1610   D: 6775   SI1    :13065   Min.   :43.00  \n",
       " 1st Qu.:0.4000   Good     : 4906   E: 9797   VS2    :12258   1st Qu.:61.00  \n",
       " Median :0.7000   Very Good:12082   F: 9542   SI2    : 9194   Median :61.80  \n",
       " Mean   :0.7979   Premium  :13791   G:11292   VS1    : 8171   Mean   :61.75  \n",
       " 3rd Qu.:1.0400   Ideal    :21551   H: 8304   VVS2   : 5066   3rd Qu.:62.50  \n",
       " Max.   :5.0100                     I: 5422   VVS1   : 3655   Max.   :79.00  \n",
       "                                    J: 2808   (Other): 2531                  \n",
       "     table           price             x                y         \n",
       " Min.   :43.00   Min.   :  326   Min.   : 0.000   Min.   : 0.000  \n",
       " 1st Qu.:56.00   1st Qu.:  950   1st Qu.: 4.710   1st Qu.: 4.720  \n",
       " Median :57.00   Median : 2401   Median : 5.700   Median : 5.710  \n",
       " Mean   :57.46   Mean   : 3933   Mean   : 5.731   Mean   : 5.735  \n",
       " 3rd Qu.:59.00   3rd Qu.: 5324   3rd Qu.: 6.540   3rd Qu.: 6.540  \n",
       " Max.   :95.00   Max.   :18823   Max.   :10.740   Max.   :58.900  \n",
       "                                                                  \n",
       "       z         \n",
       " Min.   : 0.000  \n",
       " 1st Qu.: 2.910  \n",
       " Median : 3.530  \n",
       " Mean   : 3.539  \n",
       " 3rd Qu.: 4.040  \n",
       " Max.   :31.800  \n",
       "                 "
      ]
     },
     "metadata": {},
     "output_type": "display_data"
    }
   ],
   "source": [
    "# 데이터 분포 파악\n",
    "# 수치 변수별 최소값, 1사분위수, 중앙값, 평균, 3사반위수, 최대값\n",
    "# 명목 변수별 데이터 값의 개수 카운드\n",
    "summary(dia.data)"
   ]
  },
  {
   "cell_type": "markdown",
   "metadata": {},
   "source": [
    "## 2. 변수 중요도\n",
    "\n",
    "변수 선택법과 유사한 개념으로 **klaR 패키지**를 사용한다. 변수에 따라 어떻게 분류되는지 에러율과 결과를 그래프로 출력한다.\n",
    "- `Wilk's Lambda` : 집단내분산 / 총분산, 종속변수에 미치는 영향력에 따라 변수의 중요도를 정리\n",
    "- `greedy.wilks()` : Wilk's Lambda 값을 기준으로 단계적으로 전진 변수/모델 선택을 수행\n",
    "- `plineplot()` : Wilk's Lambda값을 반환하며 작을 수록 설명력이 좋음 \n",
    "- `Categorial Variable` : 이산형, 범주형 변수로 명목변수와 순위변수로 나뉨"
   ]
  },
  {
   "cell_type": "markdown",
   "metadata": {},
   "source": [
    "### Wilks.lambda\n",
    "각각의 기능이 각각의 데이터를 얼마나 잘 분류하는지 보여주는 척도이다. 그룹간의 차이로 설명되지 않는 차별적 점수의 총 분산 비율과 동일합니다. 값이 작을 수록 차별성이 더 커짐을 의미한다.\n",
    "\n",
    "![img](http://www.statisticshowto.com/wp-content/uploads/2015/03/wilks-lambda-300x68.png)\n",
    "- form : https://goo.gl/KeMsoL"
   ]
  },
  {
   "cell_type": "code",
   "execution_count": 45,
   "metadata": {},
   "outputs": [],
   "source": [
    "# greedy.wiks 예제\n",
    "library(\"klaR\")\n",
    "# greedy.wilks(formula, data = NULL, ...)\n",
    "iris.result <- greedy.wilks(Species~., data=iris, niveau=0.1)"
   ]
  },
  {
   "cell_type": "code",
   "execution_count": 44,
   "metadata": {},
   "outputs": [
    {
     "data": {
      "text/html": [
       "<table>\n",
       "<thead><tr><th scope=col>vars</th><th scope=col>Wilks.lambda</th><th scope=col>F.statistics.overall</th><th scope=col>p.value.overall</th><th scope=col>F.statistics.diff</th><th scope=col>p.value.diff</th></tr></thead>\n",
       "<tbody>\n",
       "\t<tr><td>Petal.Length </td><td>0.05862828   </td><td>1180.1612    </td><td> 2.856777e-91</td><td>1180.161182  </td><td>2.856777e-91 </td></tr>\n",
       "\t<tr><td>Sepal.Width  </td><td>0.03688411   </td><td> 307.1047    </td><td>2.848870e-103</td><td>  43.035453  </td><td>1.998401e-15 </td></tr>\n",
       "\t<tr><td>Petal.Width  </td><td>0.02497554   </td><td> 257.5032    </td><td>5.036981e-113</td><td>  34.568686  </td><td>5.122569e-13 </td></tr>\n",
       "\t<tr><td>Sepal.Length </td><td>0.02343863   </td><td> 199.1453    </td><td>1.365006e-112</td><td>   4.721152  </td><td>1.031871e-02 </td></tr>\n",
       "</tbody>\n",
       "</table>\n"
      ],
      "text/latex": [
       "\\begin{tabular}{r|llllll}\n",
       " vars & Wilks.lambda & F.statistics.overall & p.value.overall & F.statistics.diff & p.value.diff\\\\\n",
       "\\hline\n",
       "\t Petal.Length  & 0.05862828    & 1180.1612     &  2.856777e-91 & 1180.161182   & 2.856777e-91 \\\\\n",
       "\t Sepal.Width   & 0.03688411    &  307.1047     & 2.848870e-103 &   43.035453   & 1.998401e-15 \\\\\n",
       "\t Petal.Width   & 0.02497554    &  257.5032     & 5.036981e-113 &   34.568686   & 5.122569e-13 \\\\\n",
       "\t Sepal.Length  & 0.02343863    &  199.1453     & 1.365006e-112 &    4.721152   & 1.031871e-02 \\\\\n",
       "\\end{tabular}\n"
      ],
      "text/markdown": [
       "\n",
       "vars | Wilks.lambda | F.statistics.overall | p.value.overall | F.statistics.diff | p.value.diff | \n",
       "|---|---|---|---|\n",
       "| Petal.Length  | 0.05862828    | 1180.1612     |  2.856777e-91 | 1180.161182   | 2.856777e-91  | \n",
       "| Sepal.Width   | 0.03688411    |  307.1047     | 2.848870e-103 |   43.035453   | 1.998401e-15  | \n",
       "| Petal.Width   | 0.02497554    |  257.5032     | 5.036981e-113 |   34.568686   | 5.122569e-13  | \n",
       "| Sepal.Length  | 0.02343863    |  199.1453     | 1.365006e-112 |    4.721152   | 1.031871e-02  | \n",
       "\n",
       "\n"
      ],
      "text/plain": [
       "  vars         Wilks.lambda F.statistics.overall p.value.overall\n",
       "1 Petal.Length 0.05862828   1180.1612             2.856777e-91  \n",
       "2 Sepal.Width  0.03688411    307.1047            2.848870e-103  \n",
       "3 Petal.Width  0.02497554    257.5032            5.036981e-113  \n",
       "4 Sepal.Length 0.02343863    199.1453            1.365006e-112  \n",
       "  F.statistics.diff p.value.diff\n",
       "1 1180.161182       2.856777e-91\n",
       "2   43.035453       1.998401e-15\n",
       "3   34.568686       5.122569e-13\n",
       "4    4.721152       1.031871e-02"
      ]
     },
     "metadata": {},
     "output_type": "display_data"
    }
   ],
   "source": [
    "# 결과값을 보니 Petal.Width, Sepal.Length가 제일 유용\n",
    "iris.result$results"
   ]
  },
  {
   "cell_type": "code",
   "execution_count": 50,
   "metadata": {},
   "outputs": [
    {
     "data": {
      "text/html": [
       "<ol class=list-inline>\n",
       "\t<li>0.0586282809426314</li>\n",
       "\t<li>0.0368841109856321</li>\n",
       "\t<li>0.0249755381521852</li>\n",
       "\t<li>0.0234386306508783</li>\n",
       "</ol>\n"
      ],
      "text/latex": [
       "\\begin{enumerate*}\n",
       "\\item 0.0586282809426314\n",
       "\\item 0.0368841109856321\n",
       "\\item 0.0249755381521852\n",
       "\\item 0.0234386306508783\n",
       "\\end{enumerate*}\n"
      ],
      "text/markdown": [
       "1. 0.0586282809426314\n",
       "2. 0.0368841109856321\n",
       "3. 0.0249755381521852\n",
       "4. 0.0234386306508783\n",
       "\n",
       "\n"
      ],
      "text/plain": [
       "[1] 0.05862828 0.03688411 0.02497554 0.02343863"
      ]
     },
     "metadata": {},
     "output_type": "display_data"
    }
   ],
   "source": [
    "# 결과값을 변수로 담아 Wilks.lambda 만 출력.\n",
    "iris.step$results$Wilks.lambda"
   ]
  },
  {
   "cell_type": "code",
   "execution_count": 70,
   "metadata": {},
   "outputs": [
    {
     "data": {
      "text/html": [
       "<table>\n",
       "<thead><tr><th scope=col>Sepal.Length</th><th scope=col>Petal.Length</th><th scope=col>Species</th></tr></thead>\n",
       "<tbody>\n",
       "\t<tr><td>5.1   </td><td>1.4   </td><td>setosa</td></tr>\n",
       "\t<tr><td>4.9   </td><td>1.4   </td><td>setosa</td></tr>\n",
       "\t<tr><td>4.7   </td><td>1.3   </td><td>setosa</td></tr>\n",
       "\t<tr><td>4.6   </td><td>1.5   </td><td>setosa</td></tr>\n",
       "\t<tr><td>5.0   </td><td>1.4   </td><td>setosa</td></tr>\n",
       "\t<tr><td>5.4   </td><td>1.7   </td><td>setosa</td></tr>\n",
       "</tbody>\n",
       "</table>\n"
      ],
      "text/latex": [
       "\\begin{tabular}{r|lll}\n",
       " Sepal.Length & Petal.Length & Species\\\\\n",
       "\\hline\n",
       "\t 5.1    & 1.4    & setosa\\\\\n",
       "\t 4.9    & 1.4    & setosa\\\\\n",
       "\t 4.7    & 1.3    & setosa\\\\\n",
       "\t 4.6    & 1.5    & setosa\\\\\n",
       "\t 5.0    & 1.4    & setosa\\\\\n",
       "\t 5.4    & 1.7    & setosa\\\\\n",
       "\\end{tabular}\n"
      ],
      "text/markdown": [
       "\n",
       "Sepal.Length | Petal.Length | Species | \n",
       "|---|---|---|---|---|---|\n",
       "| 5.1    | 1.4    | setosa | \n",
       "| 4.9    | 1.4    | setosa | \n",
       "| 4.7    | 1.3    | setosa | \n",
       "| 4.6    | 1.5    | setosa | \n",
       "| 5.0    | 1.4    | setosa | \n",
       "| 5.4    | 1.7    | setosa | \n",
       "\n",
       "\n"
      ],
      "text/plain": [
       "  Sepal.Length Petal.Length Species\n",
       "1 5.1          1.4          setosa \n",
       "2 4.9          1.4          setosa \n",
       "3 4.7          1.3          setosa \n",
       "4 4.6          1.5          setosa \n",
       "5 5.0          1.4          setosa \n",
       "6 5.4          1.7          setosa "
      ]
     },
     "metadata": {},
     "output_type": "display_data"
    }
   ],
   "source": [
    "# iris2 데이터셋 생성\n",
    "iris2 <- iris[, c(1,3,5)]  # Sepal.Length, Petal.Length, Species\n",
    "head(iris2)"
   ]
  },
  {
   "cell_type": "code",
   "execution_count": 95,
   "metadata": {},
   "outputs": [
    {
     "data": {
      "text/html": [
       "0.0333333333333333"
      ],
      "text/latex": [
       "0.0333333333333333"
      ],
      "text/markdown": [
       "0.0333333333333333"
      ],
      "text/plain": [
       "[1] 0.03333333"
      ]
     },
     "metadata": {},
     "output_type": "display_data"
    },
    {
     "data": {
      "image/png": "[encoded data removed]",
      "text/plain": [
       "plot without title"
      ]
     },
     "metadata": {},
     "output_type": "display_data"
    }
   ],
   "source": [
    "# Petal.Length로 plineplot 그래프 출력\n",
    "# plineplot(formula, data, method, x, col.wrong = \"red\", ylim = c(0, 1), loo = FALSE, mfrow, ...)\n",
    "# lda는 잠재 다래클래 할당\n",
    "plineplot(Species ~. , data=iris2, method=\"lda\", x=iris[,4], xlab=\"Petal.Length\")"
   ]
  },
  {
   "cell_type": "code",
   "execution_count": 122,
   "metadata": {},
   "outputs": [
    {
     "data": {
      "image/png": "[encoded data removed]",
      "text/plain": [
       "Plot with title \"Naive Bayes Plot\""
      ]
     },
     "metadata": {},
     "output_type": "display_data"
    }
   ],
   "source": [
    "# Petal Length에 따라 Species가 잘 구분된다. \n",
    "# 변수를 그룹핑해서 Cetegorial Variable(범주형 변수)로 활용 : 0~0.5, 0.5~1.5, ...\n",
    "# 베이즈정리에 따라 각 독립변수별로 나눔\n",
    "# Species 변수의 범주에 따라 조건부 사후 확률을 계싼\n",
    "mN <- NaiveBayes(Species~., data=iris)\n",
    "par(mfrow=c(2,2))\n",
    "plot(mN)"
   ]
  },
  {
   "cell_type": "markdown",
   "metadata": {},
   "source": [
    "## 3. 변수의 구간화\n",
    "\n",
    "신용평가모델, 고객 세분화 등 시스템으로 모형을 적용하기 위해서는 각 변수의 구간화 작업이 필요하다.\n",
    "1. **binning** : [Continuous 연속형] 변수를 [Categorial 범주형]으로 변환. 등간격으로 50개 이하로 나누어 각 구간을 병합하면서 줄여나가는 방식\n",
    "1. **의사결정나무** : 세분화 또는 예ㄱ에 활용되는 의사결정나무 모형을 활용"
   ]
  },
  {
   "cell_type": "markdown",
   "metadata": {},
   "source": [
    "----"
   ]
  }
 ],
 "metadata": {
  "kernelspec": {
   "display_name": "R",
   "language": "R",
   "name": "ir"
  },
  "language_info": {
   "codemirror_mode": "r",
   "file_extension": ".r",
   "mimetype": "text/x-r-source",
   "name": "R",
   "pygments_lexer": "r",
   "version": "3.5.1"
  }
 },
 "nbformat": 4,
 "nbformat_minor": 2
}
