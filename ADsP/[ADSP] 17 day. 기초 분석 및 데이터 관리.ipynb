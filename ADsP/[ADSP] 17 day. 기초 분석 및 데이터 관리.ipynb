{
 "cells": [
  {
   "cell_type": "markdown",
   "metadata": {},
   "source": [
    "<h1><center>Chapter03. 데이터 마트</center></h1>"
   ]
  },
  {
   "cell_type": "markdown",
   "metadata": {},
   "source": [
    "<h1><center>제 3절. 기초 분석 및 데이터 관리</center></h1>"
   ]
  },
  {
   "cell_type": "markdown",
   "metadata": {},
   "source": [
    "## 1. 결측값 처리\n",
    "\n",
    "결측값은 `NA, ., 999999..., Unkowon, Not Anser`등으로 표현되며 결측값을 적절히 처리하는 것이 중요하다.\n",
    "- 결측 : 계획된 실험에서 어떤 이유로 인해 이루어지지 못한 관측\n",
    "- **is.na()** : 결측값을 확인하는 명령어. \n",
    "- **colSums()** : 각 변수별 결측값을 확인.\n",
    "- **na.rm = TRUE** : 결측값을 제거하는 옵션.\n",
    "- **na.omit()** : 결측값이 있는 행 전체를 제거.\n",
    "- **complete.cases()** : 결측값이 있는 특정 행,열을 제거.\n",
    "- **$var** : 결측값을 다른 값으로 대체. `dataset$var[is.na(dataset$var)] <- New Data`\n",
    "- **sapply()** : 일괄적으로 작업할 때 사용."
   ]
  },
  {
   "cell_type": "markdown",
   "metadata": {},
   "source": [
    "### 결측값 예제\n",
    "http://rfriend.tistory.com/34"
   ]
  },
  {
   "cell_type": "code",
   "execution_count": 4,
   "metadata": {},
   "outputs": [
    {
     "data": {
      "text/html": [
       "<ol class=list-inline>\n",
       "\t<li>FALSE</li>\n",
       "\t<li>FALSE</li>\n",
       "\t<li>FALSE</li>\n",
       "\t<li>FALSE</li>\n",
       "\t<li>TRUE</li>\n",
       "\t<li>FALSE</li>\n",
       "\t<li>FALSE</li>\n",
       "\t<li>TRUE</li>\n",
       "\t<li>FALSE</li>\n",
       "\t<li>FALSE</li>\n",
       "\t<li>TRUE</li>\n",
       "</ol>\n"
      ],
      "text/latex": [
       "\\begin{enumerate*}\n",
       "\\item FALSE\n",
       "\\item FALSE\n",
       "\\item FALSE\n",
       "\\item FALSE\n",
       "\\item TRUE\n",
       "\\item FALSE\n",
       "\\item FALSE\n",
       "\\item TRUE\n",
       "\\item FALSE\n",
       "\\item FALSE\n",
       "\\item TRUE\n",
       "\\end{enumerate*}\n"
      ],
      "text/markdown": [
       "1. FALSE\n",
       "2. FALSE\n",
       "3. FALSE\n",
       "4. FALSE\n",
       "5. TRUE\n",
       "6. FALSE\n",
       "7. FALSE\n",
       "8. TRUE\n",
       "9. FALSE\n",
       "10. FALSE\n",
       "11. TRUE\n",
       "\n",
       "\n"
      ],
      "text/plain": [
       " [1] FALSE FALSE FALSE FALSE  TRUE FALSE FALSE  TRUE FALSE FALSE  TRUE"
      ]
     },
     "metadata": {},
     "output_type": "display_data"
    }
   ],
   "source": [
    "# 간단한 정보는 바로 결측값을 확인 가능\n",
    "x <- c(1,2,3,4,NA,6,7,NA,8,9,NA)\n",
    "is.na(x)"
   ]
  },
  {
   "cell_type": "code",
   "execution_count": 10,
   "metadata": {},
   "outputs": [
    {
     "data": {
      "text/html": [
       "13"
      ],
      "text/latex": [
       "13"
      ],
      "text/markdown": [
       "13"
      ],
      "text/plain": [
       "[1] 13"
      ]
     },
     "metadata": {},
     "output_type": "display_data"
    },
    {
     "data": {
      "text/html": [
       "0"
      ],
      "text/latex": [
       "0"
      ],
      "text/markdown": [
       "0"
      ],
      "text/plain": [
       "[1] 0"
      ]
     },
     "metadata": {},
     "output_type": "display_data"
    },
    {
     "data": {
      "text/html": [
       "<dl class=dl-horizontal>\n",
       "\t<dt>Manufacturer</dt>\n",
       "\t\t<dd>0</dd>\n",
       "\t<dt>Model</dt>\n",
       "\t\t<dd>0</dd>\n",
       "\t<dt>Type</dt>\n",
       "\t\t<dd>0</dd>\n",
       "\t<dt>Min.Price</dt>\n",
       "\t\t<dd>0</dd>\n",
       "\t<dt>Price</dt>\n",
       "\t\t<dd>0</dd>\n",
       "\t<dt>Max.Price</dt>\n",
       "\t\t<dd>0</dd>\n",
       "\t<dt>MPG.city</dt>\n",
       "\t\t<dd>0</dd>\n",
       "\t<dt>MPG.highway</dt>\n",
       "\t\t<dd>0</dd>\n",
       "\t<dt>AirBags</dt>\n",
       "\t\t<dd>0</dd>\n",
       "\t<dt>DriveTrain</dt>\n",
       "\t\t<dd>0</dd>\n",
       "\t<dt>Cylinders</dt>\n",
       "\t\t<dd>0</dd>\n",
       "\t<dt>EngineSize</dt>\n",
       "\t\t<dd>0</dd>\n",
       "\t<dt>Horsepower</dt>\n",
       "\t\t<dd>0</dd>\n",
       "\t<dt>RPM</dt>\n",
       "\t\t<dd>0</dd>\n",
       "\t<dt>Rev.per.mile</dt>\n",
       "\t\t<dd>0</dd>\n",
       "\t<dt>Man.trans.avail</dt>\n",
       "\t\t<dd>0</dd>\n",
       "\t<dt>Fuel.tank.capacity</dt>\n",
       "\t\t<dd>0</dd>\n",
       "\t<dt>Passengers</dt>\n",
       "\t\t<dd>0</dd>\n",
       "\t<dt>Length</dt>\n",
       "\t\t<dd>0</dd>\n",
       "\t<dt>Wheelbase</dt>\n",
       "\t\t<dd>0</dd>\n",
       "\t<dt>Width</dt>\n",
       "\t\t<dd>0</dd>\n",
       "\t<dt>Turn.circle</dt>\n",
       "\t\t<dd>0</dd>\n",
       "\t<dt>Rear.seat.room</dt>\n",
       "\t\t<dd>2</dd>\n",
       "\t<dt>Luggage.room</dt>\n",
       "\t\t<dd>11</dd>\n",
       "\t<dt>Weight</dt>\n",
       "\t\t<dd>0</dd>\n",
       "\t<dt>Origin</dt>\n",
       "\t\t<dd>0</dd>\n",
       "\t<dt>Make</dt>\n",
       "\t\t<dd>0</dd>\n",
       "</dl>\n"
      ],
      "text/latex": [
       "\\begin{description*}\n",
       "\\item[Manufacturer] 0\n",
       "\\item[Model] 0\n",
       "\\item[Type] 0\n",
       "\\item[Min.Price] 0\n",
       "\\item[Price] 0\n",
       "\\item[Max.Price] 0\n",
       "\\item[MPG.city] 0\n",
       "\\item[MPG.highway] 0\n",
       "\\item[AirBags] 0\n",
       "\\item[DriveTrain] 0\n",
       "\\item[Cylinders] 0\n",
       "\\item[EngineSize] 0\n",
       "\\item[Horsepower] 0\n",
       "\\item[RPM] 0\n",
       "\\item[Rev.per.mile] 0\n",
       "\\item[Man.trans.avail] 0\n",
       "\\item[Fuel.tank.capacity] 0\n",
       "\\item[Passengers] 0\n",
       "\\item[Length] 0\n",
       "\\item[Wheelbase] 0\n",
       "\\item[Width] 0\n",
       "\\item[Turn.circle] 0\n",
       "\\item[Rear.seat.room] 2\n",
       "\\item[Luggage.room] 11\n",
       "\\item[Weight] 0\n",
       "\\item[Origin] 0\n",
       "\\item[Make] 0\n",
       "\\end{description*}\n"
      ],
      "text/markdown": [
       "Manufacturer\n",
       ":   0Model\n",
       ":   0Type\n",
       ":   0Min.Price\n",
       ":   0Price\n",
       ":   0Max.Price\n",
       ":   0MPG.city\n",
       ":   0MPG.highway\n",
       ":   0AirBags\n",
       ":   0DriveTrain\n",
       ":   0Cylinders\n",
       ":   0EngineSize\n",
       ":   0Horsepower\n",
       ":   0RPM\n",
       ":   0Rev.per.mile\n",
       ":   0Man.trans.avail\n",
       ":   0Fuel.tank.capacity\n",
       ":   0Passengers\n",
       ":   0Length\n",
       ":   0Wheelbase\n",
       ":   0Width\n",
       ":   0Turn.circle\n",
       ":   0Rear.seat.room\n",
       ":   2Luggage.room\n",
       ":   11Weight\n",
       ":   0Origin\n",
       ":   0Make\n",
       ":   0\n",
       "\n"
      ],
      "text/plain": [
       "      Manufacturer              Model               Type          Min.Price \n",
       "                 0                  0                  0                  0 \n",
       "             Price          Max.Price           MPG.city        MPG.highway \n",
       "                 0                  0                  0                  0 \n",
       "           AirBags         DriveTrain          Cylinders         EngineSize \n",
       "                 0                  0                  0                  0 \n",
       "        Horsepower                RPM       Rev.per.mile    Man.trans.avail \n",
       "                 0                  0                  0                  0 \n",
       "Fuel.tank.capacity         Passengers             Length          Wheelbase \n",
       "                 0                  0                  0                  0 \n",
       "             Width        Turn.circle     Rear.seat.room       Luggage.room \n",
       "                 0                  0                  2                 11 \n",
       "            Weight             Origin               Make \n",
       "                 0                  0                  0 "
      ]
     },
     "metadata": {},
     "output_type": "display_data"
    }
   ],
   "source": [
    "# 결측값의 개수를 게산\n",
    "library(MASS)\n",
    "sum(is.na(Cars93))  # 전체 결측값\n",
    "sum(is.na(Cars93$Manufacturer))  # 특정 변수 결측값\n",
    "colSums(is.na(Cars93))  # 전체 변수별로 결측값"
   ]
  },
  {
   "cell_type": "code",
   "execution_count": 17,
   "metadata": {},
   "outputs": [
    {
     "data": {
      "text/html": [
       "&lt;NA&gt;"
      ],
      "text/latex": [
       "<NA>"
      ],
      "text/markdown": [
       "&lt;NA&gt;"
      ],
      "text/plain": [
       "[1] NA"
      ]
     },
     "metadata": {},
     "output_type": "display_data"
    },
    {
     "data": {
      "text/html": [
       "&lt;NA&gt;"
      ],
      "text/latex": [
       "<NA>"
      ],
      "text/markdown": [
       "&lt;NA&gt;"
      ],
      "text/plain": [
       "[1] NA"
      ]
     },
     "metadata": {},
     "output_type": "display_data"
    }
   ],
   "source": [
    "# 결측값이 포함된 데이터로 계산시 NA 처리됨.\n",
    "sum(Cars93$Luggage.room)   # NA\n",
    "mean(Cars93$Luggage.room)   # NA"
   ]
  },
  {
   "cell_type": "code",
   "execution_count": 18,
   "metadata": {},
   "outputs": [
    {
     "data": {
      "text/html": [
       "1139"
      ],
      "text/latex": [
       "1139"
      ],
      "text/markdown": [
       "1139"
      ],
      "text/plain": [
       "[1] 1139"
      ]
     },
     "metadata": {},
     "output_type": "display_data"
    },
    {
     "data": {
      "text/html": [
       "13.890243902439"
      ],
      "text/latex": [
       "13.890243902439"
      ],
      "text/markdown": [
       "13.890243902439"
      ],
      "text/plain": [
       "[1] 13.89024"
      ]
     },
     "metadata": {},
     "output_type": "display_data"
    }
   ],
   "source": [
    "# SUM, MEAN 등의 계산을 위핸 결측값을 제거\n",
    "sum(Cars93$Luggage.room, na.rm=T)\n",
    "mean(Cars93$Luggage.room, na.rm=T)"
   ]
  },
  {
   "cell_type": "code",
   "execution_count": 22,
   "metadata": {},
   "outputs": [
    {
     "data": {
      "text/html": [
       "0"
      ],
      "text/latex": [
       "0"
      ],
      "text/markdown": [
       "0"
      ],
      "text/plain": [
       "[1] 0"
      ]
     },
     "metadata": {},
     "output_type": "display_data"
    }
   ],
   "source": [
    "# 결측값이 들어있는 행 전체를 제거 \n",
    "Cars93.rmMissValue <- na.omit(Cars93)b\n",
    "sum(is.na(Cars93.rmMissValue))"
   ]
  },
  {
   "cell_type": "code",
   "execution_count": 71,
   "metadata": {},
   "outputs": [
    {
     "name": "stdout",
     "output_type": "stream",
     "text": [
      "결측값 수 / 전체 수 : 2 / 93 \n",
      "전체 결측값 수 :  9"
     ]
    }
   ],
   "source": [
    "# 특정 행과 열과 행을 제거\n",
    "# Rear.sear.room 칼럼 내 결측값이 있는 행 전체 선택\n",
    "rear <- Cars93[, \"Rear.seat.room\"]   # 26.5 30 28 31 27 28 30.5 ...\n",
    "rear.case <- complete.cases(rear)   # TRUE TRUE TRUE ...\n",
    "Cars93.rear <- Cars93[case,]        # rear.case가 FALSE인 행만 제거\n",
    "\n",
    "# 중간 점검\n",
    "cat('결측값 수 / 전체 수 :', sum(F == rear.case), '/', length(Cars93[, \"Rear.seat.room\"]), '\\n')\n",
    "\n",
    "# 결과\n",
    "cat('전체 결측값 수 : ', sum(is.na(Cars93.rear)))   # 12개 중 3개가 줄어 9개"
   ]
  },
  {
   "cell_type": "code",
   "execution_count": 110,
   "metadata": {},
   "outputs": [
    {
     "name": "stdout",
     "output_type": "stream",
     "text": [
      "총 행 개수 :  93 \n",
      "결측값 수 / 전체 수 : 11 / 93 \n",
      "dim : 82 27"
     ]
    }
   ],
   "source": [
    "# 23~24번째 칼럼중 결측값이 있는 행 전체 삭제\n",
    "'t3t4' <- Cars93[23:24]   # 26.5, 11, 30.0, 15, 28.0, 14\n",
    "t3t4.case <- complete.cases(t3t4)   # TRUE TRUE TRUE TRUE TRUE\n",
    "Cars93.t3t4 <- Cars93[t3t4.case, ]  # 23~24열중 FALSE인 행만 제거\n",
    "\n",
    "# 중간 점검\n",
    "cat('총 행 개수 : ', nrow(t3t4), '\\n')  # 총 93개의 행\n",
    "cat('결측값 수 / 전체 수 :', sum(F == t3t4.case), '/', nrow(Cars93[23:24]), '\\n')\n",
    "\n",
    "# 결과\n",
    "cat('dim :', dim(Cars93.t3t4) )  # 관측값이 82개로 11개 줄어듬"
   ]
  },
  {
   "cell_type": "code",
   "execution_count": 122,
   "metadata": {},
   "outputs": [
    {
     "name": "stdout",
     "output_type": "stream",
     "text": [
      "Luggage.room의 결측값 개수:  11 \n",
      "0으로 대체후 0의 개수 11 \n",
      "0으로 대체된 위치:  16 17 19 26 36 56 57 66 70 87 89"
     ]
    }
   ],
   "source": [
    "# 결측값을 다른 값으로 대체\n",
    "# Luggage.room의 결측값을 다른 값으로 대체\n",
    "cat('Luggage.room의 결측값 개수: ', sum(is.na(Cars93$Luggage.room)), '\\n')   # 11\n",
    "\n",
    "Cars93.new <- Cars93\n",
    "Cars93.new$Luggage.room[is.na(Cars93.new$Luggage.room)] <- 0  # 결측값을 0으로 채움\n",
    "\n",
    "cat('0으로 대체후 0의 개수', length(Cars93.new$Luggage.room[Cars93.new$Luggage.room==0]), '\\n')\n",
    "\n",
    "cat('0으로 대체된 위치: ', which(0==Cars93.new$Luggage.room))"
   ]
  },
  {
   "cell_type": "code",
   "execution_count": 127,
   "metadata": {},
   "outputs": [
    {
     "data": {
      "text/html": [
       "<ol class=list-inline>\n",
       "\t<li>11</li>\n",
       "\t<li>15</li>\n",
       "\t<li>14</li>\n",
       "\t<li>17</li>\n",
       "\t<li>13</li>\n",
       "\t<li>16</li>\n",
       "\t<li>17</li>\n",
       "\t<li>21</li>\n",
       "\t<li>14</li>\n",
       "\t<li>18</li>\n",
       "\t<li>14</li>\n",
       "\t<li>13</li>\n",
       "\t<li>14</li>\n",
       "\t<li>13</li>\n",
       "\t<li>16</li>\n",
       "\t<li>13.890243902439</li>\n",
       "\t<li>13.890243902439</li>\n",
       "\t<li>20</li>\n",
       "\t<li>13.890243902439</li>\n",
       "\t<li>15</li>\n",
       "\t<li>14</li>\n",
       "\t<li>17</li>\n",
       "\t<li>11</li>\n",
       "\t<li>13</li>\n",
       "\t<li>14</li>\n",
       "\t<li>13.890243902439</li>\n",
       "\t<li>16</li>\n",
       "\t<li>11</li>\n",
       "\t<li>11</li>\n",
       "\t<li>15</li>\n",
       "\t<li>12</li>\n",
       "\t<li>12</li>\n",
       "\t<li>13</li>\n",
       "\t<li>12</li>\n",
       "\t<li>18</li>\n",
       "\t<li>13.890243902439</li>\n",
       "\t<li>18</li>\n",
       "\t<li>21</li>\n",
       "\t<li>10</li>\n",
       "\t<li>11</li>\n",
       "\t<li>8</li>\n",
       "\t<li>12</li>\n",
       "\t<li>14</li>\n",
       "\t<li>11</li>\n",
       "\t<li>12</li>\n",
       "\t<li>9</li>\n",
       "\t<li>14</li>\n",
       "\t<li>15</li>\n",
       "\t<li>14</li>\n",
       "\t<li>9</li>\n",
       "\t<li>19</li>\n",
       "\t<li>22</li>\n",
       "\t<li>16</li>\n",
       "\t<li>13</li>\n",
       "\t<li>14</li>\n",
       "\t<li>13.890243902439</li>\n",
       "\t<li>13.890243902439</li>\n",
       "\t<li>12</li>\n",
       "\t<li>15</li>\n",
       "\t<li>6</li>\n",
       "\t<li>15</li>\n",
       "\t<li>11</li>\n",
       "\t<li>14</li>\n",
       "\t<li>12</li>\n",
       "\t<li>14</li>\n",
       "\t<li>13.890243902439</li>\n",
       "\t<li>14</li>\n",
       "\t<li>14</li>\n",
       "\t<li>16</li>\n",
       "\t<li>13.890243902439</li>\n",
       "\t<li>17</li>\n",
       "\t<li>8</li>\n",
       "\t<li>17</li>\n",
       "\t<li>13</li>\n",
       "\t<li>13</li>\n",
       "\t<li>16</li>\n",
       "\t<li>18</li>\n",
       "\t<li>14</li>\n",
       "\t<li>12</li>\n",
       "\t<li>10</li>\n",
       "\t<li>15</li>\n",
       "\t<li>14</li>\n",
       "\t<li>10</li>\n",
       "\t<li>11</li>\n",
       "\t<li>13</li>\n",
       "\t<li>15</li>\n",
       "\t<li>13.890243902439</li>\n",
       "\t<li>10</li>\n",
       "\t<li>13.890243902439</li>\n",
       "\t<li>14</li>\n",
       "\t<li>15</li>\n",
       "\t<li>14</li>\n",
       "\t<li>15</li>\n",
       "</ol>\n"
      ],
      "text/latex": [
       "\\begin{enumerate*}\n",
       "\\item 11\n",
       "\\item 15\n",
       "\\item 14\n",
       "\\item 17\n",
       "\\item 13\n",
       "\\item 16\n",
       "\\item 17\n",
       "\\item 21\n",
       "\\item 14\n",
       "\\item 18\n",
       "\\item 14\n",
       "\\item 13\n",
       "\\item 14\n",
       "\\item 13\n",
       "\\item 16\n",
       "\\item 13.890243902439\n",
       "\\item 13.890243902439\n",
       "\\item 20\n",
       "\\item 13.890243902439\n",
       "\\item 15\n",
       "\\item 14\n",
       "\\item 17\n",
       "\\item 11\n",
       "\\item 13\n",
       "\\item 14\n",
       "\\item 13.890243902439\n",
       "\\item 16\n",
       "\\item 11\n",
       "\\item 11\n",
       "\\item 15\n",
       "\\item 12\n",
       "\\item 12\n",
       "\\item 13\n",
       "\\item 12\n",
       "\\item 18\n",
       "\\item 13.890243902439\n",
       "\\item 18\n",
       "\\item 21\n",
       "\\item 10\n",
       "\\item 11\n",
       "\\item 8\n",
       "\\item 12\n",
       "\\item 14\n",
       "\\item 11\n",
       "\\item 12\n",
       "\\item 9\n",
       "\\item 14\n",
       "\\item 15\n",
       "\\item 14\n",
       "\\item 9\n",
       "\\item 19\n",
       "\\item 22\n",
       "\\item 16\n",
       "\\item 13\n",
       "\\item 14\n",
       "\\item 13.890243902439\n",
       "\\item 13.890243902439\n",
       "\\item 12\n",
       "\\item 15\n",
       "\\item 6\n",
       "\\item 15\n",
       "\\item 11\n",
       "\\item 14\n",
       "\\item 12\n",
       "\\item 14\n",
       "\\item 13.890243902439\n",
       "\\item 14\n",
       "\\item 14\n",
       "\\item 16\n",
       "\\item 13.890243902439\n",
       "\\item 17\n",
       "\\item 8\n",
       "\\item 17\n",
       "\\item 13\n",
       "\\item 13\n",
       "\\item 16\n",
       "\\item 18\n",
       "\\item 14\n",
       "\\item 12\n",
       "\\item 10\n",
       "\\item 15\n",
       "\\item 14\n",
       "\\item 10\n",
       "\\item 11\n",
       "\\item 13\n",
       "\\item 15\n",
       "\\item 13.890243902439\n",
       "\\item 10\n",
       "\\item 13.890243902439\n",
       "\\item 14\n",
       "\\item 15\n",
       "\\item 14\n",
       "\\item 15\n",
       "\\end{enumerate*}\n"
      ],
      "text/markdown": [
       "1. 11\n",
       "2. 15\n",
       "3. 14\n",
       "4. 17\n",
       "5. 13\n",
       "6. 16\n",
       "7. 17\n",
       "8. 21\n",
       "9. 14\n",
       "10. 18\n",
       "11. 14\n",
       "12. 13\n",
       "13. 14\n",
       "14. 13\n",
       "15. 16\n",
       "16. 13.890243902439\n",
       "17. 13.890243902439\n",
       "18. 20\n",
       "19. 13.890243902439\n",
       "20. 15\n",
       "21. 14\n",
       "22. 17\n",
       "23. 11\n",
       "24. 13\n",
       "25. 14\n",
       "26. 13.890243902439\n",
       "27. 16\n",
       "28. 11\n",
       "29. 11\n",
       "30. 15\n",
       "31. 12\n",
       "32. 12\n",
       "33. 13\n",
       "34. 12\n",
       "35. 18\n",
       "36. 13.890243902439\n",
       "37. 18\n",
       "38. 21\n",
       "39. 10\n",
       "40. 11\n",
       "41. 8\n",
       "42. 12\n",
       "43. 14\n",
       "44. 11\n",
       "45. 12\n",
       "46. 9\n",
       "47. 14\n",
       "48. 15\n",
       "49. 14\n",
       "50. 9\n",
       "51. 19\n",
       "52. 22\n",
       "53. 16\n",
       "54. 13\n",
       "55. 14\n",
       "56. 13.890243902439\n",
       "57. 13.890243902439\n",
       "58. 12\n",
       "59. 15\n",
       "60. 6\n",
       "61. 15\n",
       "62. 11\n",
       "63. 14\n",
       "64. 12\n",
       "65. 14\n",
       "66. 13.890243902439\n",
       "67. 14\n",
       "68. 14\n",
       "69. 16\n",
       "70. 13.890243902439\n",
       "71. 17\n",
       "72. 8\n",
       "73. 17\n",
       "74. 13\n",
       "75. 13\n",
       "76. 16\n",
       "77. 18\n",
       "78. 14\n",
       "79. 12\n",
       "80. 10\n",
       "81. 15\n",
       "82. 14\n",
       "83. 10\n",
       "84. 11\n",
       "85. 13\n",
       "86. 15\n",
       "87. 13.890243902439\n",
       "88. 10\n",
       "89. 13.890243902439\n",
       "90. 14\n",
       "91. 15\n",
       "92. 14\n",
       "93. 15\n",
       "\n",
       "\n"
      ],
      "text/plain": [
       " [1] 11.00000 15.00000 14.00000 17.00000 13.00000 16.00000 17.00000 21.00000\n",
       " [9] 14.00000 18.00000 14.00000 13.00000 14.00000 13.00000 16.00000 13.89024\n",
       "[17] 13.89024 20.00000 13.89024 15.00000 14.00000 17.00000 11.00000 13.00000\n",
       "[25] 14.00000 13.89024 16.00000 11.00000 11.00000 15.00000 12.00000 12.00000\n",
       "[33] 13.00000 12.00000 18.00000 13.89024 18.00000 21.00000 10.00000 11.00000\n",
       "[41]  8.00000 12.00000 14.00000 11.00000 12.00000  9.00000 14.00000 15.00000\n",
       "[49] 14.00000  9.00000 19.00000 22.00000 16.00000 13.00000 14.00000 13.89024\n",
       "[57] 13.89024 12.00000 15.00000  6.00000 15.00000 11.00000 14.00000 12.00000\n",
       "[65] 14.00000 13.89024 14.00000 14.00000 16.00000 13.89024 17.00000  8.00000\n",
       "[73] 17.00000 13.00000 13.00000 16.00000 18.00000 14.00000 12.00000 10.00000\n",
       "[81] 15.00000 14.00000 10.00000 11.00000 13.00000 15.00000 13.89024 10.00000\n",
       "[89] 13.89024 14.00000 15.00000 14.00000 15.00000"
      ]
     },
     "metadata": {},
     "output_type": "display_data"
    }
   ],
   "source": [
    "# 0이 아닌 평균값으로 대체\n",
    "# NA의 값이 해당 열의 평균값으로 대체\n",
    "Care93.missMean <- Cars93\n",
    "Care93.mlr <- Care93.missMean$Luggage.room\n",
    "Care93.mlr[is.na(Care93.mlr)] <- mean(Care93.mlr, na.rm=T)\n",
    "Care93.mlr"
   ]
  },
  {
   "cell_type": "code",
   "execution_count": 129,
   "metadata": {},
   "outputs": [
    {
     "data": {
      "text/html": [
       "0"
      ],
      "text/latex": [
       "0"
      ],
      "text/markdown": [
       "0"
      ],
      "text/plain": [
       "[1] 0"
      ]
     },
     "metadata": {},
     "output_type": "display_data"
    }
   ],
   "source": [
    "# 데이터 프레임의 모든 팽의 결측값을 0으로 일괄 대체\n",
    "Cars93_allCol <- Cars93\n",
    "Cars93_allCol[is.na(Cars93_allCol)] <- 0\n",
    "sum(is.na(Cars93_allCol))  # 0"
   ]
  },
  {
   "cell_type": "code",
   "execution_count": 162,
   "metadata": {},
   "outputs": [
    {
     "data": {
      "text/html": [
       "<dl class=dl-horizontal>\n",
       "\t<dt>Rear.seat.room</dt>\n",
       "\t\t<dd>1</dd>\n",
       "\t<dt>Luggage.room</dt>\n",
       "\t\t<dd>3</dd>\n",
       "</dl>\n"
      ],
      "text/latex": [
       "\\begin{description*}\n",
       "\\item[Rear.seat.room] 1\n",
       "\\item[Luggage.room] 3\n",
       "\\end{description*}\n"
      ],
      "text/markdown": [
       "Rear.seat.room\n",
       ":   1Luggage.room\n",
       ":   3\n",
       "\n"
      ],
      "text/plain": [
       "Rear.seat.room   Luggage.room \n",
       "             1              3 "
      ]
     },
     "metadata": {},
     "output_type": "display_data"
    },
    {
     "data": {
      "text/html": [
       "<table>\n",
       "<thead><tr><th></th><th scope=col>Rear.seat.room</th><th scope=col>Luggage.room</th></tr></thead>\n",
       "<tbody>\n",
       "\t<tr><th scope=row>15</th><td>28.5</td><td>16  </td></tr>\n",
       "\t<tr><th scope=row>16</th><td>30.5</td><td>NA  </td></tr>\n",
       "\t<tr><th scope=row>17</th><td>33.5</td><td>NA  </td></tr>\n",
       "\t<tr><th scope=row>18</th><td>29.5</td><td>20  </td></tr>\n",
       "\t<tr><th scope=row>19</th><td>  NA</td><td>NA  </td></tr>\n",
       "\t<tr><th scope=row>20</th><td>31.0</td><td>15  </td></tr>\n",
       "</tbody>\n",
       "</table>\n"
      ],
      "text/latex": [
       "\\begin{tabular}{r|ll}\n",
       "  & Rear.seat.room & Luggage.room\\\\\n",
       "\\hline\n",
       "\t15 & 28.5 & 16  \\\\\n",
       "\t16 & 30.5 & NA  \\\\\n",
       "\t17 & 33.5 & NA  \\\\\n",
       "\t18 & 29.5 & 20  \\\\\n",
       "\t19 &   NA & NA  \\\\\n",
       "\t20 & 31.0 & 15  \\\\\n",
       "\\end{tabular}\n"
      ],
      "text/markdown": [
       "\n",
       "| <!--/--> | Rear.seat.room | Luggage.room | \n",
       "|---|---|---|---|---|---|\n",
       "| 15 | 28.5 | 16   | \n",
       "| 16 | 30.5 | NA   | \n",
       "| 17 | 33.5 | NA   | \n",
       "| 18 | 29.5 | 20   | \n",
       "| 19 |   NA | NA   | \n",
       "| 20 | 31.0 | 15   | \n",
       "\n",
       "\n"
      ],
      "text/plain": [
       "   Rear.seat.room Luggage.room\n",
       "15 28.5           16          \n",
       "16 30.5           NA          \n",
       "17 33.5           NA          \n",
       "18 29.5           20          \n",
       "19   NA           NA          \n",
       "20 31.0           15          "
      ]
     },
     "metadata": {},
     "output_type": "display_data"
    },
    {
     "data": {
      "text/html": [
       "<dl class=dl-horizontal>\n",
       "\t<dt>Rear.seat.room</dt>\n",
       "\t\t<dd>29.1052631578947</dd>\n",
       "\t<dt>Luggage.room</dt>\n",
       "\t\t<dd>15.3529411764706</dd>\n",
       "</dl>\n"
      ],
      "text/latex": [
       "\\begin{description*}\n",
       "\\item[Rear.seat.room] 29.1052631578947\n",
       "\\item[Luggage.room] 15.3529411764706\n",
       "\\end{description*}\n"
      ],
      "text/markdown": [
       "Rear.seat.room\n",
       ":   29.1052631578947Luggage.room\n",
       ":   15.3529411764706\n",
       "\n"
      ],
      "text/plain": [
       "Rear.seat.room   Luggage.room \n",
       "      29.10526       15.35294 "
      ]
     },
     "metadata": {},
     "output_type": "display_data"
    },
    {
     "data": {
      "text/html": [
       "<table>\n",
       "<thead><tr><th></th><th scope=col>Rear.seat.room</th><th scope=col>Luggage.room</th></tr></thead>\n",
       "<tbody>\n",
       "\t<tr><th scope=row>15</th><td>28.50000</td><td>16.00000</td></tr>\n",
       "\t<tr><th scope=row>16</th><td>30.50000</td><td>15.35294</td></tr>\n",
       "\t<tr><th scope=row>17</th><td>33.50000</td><td>15.35294</td></tr>\n",
       "\t<tr><th scope=row>18</th><td>29.50000</td><td>20.00000</td></tr>\n",
       "\t<tr><th scope=row>19</th><td>29.10526</td><td>15.35294</td></tr>\n",
       "\t<tr><th scope=row>20</th><td>31.00000</td><td>15.00000</td></tr>\n",
       "</tbody>\n",
       "</table>\n"
      ],
      "text/latex": [
       "\\begin{tabular}{r|ll}\n",
       "  & Rear.seat.room & Luggage.room\\\\\n",
       "\\hline\n",
       "\t15 & 28.50000 & 16.00000\\\\\n",
       "\t16 & 30.50000 & 15.35294\\\\\n",
       "\t17 & 33.50000 & 15.35294\\\\\n",
       "\t18 & 29.50000 & 20.00000\\\\\n",
       "\t19 & 29.10526 & 15.35294\\\\\n",
       "\t20 & 31.00000 & 15.00000\\\\\n",
       "\\end{tabular}\n"
      ],
      "text/markdown": [
       "\n",
       "| <!--/--> | Rear.seat.room | Luggage.room | \n",
       "|---|---|---|---|---|---|\n",
       "| 15 | 28.50000 | 16.00000 | \n",
       "| 16 | 30.50000 | 15.35294 | \n",
       "| 17 | 33.50000 | 15.35294 | \n",
       "| 18 | 29.50000 | 20.00000 | \n",
       "| 19 | 29.10526 | 15.35294 | \n",
       "| 20 | 31.00000 | 15.00000 | \n",
       "\n",
       "\n"
      ],
      "text/plain": [
       "   Rear.seat.room Luggage.room\n",
       "15 28.50000       16.00000    \n",
       "16 30.50000       15.35294    \n",
       "17 33.50000       15.35294    \n",
       "18 29.50000       20.00000    \n",
       "19 29.10526       15.35294    \n",
       "20 31.00000       15.00000    "
      ]
     },
     "metadata": {},
     "output_type": "display_data"
    }
   ],
   "source": [
    "# 각 변수의 결측값을 변수별 평균값으로 일괄 대체\n",
    "# sapply()함수로 일괄적으로 작업 가능\n",
    "Cars93_sapply <- Cars93[1:20, c(\"Rear.seat.room\", \"Luggage.room\")]  # 1부터 20행까지 rear와 luggage 칼럼\n",
    "colSums(is.na(Cars93_sapply))  # 각 1, 3개의 결측치\n",
    "\n",
    "tail(Cars93_sapply)  # 테이블로 보면 NA 확인 가능\n",
    "\n",
    "sapply(Cars93_sapply, function(x) mean(x, na.rm=T))  # 각 행별 평균을 구하는 공식\n",
    "       \n",
    "Cars93_sapply_table <- data.frame(\n",
    "                            sapply(\n",
    "                                Cars93_sapply, \n",
    "                                function(x) \n",
    "                                    ifelse(is.na(x), mean(x, na.rm=T), x)\n",
    "                                )\n",
    "                            )\n",
    "       \n",
    "# 테이블로 표시하면 평균값으로 바뀐 걸 확인 가능\n",
    "tail(Cars93_sapply_table)"
   ]
  },
  {
   "cell_type": "markdown",
   "metadata": {},
   "source": [
    "### 1_1. 결측값이 의미 있는 경우\n",
    "- 쇼핑몰 가입자 중 특정 거래가 존재하지 않는 경우.\n",
    "- 인구통계학 데이터에서, 아주 부자거나 아주 가난한 경우를 구분할 때.\n",
    "\n",
    "### 1_2. 결측값 처리의 영향\n",
    "- 이상값은 반드시 제거할 데이터가 아니므로 분석 목적에 따라 적절히 처리.\n",
    "- `na.rm=T` 옵션으로 결측값을 제거하여 계산 가능."
   ]
  },
  {
   "cell_type": "markdown",
   "metadata": {},
   "source": [
    "## 2. 결측값 처리 방법\n",
    "\n",
    "### 2_1. [SI Single Imputation 단순대치법]\n",
    "1. 결측값이 존재하는 레코드를 삭제\n",
    "2. **[Mean Imputation 평균대치법]** : 평균 데이터로 대치. 비조건부와 조건부 평균 대치법으로 구분.\n",
    "3. **[Single Stochastic Imputation 단순확률대치법]** : 평균대치법을 표준오차 문제를 보완.\n",
    "    - Hot-deck, Nearest-neighbor 방법\n",
    "    \n",
    "### 2_2 [MI Mutiple Imputation 다중대치법]\n",
    "단순대치법을 여러번 실행하여 m번의 대치로 m개의 자료를 만드는 방법이다.\n",
    "- 1단계 [Imputation 대치], 2단계 [Aanalysis 분석], 3단계 [Comvination 결합]\n",
    "- Amelia-time series cross sectional dataset : 세계 여러 나라에서 특정한 데이터를 활용한 다중 대치법"
   ]
  },
  {
   "cell_type": "markdown",
   "metadata": {},
   "source": [
    "## 3.R에서 결측값 처리\n",
    "\n",
    "### 3_1. [Random Forest 랜덤 포레스트] \n",
    "랜덤 포레스트 모델은 결측값이 존재할 경우 바로 에러 발생하므로 rflmpute()함수를 사용하여 NA를 제거하여 적용한다.\n",
    "\n",
    "### 3_2 결측값 관련 함수\n",
    "1. `complte.case()` : 레코드내에 결측값이 있으면 FALSE, 아니면 TRUE를 반환\n",
    "1. `is.na()` : 데이터 내에 결측값이 있으면 TRUE, 아니면 TURE를 반환\n",
    "1. `centralImputation()` : DMwR 패키지, NA값에 가운데 값으로 대치\n",
    "1. `knnImputation()` : NA값을 k최근접 이웃 분류 알고리즘을 사용하여 대치\n",
    "1. `amelia()` : time series cross sectional dataset에서 활용"
   ]
  },
  {
   "cell_type": "markdown",
   "metadata": {},
   "source": [
    "## 4. 이상값 찾기와 처리\n",
    "\n",
    "### 4_1. [Outlier 이상값]\n",
    "의도하지 않게 잘못 입력하거나 분석 목적에 부합하지 않아 제거해야 하는 데이터.\n",
    "\n",
    "### 4_2. 이상값 인식 방법\n",
    "1. [ESD Extreme Studentized Deviation] : 평균으로 부터 표준편차 3이상 떨어진 값\n",
    "    - 기하평균 - 2.5 x 표준편차 < data < 기하평균 + 2.5 x 표준편차 \n",
    "1. 사분위수로 상자 밖의 값을 제거.\n",
    "    - Q1 - 2.5(Q3-Q1) < data < Q3 - 2.5(Q3-Q1)\n",
    "    \n",
    "### 4_3 극단값 [Trimming 절단] 방법\n",
    "1. `geo_mean` : 기하평균을 이용하여 제거\n",
    "1. 하단, 상단 5%(전체 10%) 제거\n",
    "\n",
    "### 4_4 극단값[Winsorizing  조정] 방법\n",
    "1. 상한값과 하한값을 벗어나는 값을 하한, 상한 값으로 바꾸어 활용"
   ]
  },
  {
   "cell_type": "markdown",
   "metadata": {},
   "source": [
    "----"
   ]
  }
 ],
 "metadata": {
  "kernelspec": {
   "display_name": "R",
   "language": "R",
   "name": "ir"
  },
  "language_info": {
   "codemirror_mode": "r",
   "file_extension": ".r",
   "mimetype": "text/x-r-source",
   "name": "R",
   "pygments_lexer": "r",
   "version": "3.5.1"
  }
 },
 "nbformat": 4,
 "nbformat_minor": 2
}
