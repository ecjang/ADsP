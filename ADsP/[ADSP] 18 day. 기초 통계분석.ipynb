{
 "cells": [
  {
   "cell_type": "markdown",
   "metadata": {},
   "source": [
    "<h1><center>Chapter04. 통계분석</center></h1>"
   ]
  },
  {
   "cell_type": "markdown",
   "metadata": {},
   "source": [
    "<h1><center>제 2절. 기초 통계분석</center></h1>"
   ]
  },
  {
   "cell_type": "markdown",
   "metadata": {},
   "source": [
    "### 학습목표\n",
    "1. 기술통계에 대한 이해\n",
    "1. 통계량과 그래프에 의한 자료 정리와 R프로그래밍\n",
    "1. 상관관계 분석의 정의와 활용 방법\n",
    "\n",
    "### 기술통계란?\n",
    "데이터 분석에서 가장 먼저 수행되며, 자료의 특성을 표, 그림, 통계량 등을 사용하여 쉽게 파악할 수 있도록 정리 및 요약하는 것을 의미한다.\n",
    "\n",
    "### 기술통계 및 그래프를 활용한 기술통계방법\n",
    "- 기술통계에 활용되는 통계량 : 최소, 최대, 평균, 분산, 중앙값, 사분위수, 왜도, 첨도  등\n",
    "- 그래프를 활용한 기술통계방법 : 막대그래프, 히스토그램, 줄기잎그림, 상자그림, 꺽은선 그래프 등\n",
    "\n",
    "### 상관분석\n",
    "두 변수간의 관계를 분석하기 위해서 공분산과 상관계수를 활용한다. \n",
    "- 양의 상관관계 : 한 변수가 증가할 때 다른 변수도 증가\n",
    "- 음의 상관관계 : 한 변수가 증가할 때 다른 변수가 감소"
   ]
  },
  {
   "cell_type": "markdown",
   "metadata": {},
   "source": [
    "----"
   ]
  },
  {
   "cell_type": "markdown",
   "metadata": {},
   "source": [
    "## 1. [Descriptive Statistics 기술통계]\n",
    "\n",
    "### 1_1. 기술통계의 정의\n",
    "\n",
    "자료의 특성을 쉽게 파악하기 위해 표, 그림, 통계량 등으로 요약 및 정리하는 것을 의미한다. 데이터 분석을 하기 전에 대약적인 이해와 분석에 대한 통찰력을 파악하기 위해 사용한다.\n",
    "- Descriptive는 \"묘사하는, 그려서 설명하는\" 이라는 의미. \n",
    "- 1. 대표하는 값이 무엇인지, 어떤 값에 집중되어 있는지 다루는 기법\n",
    "- 2. 어떻게 퍼져있는지 설명하는 기법.(=[Variation 분산도])\n"
   ]
  },
  {
   "cell_type": "markdown",
   "metadata": {},
   "source": [
    "### 1_2. 통계량에 의한 자료 정리\n",
    "\n",
    "\n",
    "#### 1_2_1. 중심위치의 측도\n",
    "\n",
    "1. **[Data 자료]** : 표본들의 원소. x1, x2, x3, ...\n",
    "1. **[Sample Mean 표본평균]** : 표본집단의 평균, $ \\sum_{i=1}^{n} x_i/n $\n",
    "1. **[median 중앙값]** : 자료를 크기순으로 나열시 중앙에 위치하는 값. (n+1)/2\n",
    "    - n이 짝수일경우 -(n/2)번째와 n/2+1번째 값의 평균\n",
    "\n",
    "#### 1_2_2 [Dispersion 산포도]\n",
    "대표적인 산포도는 분산, 표준편차, 범위 및 사분위수 범위가 있다.\n",
    "\n",
    "1. **[Variance 분산]** : $ s^2 = \\frac{1}{n-1}\\sum^{n}_{i=1}(x_i-\\bar{x})^2 $\n",
    "    <BR><BR>\n",
    "1. **[Standared Deviation 표준편차]** :  $ s = \\sqrt{\\frac{1}{n-1}\\sum^{n}_{i=1}(x_i-\\bar{x})^2} $\n",
    "    <BR><BR>\n",
    "1. **[Range 범위]** : 최댓값 - 최솟값, $ R = x_{p} - x_{1} $\n",
    "    <BR><BR>\n",
    "1. **[InterQuartile Range 사분위수 범위]** : $ IQR = Q3 - Q1 $. \n",
    "    <BR><BR>\n",
    "1. **[InterQuartile 사분위수]** : 1사분위수는 25%이내, 2사분위는 50%이내, 3사분위는 75%이내\n",
    "    <BR><BR>\n",
    "1. **[Percentile 백분위수]** : $ (n-1)\\ p/100+1 $번째 값\n",
    "    <BR><BR>\n",
    "1. **[Coefficient of Variantion 변동계수]** : 표준편차를 산술평균으로 나눈수. $ v=s/\\bar{x} $\n",
    "    - [RSD Relative Standard Deviation 상대표준편차]와 같음.\n",
    "    - 측정 단위가 서로 다른 자료를 비교할 때 활용. 변동계수가 클수록 상대적인 차이가 큼.\n",
    "    <BR><BR>\n",
    "1. **[SEM Standard Error of Mean 평균의 표준오차]** : 표본 평균 분포의 표준 편차\n",
    "    - [SE Standard Error 표준오차] 와 같음. 평균값이 얼마나 정확한가를 표시하는 값. \n",
    "    - 표준편차를 시행횟수의 제곱근으로 나누어서 계산.(s / $\\sqrt{n}$)\n",
    "    - 시행횟수가 작을 수록 표준오차는 커지고, 시행횟수가 많을 수록 표준오차는 작아짐.\n",
    "\n",
    "\n",
    "#### 1_2_3 분포의 형태\n",
    "\n",
    "1. **[Skewness 왜도, 비대칭도]** : 분포의 비대칭정도, 음수면 오른쪽으로 양수면 왼쪽으로 치우친다.\n",
    "    - [Pearson's Skewness Coefficient 피어슨의 비대칭 계수] : 칼피어슨의 비대칭도 측정을 간편화.\n",
    "    - 피어슨의 비대칭도 : (평균-최빈값) / 표준편차, 3(평균-최빈값)/표준편차, 3(평균-중앙값)/표준편차\n",
    "    - $ Cs = 3\\times(평균-중앙값) $ 으로 계산\n",
    "    - 중앙값, 최빈값, 평균이 일치하면 정규분포, 0보다 크면 왼쪽으로, 0보다 작으면 오른쪽으로 치우침.\n",
    "    <BR><BR>\n",
    "    \n",
    "1. **[kurtosis 첨도, 커토시스]** : 분포의 뾰족한 정도, 양수일수록 위로 뾰족해진다.\n",
    "    - 관측치들이 어느 정도 집중적으로 몰려 있는가를 측정할 때 사용\n",
    "    - 3에 가까울 수록 산포도가 정규분포에 가까움\n",
    "    - 3보다 작으면 완만해지고, 3보다 크면 뾰족해짐."
   ]
  },
  {
   "cell_type": "markdown",
   "metadata": {},
   "source": [
    "### 1_3. 그래프를 이용한 자료 정리\n",
    "\n",
    "1. **[Histogram 히스토그램]** : 도수분포표를 그래프로 표현.\n",
    "    - 보통 가로축이 계급, 세로축이 도수를 의미하지만 때때로 반대로 그리기도 함.\n",
    "    - 계급끼리는 서로 붙어 있어야 하며 가로와 세로를 함께 고려해야 함.\n",
    "    - 계급의 수와 간격이 변하면 그래프 모양이 변할 수 있음.\n",
    "    - 막대그래프 : [Category 범주]형 데이터(직업, 종교, 음식 등)을 표현, 순서 교체 가능.\n",
    "    - 히스토그램 : [Continuous 연속]형 데이터(몸무게, 성적, 연봉 등)을 표현, 정해진 순서, 막대 간격 없음.\n",
    "        - 계급의 수 : $\\log_{2}{n}=k$를 만족하는 최소의 정수\n",
    "        - 계급의 간격 : (최대값-최소값)/n\n",
    "     <BR><BR>\n",
    "    \n",
    "1. **[Stem-and Leaf Plot 줄기 잎 그림]** : 표와 그래프의 혼합된 방법으로 표현.\n",
    "    - 대표적으로 지하철 시간표가 이런 표에 속함.\n",
    "    - 자료가 순서대로 나열되어, 사분위수나 중간값을 쉽게 파악.\n",
    "    - 전체적인 모양과 이상치의 여부를 한 눈에 쉽게 파악 가능.\n",
    "    - 관측값을 줄기와 잎으로 나누며 보통 줄기는 2가지 이상이고 잎은 1자리 수\n",
    "    - 왼쪽에 줄기를 작은 값부터 쓰고 이후 잎을 채움\n",
    "    <BR><BR>\n",
    "    \n",
    "1. **[Box Plot 박스 그림, 상자수염그림]** : 사분위수를 그림으로 표현\n",
    "    - 5가지 요약 수치 : 최솟값, 1사분위수, 2사분위수, 3사분위수, 최댓값\n",
    "    - 사분위수 계산 = Q3 -Q1\n",
    "    - [Inner Fence 안울타리] : 안에 있으면 정상범위를 의미. Q1-1.5xIQR , Q3+1.5xIQR\n",
    "    - [Outer Fence 바깥울타리] : 이 밖으로 나가면 극단 이상값. Q1-3xIQR, Q3+3xIQR\n",
    "    - [Mild Outlier 보통이상점] : 안울타리와 바깥울타리 사이에 있는 자료\n",
    "    - [Exreame Outlier 극단이상점] : 바깥울타리 밖의 자료"
   ]
  },
  {
   "cell_type": "code",
   "execution_count": 16,
   "metadata": {},
   "outputs": [
    {
     "data": {
      "text/html": [
       "<table>\n",
       "<thead><tr><th scope=col>Ozone</th><th scope=col>Solar.R</th><th scope=col>Wind</th><th scope=col>Temp</th><th scope=col>Month</th><th scope=col>Day</th></tr></thead>\n",
       "<tbody>\n",
       "\t<tr><td>41  </td><td>190 </td><td> 7.4</td><td>67  </td><td>5   </td><td>1   </td></tr>\n",
       "\t<tr><td>36  </td><td>118 </td><td> 8.0</td><td>72  </td><td>5   </td><td>2   </td></tr>\n",
       "\t<tr><td>12  </td><td>149 </td><td>12.6</td><td>74  </td><td>5   </td><td>3   </td></tr>\n",
       "\t<tr><td>18  </td><td>313 </td><td>11.5</td><td>62  </td><td>5   </td><td>4   </td></tr>\n",
       "\t<tr><td>NA  </td><td> NA </td><td>14.3</td><td>56  </td><td>5   </td><td>5   </td></tr>\n",
       "\t<tr><td>28  </td><td> NA </td><td>14.9</td><td>66  </td><td>5   </td><td>6   </td></tr>\n",
       "</tbody>\n",
       "</table>\n"
      ],
      "text/latex": [
       "\\begin{tabular}{r|llllll}\n",
       " Ozone & Solar.R & Wind & Temp & Month & Day\\\\\n",
       "\\hline\n",
       "\t 41   & 190  &  7.4 & 67   & 5    & 1   \\\\\n",
       "\t 36   & 118  &  8.0 & 72   & 5    & 2   \\\\\n",
       "\t 12   & 149  & 12.6 & 74   & 5    & 3   \\\\\n",
       "\t 18   & 313  & 11.5 & 62   & 5    & 4   \\\\\n",
       "\t NA   &  NA  & 14.3 & 56   & 5    & 5   \\\\\n",
       "\t 28   &  NA  & 14.9 & 66   & 5    & 6   \\\\\n",
       "\\end{tabular}\n"
      ],
      "text/markdown": [
       "\n",
       "Ozone | Solar.R | Wind | Temp | Month | Day | \n",
       "|---|---|---|---|---|---|\n",
       "| 41   | 190  |  7.4 | 67   | 5    | 1    | \n",
       "| 36   | 118  |  8.0 | 72   | 5    | 2    | \n",
       "| 12   | 149  | 12.6 | 74   | 5    | 3    | \n",
       "| 18   | 313  | 11.5 | 62   | 5    | 4    | \n",
       "| NA   |  NA  | 14.3 | 56   | 5    | 5    | \n",
       "| 28   |  NA  | 14.9 | 66   | 5    | 6    | \n",
       "\n",
       "\n"
      ],
      "text/plain": [
       "  Ozone Solar.R Wind Temp Month Day\n",
       "1 41    190      7.4 67   5     1  \n",
       "2 36    118      8.0 72   5     2  \n",
       "3 12    149     12.6 74   5     3  \n",
       "4 18    313     11.5 62   5     4  \n",
       "5 NA     NA     14.3 56   5     5  \n",
       "6 28     NA     14.9 66   5     6  "
      ]
     },
     "metadata": {},
     "output_type": "display_data"
    }
   ],
   "source": [
    "# airquality 데이터로 기술통계 계산\n",
    "\n",
    "# 상위 5개 표시\n",
    "head(airquality)   "
   ]
  },
  {
   "cell_type": "code",
   "execution_count": 17,
   "metadata": {},
   "outputs": [
    {
     "data": {
      "text/plain": [
       "     Ozone           Solar.R           Wind             Temp      \n",
       " Min.   :  1.00   Min.   :  7.0   Min.   : 1.700   Min.   :56.00  \n",
       " 1st Qu.: 18.00   1st Qu.:115.8   1st Qu.: 7.400   1st Qu.:72.00  \n",
       " Median : 31.50   Median :205.0   Median : 9.700   Median :79.00  \n",
       " Mean   : 42.13   Mean   :185.9   Mean   : 9.958   Mean   :77.88  \n",
       " 3rd Qu.: 63.25   3rd Qu.:258.8   3rd Qu.:11.500   3rd Qu.:85.00  \n",
       " Max.   :168.00   Max.   :334.0   Max.   :20.700   Max.   :97.00  \n",
       " NA's   :37       NA's   :7                                       \n",
       "     Month            Day      \n",
       " Min.   :5.000   Min.   : 1.0  \n",
       " 1st Qu.:6.000   1st Qu.: 8.0  \n",
       " Median :7.000   Median :16.0  \n",
       " Mean   :6.993   Mean   :15.8  \n",
       " 3rd Qu.:8.000   3rd Qu.:23.0  \n",
       " Max.   :9.000   Max.   :31.0  \n",
       "                               "
      ]
     },
     "metadata": {},
     "output_type": "display_data"
    }
   ],
   "source": [
    "# 요약 정보\n",
    "summary(airquality)"
   ]
  },
  {
   "cell_type": "code",
   "execution_count": 22,
   "metadata": {},
   "outputs": [
    {
     "data": {
      "text/html": [
       "42.1293103448276"
      ],
      "text/latex": [
       "42.1293103448276"
      ],
      "text/markdown": [
       "42.1293103448276"
      ],
      "text/plain": [
       "[1] 42.12931"
      ]
     },
     "metadata": {},
     "output_type": "display_data"
    },
    {
     "data": {
      "text/html": [
       "<dl class=dl-horizontal>\n",
       "\t<dt>Ozone</dt>\n",
       "\t\t<dd>4887</dd>\n",
       "\t<dt>Solar.R</dt>\n",
       "\t\t<dd>27146</dd>\n",
       "\t<dt>Wind</dt>\n",
       "\t\t<dd>1523.5</dd>\n",
       "\t<dt>Temp</dt>\n",
       "\t\t<dd>11916</dd>\n",
       "\t<dt>Month</dt>\n",
       "\t\t<dd>1070</dd>\n",
       "\t<dt>Day</dt>\n",
       "\t\t<dd>2418</dd>\n",
       "</dl>\n"
      ],
      "text/latex": [
       "\\begin{description*}\n",
       "\\item[Ozone] 4887\n",
       "\\item[Solar.R] 27146\n",
       "\\item[Wind] 1523.5\n",
       "\\item[Temp] 11916\n",
       "\\item[Month] 1070\n",
       "\\item[Day] 2418\n",
       "\\end{description*}\n"
      ],
      "text/markdown": [
       "Ozone\n",
       ":   4887Solar.R\n",
       ":   27146Wind\n",
       ":   1523.5Temp\n",
       ":   11916Month\n",
       ":   1070Day\n",
       ":   2418\n",
       "\n"
      ],
      "text/plain": [
       "  Ozone Solar.R    Wind    Temp   Month     Day \n",
       " 4887.0 27146.0  1523.5 11916.0  1070.0  2418.0 "
      ]
     },
     "metadata": {},
     "output_type": "display_data"
    }
   ],
   "source": [
    "mean(airquality$Ozone, na.rm=T)   # 칼럼 평균\n",
    "colSums(airquality, na.rm=T)      # 전체 칼럼 평균"
   ]
  },
  {
   "cell_type": "code",
   "execution_count": 25,
   "metadata": {},
   "outputs": [
    {
     "data": {
      "text/html": [
       "31.5"
      ],
      "text/latex": [
       "31.5"
      ],
      "text/markdown": [
       "31.5"
      ],
      "text/plain": [
       "[1] 31.5"
      ]
     },
     "metadata": {},
     "output_type": "display_data"
    }
   ],
   "source": [
    "median(airquality$Ozone, na.rm=T)  # 중앙값 "
   ]
  },
  {
   "cell_type": "code",
   "execution_count": 30,
   "metadata": {},
   "outputs": [
    {
     "data": {
      "text/html": [
       "32.987884514434"
      ],
      "text/latex": [
       "32.987884514434"
      ],
      "text/markdown": [
       "32.987884514434"
      ],
      "text/plain": [
       "[1] 32.98788"
      ]
     },
     "metadata": {},
     "output_type": "display_data"
    },
    {
     "data": {
      "text/html": [
       "1088.20052473763"
      ],
      "text/latex": [
       "1088.20052473763"
      ],
      "text/markdown": [
       "1088.20052473763"
      ],
      "text/plain": [
       "[1] 1088.201"
      ]
     },
     "metadata": {},
     "output_type": "display_data"
    }
   ],
   "source": [
    "sd(airquality$Ozone, na.rm=T)   # 표준편차\n",
    "var(airquality$Ozone, na.rm=T)  # 분산"
   ]
  },
  {
   "cell_type": "code",
   "execution_count": 29,
   "metadata": {},
   "outputs": [
    {
     "data": {
      "text/html": [
       "<dl class=dl-horizontal>\n",
       "\t<dt>0%</dt>\n",
       "\t\t<dd>1</dd>\n",
       "\t<dt>25%</dt>\n",
       "\t\t<dd>18</dd>\n",
       "\t<dt>50%</dt>\n",
       "\t\t<dd>31.5</dd>\n",
       "\t<dt>75%</dt>\n",
       "\t\t<dd>63.25</dd>\n",
       "\t<dt>100%</dt>\n",
       "\t\t<dd>168</dd>\n",
       "</dl>\n"
      ],
      "text/latex": [
       "\\begin{description*}\n",
       "\\item[0\\textbackslash{}\\%] 1\n",
       "\\item[25\\textbackslash{}\\%] 18\n",
       "\\item[50\\textbackslash{}\\%] 31.5\n",
       "\\item[75\\textbackslash{}\\%] 63.25\n",
       "\\item[100\\textbackslash{}\\%] 168\n",
       "\\end{description*}\n"
      ],
      "text/markdown": [
       "0%\n",
       ":   125%\n",
       ":   1850%\n",
       ":   31.575%\n",
       ":   63.25100%\n",
       ":   168\n",
       "\n"
      ],
      "text/plain": [
       "    0%    25%    50%    75%   100% \n",
       "  1.00  18.00  31.50  63.25 168.00 "
      ]
     },
     "metadata": {},
     "output_type": "display_data"
    }
   ],
   "source": [
    "quantile(airquality$Ozone, na.rm=T)  # 분위수"
   ]
  },
  {
   "cell_type": "markdown",
   "metadata": {},
   "source": [
    "----"
   ]
  },
  {
   "cell_type": "markdown",
   "metadata": {},
   "source": [
    "## 2. 인과관계의 이해\n",
    "\n",
    "\n",
    "### 2_1. 용어\n",
    "1. **[Dependent Variable 종속변수, 반응변수, y]** : 다른 변수의 영향을 받는 변수\n",
    "    <BR><BR>\n",
    "1. **[InDependent Variable 독립변수, 설명변수, x]** : 영향을 주는 변수\n",
    "    <BR><BR>\n",
    "1. **[Scatter Plot 산점도]** : 좌표평면 위에 점들로표현\n",
    "        \n",
    "### 2_2. [Covariance 공분산]\n",
    "두 확률변수 X, Y의 방향의 조합(선형성)이다. X,Y가 서로 독립이면 $Cov(x,y)=0$이다."
   ]
  },
  {
   "cell_type": "markdown",
   "metadata": {},
   "source": [
    "----"
   ]
  },
  {
   "cell_type": "markdown",
   "metadata": {},
   "source": [
    "## 3. [Correlation Analysis 상관분석]\n",
    "\n",
    "\n",
    "### 3_1. 상관분석 정의\n",
    "두 변수의 상관관계를 알아보기 위해 [Correlation Coefficient 상광계수]를 이용한다.\n",
    "- 상관계수가 **1에 가까울 수록 강한 양의 상관관계가, -1에 가까울 수록 강한 음의 상관관계**\n",
    "- 0이면 데이터 간에 상관관계가 없다는 의미.\n",
    "\n",
    "### 3_2. 상관분석 유형\n",
    "1. **[Pearson Correlation Coefficient 피어슨 상관계수]**\n",
    "    - 등간척도로 측정된 구 변수들의 상관관계를 측정하며 보편적으로 많이 사용.\n",
    "    - 연속형, 정규성 데이터에 많이 사용.\n",
    "    - r = X와 Y가 함께 변하는 정도 / X와 Y가 각각 변하는 정도\n",
    "    - 0.7 이상 이면 강한 양적 관계, 0.7~0.3이면 뚜렷한 양적 관계 식으로 나눔.\n",
    "    <BR><BR>\n",
    "    \n",
    "1. **[Spearman Correlation Ceofficient 스피어만 상관계수]**\n",
    "    - 서열척도인 경우, 즉, 순위를 사용하는 데이터의 상관계수\n",
    "    - 순위형, 비모수적 방법에 사용, 표본크기가 작을 때 유용.\n",
    "    - **`cor(x, y, method=\"spearman\")`**\n",
    "    - **`rcorr(as.matrix(dataset), type=\"pearman\")`**"
   ]
  },
  {
   "cell_type": "markdown",
   "metadata": {},
   "source": [
    "----"
   ]
  }
 ],
 "metadata": {
  "kernelspec": {
   "display_name": "R",
   "language": "R",
   "name": "ir"
  },
  "language_info": {
   "codemirror_mode": "r",
   "file_extension": ".r",
   "mimetype": "text/x-r-source",
   "name": "R",
   "pygments_lexer": "r",
   "version": "3.5.1"
  }
 },
 "nbformat": 4,
 "nbformat_minor": 2
}
