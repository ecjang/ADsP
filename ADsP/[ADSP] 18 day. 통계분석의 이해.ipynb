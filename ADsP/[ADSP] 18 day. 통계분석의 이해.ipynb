{
 "cells": [
  {
   "cell_type": "markdown",
   "metadata": {},
   "source": [
    "<h1><center>Chapter03. 데이터 마트</center></h1>"
   ]
  },
  {
   "cell_type": "markdown",
   "metadata": {},
   "source": [
    "<h1><center>제 1절. 통계분석의 이해</center></h1>"
   ]
  },
  {
   "cell_type": "markdown",
   "metadata": {},
   "source": [
    "## 1. 통 계\n",
    "\n",
    "### 1_1. 정의\n",
    "특정집단을 대상으로 조사나 실험으로 통해 나온 결과에 대한 **요약된 형태의 표현**이다.\n",
    "\n",
    "### 1_2. 통계자료의 획득 방법\n",
    "크게 전체를 조사하는 총조사와 일부분만 조사하는 표본조사로 나눌 수 있다.\n",
    "1. [Census 총조사] : 대상집단을 모두 분석. 인구주택 총조사\n",
    "1. 표본조사 : 모집단의 정의, 표본의 크기, 조사바법 표본추출방법을 정확히 명시해야 한다.\n",
    "    1. [Population 모집단] : 조사하려는 집단 전체\n",
    "    1. [Element 원소] : 모집단을 구성하는 개체\n",
    "    1. [Sample 표본] : 모집단의 일부 원소\n",
    "    1. [Parameter 모수] : 모집단에 대한 정보\n",
    "    1. [Event 사건] : 나타날 수 있는 개개의 결과들\n",
    "\n",
    "### 1_3. 표본추출방법 : SSCS\n",
    "\n",
    "모집단을 대표할 수 있는 표본을 추출하는 것이 중요하다. SRS, SS, CRS, SRS 4가지가 있다.\n",
    "1. **[SRS Simple Random Sampling 단순랜덤 추출법]** : 임의의 원소를 추출\n",
    "1. **[SS Systematic Sampling 계통추출법 ]** : 구간으로 나누어 일정간격의 원소를 추출\n",
    "1. **[CRS Cluster Random Sampling 집락추출법]** : 군집별 단순렌덤 추출, 지역표본추출\n",
    "1. **[SRS Stratified Random Sampling 층화추출법]** : 유사원소끼리 층으로 나누어 랜덤추출\n",
    "\n",
    "\n",
    "### 1_4. [Measuerment 측정] : NOIR\n",
    "추출된 원소들이나 실험단위로부터 주어진 목적에 적합한 자료를 얻는 것을 의미한다. **척도는 자료의 측정수준**을 의미하며 수치로 측정이 가능한 **[Quantitative 양적자료]**, 측정이 불가능한 **[Qualitative 질적자료]**가 있다.\n",
    "1. **[NS Nominal Scale 명목척도]** : 비가산, 속성을 분류하는 고윳값, 전화번호, 주호, \n",
    "1. **[OS Ordinal Scale 서열척도=순서]** : 비가산, 순서의 관계를 구분하는 값, 순위 서열\n",
    "1. **[IS Interval Scale 구간척도=등간]** : 가산, 명목척도, 순서사이의 간격이 균등한 값, 온도, 지능지수\n",
    "1. **[RS Ratio Scale 비율척도]** : 가산, 순서 사이의 간격이 균등하고 절대값이 존재하는 값, 자연수, 몸무게\n"
   ]
  },
  {
   "cell_type": "markdown",
   "metadata": {},
   "source": [
    "#### 척도에 관환 궁금증\n",
    "- 온도는 0도가 있으니 비율척도가 아닐까?\n",
    "    - 절댓값 0은 존재하지 않는다는 의미이다. 0도는 절대적인 기준이 아니기 때문에 10도와 0도는 10도 차이가 난다고 할 수 있지만 10배 덥다고 할 수없다. 또한 10도 x 10도 가 100도가 되는 것이 아니기 때문에 사칙연산이 적용되지 않는다. 그래서 **온도는 구간척도**이다. \n",
    "    - 참고로 온도 0도는 물이 어는 점을 기준으로 삼은 온도이다.\n",
    "\n",
    "\n",
    "- 리커트척도(층화평정법)은 서열척도일까? 등간척도일까?\n",
    "    - 리커트척도는 [매우 그렇다, 그렇다, 보통이다, 그렇지 않다, 매우 그렇지 않다.] 5가지로 구성된 **서열척도**이다. 등간척도는 각 자료의 간격이 같은 자료를 의미하지만 리커트 척도의 정보의 간격이 같다고 볼 수 없기 때문이다. 하지만 서열척도는 통계분석이 제한되므로 '서열'이라는 추상적 개념을 조작하여 **등간척도로 간주**하기도 한다. 그래서 **리커트 척도는 등간척도로 간주한다.**\n",
    "    \n",
    "    \n",
    "- 자식의 수\n",
    "    - 1명, 2명, 3명 식으로 표현되는 자식의 수는 **비율척도**이다. 서열이 있어 서열척도 같지만 덧셈, 뻴셈이 가능하고, 2명은 1명의 2배라고 할 수 있으므로 곱셈, 나눗셈도 가능하다. 또한 절대값(0명)이 있기 때문에 비율척도로 분류된다.\n",
    "    \n",
    "    \n",
    "- 고용 상태(풀타임, 파트타임, 비고용)\n",
    "    - 이는 **명목척도**이다. 서열척도처럼 순서대로 배열되어 있는 것 같지만 수학적 순서로 배열 된 것이 아니기 때문에 명목척도이다.\n",
    "\n",
    "\n",
    "- 절대적 0점과 상대적 0점의 차이\n",
    "    - 절대적인 0점을 가지고 있는 것의 대표는 몸무게이다. 100kg은 50kg의 2배라고 할 수 있는데 이는 0kg이 기준이 되기 때문이다. 0kg은 무게가 아예 없다는 것을 의미하는 것인 반면 온도 0도는 온도가 없다는 것이 아닌 0도라는 열기를 의미하는 것에 차이가 있다. **절대적 0은 Null**을 의미하며 그 외의 0을 **상대적영점**이라고 한다."
   ]
  },
  {
   "cell_type": "markdown",
   "metadata": {},
   "source": [
    "----"
   ]
  },
  {
   "cell_type": "markdown",
   "metadata": {},
   "source": [
    "## 2. 통계분석\n",
    "\n",
    "### 2_1. 정의\n",
    "특정 집단의 자료를 수집해 대상 집단에 대한 정보를 구하고 적절한 **통계분석 방법을 이용해 의사결정을 하는 과정**이다.\n",
    "- **[Descriptive Statistic 기술통계]**: 주관을 배제하고 정보를 수치화하여 데이터로 변환.(평균, 중위수, ..)\n",
    "- **[Inference Statistic 통계적추론]**: 수집된 자료를 통해 모집단에 대한 의사결정을 하는 것.\n",
    "    1. 모수 추정 : 표본집단에서 모집단의 특성임 모수(평균, 분산 등)을 분석하여 추론\n",
    "    1. [Hupothesis Test 가설검정] : 특정한 가설을 설정하여 옳은지 아닌지 결정\n",
    "    1. [Forecasting 예측] : 미래의 불확실성을 해결해 효율적인 의사결정\n"
   ]
  },
  {
   "cell_type": "markdown",
   "metadata": {},
   "source": [
    "### 3. 확률 및 확룰 분포\n",
    "\n",
    "확률이란 **특정사건이 일어날 가능성**을 의미하는 척도이다. **[RV Ramdom Variable 확률변수]**는 특정값이 나타날 가능성이 주어지는 변수로 정의역이 표본공간이고 치역이 실수값인 함수이다. 이산형과 연속형 확률변수 2가지가 있다.\n",
    "    \n",
    "> 참고 : https://goo.gl/HkEWZP\n",
    "\n",
    "\n",
    "1. **[Random Variable 확률변수]** \n",
    "    - 확률적인 과정에 따라 값이 결정되는 변수를 의미.\n",
    "    - 확률의 개념이 수반된 변수.\n",
    "    <BR><BR>\n",
    "    \n",
    "1. **[확률분포]**\n",
    "    - 하나의 변수에 대해 각각 확률이 하나씩 대입되는 함수 관계.\n",
    "    - 확룰분포는 확률변수에 해당하는 함수값, 확률을 대응시킬 수 있는 함수관계.\n",
    "    - 정의역의 확률변수는 그에 대응하는 확률 p가 정해져 있음.\n",
    "    - $ P(X=x_i) $는 확률변수 $x_i$라는 값을 가질 확률을 의미.\n",
    "    <BR><BR>"
   ]
  },
  {
   "cell_type": "markdown",
   "metadata": {},
   "source": [
    "### **3_1. [Discrete 이산형] 확률변수** \n",
    "확률질량함수, 셀 수 있는 경우, 이산가족의 이산의 의미\n",
    "\n",
    "- **[Bernoulli Distribution 베르누이 확률분포]**\n",
    "    - 매 시행마다 오직 2가지의 결과만 일어날 경우\n",
    "    - 이런 실험을 1회 시행시 결과를 0,1로 결정되는 확률변수 X에 대해서\n",
    "    - $ P(X=0)=q, \\quad P(X=1)=p, \\quad 0\\leq p\\leq 1,\\quad q=1-p $\n",
    "    - 위 조건을 만족하는 확률변수 X가 따르는 확률분포.\n",
    "    <BR><BR>\n",
    "\n",
    "- **[Binomial Distribution 이항분포]** = 베르누이 시행\n",
    "    - 확률변수가 독립시행에서 특정사건이 일어날 횟수로 정의되는 확률분포.\n",
    "    - 동일한 사건을 n회 반복시, 특정사건이 r회 일어나는 독립시행에 대해 r(횟수)이 확률변수를 의미.\n",
    "    - 이항분포를 $ B(n,p) $로 표시, 확률변수 X가 이항분포 B(n,p)를 따른다고 함.\n",
    "    - 주사위를 10번 던져 6이 나온 횟수를 셀 경우 분포는 10이고, p는 1/6.\n",
    "    - 인구의 5%가 쌍꺼풀이 있을 경우, 100명을 무작위로 선택\n",
    "    - 이 경우 n은 100이고, p는 0.05.\n",
    "    <BR><BR>\n",
    "    \n",
    "- **[Geometric Distribution 기하분포]**\n",
    "    - 베르누이 시행에서 처음 성공까지 시도한 횟수 X의 분포, 지지집합은 {1, 2, 3 ...}\n",
    "    - 베르누이 시행에서 처음 성공까지 실패한 횟수 Y=X-1의 분포, 지지집합은 {0, 1, 2, ..}\n",
    "    - 둘 중 하나를 선택해 이용하여 어느 정의를 이요아는지 밝히는 것이 보통.\n",
    "    - 첫번째 성공까지 횟수 : $ Pr(X=k) = (1-p)^{k-1}p $ \n",
    "    - 첫번째 성공까지 실패 횟수 : $ Pr(Y=k) = (1-p)^kp $\n",
    "    <BR><BR>\n",
    "    \n",
    "    \n",
    "- **[Multinomial Distribution 다항분포]** : 세가지 이상의 결과를 가지는 반복 시행의 확률분포\n",
    "    - 여러 개의 값을 가질 수 있는 독립 확률변수에 대한 확률분포\n",
    "    - 여러번의 독립싯행에서 각각의 값이 특정 횟수가 나타날 확률\n",
    "    - 어떤 시행에서 $k$가지 값이 나올 수 있고, 그 값들이 나타날 확률 $p_1, p_2, p_3, ..., p_k$일 경우\n",
    "    - $n$번째 $i$번째 값이 $x_i$회 나타날 확률\n",
    "    - $ p(x_1, x_2, ... , x_k; n, p_1, p_2, ..., p_k) = \\frac{n!}{x_1!x_2!,..,x_k!}p^{x_1}_q p^{x_2}_q ... p^{x_k}_q $\n",
    "    - 전체 말뭉치의 단어 개수가 $v$개이고, 첫번째 단어가 말뭉치에 등장할 확률이 $p_{v1}$\n",
    "    - 두번째 단어가 말뭉치에 등장할 확률이 $p_{v2}$\n",
    "    - $v$번째 단어가 등장할 확률을 $p_{vv}$이라고 가정\n",
    "    - 여기서 말뭉치에 단어를 n개 뽑을 때 첫번째 단어가 나타날 횟수는 $x_1, ...$, $v$번째 단어는 $x_v$\n",
    "    <BR><BR>\n",
    "\n",
    "- **[Poisson Distribution 포아송 푼포]** : 시간과 공간 내에서 발생하는 사건의 횟수.\n",
    "    - 람다(λ)라는 하나의 모수로 지정, 람다는 평균과 분산이 같음\n",
    "    - 충분히 크게 증가시 정규분포(λ, λ)가 포아송 분포를 근사시키디 위해 사용\n",
    "    - 포아송 부포는 관측공간에서 사건이 발생하는 횟수를 설명하기 위해 사용\n",
    "    - 책에 오타가 5페이지에 10개가 나오면 1페이지에서 오타가 3개 나올 확률\n",
    "    <BR><BR>\n",
    "\n",
    "\n"
   ]
  },
  {
   "cell_type": "markdown",
   "metadata": {},
   "source": [
    "### **3_2. [Continuous 연속형] 확률변수**\n",
    "확률밀도함수, 가능한 값이 실수의 어느 특정 구간 전체에 해당\n",
    "\n",
    "- **[Uniform Distribution 균일분포, 일양분포, 균등분포]**\n",
    "    - 모든 확률변수 X가 균일한 확률을 가지는 확률분포\n",
    "    - 기호로 $ \\mathcal{U}(a,b) $로 표시, $\\mathcal{U}(0,1)$일 경우 **표준연속균등분포**라고 함.\n",
    "    <BR><BR>\n",
    "    \n",
    "- **[Normal Distribution 정규분포, Gaussian Distribution 가우시안분포]**    \n",
    "    - 중심극한정리에 의해 독립적인 확률변수들의 평균은 정규분포에 가까워지려는 성질이 있음.\n",
    "    - 평균 $\\mu$과 표준편차 $\\sigma$로 모양이 결정. $\\mathrm {N} (\\mu ,\\sigma ^{2})$으로 표기\n",
    "    - $\\mathrm{N}(0,1)$는 표준정규분포\n",
    "    - 동일한 확률을 가진 변수들이 적당히 크면 변수들의 평균은 일정한 패턴을 가짐\n",
    "    - 평균의 모양이 일정한 것이 핵심\n",
    "    <BR><BR>\n",
    "    \n",
    "- **[Exponential Distribution 지수분포]**\n",
    "    - 사건이 서로 독립적일때 일정 시간동안 발생하는 사건의 횟수는 포아송 분포를 따름\n",
    "    - 다음 사건이 일어날 때까지 대기시간는 지수분포를 따름\n",
    "    - 시간이 지날 수록 확률이 점점 작아지는 경우 지수분포를 따름\n",
    "    - 기계는 시간이 지날수록 고장 나지 않을 확률이 작아진다.\n",
    "    - 시간이 지날수록 휴대폰의 배터리가 남아있을 확률은 작아진다.\n",
    "    - 사람은 나이를 먹을 수록 살아 있을 확률이 작아진다.\n",
    "    <BR><BR>\n",
    "    \n",
    "- **[T-Distribution T-분포, Student T distribution 스튜던트 t 분포]**\n",
    "    - 두 집단의 평균이 동일한지 확인할 경우 사용하는 검점통계량\n",
    "    - 정규분포의 평균을 측정할 때 주로 사용.\n",
    "    - 스튜던트는 윌리엄 고셋의 필명으로 맥주회사의 보리의 질을 시험하기 위해 도입\n",
    "    - 표본분산에 대한 정리, 카이제곱분포\n",
    "    - 원점에 따라 좌우 대칭, 자유도가 증가할 수록 표준정규분포표에 가까워짐.\n",
    "    \n",
    "- **[$x^2$ distribution $x^2$ 분포, 카이제곱분포]**\n",
    "    - 모평균과 모분산이 알려지지 않은 모집단의 모분사에 대한 가설 검정에 사용\n",
    "    - 두 집단의 동질성 검정에 활용.\n",
    "    - 감마 분포의 특수한 형태, 자유도에 따라 달라지므로 카이제곱분포표를 활용\n",
    "    - [DOF Degree Of Freedom 자유도] : 표본자료 중 모집단에 대한 정보를 주는 독립적인 자료의 수\n",
    "\n",
    "- **[F-Distrubution F 분포]**\n",
    "    - 두 집단간 동일성 검정에 사용되는 검정 통계량의 분포\n",
    "    - 정규분포를 이루는 모집단에서 추출한 표본들의 분산비율이 나타내는 연속 분포\n",
    "    - 2개 이상의 표본평균들이 동일한 모평균을 가진 집단에서 추출되었는지 판단\n",
    "    - 카이제곱 확률 변수의 비로 정의\n"
   ]
  },
  {
   "cell_type": "code",
   "execution_count": 34,
   "metadata": {},
   "outputs": [
    {
     "data": {
      "image/png": "[encoded data removed]",
      "text/plain": [
       "plot without title"
      ]
     },
     "metadata": {},
     "output_type": "display_data"
    }
   ],
   "source": [
    "# 정규분포 테스트  http://hellogohn.com/post_one156\n",
    "# 정규분포에서 난수 생성\n",
    "# install.packages(\"ggplot2\", repos=\"http://cran.nexr.com/\")\n",
    "# install.packages(\"gridExtra\")\n",
    "\n",
    "library(ggplot2)\n",
    "library(gridExtra) # 멀티 그래프\n",
    "\n",
    "dat_norm1 <- rnorm(100)   # 0~1사이 균등한 확률로 100개를 추출\n",
    "dat_norm2 <- rnorm(1000)   # 1000개를 추출\n",
    "dat_norm3 <- rnorm(10000)   # 10000개를 추출\n",
    "\n",
    "p1 <- qplot(dat_norm1, binwidth=0.1) \n",
    "p2 <- qplot(dat_norm2, binwidth=0.1) \n",
    "p3 <- qplot(dat_norm3, binwidth=0.1)\n",
    "\n",
    "grid.arrange(p1, p2, p3, ncol=2)\n"
   ]
  },
  {
   "cell_type": "code",
   "execution_count": 50,
   "metadata": {},
   "outputs": [
    {
     "data": {},
     "metadata": {},
     "output_type": "display_data"
    },
    {
     "data": {},
     "metadata": {},
     "output_type": "display_data"
    },
    {
     "data": {
      "image/png": "[encoded data removed]",
      "text/plain": [
       "plot without title"
      ]
     },
     "metadata": {},
     "output_type": "display_data"
    },
    {
     "data": {},
     "metadata": {},
     "output_type": "display_data"
    },
    {
     "data": {
      "image/png": "[encoded data removed]",
      "text/plain": [
       "plot without title"
      ]
     },
     "metadata": {},
     "output_type": "display_data"
    },
    {
     "data": {},
     "metadata": {},
     "output_type": "display_data"
    },
    {
     "data": {
      "image/png": "[encoded data removed]",
      "text/plain": [
       "plot without title"
      ]
     },
     "metadata": {},
     "output_type": "display_data"
    },
    {
     "data": {},
     "metadata": {},
     "output_type": "display_data"
    },
    {
     "data": {
      "image/png": "[encoded data removed]",
      "text/plain": [
       "plot without title"
      ]
     },
     "metadata": {},
     "output_type": "display_data"
    },
    {
     "data": {
      "image/png": "[encoded data removed]",
      "text/plain": [
       "plot without title"
      ]
     },
     "metadata": {},
     "output_type": "display_data"
    }
   ],
   "source": [
    "# 정규분포 테스트 2 http://hellogohn.com/post_one156\n",
    "# 많이 추출할 수록 정규본포에 가까워짐\n",
    "\n",
    "xbar <- numeric(10000)\n",
    "for(i in 1:length(xbar)){\n",
    "    x <- runif(1); xbar[i] <- mean(x)   # 균등분포에서 하나를 추출, 평균을 계산하여 입력.\n",
    "}\n",
    "qplot(xbar,binwidth=0.01)\n",
    "\n",
    "xbar <- numeric(10000)\n",
    "for(i in 1:length(xbar)){\n",
    "    x <- runif(2); xbar[i] <- mean(x)   # 2개를 추출하여 평균을 계산하여 입력\n",
    "}\n",
    "qplot(xbar,binwidth=0.01)\n",
    "\n",
    "xbar <- numeric(10000)\n",
    "for(i in 1:length(xbar)){\n",
    "    x <- runif(10); xbar[i] <- mean(x)   # 10개를 추출하여 평균을 계산하여 입력\n",
    "}\n",
    "qplot(xbar,binwidth=0.01)\n",
    "\n",
    "xbar <- numeric(10000)\n",
    "for(i in 1:length(xbar)){\n",
    "    x <- runif(20); xbar[i] <- mean(x)   # 20개를 추출하여 평균을 계산하여 입력\n",
    "}\n",
    "qplot(xbar,binwidth=0.01)\n",
    "\n",
    "xbar <- numeric(10000)\n",
    "for(i in 1:length(xbar)){\n",
    "    x <- runif(100); xbar[i] <- mean(x)   # 100개를 추출하여 평균을 계산하여 입력\n",
    "}\n",
    "qplot(xbar,binwidth=0.01)\n"
   ]
  },
  {
   "cell_type": "markdown",
   "metadata": {},
   "source": [
    "----"
   ]
  },
  {
   "cell_type": "markdown",
   "metadata": {},
   "source": [
    "## 4. 추정과 가설검정\n",
    "\n",
    "### 4_1. 추정의 개요\n",
    "\n",
    "**[Random Sample 확률표본]**<BR>\n",
    "- 특정한 확룰분포로부터 독립적으로 반복해 표본을 추출, 각 관측값들은 서로 독립적이며 동일한 분포를 가짐.\n",
    "\n",
    "**[Estimation 추정]**\n",
    "- 표본으로부터 미지의 모수를 추측하는 것으로 [Point Esimation 점 추정], [Interval Estimation 구간 추정]으로 구분.\n",
    "\n",
    "    1. **[Point Esimation 점 추정]**\n",
    "        - 모수가 특정한 값일 것이라고 추정. 표본의 평균, 중위수, 최빈값 등을 사용.\n",
    "        - [Unbiasedness 불편성] : 모든 가능한 표본에서 얻은 추정량의 기댓값.\n",
    "        - [Efficiency 효율성] : 추정량의 분산이 작을 수록 좋음\n",
    "        - [Consistency 일치성] : 표본의 크기가 커지면 추정값이 모수가 같아짐\n",
    "        - [Sufficient 충족성] : 추정량이 모수에 대하여 모든 정보를 제공\n",
    "        <BR><BR>\n",
    "    \n",
    "    2. **[Interval Estimation 구간 추정]**\n",
    "        - 항상 추정량의 분포에 대한 전제와, 구간안에 모수가 있을 가능성의 크기가 주어저야 함.\n",
    "        - [Confidence Interval 신뢰구간] : 구간안에 모수가 있을 가능성의 크기\n",
    "        - 신뢰수준 95%에서 투표자의 35%~45%가 A호부를 지지하고 있을 경우\n",
    "        - 95%는 신뢰수준이고, 35%~45%는 신뢰구간."
   ]
  },
  {
   "cell_type": "markdown",
   "metadata": {},
   "source": [
    "### 4_2. 가설검정\n",
    "모집단에 대한 가설을 설정후 그 가설의 채택여부를 결정하는 분석 방법으로 표본 관찰 및 실험으로 **귀무가설과 대립가설** 중 하나를 선택하는 과정이다.\n",
    "\n",
    "**[Null Hypothesis 귀무가설, H0] : 차이가 없다**\n",
    "\n",
    "**[Alternative Hypothesis 대립가설, H1] : 차이가 있다**\n",
    "\n",
    "**[Test Statistic 검정통계량, T(X)]** : 표본으로 구한 통계량, 가설검정시 진위 판단 기준\n",
    "\n",
    "**[Significance Level 유의수준, a], [Type1 Error 1종오류]** : 귀무가설을 기각하는 확률의 크기\n",
    "1. 귀무가설이 옳은데도 이를 기각하는 확률 및 오류\n",
    "1. 가설과 모집단의 차이가 없는데도 기각하는 확률 및 오류\n",
    "1. 유의수준은 1종 오류를 범할 최대허용오차.\n",
    "1. 유의수준은 표본의 결과가 모집단의 성질을 반영한 것이 아님\n",
    "1. 표본의 특성에 따라 나타날 확률의 범위로, 표본에 따라 다른 유의수준이 나올 수 있음\n",
    "1. 가설이 사실이라고 판정했는데 실제로는 틀렸을 경우\n",
    "\n",
    "**[Critical Region 기각역, C], [Type2 Error 2종 오류]** : 귀무가설을 채택하는 확률의 크기\n",
    "1. 귀무가설이 옳다는 전제하에 구한 검정통계향의 분포에서 확률이 유의수준인 부분\n",
    "1. 귀무가설이 옳지 않은데도 귀무가설을 채택하는 하는 오류\n",
    "1. 귀무가설이 잘 못 되었음에도 불구하고 이를 받아들이는 오류\n",
    "\n",
    "**[Acceptance Region 채택역]** : 기각역의 반대"
   ]
  },
  {
   "cell_type": "markdown",
   "metadata": {},
   "source": [
    "----"
   ]
  },
  {
   "cell_type": "markdown",
   "metadata": {},
   "source": [
    "## 5. 비모수 검정\n",
    "\n",
    "통계적 검정에서 모집단의 모수에 대한 검정은 모수적 검정과 비모수적 검정으로 구분한다.\n",
    "\n",
    "**[Parameter Method 모수적 방법]**\n",
    "- 모집단에 대한 분포를 가정, 검정통계량과 그 분포를 유도해 검정하는 방법\n",
    "\n",
    "**[Nonparameter Method 비모수적 방법]**\n",
    "- 모집단에 대한 **아무런 제약없이** 검정을 실시하는 방법\n",
    "- 관측자료가 특정분포를 따른다고 가정할 수 없을 경우에 사용.\n",
    "\n",
    "\n",
    "### 5_1. 모수적 /비모수적 방법의 차이\n",
    "\n",
    "가설의 설정\n",
    "- 모수적 방법은 가설을 설정하는 반면, 비모수적 방법은 분포의 형태가 동일하다, 아니다 정도의 분포 형태에 대해 설정.\n",
    "\n",
    "검정방법\n",
    "- 모수적 방법은 관측된 자료를 통해 표본평균, 표본분산 등을 이요해 검정.\n",
    "- 비모수적 방법은 관측값들의 순위나 두 관측값 차이의 부호등을 이용해 검정.\n",
    "\n",
    "### 5_2. 비모수적 검정의 예\n",
    "\n",
    "1. [Sign Test 부호검정]\n",
    "1. [Rank Sum Test 순위합검정] : 월콕슨\n",
    "1. [Signed Rank Test 부호순위합검정] : 월콕슨\n",
    "1. [Run Test U검정] : 만-위트니\n",
    "1. [Rank Correlation Coefficient 순위상관계수] : 스피어만"
   ]
  },
  {
   "cell_type": "markdown",
   "metadata": {},
   "source": [
    "----"
   ]
  }
 ],
 "metadata": {
  "kernelspec": {
   "display_name": "R",
   "language": "R",
   "name": "ir"
  },
  "language_info": {
   "codemirror_mode": "r",
   "file_extension": ".r",
   "mimetype": "text/x-r-source",
   "name": "R",
   "pygments_lexer": "r",
   "version": "3.5.1"
  }
 },
 "nbformat": 4,
 "nbformat_minor": 2
}
