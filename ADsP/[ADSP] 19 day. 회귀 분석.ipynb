{
 "cells": [
  {
   "cell_type": "markdown",
   "metadata": {},
   "source": [
    "<h1><center>Chapter04. 통계분석</center></h1>"
   ]
  },
  {
   "cell_type": "markdown",
   "metadata": {},
   "source": [
    "<h1><center>제 2절. 기초 통계분석</center></h1>"
   ]
  },
  {
   "cell_type": "markdown",
   "metadata": {},
   "source": [
    "### 학습목표\n",
    "1. 회귀분석의 정의와 과정을 이해\n",
    "1. 회귀추정식의 통계적 가설 검정을 이햐\n",
    "1. R프로그램을 통해 회귀분석을 활용, 내용 해석\n",
    "1. 다중회귀분석에서 변수선택법을 이해\n",
    "\n",
    "\n",
    "### 단순회귀, 다중회귀 분석\n",
    "단순회귀는 하나의 요소를, 다중회귀는 여러 요소를 분석하고 모형화하는 것을 의미하는 것으로 일반적으로 다중회귀를 사용한다."
   ]
  },
  {
   "cell_type": "markdown",
   "metadata": {},
   "source": [
    "----"
   ]
  },
  {
   "cell_type": "markdown",
   "metadata": {},
   "source": [
    "## 1. 회귀분석의 개요"
   ]
  },
  {
   "cell_type": "markdown",
   "metadata": {},
   "source": [
    "### 1_1. 회귀분석의 정의\n",
    "독립변수 X가 종속변수 Y에 미치는 영향을 추정할 수 있는 통계기법으로 **변수들 사이의 인과관계를 분석하여 관심있는 변수를 예측하거나 추론하기 위한 분석방법**이다.\n",
    "\n",
    "- 영향을 받는 변수 Y : [Response Variable 반응변수], [Dependent Variavle 종속변수], [Output Variable 결과변수]\n",
    "\n",
    "- 영향을 주는 변수 X : [Explanatory Variable 설명변수], [Independent Variable 독립변수], [Predicor Variable 예측변수]\n",
    "\n",
    "\n",
    "### **1_1_1. 회귀분석의 검토사항**\n",
    "    \n",
    "1. **유의수준 5%이하**에서 F통계량의 P-값이 0.05보다 작으면 추정된 회귀식은 유의미하다.\n",
    "1. **결정계수**는 0에서 1사이의 값을 가지며 높을 수록 회귀식의 설명력이 높다.\n",
    "1. 잔차 그래프를 통해 모형이 데이터에 적합한지 알 수 있다."
   ]
  },
  {
   "cell_type": "markdown",
   "metadata": {},
   "source": [
    "### 1_2. 회귀계수의 추정(최소자승법, 최소제곱법)\n",
    "[Method of Least Squares, Least Suuares Approximation 최소자승법]은 근사적으로 구하려는 해와 실제 해의 오차의 합이 최소가 되는 해를 구하는 방법이다. 아래 공식의 값을 최소로 만드는 베타값을 구하는 것이 목표이다.\n",
    "$$ \\sum_{i}(y_i - f(x_i- \\beta))^2 $$"
   ]
  },
  {
   "cell_type": "markdown",
   "metadata": {},
   "source": [
    "### 1_2_1. 최소제곱법 추가 설명\n",
    "최소제곱법은 가설 방정식이 데이터와의 잔차를 가장 적게 만드는 방법이다. \n",
    "\n",
    "$$ E(a,b) = \\sum^{n}_{i=1}(y_i - (ax_i+b))^2 $$\n",
    "\n",
    "이런 식을 **최적의 최소 제곱직선**이라고 하는데 E(a,b)의 최소값은 a, b에 의해 결정되므로 기울기 a와 절편b의 값을 찾기 위해 편미분한다.\n",
    "\n",
    "$$ 0 = \\frac{\\vartheta E}{\\vartheta a} = \\sum 2(y_i-ax_i-b)(-x_i) = 2(a\\sum x^2_i + b\\sum x_i - \\sum x_iy_i) $$\n",
    "\n",
    "$$ 0 = \\frac{\\vartheta E}{\\vartheta b} = \\sum 2(y_i-ax_i-b)(-1) = 2(a\\sum x_i + b\\sum 1 - \\sum y_i) $$\n",
    "\n",
    "따라서 다음과 같은 연립방정식을 만들게 된다.\n",
    "$$\n",
    "\\begin{cases}\n",
    "a\\sum x^2_i + b\\sum x_i = \\sum x_iy_i \\\\\n",
    "a\\sum x_i + b\\sum 1 = \\sum y_i\n",
    "\\end{cases}\n",
    "$$\n",
    "\n",
    "위 연립방정식으로 최소제곱 직선을 만들 수 있다. 식을 a와 b에 관해 풀면 다음과 같다. (x바와 y바는 x와 y의 평균값)\n",
    "\n",
    "$$ a = \\frac{ \\sum^{n}_{i=1}(y_i-\\bar y)(xi - \\bar x) }{ \\sum^{n}_{i=1}(x_i - \\bar x)^2 } = b = \\bar y - a \\bar x $$\n",
    "\n",
    "데이터가 2개인 $(x_1, y_1)(x_2, y_2)$ 경우를 생각해보면 평균값 $\\bar x$는 $(x1+x2)/2$이고 $\\bar y = (y_1+y_2)/2$이다. 이것을 a에 대입해서 풀어보면 a의 의미를 알 수 있다.\n",
    "\n",
    "$$ a = \\frac{(y_1 - \\bar y)(x_1 - \\bar x) + (y_2 - \\bar y)(x2 - \\bar x)}{(x1-\\bar x)^2 + (x_2 - \\bar x)^2}  = \\frac{(x_1-x_2)(y_1-y_2)}{(x_1-x_2)^2}=\\frac{(y_1-y_2)}{(x_1-x_2)} $$\n",
    "\n",
    "이 결과가 (x1, y1)(x2, y2)를 지나는 직선의 기울기이다."
   ]
  },
  {
   "cell_type": "markdown",
   "metadata": {},
   "source": [
    "----"
   ]
  },
  {
   "cell_type": "markdown",
   "metadata": {},
   "source": [
    "## 2. 회귀분석의 검정"
   ]
  },
  {
   "cell_type": "markdown",
   "metadata": {},
   "source": [
    "### 2_1. 회귀계수의 검정\n",
    "\n",
    "회귀계수가 0이면 x와 y 사이에는 아무런 관계가 없다는 의미이다. "
   ]
  },
  {
   "cell_type": "markdown",
   "metadata": {},
   "source": [
    "### 2_2. [Coefficient Determination 결정계수]\n",
    "추정한 선형모형이 주어진 자료에 적합한 정도를 나타내는 척도이다. 일반적으로 모형의 설명력으로 해석되지만 모형에 설명변수가 들어갈수록 증가하기 때문에 해석에 주의해야 한다. 0부터 1까지로 나타나면 1에 가까울 수록 상관관계가 높다. \n",
    "\n",
    "- **SST = SSR + SSE**\n",
    "- **[SST Total Sum of Squars 전체제곱합]** : $ \\sum(y-\\bar y)^2 $ (y값에서 y예상값의 차이의 제곱)\n",
    "- **[SSR Regration Sum of Squares 회귀제곱합 ]** : $ \\sum(\\hat y - \\bar y)^2 $ (y예측값에서 y평균의 차이의 제곱)\n",
    "- **[SSE Error Sum of Squares 오차제곱합]** : $ \\sum(y_i - \\bar y_i)^2 $ (y값에서 y예측값의 차이의 제곱)\n",
    "\n",
    "- 결정계수($R^2$)는 전체제곱합에서 회귀제곱합의 비(SSR/SST)로 구하며 0에서 1사이로 계산\n",
    "\n",
    "- 용어 참고 : http://kkokkilkon.tistory.com/77"
   ]
  },
  {
   "cell_type": "markdown",
   "metadata": {},
   "source": [
    "#### 결정계수\n",
    "- 결정계수는 모델로 설명되는 총 제곱합의 비율 \n",
    "- $$ R^2 = \\frac{SSR}{SST} = 1- \\frac{SSE}{SST} $$\n",
    "\n",
    "#### , 수정된 결정계수\n",
    "- Y에 영향을 주지 않는 X가 증가해도 결정계수가 증가하는 문제점.\n",
    "- 다중회귀분석에서는 수정된 결정계수를 사용.\n",
    "- X의 개수가 다른 모형을 비교하기 위해 사용.\n",
    "- $$ R_a^2 = 1- \\frac{n-1}{n-p-1}(1-R^2) $$"
   ]
  },
  {
   "cell_type": "markdown",
   "metadata": {},
   "source": [
    "### 2_3. 회귀직선의 적합도 검토\n",
    "독립변수 X가 종속변수 Y 변동의 몇 %를 설명하는지의 지표이다.\n",
    "\n",
    "- F 통계량 : F 통계량이 크면 귀무가설을 기각하여 모형이 유의하다고 판단.\n"
   ]
  },
  {
   "cell_type": "markdown",
   "metadata": {},
   "source": [
    "----"
   ]
  },
  {
   "cell_type": "markdown",
   "metadata": {},
   "source": [
    "## 3. 선형회귀분석"
   ]
  },
  {
   "cell_type": "markdown",
   "metadata": {},
   "source": [
    "### 3_1. 선형회귀분석의 가정 : 선등독비정\n",
    "선형성은 x-y 산점도를 통해 확인할 수 있다. 데이터가 특징이 없이 잘 퍼져있을 경우 적합하다고 보면 된다.\n",
    "\n",
    "1. **선형성** : X와 Y의 관계가 선형임.\n",
    "1. **등분산성** : 오차의 분산이 같음. 상수분산이라고도 함.\n",
    "1. **독립성** : Y와 잔차는 상관이 없음.\n",
    "1. **비상관성** : 오차들끼리 서로 무관.\n",
    "1. **정상성(정규성)** : 오차의 분포가 정규분포를 따름."
   ]
  },
  {
   "cell_type": "markdown",
   "metadata": {},
   "source": [
    "### 3_2. 다중선형 회귀 분석\n",
    "\n",
    "- t통계량으로 회귀계수들이 유의미한지 확인.\n",
    "- 결정계수로 모형이 얼마나 설명력을 갖는지 확인.\n",
    "- 잔차와 Y 산점도로 추정식(모형)이 데이터에 적합한지 확인\n",
    "- 선형회귀의 조건으로 가정을 만족하는지 확인"
   ]
  },
  {
   "cell_type": "markdown",
   "metadata": {},
   "source": [
    "### 3_2_1 [Multicollinearity 다중공선성]\n",
    "다중 회귀 분석에서 설명변수들 사이에 선형관계가 존재하면 회귀계수의 정확한 추정이 곤란하다.\n",
    "\n",
    "- 검사방법\n",
    "    - [VIF Variance Inflation Factor 분산팽창 요인]을 구하여 10보다 크면 문제가 있음.\n",
    "    - 상태지수가 10 이상이면 문제, 30 이상이면 심각\n",
    "\n",
    "- 해결방법\n",
    "    - 선형관계가 강한 변수를 제거\n",
    "    - 주성분 회귀, 능형회귀로 변경"
   ]
  },
  {
   "cell_type": "markdown",
   "metadata": {},
   "source": [
    "----"
   ]
  },
  {
   "cell_type": "markdown",
   "metadata": {},
   "source": [
    "## 4. 회귀분석의 종류 : 단다로다곡비\n",
    "회귀분석에는 다양한 종류가 있으며 상황에 따라 어떤 회귀분석을 할 것인지 파악할 수 있어야 한다.\n",
    "\n",
    "1. **[SRA Simple Regression Analysis 단순회귀분석]**\n",
    "    - 설명변수 X가 1개이며 반응변수 Y와의 관계가 직선.\n",
    "    - $ Y = \\beta_0 + \\beta_1X + \\epsilon $\n",
    "    <BR><BR>\n",
    "    \n",
    "2. **[MRA Multiple Regreassion Analysis 다중회귀분석]**\n",
    "    - 설명변수 X가 여러개이며 Y와의 관계가 선형(1차 함수).\n",
    "    - $ Y = \\beta_0 + \\beta_1X_1 + \\beta_2X_2 + ... + \\beta_kX_k + \\epsilon $\n",
    "    <BR><BR>\n",
    "    \n",
    "3. **[RR Rogistic Regression 로지스틱 회귀]**\n",
    "    - 일반적인 다중회귀분석과 유사.\n",
    "    - 데이터가 범주형인 경우에 사용 가능하며 다중, 다항 로지스틱으로 확장가능.\n",
    "    - $ Y = \\beta_0 + \\beta_1X_1 + \\beta_2X_2 + ... + \\beta_kX_k + \\epsilon $\n",
    "    <BR><BR>\n",
    "    \n",
    "4. **[PR Polynomial Regression 다항회귀]**\n",
    "    - 로지스틱 회귀에서 X와의 관계가 1차 함수 이상.(X의 개수가 1개면 2차 함수 이상)\n",
    "    - 독립변수가 2차식 이상으로 여러개의 변수로 구성. 다중 선형회귀 모델과 유사.\n",
    "    - X의 개수가 2이고 2차 함수인 경우\n",
    "    - $ Y = \\beta_0 + \\beta_1X_1 + \\beta_2X^2 + \\beta_3X^3 + \\epsilon $\n",
    "    <BR><BR>\n",
    "    \n",
    "5. **[CF Curve Fitting 곡선회귀]**\n",
    "    - 설명변수 X와 반응변수 Y의 관계가 곡선\n",
    "    - 직선 회귀보다 더 정확한 회귀식 계산 가능\n",
    "    - $ Y = \\beta_0 + \\beta_1X + \\beta_2X^2 + \\epsilon $ \n",
    "    <BR><BR>\n",
    "    \n",
    "6. **[NR Nonlinear Regression 비선형회귀]**\n",
    "    - 종속변수와 독힙변수 간의 임의적 관계를 통해 모형을 추정\n",
    "    - 반복 추정 알고리즘 사용\n",
    "    - $ Y = \\alpha e^{-\\beta X}+\\epsilon $"
   ]
  },
  {
   "cell_type": "markdown",
   "metadata": {},
   "source": [
    "----"
   ]
  },
  {
   "cell_type": "markdown",
   "metadata": {},
   "source": [
    "## 5. 회귀분석 사례"
   ]
  },
  {
   "cell_type": "markdown",
   "metadata": {},
   "source": [
    "### 5_1 회귀분석 사례\n",
    "MASS 패키지의 Cars93 데이터셋을 다중회귀분석으로 분석해본다.\n",
    "- 종속변수 Y : 가격 \n",
    "- 독립변수 X : 엔진크디, RPM, 무게"
   ]
  },
  {
   "cell_type": "code",
   "execution_count": 15,
   "metadata": {},
   "outputs": [
    {
     "data": {
      "text/html": [
       "<table>\n",
       "<thead><tr><th scope=col>Manufacturer</th><th scope=col>Model</th><th scope=col>Type</th><th scope=col>Min.Price</th><th scope=col>Price</th><th scope=col>Max.Price</th><th scope=col>MPG.city</th><th scope=col>MPG.highway</th><th scope=col>AirBags</th><th scope=col>DriveTrain</th><th scope=col>...</th><th scope=col>Passengers</th><th scope=col>Length</th><th scope=col>Wheelbase</th><th scope=col>Width</th><th scope=col>Turn.circle</th><th scope=col>Rear.seat.room</th><th scope=col>Luggage.room</th><th scope=col>Weight</th><th scope=col>Origin</th><th scope=col>Make</th></tr></thead>\n",
       "<tbody>\n",
       "\t<tr><td>Acura             </td><td>Integra           </td><td>Small             </td><td>12.9              </td><td>15.9              </td><td>18.8              </td><td>25                </td><td>31                </td><td>None              </td><td>Front             </td><td>...               </td><td>5                 </td><td>177               </td><td>102               </td><td>68                </td><td>37                </td><td>26.5              </td><td>11                </td><td>2705              </td><td>non-USA           </td><td>Acura Integra     </td></tr>\n",
       "\t<tr><td>Acura                 </td><td>Legend                </td><td>Midsize               </td><td>29.2                  </td><td>33.9                  </td><td>38.7                  </td><td>18                    </td><td>25                    </td><td>Driver &amp; Passenger</td><td>Front                 </td><td>...                   </td><td>5                     </td><td>195                   </td><td>115                   </td><td>71                    </td><td>38                    </td><td>30.0                  </td><td>15                    </td><td>3560                  </td><td>non-USA               </td><td>Acura Legend          </td></tr>\n",
       "\t<tr><td>Audi              </td><td>90                </td><td>Compact           </td><td>25.9              </td><td>29.1              </td><td>32.3              </td><td>20                </td><td>26                </td><td>Driver only       </td><td>Front             </td><td>...               </td><td>5                 </td><td>180               </td><td>102               </td><td>67                </td><td>37                </td><td>28.0              </td><td>14                </td><td>3375              </td><td>non-USA           </td><td>Audi 90           </td></tr>\n",
       "\t<tr><td>Audi                                                 </td><td><span style=white-space:pre-wrap>100    </span>      </td><td>Midsize                                              </td><td>30.8                                                 </td><td>37.7                                                 </td><td>44.6                                                 </td><td>19                                                   </td><td>26                                                   </td><td>Driver &amp; Passenger                               </td><td>Front                                                </td><td>...                                                  </td><td>6                                                    </td><td>193                                                  </td><td>106                                                  </td><td>70                                                   </td><td>37                                                   </td><td>31.0                                                 </td><td>17                                                   </td><td>3405                                                 </td><td>non-USA                                              </td><td><span style=white-space:pre-wrap>Audi 100     </span></td></tr>\n",
       "\t<tr><td>BMW               </td><td>535i              </td><td>Midsize           </td><td>23.7              </td><td>30.0              </td><td>36.2              </td><td>22                </td><td>30                </td><td>Driver only       </td><td>Rear              </td><td>...               </td><td>4                 </td><td>186               </td><td>109               </td><td>69                </td><td>39                </td><td>27.0              </td><td>13                </td><td>3640              </td><td>non-USA           </td><td>BMW 535i          </td></tr>\n",
       "\t<tr><td>Buick             </td><td>Century           </td><td>Midsize           </td><td>14.2              </td><td>15.7              </td><td>17.3              </td><td>22                </td><td>31                </td><td>Driver only       </td><td>Front             </td><td>...               </td><td>6                 </td><td>189               </td><td>105               </td><td>69                </td><td>41                </td><td>28.0              </td><td>16                </td><td>2880              </td><td>USA               </td><td>Buick Century     </td></tr>\n",
       "</tbody>\n",
       "</table>\n"
      ],
      "text/latex": [
       "\\begin{tabular}{r|lllllllllllllllllllllllllll}\n",
       " Manufacturer & Model & Type & Min.Price & Price & Max.Price & MPG.city & MPG.highway & AirBags & DriveTrain & ... & Passengers & Length & Wheelbase & Width & Turn.circle & Rear.seat.room & Luggage.room & Weight & Origin & Make\\\\\n",
       "\\hline\n",
       "\t Acura              & Integra            & Small              & 12.9               & 15.9               & 18.8               & 25                 & 31                 & None               & Front              & ...                & 5                  & 177                & 102                & 68                 & 37                 & 26.5               & 11                 & 2705               & non-USA            & Acura Integra     \\\\\n",
       "\t Acura                & Legend               & Midsize              & 29.2                 & 33.9                 & 38.7                 & 18                   & 25                   & Driver \\& Passenger & Front                & ...                  & 5                    & 195                  & 115                  & 71                   & 38                   & 30.0                 & 15                   & 3560                 & non-USA              & Acura Legend        \\\\\n",
       "\t Audi               & 90                 & Compact            & 25.9               & 29.1               & 32.3               & 20                 & 26                 & Driver only        & Front              & ...                & 5                  & 180                & 102                & 67                 & 37                 & 28.0               & 14                 & 3375               & non-USA            & Audi 90           \\\\\n",
       "\t Audi                 & 100                  & Midsize              & 30.8                 & 37.7                 & 44.6                 & 19                   & 26                   & Driver \\& Passenger & Front                & ...                  & 6                    & 193                  & 106                  & 70                   & 37                   & 31.0                 & 17                   & 3405                 & non-USA              & Audi 100            \\\\\n",
       "\t BMW                & 535i               & Midsize            & 23.7               & 30.0               & 36.2               & 22                 & 30                 & Driver only        & Rear               & ...                & 4                  & 186                & 109                & 69                 & 39                 & 27.0               & 13                 & 3640               & non-USA            & BMW 535i          \\\\\n",
       "\t Buick              & Century            & Midsize            & 14.2               & 15.7               & 17.3               & 22                 & 31                 & Driver only        & Front              & ...                & 6                  & 189                & 105                & 69                 & 41                 & 28.0               & 16                 & 2880               & USA                & Buick Century     \\\\\n",
       "\\end{tabular}\n"
      ],
      "text/markdown": [
       "\n",
       "Manufacturer | Model | Type | Min.Price | Price | Max.Price | MPG.city | MPG.highway | AirBags | DriveTrain | ... | Passengers | Length | Wheelbase | Width | Turn.circle | Rear.seat.room | Luggage.room | Weight | Origin | Make | \n",
       "|---|---|---|---|---|---|\n",
       "| Acura              | Integra            | Small              | 12.9               | 15.9               | 18.8               | 25                 | 31                 | None               | Front              | ...                | 5                  | 177                | 102                | 68                 | 37                 | 26.5               | 11                 | 2705               | non-USA            | Acura Integra      | \n",
       "| Acura              | Legend             | Midsize            | 29.2               | 33.9               | 38.7               | 18                 | 25                 | Driver & Passenger | Front              | ...                | 5                  | 195                | 115                | 71                 | 38                 | 30.0               | 15                 | 3560               | non-USA            | Acura Legend       | \n",
       "| Audi               | 90                 | Compact            | 25.9               | 29.1               | 32.3               | 20                 | 26                 | Driver only        | Front              | ...                | 5                  | 180                | 102                | 67                 | 37                 | 28.0               | 14                 | 3375               | non-USA            | Audi 90            | \n",
       "| Audi               | 100                | Midsize            | 30.8               | 37.7               | 44.6               | 19                 | 26                 | Driver & Passenger | Front              | ...                | 6                  | 193                | 106                | 70                 | 37                 | 31.0               | 17                 | 3405               | non-USA            | Audi 100           | \n",
       "| BMW                | 535i               | Midsize            | 23.7               | 30.0               | 36.2               | 22                 | 30                 | Driver only        | Rear               | ...                | 4                  | 186                | 109                | 69                 | 39                 | 27.0               | 13                 | 3640               | non-USA            | BMW 535i           | \n",
       "| Buick              | Century            | Midsize            | 14.2               | 15.7               | 17.3               | 22                 | 31                 | Driver only        | Front              | ...                | 6                  | 189                | 105                | 69                 | 41                 | 28.0               | 16                 | 2880               | USA                | Buick Century      | \n",
       "\n",
       "\n"
      ],
      "text/plain": [
       "  Manufacturer Model   Type    Min.Price Price Max.Price MPG.city MPG.highway\n",
       "1 Acura        Integra Small   12.9      15.9  18.8      25       31         \n",
       "2 Acura        Legend  Midsize 29.2      33.9  38.7      18       25         \n",
       "3 Audi         90      Compact 25.9      29.1  32.3      20       26         \n",
       "4 Audi         100     Midsize 30.8      37.7  44.6      19       26         \n",
       "5 BMW          535i    Midsize 23.7      30.0  36.2      22       30         \n",
       "6 Buick        Century Midsize 14.2      15.7  17.3      22       31         \n",
       "  AirBags            DriveTrain ... Passengers Length Wheelbase Width\n",
       "1 None               Front      ... 5          177    102       68   \n",
       "2 Driver & Passenger Front      ... 5          195    115       71   \n",
       "3 Driver only        Front      ... 5          180    102       67   \n",
       "4 Driver & Passenger Front      ... 6          193    106       70   \n",
       "5 Driver only        Rear       ... 4          186    109       69   \n",
       "6 Driver only        Front      ... 6          189    105       69   \n",
       "  Turn.circle Rear.seat.room Luggage.room Weight Origin  Make         \n",
       "1 37          26.5           11           2705   non-USA Acura Integra\n",
       "2 38          30.0           15           3560   non-USA Acura Legend \n",
       "3 37          28.0           14           3375   non-USA Audi 90      \n",
       "4 37          31.0           17           3405   non-USA Audi 100     \n",
       "5 39          27.0           13           3640   non-USA BMW 535i     \n",
       "6 41          28.0           16           2880   USA     Buick Century"
      ]
     },
     "metadata": {},
     "output_type": "display_data"
    }
   ],
   "source": [
    "# 데이터셋을 불러옴\n",
    "library(MASS)\n",
    "head(Cars93)"
   ]
  },
  {
   "cell_type": "code",
   "execution_count": 16,
   "metadata": {},
   "outputs": [
    {
     "data": {
      "text/plain": [
       "\n",
       "Call:\n",
       "lm(formula = Price ~ EngineSize + RPM + Weight, data = Cars93)\n",
       "\n",
       "Coefficients:\n",
       "(Intercept)   EngineSize          RPM       Weight  \n",
       " -51.793292     4.305387     0.007096     0.007271  \n"
      ]
     },
     "metadata": {},
     "output_type": "display_data"
    }
   ],
   "source": [
    "# 선형 분석\n",
    "lm(Price~EngineSize+RPM+Weight, data=Cars93)"
   ]
  },
  {
   "cell_type": "code",
   "execution_count": 17,
   "metadata": {},
   "outputs": [
    {
     "data": {
      "text/plain": [
       "\n",
       "Call:\n",
       "lm(formula = Price ~ EngineSize + RPM + Weight, data = Cars93)\n",
       "\n",
       "Residuals:\n",
       "    Min      1Q  Median      3Q     Max \n",
       "-10.511  -3.806  -0.300   1.447  35.255 \n",
       "\n",
       "Coefficients:\n",
       "              Estimate Std. Error t value Pr(>|t|)    \n",
       "(Intercept) -51.793292   9.106309  -5.688 1.62e-07 ***\n",
       "EngineSize    4.305387   1.324961   3.249  0.00163 ** \n",
       "RPM           0.007096   0.001363   5.208 1.22e-06 ***\n",
       "Weight        0.007271   0.002157   3.372  0.00111 ** \n",
       "---\n",
       "Signif. codes:  0 '***' 0.001 '**' 0.01 '*' 0.05 '.' 0.1 ' ' 1\n",
       "\n",
       "Residual standard error: 6.504 on 89 degrees of freedom\n",
       "Multiple R-squared:  0.5614,\tAdjusted R-squared:  0.5467 \n",
       "F-statistic: 37.98 on 3 and 89 DF,  p-value: 6.746e-16\n"
      ]
     },
     "metadata": {},
     "output_type": "display_data"
    }
   ],
   "source": [
    "summary(lm(Price~EngineSize+RPM+Weight, data=Cars93))"
   ]
  },
  {
   "cell_type": "code",
   "execution_count": 24,
   "metadata": {},
   "outputs": [
    {
     "data": {
      "image/png": "[encoded data removed]",
      "text/plain": [
       "Plot with title \"\""
      ]
     },
     "metadata": {},
     "output_type": "display_data"
    }
   ],
   "source": [
    "fit <- lm(Price~EngineSize+RPM+Weight, data=Cars93)\n",
    "par(mfrow=c(2,2))\n",
    "plot(fit)"
   ]
  },
  {
   "cell_type": "markdown",
   "metadata": {},
   "source": [
    "### 결과 분석\n",
    "- F-통계량은 37.98, p-값이 6.746e-16로 통계적으로 유의함.\n",
    "- 결정계수, 수정된 결정계수가 각각 0.56, 0.54으로 조금 낮으므로 회귀식이 데이터를 잘 설명한다고 볼 수 없음.\n",
    "- 회귀계수 p-value값이 0.05보다 작으므로 통계적으로 유의함\n",
    "- 결정계수가 낮아 설명력이 낮지만, 회귀식과 회귀계수들이 통계적으로 유의함\n",
    "- 그러므로 자동차 가격을 엔진의 크기, RPM, 무게로 추정 가능."
   ]
  },
  {
   "cell_type": "code",
   "execution_count": null,
   "metadata": {},
   "outputs": [],
   "source": [
    "states"
   ]
  },
  {
   "cell_type": "code",
   "execution_count": 9,
   "metadata": {},
   "outputs": [],
   "source": [
    "?lm()"
   ]
  },
  {
   "cell_type": "markdown",
   "metadata": {},
   "source": [
    "### 5_2 로지스틱 분석 사례"
   ]
  },
  {
   "cell_type": "markdown",
   "metadata": {},
   "source": [
    "----"
   ]
  },
  {
   "cell_type": "markdown",
   "metadata": {},
   "source": [
    "## 6. 최적회귀방정식의 선택"
   ]
  },
  {
   "cell_type": "markdown",
   "metadata": {},
   "source": [
    "### 6_1. 최적 회귀 방정식의 선택"
   ]
  },
  {
   "cell_type": "markdown",
   "metadata": {},
   "source": [
    "### 6_2. 벌점화된 선택기준"
   ]
  },
  {
   "cell_type": "markdown",
   "metadata": {},
   "source": [
    "### 6_3. 최적 회귀 방정식의 살계"
   ]
  },
  {
   "cell_type": "markdown",
   "metadata": {},
   "source": [
    "----"
   ]
  }
 ],
 "metadata": {
  "kernelspec": {
   "display_name": "R",
   "language": "R",
   "name": "ir"
  },
  "language_info": {
   "codemirror_mode": "r",
   "file_extension": ".r",
   "mimetype": "text/x-r-source",
   "name": "R",
   "pygments_lexer": "r",
   "version": "3.5.1"
  }
 },
 "nbformat": 4,
 "nbformat_minor": 2
}
