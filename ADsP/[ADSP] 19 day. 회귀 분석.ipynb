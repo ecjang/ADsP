{
 "cells": [
  {
   "cell_type": "markdown",
   "metadata": {},
   "source": [
    "<h1><center>Chapter04. 통계분석</center></h1>"
   ]
  },
  {
   "cell_type": "markdown",
   "metadata": {},
   "source": [
    "<h1><center>제 2절. 기초 통계분석</center></h1>"
   ]
  },
  {
   "cell_type": "markdown",
   "metadata": {},
   "source": [
    "### 학습목표\n",
    "1. 회귀분석의 정의와 과정을 이해\n",
    "1. 회귀추정식의 통계적 가설 검정을 이햐\n",
    "1. R프로그램을 통해 회귀분석을 활용, 내용 해석\n",
    "1. 다중회귀분석에서 변수선택법을 이해\n",
    "\n",
    "\n",
    "### 단순회귀, 다중회귀 분석\n",
    "단순회귀는 하나의 요소를, 다중회귀는 여러 요소를 분석하고 모형화하는 것을 의미하는 것으로 일반적으로 다중회귀를 사용한다."
   ]
  },
  {
   "cell_type": "markdown",
   "metadata": {},
   "source": [
    "----"
   ]
  },
  {
   "cell_type": "markdown",
   "metadata": {},
   "source": [
    "## 1. 회귀분석의 개요"
   ]
  },
  {
   "cell_type": "markdown",
   "metadata": {},
   "source": [
    "### 1_1. 회귀분석의 정의\n",
    "독립변수 X가 종속변수 Y에 미치는 영향을 추정할 수 있는 통계기법으로 **변수들 사이의 인과관계를 분석하여 관심있는 변수를 예측하거나 추론하기 위한 분석방법**이다.\n",
    "\n",
    "- 영향을 받는 변수 Y : [Response Variable 반응변수], [Dependent Variavle 종속변수], [Output Variable 결과변수]\n",
    "\n",
    "- 영향을 주는 변수 X : [Explanatory Variable 설명변수], [Independent Variable 독립변수], [Predicor Variable 예측변수]\n",
    "\n",
    "\n",
    "### **1_1_1. 회귀분석의 검토사항**\n",
    "    \n",
    "1. **유의수준 5%이하**에서 F통계량의 P-값이 0.05보다 작으면 추정된 회귀식은 유의미하다.\n",
    "1. **결정계수**는 0에서 1사이의 값을 가지며 높을 수록 회귀식의 설명력이 높다.\n",
    "1. 잔차 그래프를 통해 모형이 데이터에 적합한지 알 수 있다."
   ]
  },
  {
   "cell_type": "markdown",
   "metadata": {},
   "source": [
    "### 1_2. 회귀계수의 추정(최소자승법, 최소제곱법)\n",
    "[Method of Least Squares, Least Suuares Approximation 최소자승법]은 근사적으로 구하려는 해와 실제 해의 오차의 합이 최소가 되는 해를 구하는 방법이다. 아래 공식의 값을 최소로 만드는 베타값을 구하는 것이 목표이다.\n",
    "$$ \\sum_{i}(y_i - f(x_i- \\beta))^2 $$"
   ]
  },
  {
   "cell_type": "markdown",
   "metadata": {},
   "source": [
    "### 1_2_1. 최소제곱법 추가 설명\n",
    "최소제곱법은 가설 방정식이 데이터와의 잔차를 가장 적게 만드는 방법이다. \n",
    "\n",
    "$$ E(a,b) = \\sum^{n}_{i=1}(y_i - (ax_i+b))^2 $$\n",
    "\n",
    "이런 식을 **최적의 최소 제곱직선**이라고 하는데 E(a,b)의 최소값은 a, b에 의해 결정되므로 기울기 a와 절편b의 값을 찾기 위해 편미분한다.\n",
    "\n",
    "$$ 0 = \\frac{\\vartheta E}{\\vartheta a} = \\sum 2(y_i-ax_i-b)(-x_i) = 2(a\\sum x^2_i + b\\sum x_i - \\sum x_iy_i) $$\n",
    "\n",
    "$$ 0 = \\frac{\\vartheta E}{\\vartheta b} = \\sum 2(y_i-ax_i-b)(-1) = 2(a\\sum x_i + b\\sum 1 - \\sum y_i) $$\n",
    "\n",
    "따라서 다음과 같은 연립방정식을 만들게 된다.\n",
    "$$\n",
    "\\begin{cases}\n",
    "a\\sum x^2_i + b\\sum x_i = \\sum x_iy_i \\\\\n",
    "a\\sum x_i + b\\sum 1 = \\sum y_i\n",
    "\\end{cases}\n",
    "$$\n",
    "\n",
    "위 연립방정식으로 최소제곱 직선을 만들 수 있다. 식을 a와 b에 관해 풀면 다음과 같다. (x바와 y바는 x와 y의 평균값)\n",
    "\n",
    "$$ a = \\frac{ \\sum^{n}_{i=1}(y_i-\\bar y)(xi - \\bar x) }{ \\sum^{n}_{i=1}(x_i - \\bar x)^2 } = b = \\bar y - a \\bar x $$\n",
    "\n",
    "데이터가 2개인 $(x_1, y_1)(x_2, y_2)$ 경우를 생각해보면 평균값 $\\bar x$는 $(x1+x2)/2$이고 $\\bar y = (y_1+y_2)/2$이다. 이것을 a에 대입해서 풀어보면 a의 의미를 알 수 있다.\n",
    "\n",
    "$$ a = \\frac{(y_1 - \\bar y)(x_1 - \\bar x) + (y_2 - \\bar y)(x2 - \\bar x)}{(x1-\\bar x)^2 + (x_2 - \\bar x)^2}  = \\frac{(x_1-x_2)(y_1-y_2)}{(x_1-x_2)^2}=\\frac{(y_1-y_2)}{(x_1-x_2)} $$\n",
    "\n",
    "이 결과가 (x1, y1)(x2, y2)를 지나는 직선의 기울기이다."
   ]
  },
  {
   "cell_type": "markdown",
   "metadata": {},
   "source": [
    "----"
   ]
  },
  {
   "cell_type": "markdown",
   "metadata": {},
   "source": [
    "## 2. 회귀분석의 검정"
   ]
  },
  {
   "cell_type": "markdown",
   "metadata": {},
   "source": [
    "### 2_1. 회귀계수의 검정\n",
    "\n",
    "회귀계수가 0이면 x와 y 사이에는 아무런 관계가 없다는 의미이다. "
   ]
  },
  {
   "cell_type": "markdown",
   "metadata": {},
   "source": [
    "### 2_2. [Coefficient Determination 결정계수]\n",
    "추정한 선형모형이 주어진 자료에 적합한 정도를 나타내는 척도이다. 일반적으로 모형의 설명력으로 해석되지만 모형에 설명변수가 들어갈수록 증가하기 때문에 해석에 주의해야 한다. 0부터 1까지로 나타나면 1에 가까울 수록 상관관계가 높다. \n",
    "\n",
    "- **SST = SSR + SSE**\n",
    "- **[SST Total Sum of Squars 전체제곱합]** : $ \\sum(y-\\bar y)^2 $ (y값에서 y예상값의 차이의 제곱)\n",
    "- **[SSR Regration Sum of Squares 회귀제곱합 ]** : $ \\sum(\\hat y - \\bar y)^2 $ (y예측값에서 y평균의 차이의 제곱)\n",
    "- **[SSE Error Sum of Squares 오차제곱합]** : $ \\sum(y_i - \\bar y_i)^2 $ (y값에서 y예측값의 차이의 제곱)\n",
    "\n",
    "- 결정계수($R^2$)는 전체제곱합에서 회귀제곱합의 비(SSR/SST)로 구하며 0에서 1사이로 계산\n",
    "\n",
    "- 용어 참고 : http://kkokkilkon.tistory.com/77"
   ]
  },
  {
   "cell_type": "markdown",
   "metadata": {},
   "source": [
    "### 2_3. 회귀직선의 적합도 검토\n",
    "독립변수 X가 종속변수 Y 변동의 몇 %를 설명하는지의 지표이다.\n",
    "\n",
    "- F 통계량 : F 통계량이 크면 귀무가설을 기각하여 모형이 유의하다고 판단.\n"
   ]
  },
  {
   "cell_type": "markdown",
   "metadata": {},
   "source": [
    "----"
   ]
  },
  {
   "cell_type": "markdown",
   "metadata": {},
   "source": [
    "## 3. 선형회귀분석"
   ]
  },
  {
   "cell_type": "markdown",
   "metadata": {},
   "source": [
    "### 3_1. 선형회귀분석의 가정 : 선등독비정\n",
    "선형성은 x-y 산점도를 통해 확인할 수 있다. 데이터가 특징이 없이 잘 퍼져있을 경우 적합하다고 보면 된다.\n",
    "\n",
    "1. **선형성** : X와 Y의 관계가 선형임.\n",
    "1. **등분산성** : 오차의 분산이 같음. 상수분산이라고도 함.\n",
    "1. **독립성** : Y와 잔차는 상관이 없음.\n",
    "1. **비상관성** : 오차들끼리 서로 무관.\n",
    "1. **정상성(정규성)** : 오차의 분포가 정규분포를 따름."
   ]
  },
  {
   "cell_type": "markdown",
   "metadata": {},
   "source": [
    "### 3_2. 다중선형 회귀 분석\n",
    "\n",
    "- t통계량으로 회귀계수들이 유의미한지 확인.\n",
    "- 결정계수로 모형이 얼마나 설명력을 갖는지 확인.\n",
    "- 잔차와 Y 산점도로 추정식(모형)이 데이터에 적합한지 확인\n",
    "- 선형회귀의 조건으로 가정을 만족하는지 확인"
   ]
  },
  {
   "cell_type": "markdown",
   "metadata": {},
   "source": [
    "### 3_2_1 [Multicollinearity 다중공선성]\n",
    "다중 회귀 분석에서 설명변수들 사이에 선형관계가 존재하면 회귀계수의 정확한 추정이 곤란하다.\n",
    "\n",
    "- 검사방법\n",
    "    - [VIF Variance Inflation Factor 분산팽창 요인]을 구하여 10보다 크면 문제가 있음.\n",
    "    - 상태지수가 10 이상이면 문제, 30 이상이면 심각\n",
    "\n",
    "- 해결방법\n",
    "    - 선형관계가 강한 변수를 제거\n",
    "    - 주성분 회귀, 능형회귀로 변경"
   ]
  },
  {
   "cell_type": "markdown",
   "metadata": {},
   "source": [
    "----"
   ]
  },
  {
   "cell_type": "markdown",
   "metadata": {},
   "source": [
    "## 4. 회귀분석의 종류"
   ]
  },
  {
   "cell_type": "markdown",
   "metadata": {},
   "source": [
    "----"
   ]
  },
  {
   "cell_type": "markdown",
   "metadata": {},
   "source": [
    "## 5. 회귀분석 사례"
   ]
  },
  {
   "cell_type": "markdown",
   "metadata": {},
   "source": [
    "### 5_1 회귀분석 사례"
   ]
  },
  {
   "cell_type": "markdown",
   "metadata": {},
   "source": [
    "### 5_2 로지스틱 분석 사례"
   ]
  },
  {
   "cell_type": "markdown",
   "metadata": {},
   "source": [
    "----"
   ]
  },
  {
   "cell_type": "markdown",
   "metadata": {},
   "source": [
    "## 6. 최적회귀방정식의 선택"
   ]
  },
  {
   "cell_type": "markdown",
   "metadata": {},
   "source": [
    "### 6_1. 최적 회귀 방정식의 선택"
   ]
  },
  {
   "cell_type": "markdown",
   "metadata": {},
   "source": [
    "### 6_2. 벌점화된 선택기준"
   ]
  },
  {
   "cell_type": "markdown",
   "metadata": {},
   "source": [
    "### 6_3. 최적 회귀 방정식의 살계"
   ]
  },
  {
   "cell_type": "markdown",
   "metadata": {},
   "source": [
    "----"
   ]
  }
 ],
 "metadata": {
  "kernelspec": {
   "display_name": "R",
   "language": "R",
   "name": "ir"
  },
  "language_info": {
   "codemirror_mode": "r",
   "file_extension": ".r",
   "mimetype": "text/x-r-source",
   "name": "R",
   "pygments_lexer": "r",
   "version": "3.5.1"
  }
 },
 "nbformat": 4,
 "nbformat_minor": 2
}
