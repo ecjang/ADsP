{
 "cells": [
  {
   "cell_type": "markdown",
   "metadata": {},
   "source": [
    "<h1><center>Chapter04. 통계분석</center></h1>"
   ]
  },
  {
   "cell_type": "markdown",
   "metadata": {},
   "source": [
    "<h1><center>제 3절. 회귀분석</center></h1>"
   ]
  },
  {
   "cell_type": "markdown",
   "metadata": {},
   "source": [
    "### 학습목표\n",
    "1. 회귀분석의 정의와 과정을 이해\n",
    "1. 회귀추정식의 통계적 가설 검정을 이햐\n",
    "1. R프로그램을 통해 회귀분석을 활용, 내용 해석\n",
    "1. 다중회귀분석에서 변수선택법을 이해\n",
    "\n",
    "\n",
    "### 단순회귀, 다중회귀 분석\n",
    "단순회귀는 하나의 요소를, 다중회귀는 여러 요소를 분석하고 모형화하는 것을 의미하는 것으로 일반적으로 다중회귀를 사용한다."
   ]
  },
  {
   "cell_type": "markdown",
   "metadata": {},
   "source": [
    "----"
   ]
  },
  {
   "cell_type": "markdown",
   "metadata": {},
   "source": [
    "## 1. 회귀분석의 개요"
   ]
  },
  {
   "cell_type": "markdown",
   "metadata": {},
   "source": [
    "### 1_1. 회귀분석의 정의\n",
    "독립변수 X가 종속변수 Y에 미치는 영향을 추정할 수 있는 통계기법으로 **변수들 사이의 인과관계를 분석하여 관심있는 변수를 예측하거나 추론하기 위한 분석방법**이다.\n",
    "\n",
    "- 영향을 받는 변수 Y : [Response Variable 반응변수], [Dependent Variavle 종속변수], [Output Variable 결과변수]\n",
    "\n",
    "- 영향을 주는 변수 X : [Explanatory Variable 설명변수], [Independent Variable 독립변수], [Predicor Variable 예측변수]\n",
    "\n",
    "\n",
    "### **1_1_1. 회귀분석의 검토사항**\n",
    "    \n",
    "1. **유의수준 5%이하**에서 F통계량의 P-값이 0.05보다 작으면 추정된 회귀식은 유의미하다.\n",
    "1. **결정계수**는 0에서 1사이의 값을 가지며 높을 수록 회귀식의 설명력이 높다.\n",
    "1. 잔차 그래프를 통해 모형이 데이터에 적합한지 알 수 있다."
   ]
  },
  {
   "cell_type": "markdown",
   "metadata": {},
   "source": [
    "### 1_2. 회귀계수의 추정(최소자승법, 최소제곱법)\n",
    "[Method of Least Squares, Least Suuares Approximation 최소자승법]은 근사적으로 구하려는 해와 실제 해의 오차의 합이 최소가 되는 해를 구하는 방법이다. 아래 공식의 값을 최소로 만드는 베타값을 구하는 것이 목표이다.\n",
    "$$ \\sum_{i}(y_i - f(x_i- \\beta))^2 $$"
   ]
  },
  {
   "cell_type": "markdown",
   "metadata": {},
   "source": [
    "### 1_2_1. 최소제곱법 추가 설명\n",
    "최소제곱법은 잔차를 가장 적게 만드는 방법이다.\n",
    "- $$ E(a,b) = \\sum^{n}_{i=1}(y_i - (ax_i+b))^2 $$\n",
    "- url : http://localhost:8888/notebooks/%5Binfo%5D%20LeastSquares.ipynb"
   ]
  },
  {
   "cell_type": "markdown",
   "metadata": {},
   "source": [
    "----"
   ]
  },
  {
   "cell_type": "markdown",
   "metadata": {},
   "source": [
    "## 2. 회귀분석의 검정"
   ]
  },
  {
   "cell_type": "markdown",
   "metadata": {},
   "source": [
    "### 2_1. 회귀계수의 검정\n",
    "\n",
    "회귀계수가 0이면 x와 y 사이에는 아무런 관계가 없다는 의미이다. "
   ]
  },
  {
   "cell_type": "markdown",
   "metadata": {},
   "source": [
    "### 2_2. [Coefficient Determination 결정계수]\n",
    "추정한 선형모형이 주어진 자료에 적합한 정도를 나타내는 척도이다. 일반적으로 모형의 설명력으로 해석되지만 모형에 설명변수가 들어갈수록 증가하기 때문에 해석에 주의해야 한다. 0부터 1까지로 나타나면 1에 가까울 수록 상관관계가 높다. \n",
    "\n",
    "- **SST = SSR + SSE**\n",
    "- **[SST Total Sum of Squars 전체제곱합]** : $ \\sum(y-\\bar y)^2 $ (y값에서 y예상값의 차이의 제곱)\n",
    "- **[SSR Regration Sum of Squares 회귀제곱합 ]** : $ \\sum(\\hat y - \\bar y)^2 $ (y예측값에서 y평균의 차이의 제곱)\n",
    "- **[SSE Error Sum of Squares 오차제곱합]** : $ \\sum(y_i - \\bar y_i)^2 $ (y값에서 y예측값의 차이의 제곱)\n",
    "\n",
    "- 결정계수($R^2$)는 전체제곱합에서 회귀제곱합의 비(SSR/SST)로 구하며 0에서 1사이로 계산\n",
    "\n",
    "- 용어 참고 : http://kkokkilkon.tistory.com/77"
   ]
  },
  {
   "cell_type": "markdown",
   "metadata": {},
   "source": [
    "#### 결정계수\n",
    "- 결정계수는 모델로 설명되는 총 제곱합의 비율 \n",
    "- $$ R^2 = \\frac{SSR}{SST} = 1- \\frac{SSE}{SST} $$\n",
    "\n",
    "#### , 수정된 결정계수\n",
    "- Y에 영향을 주지 않는 X가 증가해도 결정계수가 증가하는 문제점.\n",
    "- 다중회귀분석에서는 수정된 결정계수를 사용.\n",
    "- X의 개수가 다른 모형을 비교하기 위해 사용.\n",
    "- $$ R_a^2 = 1- \\frac{n-1}{n-p-1}(1-R^2) $$"
   ]
  },
  {
   "cell_type": "markdown",
   "metadata": {},
   "source": [
    "### 2_3. 회귀직선의 적합도 검토\n",
    "독립변수 X가 종속변수 Y 변동의 몇 %를 설명하는지의 지표이다.\n",
    "\n",
    "- F 통계량 : F 통계량이 크면 귀무가설을 기각하여 모형이 유의하다고 판단.\n"
   ]
  },
  {
   "cell_type": "markdown",
   "metadata": {},
   "source": [
    "----"
   ]
  },
  {
   "cell_type": "markdown",
   "metadata": {},
   "source": [
    "## 3. 선형회귀분석"
   ]
  },
  {
   "cell_type": "markdown",
   "metadata": {},
   "source": [
    "### 3_1. 선형회귀분석의 가정 : 선등독비정\n",
    "선형성은 x-y 산점도를 통해 확인할 수 있다. 데이터가 특징이 없이 잘 퍼져있을 경우 적합하다고 보면 된다.\n",
    "\n",
    "1. **선형성** : X와 Y의 관계가 선형임.\n",
    "1. **등분산성** : 오차의 분산이 같음. 상수분산이라고도 함.\n",
    "1. **독립성** : Y와 잔차는 상관이 없음.\n",
    "1. **비상관성** : 오차들끼리 서로 무관.\n",
    "1. **정상성(정규성)** : 오차의 분포가 정규분포를 따름."
   ]
  },
  {
   "cell_type": "markdown",
   "metadata": {},
   "source": [
    "### 3_2. 다중선형 회귀 분석\n",
    "\n",
    "- t통계량으로 회귀계수들이 유의미한지 확인.\n",
    "- 결정계수로 모형이 얼마나 설명력을 갖는지 확인.\n",
    "- 잔차와 Y 산점도로 추정식(모형)이 데이터에 적합한지 확인\n",
    "- 선형회귀의 조건으로 가정을 만족하는지 확인"
   ]
  },
  {
   "cell_type": "markdown",
   "metadata": {},
   "source": [
    "### 3_2_1 [Multicollinearity 다중공선성]\n",
    "다중 회귀 분석에서 설명변수들 사이에 선형관계가 존재하면 회귀계수의 정확한 추정이 곤란하다.\n",
    "\n",
    "- 검사방법\n",
    "    - [VIF Variance Inflation Factor 분산팽창 요인]을 구하여 10보다 크면 문제가 있음.\n",
    "    - 상태지수가 10 이상이면 문제, 30 이상이면 심각\n",
    "\n",
    "- 해결방법\n",
    "    - 선형관계가 강한 변수를 제거\n",
    "    - 주성분 회귀, 능형회귀로 변경"
   ]
  },
  {
   "cell_type": "markdown",
   "metadata": {},
   "source": [
    "----"
   ]
  },
  {
   "cell_type": "markdown",
   "metadata": {},
   "source": [
    "## 4. 회귀분석의 종류 : 단다로다곡비\n",
    "회귀분석에는 다양한 종류가 있으며 상황에 따라 어떤 회귀분석을 할 것인지 파악할 수 있어야 한다.\n",
    "\n",
    "1. **[SRA Simple Regression Analysis 단순회귀분석]**\n",
    "    - 설명변수 X가 1개이며 반응변수 Y와의 관계가 직선.\n",
    "    - $ Y = \\beta_0 + \\beta_1X + \\epsilon $\n",
    "    <BR><BR>\n",
    "    \n",
    "2. **[MRA Multiple Regreassion Analysis 다중회귀분석]**\n",
    "    - 설명변수 X가 여러개이며 Y와의 관계가 선형(1차 함수).\n",
    "    - $ Y = \\beta_0 + \\beta_1X_1 + \\beta_2X_2 + ... + \\beta_kX_k + \\epsilon $\n",
    "    <BR><BR>\n",
    "    \n",
    "3. **[RR Rogistic Regression 로지스틱 회귀]**\n",
    "    - 일반적인 다중회귀분석과 유사.\n",
    "    - 데이터가 범주형인 경우에 사용 가능하며 다중, 다항 로지스틱으로 확장가능.\n",
    "    - $ Y = \\beta_0 + \\beta_1X_1 + \\beta_2X_2 + ... + \\beta_kX_k + \\epsilon $\n",
    "    <BR><BR>\n",
    "    \n",
    "4. **[PR Polynomial Regression 다항회귀]**\n",
    "    - 로지스틱 회귀에서 X와의 관계가 1차 함수 이상.(X의 개수가 1개면 2차 함수 이상)\n",
    "    - 독립변수가 2차식 이상으로 여러개의 변수로 구성. 다중 선형회귀 모델과 유사.\n",
    "    - X의 개수가 2이고 2차 함수인 경우\n",
    "    - $ Y = \\beta_0 + \\beta_1X_1 + \\beta_2X^2 + \\beta_3X^3 + \\epsilon $\n",
    "    <BR><BR>\n",
    "    \n",
    "5. **[CF Curve Fitting 곡선회귀]**\n",
    "    - 설명변수 X와 반응변수 Y의 관계가 곡선\n",
    "    - 직선 회귀보다 더 정확한 회귀식 계산 가능\n",
    "    - $ Y = \\beta_0 + \\beta_1X + \\beta_2X^2 + \\epsilon $ \n",
    "    <BR><BR>\n",
    "    \n",
    "6. **[NR Nonlinear Regression 비선형회귀]**\n",
    "    - 종속변수와 독힙변수 간의 임의적 관계를 통해 모형을 추정\n",
    "    - 반복 추정 알고리즘 사용\n",
    "    - $ Y = \\alpha e^{-\\beta X}+\\epsilon $"
   ]
  },
  {
   "cell_type": "markdown",
   "metadata": {},
   "source": [
    "----"
   ]
  },
  {
   "cell_type": "markdown",
   "metadata": {},
   "source": [
    "## 5. 회귀분석 사례"
   ]
  },
  {
   "cell_type": "markdown",
   "metadata": {},
   "source": [
    "### 5_1 회귀분석 사례\n",
    "MASS 패키지의 Cars93 데이터셋을 다중회귀분석으로 분석해본다.\n",
    "- method : ` lm(Price~EngineSize+RPM+Weight, data=Cars93)`\n",
    "- url : http://localhost:8888/notebooks/%5Bdata%5D%20Cars93_Regression.ipynb"
   ]
  },
  {
   "cell_type": "markdown",
   "metadata": {},
   "source": [
    "### 5_2 로지스틱 분석 사례\n",
    "\n",
    "Boot 패키지의 nodal 데이터셋으로 로지스틱 분석을 해본다.\n",
    "- method : `glmModel <- glm(r~., data=data, family = \"binomial\")`\n",
    "- url : http://localhost:8888/notebooks/%5Bdata%5D%20Nodal_LogsticRegression.ipynb"
   ]
  },
  {
   "cell_type": "markdown",
   "metadata": {},
   "source": [
    "----"
   ]
  },
  {
   "cell_type": "markdown",
   "metadata": {},
   "source": [
    "## 6. 최적회귀방정식의 선택"
   ]
  },
  {
   "cell_type": "markdown",
   "metadata": {},
   "source": [
    "### 6_1. 최적 회귀 방정식의 선택\n",
    "\n",
    "1. 설명변수 중 필요한 변수만 선택하여 분석한다. 설명변수의 수가 많아지면 복잡해질 수 있으니 가능한 적은 수의 설명변수로 분석하는 것이 좋다.\n",
    "\n",
    "1. 분석 데이터에 가장 잘 맞는 모형을 찾기위해 **[Exploratory Analysis 모형선택]**을 실시한다.\n",
    "    - [All Possilbe Regression 모든 조합의 회귀분석] : 모든 독립변수들의 조합에 대한 회귀모형을 분석하여 가장 적합한 모형을 선택하는 방법\n",
    "    \n",
    "1. 적절한 변수를 선택하기 위해 **[Stepwise Variable Selection 단계적 변수선택]**을 실시한다.\n",
    "    - **[Forward Selection 전진선택법]** : 중요한 변수들부터 차례로 추가, 변수가 많을때 사용\n",
    "    - **[Backward Selection 후진제거법]** : 모든 변수를 추가한 후 영향력이 적은 변수부터 제거\n",
    "    - **[Stepwise Selection 단계별방법]** : 전진선택법으로 변수 추가중 추가된 변수가 중요도가 약화되면 제거하는 방법. \n"
   ]
  },
  {
   "cell_type": "markdown",
   "metadata": {},
   "source": [
    "### 6_2. 벌점화된 선택기준\n",
    "모형의 복잡도에 벌점을 주는 방법이다.서로 다른 선형 회귀 모형의 성능을 비교할 때 사용한다.\n",
    "\n",
    "- 모든 후보 모형에 대해 AIC, BIC를 계산후 최소가 되는 모형을 선택\n",
    "- **[Consistency Inselection 모형 일치성]** : 자료의 수가 늘어날 때 참인 모형이 주어진 모형선택 기준의 최소값을 갖게 되는 성질\n",
    "- 이론적으로 AIC에 대해 일치성이 성립되지 않지만 BIC 주요 분포에서 이런 성질이 성립\n",
    "- AIC가 가장 보편화되어 있음"
   ]
  },
  {
   "cell_type": "markdown",
   "metadata": {},
   "source": [
    "\n",
    "1. **[AIC Akaike Information Criterion 아카이케 정보 기준]**\n",
    "    - 값이 작을 수록 더 좋은 모델이며 모 모델의 관측치 개수가 거의 동일할 때만 사용가능\n",
    "    - AIC값은 음수일 수 있으며 반응변수와 실제 분포와 모델에 지정된 분포 사이의 불일치에 대한 측도를 기반\n",
    "    - $$ AIC = 2k - 2ln(\\hat{L}) $$\n",
    "    \n",
    "    \n",
    "2. **[BIC Bayesian Information Criterion 베이시안 정보 기준]**\n",
    "    - SBC, SIC, SBIC, BIC 전부 같은 의미\n",
    "    - 모델의 잔차 제곱합과 효과 수를 증가시키는 함수 \n",
    "    - 반응변수와 효과 수로 설명되지 않는 변동으로  BIC값이 증가\n",
    "    - BIC는 AIC보다 자유 모수에 더 강력한 패널티를 부과\n",
    "    - $$ BIC = ln(n)k - 2ln(\\hat{L}) $$\n",
    "    \n",
    "3. 기타 : [RIC Risk Inflation Criterion], [CIC Covariance Inflation Criterion], [DIC Deviation Information Criterion]"
   ]
  },
  {
   "cell_type": "markdown",
   "metadata": {},
   "source": [
    "### 6_3. 최적 회귀 방정식의 설계\n",
    "- AIC : `step(lm.full.Model, lpsa~1, direction = \"backward\")`\n",
    "- BIC : `step(lm.full.Model, lpsa~1, direction = \"backward\", k=log(nrow(data.use)))`\n",
    "- url : http://localhost:8888/notebooks/%5Bdata%5D%20Prostate_StepwiseVariableSelection.ipynb"
   ]
  },
  {
   "cell_type": "markdown",
   "metadata": {},
   "source": [
    "----"
   ]
  }
 ],
 "metadata": {
  "kernelspec": {
   "display_name": "R",
   "language": "R",
   "name": "ir"
  },
  "language_info": {
   "codemirror_mode": "r",
   "file_extension": ".r",
   "mimetype": "text/x-r-source",
   "name": "R",
   "pygments_lexer": "r",
   "version": "3.5.1"
  }
 },
 "nbformat": 4,
 "nbformat_minor": 2
}
