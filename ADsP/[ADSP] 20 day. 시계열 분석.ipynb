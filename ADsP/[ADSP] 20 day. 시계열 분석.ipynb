{
 "cells": [
  {
   "cell_type": "markdown",
   "metadata": {},
   "source": [
    "<h1><center>Chapter04. 통계분석</center></h1>"
   ]
  },
  {
   "cell_type": "markdown",
   "metadata": {},
   "source": [
    "<h1><center>제 4절. 시계열 분석</center></h1>"
   ]
  },
  {
   "cell_type": "markdown",
   "metadata": {},
   "source": [
    "### 학습목표\n",
    "1. 회귀분석의 정의와 과정을 이해\n",
    "1. 회귀추정식의 통계적 가설 검정을 이햐\n",
    "1. R프로그램을 통해 회귀분석을 활용, 내용 해석\n",
    "1. 다중회귀분석에서 변수선택법을 이해\n",
    "\n",
    "\n",
    "### 단순회귀, 다중회귀 분석\n",
    "단순회귀는 하나의 요소를, 다중회귀는 여러 요소를 분석하고 모형화하는 것을 의미하는 것으로 일반적으로 다중회귀를 사용한다."
   ]
  },
  {
   "cell_type": "markdown",
   "metadata": {},
   "source": [
    "----"
   ]
  },
  {
   "cell_type": "markdown",
   "metadata": {},
   "source": [
    "----"
   ]
  }
 ],
 "metadata": {
  "kernelspec": {
   "display_name": "R",
   "language": "R",
   "name": "ir"
  },
  "language_info": {
   "codemirror_mode": "r",
   "file_extension": ".r",
   "mimetype": "text/x-r-source",
   "name": "R",
   "pygments_lexer": "r",
   "version": "3.5.1"
  }
 },
 "nbformat": 4,
 "nbformat_minor": 2
}
