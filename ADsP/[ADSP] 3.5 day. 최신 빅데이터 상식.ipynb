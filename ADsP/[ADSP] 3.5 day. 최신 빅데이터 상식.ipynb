{
 "cells": [
  {
   "cell_type": "markdown",
   "metadata": {},
   "source": [
    "<h1><center>1절. 빅데이터 상식</center></h1>"
   ]
  },
  {
   "cell_type": "markdown",
   "metadata": {},
   "source": [
    "\n",
    "## 1. SQL과 DBMS\n",
    "우선 SQL과 DBMS에 대해 알아야 한다.\n",
    "\n",
    "### 1_1. DBMS란?\n",
    "\n",
    "[DBMS DataBase Management System 데이터베이스 관리 시스템] 이름 그대로 데이터베이스를 관리하기 위한 소프트웨어이다. \n",
    "\n",
    "### 1_2. SQL이란?\n",
    "\n",
    "[SQL Structure Query Language 구축 질의 언어] 데이터베이스에 접근할 수 있는 하부 언어이다. 단순한 질의, 완전한 데이터 정의, 조작 기능을 갖추고 있다.\n",
    "\n",
    "* [DML 데이터 조작어] : 데이터를 관리.(Select, Insert, Delete, Update)\n",
    "\n",
    "* [DDL 데이터 정의어] : 테이블을 관리.(Create, Alter, Rename, Drop, Truncate)\n",
    "\n",
    "* [DCL 데이터 제어어] : 권한을 관리.(Grant, Revork)\n",
    "\n",
    "* [TCL 트랜젝션 제어어] : 작업을 관리.(Commit, Rollback, Savepoint)\n",
    "\n"
   ]
  },
  {
   "cell_type": "markdown",
   "metadata": {},
   "source": [
    "## 2. Data에 관련 기술들.\n",
    "데이터 기술의 발전에 따라 다양한 기술들이 나왔는데 그중 몇 가지를 알아본다.\n",
    "\n",
    "### 2_1. 개인정보 비식별 기술\n",
    "\n",
    "* [Data Masking 데이터 마스킹] : 데이터를 변조하는 기술. 정적·동적 마스킹이 있으며 치환, 셔플, 암호화 기술이 있다. (홍길동 -> 홍*동, 한국 대학 -> OO대학)\n",
    "\n",
    "* [Pseudonymization 가명 처리] : 다른 이름으로 대체.(이몽룡 -> 성춘향)\n",
    "\n",
    "* [Aggregation 총계 처리] : 데이터의 총계로 표시. (홍길동, 이몽룡, 성춘향 -> 전체: 3명)\n",
    "\n",
    "* [Data Reduction 데이터 값 삭제] : 개인정보를 삭제. (홍길동, 한국 대학 -> 한국 대학 재학생)\n",
    "\n",
    "* [Data Suppression 데이터 범주화] : 범주로 변환하여 관리. (홍길동 180cm-> 홍길동 171~180cm)\n",
    "\n",
    "\n",
    "\n",
    "### 2_2. 무결성과 레이크\n",
    "\n",
    "* [Data Integrity 데이터 무결성] :데이터의 일관성, 신뢰성, 유효성을 보장하기 위한 제한사항. [Entity Integrity 개체 무결성], [Referential Integrity 참조 무결성], [Domain Integrity 범위 무결성] 이 있다.\n",
    "\n",
    "* [Data Lake 데이터 레이크] : 데이터 종류에 상관없이 모든 데이터를 저장하는 시스템. Hadoop, Big Data Platform 1700 같은 플랫폼.\n",
    "\n"
   ]
  },
  {
   "cell_type": "markdown",
   "metadata": {},
   "source": [
    "## 3. 분석 소프트웨어\n",
    "빅데이터 분석을 위한 대표적인 소프트웨어들이 있다.\n",
    "\n",
    "### 3_1. Hadoop\n",
    "여러 개의 컴퓨터를 하나로 묶어 대용량 데이터를 처리하는 기술. [HDFS Hadoop Distribution File System 분산 파일 시스템]으로 수천 대의 장비에서 대용량 파일을 저장할 수 있는 기능. [Map Reduce 맵리듀스]로 HDFS에 저장된 데이터에 SQL을 사용하여 질의할 수 있다. 하둡 에코시스템으로 부족한 점을 보완.\n",
    "\n",
    "### 3_2. Map Reduce(=MR)\n",
    "구글에서 대용량 데이터를 분산 병렬 처리하기 위한 목적으로 제작한 프레임워크. 패타 바이트 이상의 데이터를 신뢰도가 낮은 컴퓨터로 구성된 클라우드 환경에서 지원하기 위해서 개발되었다. 함수형 프로그래밍에서 Map과 Reduce라는 함수 기반으로 구성되어 있다.\n",
    "\n",
    "### 3_3. Smart Factory \n",
    "공장 내 설비와 사물인터넷이 설치되어 공정 데이터를 실시간으로 수집하고 의사결정에 도움을 줄 수 있는 기술.\n",
    "\n",
    "### 3_4. Machine Learning & Deep Learning\n",
    "인간의 학습 능력과 같은 기능의 컴퓨터를 실현하려는 기술. 딥 러닝은 [ANN Artificial Neural 인공신경망] 기술에 기반한 기계 학습 중 하나. Theano, Caffe, Tensorflow 등을 사용."
   ]
  },
  {
   "cell_type": "markdown",
   "metadata": {},
   "source": [
    "## 4. 데이터 유형\n",
    "데이터는 크게 비정형, 정형, 반정형 데이터로 나눌 수 있다.\n",
    "\n",
    "* [정형 데이터 Structured Data] : 형태가 있으며 연산 가능. 대부분 숫자형 데이터.\n",
    "* [비정형 데이터 unstructured Data] : 형태가 없으며 연산 불가. 높은 수집 난이도에 전처리가 필요. 주로 텍스트, 영상, 이미지, 음성 등의 데이터.\n",
    "* [반정형 데이터 Semi-Structred Data] : 형태가 있지만 연산 불가. 보통 API 형태로 제공되어 처리 필요. 주로 XML. HTML, JSON, 각종 Log 데이터."
   ]
  },
  {
   "cell_type": "markdown",
   "metadata": {},
   "source": [
    "----"
   ]
  }
 ],
 "metadata": {
  "kernelspec": {
   "display_name": "Python 3",
   "language": "python",
   "name": "python3"
  },
  "language_info": {
   "codemirror_mode": {
    "name": "ipython",
    "version": 3
   },
   "file_extension": ".py",
   "mimetype": "text/x-python",
   "name": "python",
   "nbconvert_exporter": "python",
   "pygments_lexer": "ipython3",
   "version": "3.6.5"
  }
 },
 "nbformat": 4,
 "nbformat_minor": 2
}
