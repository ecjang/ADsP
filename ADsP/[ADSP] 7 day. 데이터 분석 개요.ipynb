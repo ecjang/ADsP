{
 "cells": [
  {
   "cell_type": "markdown",
   "metadata": {},
   "source": [
    "## 목차\n",
    "\n",
    "\n",
    "\n",
    "1절. 데이터 분석 기법의 이해\n",
    "\n",
    "1. 데이터 처리\n",
    "\n",
    "2. 탐색적 자료 분석\n",
    "\n",
    "3. 통계분석\n",
    "\n",
    "4. 데이터 마이닝 "
   ]
  },
  {
   "cell_type": "markdown",
   "metadata": {},
   "source": [
    "----"
   ]
  },
  {
   "cell_type": "markdown",
   "metadata": {},
   "source": [
    "<h1><center>1절. 데이터 분석 기법의 이해</center></h1>"
   ]
  },
  {
   "cell_type": "markdown",
   "metadata": {},
   "source": [
    "## 1. 데이터 처리\n",
    "데이터 분석 시 [DW Data Warehouse 데이터 웨어하우스]나 [DM Data Mart 데이터마트]에서 추출하여 사용한다. 이에 포함되지 않은 자료는 [Legacy 기존 운영 시스템]에서 직접 가져오거나 [ODS Operational Data Store 운영 데이터 스토어] 혹은 [스테이징 영역 Staging Area]에서 운영 시스템과 유사한 정제된 데이터를 가져와 DW에서 가져온 자료와 결합하여 사용한다.\n",
    "\n",
    "* 운영 시스템에 직접 접근하여 데이터를 활용하는 것은 위험\n",
    "\n",
    "* 최적화 : 제약 값, 목적함수, 제약 조건에 들어갈 계수 값을 산출\n",
    "\n",
    "* 비정형 데이터는 전처리 과정을 거쳐 정형화하여 처리\n",
    "\n"
   ]
  },
  {
   "cell_type": "markdown",
   "metadata": {},
   "source": [
    "## 2. [EDA Exploratory Data Analysis 탐색적 자료 분석]\n",
    "1977년 프린스톤 대학의 튜키교수가 발표한 기법으로 다양한 차원의 값을 조합하여 의미 있는 사실을 분석하는 방법이다. \n",
    "\n",
    "* 4가지 주제 : 저항성, 잔차 해석, 자료 재표현, 그래프를 통한 현시성"
   ]
  },
  {
   "cell_type": "markdown",
   "metadata": {},
   "source": [
    "## 3. 통계 분석\n",
    "통계란 종합적으로 일정한 체계에 따라 숫자와 표로 나타낸 것을 의미하여 기술통계와 추측 통계가 있다.\n",
    "\n",
    "* [Descriptive Statistics 기술 통계] : 표본이 가지고 있는 정보를 숫자나 그래프로 표현\n",
    "\n",
    "* [Inferential Statistice 추측 통계] : 모집단의 특성인 모수를 추측"
   ]
  },
  {
   "cell_type": "markdown",
   "metadata": {},
   "source": [
    "\n",
    "## 4. 데이터 마이닝\n",
    "대용량 데이터로부터 상관관계를 탐색하고 정보를 추출하여 의사 결정에 이용하는 과정을 의미한다.\n",
    "\n",
    "* 방법론 : 지식 탐색, 기계학습, 패턴인식\n",
    "\n"
   ]
  },
  {
   "cell_type": "markdown",
   "metadata": {},
   "source": [
    "----"
   ]
  }
 ],
 "metadata": {
  "kernelspec": {
   "display_name": "Python 3",
   "language": "python",
   "name": "python3"
  },
  "language_info": {
   "codemirror_mode": {
    "name": "ipython",
    "version": 3
   },
   "file_extension": ".py",
   "mimetype": "text/x-python",
   "name": "python",
   "nbconvert_exporter": "python",
   "pygments_lexer": "ipython3",
   "version": "3.6.5"
  }
 },
 "nbformat": 4,
 "nbformat_minor": 2
}
