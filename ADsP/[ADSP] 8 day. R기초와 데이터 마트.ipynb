{
 "cells": [
  {
   "cell_type": "markdown",
   "metadata": {},
   "source": [
    "<h1><center>1절. R의 기초</center></h1>"
   ]
  },
  {
   "cell_type": "markdown",
   "metadata": {},
   "source": [
    "## 1. R의 특징\n",
    "\n",
    "1. 오픈소스 프로그램으로 무료로 사용이 가능.\n",
    "1. 많은 사용자들이 사용하기 때문에 다수의 커뮤니티 및 업데이트.\n",
    "1. 그래프 및 시각화 관련 우수한 성능\n",
    "1. 각 세션 사이마다 시스템에 데이터셋 저장.\n",
    "1. 명령어 히스토리 저장 가능.\n",
    "1. 모든 운영체제에서 사용 가능.\n",
    "1. S통계 언어 기반.(R/S플렛폼은 전문가들의 표준 플렛폼)\n",
    "1. 객체지향 언어.\n",
    "1. 함수형 언어."
   ]
  },
  {
   "cell_type": "markdown",
   "metadata": {},
   "source": [
    "## 2.  R 스튜디오"
   ]
  },
  {
   "cell_type": "markdown",
   "metadata": {},
   "source": [
    "1. 오픈소스, 무료, 다양한 운영체제 지원\n",
    "1. 메모리에 변수와 타입 확인 가능\n",
    "1. 스크립트 관리와 편리한 도큐멘테이션 \n",
    "1. 쉽운 자동화"
   ]
  },
  {
   "cell_type": "markdown",
   "metadata": {},
   "source": []
  },
  {
   "cell_type": "markdown",
   "metadata": {},
   "source": []
  },
  {
   "cell_type": "markdown",
   "metadata": {},
   "source": []
  },
  {
   "cell_type": "markdown",
   "metadata": {},
   "source": []
  },
  {
   "cell_type": "markdown",
   "metadata": {},
   "source": []
  },
  {
   "cell_type": "markdown",
   "metadata": {},
   "source": []
  },
  {
   "cell_type": "markdown",
   "metadata": {},
   "source": []
  },
  {
   "cell_type": "markdown",
   "metadata": {},
   "source": []
  }
 ],
 "metadata": {
  "kernelspec": {
   "display_name": "Python 3",
   "language": "python",
   "name": "python3"
  },
  "language_info": {
   "codemirror_mode": {
    "name": "ipython",
    "version": 3
   },
   "file_extension": ".py",
   "mimetype": "text/x-python",
   "name": "python",
   "nbconvert_exporter": "python",
   "pygments_lexer": "ipython3",
   "version": "3.6.5"
  }
 },
 "nbformat": 4,
 "nbformat_minor": 2
}
