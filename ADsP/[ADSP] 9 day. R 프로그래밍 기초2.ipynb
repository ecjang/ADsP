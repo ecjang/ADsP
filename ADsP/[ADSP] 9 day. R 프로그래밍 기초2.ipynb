{
 "cells": [
  {
   "cell_type": "markdown",
   "metadata": {},
   "source": [
    "<h1><center>2절. R의 기초2</center></h1>"
   ]
  },
  {
   "cell_type": "markdown",
   "metadata": {},
   "source": [
    "## 1. R 기초 중에 기초\n",
    "\n",
    "### 1_1. 기초\n",
    "가장 기초가 되는 코드부터 알아본다."
   ]
  },
  {
   "cell_type": "markdown",
   "metadata": {},
   "source": [
    "1. 출력하기\n",
    "    - print() : 한번에 하나씩 출력, 출력후에는 행을 바꿈.\n",
    "    - cat() : 여러 항목을 출력. 행렬, 리스트 같이 복합적인 구조는 출력 불가. 행을 바꾸지 않음"
   ]
  },
  {
   "cell_type": "code",
   "execution_count": 5,
   "metadata": {},
   "outputs": [
    {
     "name": "stdout",
     "output_type": "stream",
     "text": [
      "[1] \"abc\"\n",
      "1 2 3 4 5 \n"
     ]
    }
   ],
   "source": [
    "# 출력하기\n",
    "print(\"abc\")\n",
    "cat(1,2,3,4,5, '\\n')"
   ]
  },
  {
   "cell_type": "code",
   "execution_count": 10,
   "metadata": {},
   "outputs": [
    {
     "name": "stdout",
     "output_type": "stream",
     "text": [
      "Adding...1 ...2 ...3 ...4 ...5 ...6 ...7 ...8 ...9 ...10 ...Done! \n"
     ]
    }
   ],
   "source": [
    "sum_to_ten <- function(){\n",
    "    sum <- 0\n",
    "    cat('Adding...')\n",
    "    for (i in 1:10){\n",
    "        sum <- sum + i\n",
    "        cat(i, (\"...\"))\n",
    "    }\n",
    "    cat('Done!', \"\\n\")\n",
    "}\n",
    "sum_to_ten()"
   ]
  },
  {
   "cell_type": "markdown",
   "metadata": {},
   "source": [
    "2. 대입연산자\n",
    "    - `<-`, `<<-`, `=`, `->` : 변수에 값을 할당."
   ]
  },
  {
   "cell_type": "markdown",
   "metadata": {},
   "source": [
    "3. 변수 목록\n",
    "    - ls() : 객체 목록 조회\n",
    "    - ls.str() : 객체 목록과 객체의 참조값도 같이 표시"
   ]
  },
  {
   "cell_type": "code",
   "execution_count": 14,
   "metadata": {},
   "outputs": [],
   "source": [
    "ls_1 <- c(1,2,3)\n",
    "ls_2 <- c('one', 'two', 'three')"
   ]
  },
  {
   "cell_type": "code",
   "execution_count": 25,
   "metadata": {},
   "outputs": [
    {
     "name": "stdout",
     "output_type": "stream",
     "text": [
      "ls():  ls_1 ls_2 sum_to_ten \n",
      "\n",
      "ls.str(): "
     ]
    },
    {
     "data": {
      "text/plain": [
       "ls_1 :  num [1:3] 1 2 3\n",
       "ls_2 :  chr [1:3] \"one\" \"two\" \"three\"\n",
       "sum_to_ten : function ()  "
      ]
     },
     "metadata": {},
     "output_type": "display_data"
    }
   ],
   "source": [
    "cat('ls(): ', ls(), '\\n\\n')\n",
    "cat('ls.str(): ')\n",
    "ls.str()"
   ]
  },
  {
   "cell_type": "markdown",
   "metadata": {},
   "source": [
    "4. 변수 삭제 : rm()"
   ]
  },
  {
   "cell_type": "code",
   "execution_count": 28,
   "metadata": {},
   "outputs": [
    {
     "data": {
      "text/html": [
       "'sum_to_ten'"
      ],
      "text/latex": [
       "'sum\\_to\\_ten'"
      ],
      "text/markdown": [
       "'sum_to_ten'"
      ],
      "text/plain": [
       "[1] \"sum_to_ten\""
      ]
     },
     "metadata": {},
     "output_type": "display_data"
    }
   ],
   "source": [
    "rm(ls_1, ls_2)\n",
    "ls()"
   ]
  },
  {
   "cell_type": "markdown",
   "metadata": {},
   "source": [
    "5. 백터 생성하기: c()"
   ]
  },
  {
   "cell_type": "code",
   "execution_count": 32,
   "metadata": {},
   "outputs": [
    {
     "data": {
      "text/html": [
       "<ol class=list-inline>\n",
       "\t<li>1</li>\n",
       "\t<li>2</li>\n",
       "\t<li>3</li>\n",
       "\t<li>4</li>\n",
       "\t<li>5</li>\n",
       "\t<li>6</li>\n",
       "\t<li>7</li>\n",
       "\t<li>8</li>\n",
       "\t<li>9</li>\n",
       "\t<li>10</li>\n",
       "</ol>\n"
      ],
      "text/latex": [
       "\\begin{enumerate*}\n",
       "\\item 1\n",
       "\\item 2\n",
       "\\item 3\n",
       "\\item 4\n",
       "\\item 5\n",
       "\\item 6\n",
       "\\item 7\n",
       "\\item 8\n",
       "\\item 9\n",
       "\\item 10\n",
       "\\end{enumerate*}\n"
      ],
      "text/markdown": [
       "1. 1\n",
       "2. 2\n",
       "3. 3\n",
       "4. 4\n",
       "5. 5\n",
       "6. 6\n",
       "7. 7\n",
       "8. 8\n",
       "9. 9\n",
       "10. 10\n",
       "\n",
       "\n"
      ],
      "text/plain": [
       " [1]  1  2  3  4  5  6  7  8  9 10"
      ]
     },
     "metadata": {},
     "output_type": "display_data"
    }
   ],
   "source": [
    "create_vector <- c(1:10)\n",
    "create_vector"
   ]
  },
  {
   "cell_type": "markdown",
   "metadata": {},
   "source": [
    "6. R함수 정의하기 : function(매개변수){expr}\n",
    "7. expr 내용\n",
    "    - 지역변수 : 함수 종료시 자동 종료\n",
    "    - 조건부 실행 : if문\n",
    "    - 반복실행 : for, while, repeat\n",
    "    - 전역변수 : <<-을 사용, 추천하지 않음."
   ]
  },
  {
   "cell_type": "markdown",
   "metadata": {},
   "source": [
    "### 1_2. R프로그램\n",
    "기초 명령어를 통해 R의 기본적인 변수를 만들어본다."
   ]
  },
  {
   "cell_type": "code",
   "execution_count": 35,
   "metadata": {},
   "outputs": [
    {
     "data": {
      "text/html": [
       "<ol class=list-inline>\n",
       "\t<li>'1'</li>\n",
       "\t<li>'2'</li>\n",
       "\t<li>'3.5'</li>\n",
       "\t<li>'4.5'</li>\n",
       "\t<li>'one'</li>\n",
       "\t<li>'two'</li>\n",
       "\t<li>'three'</li>\n",
       "</ol>\n"
      ],
      "text/latex": [
       "\\begin{enumerate*}\n",
       "\\item '1'\n",
       "\\item '2'\n",
       "\\item '3.5'\n",
       "\\item '4.5'\n",
       "\\item 'one'\n",
       "\\item 'two'\n",
       "\\item 'three'\n",
       "\\end{enumerate*}\n"
      ],
      "text/markdown": [
       "1. '1'\n",
       "2. '2'\n",
       "3. '3.5'\n",
       "4. '4.5'\n",
       "5. 'one'\n",
       "6. 'two'\n",
       "7. 'three'\n",
       "\n",
       "\n"
      ],
      "text/plain": [
       "[1] \"1\"     \"2\"     \"3.5\"   \"4.5\"   \"one\"   \"two\"   \"three\""
      ]
     },
     "metadata": {},
     "output_type": "display_data"
    }
   ],
   "source": [
    "# combine() : 결합, 문자, 숫자, 논리값, 변수를 결합하여 벡터와 데이터셋을 생성\n",
    "num <- c(1,2,3.5,4.5)\n",
    "txt <- c('one', 'two', 'three')\n",
    "x <- c(num, txt)\n",
    "x"
   ]
  },
  {
   "cell_type": "code",
   "execution_count": 42,
   "metadata": {},
   "outputs": [
    {
     "data": {
      "text/html": [
       "<ol class=list-inline>\n",
       "\t<li>1</li>\n",
       "\t<li>2</li>\n",
       "\t<li>3</li>\n",
       "\t<li>4</li>\n",
       "\t<li>5</li>\n",
       "\t<li>6</li>\n",
       "\t<li>7</li>\n",
       "\t<li>8</li>\n",
       "\t<li>9</li>\n",
       "\t<li>10</li>\n",
       "</ol>\n"
      ],
      "text/latex": [
       "\\begin{enumerate*}\n",
       "\\item 1\n",
       "\\item 2\n",
       "\\item 3\n",
       "\\item 4\n",
       "\\item 5\n",
       "\\item 6\n",
       "\\item 7\n",
       "\\item 8\n",
       "\\item 9\n",
       "\\item 10\n",
       "\\end{enumerate*}\n"
      ],
      "text/markdown": [
       "1. 1\n",
       "2. 2\n",
       "3. 3\n",
       "4. 4\n",
       "5. 5\n",
       "6. 6\n",
       "7. 7\n",
       "8. 8\n",
       "9. 9\n",
       "10. 10\n",
       "\n",
       "\n"
      ],
      "text/plain": [
       " [1]  1  2  3  4  5  6  7  8  9 10"
      ]
     },
     "metadata": {},
     "output_type": "display_data"
    },
    {
     "data": {
      "text/html": [
       "<ol class=list-inline>\n",
       "\t<li>10</li>\n",
       "\t<li>9</li>\n",
       "\t<li>8</li>\n",
       "\t<li>7</li>\n",
       "\t<li>6</li>\n",
       "\t<li>5</li>\n",
       "\t<li>4</li>\n",
       "\t<li>3</li>\n",
       "\t<li>2</li>\n",
       "\t<li>1</li>\n",
       "\t<li>0</li>\n",
       "\t<li>-1</li>\n",
       "\t<li>-2</li>\n",
       "\t<li>-3</li>\n",
       "\t<li>-4</li>\n",
       "\t<li>-5</li>\n",
       "\t<li>-6</li>\n",
       "\t<li>-7</li>\n",
       "\t<li>-8</li>\n",
       "\t<li>-9</li>\n",
       "\t<li>-10</li>\n",
       "</ol>\n"
      ],
      "text/latex": [
       "\\begin{enumerate*}\n",
       "\\item 10\n",
       "\\item 9\n",
       "\\item 8\n",
       "\\item 7\n",
       "\\item 6\n",
       "\\item 5\n",
       "\\item 4\n",
       "\\item 3\n",
       "\\item 2\n",
       "\\item 1\n",
       "\\item 0\n",
       "\\item -1\n",
       "\\item -2\n",
       "\\item -3\n",
       "\\item -4\n",
       "\\item -5\n",
       "\\item -6\n",
       "\\item -7\n",
       "\\item -8\n",
       "\\item -9\n",
       "\\item -10\n",
       "\\end{enumerate*}\n"
      ],
      "text/markdown": [
       "1. 10\n",
       "2. 9\n",
       "3. 8\n",
       "4. 7\n",
       "5. 6\n",
       "6. 5\n",
       "7. 4\n",
       "8. 3\n",
       "9. 2\n",
       "10. 1\n",
       "11. 0\n",
       "12. -1\n",
       "13. -2\n",
       "14. -3\n",
       "15. -4\n",
       "16. -5\n",
       "17. -6\n",
       "18. -7\n",
       "19. -8\n",
       "20. -9\n",
       "21. -10\n",
       "\n",
       "\n"
      ],
      "text/plain": [
       " [1]  10   9   8   7   6   5   4   3   2   1   0  -1  -2  -3  -4  -5  -6  -7  -8\n",
       "[20]  -9 -10"
      ]
     },
     "metadata": {},
     "output_type": "display_data"
    },
    {
     "data": {
      "text/html": [
       "<ol class=list-inline>\n",
       "\t<li>-10</li>\n",
       "\t<li>-8</li>\n",
       "\t<li>-6</li>\n",
       "\t<li>-4</li>\n",
       "\t<li>-2</li>\n",
       "\t<li>0</li>\n",
       "\t<li>2</li>\n",
       "\t<li>4</li>\n",
       "\t<li>6</li>\n",
       "\t<li>8</li>\n",
       "\t<li>10</li>\n",
       "</ol>\n"
      ],
      "text/latex": [
       "\\begin{enumerate*}\n",
       "\\item -10\n",
       "\\item -8\n",
       "\\item -6\n",
       "\\item -4\n",
       "\\item -2\n",
       "\\item 0\n",
       "\\item 2\n",
       "\\item 4\n",
       "\\item 6\n",
       "\\item 8\n",
       "\\item 10\n",
       "\\end{enumerate*}\n"
      ],
      "text/markdown": [
       "1. -10\n",
       "2. -8\n",
       "3. -6\n",
       "4. -4\n",
       "5. -2\n",
       "6. 0\n",
       "7. 2\n",
       "8. 4\n",
       "9. 6\n",
       "10. 8\n",
       "11. 10\n",
       "\n",
       "\n"
      ],
      "text/plain": [
       " [1] -10  -8  -6  -4  -2   0   2   4   6   8  10"
      ]
     },
     "metadata": {},
     "output_type": "display_data"
    },
    {
     "data": {
      "text/html": [
       "<ol class=list-inline>\n",
       "\t<li>10</li>\n",
       "\t<li>9.31034482758621</li>\n",
       "\t<li>8.62068965517241</li>\n",
       "\t<li>7.93103448275862</li>\n",
       "\t<li>7.24137931034483</li>\n",
       "\t<li>6.55172413793103</li>\n",
       "\t<li>5.86206896551724</li>\n",
       "\t<li>5.17241379310345</li>\n",
       "\t<li>4.48275862068965</li>\n",
       "\t<li>3.79310344827586</li>\n",
       "\t<li>3.10344827586207</li>\n",
       "\t<li>2.41379310344828</li>\n",
       "\t<li>1.72413793103448</li>\n",
       "\t<li>1.03448275862069</li>\n",
       "\t<li>0.344827586206897</li>\n",
       "\t<li>-0.344827586206897</li>\n",
       "\t<li>-1.03448275862069</li>\n",
       "\t<li>-1.72413793103448</li>\n",
       "\t<li>-2.41379310344828</li>\n",
       "\t<li>-3.10344827586207</li>\n",
       "\t<li>-3.79310344827586</li>\n",
       "\t<li>-4.48275862068966</li>\n",
       "\t<li>-5.17241379310345</li>\n",
       "\t<li>-5.86206896551724</li>\n",
       "\t<li>-6.55172413793104</li>\n",
       "\t<li>-7.24137931034483</li>\n",
       "\t<li>-7.93103448275862</li>\n",
       "\t<li>-8.62068965517242</li>\n",
       "\t<li>-9.31034482758621</li>\n",
       "\t<li>-10</li>\n",
       "</ol>\n"
      ],
      "text/latex": [
       "\\begin{enumerate*}\n",
       "\\item 10\n",
       "\\item 9.31034482758621\n",
       "\\item 8.62068965517241\n",
       "\\item 7.93103448275862\n",
       "\\item 7.24137931034483\n",
       "\\item 6.55172413793103\n",
       "\\item 5.86206896551724\n",
       "\\item 5.17241379310345\n",
       "\\item 4.48275862068965\n",
       "\\item 3.79310344827586\n",
       "\\item 3.10344827586207\n",
       "\\item 2.41379310344828\n",
       "\\item 1.72413793103448\n",
       "\\item 1.03448275862069\n",
       "\\item 0.344827586206897\n",
       "\\item -0.344827586206897\n",
       "\\item -1.03448275862069\n",
       "\\item -1.72413793103448\n",
       "\\item -2.41379310344828\n",
       "\\item -3.10344827586207\n",
       "\\item -3.79310344827586\n",
       "\\item -4.48275862068966\n",
       "\\item -5.17241379310345\n",
       "\\item -5.86206896551724\n",
       "\\item -6.55172413793104\n",
       "\\item -7.24137931034483\n",
       "\\item -7.93103448275862\n",
       "\\item -8.62068965517242\n",
       "\\item -9.31034482758621\n",
       "\\item -10\n",
       "\\end{enumerate*}\n"
      ],
      "text/markdown": [
       "1. 10\n",
       "2. 9.31034482758621\n",
       "3. 8.62068965517241\n",
       "4. 7.93103448275862\n",
       "5. 7.24137931034483\n",
       "6. 6.55172413793103\n",
       "7. 5.86206896551724\n",
       "8. 5.17241379310345\n",
       "9. 4.48275862068965\n",
       "10. 3.79310344827586\n",
       "11. 3.10344827586207\n",
       "12. 2.41379310344828\n",
       "13. 1.72413793103448\n",
       "14. 1.03448275862069\n",
       "15. 0.344827586206897\n",
       "16. -0.344827586206897\n",
       "17. -1.03448275862069\n",
       "18. -1.72413793103448\n",
       "19. -2.41379310344828\n",
       "20. -3.10344827586207\n",
       "21. -3.79310344827586\n",
       "22. -4.48275862068966\n",
       "23. -5.17241379310345\n",
       "24. -5.86206896551724\n",
       "25. -6.55172413793104\n",
       "26. -7.24137931034483\n",
       "27. -7.93103448275862\n",
       "28. -8.62068965517242\n",
       "29. -9.31034482758621\n",
       "30. -10\n",
       "\n",
       "\n"
      ],
      "text/plain": [
       " [1]  10.0000000   9.3103448   8.6206897   7.9310345   7.2413793   6.5517241\n",
       " [7]   5.8620690   5.1724138   4.4827586   3.7931034   3.1034483   2.4137931\n",
       "[13]   1.7241379   1.0344828   0.3448276  -0.3448276  -1.0344828  -1.7241379\n",
       "[19]  -2.4137931  -3.1034483  -3.7931034  -4.4827586  -5.1724138  -5.8620690\n",
       "[25]  -6.5517241  -7.2413793  -7.9310345  -8.6206897  -9.3103448 -10.0000000"
      ]
     },
     "metadata": {},
     "output_type": "display_data"
    }
   ],
   "source": [
    "# ':' : 시잣값부터 종료값까지 연속적인 숫자 생성\n",
    "# seq() : 간격과 길이 제한 가능\n",
    "1:10\n",
    "10:-10\n",
    "seq(from=-10, to=10, by=2)  # 간격을 2로 설정, 시작값이 종료값보다 작아야 한다.\n",
    "seq(from=10, to=-10, length.out=30)   # 등분을 30으로 설정"
   ]
  },
  {
   "cell_type": "code",
   "execution_count": 47,
   "metadata": {},
   "outputs": [
    {
     "data": {
      "text/html": [
       "<ol class=list-inline>\n",
       "\t<li>1</li>\n",
       "\t<li>1</li>\n",
       "\t<li>1</li>\n",
       "\t<li>1</li>\n",
       "\t<li>1</li>\n",
       "\t<li>1</li>\n",
       "\t<li>1</li>\n",
       "\t<li>1</li>\n",
       "\t<li>1</li>\n",
       "\t<li>1</li>\n",
       "</ol>\n"
      ],
      "text/latex": [
       "\\begin{enumerate*}\n",
       "\\item 1\n",
       "\\item 1\n",
       "\\item 1\n",
       "\\item 1\n",
       "\\item 1\n",
       "\\item 1\n",
       "\\item 1\n",
       "\\item 1\n",
       "\\item 1\n",
       "\\item 1\n",
       "\\end{enumerate*}\n"
      ],
      "text/markdown": [
       "1. 1\n",
       "2. 1\n",
       "3. 1\n",
       "4. 1\n",
       "5. 1\n",
       "6. 1\n",
       "7. 1\n",
       "8. 1\n",
       "9. 1\n",
       "10. 1\n",
       "\n",
       "\n"
      ],
      "text/plain": [
       " [1] 1 1 1 1 1 1 1 1 1 1"
      ]
     },
     "metadata": {},
     "output_type": "display_data"
    },
    {
     "data": {
      "text/html": [
       "<ol class=list-inline>\n",
       "\t<li>-10</li>\n",
       "\t<li>-10</li>\n",
       "\t<li>-9</li>\n",
       "\t<li>-9</li>\n",
       "\t<li>-8</li>\n",
       "\t<li>-8</li>\n",
       "\t<li>-7</li>\n",
       "\t<li>-7</li>\n",
       "\t<li>-6</li>\n",
       "\t<li>-6</li>\n",
       "\t<li>-5</li>\n",
       "\t<li>-5</li>\n",
       "\t<li>-4</li>\n",
       "\t<li>-4</li>\n",
       "\t<li>-3</li>\n",
       "\t<li>-3</li>\n",
       "\t<li>-2</li>\n",
       "\t<li>-2</li>\n",
       "\t<li>-1</li>\n",
       "\t<li>-1</li>\n",
       "\t<li>0</li>\n",
       "\t<li>0</li>\n",
       "\t<li>1</li>\n",
       "\t<li>1</li>\n",
       "\t<li>2</li>\n",
       "\t<li>2</li>\n",
       "\t<li>3</li>\n",
       "\t<li>3</li>\n",
       "\t<li>4</li>\n",
       "\t<li>4</li>\n",
       "\t<li>5</li>\n",
       "\t<li>5</li>\n",
       "\t<li>6</li>\n",
       "\t<li>6</li>\n",
       "\t<li>7</li>\n",
       "\t<li>7</li>\n",
       "\t<li>8</li>\n",
       "\t<li>8</li>\n",
       "\t<li>9</li>\n",
       "\t<li>9</li>\n",
       "\t<li>10</li>\n",
       "\t<li>10</li>\n",
       "</ol>\n"
      ],
      "text/latex": [
       "\\begin{enumerate*}\n",
       "\\item -10\n",
       "\\item -10\n",
       "\\item -9\n",
       "\\item -9\n",
       "\\item -8\n",
       "\\item -8\n",
       "\\item -7\n",
       "\\item -7\n",
       "\\item -6\n",
       "\\item -6\n",
       "\\item -5\n",
       "\\item -5\n",
       "\\item -4\n",
       "\\item -4\n",
       "\\item -3\n",
       "\\item -3\n",
       "\\item -2\n",
       "\\item -2\n",
       "\\item -1\n",
       "\\item -1\n",
       "\\item 0\n",
       "\\item 0\n",
       "\\item 1\n",
       "\\item 1\n",
       "\\item 2\n",
       "\\item 2\n",
       "\\item 3\n",
       "\\item 3\n",
       "\\item 4\n",
       "\\item 4\n",
       "\\item 5\n",
       "\\item 5\n",
       "\\item 6\n",
       "\\item 6\n",
       "\\item 7\n",
       "\\item 7\n",
       "\\item 8\n",
       "\\item 8\n",
       "\\item 9\n",
       "\\item 9\n",
       "\\item 10\n",
       "\\item 10\n",
       "\\end{enumerate*}\n"
      ],
      "text/markdown": [
       "1. -10\n",
       "2. -10\n",
       "3. -9\n",
       "4. -9\n",
       "5. -8\n",
       "6. -8\n",
       "7. -7\n",
       "8. -7\n",
       "9. -6\n",
       "10. -6\n",
       "11. -5\n",
       "12. -5\n",
       "13. -4\n",
       "14. -4\n",
       "15. -3\n",
       "16. -3\n",
       "17. -2\n",
       "18. -2\n",
       "19. -1\n",
       "20. -1\n",
       "21. 0\n",
       "22. 0\n",
       "23. 1\n",
       "24. 1\n",
       "25. 2\n",
       "26. 2\n",
       "27. 3\n",
       "28. 3\n",
       "29. 4\n",
       "30. 4\n",
       "31. 5\n",
       "32. 5\n",
       "33. 6\n",
       "34. 6\n",
       "35. 7\n",
       "36. 7\n",
       "37. 8\n",
       "38. 8\n",
       "39. 9\n",
       "40. 9\n",
       "41. 10\n",
       "42. 10\n",
       "\n",
       "\n"
      ],
      "text/plain": [
       " [1] -10 -10  -9  -9  -8  -8  -7  -7  -6  -6  -5  -5  -4  -4  -3  -3  -2  -2  -1\n",
       "[20]  -1   0   0   1   1   2   2   3   3   4   4   5   5   6   6   7   7   8   8\n",
       "[39]   9   9  10  10"
      ]
     },
     "metadata": {},
     "output_type": "display_data"
    }
   ],
   "source": [
    "# rep() : 반복 기능.\n",
    "rep(1, time=10)  # 숫자 반복\n",
    "rep(-10:10, each=2)  # 2번 반복"
   ]
  },
  {
   "cell_type": "code",
   "execution_count": 56,
   "metadata": {},
   "outputs": [
    {
     "data": {
      "text/html": [
       "'l~o~n~g'"
      ],
      "text/latex": [
       "'l\\textasciitilde{}o\\textasciitilde{}n\\textasciitilde{}g'"
      ],
      "text/markdown": [
       "'l~o~n~g'"
      ],
      "text/plain": [
       "[1] \"l~o~n~g\""
      ]
     },
     "metadata": {},
     "output_type": "display_data"
    },
    {
     "data": {
      "text/html": [
       "<ol class=list-inline>\n",
       "\t<li>'l~o~n~g e'</li>\n",
       "\t<li>'l~o~n~g r'</li>\n",
       "\t<li><span style=white-space:pre-wrap>'l~o~n~g  '</span></li>\n",
       "</ol>\n"
      ],
      "text/latex": [
       "\\begin{enumerate*}\n",
       "\\item 'l\\textasciitilde{}o\\textasciitilde{}n\\textasciitilde{}g e'\n",
       "\\item 'l\\textasciitilde{}o\\textasciitilde{}n\\textasciitilde{}g r'\n",
       "\\item 'l\\textasciitilde{}o\\textasciitilde{}n\\textasciitilde{}g  '\n",
       "\\end{enumerate*}\n"
      ],
      "text/markdown": [
       "1. 'l~o~n~g e'\n",
       "2. 'l~o~n~g r'\n",
       "3. <span style=white-space:pre-wrap>'l~o~n~g  '</span>\n",
       "\n",
       "\n"
      ],
      "text/plain": [
       "[1] \"l~o~n~g e\" \"l~o~n~g r\" \"l~o~n~g  \""
      ]
     },
     "metadata": {},
     "output_type": "display_data"
    },
    {
     "data": {
      "text/html": [
       "'l~o~n~g~est'"
      ],
      "text/latex": [
       "'l\\textasciitilde{}o\\textasciitilde{}n\\textasciitilde{}g\\textasciitilde{}est'"
      ],
      "text/markdown": [
       "'l~o~n~g~est'"
      ],
      "text/plain": [
       "[1] \"l~o~n~g~est\""
      ]
     },
     "metadata": {},
     "output_type": "display_data"
    }
   ],
   "source": [
    "# paste() : 매개변수까리 이어 붙이는 기능\n",
    "txt <- paste('l','o','n','g', sep='~')\n",
    "txt\n",
    "paste(txt, c('e','r', ' '))    # 입력한 문자를 각각 붙임\n",
    "paste(txt,'est', sep=\"~\")      # 입력한 문자를 붙임"
   ]
  },
  {
   "cell_type": "code",
   "execution_count": 58,
   "metadata": {},
   "outputs": [
    {
     "data": {
      "text/html": [
       "'part'"
      ],
      "text/latex": [
       "'part'"
      ],
      "text/markdown": [
       "'part'"
      ],
      "text/plain": [
       "[1] \"part\""
      ]
     },
     "metadata": {},
     "output_type": "display_data"
    }
   ],
   "source": [
    "# substr() : 원하는 부분의 문자를 추출\n",
    "substr('partpartpartpartpart', 5,8)"
   ]
  },
  {
   "cell_type": "code",
   "execution_count": 78,
   "metadata": {},
   "outputs": [
    {
     "name": "stdout",
     "output_type": "stream",
     "text": [
      "TRUE FALSE \n",
      "TRUE FALSE"
     ]
    }
   ],
   "source": [
    "# 논리값 : T만 적어도 TRUE로 인식, 꼭 대문자로 적어야 함.\n",
    "right_1 <- T\n",
    "right_2 <- TRUE\n",
    "false_1 <- F\n",
    "false_2 <- FALSE\n",
    "\n",
    "cat(right_1 == right_2, right_1 != right_2, '\\n')\n",
    "cat(false_1 == false_2, false_1 != false_2)"
   ]
  },
  {
   "cell_type": "code",
   "execution_count": 83,
   "metadata": {},
   "outputs": [
    {
     "data": {
      "text/html": [
       "<ol class=list-inline>\n",
       "\t<li>1</li>\n",
       "\t<li>2</li>\n",
       "\t<li>3.5</li>\n",
       "\t<li>4.5</li>\n",
       "</ol>\n"
      ],
      "text/latex": [
       "\\begin{enumerate*}\n",
       "\\item 1\n",
       "\\item 2\n",
       "\\item 3.5\n",
       "\\item 4.5\n",
       "\\end{enumerate*}\n"
      ],
      "text/markdown": [
       "1. 1\n",
       "2. 2\n",
       "3. 3.5\n",
       "4. 4.5\n",
       "\n",
       "\n"
      ],
      "text/plain": [
       "[1] 1.0 2.0 3.5 4.5"
      ]
     },
     "metadata": {},
     "output_type": "display_data"
    },
    {
     "data": {
      "text/html": [
       "2"
      ],
      "text/latex": [
       "2"
      ],
      "text/markdown": [
       "2"
      ],
      "text/plain": [
       "[1] 2"
      ]
     },
     "metadata": {},
     "output_type": "display_data"
    },
    {
     "data": {
      "text/html": [
       "<ol class=list-inline>\n",
       "\t<li>1</li>\n",
       "\t<li>2</li>\n",
       "\t<li>4.5</li>\n",
       "</ol>\n"
      ],
      "text/latex": [
       "\\begin{enumerate*}\n",
       "\\item 1\n",
       "\\item 2\n",
       "\\item 4.5\n",
       "\\end{enumerate*}\n"
      ],
      "text/markdown": [
       "1. 1\n",
       "2. 2\n",
       "3. 4.5\n",
       "\n",
       "\n"
      ],
      "text/plain": [
       "[1] 1.0 2.0 4.5"
      ]
     },
     "metadata": {},
     "output_type": "display_data"
    }
   ],
   "source": [
    "# 변수[n] : 원소 선택, n은 원소의 위치 번호\n",
    "# 변수[-n] : n위치의 원소를 제외한 자리수\n",
    "num\n",
    "num[2]\n",
    "num[-3]"
   ]
  },
  {
   "cell_type": "code",
   "execution_count": null,
   "metadata": {},
   "outputs": [],
   "source": []
  },
  {
   "cell_type": "code",
   "execution_count": null,
   "metadata": {},
   "outputs": [],
   "source": []
  },
  {
   "cell_type": "code",
   "execution_count": null,
   "metadata": {},
   "outputs": [],
   "source": []
  },
  {
   "cell_type": "code",
   "execution_count": null,
   "metadata": {},
   "outputs": [],
   "source": []
  }
 ],
 "metadata": {
  "kernelspec": {
   "display_name": "R 3.3",
   "language": "R",
   "name": "ir33"
  },
  "language_info": {
   "codemirror_mode": "r",
   "file_extension": ".r",
   "mimetype": "text/x-r-source",
   "name": "R",
   "pygments_lexer": "r",
   "version": "3.5.1"
  }
 },
 "nbformat": 4,
 "nbformat_minor": 2
}
