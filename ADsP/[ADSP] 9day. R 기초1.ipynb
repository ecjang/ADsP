{
 "cells": [
  {
   "cell_type": "markdown",
   "metadata": {},
   "source": [
    "<h1><center>2절. R 기초1</center></h1>"
   ]
  },
  {
   "cell_type": "markdown",
   "metadata": {},
   "source": [
    "## 1.통계 패키지 R\n",
    "\n",
    "### 1_1. 패키지 \n",
    "R 함수, 데이터 및 컴파일된 코드의 모음으로 R을 설치한 폴더의 library 폴더안에서 확인할 수 있다.\n",
    "\n",
    "- 패키지 불러들이기\n",
    "    - 웹 : CRAN 저장소에 약 5000개의 패키지 보유. `install.packages('AID')`\n",
    "    - 수동설치 : `install.packages('AID', '다운로드 폴더 경로')`\n",
    "    \n",
    "- 도움말\n",
    "    - `library(help=AID)`: 다운로드 패키지의 도움말\n",
    "    - `help(package=AID)`: 웹을 통해 다큐먼트를 표시\n",
    "    \n",
    "### 1_2. 프로그램 파일 실행\n",
    "\n",
    "- `source(\"파일명\")`: 파일 실행\n",
    "- `sink(\"파일명\" or \"경로\")` : 특정 파일로 출력\n",
    "- `pdf(\"파일명\" or \"경로\")` : pdf 파일로 출력\n",
    "- `dev.off()` : 파일 닫기"
   ]
  }
 ],
 "metadata": {
  "kernelspec": {
   "display_name": "R 3.3",
   "language": "R",
   "name": "ir33"
  },
  "language_info": {
   "codemirror_mode": "r",
   "file_extension": ".r",
   "mimetype": "text/x-r-source",
   "name": "R",
   "pygments_lexer": "r",
   "version": "3.5.1"
  }
 },
 "nbformat": 4,
 "nbformat_minor": 2
}
