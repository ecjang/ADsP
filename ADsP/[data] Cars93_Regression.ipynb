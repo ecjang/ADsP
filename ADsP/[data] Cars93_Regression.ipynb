{
 "cells": [
  {
   "cell_type": "markdown",
   "metadata": {},
   "source": [
    "----"
   ]
  },
  {
   "cell_type": "markdown",
   "metadata": {},
   "source": [
    "# 회귀분석 사례"
   ]
  },
  {
   "cell_type": "markdown",
   "metadata": {},
   "source": [
    "## 1. Cas93 Dataset\n",
    "MASS 패키지의 Cars93 데이터셋을 다중회귀분석으로 분석해본다.\n",
    "- 종속변수 Y : 가격 \n",
    "- 독립변수 X : 엔진크기, RPM, 무게"
   ]
  },
  {
   "cell_type": "code",
   "execution_count": 1,
   "metadata": {},
   "outputs": [],
   "source": [
    "# 라이브러리 호출\n",
    "library(MASS)"
   ]
  },
  {
   "cell_type": "code",
   "execution_count": 2,
   "metadata": {},
   "outputs": [
    {
     "data": {
      "text/html": [
       "<table>\n",
       "<thead><tr><th scope=col>Manufacturer</th><th scope=col>Model</th><th scope=col>Type</th><th scope=col>Min.Price</th><th scope=col>Price</th><th scope=col>Max.Price</th><th scope=col>MPG.city</th><th scope=col>MPG.highway</th><th scope=col>AirBags</th><th scope=col>DriveTrain</th><th scope=col>...</th><th scope=col>Passengers</th><th scope=col>Length</th><th scope=col>Wheelbase</th><th scope=col>Width</th><th scope=col>Turn.circle</th><th scope=col>Rear.seat.room</th><th scope=col>Luggage.room</th><th scope=col>Weight</th><th scope=col>Origin</th><th scope=col>Make</th></tr></thead>\n",
       "<tbody>\n",
       "\t<tr><td>Acura             </td><td>Integra           </td><td>Small             </td><td>12.9              </td><td>15.9              </td><td>18.8              </td><td>25                </td><td>31                </td><td>None              </td><td>Front             </td><td>...               </td><td>5                 </td><td>177               </td><td>102               </td><td>68                </td><td>37                </td><td>26.5              </td><td>11                </td><td>2705              </td><td>non-USA           </td><td>Acura Integra     </td></tr>\n",
       "\t<tr><td>Acura                 </td><td>Legend                </td><td>Midsize               </td><td>29.2                  </td><td>33.9                  </td><td>38.7                  </td><td>18                    </td><td>25                    </td><td>Driver &amp; Passenger</td><td>Front                 </td><td>...                   </td><td>5                     </td><td>195                   </td><td>115                   </td><td>71                    </td><td>38                    </td><td>30.0                  </td><td>15                    </td><td>3560                  </td><td>non-USA               </td><td>Acura Legend          </td></tr>\n",
       "\t<tr><td>Audi              </td><td>90                </td><td>Compact           </td><td>25.9              </td><td>29.1              </td><td>32.3              </td><td>20                </td><td>26                </td><td>Driver only       </td><td>Front             </td><td>...               </td><td>5                 </td><td>180               </td><td>102               </td><td>67                </td><td>37                </td><td>28.0              </td><td>14                </td><td>3375              </td><td>non-USA           </td><td>Audi 90           </td></tr>\n",
       "\t<tr><td>Audi                                                 </td><td><span style=white-space:pre-wrap>100    </span>      </td><td>Midsize                                              </td><td>30.8                                                 </td><td>37.7                                                 </td><td>44.6                                                 </td><td>19                                                   </td><td>26                                                   </td><td>Driver &amp; Passenger                               </td><td>Front                                                </td><td>...                                                  </td><td>6                                                    </td><td>193                                                  </td><td>106                                                  </td><td>70                                                   </td><td>37                                                   </td><td>31.0                                                 </td><td>17                                                   </td><td>3405                                                 </td><td>non-USA                                              </td><td><span style=white-space:pre-wrap>Audi 100     </span></td></tr>\n",
       "\t<tr><td>BMW               </td><td>535i              </td><td>Midsize           </td><td>23.7              </td><td>30.0              </td><td>36.2              </td><td>22                </td><td>30                </td><td>Driver only       </td><td>Rear              </td><td>...               </td><td>4                 </td><td>186               </td><td>109               </td><td>69                </td><td>39                </td><td>27.0              </td><td>13                </td><td>3640              </td><td>non-USA           </td><td>BMW 535i          </td></tr>\n",
       "\t<tr><td>Buick             </td><td>Century           </td><td>Midsize           </td><td>14.2              </td><td>15.7              </td><td>17.3              </td><td>22                </td><td>31                </td><td>Driver only       </td><td>Front             </td><td>...               </td><td>6                 </td><td>189               </td><td>105               </td><td>69                </td><td>41                </td><td>28.0              </td><td>16                </td><td>2880              </td><td>USA               </td><td>Buick Century     </td></tr>\n",
       "</tbody>\n",
       "</table>\n"
      ],
      "text/latex": [
       "\\begin{tabular}{r|lllllllllllllllllllllllllll}\n",
       " Manufacturer & Model & Type & Min.Price & Price & Max.Price & MPG.city & MPG.highway & AirBags & DriveTrain & ... & Passengers & Length & Wheelbase & Width & Turn.circle & Rear.seat.room & Luggage.room & Weight & Origin & Make\\\\\n",
       "\\hline\n",
       "\t Acura              & Integra            & Small              & 12.9               & 15.9               & 18.8               & 25                 & 31                 & None               & Front              & ...                & 5                  & 177                & 102                & 68                 & 37                 & 26.5               & 11                 & 2705               & non-USA            & Acura Integra     \\\\\n",
       "\t Acura                & Legend               & Midsize              & 29.2                 & 33.9                 & 38.7                 & 18                   & 25                   & Driver \\& Passenger & Front                & ...                  & 5                    & 195                  & 115                  & 71                   & 38                   & 30.0                 & 15                   & 3560                 & non-USA              & Acura Legend        \\\\\n",
       "\t Audi               & 90                 & Compact            & 25.9               & 29.1               & 32.3               & 20                 & 26                 & Driver only        & Front              & ...                & 5                  & 180                & 102                & 67                 & 37                 & 28.0               & 14                 & 3375               & non-USA            & Audi 90           \\\\\n",
       "\t Audi                 & 100                  & Midsize              & 30.8                 & 37.7                 & 44.6                 & 19                   & 26                   & Driver \\& Passenger & Front                & ...                  & 6                    & 193                  & 106                  & 70                   & 37                   & 31.0                 & 17                   & 3405                 & non-USA              & Audi 100            \\\\\n",
       "\t BMW                & 535i               & Midsize            & 23.7               & 30.0               & 36.2               & 22                 & 30                 & Driver only        & Rear               & ...                & 4                  & 186                & 109                & 69                 & 39                 & 27.0               & 13                 & 3640               & non-USA            & BMW 535i          \\\\\n",
       "\t Buick              & Century            & Midsize            & 14.2               & 15.7               & 17.3               & 22                 & 31                 & Driver only        & Front              & ...                & 6                  & 189                & 105                & 69                 & 41                 & 28.0               & 16                 & 2880               & USA                & Buick Century     \\\\\n",
       "\\end{tabular}\n"
      ],
      "text/markdown": [
       "\n",
       "Manufacturer | Model | Type | Min.Price | Price | Max.Price | MPG.city | MPG.highway | AirBags | DriveTrain | ... | Passengers | Length | Wheelbase | Width | Turn.circle | Rear.seat.room | Luggage.room | Weight | Origin | Make | \n",
       "|---|---|---|---|---|---|\n",
       "| Acura              | Integra            | Small              | 12.9               | 15.9               | 18.8               | 25                 | 31                 | None               | Front              | ...                | 5                  | 177                | 102                | 68                 | 37                 | 26.5               | 11                 | 2705               | non-USA            | Acura Integra      | \n",
       "| Acura              | Legend             | Midsize            | 29.2               | 33.9               | 38.7               | 18                 | 25                 | Driver & Passenger | Front              | ...                | 5                  | 195                | 115                | 71                 | 38                 | 30.0               | 15                 | 3560               | non-USA            | Acura Legend       | \n",
       "| Audi               | 90                 | Compact            | 25.9               | 29.1               | 32.3               | 20                 | 26                 | Driver only        | Front              | ...                | 5                  | 180                | 102                | 67                 | 37                 | 28.0               | 14                 | 3375               | non-USA            | Audi 90            | \n",
       "| Audi               | 100                | Midsize            | 30.8               | 37.7               | 44.6               | 19                 | 26                 | Driver & Passenger | Front              | ...                | 6                  | 193                | 106                | 70                 | 37                 | 31.0               | 17                 | 3405               | non-USA            | Audi 100           | \n",
       "| BMW                | 535i               | Midsize            | 23.7               | 30.0               | 36.2               | 22                 | 30                 | Driver only        | Rear               | ...                | 4                  | 186                | 109                | 69                 | 39                 | 27.0               | 13                 | 3640               | non-USA            | BMW 535i           | \n",
       "| Buick              | Century            | Midsize            | 14.2               | 15.7               | 17.3               | 22                 | 31                 | Driver only        | Front              | ...                | 6                  | 189                | 105                | 69                 | 41                 | 28.0               | 16                 | 2880               | USA                | Buick Century      | \n",
       "\n",
       "\n"
      ],
      "text/plain": [
       "  Manufacturer Model   Type    Min.Price Price Max.Price MPG.city MPG.highway\n",
       "1 Acura        Integra Small   12.9      15.9  18.8      25       31         \n",
       "2 Acura        Legend  Midsize 29.2      33.9  38.7      18       25         \n",
       "3 Audi         90      Compact 25.9      29.1  32.3      20       26         \n",
       "4 Audi         100     Midsize 30.8      37.7  44.6      19       26         \n",
       "5 BMW          535i    Midsize 23.7      30.0  36.2      22       30         \n",
       "6 Buick        Century Midsize 14.2      15.7  17.3      22       31         \n",
       "  AirBags            DriveTrain ... Passengers Length Wheelbase Width\n",
       "1 None               Front      ... 5          177    102       68   \n",
       "2 Driver & Passenger Front      ... 5          195    115       71   \n",
       "3 Driver only        Front      ... 5          180    102       67   \n",
       "4 Driver & Passenger Front      ... 6          193    106       70   \n",
       "5 Driver only        Rear       ... 4          186    109       69   \n",
       "6 Driver only        Front      ... 6          189    105       69   \n",
       "  Turn.circle Rear.seat.room Luggage.room Weight Origin  Make         \n",
       "1 37          26.5           11           2705   non-USA Acura Integra\n",
       "2 38          30.0           15           3560   non-USA Acura Legend \n",
       "3 37          28.0           14           3375   non-USA Audi 90      \n",
       "4 37          31.0           17           3405   non-USA Audi 100     \n",
       "5 39          27.0           13           3640   non-USA BMW 535i     \n",
       "6 41          28.0           16           2880   USA     Buick Century"
      ]
     },
     "metadata": {},
     "output_type": "display_data"
    },
    {
     "name": "stdout",
     "output_type": "stream",
     "text": [
      "'data.frame':\t93 obs. of  27 variables:\n",
      " $ Manufacturer      : Factor w/ 32 levels \"Acura\",\"Audi\",..: 1 1 2 2 3 4 4 4 4 5 ...\n",
      " $ Model             : Factor w/ 93 levels \"100\",\"190E\",\"240\",..: 49 56 9 1 6 24 54 74 73 35 ...\n",
      " $ Type              : Factor w/ 6 levels \"Compact\",\"Large\",..: 4 3 1 3 3 3 2 2 3 2 ...\n",
      " $ Min.Price         : num  12.9 29.2 25.9 30.8 23.7 14.2 19.9 22.6 26.3 33 ...\n",
      " $ Price             : num  15.9 33.9 29.1 37.7 30 15.7 20.8 23.7 26.3 34.7 ...\n",
      " $ Max.Price         : num  18.8 38.7 32.3 44.6 36.2 17.3 21.7 24.9 26.3 36.3 ...\n",
      " $ MPG.city          : int  25 18 20 19 22 22 19 16 19 16 ...\n",
      " $ MPG.highway       : int  31 25 26 26 30 31 28 25 27 25 ...\n",
      " $ AirBags           : Factor w/ 3 levels \"Driver & Passenger\",..: 3 1 2 1 2 2 2 2 2 2 ...\n",
      " $ DriveTrain        : Factor w/ 3 levels \"4WD\",\"Front\",..: 2 2 2 2 3 2 2 3 2 2 ...\n",
      " $ Cylinders         : Factor w/ 6 levels \"3\",\"4\",\"5\",\"6\",..: 2 4 4 4 2 2 4 4 4 5 ...\n",
      " $ EngineSize        : num  1.8 3.2 2.8 2.8 3.5 2.2 3.8 5.7 3.8 4.9 ...\n",
      " $ Horsepower        : int  140 200 172 172 208 110 170 180 170 200 ...\n",
      " $ RPM               : int  6300 5500 5500 5500 5700 5200 4800 4000 4800 4100 ...\n",
      " $ Rev.per.mile      : int  2890 2335 2280 2535 2545 2565 1570 1320 1690 1510 ...\n",
      " $ Man.trans.avail   : Factor w/ 2 levels \"No\",\"Yes\": 2 2 2 2 2 1 1 1 1 1 ...\n",
      " $ Fuel.tank.capacity: num  13.2 18 16.9 21.1 21.1 16.4 18 23 18.8 18 ...\n",
      " $ Passengers        : int  5 5 5 6 4 6 6 6 5 6 ...\n",
      " $ Length            : int  177 195 180 193 186 189 200 216 198 206 ...\n",
      " $ Wheelbase         : int  102 115 102 106 109 105 111 116 108 114 ...\n",
      " $ Width             : int  68 71 67 70 69 69 74 78 73 73 ...\n",
      " $ Turn.circle       : int  37 38 37 37 39 41 42 45 41 43 ...\n",
      " $ Rear.seat.room    : num  26.5 30 28 31 27 28 30.5 30.5 26.5 35 ...\n",
      " $ Luggage.room      : int  11 15 14 17 13 16 17 21 14 18 ...\n",
      " $ Weight            : int  2705 3560 3375 3405 3640 2880 3470 4105 3495 3620 ...\n",
      " $ Origin            : Factor w/ 2 levels \"USA\",\"non-USA\": 2 2 2 2 2 1 1 1 1 1 ...\n",
      " $ Make              : Factor w/ 93 levels \"Acura Integra\",..: 1 2 4 3 5 6 7 9 8 10 ...\n"
     ]
    }
   ],
   "source": [
    "# 데이터 확인\n",
    "head(Cars93)\n",
    "str(Cars93)"
   ]
  },
  {
   "cell_type": "markdown",
   "metadata": {},
   "source": [
    "## 2. Multiple Regression Analysis"
   ]
  },
  {
   "cell_type": "code",
   "execution_count": 7,
   "metadata": {},
   "outputs": [],
   "source": [
    "fit_Cars93 <- lm(Price~EngineSize+RPM+Weight, data=Cars93)"
   ]
  },
  {
   "cell_type": "code",
   "execution_count": 11,
   "metadata": {},
   "outputs": [
    {
     "data": {
      "image/png": "[encoded data removed]",
      "text/plain": [
       "Plot with title \"\""
      ]
     },
     "metadata": {},
     "output_type": "display_data"
    }
   ],
   "source": [
    "par(mfrow = c(2,2))\n",
    "plot(fit_Cars93)"
   ]
  },
  {
   "cell_type": "markdown",
   "metadata": {},
   "source": [
    "## 3. Result"
   ]
  },
  {
   "cell_type": "code",
   "execution_count": 12,
   "metadata": {},
   "outputs": [
    {
     "data": {
      "text/plain": [
       "\n",
       "Call:\n",
       "lm(formula = Price ~ EngineSize + RPM + Weight, data = Cars93)\n",
       "\n",
       "Residuals:\n",
       "    Min      1Q  Median      3Q     Max \n",
       "-10.511  -3.806  -0.300   1.447  35.255 \n",
       "\n",
       "Coefficients:\n",
       "              Estimate Std. Error t value Pr(>|t|)    \n",
       "(Intercept) -51.793292   9.106309  -5.688 1.62e-07 ***\n",
       "EngineSize    4.305387   1.324961   3.249  0.00163 ** \n",
       "RPM           0.007096   0.001363   5.208 1.22e-06 ***\n",
       "Weight        0.007271   0.002157   3.372  0.00111 ** \n",
       "---\n",
       "Signif. codes:  0 '***' 0.001 '**' 0.01 '*' 0.05 '.' 0.1 ' ' 1\n",
       "\n",
       "Residual standard error: 6.504 on 89 degrees of freedom\n",
       "Multiple R-squared:  0.5614,\tAdjusted R-squared:  0.5467 \n",
       "F-statistic: 37.98 on 3 and 89 DF,  p-value: 6.746e-16\n"
      ]
     },
     "metadata": {},
     "output_type": "display_data"
    }
   ],
   "source": [
    "summary(fit_Cars93)"
   ]
  },
  {
   "cell_type": "markdown",
   "metadata": {},
   "source": [
    "1. [F-statistic F-통계량]은 37.98, [P-value P-값]은 6.746e-16($=6.746\\times{10^{-16}}$) 으로 유의수준 5%이하에서 회귀모형이 통계적으로 매우 유의함\n",
    "1. [R-squared 결정계수]는 0.5614이고 [Adjust R-squared 수정된 결정계수]는 0.5467로 데이터를 절반정도 밖에 설명하지 못함\n",
    "1. [Pr P값]은 유의확률의 값을 의미. 전부 0.05보다 작으므로 회귀계수의 추정치들이 통계적으로 유의함.\n",
    "1. [R-squared 결정계수]가 낮아 설명력은 낮지만 회귀분석결과에서 회귀식과 회귀계수들이 통계적으로 유의함\n",
    "1. 그러므로 자동차 가격을 엔진의 크기와 RPM, 무게로 추정가능"
   ]
  },
  {
   "cell_type": "markdown",
   "metadata": {},
   "source": [
    "----"
   ]
  }
 ],
 "metadata": {
  "kernelspec": {
   "display_name": "R",
   "language": "R",
   "name": "ir"
  },
  "language_info": {
   "codemirror_mode": "r",
   "file_extension": ".r",
   "mimetype": "text/x-r-source",
   "name": "R",
   "pygments_lexer": "r",
   "version": "3.5.1"
  }
 },
 "nbformat": 4,
 "nbformat_minor": 2
}
