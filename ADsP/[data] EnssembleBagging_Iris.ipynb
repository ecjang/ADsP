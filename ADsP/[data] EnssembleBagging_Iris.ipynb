{
 "cells": [
  {
   "cell_type": "markdown",
   "metadata": {},
   "source": [
    "----"
   ]
  },
  {
   "cell_type": "markdown",
   "metadata": {},
   "source": [
    "# 앙상블 분석"
   ]
  },
  {
   "cell_type": "markdown",
   "metadata": {},
   "source": [
    "- 참고 : http://r-bong.blogspot.com/2016/10/adabag.html"
   ]
  },
  {
   "cell_type": "markdown",
   "metadata": {},
   "source": [
    "----"
   ]
  },
  {
   "cell_type": "markdown",
   "metadata": {},
   "source": [
    "## 1. Load Library\n",
    "\n",
    "필요한 라이브러리를 불러온다. 설치가 안되어 있을 경우 패키지를 설치한다."
   ]
  },
  {
   "cell_type": "code",
   "execution_count": 8,
   "metadata": {},
   "outputs": [],
   "source": [
    "library(adabag)\n",
    "library(partykit)\n",
    "data(iris)"
   ]
  },
  {
   "cell_type": "markdown",
   "metadata": {},
   "source": [
    "## 2. Enssemble Model\n",
    "\n",
    "앙상플 모델링을 진행한다. mfinal은 기본적으로 100이며 이 값은 bootstrap 반복실행의 횟수나 몇 개의 tree를 이용하는지에 대한 값을 의미한다."
   ]
  },
  {
   "cell_type": "code",
   "execution_count": 10,
   "metadata": {},
   "outputs": [],
   "source": [
    "iris.bag <- bagging(Species~. , data=iris, mfinal=10)"
   ]
  },
  {
   "cell_type": "code",
   "execution_count": 16,
   "metadata": {},
   "outputs": [
    {
     "data": {
      "text/plain": [
       "n= 150 \n",
       "\n",
       "node), split, n, loss, yval, (yprob)\n",
       "      * denotes terminal node\n",
       "\n",
       "1) root 150 89 virginica (0.29333333 0.30000000 0.40666667)  \n",
       "  2) Petal.Length< 4.95 90 46 setosa (0.48888889 0.48888889 0.02222222)  \n",
       "    4) Petal.Length< 2.6 44  0 setosa (1.00000000 0.00000000 0.00000000) *\n",
       "    5) Petal.Length>=2.6 46  2 versicolor (0.00000000 0.95652174 0.04347826) *\n",
       "  3) Petal.Length>=4.95 60  1 virginica (0.00000000 0.01666667 0.98333333) *"
      ]
     },
     "metadata": {},
     "output_type": "display_data"
    }
   ],
   "source": [
    "iris.bag$tree[[10]]"
   ]
  },
  {
   "cell_type": "markdown",
   "metadata": {},
   "source": [
    "## 3. Validation\n",
    "\n",
    "변수의 중요도를 확인해본다."
   ]
  },
  {
   "cell_type": "code",
   "execution_count": 13,
   "metadata": {},
   "outputs": [
    {
     "data": {
      "text/html": [
       "<dl class=dl-horizontal>\n",
       "\t<dt>Petal.Length</dt>\n",
       "\t\t<dd>64.3870520902533</dd>\n",
       "\t<dt>Petal.Width</dt>\n",
       "\t\t<dd>35.6129479097468</dd>\n",
       "\t<dt>Sepal.Length</dt>\n",
       "\t\t<dd>0</dd>\n",
       "\t<dt>Sepal.Width</dt>\n",
       "\t\t<dd>0</dd>\n",
       "</dl>\n"
      ],
      "text/latex": [
       "\\begin{description*}\n",
       "\\item[Petal.Length] 64.3870520902533\n",
       "\\item[Petal.Width] 35.6129479097468\n",
       "\\item[Sepal.Length] 0\n",
       "\\item[Sepal.Width] 0\n",
       "\\end{description*}\n"
      ],
      "text/markdown": [
       "Petal.Length\n",
       ":   64.3870520902533Petal.Width\n",
       ":   35.6129479097468Sepal.Length\n",
       ":   0Sepal.Width\n",
       ":   0\n",
       "\n"
      ],
      "text/plain": [
       "Petal.Length  Petal.Width Sepal.Length  Sepal.Width \n",
       "    64.38705     35.61295      0.00000      0.00000 "
      ]
     },
     "metadata": {},
     "output_type": "display_data"
    }
   ],
   "source": [
    "iris.bag$importance"
   ]
  },
  {
   "cell_type": "markdown",
   "metadata": {},
   "source": [
    "## 4. Visualization\n",
    "\n",
    "해당 결과를 시각화 해본다."
   ]
  },
  {
   "cell_type": "code",
   "execution_count": 15,
   "metadata": {},
   "outputs": [
    {
     "data": {
      "image/png": "[encoded data removed]",
      "text/plain": [
       "plot without title"
      ]
     },
     "metadata": {},
     "output_type": "display_data"
    }
   ],
   "source": [
    "plot(iris.bag$tree[[10]])\n",
    "text(iris.bag$tree[[10]])"
   ]
  },
  {
   "cell_type": "markdown",
   "metadata": {},
   "source": [
    "## 5. Predict\n",
    "\n",
    "만들어진 모형으로 예측을 해본다."
   ]
  },
  {
   "cell_type": "code",
   "execution_count": 25,
   "metadata": {},
   "outputs": [
    {
     "data": {
      "text/plain": [
       "            \n",
       "             setosa versicolor virginica\n",
       "  setosa         50          0         0\n",
       "  versicolor      0         48         5\n",
       "  virginica       0          2        45"
      ]
     },
     "metadata": {},
     "output_type": "display_data"
    }
   ],
   "source": [
    "pred <- predict(iris.bag, newdata=iris)\n",
    "table(pred$class, iris[,5])"
   ]
  },
  {
   "cell_type": "markdown",
   "metadata": {},
   "source": [
    "결과를 보면 잘 분리 된 것을 확인 가능"
   ]
  },
  {
   "cell_type": "markdown",
   "metadata": {},
   "source": [
    "----"
   ]
  }
 ],
 "metadata": {
  "kernelspec": {
   "display_name": "R",
   "language": "R",
   "name": "ir"
  },
  "language_info": {
   "codemirror_mode": "r",
   "file_extension": ".r",
   "mimetype": "text/x-r-source",
   "name": "R",
   "pygments_lexer": "r",
   "version": "3.5.1"
  }
 },
 "nbformat": 4,
 "nbformat_minor": 2
}
