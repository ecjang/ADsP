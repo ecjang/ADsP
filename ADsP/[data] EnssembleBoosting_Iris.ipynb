{
 "cells": [
  {
   "cell_type": "markdown",
   "metadata": {},
   "source": [
    "----"
   ]
  },
  {
   "cell_type": "markdown",
   "metadata": {},
   "source": [
    "# 앙상블 분석 : 부스팅"
   ]
  },
  {
   "cell_type": "markdown",
   "metadata": {},
   "source": [
    "- 참고 : http://r-bong.blogspot.com/2016/10/adabag.html"
   ]
  },
  {
   "cell_type": "markdown",
   "metadata": {},
   "source": [
    "----"
   ]
  },
  {
   "cell_type": "markdown",
   "metadata": {},
   "source": [
    "## 1. Load Library\n",
    "\n",
    "필요한 라이브러리를 불러온다. 설치가 안되어 있을 경우 패키지를 설치한다."
   ]
  },
  {
   "cell_type": "code",
   "execution_count": 54,
   "metadata": {},
   "outputs": [],
   "source": [
    "library(adabag)\n",
    "data(iris)"
   ]
  },
  {
   "cell_type": "markdown",
   "metadata": {},
   "source": [
    "## 2. Boosting Model\n",
    "\n",
    "앙상플 모델링을 진행한다."
   ]
  },
  {
   "cell_type": "code",
   "execution_count": 55,
   "metadata": {},
   "outputs": [],
   "source": [
    "iris.boost <- boosting(Species~., data=iris, boos=T, mfinal=10)"
   ]
  },
  {
   "cell_type": "code",
   "execution_count": 56,
   "metadata": {},
   "outputs": [
    {
     "data": {
      "text/html": [
       "<ol class=list-inline>\n",
       "\t<li>'setosa'</li>\n",
       "\t<li>'setosa'</li>\n",
       "\t<li>'setosa'</li>\n",
       "\t<li>'setosa'</li>\n",
       "\t<li>'setosa'</li>\n",
       "\t<li>'setosa'</li>\n",
       "\t<li>'setosa'</li>\n",
       "\t<li>'setosa'</li>\n",
       "\t<li>'setosa'</li>\n",
       "\t<li>'setosa'</li>\n",
       "\t<li>'setosa'</li>\n",
       "\t<li>'setosa'</li>\n",
       "\t<li>'setosa'</li>\n",
       "\t<li>'setosa'</li>\n",
       "\t<li>'setosa'</li>\n",
       "\t<li>'setosa'</li>\n",
       "\t<li>'setosa'</li>\n",
       "\t<li>'setosa'</li>\n",
       "\t<li>'setosa'</li>\n",
       "\t<li>'setosa'</li>\n",
       "\t<li>'setosa'</li>\n",
       "\t<li>'setosa'</li>\n",
       "\t<li>'setosa'</li>\n",
       "\t<li>'setosa'</li>\n",
       "\t<li>'setosa'</li>\n",
       "\t<li>'setosa'</li>\n",
       "\t<li>'setosa'</li>\n",
       "\t<li>'setosa'</li>\n",
       "\t<li>'setosa'</li>\n",
       "\t<li>'setosa'</li>\n",
       "\t<li>'setosa'</li>\n",
       "\t<li>'setosa'</li>\n",
       "\t<li>'setosa'</li>\n",
       "\t<li>'setosa'</li>\n",
       "\t<li>'setosa'</li>\n",
       "\t<li>'setosa'</li>\n",
       "\t<li>'setosa'</li>\n",
       "\t<li>'setosa'</li>\n",
       "\t<li>'setosa'</li>\n",
       "\t<li>'setosa'</li>\n",
       "\t<li>'setosa'</li>\n",
       "\t<li>'setosa'</li>\n",
       "\t<li>'setosa'</li>\n",
       "\t<li>'setosa'</li>\n",
       "\t<li>'setosa'</li>\n",
       "\t<li>'setosa'</li>\n",
       "\t<li>'setosa'</li>\n",
       "\t<li>'setosa'</li>\n",
       "\t<li>'setosa'</li>\n",
       "\t<li>'setosa'</li>\n",
       "\t<li>'versicolor'</li>\n",
       "\t<li>'versicolor'</li>\n",
       "\t<li>'versicolor'</li>\n",
       "\t<li>'versicolor'</li>\n",
       "\t<li>'versicolor'</li>\n",
       "\t<li>'versicolor'</li>\n",
       "\t<li>'versicolor'</li>\n",
       "\t<li>'versicolor'</li>\n",
       "\t<li>'versicolor'</li>\n",
       "\t<li>'versicolor'</li>\n",
       "\t<li>'versicolor'</li>\n",
       "\t<li>'versicolor'</li>\n",
       "\t<li>'versicolor'</li>\n",
       "\t<li>'versicolor'</li>\n",
       "\t<li>'versicolor'</li>\n",
       "\t<li>'versicolor'</li>\n",
       "\t<li>'versicolor'</li>\n",
       "\t<li>'versicolor'</li>\n",
       "\t<li>'versicolor'</li>\n",
       "\t<li>'versicolor'</li>\n",
       "\t<li>'versicolor'</li>\n",
       "\t<li>'versicolor'</li>\n",
       "\t<li>'versicolor'</li>\n",
       "\t<li>'versicolor'</li>\n",
       "\t<li>'versicolor'</li>\n",
       "\t<li>'versicolor'</li>\n",
       "\t<li>'versicolor'</li>\n",
       "\t<li>'versicolor'</li>\n",
       "\t<li>'versicolor'</li>\n",
       "\t<li>'versicolor'</li>\n",
       "\t<li>'versicolor'</li>\n",
       "\t<li>'versicolor'</li>\n",
       "\t<li>'versicolor'</li>\n",
       "\t<li>'versicolor'</li>\n",
       "\t<li>'versicolor'</li>\n",
       "\t<li>'versicolor'</li>\n",
       "\t<li>'versicolor'</li>\n",
       "\t<li>'versicolor'</li>\n",
       "\t<li>'versicolor'</li>\n",
       "\t<li>'versicolor'</li>\n",
       "\t<li>'versicolor'</li>\n",
       "\t<li>'versicolor'</li>\n",
       "\t<li>'versicolor'</li>\n",
       "\t<li>'versicolor'</li>\n",
       "\t<li>'versicolor'</li>\n",
       "\t<li>'versicolor'</li>\n",
       "\t<li>'versicolor'</li>\n",
       "\t<li>'versicolor'</li>\n",
       "\t<li>'versicolor'</li>\n",
       "\t<li>'versicolor'</li>\n",
       "\t<li>'virginica'</li>\n",
       "\t<li>'virginica'</li>\n",
       "\t<li>'virginica'</li>\n",
       "\t<li>'virginica'</li>\n",
       "\t<li>'virginica'</li>\n",
       "\t<li>'virginica'</li>\n",
       "\t<li>'virginica'</li>\n",
       "\t<li>'virginica'</li>\n",
       "\t<li>'virginica'</li>\n",
       "\t<li>'virginica'</li>\n",
       "\t<li>'virginica'</li>\n",
       "\t<li>'virginica'</li>\n",
       "\t<li>'virginica'</li>\n",
       "\t<li>'virginica'</li>\n",
       "\t<li>'virginica'</li>\n",
       "\t<li>'virginica'</li>\n",
       "\t<li>'virginica'</li>\n",
       "\t<li>'virginica'</li>\n",
       "\t<li>'virginica'</li>\n",
       "\t<li>'virginica'</li>\n",
       "\t<li>'virginica'</li>\n",
       "\t<li>'virginica'</li>\n",
       "\t<li>'virginica'</li>\n",
       "\t<li>'virginica'</li>\n",
       "\t<li>'virginica'</li>\n",
       "\t<li>'virginica'</li>\n",
       "\t<li>'virginica'</li>\n",
       "\t<li>'virginica'</li>\n",
       "\t<li>'virginica'</li>\n",
       "\t<li>'virginica'</li>\n",
       "\t<li>'virginica'</li>\n",
       "\t<li>'virginica'</li>\n",
       "\t<li>'virginica'</li>\n",
       "\t<li>'virginica'</li>\n",
       "\t<li>'virginica'</li>\n",
       "\t<li>'virginica'</li>\n",
       "\t<li>'virginica'</li>\n",
       "\t<li>'virginica'</li>\n",
       "\t<li>'virginica'</li>\n",
       "\t<li>'virginica'</li>\n",
       "\t<li>'virginica'</li>\n",
       "\t<li>'virginica'</li>\n",
       "\t<li>'virginica'</li>\n",
       "\t<li>'virginica'</li>\n",
       "\t<li>'virginica'</li>\n",
       "\t<li>'virginica'</li>\n",
       "\t<li>'virginica'</li>\n",
       "\t<li>'virginica'</li>\n",
       "\t<li>'virginica'</li>\n",
       "\t<li>'virginica'</li>\n",
       "</ol>\n"
      ],
      "text/latex": [
       "\\begin{enumerate*}\n",
       "\\item 'setosa'\n",
       "\\item 'setosa'\n",
       "\\item 'setosa'\n",
       "\\item 'setosa'\n",
       "\\item 'setosa'\n",
       "\\item 'setosa'\n",
       "\\item 'setosa'\n",
       "\\item 'setosa'\n",
       "\\item 'setosa'\n",
       "\\item 'setosa'\n",
       "\\item 'setosa'\n",
       "\\item 'setosa'\n",
       "\\item 'setosa'\n",
       "\\item 'setosa'\n",
       "\\item 'setosa'\n",
       "\\item 'setosa'\n",
       "\\item 'setosa'\n",
       "\\item 'setosa'\n",
       "\\item 'setosa'\n",
       "\\item 'setosa'\n",
       "\\item 'setosa'\n",
       "\\item 'setosa'\n",
       "\\item 'setosa'\n",
       "\\item 'setosa'\n",
       "\\item 'setosa'\n",
       "\\item 'setosa'\n",
       "\\item 'setosa'\n",
       "\\item 'setosa'\n",
       "\\item 'setosa'\n",
       "\\item 'setosa'\n",
       "\\item 'setosa'\n",
       "\\item 'setosa'\n",
       "\\item 'setosa'\n",
       "\\item 'setosa'\n",
       "\\item 'setosa'\n",
       "\\item 'setosa'\n",
       "\\item 'setosa'\n",
       "\\item 'setosa'\n",
       "\\item 'setosa'\n",
       "\\item 'setosa'\n",
       "\\item 'setosa'\n",
       "\\item 'setosa'\n",
       "\\item 'setosa'\n",
       "\\item 'setosa'\n",
       "\\item 'setosa'\n",
       "\\item 'setosa'\n",
       "\\item 'setosa'\n",
       "\\item 'setosa'\n",
       "\\item 'setosa'\n",
       "\\item 'setosa'\n",
       "\\item 'versicolor'\n",
       "\\item 'versicolor'\n",
       "\\item 'versicolor'\n",
       "\\item 'versicolor'\n",
       "\\item 'versicolor'\n",
       "\\item 'versicolor'\n",
       "\\item 'versicolor'\n",
       "\\item 'versicolor'\n",
       "\\item 'versicolor'\n",
       "\\item 'versicolor'\n",
       "\\item 'versicolor'\n",
       "\\item 'versicolor'\n",
       "\\item 'versicolor'\n",
       "\\item 'versicolor'\n",
       "\\item 'versicolor'\n",
       "\\item 'versicolor'\n",
       "\\item 'versicolor'\n",
       "\\item 'versicolor'\n",
       "\\item 'versicolor'\n",
       "\\item 'versicolor'\n",
       "\\item 'versicolor'\n",
       "\\item 'versicolor'\n",
       "\\item 'versicolor'\n",
       "\\item 'versicolor'\n",
       "\\item 'versicolor'\n",
       "\\item 'versicolor'\n",
       "\\item 'versicolor'\n",
       "\\item 'versicolor'\n",
       "\\item 'versicolor'\n",
       "\\item 'versicolor'\n",
       "\\item 'versicolor'\n",
       "\\item 'versicolor'\n",
       "\\item 'versicolor'\n",
       "\\item 'versicolor'\n",
       "\\item 'versicolor'\n",
       "\\item 'versicolor'\n",
       "\\item 'versicolor'\n",
       "\\item 'versicolor'\n",
       "\\item 'versicolor'\n",
       "\\item 'versicolor'\n",
       "\\item 'versicolor'\n",
       "\\item 'versicolor'\n",
       "\\item 'versicolor'\n",
       "\\item 'versicolor'\n",
       "\\item 'versicolor'\n",
       "\\item 'versicolor'\n",
       "\\item 'versicolor'\n",
       "\\item 'versicolor'\n",
       "\\item 'versicolor'\n",
       "\\item 'versicolor'\n",
       "\\item 'virginica'\n",
       "\\item 'virginica'\n",
       "\\item 'virginica'\n",
       "\\item 'virginica'\n",
       "\\item 'virginica'\n",
       "\\item 'virginica'\n",
       "\\item 'virginica'\n",
       "\\item 'virginica'\n",
       "\\item 'virginica'\n",
       "\\item 'virginica'\n",
       "\\item 'virginica'\n",
       "\\item 'virginica'\n",
       "\\item 'virginica'\n",
       "\\item 'virginica'\n",
       "\\item 'virginica'\n",
       "\\item 'virginica'\n",
       "\\item 'virginica'\n",
       "\\item 'virginica'\n",
       "\\item 'virginica'\n",
       "\\item 'virginica'\n",
       "\\item 'virginica'\n",
       "\\item 'virginica'\n",
       "\\item 'virginica'\n",
       "\\item 'virginica'\n",
       "\\item 'virginica'\n",
       "\\item 'virginica'\n",
       "\\item 'virginica'\n",
       "\\item 'virginica'\n",
       "\\item 'virginica'\n",
       "\\item 'virginica'\n",
       "\\item 'virginica'\n",
       "\\item 'virginica'\n",
       "\\item 'virginica'\n",
       "\\item 'virginica'\n",
       "\\item 'virginica'\n",
       "\\item 'virginica'\n",
       "\\item 'virginica'\n",
       "\\item 'virginica'\n",
       "\\item 'virginica'\n",
       "\\item 'virginica'\n",
       "\\item 'virginica'\n",
       "\\item 'virginica'\n",
       "\\item 'virginica'\n",
       "\\item 'virginica'\n",
       "\\item 'virginica'\n",
       "\\item 'virginica'\n",
       "\\item 'virginica'\n",
       "\\item 'virginica'\n",
       "\\item 'virginica'\n",
       "\\item 'virginica'\n",
       "\\end{enumerate*}\n"
      ],
      "text/markdown": [
       "1. 'setosa'\n",
       "2. 'setosa'\n",
       "3. 'setosa'\n",
       "4. 'setosa'\n",
       "5. 'setosa'\n",
       "6. 'setosa'\n",
       "7. 'setosa'\n",
       "8. 'setosa'\n",
       "9. 'setosa'\n",
       "10. 'setosa'\n",
       "11. 'setosa'\n",
       "12. 'setosa'\n",
       "13. 'setosa'\n",
       "14. 'setosa'\n",
       "15. 'setosa'\n",
       "16. 'setosa'\n",
       "17. 'setosa'\n",
       "18. 'setosa'\n",
       "19. 'setosa'\n",
       "20. 'setosa'\n",
       "21. 'setosa'\n",
       "22. 'setosa'\n",
       "23. 'setosa'\n",
       "24. 'setosa'\n",
       "25. 'setosa'\n",
       "26. 'setosa'\n",
       "27. 'setosa'\n",
       "28. 'setosa'\n",
       "29. 'setosa'\n",
       "30. 'setosa'\n",
       "31. 'setosa'\n",
       "32. 'setosa'\n",
       "33. 'setosa'\n",
       "34. 'setosa'\n",
       "35. 'setosa'\n",
       "36. 'setosa'\n",
       "37. 'setosa'\n",
       "38. 'setosa'\n",
       "39. 'setosa'\n",
       "40. 'setosa'\n",
       "41. 'setosa'\n",
       "42. 'setosa'\n",
       "43. 'setosa'\n",
       "44. 'setosa'\n",
       "45. 'setosa'\n",
       "46. 'setosa'\n",
       "47. 'setosa'\n",
       "48. 'setosa'\n",
       "49. 'setosa'\n",
       "50. 'setosa'\n",
       "51. 'versicolor'\n",
       "52. 'versicolor'\n",
       "53. 'versicolor'\n",
       "54. 'versicolor'\n",
       "55. 'versicolor'\n",
       "56. 'versicolor'\n",
       "57. 'versicolor'\n",
       "58. 'versicolor'\n",
       "59. 'versicolor'\n",
       "60. 'versicolor'\n",
       "61. 'versicolor'\n",
       "62. 'versicolor'\n",
       "63. 'versicolor'\n",
       "64. 'versicolor'\n",
       "65. 'versicolor'\n",
       "66. 'versicolor'\n",
       "67. 'versicolor'\n",
       "68. 'versicolor'\n",
       "69. 'versicolor'\n",
       "70. 'versicolor'\n",
       "71. 'versicolor'\n",
       "72. 'versicolor'\n",
       "73. 'versicolor'\n",
       "74. 'versicolor'\n",
       "75. 'versicolor'\n",
       "76. 'versicolor'\n",
       "77. 'versicolor'\n",
       "78. 'versicolor'\n",
       "79. 'versicolor'\n",
       "80. 'versicolor'\n",
       "81. 'versicolor'\n",
       "82. 'versicolor'\n",
       "83. 'versicolor'\n",
       "84. 'versicolor'\n",
       "85. 'versicolor'\n",
       "86. 'versicolor'\n",
       "87. 'versicolor'\n",
       "88. 'versicolor'\n",
       "89. 'versicolor'\n",
       "90. 'versicolor'\n",
       "91. 'versicolor'\n",
       "92. 'versicolor'\n",
       "93. 'versicolor'\n",
       "94. 'versicolor'\n",
       "95. 'versicolor'\n",
       "96. 'versicolor'\n",
       "97. 'versicolor'\n",
       "98. 'versicolor'\n",
       "99. 'versicolor'\n",
       "100. 'versicolor'\n",
       "101. 'virginica'\n",
       "102. 'virginica'\n",
       "103. 'virginica'\n",
       "104. 'virginica'\n",
       "105. 'virginica'\n",
       "106. 'virginica'\n",
       "107. 'virginica'\n",
       "108. 'virginica'\n",
       "109. 'virginica'\n",
       "110. 'virginica'\n",
       "111. 'virginica'\n",
       "112. 'virginica'\n",
       "113. 'virginica'\n",
       "114. 'virginica'\n",
       "115. 'virginica'\n",
       "116. 'virginica'\n",
       "117. 'virginica'\n",
       "118. 'virginica'\n",
       "119. 'virginica'\n",
       "120. 'virginica'\n",
       "121. 'virginica'\n",
       "122. 'virginica'\n",
       "123. 'virginica'\n",
       "124. 'virginica'\n",
       "125. 'virginica'\n",
       "126. 'virginica'\n",
       "127. 'virginica'\n",
       "128. 'virginica'\n",
       "129. 'virginica'\n",
       "130. 'virginica'\n",
       "131. 'virginica'\n",
       "132. 'virginica'\n",
       "133. 'virginica'\n",
       "134. 'virginica'\n",
       "135. 'virginica'\n",
       "136. 'virginica'\n",
       "137. 'virginica'\n",
       "138. 'virginica'\n",
       "139. 'virginica'\n",
       "140. 'virginica'\n",
       "141. 'virginica'\n",
       "142. 'virginica'\n",
       "143. 'virginica'\n",
       "144. 'virginica'\n",
       "145. 'virginica'\n",
       "146. 'virginica'\n",
       "147. 'virginica'\n",
       "148. 'virginica'\n",
       "149. 'virginica'\n",
       "150. 'virginica'\n",
       "\n",
       "\n"
      ],
      "text/plain": [
       "  [1] \"setosa\"     \"setosa\"     \"setosa\"     \"setosa\"     \"setosa\"    \n",
       "  [6] \"setosa\"     \"setosa\"     \"setosa\"     \"setosa\"     \"setosa\"    \n",
       " [11] \"setosa\"     \"setosa\"     \"setosa\"     \"setosa\"     \"setosa\"    \n",
       " [16] \"setosa\"     \"setosa\"     \"setosa\"     \"setosa\"     \"setosa\"    \n",
       " [21] \"setosa\"     \"setosa\"     \"setosa\"     \"setosa\"     \"setosa\"    \n",
       " [26] \"setosa\"     \"setosa\"     \"setosa\"     \"setosa\"     \"setosa\"    \n",
       " [31] \"setosa\"     \"setosa\"     \"setosa\"     \"setosa\"     \"setosa\"    \n",
       " [36] \"setosa\"     \"setosa\"     \"setosa\"     \"setosa\"     \"setosa\"    \n",
       " [41] \"setosa\"     \"setosa\"     \"setosa\"     \"setosa\"     \"setosa\"    \n",
       " [46] \"setosa\"     \"setosa\"     \"setosa\"     \"setosa\"     \"setosa\"    \n",
       " [51] \"versicolor\" \"versicolor\" \"versicolor\" \"versicolor\" \"versicolor\"\n",
       " [56] \"versicolor\" \"versicolor\" \"versicolor\" \"versicolor\" \"versicolor\"\n",
       " [61] \"versicolor\" \"versicolor\" \"versicolor\" \"versicolor\" \"versicolor\"\n",
       " [66] \"versicolor\" \"versicolor\" \"versicolor\" \"versicolor\" \"versicolor\"\n",
       " [71] \"versicolor\" \"versicolor\" \"versicolor\" \"versicolor\" \"versicolor\"\n",
       " [76] \"versicolor\" \"versicolor\" \"versicolor\" \"versicolor\" \"versicolor\"\n",
       " [81] \"versicolor\" \"versicolor\" \"versicolor\" \"versicolor\" \"versicolor\"\n",
       " [86] \"versicolor\" \"versicolor\" \"versicolor\" \"versicolor\" \"versicolor\"\n",
       " [91] \"versicolor\" \"versicolor\" \"versicolor\" \"versicolor\" \"versicolor\"\n",
       " [96] \"versicolor\" \"versicolor\" \"versicolor\" \"versicolor\" \"versicolor\"\n",
       "[101] \"virginica\"  \"virginica\"  \"virginica\"  \"virginica\"  \"virginica\" \n",
       "[106] \"virginica\"  \"virginica\"  \"virginica\"  \"virginica\"  \"virginica\" \n",
       "[111] \"virginica\"  \"virginica\"  \"virginica\"  \"virginica\"  \"virginica\" \n",
       "[116] \"virginica\"  \"virginica\"  \"virginica\"  \"virginica\"  \"virginica\" \n",
       "[121] \"virginica\"  \"virginica\"  \"virginica\"  \"virginica\"  \"virginica\" \n",
       "[126] \"virginica\"  \"virginica\"  \"virginica\"  \"virginica\"  \"virginica\" \n",
       "[131] \"virginica\"  \"virginica\"  \"virginica\"  \"virginica\"  \"virginica\" \n",
       "[136] \"virginica\"  \"virginica\"  \"virginica\"  \"virginica\"  \"virginica\" \n",
       "[141] \"virginica\"  \"virginica\"  \"virginica\"  \"virginica\"  \"virginica\" \n",
       "[146] \"virginica\"  \"virginica\"  \"virginica\"  \"virginica\"  \"virginica\" "
      ]
     },
     "metadata": {},
     "output_type": "display_data"
    }
   ],
   "source": [
    "iris.boost$class"
   ]
  },
  {
   "cell_type": "code",
   "execution_count": 57,
   "metadata": {},
   "outputs": [
    {
     "data": {
      "text/html": [
       "<table>\n",
       "<tbody>\n",
       "\t<tr><td>1</td><td>0</td><td>0</td></tr>\n",
       "\t<tr><td>1</td><td>0</td><td>0</td></tr>\n",
       "\t<tr><td>1</td><td>0</td><td>0</td></tr>\n",
       "\t<tr><td>1</td><td>0</td><td>0</td></tr>\n",
       "\t<tr><td>1</td><td>0</td><td>0</td></tr>\n",
       "\t<tr><td>1</td><td>0</td><td>0</td></tr>\n",
       "</tbody>\n",
       "</table>\n"
      ],
      "text/latex": [
       "\\begin{tabular}{lll}\n",
       "\t 1 & 0 & 0\\\\\n",
       "\t 1 & 0 & 0\\\\\n",
       "\t 1 & 0 & 0\\\\\n",
       "\t 1 & 0 & 0\\\\\n",
       "\t 1 & 0 & 0\\\\\n",
       "\t 1 & 0 & 0\\\\\n",
       "\\end{tabular}\n"
      ],
      "text/markdown": [
       "\n",
       "| 1 | 0 | 0 | \n",
       "| 1 | 0 | 0 | \n",
       "| 1 | 0 | 0 | \n",
       "| 1 | 0 | 0 | \n",
       "| 1 | 0 | 0 | \n",
       "| 1 | 0 | 0 | \n",
       "\n",
       "\n"
      ],
      "text/plain": [
       "     [,1] [,2] [,3]\n",
       "[1,] 1    0    0   \n",
       "[2,] 1    0    0   \n",
       "[3,] 1    0    0   \n",
       "[4,] 1    0    0   \n",
       "[5,] 1    0    0   \n",
       "[6,] 1    0    0   "
      ]
     },
     "metadata": {},
     "output_type": "display_data"
    }
   ],
   "source": [
    "head(iris.boost$prob)"
   ]
  },
  {
   "cell_type": "code",
   "execution_count": 58,
   "metadata": {},
   "outputs": [
    {
     "data": {
      "text/html": [
       "<table>\n",
       "<tbody>\n",
       "\t<tr><td>12.61102</td><td>0       </td><td>0       </td></tr>\n",
       "\t<tr><td>12.61102</td><td>0       </td><td>0       </td></tr>\n",
       "\t<tr><td>12.61102</td><td>0       </td><td>0       </td></tr>\n",
       "\t<tr><td>12.61102</td><td>0       </td><td>0       </td></tr>\n",
       "\t<tr><td>12.61102</td><td>0       </td><td>0       </td></tr>\n",
       "\t<tr><td>12.61102</td><td>0       </td><td>0       </td></tr>\n",
       "</tbody>\n",
       "</table>\n"
      ],
      "text/latex": [
       "\\begin{tabular}{lll}\n",
       "\t 12.61102 & 0        & 0       \\\\\n",
       "\t 12.61102 & 0        & 0       \\\\\n",
       "\t 12.61102 & 0        & 0       \\\\\n",
       "\t 12.61102 & 0        & 0       \\\\\n",
       "\t 12.61102 & 0        & 0       \\\\\n",
       "\t 12.61102 & 0        & 0       \\\\\n",
       "\\end{tabular}\n"
      ],
      "text/markdown": [
       "\n",
       "| 12.61102 | 0        | 0        | \n",
       "| 12.61102 | 0        | 0        | \n",
       "| 12.61102 | 0        | 0        | \n",
       "| 12.61102 | 0        | 0        | \n",
       "| 12.61102 | 0        | 0        | \n",
       "| 12.61102 | 0        | 0        | \n",
       "\n",
       "\n"
      ],
      "text/plain": [
       "     [,1]     [,2] [,3]\n",
       "[1,] 12.61102 0    0   \n",
       "[2,] 12.61102 0    0   \n",
       "[3,] 12.61102 0    0   \n",
       "[4,] 12.61102 0    0   \n",
       "[5,] 12.61102 0    0   \n",
       "[6,] 12.61102 0    0   "
      ]
     },
     "metadata": {},
     "output_type": "display_data"
    }
   ],
   "source": [
    "# vote 몇 개의 트리가 해당 class를 할당했는지 보여준다.\n",
    "head(iris.boost$votes)"
   ]
  },
  {
   "cell_type": "markdown",
   "metadata": {},
   "source": [
    "## 3. Validation\n",
    "\n",
    "변수의 중요도를 확인해본다."
   ]
  },
  {
   "cell_type": "code",
   "execution_count": 59,
   "metadata": {},
   "outputs": [
    {
     "data": {
      "text/html": [
       "<dl class=dl-horizontal>\n",
       "\t<dt>Petal.Length</dt>\n",
       "\t\t<dd>65.4850770411754</dd>\n",
       "\t<dt>Petal.Width</dt>\n",
       "\t\t<dd>21.6867745794363</dd>\n",
       "\t<dt>Sepal.Length</dt>\n",
       "\t\t<dd>5.53646936400626</dd>\n",
       "\t<dt>Sepal.Width</dt>\n",
       "\t\t<dd>7.29167901538204</dd>\n",
       "</dl>\n"
      ],
      "text/latex": [
       "\\begin{description*}\n",
       "\\item[Petal.Length] 65.4850770411754\n",
       "\\item[Petal.Width] 21.6867745794363\n",
       "\\item[Sepal.Length] 5.53646936400626\n",
       "\\item[Sepal.Width] 7.29167901538204\n",
       "\\end{description*}\n"
      ],
      "text/markdown": [
       "Petal.Length\n",
       ":   65.4850770411754Petal.Width\n",
       ":   21.6867745794363Sepal.Length\n",
       ":   5.53646936400626Sepal.Width\n",
       ":   7.29167901538204\n",
       "\n"
      ],
      "text/plain": [
       "Petal.Length  Petal.Width Sepal.Length  Sepal.Width \n",
       "   65.485077    21.686775     5.536469     7.291679 "
      ]
     },
     "metadata": {},
     "output_type": "display_data"
    }
   ],
   "source": [
    "iris.boost$importance"
   ]
  },
  {
   "cell_type": "markdown",
   "metadata": {},
   "source": [
    "## 4. Visualization\n",
    "\n",
    "해당 결과를 시각화 해본다."
   ]
  },
  {
   "cell_type": "code",
   "execution_count": 60,
   "metadata": {},
   "outputs": [
    {
     "data": {
      "image/png": "[encoded data removed]",
      "text/plain": [
       "plot without title"
      ]
     },
     "metadata": {},
     "output_type": "display_data"
    }
   ],
   "source": [
    "plot(iris.boost$trees[[10]])\n",
    "text(iris.boost$trees[[10]])"
   ]
  },
  {
   "cell_type": "markdown",
   "metadata": {},
   "source": [
    "## 5. Predict\n",
    "\n",
    "만들어진 모형으로 예측을 해본다."
   ]
  },
  {
   "cell_type": "code",
   "execution_count": 61,
   "metadata": {},
   "outputs": [
    {
     "data": {
      "text/plain": [
       "            \n",
       "             setosa versicolor virginica\n",
       "  setosa         50          0         0\n",
       "  versicolor      0         50         0\n",
       "  virginica       0          0        50"
      ]
     },
     "metadata": {},
     "output_type": "display_data"
    }
   ],
   "source": [
    "pred <- predict(iris.boost, newdata=iris)\n",
    "tb <- table(pred$class, iris[,5])\n",
    "tb"
   ]
  },
  {
   "cell_type": "markdown",
   "metadata": {},
   "source": [
    "오차값이나 결측값 없이 완벽하게 분류되었다. "
   ]
  },
  {
   "cell_type": "code",
   "execution_count": 62,
   "metadata": {},
   "outputs": [
    {
     "data": {
      "text/html": [
       "0"
      ],
      "text/latex": [
       "0"
      ],
      "text/markdown": [
       "0"
      ],
      "text/plain": [
       "[1] 0"
      ]
     },
     "metadata": {},
     "output_type": "display_data"
    }
   ],
   "source": [
    "error <- 1 - sum(diag(tb))/sum(tb)\n",
    "error"
   ]
  },
  {
   "cell_type": "markdown",
   "metadata": {},
   "source": [
    "## 7. Load Library\n",
    "\n",
    "필요한 라이브러리를 불러온다. 설치가 안되어 있을 경우 패키지를 설치한다. 2개의 class를 모델링 하기 위해 foctor를 숫자로 변환할 때 아래와 같은 방식을 취한다."
   ]
  },
  {
   "cell_type": "code",
   "execution_count": 65,
   "metadata": {
    "scrolled": true
   },
   "outputs": [
    {
     "name": "stderr",
     "output_type": "stream",
     "text": [
      "Installing package into 'C:/Users/jang/Documents/R/win-library/3.5'\n",
      "(as 'lib' is unspecified)\n",
      "Warning message:\n",
      "\"package 'ada' is in use and will not be installed\""
     ]
    }
   ],
   "source": [
    "install.packages(\"ada\")\n",
    "library(ada)"
   ]
  },
  {
   "cell_type": "markdown",
   "metadata": {},
   "source": [
    "## 8. Data Preprocess\n",
    "\n",
    "2개의 class를 모델링 하기 위해 foctor를 숫자로 변환할 때 아래와 같은 방식을 취한다."
   ]
  },
  {
   "cell_type": "code",
   "execution_count": 66,
   "metadata": {},
   "outputs": [],
   "source": [
    "newiris <- iris[iris$Species != 'setosa', ]\n",
    "newiris[,5] <- factor(as.numeric(newiris[,5]) -1)"
   ]
  },
  {
   "cell_type": "code",
   "execution_count": 67,
   "metadata": {},
   "outputs": [
    {
     "name": "stdout",
     "output_type": "stream",
     "text": [
      "'data.frame':\t100 obs. of  5 variables:\n",
      " $ Sepal.Length: num  7 6.4 6.9 5.5 6.5 5.7 6.3 4.9 6.6 5.2 ...\n",
      " $ Sepal.Width : num  3.2 3.2 3.1 2.3 2.8 2.8 3.3 2.4 2.9 2.7 ...\n",
      " $ Petal.Length: num  4.7 4.5 4.9 4 4.6 4.5 4.7 3.3 4.6 3.9 ...\n",
      " $ Petal.Width : num  1.4 1.5 1.5 1.3 1.5 1.3 1.6 1 1.3 1.4 ...\n",
      " $ Species     : Factor w/ 2 levels \"1\",\"2\": 1 1 1 1 1 1 1 1 1 1 ...\n"
     ]
    },
    {
     "data": {
      "text/html": [
       "<table>\n",
       "<thead><tr><th></th><th scope=col>Sepal.Length</th><th scope=col>Sepal.Width</th><th scope=col>Petal.Length</th><th scope=col>Petal.Width</th><th scope=col>Species</th></tr></thead>\n",
       "<tbody>\n",
       "\t<tr><th scope=row>51</th><td>7.0</td><td>3.2</td><td>4.7</td><td>1.4</td><td>1  </td></tr>\n",
       "\t<tr><th scope=row>52</th><td>6.4</td><td>3.2</td><td>4.5</td><td>1.5</td><td>1  </td></tr>\n",
       "\t<tr><th scope=row>53</th><td>6.9</td><td>3.1</td><td>4.9</td><td>1.5</td><td>1  </td></tr>\n",
       "\t<tr><th scope=row>54</th><td>5.5</td><td>2.3</td><td>4.0</td><td>1.3</td><td>1  </td></tr>\n",
       "\t<tr><th scope=row>55</th><td>6.5</td><td>2.8</td><td>4.6</td><td>1.5</td><td>1  </td></tr>\n",
       "\t<tr><th scope=row>56</th><td>5.7</td><td>2.8</td><td>4.5</td><td>1.3</td><td>1  </td></tr>\n",
       "</tbody>\n",
       "</table>\n"
      ],
      "text/latex": [
       "\\begin{tabular}{r|lllll}\n",
       "  & Sepal.Length & Sepal.Width & Petal.Length & Petal.Width & Species\\\\\n",
       "\\hline\n",
       "\t51 & 7.0 & 3.2 & 4.7 & 1.4 & 1  \\\\\n",
       "\t52 & 6.4 & 3.2 & 4.5 & 1.5 & 1  \\\\\n",
       "\t53 & 6.9 & 3.1 & 4.9 & 1.5 & 1  \\\\\n",
       "\t54 & 5.5 & 2.3 & 4.0 & 1.3 & 1  \\\\\n",
       "\t55 & 6.5 & 2.8 & 4.6 & 1.5 & 1  \\\\\n",
       "\t56 & 5.7 & 2.8 & 4.5 & 1.3 & 1  \\\\\n",
       "\\end{tabular}\n"
      ],
      "text/markdown": [
       "\n",
       "| <!--/--> | Sepal.Length | Sepal.Width | Petal.Length | Petal.Width | Species | \n",
       "|---|---|---|---|---|---|\n",
       "| 51 | 7.0 | 3.2 | 4.7 | 1.4 | 1   | \n",
       "| 52 | 6.4 | 3.2 | 4.5 | 1.5 | 1   | \n",
       "| 53 | 6.9 | 3.1 | 4.9 | 1.5 | 1   | \n",
       "| 54 | 5.5 | 2.3 | 4.0 | 1.3 | 1   | \n",
       "| 55 | 6.5 | 2.8 | 4.6 | 1.5 | 1   | \n",
       "| 56 | 5.7 | 2.8 | 4.5 | 1.3 | 1   | \n",
       "\n",
       "\n"
      ],
      "text/plain": [
       "   Sepal.Length Sepal.Width Petal.Length Petal.Width Species\n",
       "51 7.0          3.2         4.7          1.4         1      \n",
       "52 6.4          3.2         4.5          1.5         1      \n",
       "53 6.9          3.1         4.9          1.5         1      \n",
       "54 5.5          2.3         4.0          1.3         1      \n",
       "55 6.5          2.8         4.6          1.5         1      \n",
       "56 5.7          2.8         4.5          1.3         1      "
      ]
     },
     "metadata": {},
     "output_type": "display_data"
    }
   ],
   "source": [
    "str(newiris)\n",
    "head(newiris)"
   ]
  },
  {
   "cell_type": "code",
   "execution_count": 68,
   "metadata": {
    "scrolled": true
   },
   "outputs": [
    {
     "data": {
      "text/html": [
       "<ol class=list-inline>\n",
       "\t<li>1</li>\n",
       "\t<li>1</li>\n",
       "\t<li>1</li>\n",
       "\t<li>1</li>\n",
       "\t<li>1</li>\n",
       "\t<li>1</li>\n",
       "\t<li>1</li>\n",
       "\t<li>1</li>\n",
       "\t<li>1</li>\n",
       "\t<li>1</li>\n",
       "\t<li>1</li>\n",
       "\t<li>1</li>\n",
       "\t<li>1</li>\n",
       "\t<li>1</li>\n",
       "\t<li>1</li>\n",
       "\t<li>1</li>\n",
       "\t<li>1</li>\n",
       "\t<li>1</li>\n",
       "\t<li>1</li>\n",
       "\t<li>1</li>\n",
       "\t<li>1</li>\n",
       "\t<li>1</li>\n",
       "\t<li>1</li>\n",
       "\t<li>1</li>\n",
       "\t<li>1</li>\n",
       "\t<li>1</li>\n",
       "\t<li>1</li>\n",
       "\t<li>1</li>\n",
       "\t<li>1</li>\n",
       "\t<li>1</li>\n",
       "\t<li>1</li>\n",
       "\t<li>1</li>\n",
       "\t<li>1</li>\n",
       "\t<li>1</li>\n",
       "\t<li>1</li>\n",
       "\t<li>1</li>\n",
       "\t<li>1</li>\n",
       "\t<li>1</li>\n",
       "\t<li>1</li>\n",
       "\t<li>1</li>\n",
       "\t<li>1</li>\n",
       "\t<li>1</li>\n",
       "\t<li>1</li>\n",
       "\t<li>1</li>\n",
       "\t<li>1</li>\n",
       "\t<li>1</li>\n",
       "\t<li>1</li>\n",
       "\t<li>1</li>\n",
       "\t<li>1</li>\n",
       "\t<li>1</li>\n",
       "\t<li>2</li>\n",
       "\t<li>2</li>\n",
       "\t<li>2</li>\n",
       "\t<li>2</li>\n",
       "\t<li>2</li>\n",
       "\t<li>2</li>\n",
       "\t<li>2</li>\n",
       "\t<li>2</li>\n",
       "\t<li>2</li>\n",
       "\t<li>2</li>\n",
       "\t<li>2</li>\n",
       "\t<li>2</li>\n",
       "\t<li>2</li>\n",
       "\t<li>2</li>\n",
       "\t<li>2</li>\n",
       "\t<li>2</li>\n",
       "\t<li>2</li>\n",
       "\t<li>2</li>\n",
       "\t<li>2</li>\n",
       "\t<li>2</li>\n",
       "\t<li>2</li>\n",
       "\t<li>2</li>\n",
       "\t<li>2</li>\n",
       "\t<li>2</li>\n",
       "\t<li>2</li>\n",
       "\t<li>2</li>\n",
       "\t<li>2</li>\n",
       "\t<li>2</li>\n",
       "\t<li>2</li>\n",
       "\t<li>2</li>\n",
       "\t<li>2</li>\n",
       "\t<li>2</li>\n",
       "\t<li>2</li>\n",
       "\t<li>2</li>\n",
       "\t<li>2</li>\n",
       "\t<li>2</li>\n",
       "\t<li>2</li>\n",
       "\t<li>2</li>\n",
       "\t<li>2</li>\n",
       "\t<li>2</li>\n",
       "\t<li>2</li>\n",
       "\t<li>2</li>\n",
       "\t<li>2</li>\n",
       "\t<li>2</li>\n",
       "\t<li>2</li>\n",
       "\t<li>2</li>\n",
       "\t<li>2</li>\n",
       "\t<li>2</li>\n",
       "\t<li>2</li>\n",
       "\t<li>2</li>\n",
       "</ol>\n",
       "\n",
       "<details>\n",
       "\t<summary style=display:list-item;cursor:pointer>\n",
       "\t\t<strong>Levels</strong>:\n",
       "\t</summary>\n",
       "\t<ol class=list-inline>\n",
       "\t\t<li>'1'</li>\n",
       "\t\t<li>'2'</li>\n",
       "\t</ol>\n",
       "</details>"
      ],
      "text/latex": [
       "\\begin{enumerate*}\n",
       "\\item 1\n",
       "\\item 1\n",
       "\\item 1\n",
       "\\item 1\n",
       "\\item 1\n",
       "\\item 1\n",
       "\\item 1\n",
       "\\item 1\n",
       "\\item 1\n",
       "\\item 1\n",
       "\\item 1\n",
       "\\item 1\n",
       "\\item 1\n",
       "\\item 1\n",
       "\\item 1\n",
       "\\item 1\n",
       "\\item 1\n",
       "\\item 1\n",
       "\\item 1\n",
       "\\item 1\n",
       "\\item 1\n",
       "\\item 1\n",
       "\\item 1\n",
       "\\item 1\n",
       "\\item 1\n",
       "\\item 1\n",
       "\\item 1\n",
       "\\item 1\n",
       "\\item 1\n",
       "\\item 1\n",
       "\\item 1\n",
       "\\item 1\n",
       "\\item 1\n",
       "\\item 1\n",
       "\\item 1\n",
       "\\item 1\n",
       "\\item 1\n",
       "\\item 1\n",
       "\\item 1\n",
       "\\item 1\n",
       "\\item 1\n",
       "\\item 1\n",
       "\\item 1\n",
       "\\item 1\n",
       "\\item 1\n",
       "\\item 1\n",
       "\\item 1\n",
       "\\item 1\n",
       "\\item 1\n",
       "\\item 1\n",
       "\\item 2\n",
       "\\item 2\n",
       "\\item 2\n",
       "\\item 2\n",
       "\\item 2\n",
       "\\item 2\n",
       "\\item 2\n",
       "\\item 2\n",
       "\\item 2\n",
       "\\item 2\n",
       "\\item 2\n",
       "\\item 2\n",
       "\\item 2\n",
       "\\item 2\n",
       "\\item 2\n",
       "\\item 2\n",
       "\\item 2\n",
       "\\item 2\n",
       "\\item 2\n",
       "\\item 2\n",
       "\\item 2\n",
       "\\item 2\n",
       "\\item 2\n",
       "\\item 2\n",
       "\\item 2\n",
       "\\item 2\n",
       "\\item 2\n",
       "\\item 2\n",
       "\\item 2\n",
       "\\item 2\n",
       "\\item 2\n",
       "\\item 2\n",
       "\\item 2\n",
       "\\item 2\n",
       "\\item 2\n",
       "\\item 2\n",
       "\\item 2\n",
       "\\item 2\n",
       "\\item 2\n",
       "\\item 2\n",
       "\\item 2\n",
       "\\item 2\n",
       "\\item 2\n",
       "\\item 2\n",
       "\\item 2\n",
       "\\item 2\n",
       "\\item 2\n",
       "\\item 2\n",
       "\\item 2\n",
       "\\item 2\n",
       "\\end{enumerate*}\n",
       "\n",
       "\\emph{Levels}: \\begin{enumerate*}\n",
       "\\item '1'\n",
       "\\item '2'\n",
       "\\end{enumerate*}\n"
      ],
      "text/markdown": [
       "1. 1\n",
       "2. 1\n",
       "3. 1\n",
       "4. 1\n",
       "5. 1\n",
       "6. 1\n",
       "7. 1\n",
       "8. 1\n",
       "9. 1\n",
       "10. 1\n",
       "11. 1\n",
       "12. 1\n",
       "13. 1\n",
       "14. 1\n",
       "15. 1\n",
       "16. 1\n",
       "17. 1\n",
       "18. 1\n",
       "19. 1\n",
       "20. 1\n",
       "21. 1\n",
       "22. 1\n",
       "23. 1\n",
       "24. 1\n",
       "25. 1\n",
       "26. 1\n",
       "27. 1\n",
       "28. 1\n",
       "29. 1\n",
       "30. 1\n",
       "31. 1\n",
       "32. 1\n",
       "33. 1\n",
       "34. 1\n",
       "35. 1\n",
       "36. 1\n",
       "37. 1\n",
       "38. 1\n",
       "39. 1\n",
       "40. 1\n",
       "41. 1\n",
       "42. 1\n",
       "43. 1\n",
       "44. 1\n",
       "45. 1\n",
       "46. 1\n",
       "47. 1\n",
       "48. 1\n",
       "49. 1\n",
       "50. 1\n",
       "51. 2\n",
       "52. 2\n",
       "53. 2\n",
       "54. 2\n",
       "55. 2\n",
       "56. 2\n",
       "57. 2\n",
       "58. 2\n",
       "59. 2\n",
       "60. 2\n",
       "61. 2\n",
       "62. 2\n",
       "63. 2\n",
       "64. 2\n",
       "65. 2\n",
       "66. 2\n",
       "67. 2\n",
       "68. 2\n",
       "69. 2\n",
       "70. 2\n",
       "71. 2\n",
       "72. 2\n",
       "73. 2\n",
       "74. 2\n",
       "75. 2\n",
       "76. 2\n",
       "77. 2\n",
       "78. 2\n",
       "79. 2\n",
       "80. 2\n",
       "81. 2\n",
       "82. 2\n",
       "83. 2\n",
       "84. 2\n",
       "85. 2\n",
       "86. 2\n",
       "87. 2\n",
       "88. 2\n",
       "89. 2\n",
       "90. 2\n",
       "91. 2\n",
       "92. 2\n",
       "93. 2\n",
       "94. 2\n",
       "95. 2\n",
       "96. 2\n",
       "97. 2\n",
       "98. 2\n",
       "99. 2\n",
       "100. 2\n",
       "\n",
       "\n",
       "\n",
       "**Levels**: 1. '1'\n",
       "2. '2'\n",
       "\n",
       "\n"
      ],
      "text/plain": [
       "  [1] 1 1 1 1 1 1 1 1 1 1 1 1 1 1 1 1 1 1 1 1 1 1 1 1 1 1 1 1 1 1 1 1 1 1 1 1 1\n",
       " [38] 1 1 1 1 1 1 1 1 1 1 1 1 1 2 2 2 2 2 2 2 2 2 2 2 2 2 2 2 2 2 2 2 2 2 2 2 2\n",
       " [75] 2 2 2 2 2 2 2 2 2 2 2 2 2 2 2 2 2 2 2 2 2 2 2 2 2 2\n",
       "Levels: 1 2"
      ]
     },
     "metadata": {},
     "output_type": "display_data"
    }
   ],
   "source": [
    "newiris[,5]"
   ]
  },
  {
   "cell_type": "markdown",
   "metadata": {},
   "source": [
    "총 100개의 자료를 60개의 훈련용 자료와 40개의 검증용 자료로 나눈다."
   ]
  },
  {
   "cell_type": "code",
   "execution_count": 69,
   "metadata": {},
   "outputs": [],
   "source": [
    "n <- dim(newiris)[1]\n",
    "trind <- sample(1:n, floor(.6*n), F)  # 훈련용 60%의 데이터\n",
    "teind <- setdiff(1:n, trind)    # set Difference 차집합\n",
    "iris[,5] <- as.factor((levels(iris[,5])[2:3]))  # 0,1,2가 차례대로 50개"
   ]
  },
  {
   "cell_type": "markdown",
   "metadata": {},
   "source": [
    "## 8. Build Model\n",
    "\n",
    "훈련용 데이터를 이용하여 부스팅 방법으로 모형을 구축, 검증용 데이터에 대해 분류를 실시한다.\n",
    "- nu=1은 부스팅을 위한 축소 모수\n",
    "- type=\"discrete\"는 부스팅 알고리즘 지정"
   ]
  },
  {
   "cell_type": "code",
   "execution_count": 70,
   "metadata": {},
   "outputs": [
    {
     "data": {
      "text/plain": [
       "Call:\n",
       "ada(Species ~ ., data = iris[trind, ], iter = 20, nu = 1, type = \"discrete\")\n",
       "\n",
       "Loss: exponential Method: discrete   Iteration: 20 \n",
       "\n",
       "Final Confusion Matrix for Data:\n",
       "            Final Prediction\n",
       "True value   versicolor virginica\n",
       "  versicolor         22         6\n",
       "  virginica           9        23\n",
       "\n",
       "Train Error: 0.25 \n",
       "\n",
       "Out-Of-Bag Error:  0.317  iteration= 19 \n",
       "\n",
       "Additional Estimates of number of iterations:\n",
       "\n",
       "train.err1 train.kap1 \n",
       "        13         13 \n"
      ]
     },
     "metadata": {},
     "output_type": "display_data"
    }
   ],
   "source": [
    "gdis <- ada(Species~., data=iris[trind,], iter=20, nu=1, type=\"discrete\")\n",
    "gdis"
   ]
  },
  {
   "cell_type": "code",
   "execution_count": 71,
   "metadata": {},
   "outputs": [
    {
     "data": {
      "text/plain": [
       "Call:\n",
       "ada(Species ~ ., data = iris[trind, ], iter = 20, nu = 1, type = \"discrete\")\n",
       "\n",
       "Loss: exponential Method: discrete   Iteration: 20 \n",
       "\n",
       "Final Confusion Matrix for Data:\n",
       "            Final Prediction\n",
       "True value   versicolor virginica\n",
       "  versicolor         22         6\n",
       "  virginica           9        23\n",
       "\n",
       "Train Error: 0.25 \n",
       "\n",
       "Out-Of-Bag Error:  0.317  iteration= 19 \n",
       "\n",
       "Additional Estimates of number of iterations:\n",
       "\n",
       "train.err1 train.kap1 test.errs2 test.kaps2 \n",
       "        13         13          3          3 \n"
      ]
     },
     "metadata": {},
     "output_type": "display_data"
    }
   ],
   "source": [
    "gdis <- addtest(gdis, iris[teind, -5], iris[teind,5])\n",
    "gdis"
   ]
  },
  {
   "cell_type": "markdown",
   "metadata": {},
   "source": [
    "## 8. Check Result : plot(), varplot(), pairs()\n",
    "\n",
    "**plot(), varplot(), pairs() 함수**를 이용하여 부스팅 결과를 시각화해본다. train과 test에 대해 kappa 값을 추력해서 모델이 어느 정도 좋은 모델인지 확인해본다. 대부분 train보다 test가 성과가 낮게 나온다.\n",
    "- 해당 결과는 분식마다 달라짐"
   ]
  },
  {
   "cell_type": "code",
   "execution_count": 72,
   "metadata": {},
   "outputs": [
    {
     "data": {
      "image/png": "[encoded data removed]",
      "text/plain": [
       "Plot with title \"Training And Testing Kappas\""
      ]
     },
     "metadata": {},
     "output_type": "display_data"
    }
   ],
   "source": [
    "plot(gdis, kappa=T, test=T)"
   ]
  },
  {
   "cell_type": "markdown",
   "metadata": {},
   "source": [
    "varplot() 함수는 변수의 중요도를 보여준다. Petal.Length 변수가 분류에서 사장 중요한 변수로 사용됨을 확인 할 수 있다."
   ]
  },
  {
   "cell_type": "code",
   "execution_count": 76,
   "metadata": {},
   "outputs": [
    {
     "data": {
      "image/png": "[encoded data removed]",
      "text/plain": [
       "Plot with title \"Variable Importance Plot\""
      ]
     },
     "metadata": {},
     "output_type": "display_data"
    }
   ],
   "source": [
    "varplot(gdis)"
   ]
  },
  {
   "cell_type": "markdown",
   "metadata": {},
   "source": [
    "pairs()함수는 두 예측 변수의 조합별로 분류된 결과를 그려준다. maxver= 옵션을 통해 변수의 수를 지정할 수 있다."
   ]
  },
  {
   "cell_type": "code",
   "execution_count": 77,
   "metadata": {},
   "outputs": [
    {
     "data": {
      "image/png": "[encoded data removed]",
      "text/plain": [
       "plot without title"
      ]
     },
     "metadata": {},
     "output_type": "display_data"
    }
   ],
   "source": [
    "pairs(gdis, iris[trind, -5], maxvar=4)"
   ]
  },
  {
   "cell_type": "markdown",
   "metadata": {},
   "source": [
    "----"
   ]
  }
 ],
 "metadata": {
  "kernelspec": {
   "display_name": "R",
   "language": "R",
   "name": "ir"
  },
  "language_info": {
   "codemirror_mode": "r",
   "file_extension": ".r",
   "mimetype": "text/x-r-source",
   "name": "R",
   "pygments_lexer": "r",
   "version": "3.5.1"
  }
 },
 "nbformat": 4,
 "nbformat_minor": 2
}
