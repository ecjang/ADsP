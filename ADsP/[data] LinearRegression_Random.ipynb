{
 "cells": [
  {
   "cell_type": "markdown",
   "metadata": {},
   "source": [
    "----"
   ]
  },
  {
   "cell_type": "markdown",
   "metadata": {},
   "source": [
    "# 단순 선형 회귀 분석 예제\n",
    "\n",
    "참고 : 데이터 분석 준전문가 한 권으로 끝내기"
   ]
  },
  {
   "cell_type": "markdown",
   "metadata": {},
   "source": [
    "두 벡터 x와 y를 생성하고, x와 y 사이에 선형관계가 있다고 가정하고 lm()함수를 이용해 단순선형회귀분석을 실시하라."
   ]
  },
  {
   "cell_type": "markdown",
   "metadata": {},
   "source": [
    "## 1. Random Vector"
   ]
  },
  {
   "cell_type": "code",
   "execution_count": 2,
   "metadata": {},
   "outputs": [],
   "source": [
    "# 난수 생성기의 시드 설정. \n",
    "set.seed(2) "
   ]
  },
  {
   "cell_type": "code",
   "execution_count": 5,
   "metadata": {},
   "outputs": [
    {
     "data": {
      "text/html": [
       "<ol class=list-inline>\n",
       "\t<li>10.7990064849146</li>\n",
       "\t<li>3.26711808657274</li>\n",
       "\t<li>1.26592482905835</li>\n",
       "\t<li>1.79520958964713</li>\n",
       "\t<li>10.3844598894939</li>\n",
       "\t<li>8.74350205925293</li>\n",
       "\t<li>10.7215668736026</li>\n",
       "\t<li>3.83997251675464</li>\n",
       "\t<li>5.52166868979111</li>\n",
       "\t<li>8.91436988953501</li>\n",
       "</ol>\n"
      ],
      "text/latex": [
       "\\begin{enumerate*}\n",
       "\\item 10.7990064849146\n",
       "\\item 3.26711808657274\n",
       "\\item 1.26592482905835\n",
       "\\item 1.79520958964713\n",
       "\\item 10.3844598894939\n",
       "\\item 8.74350205925293\n",
       "\\item 10.7215668736026\n",
       "\\item 3.83997251675464\n",
       "\\item 5.52166868979111\n",
       "\\item 8.91436988953501\n",
       "\\end{enumerate*}\n"
      ],
      "text/markdown": [
       "1. 10.7990064849146\n",
       "2. 3.26711808657274\n",
       "3. 1.26592482905835\n",
       "4. 1.79520958964713\n",
       "5. 10.3844598894939\n",
       "6. 8.74350205925293\n",
       "7. 10.7215668736026\n",
       "8. 3.83997251675464\n",
       "9. 5.52166868979111\n",
       "10. 8.91436988953501\n",
       "\n",
       "\n"
      ],
      "text/plain": [
       " [1] 10.799006  3.267118  1.265925  1.795210 10.384460  8.743502 10.721567\n",
       " [8]  3.839973  5.521669  8.914370"
      ]
     },
     "metadata": {},
     "output_type": "display_data"
    },
    {
     "data": {
      "text/html": [
       "<ol class=list-inline>\n",
       "\t<li>0.528976167292324</li>\n",
       "\t<li>2.28634238156817</li>\n",
       "\t<li>1.64206509882116</li>\n",
       "\t<li>2.47532196217979</li>\n",
       "\t<li>2.17378202610641</li>\n",
       "\t<li>2.44336316225727</li>\n",
       "\t<li>2.19137624065859</li>\n",
       "\t<li>2.6456986122872</li>\n",
       "\t<li>1.82950536770705</li>\n",
       "\t<li>1.53399483561215</li>\n",
       "</ol>\n"
      ],
      "text/latex": [
       "\\begin{enumerate*}\n",
       "\\item 0.528976167292324\n",
       "\\item 2.28634238156817\n",
       "\\item 1.64206509882116\n",
       "\\item 2.47532196217979\n",
       "\\item 2.17378202610641\n",
       "\\item 2.44336316225727\n",
       "\\item 2.19137624065859\n",
       "\\item 2.6456986122872\n",
       "\\item 1.82950536770705\n",
       "\\item 1.53399483561215\n",
       "\\end{enumerate*}\n"
      ],
      "text/markdown": [
       "1. 0.528976167292324\n",
       "2. 2.28634238156817\n",
       "3. 1.64206509882116\n",
       "4. 2.47532196217979\n",
       "5. 2.17378202610641\n",
       "6. 2.44336316225727\n",
       "7. 2.19137624065859\n",
       "8. 2.6456986122872\n",
       "9. 1.82950536770705\n",
       "10. 1.53399483561215\n",
       "\n",
       "\n"
      ],
      "text/plain": [
       " [1] 0.5289762 2.2863424 1.6420651 2.4753220 2.1737820 2.4433632 2.1913762\n",
       " [8] 2.6456986 1.8295054 1.5339948"
      ]
     },
     "metadata": {},
     "output_type": "display_data"
    }
   ],
   "source": [
    "x <- runif(10,0,11)\n",
    "y <- 2 + 3 * rnorm(10,0,0.2)\n",
    "\n",
    "x\n",
    "y"
   ]
  },
  {
   "cell_type": "markdown",
   "metadata": {},
   "source": [
    "- **runif(10, 0, 11)** : 평균이 0, 표준편차가 11인 연속균등분포로 부터 난수 10개를 추출하는 기능\n",
    "- **rnorm(10,0,0.2)** : 평균이 0, 표준편차가 2인 정규분포로부터 난수 10개를 추출"
   ]
  },
  {
   "cell_type": "markdown",
   "metadata": {},
   "source": [
    "## 2. Covert to DataFrame"
   ]
  },
  {
   "cell_type": "code",
   "execution_count": 7,
   "metadata": {},
   "outputs": [
    {
     "data": {
      "text/html": [
       "<table>\n",
       "<thead><tr><th scope=col>x</th><th scope=col>y</th></tr></thead>\n",
       "<tbody>\n",
       "\t<tr><td>10.799006</td><td>0.5289762</td></tr>\n",
       "\t<tr><td> 3.267118</td><td>2.2863424</td></tr>\n",
       "\t<tr><td> 1.265925</td><td>1.6420651</td></tr>\n",
       "\t<tr><td> 1.795210</td><td>2.4753220</td></tr>\n",
       "\t<tr><td>10.384460</td><td>2.1737820</td></tr>\n",
       "\t<tr><td> 8.743502</td><td>2.4433632</td></tr>\n",
       "\t<tr><td>10.721567</td><td>2.1913762</td></tr>\n",
       "\t<tr><td> 3.839973</td><td>2.6456986</td></tr>\n",
       "\t<tr><td> 5.521669</td><td>1.8295054</td></tr>\n",
       "\t<tr><td> 8.914370</td><td>1.5339948</td></tr>\n",
       "</tbody>\n",
       "</table>\n"
      ],
      "text/latex": [
       "\\begin{tabular}{r|ll}\n",
       " x & y\\\\\n",
       "\\hline\n",
       "\t 10.799006 & 0.5289762\\\\\n",
       "\t  3.267118 & 2.2863424\\\\\n",
       "\t  1.265925 & 1.6420651\\\\\n",
       "\t  1.795210 & 2.4753220\\\\\n",
       "\t 10.384460 & 2.1737820\\\\\n",
       "\t  8.743502 & 2.4433632\\\\\n",
       "\t 10.721567 & 2.1913762\\\\\n",
       "\t  3.839973 & 2.6456986\\\\\n",
       "\t  5.521669 & 1.8295054\\\\\n",
       "\t  8.914370 & 1.5339948\\\\\n",
       "\\end{tabular}\n"
      ],
      "text/markdown": [
       "\n",
       "x | y | \n",
       "|---|---|---|---|---|---|---|---|---|---|\n",
       "| 10.799006 | 0.5289762 | \n",
       "|  3.267118 | 2.2863424 | \n",
       "|  1.265925 | 1.6420651 | \n",
       "|  1.795210 | 2.4753220 | \n",
       "| 10.384460 | 2.1737820 | \n",
       "|  8.743502 | 2.4433632 | \n",
       "| 10.721567 | 2.1913762 | \n",
       "|  3.839973 | 2.6456986 | \n",
       "|  5.521669 | 1.8295054 | \n",
       "|  8.914370 | 1.5339948 | \n",
       "\n",
       "\n"
      ],
      "text/plain": [
       "   x         y        \n",
       "1  10.799006 0.5289762\n",
       "2   3.267118 2.2863424\n",
       "3   1.265925 1.6420651\n",
       "4   1.795210 2.4753220\n",
       "5  10.384460 2.1737820\n",
       "6   8.743502 2.4433632\n",
       "7  10.721567 2.1913762\n",
       "8   3.839973 2.6456986\n",
       "9   5.521669 1.8295054\n",
       "10  8.914370 1.5339948"
      ]
     },
     "metadata": {},
     "output_type": "display_data"
    }
   ],
   "source": [
    "dfrm <- data.frame(x, y)\n",
    "dfrm"
   ]
  },
  {
   "cell_type": "markdown",
   "metadata": {},
   "source": [
    "## 3. Regression Analysis"
   ]
  },
  {
   "cell_type": "code",
   "execution_count": 8,
   "metadata": {},
   "outputs": [
    {
     "data": {
      "text/plain": [
       "\n",
       "Call:\n",
       "lm(formula = y ~ x, data = dfrm)\n",
       "\n",
       "Coefficients:\n",
       "(Intercept)            x  \n",
       "    2.36599     -0.05991  \n"
      ]
     },
     "metadata": {},
     "output_type": "display_data"
    }
   ],
   "source": [
    "lm(y~x, data=dfrm)"
   ]
  },
  {
   "cell_type": "markdown",
   "metadata": {},
   "source": [
    "- **Intercept** : 상수\n",
    "- **x** : 회귀계수\n",
    " $$ 회귀식 = y = 2.36 + 0.06\\times{x} $$"
   ]
  },
  {
   "cell_type": "code",
   "execution_count": null,
   "metadata": {},
   "outputs": [],
   "source": []
  },
  {
   "cell_type": "markdown",
   "metadata": {},
   "source": [
    "----"
   ]
  }
 ],
 "metadata": {
  "kernelspec": {
   "display_name": "R",
   "language": "R",
   "name": "ir"
  },
  "language_info": {
   "codemirror_mode": "r",
   "file_extension": ".r",
   "mimetype": "text/x-r-source",
   "name": "R",
   "pygments_lexer": "r",
   "version": "3.5.1"
  }
 },
 "nbformat": 4,
 "nbformat_minor": 2
}
