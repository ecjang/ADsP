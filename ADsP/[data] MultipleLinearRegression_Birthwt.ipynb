{
 "cells": [
  {
   "cell_type": "markdown",
   "metadata": {},
   "source": [
    "# Birthwt Dataset_Multiple Linear Regression\n",
    "\n",
    "url : http://rstudio-pubs-static.s3.amazonaws.com/189354_277dfb3a83a34a2abaae855b90fcf269.html"
   ]
  },
  {
   "cell_type": "markdown",
   "metadata": {},
   "source": [
    "## [Multiple Linear Regression 다중회귀]\n",
    "\n",
    "다중회귀는 단순회귀와 다르게 예측변수가 2개 이상일 때 사용한다. 예측변수가 많을 경우 분석에 앞서 모형선택 과정을 거친다.예측변수의 선택은 다음과 같다. 예측변수끼리 상관관계가 높다는 것은 중복된 정보가 반영된다는 의미이다. 변수 낭비뿐만 아니라 계산상으로도 문제를 일으켜 예측변수를 의미없게 만들수 있다. (다중공선성 Multicolinearity)\n",
    "\n",
    "- 반응변수와 높은 상관관계\n",
    "- 선택된 예측변수끼리 낮은 상관관계\n",
    "- 소수정예의 원칙"
   ]
  },
  {
   "cell_type": "markdown",
   "metadata": {},
   "source": [
    "### [ EA Exploratory Analysis 모형선택]\n",
    "\n",
    "변수들간에 높은 상관관계가 있을 경우 전진선택법, 너무 많지 않은 경우 후진제거법을 권장한다.\n",
    "\n",
    "1. [All Possible Regression 전체선택법] : 가증한 모든 예측변수드의 조합으로 모형을 만듬.\n",
    "1. [Forword Selection 전진선택법] : 가장 유의한 변수 순으로 하나씩 추가.\n",
    "1. [Backword Elimination 후진제거법] : 모든 변수를 넣고 기여도 낮은 변수를 하나씩 제거.\n",
    "1. [Stepwise Method 단계별방법] : 전진선택법으로 변수를 추가후 중요도에 따라 추가 또는 제거.\n"
   ]
  },
  {
   "cell_type": "markdown",
   "metadata": {},
   "source": [
    "----"
   ]
  },
  {
   "cell_type": "markdown",
   "metadata": {
    "scrolled": false
   },
   "source": [
    "## 1. birthwt Dataset\n",
    "\n",
    "MASS 패키지에 포함되어 있는 birthwt는 1986년 미국 Messachysetts주 Springfield에 있는 Babystate Medical Center에서 수집한 자료로 189명분의 나이, 인종 등의 자료이다.\n",
    "\n",
    "1. Age : 엄마의 나이\n",
    "1. LTW(Last Menstrual Weight) : 마지막 생리기간의 엄마의 몸무게\n",
    "1. Race : 인종\n",
    "1. Smoke : 임신기간중 흡연 여부\n",
    "1. PTL(PreTerm Labor)  : 과거 조산 횟수\n",
    "1. HT(HyperTension) : 고혈압의 기왕력\n",
    "1. UI(Urerine Irrirabillity) : 자궁과민성 여부\n",
    "1. FTV(First Trimester Visits) : 첫 임신 3개월동안 의사 방문 횟수\n",
    "1. BWT(Birth Weight in Grams) : 출생시 몸무게(g)"
   ]
  },
  {
   "cell_type": "code",
   "execution_count": 3,
   "metadata": {},
   "outputs": [
    {
     "data": {
      "text/html": [
       "<table>\n",
       "<thead><tr><th></th><th scope=col>low</th><th scope=col>age</th><th scope=col>lwt</th><th scope=col>race</th><th scope=col>smoke</th><th scope=col>ptl</th><th scope=col>ht</th><th scope=col>ui</th><th scope=col>ftv</th><th scope=col>bwt</th></tr></thead>\n",
       "<tbody>\n",
       "\t<tr><th scope=row>78</th><td>1   </td><td>14  </td><td>101 </td><td>3   </td><td>1   </td><td>1   </td><td>0   </td><td>0   </td><td>0   </td><td>2466</td></tr>\n",
       "\t<tr><th scope=row>79</th><td>1   </td><td>28  </td><td> 95 </td><td>1   </td><td>1   </td><td>0   </td><td>0   </td><td>0   </td><td>2   </td><td>2466</td></tr>\n",
       "\t<tr><th scope=row>81</th><td>1   </td><td>14  </td><td>100 </td><td>3   </td><td>0   </td><td>0   </td><td>0   </td><td>0   </td><td>2   </td><td>2495</td></tr>\n",
       "\t<tr><th scope=row>82</th><td>1   </td><td>23  </td><td> 94 </td><td>3   </td><td>1   </td><td>0   </td><td>0   </td><td>0   </td><td>0   </td><td>2495</td></tr>\n",
       "\t<tr><th scope=row>83</th><td>1   </td><td>17  </td><td>142 </td><td>2   </td><td>0   </td><td>0   </td><td>1   </td><td>0   </td><td>0   </td><td>2495</td></tr>\n",
       "\t<tr><th scope=row>84</th><td>1   </td><td>21  </td><td>130 </td><td>1   </td><td>1   </td><td>0   </td><td>1   </td><td>0   </td><td>3   </td><td>2495</td></tr>\n",
       "</tbody>\n",
       "</table>\n"
      ],
      "text/latex": [
       "\\begin{tabular}{r|llllllllll}\n",
       "  & low & age & lwt & race & smoke & ptl & ht & ui & ftv & bwt\\\\\n",
       "\\hline\n",
       "\t78 & 1    & 14   & 101  & 3    & 1    & 1    & 0    & 0    & 0    & 2466\\\\\n",
       "\t79 & 1    & 28   &  95  & 1    & 1    & 0    & 0    & 0    & 2    & 2466\\\\\n",
       "\t81 & 1    & 14   & 100  & 3    & 0    & 0    & 0    & 0    & 2    & 2495\\\\\n",
       "\t82 & 1    & 23   &  94  & 3    & 1    & 0    & 0    & 0    & 0    & 2495\\\\\n",
       "\t83 & 1    & 17   & 142  & 2    & 0    & 0    & 1    & 0    & 0    & 2495\\\\\n",
       "\t84 & 1    & 21   & 130  & 1    & 1    & 0    & 1    & 0    & 3    & 2495\\\\\n",
       "\\end{tabular}\n"
      ],
      "text/markdown": [
       "\n",
       "| <!--/--> | low | age | lwt | race | smoke | ptl | ht | ui | ftv | bwt | \n",
       "|---|---|---|---|---|---|\n",
       "| 78 | 1    | 14   | 101  | 3    | 1    | 1    | 0    | 0    | 0    | 2466 | \n",
       "| 79 | 1    | 28   |  95  | 1    | 1    | 0    | 0    | 0    | 2    | 2466 | \n",
       "| 81 | 1    | 14   | 100  | 3    | 0    | 0    | 0    | 0    | 2    | 2495 | \n",
       "| 82 | 1    | 23   |  94  | 3    | 1    | 0    | 0    | 0    | 0    | 2495 | \n",
       "| 83 | 1    | 17   | 142  | 2    | 0    | 0    | 1    | 0    | 0    | 2495 | \n",
       "| 84 | 1    | 21   | 130  | 1    | 1    | 0    | 1    | 0    | 3    | 2495 | \n",
       "\n",
       "\n"
      ],
      "text/plain": [
       "   low age lwt race smoke ptl ht ui ftv bwt \n",
       "78 1   14  101 3    1     1   0  0  0   2466\n",
       "79 1   28   95 1    1     0   0  0  2   2466\n",
       "81 1   14  100 3    0     0   0  0  2   2495\n",
       "82 1   23   94 3    1     0   0  0  0   2495\n",
       "83 1   17  142 2    0     0   1  0  0   2495\n",
       "84 1   21  130 1    1     0   1  0  3   2495"
      ]
     },
     "metadata": {},
     "output_type": "display_data"
    }
   ],
   "source": [
    "require(MASS)\n",
    "tail(birthwt)"
   ]
  },
  {
   "cell_type": "code",
   "execution_count": 4,
   "metadata": {},
   "outputs": [
    {
     "name": "stdout",
     "output_type": "stream",
     "text": [
      "'data.frame':\t189 obs. of  10 variables:\n",
      " $ low  : int  0 0 0 0 0 0 0 0 0 0 ...\n",
      " $ age  : int  19 33 20 21 18 21 22 17 29 26 ...\n",
      " $ lwt  : int  182 155 105 108 107 124 118 103 123 113 ...\n",
      " $ race : int  2 3 1 1 1 3 1 3 1 1 ...\n",
      " $ smoke: int  0 0 1 1 1 0 0 0 1 1 ...\n",
      " $ ptl  : int  0 0 0 0 0 0 0 0 0 0 ...\n",
      " $ ht   : int  0 0 0 0 0 0 0 0 0 0 ...\n",
      " $ ui   : int  1 0 0 1 1 0 0 0 0 0 ...\n",
      " $ ftv  : int  0 3 1 2 0 0 1 1 1 0 ...\n",
      " $ bwt  : int  2523 2551 2557 2594 2600 2622 2637 2637 2663 2665 ...\n"
     ]
    }
   ],
   "source": [
    "str(birthwt)"
   ]
  },
  {
   "cell_type": "markdown",
   "metadata": {},
   "source": [
    "불러온 데이터의 칼럼 정보를 확인한다.\n",
    "- 전부 숫자로 이루어져 있고 총 189개의 정보\n",
    "- 총 10개의 변수(=칼럼)을 가짐"
   ]
  },
  {
   "cell_type": "markdown",
   "metadata": {},
   "source": [
    "##### Notice\n",
    "**[Race 인종]**변수는 엄마가 백인일 경우 1, 흑인일 경우 2, 그 외일 경우 3으로 되어 있는 [Categorycal 범주형] 데이터이다. 그냥 race를 사용할 경우 [Continuous연속형] 범주로 인식하기 때문에 fector로 사용해야 한다."
   ]
  },
  {
   "cell_type": "markdown",
   "metadata": {},
   "source": [
    "## 2. Linear Model\n",
    "\n",
    "bwt를 반응변수로 agem lwt, race, smoke, ptl, ht, ui를 독립변수로 하여 다중회귀분석을 해본다.\n",
    "- **anova()** : 분산을 테이블 형식으로 계산하는 기능. **분산분석표**를 만듬"
   ]
  },
  {
   "cell_type": "code",
   "execution_count": 5,
   "metadata": {},
   "outputs": [
    {
     "data": {
      "text/html": [
       "<table>\n",
       "<thead><tr><th></th><th scope=col>Df</th><th scope=col>Sum Sq</th><th scope=col>Mean Sq</th><th scope=col>F value</th><th scope=col>Pr(&gt;F)</th></tr></thead>\n",
       "<tbody>\n",
       "\t<tr><th scope=row>age</th><td>  1         </td><td>  815483.2  </td><td> 815483.2   </td><td> 1.938012   </td><td>0.1656021823</td></tr>\n",
       "\t<tr><th scope=row>lwt</th><td>  1         </td><td> 2967338.6  </td><td>2967338.6   </td><td> 7.051937   </td><td>0.0086283664</td></tr>\n",
       "\t<tr><th scope=row>factor(race)</th><td>  2         </td><td> 4750631.8  </td><td>2375315.9   </td><td> 5.644984   </td><td>0.0041901349</td></tr>\n",
       "\t<tr><th scope=row>smoke</th><td>  1         </td><td> 6291917.5  </td><td>6291917.5   </td><td>14.952863   </td><td>0.0001538420</td></tr>\n",
       "\t<tr><th scope=row>ptl</th><td>  1         </td><td>  732500.9  </td><td> 732500.9   </td><td> 1.740802   </td><td>0.1887129935</td></tr>\n",
       "\t<tr><th scope=row>ht</th><td>  1         </td><td> 2852764.0  </td><td>2852764.0   </td><td> 6.779648   </td><td>0.0099899602</td></tr>\n",
       "\t<tr><th scope=row>ui</th><td>  1         </td><td> 5817995.1  </td><td>5817995.1   </td><td>13.826577   </td><td>0.0002676048</td></tr>\n",
       "\t<tr><th scope=row>Residuals</th><td>180         </td><td>75741024.7  </td><td> 420783.5   </td><td>       NA   </td><td>          NA</td></tr>\n",
       "</tbody>\n",
       "</table>\n"
      ],
      "text/latex": [
       "\\begin{tabular}{r|lllll}\n",
       "  & Df & Sum Sq & Mean Sq & F value & Pr(>F)\\\\\n",
       "\\hline\n",
       "\tage &   1          &   815483.2   &  815483.2    &  1.938012    & 0.1656021823\\\\\n",
       "\tlwt &   1          &  2967338.6   & 2967338.6    &  7.051937    & 0.0086283664\\\\\n",
       "\tfactor(race) &   2          &  4750631.8   & 2375315.9    &  5.644984    & 0.0041901349\\\\\n",
       "\tsmoke &   1          &  6291917.5   & 6291917.5    & 14.952863    & 0.0001538420\\\\\n",
       "\tptl &   1          &   732500.9   &  732500.9    &  1.740802    & 0.1887129935\\\\\n",
       "\tht &   1          &  2852764.0   & 2852764.0    &  6.779648    & 0.0099899602\\\\\n",
       "\tui &   1          &  5817995.1   & 5817995.1    & 13.826577    & 0.0002676048\\\\\n",
       "\tResiduals & 180          & 75741024.7   &  420783.5    &        NA    &           NA\\\\\n",
       "\\end{tabular}\n"
      ],
      "text/markdown": [
       "\n",
       "| <!--/--> | Df | Sum Sq | Mean Sq | F value | Pr(>F) | \n",
       "|---|---|---|---|---|---|---|---|\n",
       "| age |   1          |   815483.2   |  815483.2    |  1.938012    | 0.1656021823 | \n",
       "| lwt |   1          |  2967338.6   | 2967338.6    |  7.051937    | 0.0086283664 | \n",
       "| factor(race) |   2          |  4750631.8   | 2375315.9    |  5.644984    | 0.0041901349 | \n",
       "| smoke |   1          |  6291917.5   | 6291917.5    | 14.952863    | 0.0001538420 | \n",
       "| ptl |   1          |   732500.9   |  732500.9    |  1.740802    | 0.1887129935 | \n",
       "| ht |   1          |  2852764.0   | 2852764.0    |  6.779648    | 0.0099899602 | \n",
       "| ui |   1          |  5817995.1   | 5817995.1    | 13.826577    | 0.0002676048 | \n",
       "| Residuals | 180          | 75741024.7   |  420783.5    |        NA    |           NA | \n",
       "\n",
       "\n"
      ],
      "text/plain": [
       "             Df  Sum Sq     Mean Sq   F value   Pr(>F)      \n",
       "age            1   815483.2  815483.2  1.938012 0.1656021823\n",
       "lwt            1  2967338.6 2967338.6  7.051937 0.0086283664\n",
       "factor(race)   2  4750631.8 2375315.9  5.644984 0.0041901349\n",
       "smoke          1  6291917.5 6291917.5 14.952863 0.0001538420\n",
       "ptl            1   732500.9  732500.9  1.740802 0.1887129935\n",
       "ht             1  2852764.0 2852764.0  6.779648 0.0099899602\n",
       "ui             1  5817995.1 5817995.1 13.826577 0.0002676048\n",
       "Residuals    180 75741024.7  420783.5        NA           NA"
      ]
     },
     "metadata": {},
     "output_type": "display_data"
    }
   ],
   "source": [
    "out <- lm(bwt~ age+lwt+factor(race)+smoke+ptl+ht+ui, data=birthwt)\n",
    "anova(out)"
   ]
  },
  {
   "cell_type": "markdown",
   "metadata": {},
   "source": [
    "## 3. F-test\n",
    "\n",
    "분산분석표에서 age와 ptl이 유의하지 않으므로 두 변수를 제거한 모형을 만들고 두 변수의 중요도를 평가하기 위해 F-test를 실시한다. \n",
    "- **F-test** : 두 모형의 설명력을 비교, 제거된 변수들의 기여도를 평가하는 기능\n",
    "- 형식 : **anova(작은 모형, 큰 모형)**"
   ]
  },
  {
   "cell_type": "code",
   "execution_count": 8,
   "metadata": {},
   "outputs": [
    {
     "data": {
      "text/html": [
       "<table>\n",
       "<thead><tr><th scope=col>Res.Df</th><th scope=col>RSS</th><th scope=col>Df</th><th scope=col>Sum of Sq</th><th scope=col>F</th><th scope=col>Pr(&gt;F)</th></tr></thead>\n",
       "<tbody>\n",
       "\t<tr><td>182      </td><td>75937505 </td><td>NA       </td><td>      NA </td><td>       NA</td><td>       NA</td></tr>\n",
       "\t<tr><td>180      </td><td>75741025 </td><td> 2       </td><td>196480.1 </td><td>0.2334693</td><td>0.7920213</td></tr>\n",
       "</tbody>\n",
       "</table>\n"
      ],
      "text/latex": [
       "\\begin{tabular}{r|llllll}\n",
       " Res.Df & RSS & Df & Sum of Sq & F & Pr(>F)\\\\\n",
       "\\hline\n",
       "\t 182       & 75937505  & NA        &       NA  &        NA &        NA\\\\\n",
       "\t 180       & 75741025  &  2        & 196480.1  & 0.2334693 & 0.7920213\\\\\n",
       "\\end{tabular}\n"
      ],
      "text/markdown": [
       "\n",
       "Res.Df | RSS | Df | Sum of Sq | F | Pr(>F) | \n",
       "|---|---|\n",
       "| 182       | 75937505  | NA        |       NA  |        NA |        NA | \n",
       "| 180       | 75741025  |  2        | 196480.1  | 0.2334693 | 0.7920213 | \n",
       "\n",
       "\n"
      ],
      "text/plain": [
       "  Res.Df RSS      Df Sum of Sq F         Pr(>F)   \n",
       "1 182    75937505 NA       NA         NA        NA\n",
       "2 180    75741025  2 196480.1  0.2334693 0.7920213"
      ]
     },
     "metadata": {},
     "output_type": "display_data"
    }
   ],
   "source": [
    "out2 <- lm(bwt~ lwt+factor(race)+smoke+ht+ui, data=birthwt)\n",
    "anova(out2, out)"
   ]
  },
  {
   "cell_type": "markdown",
   "metadata": {},
   "source": [
    "F-test 결과 p값이 0.792로 매우 크므로 두 변수를 제거 할 수 있다. plt과 age를 제거한 모형의 분산분석표를 보면 모든 변수가 유의하다."
   ]
  },
  {
   "cell_type": "code",
   "execution_count": 10,
   "metadata": {},
   "outputs": [
    {
     "data": {
      "text/html": [
       "<table>\n",
       "<thead><tr><th></th><th scope=col>Df</th><th scope=col>Sum Sq</th><th scope=col>Mean Sq</th><th scope=col>F value</th><th scope=col>Pr(&gt;F)</th></tr></thead>\n",
       "<tbody>\n",
       "\t<tr><th scope=row>lwt</th><td>  1         </td><td> 3448639    </td><td>3448639     </td><td> 8.265378   </td><td>0.0045225781</td></tr>\n",
       "\t<tr><th scope=row>factor(race)</th><td>  2         </td><td> 5076610    </td><td>2538305     </td><td> 6.083575   </td><td>0.0027701458</td></tr>\n",
       "\t<tr><th scope=row>smoke</th><td>  1         </td><td> 6281818    </td><td>6281818     </td><td>15.055680   </td><td>0.0001457855</td></tr>\n",
       "\t<tr><th scope=row>ht</th><td>  1         </td><td> 2871867    </td><td>2871867     </td><td> 6.883027   </td><td>0.0094402265</td></tr>\n",
       "\t<tr><th scope=row>ui</th><td>  1         </td><td> 6353218    </td><td>6353218     </td><td>15.226806   </td><td>0.0001340886</td></tr>\n",
       "\t<tr><th scope=row>Residuals</th><td>182         </td><td>75937505    </td><td> 417239     </td><td>       NA   </td><td>          NA</td></tr>\n",
       "</tbody>\n",
       "</table>\n"
      ],
      "text/latex": [
       "\\begin{tabular}{r|lllll}\n",
       "  & Df & Sum Sq & Mean Sq & F value & Pr(>F)\\\\\n",
       "\\hline\n",
       "\tlwt &   1          &  3448639     & 3448639      &  8.265378    & 0.0045225781\\\\\n",
       "\tfactor(race) &   2          &  5076610     & 2538305      &  6.083575    & 0.0027701458\\\\\n",
       "\tsmoke &   1          &  6281818     & 6281818      & 15.055680    & 0.0001457855\\\\\n",
       "\tht &   1          &  2871867     & 2871867      &  6.883027    & 0.0094402265\\\\\n",
       "\tui &   1          &  6353218     & 6353218      & 15.226806    & 0.0001340886\\\\\n",
       "\tResiduals & 182          & 75937505     &  417239      &        NA    &           NA\\\\\n",
       "\\end{tabular}\n"
      ],
      "text/markdown": [
       "\n",
       "| <!--/--> | Df | Sum Sq | Mean Sq | F value | Pr(>F) | \n",
       "|---|---|---|---|---|---|\n",
       "| lwt |   1          |  3448639     | 3448639      |  8.265378    | 0.0045225781 | \n",
       "| factor(race) |   2          |  5076610     | 2538305      |  6.083575    | 0.0027701458 | \n",
       "| smoke |   1          |  6281818     | 6281818      | 15.055680    | 0.0001457855 | \n",
       "| ht |   1          |  2871867     | 2871867      |  6.883027    | 0.0094402265 | \n",
       "| ui |   1          |  6353218     | 6353218      | 15.226806    | 0.0001340886 | \n",
       "| Residuals | 182          | 75937505     |  417239      |        NA    |           NA | \n",
       "\n",
       "\n"
      ],
      "text/plain": [
       "             Df  Sum Sq   Mean Sq F value   Pr(>F)      \n",
       "lwt            1  3448639 3448639  8.265378 0.0045225781\n",
       "factor(race)   2  5076610 2538305  6.083575 0.0027701458\n",
       "smoke          1  6281818 6281818 15.055680 0.0001457855\n",
       "ht             1  2871867 2871867  6.883027 0.0094402265\n",
       "ui             1  6353218 6353218 15.226806 0.0001340886\n",
       "Residuals    182 75937505  417239        NA           NA"
      ]
     },
     "metadata": {},
     "output_type": "display_data"
    }
   ],
   "source": [
    "anova(out2)"
   ]
  },
  {
   "cell_type": "markdown",
   "metadata": {},
   "source": [
    "summary()로 최종모형을 살표보면 $R^2=0.2404$로 모형이 반응변수 24.04%를 설명한다. 설명력이 낮지만 통제 불가능한 변인들이 많은 연구에서 이 정도의 $R^2$는 결코 작다고 할 수 없다."
   ]
  },
  {
   "cell_type": "markdown",
   "metadata": {},
   "source": [
    "----"
   ]
  }
 ],
 "metadata": {
  "kernelspec": {
   "display_name": "R",
   "language": "R",
   "name": "ir"
  },
  "language_info": {
   "codemirror_mode": "r",
   "file_extension": ".r",
   "mimetype": "text/x-r-source",
   "name": "R",
   "pygments_lexer": "r",
   "version": "3.5.1"
  }
 },
 "nbformat": 4,
 "nbformat_minor": 2
}
