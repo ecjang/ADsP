{
 "cells": [
  {
   "cell_type": "markdown",
   "metadata": {},
   "source": [
    "----"
   ]
  },
  {
   "cell_type": "markdown",
   "metadata": {},
   "source": [
    "# 두개의 상호작용이 있는 다중회귀모형\n",
    "\n",
    "url : http://rpubs.com/cardiomoon/153265"
   ]
  },
  {
   "cell_type": "markdown",
   "metadata": {},
   "source": [
    "## 1. Mtcars Dataset\n",
    "\n",
    "MASS패키지에 포함되어 있는 자동차의 연비에 대한 데이터 셋이다. \n",
    "\n",
    "1. MPG(Mile Per Gallon) : 연비\n",
    "1. Cyl(Number of Cylinder) : 실린더 번호\n",
    "1. Disp(Displacement) : 배기량\n",
    "1. HP(Gross Housepower) : 총 마력\n",
    "1. Drat(Rear Axle Ratio) : 비율대\n",
    "1. Wt(Weight) : 공차중량\n",
    "1. Qsec(1/4 Mile Time) : 1/4마일\n",
    "1. Vs(Engine) : V형태는 0, 직선형은 1\n",
    "1. Am(Transmission) : 기어변환, 자동형은 0, 수동은 1\n",
    "1. Gear(Number of Forward Gears) : 전방기어 번호\n",
    "1. Carb(Number of Carburetors) : 기화기 번호"
   ]
  },
  {
   "cell_type": "code",
   "execution_count": 1,
   "metadata": {},
   "outputs": [
    {
     "name": "stderr",
     "output_type": "stream",
     "text": [
      "Loading required package: MASS\n"
     ]
    },
    {
     "data": {
      "text/html": [
       "<table>\n",
       "<thead><tr><th></th><th scope=col>mpg</th><th scope=col>cyl</th><th scope=col>disp</th><th scope=col>hp</th><th scope=col>drat</th><th scope=col>wt</th><th scope=col>qsec</th><th scope=col>vs</th><th scope=col>am</th><th scope=col>gear</th><th scope=col>carb</th></tr></thead>\n",
       "<tbody>\n",
       "\t<tr><th scope=row>Mazda RX4</th><td>21.0 </td><td>6    </td><td>160  </td><td>110  </td><td>3.90 </td><td>2.620</td><td>16.46</td><td>0    </td><td>1    </td><td>4    </td><td>4    </td></tr>\n",
       "\t<tr><th scope=row>Mazda RX4 Wag</th><td>21.0 </td><td>6    </td><td>160  </td><td>110  </td><td>3.90 </td><td>2.875</td><td>17.02</td><td>0    </td><td>1    </td><td>4    </td><td>4    </td></tr>\n",
       "\t<tr><th scope=row>Datsun 710</th><td>22.8 </td><td>4    </td><td>108  </td><td> 93  </td><td>3.85 </td><td>2.320</td><td>18.61</td><td>1    </td><td>1    </td><td>4    </td><td>1    </td></tr>\n",
       "\t<tr><th scope=row>Hornet 4 Drive</th><td>21.4 </td><td>6    </td><td>258  </td><td>110  </td><td>3.08 </td><td>3.215</td><td>19.44</td><td>1    </td><td>0    </td><td>3    </td><td>1    </td></tr>\n",
       "\t<tr><th scope=row>Hornet Sportabout</th><td>18.7 </td><td>8    </td><td>360  </td><td>175  </td><td>3.15 </td><td>3.440</td><td>17.02</td><td>0    </td><td>0    </td><td>3    </td><td>2    </td></tr>\n",
       "\t<tr><th scope=row>Valiant</th><td>18.1 </td><td>6    </td><td>225  </td><td>105  </td><td>2.76 </td><td>3.460</td><td>20.22</td><td>1    </td><td>0    </td><td>3    </td><td>1    </td></tr>\n",
       "</tbody>\n",
       "</table>\n"
      ],
      "text/latex": [
       "\\begin{tabular}{r|lllllllllll}\n",
       "  & mpg & cyl & disp & hp & drat & wt & qsec & vs & am & gear & carb\\\\\n",
       "\\hline\n",
       "\tMazda RX4 & 21.0  & 6     & 160   & 110   & 3.90  & 2.620 & 16.46 & 0     & 1     & 4     & 4    \\\\\n",
       "\tMazda RX4 Wag & 21.0  & 6     & 160   & 110   & 3.90  & 2.875 & 17.02 & 0     & 1     & 4     & 4    \\\\\n",
       "\tDatsun 710 & 22.8  & 4     & 108   &  93   & 3.85  & 2.320 & 18.61 & 1     & 1     & 4     & 1    \\\\\n",
       "\tHornet 4 Drive & 21.4  & 6     & 258   & 110   & 3.08  & 3.215 & 19.44 & 1     & 0     & 3     & 1    \\\\\n",
       "\tHornet Sportabout & 18.7  & 8     & 360   & 175   & 3.15  & 3.440 & 17.02 & 0     & 0     & 3     & 2    \\\\\n",
       "\tValiant & 18.1  & 6     & 225   & 105   & 2.76  & 3.460 & 20.22 & 1     & 0     & 3     & 1    \\\\\n",
       "\\end{tabular}\n"
      ],
      "text/markdown": [
       "\n",
       "| <!--/--> | mpg | cyl | disp | hp | drat | wt | qsec | vs | am | gear | carb | \n",
       "|---|---|---|---|---|---|\n",
       "| Mazda RX4 | 21.0  | 6     | 160   | 110   | 3.90  | 2.620 | 16.46 | 0     | 1     | 4     | 4     | \n",
       "| Mazda RX4 Wag | 21.0  | 6     | 160   | 110   | 3.90  | 2.875 | 17.02 | 0     | 1     | 4     | 4     | \n",
       "| Datsun 710 | 22.8  | 4     | 108   |  93   | 3.85  | 2.320 | 18.61 | 1     | 1     | 4     | 1     | \n",
       "| Hornet 4 Drive | 21.4  | 6     | 258   | 110   | 3.08  | 3.215 | 19.44 | 1     | 0     | 3     | 1     | \n",
       "| Hornet Sportabout | 18.7  | 8     | 360   | 175   | 3.15  | 3.440 | 17.02 | 0     | 0     | 3     | 2     | \n",
       "| Valiant | 18.1  | 6     | 225   | 105   | 2.76  | 3.460 | 20.22 | 1     | 0     | 3     | 1     | \n",
       "\n",
       "\n"
      ],
      "text/plain": [
       "                  mpg  cyl disp hp  drat wt    qsec  vs am gear carb\n",
       "Mazda RX4         21.0 6   160  110 3.90 2.620 16.46 0  1  4    4   \n",
       "Mazda RX4 Wag     21.0 6   160  110 3.90 2.875 17.02 0  1  4    4   \n",
       "Datsun 710        22.8 4   108   93 3.85 2.320 18.61 1  1  4    1   \n",
       "Hornet 4 Drive    21.4 6   258  110 3.08 3.215 19.44 1  0  3    1   \n",
       "Hornet Sportabout 18.7 8   360  175 3.15 3.440 17.02 0  0  3    2   \n",
       "Valiant           18.1 6   225  105 2.76 3.460 20.22 1  0  3    1   "
      ]
     },
     "metadata": {},
     "output_type": "display_data"
    },
    {
     "name": "stdout",
     "output_type": "stream",
     "text": [
      "'data.frame':\t32 obs. of  11 variables:\n",
      " $ mpg : num  21 21 22.8 21.4 18.7 18.1 14.3 24.4 22.8 19.2 ...\n",
      " $ cyl : num  6 6 4 6 8 6 8 4 4 6 ...\n",
      " $ disp: num  160 160 108 258 360 ...\n",
      " $ hp  : num  110 110 93 110 175 105 245 62 95 123 ...\n",
      " $ drat: num  3.9 3.9 3.85 3.08 3.15 2.76 3.21 3.69 3.92 3.92 ...\n",
      " $ wt  : num  2.62 2.88 2.32 3.21 3.44 ...\n",
      " $ qsec: num  16.5 17 18.6 19.4 17 ...\n",
      " $ vs  : num  0 0 1 1 0 1 0 1 1 1 ...\n",
      " $ am  : num  1 1 1 0 0 0 0 0 0 0 ...\n",
      " $ gear: num  4 4 4 3 3 3 3 4 4 4 ...\n",
      " $ carb: num  4 4 1 1 2 1 4 2 2 4 ...\n"
     ]
    }
   ],
   "source": [
    "require(MASS)\n",
    "head(mtcars)\n",
    "str(mtcars)"
   ]
  },
  {
   "cell_type": "markdown",
   "metadata": {},
   "source": [
    "# 2. 두개의 연속형 변수와 범주형 변수\n",
    "\n",
    "이번에는 두개의 연속형 변수의 상호작용을 갖는 다중회귀 모형을 경우를 생각해보자. mpg를 반응변수로 wt(공차중량), hp(마력수) 및 상호작용을 설명변수로 하는 회귀모형을 만들면 다음과 같다."
   ]
  },
  {
   "cell_type": "code",
   "execution_count": 3,
   "metadata": {},
   "outputs": [
    {
     "data": {
      "text/plain": [
       "\n",
       "Call:\n",
       "lm(formula = mpg ~ wt + hp, data = mtcars)\n",
       "\n",
       "Residuals:\n",
       "   Min     1Q Median     3Q    Max \n",
       "-3.941 -1.600 -0.182  1.050  5.854 \n",
       "\n",
       "Coefficients:\n",
       "            Estimate Std. Error t value Pr(>|t|)    \n",
       "(Intercept) 37.22727    1.59879  23.285  < 2e-16 ***\n",
       "wt          -3.87783    0.63273  -6.129 1.12e-06 ***\n",
       "hp          -0.03177    0.00903  -3.519  0.00145 ** \n",
       "---\n",
       "Signif. codes:  0 '***' 0.001 '**' 0.01 '*' 0.05 '.' 0.1 ' ' 1\n",
       "\n",
       "Residual standard error: 2.593 on 29 degrees of freedom\n",
       "Multiple R-squared:  0.8268,\tAdjusted R-squared:  0.8148 \n",
       "F-statistic: 69.21 on 2 and 29 DF,  p-value: 9.109e-12\n"
      ]
     },
     "metadata": {},
     "output_type": "display_data"
    }
   ],
   "source": [
    "fit3 <- lm(mpg~wt+hp, data=mtcars)\n",
    "summary(fit3)"
   ]
  },
  {
   "cell_type": "code",
   "execution_count": 2,
   "metadata": {},
   "outputs": [
    {
     "data": {
      "text/plain": [
       "\n",
       "Call:\n",
       "lm(formula = mpg ~ wt * hp, data = mtcars)\n",
       "\n",
       "Residuals:\n",
       "    Min      1Q  Median      3Q     Max \n",
       "-3.0632 -1.6491 -0.7362  1.4211  4.5513 \n",
       "\n",
       "Coefficients:\n",
       "            Estimate Std. Error t value Pr(>|t|)    \n",
       "(Intercept) 49.80842    3.60516  13.816 5.01e-14 ***\n",
       "wt          -8.21662    1.26971  -6.471 5.20e-07 ***\n",
       "hp          -0.12010    0.02470  -4.863 4.04e-05 ***\n",
       "wt:hp        0.02785    0.00742   3.753 0.000811 ***\n",
       "---\n",
       "Signif. codes:  0 '***' 0.001 '**' 0.01 '*' 0.05 '.' 0.1 ' ' 1\n",
       "\n",
       "Residual standard error: 2.153 on 28 degrees of freedom\n",
       "Multiple R-squared:  0.8848,\tAdjusted R-squared:  0.8724 \n",
       "F-statistic: 71.66 on 3 and 28 DF,  p-value: 2.981e-13\n"
      ]
     },
     "metadata": {},
     "output_type": "display_data"
    }
   ],
   "source": [
    "fit2 <- lm(mpg~wt*hp, data=mtcars)\n",
    "summary(fit2)"
   ]
  },
  {
   "cell_type": "markdown",
   "metadata": {},
   "source": [
    "hp와 mpg 간의 회귀공식은 wt의 값에 따라 달라진다. wt값의 사분위수를 알아보면 다음과 같다."
   ]
  },
  {
   "cell_type": "code",
   "execution_count": 3,
   "metadata": {},
   "outputs": [
    {
     "data": {
      "text/plain": [
       "   Min. 1st Qu.  Median    Mean 3rd Qu.    Max. \n",
       "  1.513   2.581   3.325   3.217   3.610   5.424 "
      ]
     },
     "metadata": {},
     "output_type": "display_data"
    }
   ],
   "source": [
    "summary(mtcars$wt)"
   ]
  },
  {
   "cell_type": "markdown",
   "metadata": {},
   "source": [
    "가장 가벼운 차는 1.513 가장 무거운 차는 5.424이다. wt와 mpg 사이의 회귀공식은 hp에 따라 달라지므로 다음과 같은 회귀식을 얻을 수 있다.\n",
    "$$ mpg=49.81 -0.12\\times{hp} -8.22\\times{wt} +0.03\\times{wt}\\times{hp} $$"
   ]
  },
  {
   "cell_type": "markdown",
   "metadata": {},
   "source": [
    "wt 값이 평균인 3.2일때 회귀공식은 다음과 같이 구할 수 있다.\n",
    "\n",
    "$$ mpg=49.81 -0.12\\times{hp} - 8.22\\times{3.2} + 0.03\\times{3.2}\\times{hp} $$\n",
    "$$ mpg=23.51 - 0.03\\times{hp} $$"
   ]
  },
  {
   "cell_type": "markdown",
   "metadata": {},
   "source": [
    "wt의 평균과 3.2 및 평균 +- 표준편차인 2.2, 4.2를 이용하여 상호작용을 시각화하면 다음과 같다."
   ]
  },
  {
   "cell_type": "code",
   "execution_count": 13,
   "metadata": {},
   "outputs": [
    {
     "data": {
      "text/html": [
       "<ol class=list-inline>\n",
       "\t<li>31.7318499748243</li>\n",
       "\t<li>23.5152256775807</li>\n",
       "\t<li>15.2986013803371</li>\n",
       "</ol>\n"
      ],
      "text/latex": [
       "\\begin{enumerate*}\n",
       "\\item 31.7318499748243\n",
       "\\item 23.5152256775807\n",
       "\\item 15.2986013803371\n",
       "\\end{enumerate*}\n"
      ],
      "text/markdown": [
       "1. 31.7318499748243\n",
       "2. 23.5152256775807\n",
       "3. 15.2986013803371\n",
       "\n",
       "\n"
      ],
      "text/plain": [
       "[1] 31.73185 23.51523 15.29860"
      ]
     },
     "metadata": {},
     "output_type": "display_data"
    },
    {
     "data": {
      "text/html": [
       "<ol class=list-inline>\n",
       "\t<li>-0.0588361646767924</li>\n",
       "\t<li>-0.0309880163580512</li>\n",
       "\t<li>-0.00313986803931</li>\n",
       "</ol>\n"
      ],
      "text/latex": [
       "\\begin{enumerate*}\n",
       "\\item -0.0588361646767924\n",
       "\\item -0.0309880163580512\n",
       "\\item -0.00313986803931\n",
       "\\end{enumerate*}\n"
      ],
      "text/markdown": [
       "1. -0.0588361646767924\n",
       "2. -0.0309880163580512\n",
       "3. -0.00313986803931\n",
       "\n",
       "\n"
      ],
      "text/plain": [
       "[1] -0.058836165 -0.030988016 -0.003139868"
      ]
     },
     "metadata": {},
     "output_type": "display_data"
    }
   ],
   "source": [
    "A <- c(2.2, 3.2, 4.2)\n",
    "coef <- fit2$coef\n",
    "label <- as.character(A)\n",
    "intercept <- coef[1]+ coef[2]*A\n",
    "slope <- coef[3] + coef[4]*A\n",
    "\n",
    "intercept\n",
    "slope"
   ]
  },
  {
   "cell_type": "code",
   "execution_count": 14,
   "metadata": {},
   "outputs": [
    {
     "data": {
      "text/html": [
       "<table>\n",
       "<thead><tr><th scope=col>A</th><th scope=col>intercept</th><th scope=col>slope</th><th scope=col>colour</th></tr></thead>\n",
       "<tbody>\n",
       "\t<tr><td>2.2         </td><td>31.73185    </td><td>-0.058836165</td><td>#FF0000FF   </td></tr>\n",
       "\t<tr><td>3.2         </td><td>23.51523    </td><td>-0.030988016</td><td>#00FF00FF   </td></tr>\n",
       "\t<tr><td>4.2         </td><td>15.29860    </td><td>-0.003139868</td><td>#0000FFFF   </td></tr>\n",
       "</tbody>\n",
       "</table>\n"
      ],
      "text/latex": [
       "\\begin{tabular}{r|llll}\n",
       " A & intercept & slope & colour\\\\\n",
       "\\hline\n",
       "\t 2.2          & 31.73185     & -0.058836165 & \\#FF0000FF \\\\\n",
       "\t 3.2          & 23.51523     & -0.030988016 & \\#00FF00FF \\\\\n",
       "\t 4.2          & 15.29860     & -0.003139868 & \\#0000FFFF \\\\\n",
       "\\end{tabular}\n"
      ],
      "text/markdown": [
       "\n",
       "A | intercept | slope | colour | \n",
       "|---|---|---|\n",
       "| 2.2          | 31.73185     | -0.058836165 | #FF0000FF    | \n",
       "| 3.2          | 23.51523     | -0.030988016 | #00FF00FF    | \n",
       "| 4.2          | 15.29860     | -0.003139868 | #0000FFFF    | \n",
       "\n",
       "\n"
      ],
      "text/plain": [
       "  A   intercept slope        colour   \n",
       "1 2.2 31.73185  -0.058836165 #FF0000FF\n",
       "2 3.2 23.51523  -0.030988016 #00FF00FF\n",
       "3 4.2 15.29860  -0.003139868 #0000FFFF"
      ]
     },
     "metadata": {},
     "output_type": "display_data"
    }
   ],
   "source": [
    "colour = rainbow(length(A))\n",
    "df1 = data.frame(A, intercept, slope, colour)\n",
    "df1"
   ]
  },
  {
   "cell_type": "code",
   "execution_count": 31,
   "metadata": {},
   "outputs": [
    {
     "data": {},
     "metadata": {},
     "output_type": "display_data"
    },
    {
     "data": {
      "image/png": "[encoded data removed]",
      "text/plain": [
       "plot without title"
      ]
     },
     "metadata": {},
     "output_type": "display_data"
    }
   ],
   "source": [
    "require(ggplot2)\n",
    "p <- ggplot(data=mtcars, aes(x=hp, y=mpg)) + geom_point()\n",
    "p <- p + geom_abline(data=df1, aes(slope=slope, intercept=intercept, colour=colour))\n",
    "p <- p + scale_colour_discrete(labels=labels) + labs(colour=\"wt\")\n",
    "p"
   ]
  },
  {
   "cell_type": "markdown",
   "metadata": {},
   "source": [
    "위의 상호작용을 시각화 해주는 plot을 함수화하면 다음과 같다."
   ]
  },
  {
   "cell_type": "code",
   "execution_count": 99,
   "metadata": {},
   "outputs": [],
   "source": [
    "ggEffect <- function(fit, x=1, probs=c(0.25, 0.5, 0.75), point=TRUE, xvalue=NULL){\n",
    "    df = fit$model\n",
    "    coef = fit$coef\n",
    "    name = colnames(df)\n",
    "    \n",
    "    p <- ggplot(data=df, aes_string(x=name[1+x], y=name[1]))\n",
    "    if(is.null(xvalue)) A=quantile(df[[length(df)+1-x]], probs, na.rm=T) \n",
    "    else A=xvalue    \n",
    "    \n",
    "    lables = as.character(A)\n",
    "    intercept = coef[1] + coef[4-x]*A\n",
    "    slope = coef[1+x] + coef[4]*A\n",
    "    colour = rainbow(length(A))    \n",
    "    df1 = data.frame(A, intercept, slope, colour)\n",
    "    \n",
    "    if(point) p<-p + geom_point()\n",
    "    \n",
    "    p <- p + geom_abline(data = df1, aes(slope=slope, intercept=intercept, colour=colour))\n",
    "    p <- p + scale_colour_discrete(label=label) + labs(colour=name[4-x])\n",
    "    p\n",
    "    \n",
    "}"
   ]
  },
  {
   "cell_type": "markdown",
   "metadata": {},
   "source": [
    "x=1이면 첫번째 설명변수를 x축에 할당하고, x=2이면 두번째 설명변수를 할당한다. 아무값도 없을 경우 c(0.25, 0.5, 0.75)에 해당하는 quantile값을 구해 회귀직선을 그린다. xvalue에 값이 있다면 그 값으로 회귀직선을 그린다."
   ]
  },
  {
   "cell_type": "code",
   "execution_count": 100,
   "metadata": {
    "scrolled": true
   },
   "outputs": [
    {
     "name": "stdout",
     "output_type": "stream",
     "text": [
      "3"
     ]
    },
    {
     "data": {},
     "metadata": {},
     "output_type": "display_data"
    },
    {
     "data": {
      "image/png": "[encoded data removed]",
      "text/plain": [
       "plot without title"
      ]
     },
     "metadata": {},
     "output_type": "display_data"
    }
   ],
   "source": [
    "ggEffect(fit2)"
   ]
  },
  {
   "cell_type": "code",
   "execution_count": 54,
   "metadata": {},
   "outputs": [
    {
     "data": {},
     "metadata": {},
     "output_type": "display_data"
    },
    {
     "data": {
      "image/png": "[encoded data removed]",
      "text/plain": [
       "plot without title"
      ]
     },
     "metadata": {},
     "output_type": "display_data"
    }
   ],
   "source": [
    "ggEffect(fit2, probs=c(0.1, 0.5, 0.9))"
   ]
  },
  {
   "cell_type": "code",
   "execution_count": 56,
   "metadata": {},
   "outputs": [
    {
     "data": {},
     "metadata": {},
     "output_type": "display_data"
    },
    {
     "data": {
      "image/png": "[encoded data removed]",
      "text/plain": [
       "plot without title"
      ]
     },
     "metadata": {},
     "output_type": "display_data"
    }
   ],
   "source": [
    "ggEffect(fit2, x=2)"
   ]
  },
  {
   "cell_type": "code",
   "execution_count": 58,
   "metadata": {},
   "outputs": [
    {
     "data": {},
     "metadata": {},
     "output_type": "display_data"
    },
    {
     "data": {
      "image/png": "[encoded data removed]",
      "text/plain": [
       "plot without title"
      ]
     },
     "metadata": {},
     "output_type": "display_data"
    }
   ],
   "source": [
    "ggEffect(fit2, x=2, xvalue=c(2.2, 3.2, 4.2))"
   ]
  },
  {
   "cell_type": "markdown",
   "metadata": {},
   "source": [
    "----"
   ]
  }
 ],
 "metadata": {
  "kernelspec": {
   "display_name": "R",
   "language": "R",
   "name": "ir"
  },
  "language_info": {
   "codemirror_mode": "r",
   "file_extension": ".r",
   "mimetype": "text/x-r-source",
   "name": "R",
   "pygments_lexer": "r",
   "version": "3.5.1"
  }
 },
 "nbformat": 4,
 "nbformat_minor": 2
}
