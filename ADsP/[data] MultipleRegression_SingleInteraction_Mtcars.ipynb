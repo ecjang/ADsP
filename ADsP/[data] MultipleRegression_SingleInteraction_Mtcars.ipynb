{
 "cells": [
  {
   "cell_type": "markdown",
   "metadata": {},
   "source": [
    "----"
   ]
  },
  {
   "cell_type": "markdown",
   "metadata": {},
   "source": [
    "# 하나의 상호작용이 있는 다중회귀모형\n",
    "\n",
    "url : http://rpubs.com/cardiomoon/153265"
   ]
  },
  {
   "cell_type": "markdown",
   "metadata": {},
   "source": [
    "## 1. Mtcars Dataset\n",
    "\n",
    "MASS패키지에 포함되어 있는 자동차의 연비에 대한 데이터 셋이다. \n",
    "\n",
    "1. MPG(Mile Per Gallon) : 연비\n",
    "1. Cyl(Number of Cylinder) : 실린더 번호\n",
    "1. Disp(Displacement) : 배기량\n",
    "1. HP(Gross Housepower) : 총 마력\n",
    "1. Drat(Rear Axle Ratio) : 비율대\n",
    "1. Wt(Weight) : 공차중량\n",
    "1. Qsec(1/4 Mile Time) : 1/4마일\n",
    "1. Vs(Engine) : V형태는 0, 직선형은 1\n",
    "1. Am(Transmission) : 기어변환, 자동형은 0, 수동은 1\n",
    "1. Gear(Number of Forward Gears) : 전방기어 번호\n",
    "1. Carb(Number of Carburetors) : 기화기 번호"
   ]
  },
  {
   "cell_type": "code",
   "execution_count": 1,
   "metadata": {},
   "outputs": [
    {
     "name": "stderr",
     "output_type": "stream",
     "text": [
      "Loading required package: MASS\n"
     ]
    },
    {
     "data": {
      "text/html": [
       "<table>\n",
       "<thead><tr><th></th><th scope=col>mpg</th><th scope=col>cyl</th><th scope=col>disp</th><th scope=col>hp</th><th scope=col>drat</th><th scope=col>wt</th><th scope=col>qsec</th><th scope=col>vs</th><th scope=col>am</th><th scope=col>gear</th><th scope=col>carb</th></tr></thead>\n",
       "<tbody>\n",
       "\t<tr><th scope=row>Mazda RX4</th><td>21.0 </td><td>6    </td><td>160  </td><td>110  </td><td>3.90 </td><td>2.620</td><td>16.46</td><td>0    </td><td>1    </td><td>4    </td><td>4    </td></tr>\n",
       "\t<tr><th scope=row>Mazda RX4 Wag</th><td>21.0 </td><td>6    </td><td>160  </td><td>110  </td><td>3.90 </td><td>2.875</td><td>17.02</td><td>0    </td><td>1    </td><td>4    </td><td>4    </td></tr>\n",
       "\t<tr><th scope=row>Datsun 710</th><td>22.8 </td><td>4    </td><td>108  </td><td> 93  </td><td>3.85 </td><td>2.320</td><td>18.61</td><td>1    </td><td>1    </td><td>4    </td><td>1    </td></tr>\n",
       "\t<tr><th scope=row>Hornet 4 Drive</th><td>21.4 </td><td>6    </td><td>258  </td><td>110  </td><td>3.08 </td><td>3.215</td><td>19.44</td><td>1    </td><td>0    </td><td>3    </td><td>1    </td></tr>\n",
       "\t<tr><th scope=row>Hornet Sportabout</th><td>18.7 </td><td>8    </td><td>360  </td><td>175  </td><td>3.15 </td><td>3.440</td><td>17.02</td><td>0    </td><td>0    </td><td>3    </td><td>2    </td></tr>\n",
       "\t<tr><th scope=row>Valiant</th><td>18.1 </td><td>6    </td><td>225  </td><td>105  </td><td>2.76 </td><td>3.460</td><td>20.22</td><td>1    </td><td>0    </td><td>3    </td><td>1    </td></tr>\n",
       "</tbody>\n",
       "</table>\n"
      ],
      "text/latex": [
       "\\begin{tabular}{r|lllllllllll}\n",
       "  & mpg & cyl & disp & hp & drat & wt & qsec & vs & am & gear & carb\\\\\n",
       "\\hline\n",
       "\tMazda RX4 & 21.0  & 6     & 160   & 110   & 3.90  & 2.620 & 16.46 & 0     & 1     & 4     & 4    \\\\\n",
       "\tMazda RX4 Wag & 21.0  & 6     & 160   & 110   & 3.90  & 2.875 & 17.02 & 0     & 1     & 4     & 4    \\\\\n",
       "\tDatsun 710 & 22.8  & 4     & 108   &  93   & 3.85  & 2.320 & 18.61 & 1     & 1     & 4     & 1    \\\\\n",
       "\tHornet 4 Drive & 21.4  & 6     & 258   & 110   & 3.08  & 3.215 & 19.44 & 1     & 0     & 3     & 1    \\\\\n",
       "\tHornet Sportabout & 18.7  & 8     & 360   & 175   & 3.15  & 3.440 & 17.02 & 0     & 0     & 3     & 2    \\\\\n",
       "\tValiant & 18.1  & 6     & 225   & 105   & 2.76  & 3.460 & 20.22 & 1     & 0     & 3     & 1    \\\\\n",
       "\\end{tabular}\n"
      ],
      "text/markdown": [
       "\n",
       "| <!--/--> | mpg | cyl | disp | hp | drat | wt | qsec | vs | am | gear | carb | \n",
       "|---|---|---|---|---|---|\n",
       "| Mazda RX4 | 21.0  | 6     | 160   | 110   | 3.90  | 2.620 | 16.46 | 0     | 1     | 4     | 4     | \n",
       "| Mazda RX4 Wag | 21.0  | 6     | 160   | 110   | 3.90  | 2.875 | 17.02 | 0     | 1     | 4     | 4     | \n",
       "| Datsun 710 | 22.8  | 4     | 108   |  93   | 3.85  | 2.320 | 18.61 | 1     | 1     | 4     | 1     | \n",
       "| Hornet 4 Drive | 21.4  | 6     | 258   | 110   | 3.08  | 3.215 | 19.44 | 1     | 0     | 3     | 1     | \n",
       "| Hornet Sportabout | 18.7  | 8     | 360   | 175   | 3.15  | 3.440 | 17.02 | 0     | 0     | 3     | 2     | \n",
       "| Valiant | 18.1  | 6     | 225   | 105   | 2.76  | 3.460 | 20.22 | 1     | 0     | 3     | 1     | \n",
       "\n",
       "\n"
      ],
      "text/plain": [
       "                  mpg  cyl disp hp  drat wt    qsec  vs am gear carb\n",
       "Mazda RX4         21.0 6   160  110 3.90 2.620 16.46 0  1  4    4   \n",
       "Mazda RX4 Wag     21.0 6   160  110 3.90 2.875 17.02 0  1  4    4   \n",
       "Datsun 710        22.8 4   108   93 3.85 2.320 18.61 1  1  4    1   \n",
       "Hornet 4 Drive    21.4 6   258  110 3.08 3.215 19.44 1  0  3    1   \n",
       "Hornet Sportabout 18.7 8   360  175 3.15 3.440 17.02 0  0  3    2   \n",
       "Valiant           18.1 6   225  105 2.76 3.460 20.22 1  0  3    1   "
      ]
     },
     "metadata": {},
     "output_type": "display_data"
    },
    {
     "name": "stdout",
     "output_type": "stream",
     "text": [
      "'data.frame':\t32 obs. of  11 variables:\n",
      " $ mpg : num  21 21 22.8 21.4 18.7 18.1 14.3 24.4 22.8 19.2 ...\n",
      " $ cyl : num  6 6 4 6 8 6 8 4 4 6 ...\n",
      " $ disp: num  160 160 108 258 360 ...\n",
      " $ hp  : num  110 110 93 110 175 105 245 62 95 123 ...\n",
      " $ drat: num  3.9 3.9 3.85 3.08 3.15 2.76 3.21 3.69 3.92 3.92 ...\n",
      " $ wt  : num  2.62 2.88 2.32 3.21 3.44 ...\n",
      " $ qsec: num  16.5 17 18.6 19.4 17 ...\n",
      " $ vs  : num  0 0 1 1 0 1 0 1 1 1 ...\n",
      " $ am  : num  1 1 1 0 0 0 0 0 0 0 ...\n",
      " $ gear: num  4 4 4 3 3 3 3 4 4 4 ...\n",
      " $ carb: num  4 4 1 1 2 1 4 2 2 4 ...\n"
     ]
    }
   ],
   "source": [
    "require(MASS)\n",
    "head(mtcars)\n",
    "str(mtcars)"
   ]
  },
  {
   "cell_type": "markdown",
   "metadata": {},
   "source": [
    "# 2. 연속형 변수와 범주형 변수\n",
    "\n",
    "하나의 연속형 변수와 하나의 범주형 변수 및 상호작용을 갖는 다중회귀모형에서 회귀계수를 추출하고 회귀선을 시각화해본다. Am은 수동변속일 경우 0, 자동변속의 경우 1로 설정되어 있는데 am1 칼럼을 새로 만들고 수동을 \"manual\", 자동을 \"Automatic\"으로 만들어보자."
   ]
  },
  {
   "cell_type": "code",
   "execution_count": 5,
   "metadata": {},
   "outputs": [
    {
     "data": {
      "text/html": [
       "<table>\n",
       "<thead><tr><th></th><th scope=col>mpg</th><th scope=col>cyl</th><th scope=col>disp</th><th scope=col>hp</th><th scope=col>drat</th><th scope=col>wt</th><th scope=col>qsec</th><th scope=col>vs</th><th scope=col>am</th><th scope=col>gear</th><th scope=col>carb</th><th scope=col>am1</th></tr></thead>\n",
       "<tbody>\n",
       "\t<tr><th scope=row>Mazda RX4</th><td>21.0     </td><td>6        </td><td>160      </td><td>110      </td><td>3.90     </td><td>2.620    </td><td>16.46    </td><td>0        </td><td>1        </td><td>4        </td><td>4        </td><td>automatic</td></tr>\n",
       "\t<tr><th scope=row>Mazda RX4 Wag</th><td>21.0     </td><td>6        </td><td>160      </td><td>110      </td><td>3.90     </td><td>2.875    </td><td>17.02    </td><td>0        </td><td>1        </td><td>4        </td><td>4        </td><td>automatic</td></tr>\n",
       "\t<tr><th scope=row>Datsun 710</th><td>22.8     </td><td>4        </td><td>108      </td><td> 93      </td><td>3.85     </td><td>2.320    </td><td>18.61    </td><td>1        </td><td>1        </td><td>4        </td><td>1        </td><td>automatic</td></tr>\n",
       "\t<tr><th scope=row>Hornet 4 Drive</th><td>21.4     </td><td>6        </td><td>258      </td><td>110      </td><td>3.08     </td><td>3.215    </td><td>19.44    </td><td>1        </td><td>0        </td><td>3        </td><td>1        </td><td>manual   </td></tr>\n",
       "\t<tr><th scope=row>Hornet Sportabout</th><td>18.7     </td><td>8        </td><td>360      </td><td>175      </td><td>3.15     </td><td>3.440    </td><td>17.02    </td><td>0        </td><td>0        </td><td>3        </td><td>2        </td><td>manual   </td></tr>\n",
       "\t<tr><th scope=row>Valiant</th><td>18.1     </td><td>6        </td><td>225      </td><td>105      </td><td>2.76     </td><td>3.460    </td><td>20.22    </td><td>1        </td><td>0        </td><td>3        </td><td>1        </td><td>manual   </td></tr>\n",
       "</tbody>\n",
       "</table>\n"
      ],
      "text/latex": [
       "\\begin{tabular}{r|llllllllllll}\n",
       "  & mpg & cyl & disp & hp & drat & wt & qsec & vs & am & gear & carb & am1\\\\\n",
       "\\hline\n",
       "\tMazda RX4 & 21.0      & 6         & 160       & 110       & 3.90      & 2.620     & 16.46     & 0         & 1         & 4         & 4         & automatic\\\\\n",
       "\tMazda RX4 Wag & 21.0      & 6         & 160       & 110       & 3.90      & 2.875     & 17.02     & 0         & 1         & 4         & 4         & automatic\\\\\n",
       "\tDatsun 710 & 22.8      & 4         & 108       &  93       & 3.85      & 2.320     & 18.61     & 1         & 1         & 4         & 1         & automatic\\\\\n",
       "\tHornet 4 Drive & 21.4      & 6         & 258       & 110       & 3.08      & 3.215     & 19.44     & 1         & 0         & 3         & 1         & manual   \\\\\n",
       "\tHornet Sportabout & 18.7      & 8         & 360       & 175       & 3.15      & 3.440     & 17.02     & 0         & 0         & 3         & 2         & manual   \\\\\n",
       "\tValiant & 18.1      & 6         & 225       & 105       & 2.76      & 3.460     & 20.22     & 1         & 0         & 3         & 1         & manual   \\\\\n",
       "\\end{tabular}\n"
      ],
      "text/markdown": [
       "\n",
       "| <!--/--> | mpg | cyl | disp | hp | drat | wt | qsec | vs | am | gear | carb | am1 | \n",
       "|---|---|---|---|---|---|\n",
       "| Mazda RX4 | 21.0      | 6         | 160       | 110       | 3.90      | 2.620     | 16.46     | 0         | 1         | 4         | 4         | automatic | \n",
       "| Mazda RX4 Wag | 21.0      | 6         | 160       | 110       | 3.90      | 2.875     | 17.02     | 0         | 1         | 4         | 4         | automatic | \n",
       "| Datsun 710 | 22.8      | 4         | 108       |  93       | 3.85      | 2.320     | 18.61     | 1         | 1         | 4         | 1         | automatic | \n",
       "| Hornet 4 Drive | 21.4      | 6         | 258       | 110       | 3.08      | 3.215     | 19.44     | 1         | 0         | 3         | 1         | manual    | \n",
       "| Hornet Sportabout | 18.7      | 8         | 360       | 175       | 3.15      | 3.440     | 17.02     | 0         | 0         | 3         | 2         | manual    | \n",
       "| Valiant | 18.1      | 6         | 225       | 105       | 2.76      | 3.460     | 20.22     | 1         | 0         | 3         | 1         | manual    | \n",
       "\n",
       "\n"
      ],
      "text/plain": [
       "                  mpg  cyl disp hp  drat wt    qsec  vs am gear carb am1      \n",
       "Mazda RX4         21.0 6   160  110 3.90 2.620 16.46 0  1  4    4    automatic\n",
       "Mazda RX4 Wag     21.0 6   160  110 3.90 2.875 17.02 0  1  4    4    automatic\n",
       "Datsun 710        22.8 4   108   93 3.85 2.320 18.61 1  1  4    1    automatic\n",
       "Hornet 4 Drive    21.4 6   258  110 3.08 3.215 19.44 1  0  3    1    manual   \n",
       "Hornet Sportabout 18.7 8   360  175 3.15 3.440 17.02 0  0  3    2    manual   \n",
       "Valiant           18.1 6   225  105 2.76 3.460 20.22 1  0  3    1    manual   "
      ]
     },
     "metadata": {},
     "output_type": "display_data"
    }
   ],
   "source": [
    "mtcars$am1 <- ifelse(mtcars$am==1, \"automatic\", \"manual\")\n",
    "head(mtcars)"
   ]
  },
  {
   "cell_type": "markdown",
   "metadata": {},
   "source": [
    "mpg를 반응변수로, am1, wt를 영향변수로 하는 다중회귀모형을 만들어보자.\n",
    "- am1은 \"automatic\", \"manual\" 두 개의 고유값을 가짐\n",
    "- 따로 Reference를 정해주지 않으면 알파벳순으로 빠른 \"automatic\"을 reference로 취급"
   ]
  },
  {
   "cell_type": "code",
   "execution_count": 13,
   "metadata": {},
   "outputs": [
    {
     "data": {
      "text/plain": [
       "\n",
       "Call:\n",
       "lm(formula = mpg ~ wt * am1, data = mtcars)\n",
       "\n",
       "Residuals:\n",
       "    Min      1Q  Median      3Q     Max \n",
       "-3.6004 -1.5446 -0.5325  0.9012  6.0909 \n",
       "\n",
       "Coefficients:\n",
       "             Estimate Std. Error t value Pr(>|t|)    \n",
       "(Intercept)    46.294      3.010  15.379 3.49e-15 ***\n",
       "wt             -9.084      1.212  -7.493 3.68e-08 ***\n",
       "am1manual     -14.878      4.264  -3.489  0.00162 ** \n",
       "wt:am1manual    5.298      1.445   3.667  0.00102 ** \n",
       "---\n",
       "Signif. codes:  0 '***' 0.001 '**' 0.01 '*' 0.05 '.' 0.1 ' ' 1\n",
       "\n",
       "Residual standard error: 2.591 on 28 degrees of freedom\n",
       "Multiple R-squared:  0.833,\tAdjusted R-squared:  0.8151 \n",
       "F-statistic: 46.57 on 3 and 28 DF,  p-value: 5.209e-11\n"
      ]
     },
     "metadata": {},
     "output_type": "display_data"
    },
    {
     "data": {
      "text/html": [
       "<dl class=dl-horizontal>\n",
       "\t<dt>(Intercept)</dt>\n",
       "\t\t<dd>46.2944778999874</dd>\n",
       "\t<dt>wt</dt>\n",
       "\t\t<dd>-9.08426802475309</dd>\n",
       "\t<dt>am1manual</dt>\n",
       "\t\t<dd>-14.8784225044642</dd>\n",
       "\t<dt>wt:am1manual</dt>\n",
       "\t\t<dd>5.29836049197173</dd>\n",
       "</dl>\n"
      ],
      "text/latex": [
       "\\begin{description*}\n",
       "\\item[(Intercept)] 46.2944778999874\n",
       "\\item[wt] -9.08426802475309\n",
       "\\item[am1manual] -14.8784225044642\n",
       "\\item[wt:am1manual] 5.29836049197173\n",
       "\\end{description*}\n"
      ],
      "text/markdown": [
       "(Intercept)\n",
       ":   46.2944778999874wt\n",
       ":   -9.08426802475309am1manual\n",
       ":   -14.8784225044642wt:am1manual\n",
       ":   5.29836049197173\n",
       "\n"
      ],
      "text/plain": [
       " (Intercept)           wt    am1manual wt:am1manual \n",
       "   46.294478    -9.084268   -14.878423     5.298360 "
      ]
     },
     "metadata": {},
     "output_type": "display_data"
    }
   ],
   "source": [
    "fit1 <- lm(mpg~wt*am1, data=mtcars)\n",
    "summary(fit1)\n",
    "fit1$coef"
   ]
  },
  {
   "cell_type": "markdown",
   "metadata": {},
   "source": [
    "회귀결과 요약을 보면 먼저 자동변속기의 경우(am1=\"automatic\")의 wt와 mpg의 회귀식은 다음과 같다.\n",
    "$$ mpg=-9.084\\times{wt}+37.297  $$"
   ]
  },
  {
   "cell_type": "markdown",
   "metadata": {},
   "source": [
    "수동변속의 경우(am1=\"manual\") 회귀식은 아래와 같다.\n",
    "$$mpg=(-9.084+5.298)\\times{wt}+(46.29-14.87)$$"
   ]
  },
  {
   "cell_type": "markdown",
   "metadata": {},
   "source": [
    "## 3. 그래프\n",
    "이 두개의 회귀식을 직선으로 그려보면 다음과 같다."
   ]
  },
  {
   "cell_type": "code",
   "execution_count": 19,
   "metadata": {},
   "outputs": [
    {
     "data": {
      "image/png": "[encoded data removed]",
      "text/plain": [
       "plot without title"
      ]
     },
     "metadata": {},
     "output_type": "display_data"
    }
   ],
   "source": [
    "plot(mpg~wt, data=mtcars, col=factor(mtcars$am1))\n",
    "abline(a=fit1$coef[1], b=fit1$coef[2])\n",
    "abline(a=fit1$coef[1]+fit1$coef[3], b=fit1$coef[2]+fit1$coef[4], col=\"red\")"
   ]
  },
  {
   "cell_type": "markdown",
   "metadata": {},
   "source": [
    "ggplt의 stat_smooth()를 사용하면 회귀직선을 알아서 그려준다."
   ]
  },
  {
   "cell_type": "code",
   "execution_count": null,
   "metadata": {},
   "outputs": [],
   "source": [
    "require(ggplot2)"
   ]
  },
  {
   "cell_type": "code",
   "execution_count": 34,
   "metadata": {},
   "outputs": [
    {
     "data": {},
     "metadata": {},
     "output_type": "display_data"
    },
    {
     "data": {
      "image/png": "[encoded data removed]",
      "text/plain": [
       "plot without title"
      ]
     },
     "metadata": {},
     "output_type": "display_data"
    }
   ],
   "source": [
    "p <- ggplot(data=mtcars, aes(x=wt, y=mpg, colour=am1))+geom_point()+geom_smooth(method=\"lm\")\n",
    "p"
   ]
  },
  {
   "cell_type": "markdown",
   "metadata": {},
   "source": [
    "ggplot의 회귀선이 맞는지 보기 위해 우리가 계산한 회귀직선을 덧그려보면 다음과 같다."
   ]
  },
  {
   "cell_type": "code",
   "execution_count": 35,
   "metadata": {},
   "outputs": [
    {
     "data": {},
     "metadata": {},
     "output_type": "display_data"
    },
    {
     "data": {
      "image/png": "[encoded data removed]",
      "text/plain": [
       "plot without title"
      ]
     },
     "metadata": {},
     "output_type": "display_data"
    }
   ],
   "source": [
    "p <- p+geom_abline(intercept = fit1$coef[1], slope = fit1$coef[2], colour=\"orange\", linetype=2)\n",
    "p <- p+geom_abline(intercept = fit1$coef[1]+fit1$coef[3], slope = fit1$coef[2]+fit1$coef[4], colour=\"green\", linetype=2)\n",
    "p"
   ]
  },
  {
   "cell_type": "markdown",
   "metadata": {},
   "source": [
    "당연한 결과지만 회귀직선이 정확히 일치함을 알 수 있다."
   ]
  },
  {
   "cell_type": "markdown",
   "metadata": {},
   "source": [
    "----"
   ]
  }
 ],
 "metadata": {
  "kernelspec": {
   "display_name": "R",
   "language": "R",
   "name": "ir"
  },
  "language_info": {
   "codemirror_mode": "r",
   "file_extension": ".r",
   "mimetype": "text/x-r-source",
   "name": "R",
   "pygments_lexer": "r",
   "version": "3.5.1"
  }
 },
 "nbformat": 4,
 "nbformat_minor": 2
}
