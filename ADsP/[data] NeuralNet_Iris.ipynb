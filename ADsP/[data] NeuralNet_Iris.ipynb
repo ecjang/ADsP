{
 "cells": [
  {
   "cell_type": "markdown",
   "metadata": {},
   "source": [
    "----"
   ]
  },
  {
   "cell_type": "markdown",
   "metadata": {},
   "source": [
    "# 신경망 분석"
   ]
  },
  {
   "cell_type": "markdown",
   "metadata": {},
   "source": [
    "- 참고 : http://contents2.kocw.or.kr/KOCW/document/2017/chungbuk/najonghwa/10.pdf\n",
    "- 참고 : https://statkclee.github.io/deep-learning/r-nnet.html"
   ]
  },
  {
   "cell_type": "markdown",
   "metadata": {},
   "source": [
    "infert는 자연유산과 인공유산 후 불임에 대한 사례-대조 연구 자료이다.\n",
    "- 8개의 변수와 248개의 관측치\n",
    "- 반응변수 Case는 1:사례, 0:대조"
   ]
  },
  {
   "cell_type": "markdown",
   "metadata": {},
   "source": [
    "----"
   ]
  },
  {
   "cell_type": "markdown",
   "metadata": {},
   "source": [
    "## 1. Infert Dataset\n",
    "\n",
    "데이터셋을 불러온다.\n",
    "- case의 유형별로 개수를 조사\n",
    "- 0은 165개, 1은 83개 확인"
   ]
  },
  {
   "cell_type": "code",
   "execution_count": 1,
   "metadata": {},
   "outputs": [
    {
     "data": {
      "text/html": [
       "<table>\n",
       "<thead><tr><th scope=col>education</th><th scope=col>age</th><th scope=col>parity</th><th scope=col>induced</th><th scope=col>case</th><th scope=col>spontaneous</th><th scope=col>stratum</th><th scope=col>pooled.stratum</th></tr></thead>\n",
       "<tbody>\n",
       "\t<tr><td>0-5yrs </td><td>26     </td><td>6      </td><td>1      </td><td>1      </td><td>2      </td><td>1      </td><td> 3     </td></tr>\n",
       "\t<tr><td>0-5yrs </td><td>42     </td><td>1      </td><td>1      </td><td>1      </td><td>0      </td><td>2      </td><td> 1     </td></tr>\n",
       "\t<tr><td>0-5yrs </td><td>39     </td><td>6      </td><td>2      </td><td>1      </td><td>0      </td><td>3      </td><td> 4     </td></tr>\n",
       "\t<tr><td>0-5yrs </td><td>34     </td><td>4      </td><td>2      </td><td>1      </td><td>0      </td><td>4      </td><td> 2     </td></tr>\n",
       "\t<tr><td>6-11yrs</td><td>35     </td><td>3      </td><td>1      </td><td>1      </td><td>1      </td><td>5      </td><td>32     </td></tr>\n",
       "\t<tr><td>6-11yrs</td><td>36     </td><td>4      </td><td>2      </td><td>1      </td><td>1      </td><td>6      </td><td>36     </td></tr>\n",
       "</tbody>\n",
       "</table>\n"
      ],
      "text/latex": [
       "\\begin{tabular}{r|llllllll}\n",
       " education & age & parity & induced & case & spontaneous & stratum & pooled.stratum\\\\\n",
       "\\hline\n",
       "\t 0-5yrs  & 26      & 6       & 1       & 1       & 2       & 1       &  3     \\\\\n",
       "\t 0-5yrs  & 42      & 1       & 1       & 1       & 0       & 2       &  1     \\\\\n",
       "\t 0-5yrs  & 39      & 6       & 2       & 1       & 0       & 3       &  4     \\\\\n",
       "\t 0-5yrs  & 34      & 4       & 2       & 1       & 0       & 4       &  2     \\\\\n",
       "\t 6-11yrs & 35      & 3       & 1       & 1       & 1       & 5       & 32     \\\\\n",
       "\t 6-11yrs & 36      & 4       & 2       & 1       & 1       & 6       & 36     \\\\\n",
       "\\end{tabular}\n"
      ],
      "text/markdown": [
       "\n",
       "education | age | parity | induced | case | spontaneous | stratum | pooled.stratum | \n",
       "|---|---|---|---|---|---|\n",
       "| 0-5yrs  | 26      | 6       | 1       | 1       | 2       | 1       |  3      | \n",
       "| 0-5yrs  | 42      | 1       | 1       | 1       | 0       | 2       |  1      | \n",
       "| 0-5yrs  | 39      | 6       | 2       | 1       | 0       | 3       |  4      | \n",
       "| 0-5yrs  | 34      | 4       | 2       | 1       | 0       | 4       |  2      | \n",
       "| 6-11yrs | 35      | 3       | 1       | 1       | 1       | 5       | 32      | \n",
       "| 6-11yrs | 36      | 4       | 2       | 1       | 1       | 6       | 36      | \n",
       "\n",
       "\n"
      ],
      "text/plain": [
       "  education age parity induced case spontaneous stratum pooled.stratum\n",
       "1 0-5yrs    26  6      1       1    2           1        3            \n",
       "2 0-5yrs    42  1      1       1    0           2        1            \n",
       "3 0-5yrs    39  6      2       1    0           3        4            \n",
       "4 0-5yrs    34  4      2       1    0           4        2            \n",
       "5 6-11yrs   35  3      1       1    1           5       32            \n",
       "6 6-11yrs   36  4      2       1    1           6       36            "
      ]
     },
     "metadata": {},
     "output_type": "display_data"
    }
   ],
   "source": [
    "data(infert)\n",
    "head(infert)"
   ]
  },
  {
   "cell_type": "code",
   "execution_count": 2,
   "metadata": {},
   "outputs": [
    {
     "data": {
      "text/plain": [
       "\n",
       "  0   1 \n",
       "165  83 "
      ]
     },
     "metadata": {},
     "output_type": "display_data"
    }
   ],
   "source": [
    "table(infert$case)"
   ]
  },
  {
   "cell_type": "markdown",
   "metadata": {},
   "source": [
    "## 2. Load Library\n",
    "\n",
    "필요한 라이브러리와 데이터를 불러온다.\n",
    "- **neuralnet** : 신경망 분석에 사용하는 함수\n",
    "- 패키지가 없을 시 설치 : `install.packages(\"neuralnet\")`"
   ]
  },
  {
   "cell_type": "code",
   "execution_count": 3,
   "metadata": {},
   "outputs": [],
   "source": [
    "library(neuralnet)"
   ]
  },
  {
   "cell_type": "markdown",
   "metadata": {},
   "source": [
    "## 3. Renral Model\n",
    "\n",
    "은닉층을 추가하여 신경망 모형을 만든다.\n",
    "- **hidden** : 은틱층의 노드 수\n",
    "- **err.fct** : 오차 계산에 사용되는 미분가능 함수. sse 또는 ce(cross entropy) 지정"
   ]
  },
  {
   "cell_type": "code",
   "execution_count": 4,
   "metadata": {},
   "outputs": [],
   "source": [
    "net.infert <- neuralnet(case ~ age+parity+induced+spontaneous, data=infert, hidden=2, err.fct=\"ce\", linear.output=F, likelihood=T)"
   ]
  },
  {
   "cell_type": "code",
   "execution_count": 5,
   "metadata": {
    "scrolled": true
   },
   "outputs": [
    {
     "data": {
      "text/plain": [
       "                    Length Class      Mode    \n",
       "call                  7    -none-     call    \n",
       "response            248    -none-     numeric \n",
       "covariate           992    -none-     numeric \n",
       "model.list            2    -none-     list    \n",
       "err.fct               1    -none-     function\n",
       "act.fct               1    -none-     function\n",
       "linear.output         1    -none-     logical \n",
       "data                  8    data.frame list    \n",
       "net.result            1    -none-     list    \n",
       "weights               1    -none-     list    \n",
       "startweights          1    -none-     list    \n",
       "generalized.weights   1    -none-     list    \n",
       "result.matrix        18    -none-     numeric "
      ]
     },
     "metadata": {},
     "output_type": "display_data"
    }
   ],
   "source": [
    "summary(net.infert)"
   ]
  },
  {
   "cell_type": "markdown",
   "metadata": {},
   "source": [
    "## 4. Visualization\n",
    "\n",
    "해당 결과를 시각화 해본다."
   ]
  },
  {
   "cell_type": "code",
   "execution_count": 6,
   "metadata": {},
   "outputs": [],
   "source": [
    "plot(net.infert)"
   ]
  },
  {
   "cell_type": "markdown",
   "metadata": {},
   "source": [
    "----"
   ]
  }
 ],
 "metadata": {
  "kernelspec": {
   "display_name": "R",
   "language": "R",
   "name": "ir"
  },
  "language_info": {
   "codemirror_mode": "r",
   "file_extension": ".r",
   "mimetype": "text/x-r-source",
   "name": "R",
   "pygments_lexer": "r",
   "version": "3.5.1"
  }
 },
 "nbformat": 4,
 "nbformat_minor": 2
}
