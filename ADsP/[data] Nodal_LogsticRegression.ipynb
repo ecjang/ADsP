{
 "cells": [
  {
   "cell_type": "markdown",
   "metadata": {},
   "source": [
    "----"
   ]
  },
  {
   "cell_type": "markdown",
   "metadata": {},
   "source": [
    "# 로지스틱 회귀분석 사례"
   ]
  },
  {
   "cell_type": "markdown",
   "metadata": {},
   "source": [
    "## 1. Nodal Dataset\n",
    "\n",
    "1980년 브라운이 작성한 보고서 데이터셋으로 53명의 전립선암 환자에 대해 조사한 전립선 결절 관련 정보를 담고 있다.\n",
    "\n",
    "1. m : 하나의 컬럼\n",
    "1. r : 전립선암 양성 여부\n",
    "1. aged : 환자의 나이, 60보다 작은면 0, 크면 1\n",
    "1. stage : 직장을 통해 관찰된 종양의 측정 크기와 위치. 1이면 심각한 정도\n",
    "1. grade : 수술전 바늘로 추출한 생채조직의 병리학적 판독으로 결정된 암의 심각성 지표. 1이면 심각한 정도\n",
    "1. xray : X레이 촬영으로 관찰한 암의 측정. 1이면 심각한 정도\n",
    "1. acid : 혈청안의 산성 포스파타아제 수치"
   ]
  },
  {
   "cell_type": "markdown",
   "metadata": {},
   "source": [
    "data info : https://www.rdocumentation.org/packages/DPpackage/versions/1.1-7.4/topics/nodal"
   ]
  },
  {
   "cell_type": "code",
   "execution_count": 1,
   "metadata": {},
   "outputs": [],
   "source": [
    "# 라이브러리 호출\n",
    "library(boot)"
   ]
  },
  {
   "cell_type": "code",
   "execution_count": 3,
   "metadata": {},
   "outputs": [],
   "source": [
    "?nodal"
   ]
  },
  {
   "cell_type": "code",
   "execution_count": 2,
   "metadata": {},
   "outputs": [
    {
     "data": {
      "text/html": [
       "<table>\n",
       "<thead><tr><th scope=col>m</th><th scope=col>r</th><th scope=col>aged</th><th scope=col>stage</th><th scope=col>grade</th><th scope=col>xray</th><th scope=col>acid</th></tr></thead>\n",
       "<tbody>\n",
       "\t<tr><td>1</td><td>1</td><td>0</td><td>1</td><td>1</td><td>1</td><td>1</td></tr>\n",
       "\t<tr><td>1</td><td>1</td><td>0</td><td>1</td><td>1</td><td>1</td><td>1</td></tr>\n",
       "\t<tr><td>1</td><td>1</td><td>0</td><td>1</td><td>1</td><td>1</td><td>1</td></tr>\n",
       "\t<tr><td>1</td><td>1</td><td>0</td><td>1</td><td>1</td><td>1</td><td>1</td></tr>\n",
       "\t<tr><td>1</td><td>1</td><td>0</td><td>1</td><td>1</td><td>1</td><td>1</td></tr>\n",
       "\t<tr><td>1</td><td>0</td><td>0</td><td>1</td><td>1</td><td>1</td><td>1</td></tr>\n",
       "</tbody>\n",
       "</table>\n"
      ],
      "text/latex": [
       "\\begin{tabular}{r|lllllll}\n",
       " m & r & aged & stage & grade & xray & acid\\\\\n",
       "\\hline\n",
       "\t 1 & 1 & 0 & 1 & 1 & 1 & 1\\\\\n",
       "\t 1 & 1 & 0 & 1 & 1 & 1 & 1\\\\\n",
       "\t 1 & 1 & 0 & 1 & 1 & 1 & 1\\\\\n",
       "\t 1 & 1 & 0 & 1 & 1 & 1 & 1\\\\\n",
       "\t 1 & 1 & 0 & 1 & 1 & 1 & 1\\\\\n",
       "\t 1 & 0 & 0 & 1 & 1 & 1 & 1\\\\\n",
       "\\end{tabular}\n"
      ],
      "text/markdown": [
       "\n",
       "m | r | aged | stage | grade | xray | acid | \n",
       "|---|---|---|---|---|---|\n",
       "| 1 | 1 | 0 | 1 | 1 | 1 | 1 | \n",
       "| 1 | 1 | 0 | 1 | 1 | 1 | 1 | \n",
       "| 1 | 1 | 0 | 1 | 1 | 1 | 1 | \n",
       "| 1 | 1 | 0 | 1 | 1 | 1 | 1 | \n",
       "| 1 | 1 | 0 | 1 | 1 | 1 | 1 | \n",
       "| 1 | 0 | 0 | 1 | 1 | 1 | 1 | \n",
       "\n",
       "\n"
      ],
      "text/plain": [
       "  m r aged stage grade xray acid\n",
       "1 1 1 0    1     1     1    1   \n",
       "2 1 1 0    1     1     1    1   \n",
       "3 1 1 0    1     1     1    1   \n",
       "4 1 1 0    1     1     1    1   \n",
       "5 1 1 0    1     1     1    1   \n",
       "6 1 0 0    1     1     1    1   "
      ]
     },
     "metadata": {},
     "output_type": "display_data"
    },
    {
     "name": "stdout",
     "output_type": "stream",
     "text": [
      "'data.frame':\t53 obs. of  7 variables:\n",
      " $ m    : num  1 1 1 1 1 1 1 1 1 1 ...\n",
      " $ r    : num  1 1 1 1 1 0 1 0 0 0 ...\n",
      " $ aged : num  0 0 0 0 0 0 0 0 0 0 ...\n",
      " $ stage: num  1 1 1 1 1 1 0 0 0 0 ...\n",
      " $ grade: num  1 1 1 1 1 1 0 0 0 0 ...\n",
      " $ xray : num  1 1 1 1 1 1 0 0 0 0 ...\n",
      " $ acid : num  1 1 1 1 1 1 1 1 1 1 ...\n"
     ]
    }
   ],
   "source": [
    "# 데이터 확인\n",
    "head(nodal)\n",
    "str(nodal)"
   ]
  },
  {
   "cell_type": "markdown",
   "metadata": {},
   "source": [
    "## 2. Rogistic Regression Analysis\n",
    "\n",
    "[r 양성여부]를 종속변수로, [stage 진행단계], [grade 등급], [acid 산성 수치] 3개의 변수를 독립변수로 설정하여 로지스틱 회귀 분석을 실시한다."
   ]
  },
  {
   "cell_type": "code",
   "execution_count": 21,
   "metadata": {},
   "outputs": [
    {
     "data": {
      "text/html": [
       "<table>\n",
       "<thead><tr><th scope=col>r</th><th scope=col>stage</th><th scope=col>xray</th><th scope=col>acid</th></tr></thead>\n",
       "<tbody>\n",
       "\t<tr><td>1</td><td>1</td><td>1</td><td>1</td></tr>\n",
       "\t<tr><td>1</td><td>1</td><td>1</td><td>1</td></tr>\n",
       "\t<tr><td>1</td><td>1</td><td>1</td><td>1</td></tr>\n",
       "\t<tr><td>1</td><td>1</td><td>1</td><td>1</td></tr>\n",
       "\t<tr><td>1</td><td>1</td><td>1</td><td>1</td></tr>\n",
       "\t<tr><td>0</td><td>1</td><td>1</td><td>1</td></tr>\n",
       "</tbody>\n",
       "</table>\n"
      ],
      "text/latex": [
       "\\begin{tabular}{r|llll}\n",
       " r & stage & xray & acid\\\\\n",
       "\\hline\n",
       "\t 1 & 1 & 1 & 1\\\\\n",
       "\t 1 & 1 & 1 & 1\\\\\n",
       "\t 1 & 1 & 1 & 1\\\\\n",
       "\t 1 & 1 & 1 & 1\\\\\n",
       "\t 1 & 1 & 1 & 1\\\\\n",
       "\t 0 & 1 & 1 & 1\\\\\n",
       "\\end{tabular}\n"
      ],
      "text/markdown": [
       "\n",
       "r | stage | xray | acid | \n",
       "|---|---|---|---|---|---|\n",
       "| 1 | 1 | 1 | 1 | \n",
       "| 1 | 1 | 1 | 1 | \n",
       "| 1 | 1 | 1 | 1 | \n",
       "| 1 | 1 | 1 | 1 | \n",
       "| 1 | 1 | 1 | 1 | \n",
       "| 0 | 1 | 1 | 1 | \n",
       "\n",
       "\n"
      ],
      "text/plain": [
       "  r stage xray acid\n",
       "1 1 1     1    1   \n",
       "2 1 1     1    1   \n",
       "3 1 1     1    1   \n",
       "4 1 1     1    1   \n",
       "5 1 1     1    1   \n",
       "6 0 1     1    1   "
      ]
     },
     "metadata": {},
     "output_type": "display_data"
    }
   ],
   "source": [
    "a <- c(2, 4, 6, 7)\n",
    "data <- nodal[a]\n",
    "head(data)"
   ]
  },
  {
   "cell_type": "code",
   "execution_count": 17,
   "metadata": {},
   "outputs": [],
   "source": [
    "glmModel <- glm(r~., data=data, family = \"binomial\")"
   ]
  },
  {
   "cell_type": "code",
   "execution_count": 19,
   "metadata": {},
   "outputs": [
    {
     "data": {
      "image/png": "[encoded data removed]",
      "text/plain": [
       "Plot with title \"\""
      ]
     },
     "metadata": {},
     "output_type": "display_data"
    }
   ],
   "source": [
    "par(mfrow=c(2,2))\n",
    "plot(glmModel)"
   ]
  },
  {
   "cell_type": "markdown",
   "metadata": {},
   "source": [
    "## 3. Result"
   ]
  },
  {
   "cell_type": "code",
   "execution_count": 20,
   "metadata": {},
   "outputs": [
    {
     "data": {
      "text/plain": [
       "\n",
       "Call:\n",
       "glm(formula = r ~ ., family = \"binomial\", data = data)\n",
       "\n",
       "Deviance Residuals: \n",
       "    Min       1Q   Median       3Q      Max  \n",
       "-2.1231  -0.6620  -0.3039   0.4710   2.4892  \n",
       "\n",
       "Coefficients:\n",
       "            Estimate Std. Error z value Pr(>|z|)    \n",
       "(Intercept)  -3.0518     0.8420  -3.624  0.00029 ***\n",
       "stage         1.6453     0.7297   2.255  0.02414 *  \n",
       "xray          1.9116     0.7771   2.460  0.01390 *  \n",
       "acid          1.6378     0.7539   2.172  0.02983 *  \n",
       "---\n",
       "Signif. codes:  0 '***' 0.001 '**' 0.01 '*' 0.05 '.' 0.1 ' ' 1\n",
       "\n",
       "(Dispersion parameter for binomial family taken to be 1)\n",
       "\n",
       "    Null deviance: 70.252  on 52  degrees of freedom\n",
       "Residual deviance: 49.180  on 49  degrees of freedom\n",
       "AIC: 57.18\n",
       "\n",
       "Number of Fisher Scoring iterations: 5\n"
      ]
     },
     "metadata": {},
     "output_type": "display_data"
    }
   ],
   "source": [
    "summary(glmModel)"
   ]
  },
  {
   "cell_type": "markdown",
   "metadata": {},
   "source": [
    "1. aged와 grade는 유의수준 5%하에서 유의하지 않아 제외\n",
    "1. stage, xray, acid는 유의수준 5% 이하에서 유의함.\n",
    "1. 그러므로 아래 회귀식으로 추정이 가능\n",
    "1. $$ r = -3.05 + 1.65\\times{stage} + 1.19\\times{xray} + 1.63{acid} $$\n"
   ]
  },
  {
   "cell_type": "markdown",
   "metadata": {},
   "source": [
    "----"
   ]
  }
 ],
 "metadata": {
  "kernelspec": {
   "display_name": "R",
   "language": "R",
   "name": "ir"
  },
  "language_info": {
   "codemirror_mode": "r",
   "file_extension": ".r",
   "mimetype": "text/x-r-source",
   "name": "R",
   "pygments_lexer": "r",
   "version": "3.5.1"
  }
 },
 "nbformat": 4,
 "nbformat_minor": 2
}
