{
 "cells": [
  {
   "cell_type": "markdown",
   "metadata": {},
   "source": [
    "----"
   ]
  },
  {
   "cell_type": "markdown",
   "metadata": {},
   "source": [
    "# 최적 회귀 방정식 사례"
   ]
  },
  {
   "cell_type": "markdown",
   "metadata": {},
   "source": [
    "## 1. Prostate Dataset\n",
    "\n",
    "전립선 특정 항원 수준과 급진적 전립선 절제수술을 받으려는 남성들에 대한 여러 가지 임상 조치 사이의 상관관계를 조사하기 위한 데이터. 총 10개 변수로 되어 있고 총 97개의 데이터가 있다."
   ]
  },
  {
   "cell_type": "code",
   "execution_count": 3,
   "metadata": {},
   "outputs": [],
   "source": [
    "# 라이브러리 호출\n",
    "# install.packages(\"ElemStatLearn\")\n",
    "library(ElemStatLearn)"
   ]
  },
  {
   "cell_type": "code",
   "execution_count": 6,
   "metadata": {},
   "outputs": [],
   "source": [
    "?prostate"
   ]
  },
  {
   "cell_type": "code",
   "execution_count": 4,
   "metadata": {},
   "outputs": [],
   "source": [
    "Data = prostate"
   ]
  },
  {
   "cell_type": "code",
   "execution_count": 5,
   "metadata": {},
   "outputs": [
    {
     "data": {
      "text/html": [
       "<table>\n",
       "<thead><tr><th scope=col>lcavol</th><th scope=col>lweight</th><th scope=col>age</th><th scope=col>lbph</th><th scope=col>svi</th><th scope=col>lcp</th><th scope=col>gleason</th><th scope=col>pgg45</th><th scope=col>lpsa</th><th scope=col>train</th></tr></thead>\n",
       "<tbody>\n",
       "\t<tr><td>-0.5798185</td><td>2.769459  </td><td>50        </td><td>-1.386294 </td><td>0         </td><td>-1.386294 </td><td>6         </td><td> 0        </td><td>-0.4307829</td><td>TRUE      </td></tr>\n",
       "\t<tr><td>-0.9942523</td><td>3.319626  </td><td>58        </td><td>-1.386294 </td><td>0         </td><td>-1.386294 </td><td>6         </td><td> 0        </td><td>-0.1625189</td><td>TRUE      </td></tr>\n",
       "\t<tr><td>-0.5108256</td><td>2.691243  </td><td>74        </td><td>-1.386294 </td><td>0         </td><td>-1.386294 </td><td>7         </td><td>20        </td><td>-0.1625189</td><td>TRUE      </td></tr>\n",
       "\t<tr><td>-1.2039728</td><td>3.282789  </td><td>58        </td><td>-1.386294 </td><td>0         </td><td>-1.386294 </td><td>6         </td><td> 0        </td><td>-0.1625189</td><td>TRUE      </td></tr>\n",
       "\t<tr><td> 0.7514161</td><td>3.432373  </td><td>62        </td><td>-1.386294 </td><td>0         </td><td>-1.386294 </td><td>6         </td><td> 0        </td><td> 0.3715636</td><td>TRUE      </td></tr>\n",
       "\t<tr><td>-1.0498221</td><td>3.228826  </td><td>50        </td><td>-1.386294 </td><td>0         </td><td>-1.386294 </td><td>6         </td><td> 0        </td><td> 0.7654678</td><td>TRUE      </td></tr>\n",
       "</tbody>\n",
       "</table>\n"
      ],
      "text/latex": [
       "\\begin{tabular}{r|llllllllll}\n",
       " lcavol & lweight & age & lbph & svi & lcp & gleason & pgg45 & lpsa & train\\\\\n",
       "\\hline\n",
       "\t -0.5798185 & 2.769459   & 50         & -1.386294  & 0          & -1.386294  & 6          &  0         & -0.4307829 & TRUE      \\\\\n",
       "\t -0.9942523 & 3.319626   & 58         & -1.386294  & 0          & -1.386294  & 6          &  0         & -0.1625189 & TRUE      \\\\\n",
       "\t -0.5108256 & 2.691243   & 74         & -1.386294  & 0          & -1.386294  & 7          & 20         & -0.1625189 & TRUE      \\\\\n",
       "\t -1.2039728 & 3.282789   & 58         & -1.386294  & 0          & -1.386294  & 6          &  0         & -0.1625189 & TRUE      \\\\\n",
       "\t  0.7514161 & 3.432373   & 62         & -1.386294  & 0          & -1.386294  & 6          &  0         &  0.3715636 & TRUE      \\\\\n",
       "\t -1.0498221 & 3.228826   & 50         & -1.386294  & 0          & -1.386294  & 6          &  0         &  0.7654678 & TRUE      \\\\\n",
       "\\end{tabular}\n"
      ],
      "text/markdown": [
       "\n",
       "lcavol | lweight | age | lbph | svi | lcp | gleason | pgg45 | lpsa | train | \n",
       "|---|---|---|---|---|---|\n",
       "| -0.5798185 | 2.769459   | 50         | -1.386294  | 0          | -1.386294  | 6          |  0         | -0.4307829 | TRUE       | \n",
       "| -0.9942523 | 3.319626   | 58         | -1.386294  | 0          | -1.386294  | 6          |  0         | -0.1625189 | TRUE       | \n",
       "| -0.5108256 | 2.691243   | 74         | -1.386294  | 0          | -1.386294  | 7          | 20         | -0.1625189 | TRUE       | \n",
       "| -1.2039728 | 3.282789   | 58         | -1.386294  | 0          | -1.386294  | 6          |  0         | -0.1625189 | TRUE       | \n",
       "|  0.7514161 | 3.432373   | 62         | -1.386294  | 0          | -1.386294  | 6          |  0         |  0.3715636 | TRUE       | \n",
       "| -1.0498221 | 3.228826   | 50         | -1.386294  | 0          | -1.386294  | 6          |  0         |  0.7654678 | TRUE       | \n",
       "\n",
       "\n"
      ],
      "text/plain": [
       "  lcavol     lweight  age lbph      svi lcp       gleason pgg45 lpsa      \n",
       "1 -0.5798185 2.769459 50  -1.386294 0   -1.386294 6        0    -0.4307829\n",
       "2 -0.9942523 3.319626 58  -1.386294 0   -1.386294 6        0    -0.1625189\n",
       "3 -0.5108256 2.691243 74  -1.386294 0   -1.386294 7       20    -0.1625189\n",
       "4 -1.2039728 3.282789 58  -1.386294 0   -1.386294 6        0    -0.1625189\n",
       "5  0.7514161 3.432373 62  -1.386294 0   -1.386294 6        0     0.3715636\n",
       "6 -1.0498221 3.228826 50  -1.386294 0   -1.386294 6        0     0.7654678\n",
       "  train\n",
       "1 TRUE \n",
       "2 TRUE \n",
       "3 TRUE \n",
       "4 TRUE \n",
       "5 TRUE \n",
       "6 TRUE "
      ]
     },
     "metadata": {},
     "output_type": "display_data"
    },
    {
     "name": "stdout",
     "output_type": "stream",
     "text": [
      "'data.frame':\t97 obs. of  10 variables:\n",
      " $ lcavol : num  -0.58 -0.994 -0.511 -1.204 0.751 ...\n",
      " $ lweight: num  2.77 3.32 2.69 3.28 3.43 ...\n",
      " $ age    : int  50 58 74 58 62 50 64 58 47 63 ...\n",
      " $ lbph   : num  -1.39 -1.39 -1.39 -1.39 -1.39 ...\n",
      " $ svi    : int  0 0 0 0 0 0 0 0 0 0 ...\n",
      " $ lcp    : num  -1.39 -1.39 -1.39 -1.39 -1.39 ...\n",
      " $ gleason: int  6 6 7 6 6 6 6 6 6 6 ...\n",
      " $ pgg45  : int  0 0 20 0 0 0 0 0 0 0 ...\n",
      " $ lpsa   : num  -0.431 -0.163 -0.163 -0.163 0.372 ...\n",
      " $ train  : logi  TRUE TRUE TRUE TRUE TRUE TRUE ...\n"
     ]
    }
   ],
   "source": [
    "# 데이터 확인\n",
    "head(Data)\n",
    "str(Data)"
   ]
  },
  {
   "cell_type": "markdown",
   "metadata": {},
   "source": [
    "1. lcavol: 종양 부피의 로그\n",
    "1. lweight: 전립선 무게의 로그\n",
    "1.  age: 환자의 나이\n",
    "1. lbph : 양성 전립선 증식량의 로그\n",
    "1. svi : 암이 정낭을 침범할 확률\n",
    "1. lcp : capsular penetration의 로그\n",
    "1. gleason : Gleason 점수\n",
    "1. pgg45 : Gleason 점수가 4 또는 5인 비율\n",
    "1. lpsa 전립선 수치의 로그"
   ]
  },
  {
   "cell_type": "markdown",
   "metadata": {},
   "source": [
    "## 2. Regression Analysis\n",
    "\n",
    "8개의 입력변수와 1개의 출력변수로 구성. 마지막 열의 train변수는 학습자료인지 예측자료인지 여부를 나타내는 것으로 이번 분석에서는 사용하지 않는다."
   ]
  },
  {
   "cell_type": "code",
   "execution_count": 20,
   "metadata": {},
   "outputs": [],
   "source": [
    "data.use <- Data[, -ncol(Data)]"
   ]
  },
  {
   "cell_type": "code",
   "execution_count": 22,
   "metadata": {},
   "outputs": [],
   "source": [
    "lm.full.Model = lm(lpsa~., data=data.use )"
   ]
  },
  {
   "cell_type": "markdown",
   "metadata": {},
   "source": [
    "- 양식 : **`step(lm(출력변수~입력변수, 데이터셋), scope=list(lower=~1, upper=~입력변수), direction=(\"변수선택방법\"))`**\n",
    "\n",
    "\n",
    "- **[scope]**\n",
    "    - 변수선택과정에서 결정할 수 있는 가장 큰 모형, 가장 작은 모형을 설정\n",
    "    - 값이 지정되지 않으면 전진선택법에서는 선택한 모형을 가장 큰 모형으로 설정\n",
    "    - 값이 지정되지 않으면 후진제거법에서는 상수항만 있는 모형을 가장 작은 모형으로 설정\n",
    "    \n",
    "- **[k]**\n",
    "    - 모형선택 기준에서 AIC, BIC와 같은 옵션을 사용\n",
    "    - k=2이면 AIC, k=log(자료의 수)이면 BIC\n",
    "    "
   ]
  },
  {
   "cell_type": "markdown",
   "metadata": {},
   "source": [
    "## 3. Backward Selection : AIC\n",
    "\n",
    "후진제거법에서 AIC를 이용한 변수 선택"
   ]
  },
  {
   "cell_type": "code",
   "execution_count": 25,
   "metadata": {},
   "outputs": [
    {
     "name": "stdout",
     "output_type": "stream",
     "text": [
      "Start:  AIC=-60.78\n",
      "lpsa ~ lcavol + lweight + age + lbph + svi + lcp + gleason + \n",
      "    pgg45\n",
      "\n",
      "          Df Sum of Sq    RSS     AIC\n",
      "- gleason  1    0.0491 43.108 -62.668\n",
      "- pgg45    1    0.5102 43.569 -61.636\n",
      "- lcp      1    0.6814 43.740 -61.256\n",
      "<none>                 43.058 -60.779\n",
      "- lbph     1    1.3646 44.423 -59.753\n",
      "- age      1    1.7981 44.857 -58.810\n",
      "- lweight  1    4.6907 47.749 -52.749\n",
      "- svi      1    4.8803 47.939 -52.364\n",
      "- lcavol   1   20.1994 63.258 -25.467\n",
      "\n",
      "Step:  AIC=-62.67\n",
      "lpsa ~ lcavol + lweight + age + lbph + svi + lcp + pgg45\n",
      "\n",
      "          Df Sum of Sq    RSS     AIC\n",
      "- lcp      1    0.6684 43.776 -63.176\n",
      "<none>                 43.108 -62.668\n",
      "- pgg45    1    1.1987 44.306 -62.008\n",
      "- lbph     1    1.3844 44.492 -61.602\n",
      "- age      1    1.7579 44.865 -60.791\n",
      "- lweight  1    4.6429 47.751 -54.746\n",
      "- svi      1    4.8333 47.941 -54.360\n",
      "- lcavol   1   21.3191 64.427 -25.691\n",
      "\n",
      "Step:  AIC=-63.18\n",
      "lpsa ~ lcavol + lweight + age + lbph + svi + pgg45\n",
      "\n",
      "          Df Sum of Sq    RSS     AIC\n",
      "- pgg45    1    0.6607 44.437 -63.723\n",
      "<none>                 43.776 -63.176\n",
      "- lbph     1    1.3329 45.109 -62.266\n",
      "- age      1    1.4878 45.264 -61.934\n",
      "- svi      1    4.1766 47.953 -56.336\n",
      "- lweight  1    4.6553 48.431 -55.373\n",
      "- lcavol   1   22.7555 66.531 -24.572\n",
      "\n",
      "Step:  AIC=-63.72\n",
      "lpsa ~ lcavol + lweight + age + lbph + svi\n",
      "\n",
      "          Df Sum of Sq    RSS     AIC\n",
      "<none>                 44.437 -63.723\n",
      "- age      1    1.1588 45.595 -63.226\n",
      "- lbph     1    1.5087 45.945 -62.484\n",
      "- lweight  1    4.3140 48.751 -56.735\n",
      "- svi      1    5.8509 50.288 -53.724\n",
      "- lcavol   1   25.9427 70.379 -21.119\n"
     ]
    }
   ],
   "source": [
    "backward.aic <- step(lm.full.Model, lpsa~1, direction = \"backward\")"
   ]
  },
  {
   "cell_type": "markdown",
   "metadata": {},
   "source": [
    "- 가장 처음의 AIC는 -62.668로 gleason 변수가 제거됨\n",
    "- 그 다음으로 lcp, pgg45 순서로 제거됨"
   ]
  },
  {
   "cell_type": "markdown",
   "metadata": {},
   "source": [
    "## 4. Backward Selection : BIC\n",
    "\n",
    "후진제거법에서 AIC를 이용한 변수 선택"
   ]
  },
  {
   "cell_type": "code",
   "execution_count": 33,
   "metadata": {},
   "outputs": [
    {
     "name": "stdout",
     "output_type": "stream",
     "text": [
      "Start:  AIC=-37.61\n",
      "lpsa ~ lcavol + lweight + age + lbph + svi + lcp + gleason + \n",
      "    pgg45\n",
      "\n",
      "          Df Sum of Sq    RSS     AIC\n",
      "- gleason  1    0.0491 43.108 -42.071\n",
      "- pgg45    1    0.5102 43.569 -41.039\n",
      "- lcp      1    0.6814 43.740 -40.658\n",
      "- lbph     1    1.3646 44.423 -39.155\n",
      "- age      1    1.7981 44.857 -38.213\n",
      "<none>                 43.058 -37.606\n",
      "- lweight  1    4.6907 47.749 -32.151\n",
      "- svi      1    4.8803 47.939 -31.767\n",
      "- lcavol   1   20.1994 63.258  -4.869\n",
      "\n",
      "Step:  AIC=-42.07\n",
      "lpsa ~ lcavol + lweight + age + lbph + svi + lcp + pgg45\n",
      "\n",
      "          Df Sum of Sq    RSS     AIC\n",
      "- lcp      1    0.6684 43.776 -45.153\n",
      "- pgg45    1    1.1987 44.306 -43.985\n",
      "- lbph     1    1.3844 44.492 -43.579\n",
      "- age      1    1.7579 44.865 -42.768\n",
      "<none>                 43.108 -42.071\n",
      "- lweight  1    4.6429 47.751 -36.723\n",
      "- svi      1    4.8333 47.941 -36.337\n",
      "- lcavol   1   21.3191 64.427  -7.668\n",
      "\n",
      "Step:  AIC=-45.15\n",
      "lpsa ~ lcavol + lweight + age + lbph + svi + pgg45\n",
      "\n",
      "          Df Sum of Sq    RSS     AIC\n",
      "- pgg45    1    0.6607 44.437 -48.274\n",
      "- lbph     1    1.3329 45.109 -46.818\n",
      "- age      1    1.4878 45.264 -46.486\n",
      "<none>                 43.776 -45.153\n",
      "- svi      1    4.1766 47.953 -40.888\n",
      "- lweight  1    4.6553 48.431 -39.924\n",
      "- lcavol   1   22.7555 66.531  -9.124\n",
      "\n",
      "Step:  AIC=-48.27\n",
      "lpsa ~ lcavol + lweight + age + lbph + svi\n",
      "\n",
      "          Df Sum of Sq    RSS     AIC\n",
      "- age      1    1.1588 45.595 -50.352\n",
      "- lbph     1    1.5087 45.945 -49.610\n",
      "<none>                 44.437 -48.274\n",
      "- lweight  1    4.3140 48.751 -43.862\n",
      "- svi      1    5.8509 50.288 -40.851\n",
      "- lcavol   1   25.9427 70.379  -8.245\n",
      "\n",
      "Step:  AIC=-50.35\n",
      "lpsa ~ lcavol + lweight + lbph + svi\n",
      "\n",
      "          Df Sum of Sq    RSS     AIC\n",
      "- lbph     1    0.9730 46.568 -52.879\n",
      "<none>                 45.595 -50.352\n",
      "- lweight  1    3.6907 49.286 -47.377\n",
      "- svi      1    5.7027 51.298 -43.496\n",
      "- lcavol   1   24.9384 70.534 -12.607\n",
      "\n",
      "Step:  AIC=-52.88\n",
      "lpsa ~ lcavol + lweight + svi\n",
      "\n",
      "          Df Sum of Sq    RSS     AIC\n",
      "<none>                 46.568 -52.879\n",
      "- svi      1    5.1737 51.742 -47.234\n",
      "- lweight  1    7.1089 53.677 -43.673\n",
      "- lcavol   1   24.7058 71.274 -16.169\n"
     ]
    }
   ],
   "source": [
    "backward.bic <- step(lm.full.Model, lpsa~1, direction = \"backward\", k=log(nrow(data.use)))"
   ]
  },
  {
   "cell_type": "markdown",
   "metadata": {},
   "source": [
    "- 가장 처음 분석에서 gleason의 BIC는  -42.071로 가장 먼저 제거됨\n",
    "- AIC와 BIC로 찾은 모형을 비교해보면 BIC 모형이 변수를 더 적게 사용함을 확인가능\n",
    "- BIC가 변수의 수에 대하여 가중치를 높게 주기 때문"
   ]
  },
  {
   "cell_type": "markdown",
   "metadata": {},
   "source": [
    "----"
   ]
  }
 ],
 "metadata": {
  "kernelspec": {
   "display_name": "R",
   "language": "R",
   "name": "ir"
  },
  "language_info": {
   "codemirror_mode": "r",
   "file_extension": ".r",
   "mimetype": "text/x-r-source",
   "name": "R",
   "pygments_lexer": "r",
   "version": "3.5.1"
  }
 },
 "nbformat": 4,
 "nbformat_minor": 2
}
