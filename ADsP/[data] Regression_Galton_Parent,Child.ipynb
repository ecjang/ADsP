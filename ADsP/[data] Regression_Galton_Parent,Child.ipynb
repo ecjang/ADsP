{
 "cells": [
  {
   "cell_type": "markdown",
   "metadata": {},
   "source": [
    "# 상관분석, 회귀분석\n",
    "\n",
    "url : http://rstudio-pubs-static.s3.amazonaws.com/189354_277dfb3a83a34a2abaae855b90fcf269.html"
   ]
  },
  {
   "cell_type": "code",
   "execution_count": 1,
   "metadata": {},
   "outputs": [
    {
     "name": "stderr",
     "output_type": "stream",
     "text": [
      "Installing package into 'C:/Users/jang/Documents/R/win-library/3.5'\n",
      "(as 'lib' is unspecified)\n"
     ]
    },
    {
     "name": "stdout",
     "output_type": "stream",
     "text": [
      "package 'UsingR' successfully unpacked and MD5 sums checked\n",
      "\n",
      "The downloaded binary packages are in\n",
      "\tC:\\Users\\jang\\AppData\\Local\\Temp\\RtmpEfTnnv\\downloaded_packages\n"
     ]
    }
   ],
   "source": [
    "install.packages(\"UsingR\")"
   ]
  },
  {
   "cell_type": "code",
   "execution_count": 2,
   "metadata": {},
   "outputs": [
    {
     "name": "stderr",
     "output_type": "stream",
     "text": [
      "Loading required package: UsingR\n",
      "Loading required package: MASS\n",
      "Loading required package: HistData\n",
      "Loading required package: Hmisc\n",
      "Loading required package: lattice\n",
      "Loading required package: survival\n",
      "Loading required package: Formula\n",
      "Loading required package: ggplot2\n",
      "\n",
      "Attaching package: 'Hmisc'\n",
      "\n",
      "The following objects are masked from 'package:base':\n",
      "\n",
      "    format.pval, units\n",
      "\n",
      "\n",
      "Attaching package: 'UsingR'\n",
      "\n",
      "The following object is masked from 'package:survival':\n",
      "\n",
      "    cancer\n",
      "\n"
     ]
    },
    {
     "name": "stdout",
     "output_type": "stream",
     "text": [
      "'data.frame':\t928 obs. of  2 variables:\n",
      " $ child : num  61.7 61.7 61.7 61.7 61.7 62.2 62.2 62.2 62.2 62.2 ...\n",
      " $ parent: num  70.5 68.5 65.5 64.5 64 67.5 67.5 67.5 66.5 66.5 ...\n"
     ]
    }
   ],
   "source": [
    "require(\"UsingR\")\n",
    "data(galton)\n",
    "str(galton)"
   ]
  },
  {
   "cell_type": "markdown",
   "metadata": {},
   "source": [
    "다운 받은 galton 데이터는 부모와 아이의 키에 대한 928개의 자료이다. 우선 자료의 분포를 살표보기 위해 히스토그램으로 그려본다."
   ]
  },
  {
   "cell_type": "code",
   "execution_count": 10,
   "metadata": {},
   "outputs": [
    {
     "data": {
      "image/png": "[encoded data removed]",
      "text/plain": [
       "Plot with title \"Histogram of galton$parent\""
      ]
     },
     "metadata": {},
     "output_type": "display_data"
    }
   ],
   "source": [
    "par(mfrow=c(2,1))\n",
    "hist(galton$child, col=\"blue\", breaks=10)\n",
    "hist(galton$parent, col=\"blue\", breaks=10)\n",
    "par(mfrow=c(1,1))"
   ]
  },
  {
   "cell_type": "markdown",
   "metadata": {},
   "source": [
    "부모와 아이의 자료의 상관관계를 구해본다.\n",
    "- cor는 공분산을 구하는 기능"
   ]
  },
  {
   "cell_type": "code",
   "execution_count": 14,
   "metadata": {},
   "outputs": [
    {
     "data": {
      "text/plain": [
       "\n",
       "\tPearson's product-moment correlation\n",
       "\n",
       "data:  galton$parent and galton$child\n",
       "t = 15.711, df = 926, p-value < 2.2e-16\n",
       "alternative hypothesis: true correlation is not equal to 0\n",
       "95 percent confidence interval:\n",
       " 0.4064067 0.5081153\n",
       "sample estimates:\n",
       "      cor \n",
       "0.4587624 \n"
      ]
     },
     "metadata": {},
     "output_type": "display_data"
    }
   ],
   "source": [
    "cor.test(galton$parent, galton$child)"
   ]
  },
  {
   "cell_type": "markdown",
   "metadata": {},
   "source": [
    "분석결과 상관계수는 0.458이고 p값은 <2.2e-16($2.2\\times10^{16}$)으로 매우 유의한 상관관계가 있다.부모와 아이의 키를 표로 요약해본다."
   ]
  },
  {
   "cell_type": "code",
   "execution_count": 15,
   "metadata": {},
   "outputs": [
    {
     "data": {
      "text/plain": [
       "      parent\n",
       "child  64 64.5 65.5 66.5 67.5 68.5 69.5 70.5 71.5 72.5 73\n",
       "  61.7  1    1    1    0    0    1    0    1    0    0  0\n",
       "  62.2  0    1    0    3    3    0    0    0    0    0  0\n",
       "  63.2  2    4    9    3    5    7    1    1    0    0  0\n",
       "  64.2  4    4    5    5   14   11   16    0    0    0  0\n",
       "  65.2  1    1    7    2   15   16    4    1    1    0  0\n",
       "  66.2  2    5   11   17   36   25   17    1    3    0  0\n",
       "  67.2  2    5   11   17   38   31   27    3    4    0  0\n",
       "  68.2  1    0    7   14   28   34   20   12    3    1  0\n",
       "  69.2  1    2    7   13   38   48   33   18    5    2  0\n",
       "  70.2  0    0    5    4   19   21   25   14   10    1  0\n",
       "  71.2  0    0    2    0   11   18   20    7    4    2  0\n",
       "  72.2  0    0    1    0    4    4   11    4    9    7  1\n",
       "  73.2  0    0    0    0    0    3    4    3    2    2  3\n",
       "  73.7  0    0    0    0    0    0    5    3    2    4  0"
      ]
     },
     "metadata": {},
     "output_type": "display_data"
    }
   ],
   "source": [
    "xtabs(~child+parent, data=galton)"
   ]
  },
  {
   "cell_type": "markdown",
   "metadata": {},
   "source": [
    "결과표를 통해 직선관계가 있음을 알 수 있다. 이런 관계를 수학적으로 나타내기 위해 회귀분석을 사용한다.\n",
    "- R에서 선형모형 **[lm Linear Model]**을 사용\n",
    "- lm(종속변수~독립변수, 데이터)"
   ]
  },
  {
   "cell_type": "code",
   "execution_count": 16,
   "metadata": {},
   "outputs": [
    {
     "data": {
      "text/plain": [
       "\n",
       "Call:\n",
       "lm(formula = child ~ parent, data = galton)\n",
       "\n",
       "Residuals:\n",
       "    Min      1Q  Median      3Q     Max \n",
       "-7.8050 -1.3661  0.0487  1.6339  5.9264 \n",
       "\n",
       "Coefficients:\n",
       "            Estimate Std. Error t value Pr(>|t|)    \n",
       "(Intercept) 23.94153    2.81088   8.517   <2e-16 ***\n",
       "parent       0.64629    0.04114  15.711   <2e-16 ***\n",
       "---\n",
       "Signif. codes:  0 '***' 0.001 '**' 0.01 '*' 0.05 '.' 0.1 ' ' 1\n",
       "\n",
       "Residual standard error: 2.239 on 926 degrees of freedom\n",
       "Multiple R-squared:  0.2105,\tAdjusted R-squared:  0.2096 \n",
       "F-statistic: 246.8 on 1 and 926 DF,  p-value: < 2.2e-16\n"
      ]
     },
     "metadata": {},
     "output_type": "display_data"
    }
   ],
   "source": [
    "out = lm(child~parent, data=galton)\n",
    "summary(out)"
   ]
  },
  {
   "cell_type": "markdown",
   "metadata": {},
   "source": [
    "결과를 보면 **[Intercept y절편]**이 23.94, parent의 기울기는 0.65이다.\n",
    "- $ y = 0.65x + 23.94 $"
   ]
  },
  {
   "cell_type": "code",
   "execution_count": 18,
   "metadata": {},
   "outputs": [
    {
     "data": {
      "image/png": "[encoded data removed]",
      "text/plain": [
       "plot without title"
      ]
     },
     "metadata": {},
     "output_type": "display_data"
    }
   ],
   "source": [
    "plot(child~parent, data=galton)\n",
    "abline(out, col=\"red\")"
   ]
  },
  {
   "cell_type": "markdown",
   "metadata": {},
   "source": [
    "그래프를 그렸지만 개선할 부분이 있다. ggplot2 패키지의 geom_count()를 이용해 다시 그려보자."
   ]
  },
  {
   "cell_type": "code",
   "execution_count": 24,
   "metadata": {},
   "outputs": [
    {
     "data": {},
     "metadata": {},
     "output_type": "display_data"
    },
    {
     "data": {
      "image/png": "[encoded data removed]",
      "text/plain": [
       "plot without title"
      ]
     },
     "metadata": {},
     "output_type": "display_data"
    }
   ],
   "source": [
    "require(ggplot2)\n",
    "ggplot(data=galton, aes(x=parent, y=child))+geom_count()+geom_smooth(method=\"lm\")"
   ]
  }
 ],
 "metadata": {
  "kernelspec": {
   "display_name": "R 3.3",
   "language": "R",
   "name": "ir33"
  },
  "language_info": {
   "codemirror_mode": "r",
   "file_extension": ".r",
   "mimetype": "text/x-r-source",
   "name": "R",
   "pygments_lexer": "r",
   "version": "3.5.1"
  }
 },
 "nbformat": 4,
 "nbformat_minor": 2
}
