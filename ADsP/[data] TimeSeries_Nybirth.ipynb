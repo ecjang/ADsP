{
 "cells": [
  {
   "cell_type": "markdown",
   "metadata": {},
   "source": [
    "# 시계열 자료 읽기\n",
    "\n",
    "url : https://goo.gl/o6Dwi3"
   ]
  },
  {
   "cell_type": "markdown",
   "metadata": {},
   "source": [
    "## 1. 영국 왕들의 사망 데이터\n",
    "\n",
    "우선 시계열 분석을 위해 피룡한 라이브러리를 설치한다. 설치 완료 후 웹에서 데이터를 불러온다.\n",
    "- `install.packages(\"teseries\")`\n",
    "- `install.packages(\"TTR\")`\n",
    "- `install.packages(\"forecast\")`"
   ]
  },
  {
   "cell_type": "code",
   "execution_count": 1,
   "metadata": {},
   "outputs": [
    {
     "name": "stderr",
     "output_type": "stream",
     "text": [
      "Installing package into 'C:/Users/jang/Documents/R/win-library/3.5'\n",
      "(as 'lib' is unspecified)\n",
      "Warning message:\n",
      "\"package 'teseries' is not available (for R version 3.5.1)\""
     ]
    }
   ],
   "source": [
    "install.packages(\"teseries\")"
   ]
  },
  {
   "cell_type": "code",
   "execution_count": 2,
   "metadata": {},
   "outputs": [
    {
     "name": "stderr",
     "output_type": "stream",
     "text": [
      "Installing package into 'C:/Users/jang/Documents/R/win-library/3.5'\n",
      "(as 'lib' is unspecified)\n",
      "also installing the dependencies 'xts', 'zoo'\n",
      "\n"
     ]
    },
    {
     "name": "stdout",
     "output_type": "stream",
     "text": [
      "package 'xts' successfully unpacked and MD5 sums checked\n",
      "package 'zoo' successfully unpacked and MD5 sums checked\n",
      "package 'TTR' successfully unpacked and MD5 sums checked\n",
      "\n",
      "The downloaded binary packages are in\n",
      "\tC:\\Users\\jang\\AppData\\Local\\Temp\\Rtmpgh80Va\\downloaded_packages\n"
     ]
    }
   ],
   "source": [
    "install.packages(\"TTR\")"
   ]
  },
  {
   "cell_type": "code",
   "execution_count": 3,
   "metadata": {},
   "outputs": [
    {
     "name": "stderr",
     "output_type": "stream",
     "text": [
      "Installing package into 'C:/Users/jang/Documents/R/win-library/3.5'\n",
      "(as 'lib' is unspecified)\n",
      "also installing the dependencies 'quadprog', 'quantmod', 'fracdiff', 'lmtest', 'timeDate', 'tseries', 'urca', 'uroot', 'RcppArmadillo'\n",
      "\n"
     ]
    },
    {
     "name": "stdout",
     "output_type": "stream",
     "text": [
      "package 'quadprog' successfully unpacked and MD5 sums checked\n",
      "package 'quantmod' successfully unpacked and MD5 sums checked\n",
      "package 'fracdiff' successfully unpacked and MD5 sums checked\n",
      "package 'lmtest' successfully unpacked and MD5 sums checked\n",
      "package 'timeDate' successfully unpacked and MD5 sums checked\n",
      "package 'tseries' successfully unpacked and MD5 sums checked\n",
      "package 'urca' successfully unpacked and MD5 sums checked\n",
      "package 'uroot' successfully unpacked and MD5 sums checked\n",
      "package 'RcppArmadillo' successfully unpacked and MD5 sums checked\n",
      "package 'forecast' successfully unpacked and MD5 sums checked\n",
      "\n",
      "The downloaded binary packages are in\n",
      "\tC:\\Users\\jang\\AppData\\Local\\Temp\\Rtmpgh80Va\\downloaded_packages\n"
     ]
    }
   ],
   "source": [
    "install.packages(\"forecast\")"
   ]
  },
  {
   "cell_type": "markdown",
   "metadata": {},
   "source": [
    "## 2. Convert Timeseries"
   ]
  },
  {
   "cell_type": "markdown",
   "metadata": {},
   "source": [
    "시계열 분석을 위한 패키지로 TTR과 forecast를 이용한다.\n",
    "- scan() 함수로 영궁 왕들의 사망시 나이 데이터를 가져옴\n",
    "- 시계열 자료 형식으로 변환하기 위해 ts() 함수 사용\n",
    "- 사망 나이에는 특별한 주기가 없으므로 frequcency를 기본값 1로 설정"
   ]
  },
  {
   "cell_type": "code",
   "execution_count": 27,
   "metadata": {},
   "outputs": [],
   "source": [
    "library(TTR)\n",
    "library(forecast)"
   ]
  },
  {
   "cell_type": "code",
   "execution_count": 1,
   "metadata": {},
   "outputs": [],
   "source": [
    "# 데이터 로드\n",
    "kings = scan('http://robjhyndman.com/tsdldata/misc/kings.dat', skip=3)\n",
    "kingstimeseries = ts(kings)"
   ]
  },
  {
   "cell_type": "code",
   "execution_count": 5,
   "metadata": {},
   "outputs": [
    {
     "data": {
      "text/html": [
       "<ol class=list-inline>\n",
       "\t<li>60</li>\n",
       "\t<li>43</li>\n",
       "\t<li>67</li>\n",
       "\t<li>50</li>\n",
       "\t<li>56</li>\n",
       "\t<li>42</li>\n",
       "\t<li>50</li>\n",
       "\t<li>65</li>\n",
       "\t<li>68</li>\n",
       "\t<li>43</li>\n",
       "\t<li>65</li>\n",
       "\t<li>34</li>\n",
       "\t<li>47</li>\n",
       "\t<li>34</li>\n",
       "\t<li>49</li>\n",
       "\t<li>41</li>\n",
       "\t<li>13</li>\n",
       "\t<li>35</li>\n",
       "\t<li>53</li>\n",
       "\t<li>56</li>\n",
       "\t<li>16</li>\n",
       "\t<li>43</li>\n",
       "\t<li>69</li>\n",
       "\t<li>59</li>\n",
       "\t<li>48</li>\n",
       "\t<li>59</li>\n",
       "\t<li>86</li>\n",
       "\t<li>55</li>\n",
       "\t<li>68</li>\n",
       "\t<li>51</li>\n",
       "\t<li>33</li>\n",
       "\t<li>49</li>\n",
       "\t<li>67</li>\n",
       "\t<li>77</li>\n",
       "\t<li>81</li>\n",
       "\t<li>67</li>\n",
       "\t<li>71</li>\n",
       "\t<li>81</li>\n",
       "\t<li>68</li>\n",
       "\t<li>70</li>\n",
       "\t<li>77</li>\n",
       "\t<li>56</li>\n",
       "</ol>\n"
      ],
      "text/latex": [
       "\\begin{enumerate*}\n",
       "\\item 60\n",
       "\\item 43\n",
       "\\item 67\n",
       "\\item 50\n",
       "\\item 56\n",
       "\\item 42\n",
       "\\item 50\n",
       "\\item 65\n",
       "\\item 68\n",
       "\\item 43\n",
       "\\item 65\n",
       "\\item 34\n",
       "\\item 47\n",
       "\\item 34\n",
       "\\item 49\n",
       "\\item 41\n",
       "\\item 13\n",
       "\\item 35\n",
       "\\item 53\n",
       "\\item 56\n",
       "\\item 16\n",
       "\\item 43\n",
       "\\item 69\n",
       "\\item 59\n",
       "\\item 48\n",
       "\\item 59\n",
       "\\item 86\n",
       "\\item 55\n",
       "\\item 68\n",
       "\\item 51\n",
       "\\item 33\n",
       "\\item 49\n",
       "\\item 67\n",
       "\\item 77\n",
       "\\item 81\n",
       "\\item 67\n",
       "\\item 71\n",
       "\\item 81\n",
       "\\item 68\n",
       "\\item 70\n",
       "\\item 77\n",
       "\\item 56\n",
       "\\end{enumerate*}\n"
      ],
      "text/markdown": [
       "1. 60\n",
       "2. 43\n",
       "3. 67\n",
       "4. 50\n",
       "5. 56\n",
       "6. 42\n",
       "7. 50\n",
       "8. 65\n",
       "9. 68\n",
       "10. 43\n",
       "11. 65\n",
       "12. 34\n",
       "13. 47\n",
       "14. 34\n",
       "15. 49\n",
       "16. 41\n",
       "17. 13\n",
       "18. 35\n",
       "19. 53\n",
       "20. 56\n",
       "21. 16\n",
       "22. 43\n",
       "23. 69\n",
       "24. 59\n",
       "25. 48\n",
       "26. 59\n",
       "27. 86\n",
       "28. 55\n",
       "29. 68\n",
       "30. 51\n",
       "31. 33\n",
       "32. 49\n",
       "33. 67\n",
       "34. 77\n",
       "35. 81\n",
       "36. 67\n",
       "37. 71\n",
       "38. 81\n",
       "39. 68\n",
       "40. 70\n",
       "41. 77\n",
       "42. 56\n",
       "\n",
       "\n"
      ],
      "text/plain": [
       " [1] 60 43 67 50 56 42 50 65 68 43 65 34 47 34 49 41 13 35 53 56 16 43 69 59 48\n",
       "[26] 59 86 55 68 51 33 49 67 77 81 67 71 81 68 70 77 56"
      ]
     },
     "metadata": {},
     "output_type": "display_data"
    },
    {
     "name": "stdout",
     "output_type": "stream",
     "text": [
      " num [1:42] 60 43 67 50 56 42 50 65 68 43 ...\n"
     ]
    }
   ],
   "source": [
    "# kings 데이터 확인\n",
    "kings\n",
    "str(kings)"
   ]
  },
  {
   "cell_type": "code",
   "execution_count": 6,
   "metadata": {},
   "outputs": [
    {
     "data": {
      "text/plain": [
       "Time Series:\n",
       "Start = 1 \n",
       "End = 42 \n",
       "Frequency = 1 \n",
       " [1] 60 43 67 50 56 42 50 65 68 43 65 34 47 34 49 41 13 35 53 56 16 43 69 59 48\n",
       "[26] 59 86 55 68 51 33 49 67 77 81 67 71 81 68 70 77 56"
      ]
     },
     "metadata": {},
     "output_type": "display_data"
    },
    {
     "name": "stdout",
     "output_type": "stream",
     "text": [
      " Time-Series [1:42] from 1 to 42: 60 43 67 50 56 42 50 65 68 43 ...\n"
     ]
    }
   ],
   "source": [
    "# 변환 데이터 확인\n",
    "kingstimeseries\n",
    "str(kingstimeseries)"
   ]
  },
  {
   "cell_type": "code",
   "execution_count": 8,
   "metadata": {},
   "outputs": [
    {
     "data": {
      "image/png": "[encoded data removed]",
      "text/plain": [
       "plot without title"
      ]
     },
     "metadata": {},
     "output_type": "display_data"
    }
   ],
   "source": [
    "# 그래프로 출력\n",
    "plot(kingstimeseries)"
   ]
  },
  {
   "cell_type": "markdown",
   "metadata": {},
   "source": [
    "- 20번째 왕 이후로 수명이 증가함\n",
    "- 후반부 40번째 왕은 대략 70 정도까지 생존"
   ]
  },
  {
   "cell_type": "markdown",
   "metadata": {},
   "source": [
    "----"
   ]
  },
  {
   "cell_type": "markdown",
   "metadata": {},
   "source": [
    "## 3. MA 모형\n",
    "\n",
    "TTR 패키지의 SMA 기능을 사용한다. 그래프를 좀더 완만하게 그리기 위해 3년, 8년 마다 평균을 계산한다.\n",
    "- 그래프를 보면 평균이 일정치 않음을 확인 가능"
   ]
  },
  {
   "cell_type": "code",
   "execution_count": 13,
   "metadata": {},
   "outputs": [
    {
     "data": {
      "image/png": "[encoded data removed]",
      "text/plain": [
       "plot without title"
      ]
     },
     "metadata": {},
     "output_type": "display_data"
    }
   ],
   "source": [
    "kings.sma3 <- SMA(kingstimeseries, n=3)\n",
    "kings.sma8 <- SMA(kingstimeseries, n=8)\n",
    "\n",
    "par(mfrow=c(2,1))\n",
    "plot(kings.sma3)\n",
    "plot(kings.sma8)"
   ]
  },
  {
   "cell_type": "markdown",
   "metadata": {},
   "source": [
    "----"
   ]
  },
  {
   "cell_type": "markdown",
   "metadata": {},
   "source": [
    "## ARIMA 모형\n",
    "\n",
    "ARIMA모형은 정상성시계열에 한해 사용하며 비정상시계열은 차분을 통해 정상성으로 변환한다. \n",
    "- 1차 차분 : 평균과 분산이 시간에 의존하지 않음을 그래프를 통해 확인"
   ]
  },
  {
   "cell_type": "code",
   "execution_count": 22,
   "metadata": {},
   "outputs": [
    {
     "data": {
      "image/png": "[encoded data removed]",
      "text/plain": [
       "plot without title"
      ]
     },
     "metadata": {},
     "output_type": "display_data"
    }
   ],
   "source": [
    "# 1차 차분\n",
    "kings.diff1 <- diff(kingstimeseries, differences = 1)\n",
    "plot(kings.diff1)"
   ]
  },
  {
   "cell_type": "markdown",
   "metadata": {},
   "source": [
    "- 분산이 비교적 일정해보이니 ARMIA 모형 적용 가능\n",
    "- ACF와 PACF를 통해 적합한 ARIMA 모형 검색 필요\n",
    "- 정상성을 가지니 ARMIA(p,1,q)임을 확인, 그러므로 p, q를 찾아야함."
   ]
  },
  {
   "cell_type": "code",
   "execution_count": 23,
   "metadata": {},
   "outputs": [
    {
     "data": {
      "image/png": "[encoded data removed]",
      "text/plain": [
       "Plot with title \"Series  kings.diff1\""
      ]
     },
     "metadata": {},
     "output_type": "display_data"
    }
   ],
   "source": [
    "# ACF 그래프 \n",
    "# 구간을 20으로 설정\n",
    "acf(kings.diff1, lag.max=20)  "
   ]
  },
  {
   "cell_type": "markdown",
   "metadata": {},
   "source": [
    "- 1 시점까진 점선 위로 나오지만 2시점 부터는 줄어듬\n",
    "- q=1일 가능성이 높음"
   ]
  },
  {
   "cell_type": "code",
   "execution_count": 24,
   "metadata": {},
   "outputs": [
    {
     "data": {
      "image/png": "[encoded data removed]",
      "text/plain": [
       "Plot with title \"Series  kings.diff1\""
      ]
     },
     "metadata": {},
     "output_type": "display_data"
    }
   ],
   "source": [
    "# PACF 그래프 확인\n",
    "pacf(kings.diff1, lag.max=20)"
   ]
  },
  {
   "cell_type": "markdown",
   "metadata": {},
   "source": [
    "- 1,2,3까지는 점선 밖으로 나오지만 4부터는 나오지 않음\n",
    "- p는 3일 확률이 노음\n",
    "- 후보는 ARIMA(3,0), ARIMA(0,1)이고 1번 차분했으므로 d=1\n",
    "- 정리하면 ARIMA(3,1,0), ARIMA(0,1,1) 2개의 모델을 생성"
   ]
  },
  {
   "cell_type": "code",
   "execution_count": 25,
   "metadata": {},
   "outputs": [
    {
     "data": {
      "text/plain": [
       "Series: kingstimeseries \n",
       "ARIMA(0,1,1) \n",
       "\n",
       "Coefficients:\n",
       "          ma1\n",
       "      -0.7218\n",
       "s.e.   0.1208\n",
       "\n",
       "sigma^2 estimated as 236.2:  log likelihood=-170.06\n",
       "AIC=344.13   AICc=344.44   BIC=347.56"
      ]
     },
     "metadata": {},
     "output_type": "display_data"
    }
   ],
   "source": [
    "# 적합한 ARMIA 모형 찾기\n",
    "# ACG 확인 절단점 : 2\n",
    "kings.arima <- auto.arima(kingstimeseries)\n",
    "kings.arima"
   ]
  },
  {
   "cell_type": "markdown",
   "metadata": {},
   "source": [
    "----"
   ]
  },
  {
   "cell_type": "markdown",
   "metadata": {},
   "source": [
    "## Analysis\n",
    "\n",
    "초기 데이터를 통해 분석해본다."
   ]
  },
  {
   "cell_type": "code",
   "execution_count": 30,
   "metadata": {},
   "outputs": [
    {
     "data": {
      "text/plain": [
       "   Point Forecast    Lo 80    Hi 80    Lo 95     Hi 95\n",
       "43       67.75063 48.05479 87.44646 37.62845  97.87281\n",
       "44       67.75063 47.30662 88.19463 36.48422  99.01703\n",
       "45       67.75063 46.58489 88.91637 35.38042 100.12084\n",
       "46       67.75063 45.88696 89.61429 34.31304 101.18822\n",
       "47       67.75063 45.21064 90.29062 33.27869 102.22257\n",
       "48       67.75063 44.55402 90.94723 32.27448 103.22678\n",
       "49       67.75063 43.91549 91.58577 31.29793 104.20333\n",
       "50       67.75063 43.29362 92.20763 30.34687 105.15439\n",
       "51       67.75063 42.68718 92.81408 29.41939 106.08187\n",
       "52       67.75063 42.09507 93.40619 28.51383 106.98742"
      ]
     },
     "metadata": {},
     "output_type": "display_data"
    }
   ],
   "source": [
    "king.forecasts <- forecast(kings.arima)\n",
    "king.forecasts"
   ]
  },
  {
   "cell_type": "markdown",
   "metadata": {},
   "source": [
    "- 분석 결과 43번째부터 52번째까지 예측됨\n",
    "- 첫번째 칼럼이 Time, 두번째 칼럼이 Point Forcasts\n",
    "- 그 뒤는 각각 80%, 95%의 신뢰구간의 값들이 표시"
   ]
  },
  {
   "cell_type": "code",
   "execution_count": 32,
   "metadata": {},
   "outputs": [
    {
     "data": {
      "text/html": [
       "<table>\n",
       "<thead><tr><th></th><th scope=col>Point Forecast</th><th scope=col>Lo 80</th><th scope=col>Hi 80</th><th scope=col>Lo 95</th><th scope=col>Hi 95</th></tr></thead>\n",
       "<tbody>\n",
       "\t<tr><th scope=row>43</th><td>67.75063 </td><td>48.05479 </td><td>87.44646 </td><td>37.62845 </td><td> 97.87281</td></tr>\n",
       "\t<tr><th scope=row>44</th><td>67.75063 </td><td>47.30662 </td><td>88.19463 </td><td>36.48422 </td><td> 99.01703</td></tr>\n",
       "\t<tr><th scope=row>45</th><td>67.75063 </td><td>46.58489 </td><td>88.91637 </td><td>35.38042 </td><td>100.12084</td></tr>\n",
       "\t<tr><th scope=row>46</th><td>67.75063 </td><td>45.88696 </td><td>89.61429 </td><td>34.31304 </td><td>101.18822</td></tr>\n",
       "\t<tr><th scope=row>47</th><td>67.75063 </td><td>45.21064 </td><td>90.29062 </td><td>33.27869 </td><td>102.22257</td></tr>\n",
       "\t<tr><th scope=row>48</th><td>67.75063 </td><td>44.55402 </td><td>90.94723 </td><td>32.27448 </td><td>103.22678</td></tr>\n",
       "\t<tr><th scope=row>49</th><td>67.75063 </td><td>43.91549 </td><td>91.58577 </td><td>31.29793 </td><td>104.20333</td></tr>\n",
       "\t<tr><th scope=row>50</th><td>67.75063 </td><td>43.29362 </td><td>92.20763 </td><td>30.34687 </td><td>105.15439</td></tr>\n",
       "\t<tr><th scope=row>51</th><td>67.75063 </td><td>42.68718 </td><td>92.81408 </td><td>29.41939 </td><td>106.08187</td></tr>\n",
       "\t<tr><th scope=row>52</th><td>67.75063 </td><td>42.09507 </td><td>93.40619 </td><td>28.51383 </td><td>106.98742</td></tr>\n",
       "</tbody>\n",
       "</table>\n"
      ],
      "text/latex": [
       "\\begin{tabular}{r|lllll}\n",
       "  & Point Forecast & Lo 80 & Hi 80 & Lo 95 & Hi 95\\\\\n",
       "\\hline\n",
       "\t43 & 67.75063  & 48.05479  & 87.44646  & 37.62845  &  97.87281\\\\\n",
       "\t44 & 67.75063  & 47.30662  & 88.19463  & 36.48422  &  99.01703\\\\\n",
       "\t45 & 67.75063  & 46.58489  & 88.91637  & 35.38042  & 100.12084\\\\\n",
       "\t46 & 67.75063  & 45.88696  & 89.61429  & 34.31304  & 101.18822\\\\\n",
       "\t47 & 67.75063  & 45.21064  & 90.29062  & 33.27869  & 102.22257\\\\\n",
       "\t48 & 67.75063  & 44.55402  & 90.94723  & 32.27448  & 103.22678\\\\\n",
       "\t49 & 67.75063  & 43.91549  & 91.58577  & 31.29793  & 104.20333\\\\\n",
       "\t50 & 67.75063  & 43.29362  & 92.20763  & 30.34687  & 105.15439\\\\\n",
       "\t51 & 67.75063  & 42.68718  & 92.81408  & 29.41939  & 106.08187\\\\\n",
       "\t52 & 67.75063  & 42.09507  & 93.40619  & 28.51383  & 106.98742\\\\\n",
       "\\end{tabular}\n"
      ],
      "text/markdown": [
       "\n",
       "| <!--/--> | Point Forecast | Lo 80 | Hi 80 | Lo 95 | Hi 95 | \n",
       "|---|---|---|---|---|---|---|---|---|---|\n",
       "| 43 | 67.75063  | 48.05479  | 87.44646  | 37.62845  |  97.87281 | \n",
       "| 44 | 67.75063  | 47.30662  | 88.19463  | 36.48422  |  99.01703 | \n",
       "| 45 | 67.75063  | 46.58489  | 88.91637  | 35.38042  | 100.12084 | \n",
       "| 46 | 67.75063  | 45.88696  | 89.61429  | 34.31304  | 101.18822 | \n",
       "| 47 | 67.75063  | 45.21064  | 90.29062  | 33.27869  | 102.22257 | \n",
       "| 48 | 67.75063  | 44.55402  | 90.94723  | 32.27448  | 103.22678 | \n",
       "| 49 | 67.75063  | 43.91549  | 91.58577  | 31.29793  | 104.20333 | \n",
       "| 50 | 67.75063  | 43.29362  | 92.20763  | 30.34687  | 105.15439 | \n",
       "| 51 | 67.75063  | 42.68718  | 92.81408  | 29.41939  | 106.08187 | \n",
       "| 52 | 67.75063  | 42.09507  | 93.40619  | 28.51383  | 106.98742 | \n",
       "\n",
       "\n"
      ],
      "text/plain": [
       "   Point Forecast Lo 80    Hi 80    Lo 95    Hi 95    \n",
       "43 67.75063       48.05479 87.44646 37.62845  97.87281\n",
       "44 67.75063       47.30662 88.19463 36.48422  99.01703\n",
       "45 67.75063       46.58489 88.91637 35.38042 100.12084\n",
       "46 67.75063       45.88696 89.61429 34.31304 101.18822\n",
       "47 67.75063       45.21064 90.29062 33.27869 102.22257\n",
       "48 67.75063       44.55402 90.94723 32.27448 103.22678\n",
       "49 67.75063       43.91549 91.58577 31.29793 104.20333\n",
       "50 67.75063       43.29362 92.20763 30.34687 105.15439\n",
       "51 67.75063       42.68718 92.81408 29.41939 106.08187\n",
       "52 67.75063       42.09507 93.40619 28.51383 106.98742"
      ]
     },
     "metadata": {},
     "output_type": "display_data"
    }
   ],
   "source": [
    "king.forecasts.table <- as.data.frame(king.forecasts)\n",
    "king.forecasts.table"
   ]
  },
  {
   "cell_type": "markdown",
   "metadata": {},
   "source": [
    "----"
   ]
  }
 ],
 "metadata": {
  "kernelspec": {
   "display_name": "R",
   "language": "R",
   "name": "ir"
  },
  "language_info": {
   "codemirror_mode": "r",
   "file_extension": ".r",
   "mimetype": "text/x-r-source",
   "name": "R",
   "pygments_lexer": "r",
   "version": "3.5.1"
  }
 },
 "nbformat": 4,
 "nbformat_minor": 2
}
