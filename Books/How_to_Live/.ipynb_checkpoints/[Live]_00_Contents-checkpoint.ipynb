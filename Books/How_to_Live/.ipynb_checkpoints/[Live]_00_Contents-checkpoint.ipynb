{
 "cells": [
  {
   "cell_type": "markdown",
   "metadata": {},
   "source": [
    "----"
   ]
  },
  {
   "cell_type": "markdown",
   "metadata": {},
   "source": [
    "**<center>- PROLOGUE -</center>**"
   ]
  },
  {
   "cell_type": "markdown",
   "metadata": {},
   "source": [
    "# 나답게 살기"
   ]
  },
  {
   "cell_type": "markdown",
   "metadata": {},
   "source": [
    "내 인생을 관통한 목표와 원칙은 있었는지 있었다면 무엇이었는지, 내 삶을 지배한 감정과 욕망은 어떤 것이었는지, 과연 나는 내게 맞는 삶을 살았는지 살펴보는 일이 앞으로도 짧지 않은 시간을 살게 될 내 자신에게 만큼은 의미가 있을 거 같았다. "
   ]
  },
  {
   "cell_type": "markdown",
   "metadata": {},
   "source": [
    "이책을 쓰면서 오랫동안 덮어두어던 내 내면을 직시할 기회를 가졌고 그것을 드러낼 용기를 냈다. 정치적 올바름을 위해 감추거나 꾸미는 습관과 결별했따. 내 자신의 욕망을 더 긍정적으로 대하게 되었다. 마음이 내는 소리를 들었다. 삶을 얽어맸던 관념의 속박을 풀어버렸다. 원래의 나, 되고 싶었던 나에게 한 걸음 다가섰다. 그렇게 해서 내가 원하는 삶을 나답게 살기로 마음먹었다."
   ]
  },
  {
   "cell_type": "markdown",
   "metadata": {},
   "source": [
    "삶의 기쁨, 존재의 의미, 인생의 품격을 찾으려고 고민하는 모든 분들께 건투를 빈다. 그 무엇도 의미있는 삶을 찾으려고 분투하는 그대를을 막아서지 못할 것이다."
   ]
  },
  {
   "cell_type": "markdown",
   "metadata": {},
   "source": [
    "- 2013년 3월 자유인의 서재에서 유시민"
   ]
  },
  {
   "cell_type": "markdown",
   "metadata": {},
   "source": [
    "----"
   ]
  },
  {
   "cell_type": "markdown",
   "metadata": {},
   "source": [
    "**<center>- CONTENTS -</center>**"
   ]
  },
  {
   "cell_type": "markdown",
   "metadata": {},
   "source": [
    "# 차례"
   ]
  },
  {
   "cell_type": "markdown",
   "metadata": {},
   "source": [
    "## 1장. 어떻게 살것인가\n",
    "\n",
    "1. 마음 가는 대로 살자  18\n",
    "1. 내 인생은 나의 것  29\n",
    "1. 왜 자살하지 않는가  40\n",
    "1. 위로가 힘이 될까  50\n",
    "1. 놀고 일하고 사랑하고 연대하라  57"
   ]
  },
  {
   "cell_type": "markdown",
   "metadata": {},
   "source": [
    "## 2장. 어떻게 죽을 것인가\n",
    "\n",
    "1. 죽음이라는 운명  66\n",
    "1. 남자의 마흔살  72\n",
    "1. 나도 죽고 싶었을 때가 있었다  79\n",
    "1. 찬 이성 더운 가슴  91\n",
    "1. 타인의 죽음과 나의 죽음  97\n",
    "1. 나는 무엇인가  105\n",
    "1. 레이건의 작별인사  116\n",
    "1. 존엄한 죽음  122\n",
    "1. 자유의지  136"
   ]
  },
  {
   "cell_type": "markdown",
   "metadata": {},
   "source": [
    "## 3장. 놀고 일하고 사랑하고 연대하라\n",
    "\n",
    "1. 쓸모 있는 사람 되기  148\n",
    "1. 즐거운 일을 잘하는 것  158\n",
    "1. 재능 없는 열정의 비극  167\n",
    "1. 옮은 일을 필요할 때 친절하게  176\n",
    "1. 문재인과 안철수, 도덕과 욕망  187\n",
    "1. 떳떳하게 놀기  196\n",
    "1. 사랑은 싹이 난 감자맛  203\n",
    "1. 아이들을 올바르게 사랑하는 방법  2011\n",
    "1. 품격있게 나이를 먹는 비결  219\n",
    "1. 글쓰기로 돌아오다  235\n",
    "1. 진보의 생물학  249"
   ]
  },
  {
   "cell_type": "markdown",
   "metadata": {},
   "source": [
    "## 4장. 삶을 망치는 헛된 생각들\n",
    "\n",
    "1. 신념의 도구가 되는 것  266\n",
    "1. 불운을 어찌할 것인가 281\n",
    "1. 출생이라는 제비뽑기  292\n",
    "1. 나는 영생이 싫다  302\n",
    "1. 영원한 것에 대한 갈망  310\n",
    "1. 육체와 분리된 영혼  316\n",
    "1. 이름 남기기 323"
   ]
  },
  {
   "cell_type": "markdown",
   "metadata": {},
   "source": [
    "## 에필로그. 현명하게 지구를 떠나는 방법"
   ]
  },
  {
   "cell_type": "markdown",
   "metadata": {},
   "source": [
    "----"
   ]
  }
 ],
 "metadata": {
  "kernelspec": {
   "display_name": "Python 3",
   "language": "python",
   "name": "python3"
  },
  "language_info": {
   "codemirror_mode": {
    "name": "ipython",
    "version": 3
   },
   "file_extension": ".py",
   "mimetype": "text/x-python",
   "name": "python",
   "nbconvert_exporter": "python",
   "pygments_lexer": "ipython3",
   "version": "3.7.0"
  }
 },
 "nbformat": 4,
 "nbformat_minor": 2
}
