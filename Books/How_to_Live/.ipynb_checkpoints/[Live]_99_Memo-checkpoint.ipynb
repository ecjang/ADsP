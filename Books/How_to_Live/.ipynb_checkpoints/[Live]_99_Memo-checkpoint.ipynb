{
 "cells": [
  {
   "cell_type": "markdown",
   "metadata": {},
   "source": [
    "----"
   ]
  },
  {
   "cell_type": "markdown",
   "metadata": {},
   "source": [
    "**<center>- PROLOGUE -</center>**"
   ]
  },
  {
   "cell_type": "markdown",
   "metadata": {},
   "source": [
    "내 인생을 관통한 목표와 원칙은 있었는지 있었다면 무엇이었는지, 내 삶을 지배한 감정과 욕망은 어떤 것이었는지, 과연 나는 내게 맞는 삶을 살았는지 살펴보는 일이 앞으로도 짧지 않은 시간을 살게 될 내 자신에게 만큼은 의미가 있을 거 같았다. "
   ]
  },
  {
   "cell_type": "markdown",
   "metadata": {},
   "source": [
    "----"
   ]
  }
 ],
 "metadata": {
  "kernelspec": {
   "display_name": "Python 3",
   "language": "python",
   "name": "python3"
  },
  "language_info": {
   "codemirror_mode": {
    "name": "ipython",
    "version": 3
   },
   "file_extension": ".py",
   "mimetype": "text/x-python",
   "name": "python",
   "nbconvert_exporter": "python",
   "pygments_lexer": "ipython3",
   "version": "3.7.0"
  }
 },
 "nbformat": 4,
 "nbformat_minor": 2
}
