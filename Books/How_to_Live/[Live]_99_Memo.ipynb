{
 "cells": [
  {
   "cell_type": "markdown",
   "metadata": {},
   "source": [
    "----"
   ]
  },
  {
   "cell_type": "markdown",
   "metadata": {},
   "source": [
    "**<center>- MEMO -</center>**"
   ]
  },
  {
   "cell_type": "markdown",
   "metadata": {},
   "source": [
    "내 인생을 관통한 목표와 원칙은 있었는지 있었다면 무엇이었는지, 내 삶을 지배한 감정과 욕망은 어떤 것이었는지, 과연 나는 내게 맞는 삶을 살았는지 살펴보는 일이 앞으로도 짧지 않은 시간을 살게 될 내 자신에게 만큼은 의미가 있을 거 같았다. \n",
    "\n",
    "청년은 아기가 아니다. 삶의 의미는 사회가 찾아주지도 않고 찾아줄 수도 없으며 찾아주어서도 안 되기 때문에 자기가 직접 찾아야 한다. p.51\n",
    "\n",
    "돈을 받고 타인을 폭행한 것은 형법상 범죄일 뿐만 아니라 타인과 자신의 존엄을 동시에 해친다. p.54\n",
    "\n"
   ]
  },
  {
   "cell_type": "markdown",
   "metadata": {},
   "source": [
    "----"
   ]
  }
 ],
 "metadata": {
  "kernelspec": {
   "display_name": "Python 3",
   "language": "python",
   "name": "python3"
  },
  "language_info": {
   "codemirror_mode": {
    "name": "ipython",
    "version": 3
   },
   "file_extension": ".py",
   "mimetype": "text/x-python",
   "name": "python",
   "nbconvert_exporter": "python",
   "pygments_lexer": "ipython3",
   "version": "3.7.0"
  }
 },
 "nbformat": 4,
 "nbformat_minor": 2
}
