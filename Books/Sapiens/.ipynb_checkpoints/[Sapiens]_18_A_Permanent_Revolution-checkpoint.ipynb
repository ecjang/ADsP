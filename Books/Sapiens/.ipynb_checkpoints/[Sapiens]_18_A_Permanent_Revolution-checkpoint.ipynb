{
 "cells": [
  {
   "cell_type": "markdown",
   "metadata": {},
   "source": [
    "####  4부. 과학혁명\n",
    "\n",
    "# 18. 끝없는 혁명"
   ]
  },
  {
   "cell_type": "markdown",
   "metadata": {},
   "source": [
    "세상이 호모 사피엔스의 필요에 맞게 변형되고, 생태계가 파괴되고 종들은 멸종의 길을 걸었다. 과거 녹색과 푸른색이었던 우리의 행성은 이제 콘크리트와 플라스틱으로 만든 쇼핑센터가 되어가고 있는 중이다. 지구상에서는 70억명이 넘은 사피엔스들이 살고 있다. 모든 사람들을 거대한 저울에 올려놓는다면 그 무게는 약 3억톤이 될 것이다. 그리고 우리가 가축화한 농장의 동물(암소, 돼지, 양, 닭 등)을 더 거대한 저울에 세운다면 약 7억톤에 달할 것이다.\n",
    "\n",
    "이와 대조적으로 현재 살아있는 야샹동물(심지어 고래까지 포함해도)의 무게를 모두 합혀도 1억톤에 못 미친다. **인류는 정말로 지구를 접수했다.** 생태계의 파괴에 대한 두려움은 너무나 확실하다. 미래의 사피엔스는 온갖 원자재와 에너지원의 보고를 손에 넣되 겨우 남아 있는 서식지를 파괴하고 대부분의 종을 멸종시킬지도 모른다.\n",
    "\n",
    "인류가 자신의 힘으로 자연의 힘에 대항하고 생택를 자신의 필요와 변덕에 종속시킨다면, 미처 예상하지 모한 위험한 부작용을 더 많이 초래할지 모른다. 이를 통제하는 방법은 생태계를 극적으로 조작하는 것인데, 이것은 더더욱 큰 혼란을 초래할 것이다. **많은 사람들은 이것을 자연파괴라고 부른다.** 하지만 이것은 사실 파괴가 아니라 변형이다.**자연은 파괴되지 않는다.** 6,500년 전, 소행성이 공룡을 쓸어버렸지만, 그럼으로써 포유류가 번성할 수 있는 길이 열렸다.\n",
    "\n",
    "산업혁명 아래 세계 인구는 사상 유래없이 급증했다. 1700년 세계 인구는 7억명이었다. 1800년에는 9억 5천만명이었다. 1900년이 되자 거의 2배로 늘어 16억 명이 되었고, 2000년에는 4배로 늘어 60억명이 되었다. 오늘날에는 70억명이 약간 넘는다."
   ]
  },
  {
   "cell_type": "markdown",
   "metadata": {},
   "source": [
    "----"
   ]
  },
  {
   "cell_type": "markdown",
   "metadata": {},
   "source": [
    "### 18_1. 현대의 시간"
   ]
  },
  {
   "cell_type": "markdown",
   "metadata": {},
   "source": [
    "산업혁명의 결과 사회공학적 실험이 계속해서 이어졌다. 많은 변화 중 하나는 전통농업의 리듬이 산업의 획일적이고 정밀한 스케쥴로 대체된 것이다."
   ]
  },
  {
   "cell_type": "markdown",
   "metadata": {},
   "source": []
  },
  {
   "cell_type": "markdown",
   "metadata": {},
   "source": []
  },
  {
   "cell_type": "markdown",
   "metadata": {},
   "source": []
  },
  {
   "cell_type": "markdown",
   "metadata": {},
   "source": []
  },
  {
   "cell_type": "markdown",
   "metadata": {},
   "source": [
    "-----"
   ]
  }
 ],
 "metadata": {
  "kernelspec": {
   "display_name": "Python 3",
   "language": "python",
   "name": "python3"
  },
  "language_info": {
   "codemirror_mode": {
    "name": "ipython",
    "version": 3
   },
   "file_extension": ".py",
   "mimetype": "text/x-python",
   "name": "python",
   "nbconvert_exporter": "python",
   "pygments_lexer": "ipython3",
   "version": "3.7.0"
  }
 },
 "nbformat": 4,
 "nbformat_minor": 2
}
