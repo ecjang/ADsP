{
 "cells": [
  {
   "cell_type": "markdown",
   "metadata": {},
   "source": [
    "# 한국의 독자들에게\n"
   ]
  },
  {
   "cell_type": "markdown",
   "metadata": {},
   "source": [
    "```\n",
    "스스로 '우리는 누구인가, 어디에서 왔는가, 어떻게 해서 이처럼 막대한 힘을 얻게 되었는가'를 이해하는데 도움이 되기를 소망한다. 또한 이 같은 이해 덕분에 생명의 미래에 대해 우리가 더 현명한 결정을 내릴 수 있기를 소망한다.\n",
    "\n",
    "한국은 다른 어느 지역보다 오늘날 우리가 직면한 딜레마를 더욱 압축해서 보여주고 있다. 한 세기 안에 전쟁과 식민지배를 겪었고, 매우 짧은 기간 망엔 저개발 진통 사회에서 신흥 경제 국가이자 세계에서 가장 앞선 기술력을 가진 나라 중 하나로 성장했다. GDP와 생활수준이 극적으로 올라가는 동안 자살률도 치솟았다.  그래서 한국은 선진국중 최고의 자살률을 기록하고 있다.\n",
    "\n",
    "인간은 권력을 획득하는데 능하지만 권력을 행복으로 전환하는 데는 그리 능하지 못하다.\n",
    "\n",
    "현명한 선택을 할지의 여부는 우리 모두의 손에 달렸다.\n",
    "```"
   ]
  },
  {
   "cell_type": "markdown",
   "metadata": {},
   "source": [
    "---"
   ]
  },
  {
   "cell_type": "markdown",
   "metadata": {},
   "source": [
    "## 제 1부 인지 혁명\n",
    "1. 별로 중요치 않은 동물\n",
    "2. 지식의 나무\n",
    "3. 아담과 이브가 보낸 어느 날\n",
    "4. 대홍수"
   ]
  },
  {
   "cell_type": "markdown",
   "metadata": {},
   "source": [
    "## 제 2부 농업혁명\n",
    "\n",
    "\n",
    "### 5. 역사상 최대의 위기\n",
    "\n",
    "5-1. 사치라는 덫 : 농업혁명의 역설. 많은 생산량, 늘어난 식구, 더 많은 생산량의 필요\n",
    "\n",
    "5-2. 신성한 게임 : 괴베틀리 테페 유적, 밀의 작물과, 밀의 인간 길들이기\n",
    "\n",
    "5-3. 혁명의 희생자들 : 진화적 성공과 개체의 고통의 괴리\n",
    "\n",
    "\n",
    "\n",
    "### 6. 피라미드 건설하기\n",
    "\n",
    "6_1. 상상 속의 질서 : 함무바리 법전과 미국 독립선언서의 공통점과 차이점. 대규모 협력의 시작\n",
    "\n",
    "6_2. 진정한 신자들 : 상상속의 질서를 유지하기 위해 필요한 것.\n",
    "\n",
    "6_3. 교도소의 답장 : 질서를 지키기 위한 교육. 물질세계, 욕망 결정권, 상호주관적. 엄청난 감옥\n",
    "\n",
    "\n",
    "\n",
    "### 7. 메모리 과부하\n",
    "\n",
    "7_1. 쿠심이 서명했다 : 최초의 문자. 수메르 언어. 숫자의 등장\n",
    "\n",
    "7_2. 관료주의의 불가사이 : 기록 못지 않게 중요한 관리 시스템\n",
    "\n",
    "7_3. 숫자라는 언어 : 숫자의 힘. 세상을 지배하는 숫자.\n",
    "\n",
    "\n",
    "### 8. 역사에 정의는 없다.\n",
    "\n",
    "8_1 악순환 : 시간이 흐름에 따라 더 심해지는 차별\n",
    "\n",
    "8_2 미국에서 청결 문제 : 미국에서 흑인 차별법\n",
    "\n",
    "8_3 그와 그녀 : 남자와 영자의 차이 \n",
    "\n",
    "8_4 생물학적 성과 사회적 성 : 사회에서 요구하는 남성성과 여성성\n",
    "\n",
    "8_5 남자가 뭐가 그리 좋을까? : 전세계적인 가부장제 확장\n",
    "\n",
    "8_6 근력 : 남자 근력으로 지배\n",
    "\n",
    "8_7 사회의 쓰래기 : 군대를 통솔하는 남자\n",
    "\n",
    "8_8 가부장적 유전자 : 모계사회의 동물들, 여성 유전자의 장점\n"
   ]
  },
  {
   "cell_type": "markdown",
   "metadata": {},
   "source": [
    "## 제 3부 인류의 통합\n",
    "\n",
    "### 9. 역사의 화살\n",
    "\n",
    "9_1. 정찰위성 : 범람하는 지구화되 뒤석인 문화\n",
    "\n",
    "9_2. 지구적 비전 : 공통의 질서 화폐, 제국, 종교\n",
    "\n",
    "### 10. 돈의 향기\n",
    "\n",
    "10_1. 가격이 얼마인가요? : 물물교환 시절의 교환비 문제, 화폐의 계시\n",
    "\n",
    "10_2. 조가비와 담배 : 최초의 화폐, 화폐의 필요성\n",
    "\n",
    "10_3. 돈은 어떻게 작동하는가? : 돈의 의미, 돈으로서의 필수요소, 최초의 돈\n",
    "\n",
    "10_4. 금이라는 복음 : 인류의 최대의 신뢰시스템의 구축 원리\n",
    "\n",
    "### 11. 제국의 비전\n",
    "\n",
    "### 12. 종교의 법칙\n",
    "\n",
    "### 13. 성공의 비결"
   ]
  },
  {
   "cell_type": "markdown",
   "metadata": {},
   "source": [
    "## 제 4부 과학혁명\n",
    "\n",
    "### 14. 무지의 발견\n",
    "\n",
    "### 15. 과학과 제국의 결혼\n",
    "\n",
    "### 16. 자본주의의 교리\n",
    "\n",
    "### 17. 산업의 바퀴\n",
    "\n",
    "### 18. 끝없는 혁명\n",
    "\n",
    "### 19. 그리고 그들은 행복하게 살았다\n",
    "\n",
    "### 20. 호모 사피엔스의 종말"
   ]
  },
  {
   "cell_type": "markdown",
   "metadata": {},
   "source": [
    "```\n",
    "\n",
    "Part One. The cognitive revolution.\n",
    "An animal of no significance\n",
    "The tree of knowledge\n",
    "A day in the life of Adam and Eve\n",
    "The flood \n",
    "\n",
    "Part Two. The agricultural revolution. History's biggest fraud\n",
    "Building pyramids\n",
    "Memory overload\n",
    "There is no justice in history \n",
    "\n",
    "Part Three. The unification of humankind. The arrow of history\n",
    "The scent of money\n",
    "Imperial visions\n",
    "The law of religion\n",
    "The secret of success \n",
    "\n",
    "Part Four. The scientific revolution. The discovery of ignorance\n",
    "The marriage of science and empire\n",
    "The capitalist creed\n",
    "The wheels of industry\n",
    "A permanent revolution\n",
    "And they lived happily ever after\n",
    "The end of Homo sapiens \n",
    "\n",
    " Afterword : The animal that became a god. \n",
    " ```"
   ]
  },
  {
   "cell_type": "markdown",
   "metadata": {},
   "source": [
    "----"
   ]
  }
 ],
 "metadata": {
  "kernelspec": {
   "display_name": "Python 3",
   "language": "python",
   "name": "python3"
  },
  "language_info": {
   "codemirror_mode": {
    "name": "ipython",
    "version": 3
   },
   "file_extension": ".py",
   "mimetype": "text/x-python",
   "name": "python",
   "nbconvert_exporter": "python",
   "pygments_lexer": "ipython3",
   "version": "3.7.0"
  }
 },
 "nbformat": 4,
 "nbformat_minor": 2
}
