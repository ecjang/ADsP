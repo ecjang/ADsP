{
 "cells": [
  {
   "cell_type": "markdown",
   "metadata": {},
   "source": [
    "####  4부. 과학혁명\n",
    "\n",
    "# 14. 무지의 발견"
   ]
  },
  {
   "cell_type": "markdown",
   "metadata": {},
   "source": [
    "지난 5백 년간 인간의 힘은 경의적으로 유래가 없을 만큼 커졌다. 1500년 지구 전체에 살고 있는 호모 사피엔스는 5억 명인 반면 오늘날에는 70억 명인 산다. \n",
    "\n",
    "| 시기 | 인구 | 재화 가치 | 하루 소비 에너지 | \n",
    "| ---- | ---- | --------- | ------------- | \n",
    "| 1500년 | 5억명 | 총 2,500억 달러 | 약 13조 칼로리 |\n",
    "| 현대 | 70억명  | 연간 60조 달러 | 1,500조 칼로리 |\n",
    "\n",
    "\n",
    "현대의 전함 한 대가 콜롬버스 시대로 옮겨졌다고 상상해보자. 이 배는 니냐, 핀타, 산타마리아 호를 몇 초 만에 널판지 조각으로 만 들 수 있고, 당시 열강들의 모든 군함을 격침시키면서도긁힌 자국 하나 없을 것이다. 현대의 화물선 5척이면 당시 세계의 모든 상단이 실어 나르는 짐을 실을 수 있다. 현대의 컴퓨터 한 대면 중세의 모든 도서관에 있는 사본과 두루마리에 있는 단어와 숫자들을 저장하고도 공간이 넉넉히 남았을 것이다. \n",
    "\n",
    "역사의 대부분 기간동안, 인상은 지구상의 생명체 중 약 99.99%에 대해 아무것도 몰랐다. 미생물말이다. 인간의 눈이 미생물을 처음 본 것은 1674년이 되어서였다. 안톤 판 레이우엔훅이 집에서 만든 현미경으로 엿본 세계는 놀라웠다. 그 후 3백 년간 인류는 현미경으로만 보이는 엄청난 숫자의 미생물을 알게 되었다. \n",
    "\n",
    "하지만 지난 5백 년간 가장 눈에 띄는 단 하나의 결정적 순간은 **1945년 7월 16일 오전 5시 29분 45초**였다. 정확히 그 때 미국 과학자들은 앨러머고도 사막에 첫 원자폭탄을 터뜨렸다.\n",
    "\n",
    "\n"
   ]
  },
  {
   "cell_type": "markdown",
   "metadata": {},
   "source": [
    "\n",
    "\n",
    "| 시기 | 인구 | 재화 가치 | 하루 소비 에너지 | \n",
    "| ---- | ---- | --------- | ------------- | \n",
    "| 1500년 | 5억명 | 총 2,500억 달러 | 약 13조 칼로리 |\n",
    "| 현대 | 70억명  | 연간 60조 달러 | 1,500조 칼로리 |"
   ]
  },
  {
   "cell_type": "code",
   "execution_count": null,
   "metadata": {},
   "outputs": [],
   "source": []
  },
  {
   "cell_type": "code",
   "execution_count": null,
   "metadata": {},
   "outputs": [],
   "source": []
  },
  {
   "cell_type": "code",
   "execution_count": null,
   "metadata": {},
   "outputs": [],
   "source": []
  },
  {
   "cell_type": "code",
   "execution_count": null,
   "metadata": {},
   "outputs": [],
   "source": []
  },
  {
   "cell_type": "code",
   "execution_count": null,
   "metadata": {},
   "outputs": [],
   "source": []
  },
  {
   "cell_type": "code",
   "execution_count": null,
   "metadata": {},
   "outputs": [],
   "source": []
  },
  {
   "cell_type": "code",
   "execution_count": null,
   "metadata": {},
   "outputs": [],
   "source": []
  },
  {
   "cell_type": "code",
   "execution_count": null,
   "metadata": {},
   "outputs": [],
   "source": []
  },
  {
   "cell_type": "code",
   "execution_count": 19,
   "metadata": {},
   "outputs": [
    {
     "data": {
      "text/html": [
       "<style>table { width: 90%; }</style>"
      ],
      "text/plain": [
       "<IPython.core.display.HTML object>"
      ]
     },
     "execution_count": 19,
     "metadata": {},
     "output_type": "execute_result"
    }
   ],
   "source": [
    "from IPython.display import HTML\n",
    "HTML('<style>table { width: 90%; }</style>')"
   ]
  },
  {
   "cell_type": "code",
   "execution_count": null,
   "metadata": {},
   "outputs": [],
   "source": []
  },
  {
   "cell_type": "markdown",
   "metadata": {},
   "source": [
    "-----"
   ]
  }
 ],
 "metadata": {
  "kernelspec": {
   "display_name": "Python 3",
   "language": "python",
   "name": "python3"
  },
  "language_info": {
   "codemirror_mode": {
    "name": "ipython",
    "version": 3
   },
   "file_extension": ".py",
   "mimetype": "text/x-python",
   "name": "python",
   "nbconvert_exporter": "python",
   "pygments_lexer": "ipython3",
   "version": "3.7.0"
  }
 },
 "nbformat": 4,
 "nbformat_minor": 2
}
