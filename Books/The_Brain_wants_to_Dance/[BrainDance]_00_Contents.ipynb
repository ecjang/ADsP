{
 "cells": [
  {
   "cell_type": "markdown",
   "metadata": {},
   "source": [
    "----"
   ]
  },
  {
   "cell_type": "markdown",
   "metadata": {},
   "source": [
    "# 뇌는 춤추고 싶다.\n",
    "\n",
    "![cover](http://image.kyobobook.co.kr/images/book/large/801/l9788950977801.jpg)\n",
    "\n",
    "- url : https://goo.gl/7HvwcR\n",
    "- 장동선  , 줄리아 F. 크리스텐슨 지음 | 염정용 옮김 | 아르테(arte) | 2018년 11월 07일 출간"
   ]
  },
  {
   "cell_type": "markdown",
   "metadata": {},
   "source": [
    "----"
   ]
  },
  {
   "cell_type": "markdown",
   "metadata": {},
   "source": [
    "## 0. 서문\n",
    "\n",
    "우리는 다른 사람들과 함께 살아가지만 사실 사람만큼이나 어려운 것도 없다. 나를 가장 기쁘게 혹은 나쁘게 하는 것, 아프게 하거나 행복하게 하는 것이 바로 사람이다. 이런 **사람들의 관계의 답을 '리듬'에서 찾으려고 한다.** 삶에는 저마다의 때와 타이밍이 있고 서로 다른 스탭을 밟아야 하는 순간들이 있다.\n",
    "\n",
    "**실제 우리의 뇌는 세상을 리듬으로 이해한다.**"
   ]
  },
  {
   "cell_type": "markdown",
   "metadata": {},
   "source": [
    "----"
   ]
  },
  {
   "cell_type": "markdown",
   "metadata": {},
   "source": [
    "## 1. 솔로댄스 : 나를 사로잡는 리듬\n",
    "\n",
    "1. 춤을 춘다는 것\n",
    "1. 마법같은 리듬\n",
    "1. 모든 아기는 춤꾼\n",
    "1. 춤을 추기 못하는 이유\n",
    "1. 감정을 드러내는 춤"
   ]
  },
  {
   "cell_type": "markdown",
   "metadata": {},
   "source": [
    "## 2. 커플댄스 : 춤으로 나누는 대화\n",
    "\n",
    "1. 그녀의 움직임을 읽을 수 있는 이유\n",
    "1. 춤이라는 거울\n",
    "1. 쉘 위 댄스\n",
    "1. 춤으로 데이트 하기\n",
    "1. 리더와 팔로워\n"
   ]
  },
  {
   "cell_type": "markdown",
   "metadata": {},
   "source": [
    "## 3. 그룹댄스 : 친구를 부르는 춤\n",
    "\n",
    "1. 내가 우리가 되는 순간\n",
    "1. 시간과 함께하는 순간\n",
    "1. 함께 춤추기"
   ]
  },
  {
   "cell_type": "markdown",
   "metadata": {},
   "source": [
    "## 4. 내 몸을 위해 춤추기 : 춤은 생명의 묘약\n",
    "\n",
    "1. 춤이라는 움직임\n",
    "1. 아주 특별한 신경\n",
    "1. 내 머릿속의 음악\n",
    "1. 내 몸을 스스로 자각하기\n",
    "1. 똑똑한 뇌를 만드는 춤 "
   ]
  },
  {
   "cell_type": "markdown",
   "metadata": {},
   "source": [
    "## 5. 건강을 위해 춤추기 : 약보다 춤\n",
    "\n",
    "1. 심장을 춤추하게 하기\n",
    "1. 척추와 관절을 유연하게 하는 춤\n",
    "1. 체중 조절을 위해 춤추기"
   ]
  },
  {
   "cell_type": "markdown",
   "metadata": {},
   "source": [
    "## 6. 힐링을 위해 춤추기 : 지친 마음을 보듬는 춤\n",
    "\n",
    "1. 정서를 춤으로 표현하기\n",
    "1. 자신의 나약함을 춤으로 이겨내기\n",
    "1. 스트레스를 춤으로 해소하기\n",
    "1. 두려움과 불안에 춤으로 맞서기\n",
    "1. 우울을 춤으로 날리기\n",
    "1. 결핍을 춤으로 채우기"
   ]
  },
  {
   "cell_type": "markdown",
   "metadata": {},
   "source": [
    "## 7. 나이를 잊고 춤추기 : 모든 연령을 위한 춤\n",
    "\n",
    "1. 기억을 읽지 않도록 춤추기\n",
    "1. 움직임을 읽지 않도록 춤추기\n",
    "1. 성장을 위한 춤추기"
   ]
  },
  {
   "cell_type": "markdown",
   "metadata": {},
   "source": [
    "## 8. 그 어떤 상황에서도 춤추기 : 울고, 웃고, 춤추고\n",
    "\n",
    "1. 유혹을 위함 춤\n",
    "2. 사교를 위한 춤\n",
    "3. 관객을 위한 춤\n",
    "4. 화합을 위한 춤\n",
    "5. 우리 모두 렛츠 댄스!"
   ]
  },
  {
   "cell_type": "markdown",
   "metadata": {},
   "source": [
    "## 9. 춤 테스트 : 내게는 어떤 춤이 어울릴까?\n",
    "\n",
    "1. 내게 맞는 춤\n",
    "1. 춤추기 전에 준비할 것\n",
    "1. 댄스 댄스 댄스"
   ]
  },
  {
   "cell_type": "markdown",
   "metadata": {},
   "source": [
    "----"
   ]
  }
 ],
 "metadata": {
  "kernelspec": {
   "display_name": "Python 3",
   "language": "python",
   "name": "python3"
  },
  "language_info": {
   "codemirror_mode": {
    "name": "ipython",
    "version": 3
   },
   "file_extension": ".py",
   "mimetype": "text/x-python",
   "name": "python",
   "nbconvert_exporter": "python",
   "pygments_lexer": "ipython3",
   "version": "3.7.0"
  }
 },
 "nbformat": 4,
 "nbformat_minor": 2
}
