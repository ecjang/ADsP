{
 "cells": [
  {
   "cell_type": "markdown",
   "metadata": {},
   "source": [
    "# Problem01. Searching Entrez"
   ]
  },
  {
   "cell_type": "markdown",
   "metadata": {},
   "source": [
    "## 1. Summary"
   ]
  },
  {
   "cell_type": "markdown",
   "metadata": {},
   "source": [
    "### 1-1. Searcing Entrez\n",
    "\n",
    "Entrez는 대표적인 생물정보포털 사이트인 NCBI의 검색엔진이다. 이를 이용하여 비만과 식이요법과 관련된 논문을 검색하고 그 목록을 구해본다.\n"
   ]
  },
  {
   "cell_type": "markdown",
   "metadata": {},
   "source": [
    "#### purpose"
   ]
  },
  {
   "cell_type": "markdown",
   "metadata": {},
   "source": [
    "- NCBI의 데이터베이스 구조를 이해하고 검색엔진의 쿼리 방법을 이해한다.\n",
    "- UID의 의미와 그 목록의 다운로드를 이해한다."
   ]
  },
  {
   "cell_type": "markdown",
   "metadata": {},
   "source": [
    "#### outputs\n",
    "\n",
    "1. 웹사이트 화면 : NCBI 홈페이지 접속 화면\n",
    "1. 쿼리어 : 조회한 쿼리 문\n",
    "1. 목록 화면 : 조회된 검색결과 목록\n",
    "1. UID 목록화면 : 전체검과 중 UID 목록 화면\n",
    "1. UID 목록파일 : 전체검과 중 UID를 저장한 파일"
   ]
  },
  {
   "cell_type": "markdown",
   "metadata": {},
   "source": [
    "#### deadline\n",
    "1월 25일 금요일"
   ]
  },
  {
   "cell_type": "markdown",
   "metadata": {},
   "source": [
    "----"
   ]
  },
  {
   "cell_type": "markdown",
   "metadata": {},
   "source": [
    "## 2. Processing"
   ]
  },
  {
   "cell_type": "markdown",
   "metadata": {},
   "source": [
    "### 2-1. Setting"
   ]
  },
  {
   "cell_type": "markdown",
   "metadata": {},
   "source": [
    "#### 2-1-1. Biopython\n",
    "Entrez을 사용하기 위해서는 Biopython을 설치해야 한다. 우선 pip를 업데이트한 후 biopython을 설치한다.\n"
   ]
  },
  {
   "cell_type": "code",
   "execution_count": 3,
   "metadata": {},
   "outputs": [
    {
     "name": "stdout",
     "output_type": "stream",
     "text": [
      "Requirement already up-to-date: pip in c:\\users\\eunchul jang\\appdata\\local\\programs\\python\\python36\\lib\\site-packages (19.0.1)\n",
      "Requirement already up-to-date: biopython in c:\\users\\eunchul jang\\appdata\\local\\programs\\python\\python36\\lib\\site-packages (1.73)\n",
      "Requirement already satisfied, skipping upgrade: numpy in c:\\users\\eunchul jang\\appdata\\local\\programs\\python\\python36\\lib\\site-packages (from biopython) (1.14.5)\n"
     ]
    }
   ],
   "source": [
    "!python -m pip install -U pip\n",
    "!pip install -U biopython"
   ]
  },
  {
   "cell_type": "markdown",
   "metadata": {},
   "source": [
    "#### 2-1-2. Library, Mail\n",
    "Biopython에서 Entrez을 불러온다. 그리고 Entrez 사용하기 위해서는 사용자의 메일을 입력해야한다. 꼭 본인 메일일 필요는 없으며 여기서는 jang@gmail.com을 사용하였다."
   ]
  },
  {
   "cell_type": "code",
   "execution_count": 7,
   "metadata": {},
   "outputs": [],
   "source": [
    "from Bio import Entrez, SeqIO\n",
    "Entrez.email = \"jang@gmail.com\""
   ]
  },
  {
   "cell_type": "markdown",
   "metadata": {},
   "source": [
    "### 2-2. Connect Entrez"
   ]
  },
  {
   "cell_type": "markdown",
   "metadata": {},
   "source": [
    "#### 2-2-1. Einfo\n",
    "Entrz에 접속한 후 제공되는 DB의 종류를 알아본다. \n",
    "- **einfo** : 데이터베이스의 종류를 사전형태로 반환\n",
    "- DbList라는 키값으로 저장, 총 49가지의 DB 확인"
   ]
  },
  {
   "cell_type": "code",
   "execution_count": 18,
   "metadata": {},
   "outputs": [],
   "source": [
    "search_db_dic = Entrez.read(Entrez.einfo()) "
   ]
  },
  {
   "cell_type": "code",
   "execution_count": 54,
   "metadata": {},
   "outputs": [
    {
     "data": {
      "text/plain": [
       "['pubmed', 'protein', 'nuccore', 'ipg', 'nucleotide', 'nucgss', 'nucest', 'structure', 'sparcle', 'genome', 'annotinfo', 'assembly', 'bioproject', 'biosample', 'blastdbinfo', 'books', 'cdd', 'clinvar', 'clone', 'gap', 'gapplus', 'grasp', 'dbvar', 'gene', 'gds', 'geoprofiles', 'homologene', 'medgen', 'mesh', 'ncbisearch', 'nlmcatalog', 'omim', 'orgtrack', 'pmc', 'popset', 'probe', 'proteinclusters', 'pcassay', 'biosystems', 'pccompound', 'pcsubstance', 'seqannot', 'snp', 'sra', 'taxonomy', 'biocollections', 'unigene', 'gencoll', 'gtr']"
      ]
     },
     "execution_count": 54,
     "metadata": {},
     "output_type": "execute_result"
    }
   ],
   "source": [
    "search_db_dic['DbList']"
   ]
  },
  {
   "cell_type": "code",
   "execution_count": 33,
   "metadata": {},
   "outputs": [],
   "source": [
    "import pandas as pd"
   ]
  },
  {
   "cell_type": "code",
   "execution_count": 43,
   "metadata": {},
   "outputs": [
    {
     "data": {
      "text/plain": [
       "(49, 1)"
      ]
     },
     "execution_count": 43,
     "metadata": {},
     "output_type": "execute_result"
    }
   ],
   "source": [
    "search_db_list = pd.DataFrame(search_db_dic)\n",
    "search_db_list.shape"
   ]
  },
  {
   "cell_type": "markdown",
   "metadata": {},
   "source": [
    "홈페이지에 있는 DB 목록과 일치한다.\n",
    "\n",
    "| DB List | Result |\n",
    "| --- | --- |\n",
    "| ![01-001-dblist](./img/01-001-dblist.png) | ![01-002-dblist_result](./img/01-002-dblist_result.png) |"
   ]
  },
  {
   "cell_type": "markdown",
   "metadata": {},
   "source": [
    "### 2-3. Search"
   ]
  },
  {
   "cell_type": "markdown",
   "metadata": {},
   "source": [
    "#### 2-3-1. result\n",
    "\n",
    "esarch 기능을 사용하여 검색어를 입력한 목록을 불러올 수 있다.\n",
    "- 검색어: 비만, 식이요법 / obesity, diet\n",
    "- 검색데이터베이스: pubmed\n",
    "- 검색 결과 총 65048개, 실제 검색결과와 일치"
   ]
  },
  {
   "cell_type": "code",
   "execution_count": 57,
   "metadata": {},
   "outputs": [],
   "source": [
    "od_result = Entrez.read(Entrez.esearch(db=\"pubmed\", term=\"obesity AND diet\")"
   ]
  },
  {
   "cell_type": "code",
   "execution_count": 62,
   "metadata": {},
   "outputs": [
    {
     "name": "stdout",
     "output_type": "stream",
     "text": [
      "Count :  65048\n",
      "RetMax :  20\n",
      "RetStart :  0\n",
      "IdList :  ['30673851', '30673669', '30673504', '30673296', '30672742', '30672719', '30672576', '30672127', '30671370', '30671117', '30670942', '30670847', '30670846', '30670780', '30670753', '30670473', '30670159', '30669573', '30669549', '30669348']\n",
      "TranslationSet :  [DictElement({'From': 'obesity', 'To': '\"obesity\"[MeSH Terms] OR \"obesity\"[All Fields]'}, attributes={}), DictElement({'From': 'diet', 'To': '\"diet\"[MeSH Terms] OR \"diet\"[All Fields]'}, attributes={})]\n",
      "TranslationStack :  [DictElement({'Term': '\"obesity\"[MeSH Terms]', 'Field': 'MeSH Terms', 'Count': '192944', 'Explode': 'Y'}, attributes={}), DictElement({'Term': '\"obesity\"[All Fields]', 'Field': 'All Fields', 'Count': '297717', 'Explode': 'N'}, attributes={}), 'OR', 'GROUP', DictElement({'Term': '\"diet\"[MeSH Terms]', 'Field': 'MeSH Terms', 'Count': '258221', 'Explode': 'Y'}, attributes={}), DictElement({'Term': '\"diet\"[All Fields]', 'Field': 'All Fields', 'Count': '439391', 'Explode': 'N'}, attributes={}), 'OR', 'GROUP', 'AND']\n",
      "QueryTranslation :  (\"obesity\"[MeSH Terms] OR \"obesity\"[All Fields]) AND (\"diet\"[MeSH Terms] OR \"diet\"[All Fields])\n"
     ]
    }
   ],
   "source": [
    "for each_key in od_result.keys():\n",
    "    print(each_key,\": \", od_result[each_key])"
   ]
  },
  {
   "cell_type": "markdown",
   "metadata": {},
   "source": [
    "홈페이지 검색 결과 : https://www.ncbi.nlm.nih.gov/pubmed/?term=obesity+AND+diet\n",
    "\n",
    "![01-003-ob_search](./img/01-003-ob_search.png)"
   ]
  },
  {
   "cell_type": "markdown",
   "metadata": {},
   "source": [
    "#### 2-3-2. UID List\n",
    "조회한 결과중에서 ID 목록만 따로 추출하면 화면에 보이는 20개만 추출된다. 전체 검색결과 수를 입력해주어야 한다.\n",
    "\n",
    "- 검색결과 개수: Count, ID 리스트: IdList\n",
    "- retmax에서 retmax 기능 사용\n",
    "- 총 65048개의 ID 목록을 생성"
   ]
  },
  {
   "cell_type": "code",
   "execution_count": 78,
   "metadata": {},
   "outputs": [
    {
     "data": {
      "text/plain": [
       "'65048'"
      ]
     },
     "execution_count": 78,
     "metadata": {},
     "output_type": "execute_result"
    }
   ],
   "source": [
    "od_result_count = od_result[\"Count\"]\n",
    "od_result_count"
   ]
  },
  {
   "cell_type": "code",
   "execution_count": 79,
   "metadata": {},
   "outputs": [],
   "source": [
    "od_result_all = Entrez.read(\n",
    "    Entrez.esearch(\n",
    "        db=\"pubmed\", \n",
    "        term=\"obesity AND diet\", \n",
    "        retmax=od_result_count\n",
    "        )\n",
    "    )"
   ]
  },
  {
   "cell_type": "code",
   "execution_count": 86,
   "metadata": {},
   "outputs": [
    {
     "data": {
      "text/plain": [
       "(65048, 1)"
      ]
     },
     "execution_count": 86,
     "metadata": {},
     "output_type": "execute_result"
    }
   ],
   "source": [
    "od_result_ids_list = pd.DataFrame(od_result_all['IdList'], columns=['IdList'])\n",
    "od_result_ids_list.shape"
   ]
  },
  {
   "cell_type": "code",
   "execution_count": 87,
   "metadata": {},
   "outputs": [
    {
     "data": {
      "text/html": [
       "<div>\n",
       "<style scoped>\n",
       "    .dataframe tbody tr th:only-of-type {\n",
       "        vertical-align: middle;\n",
       "    }\n",
       "\n",
       "    .dataframe tbody tr th {\n",
       "        vertical-align: top;\n",
       "    }\n",
       "\n",
       "    .dataframe thead th {\n",
       "        text-align: right;\n",
       "    }\n",
       "</style>\n",
       "<table border=\"1\" class=\"dataframe\">\n",
       "  <thead>\n",
       "    <tr style=\"text-align: right;\">\n",
       "      <th></th>\n",
       "      <th>IdList</th>\n",
       "    </tr>\n",
       "  </thead>\n",
       "  <tbody>\n",
       "    <tr>\n",
       "      <th>0</th>\n",
       "      <td>30673851</td>\n",
       "    </tr>\n",
       "    <tr>\n",
       "      <th>1</th>\n",
       "      <td>30673669</td>\n",
       "    </tr>\n",
       "    <tr>\n",
       "      <th>2</th>\n",
       "      <td>30673504</td>\n",
       "    </tr>\n",
       "    <tr>\n",
       "      <th>3</th>\n",
       "      <td>30673296</td>\n",
       "    </tr>\n",
       "    <tr>\n",
       "      <th>4</th>\n",
       "      <td>30672742</td>\n",
       "    </tr>\n",
       "  </tbody>\n",
       "</table>\n",
       "</div>"
      ],
      "text/plain": [
       "     IdList\n",
       "0  30673851\n",
       "1  30673669\n",
       "2  30673504\n",
       "3  30673296\n",
       "4  30672742"
      ]
     },
     "execution_count": 87,
     "metadata": {},
     "output_type": "execute_result"
    }
   ],
   "source": [
    "od_result_ids_list.head()"
   ]
  },
  {
   "cell_type": "markdown",
   "metadata": {},
   "source": [
    "### 2-4. Save Result"
   ]
  },
  {
   "cell_type": "markdown",
   "metadata": {},
   "source": [
    "#### 2-4-1. Save\n",
    "판다스의 엑셀 저장 기능을 사용하여 저장한다."
   ]
  },
  {
   "cell_type": "code",
   "execution_count": 91,
   "metadata": {},
   "outputs": [],
   "source": [
    "od_result_ids_list.to_csv(\"od_result_ids_out.csv\", mode=\"w\")"
   ]
  },
  {
   "cell_type": "markdown",
   "metadata": {},
   "source": [
    "저장된 파일을 불러와서 확인해본다."
   ]
  },
  {
   "cell_type": "code",
   "execution_count": 92,
   "metadata": {},
   "outputs": [
    {
     "data": {
      "text/html": [
       "<div>\n",
       "<style scoped>\n",
       "    .dataframe tbody tr th:only-of-type {\n",
       "        vertical-align: middle;\n",
       "    }\n",
       "\n",
       "    .dataframe tbody tr th {\n",
       "        vertical-align: top;\n",
       "    }\n",
       "\n",
       "    .dataframe thead th {\n",
       "        text-align: right;\n",
       "    }\n",
       "</style>\n",
       "<table border=\"1\" class=\"dataframe\">\n",
       "  <thead>\n",
       "    <tr style=\"text-align: right;\">\n",
       "      <th></th>\n",
       "      <th>IdList</th>\n",
       "    </tr>\n",
       "  </thead>\n",
       "  <tbody>\n",
       "    <tr>\n",
       "      <th>0</th>\n",
       "      <td>30673851</td>\n",
       "    </tr>\n",
       "    <tr>\n",
       "      <th>1</th>\n",
       "      <td>30673669</td>\n",
       "    </tr>\n",
       "    <tr>\n",
       "      <th>2</th>\n",
       "      <td>30673504</td>\n",
       "    </tr>\n",
       "    <tr>\n",
       "      <th>3</th>\n",
       "      <td>30673296</td>\n",
       "    </tr>\n",
       "    <tr>\n",
       "      <th>4</th>\n",
       "      <td>30672742</td>\n",
       "    </tr>\n",
       "  </tbody>\n",
       "</table>\n",
       "</div>"
      ],
      "text/plain": [
       "     IdList\n",
       "0  30673851\n",
       "1  30673669\n",
       "2  30673504\n",
       "3  30673296\n",
       "4  30672742"
      ]
     },
     "execution_count": 92,
     "metadata": {},
     "output_type": "execute_result"
    }
   ],
   "source": [
    "ids_out_read = pd.read_csv(\"od_result_ids_out.csv\", index_col=0)\n",
    "ids_out_read.head()"
   ]
  },
  {
   "cell_type": "markdown",
   "metadata": {},
   "source": [
    "![01-004-excel](./img/01-004-excel.png)"
   ]
  },
  {
   "cell_type": "markdown",
   "metadata": {},
   "source": [
    "----"
   ]
  }
 ],
 "metadata": {
  "kernelspec": {
   "display_name": "Python 3",
   "language": "python",
   "name": "python3"
  },
  "language_info": {
   "codemirror_mode": {
    "name": "ipython",
    "version": 3
   },
   "file_extension": ".py",
   "mimetype": "text/x-python",
   "name": "python",
   "nbconvert_exporter": "python",
   "pygments_lexer": "ipython3",
   "version": "3.6.5"
  }
 },
 "nbformat": 4,
 "nbformat_minor": 2
}
