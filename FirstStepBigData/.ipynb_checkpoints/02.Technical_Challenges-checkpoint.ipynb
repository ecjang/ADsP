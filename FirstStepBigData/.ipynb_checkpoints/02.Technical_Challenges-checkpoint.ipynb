{
 "cells": [
  {
   "cell_type": "markdown",
   "metadata": {},
   "source": [
    "- 교제 정보 : http://www.kmooc.kr/courses/course-v1:POSTECHk+CSED490k+2018_T1/pdfbook/0/\n",
    "- 강의 주소 : https://goo.gl/DpvNc2"
   ]
  },
  {
   "cell_type": "markdown",
   "metadata": {},
   "source": [
    "# Lesson2. Technical Challenge"
   ]
  },
  {
   "cell_type": "markdown",
   "metadata": {},
   "source": [
    "----"
   ]
  },
  {
   "cell_type": "markdown",
   "metadata": {},
   "source": [
    "## Topic1. System Architecture for Big Data"
   ]
  },
  {
   "cell_type": "markdown",
   "metadata": {},
   "source": [
    "### 1-1. Big Data Processing"
   ]
  },
  {
   "cell_type": "markdown",
   "metadata": {},
   "source": [
    "초기의 빅데이터 연구는 성과가 별로 좋지 않았다. 빅데이터라고 해봤자 결국 병렬처리랑 다를 게 없지 않을까하는 의문이 제기 되었는데 병렬처리가 맵리듀스와 같은 의미가 아니다."
   ]
  },
  {
   "cell_type": "markdown",
   "metadata": {},
   "source": [
    "----"
   ]
  },
  {
   "cell_type": "markdown",
   "metadata": {},
   "source": [
    "### 1-2. System Architecture for Big Data"
   ]
  },
  {
   "cell_type": "markdown",
   "metadata": {},
   "source": [
    "#### Enterprise DBMS\n",
    "예전에는 데이터 저장 비용이 증가하고 분석이 힘듬, 데이터의 **Volume 크기, Variety 다양성, Velocity 속도** 가 증가(3V)하면서 한계에 다다름.\n",
    "\n",
    "#### Big Data Analysis System\n",
    "이런 한계를 극복하기 위해 새로 나온 시스템.\n",
    "- Strorage : Sacle-out Cluster\n",
    "- Distributed File Sys : HDFS, Swift\n",
    "- DB, Data Access : Hadoop, Hbase\n",
    "- Hight Level Language : Hiva, Pig, R, App"
   ]
  },
  {
   "cell_type": "markdown",
   "metadata": {},
   "source": [
    "----"
   ]
  },
  {
   "cell_type": "markdown",
   "metadata": {},
   "source": [
    "### 1-3. System Trend"
   ]
  },
  {
   "cell_type": "markdown",
   "metadata": {},
   "source": [
    "#### Network RAID\n",
    "과거에는 스토리지 서버를 사용. 스토리지와 서버를 고속으로 오가면서 계산하는 방법으로 빠르지만 고가의 장비가 필요. 데이터가 증가하면서 한계 발생.\n",
    "\n",
    "#### Distributed File System\n",
    "대용량의 데이터의 수요가 커지면서 새로운 방식이 필요. 인터넷을 통해 연결해서 속도가 느려져서 새로운 프로그래밍이 필요해짐."
   ]
  },
  {
   "cell_type": "markdown",
   "metadata": {},
   "source": [
    "---"
   ]
  },
  {
   "cell_type": "markdown",
   "metadata": {},
   "source": [
    "## Topic2. Challenges of the Big Data Processing"
   ]
  },
  {
   "cell_type": "markdown",
   "metadata": {},
   "source": [
    "### 2-1. Data Science"
   ]
  },
  {
   "cell_type": "markdown",
   "metadata": {},
   "source": [
    "#### Trend\n",
    "\n",
    "빅데이터의 속성 : 3V(속도, 스피드, 속성)\n",
    "- 저장소 : 분산 처리, 느린 전송 속도가 문제가 됨\n",
    "- 데이터 : 최적화 필요, 새로운 프로그램 필요\n",
    "- 맵리듀스 : 데이터 노드를 움직여서 계산"
   ]
  },
  {
   "cell_type": "markdown",
   "metadata": {},
   "source": [
    "#### Map Reduce\n",
    "계산을 데이터 노드로 돌리는 것. 그래서 데이터 전송을 최적화 하자는 것. 기존의 병렬처리로는 문제가 있음. 그래서 이를 개선하기 위한 팁들이 나옴"
   ]
  },
  {
   "cell_type": "markdown",
   "metadata": {},
   "source": [
    "----"
   ]
  },
  {
   "cell_type": "markdown",
   "metadata": {},
   "source": [
    "## Topic3. Big Data Project"
   ]
  },
  {
   "cell_type": "markdown",
   "metadata": {},
   "source": [
    "### 3-1. Big Data Subproject"
   ]
  },
  {
   "cell_type": "markdown",
   "metadata": {},
   "source": [
    "#### Subproject\n",
    "연산량을 줄이기 위한 다양한 프로그램들이 나옴. 참고로 NoSQL은 SQL을 지원할 필요할 필요가 없다고 해서 NoSQL인었는데 지금은 NoSQL임에도 SQL을 지원하는 경우도 있다. 현재는 고유명사식으로 사용됨.\n",
    "\n",
    "- Framework : HDFS, Hadoop, ...\n",
    "- NoSQL DB : HBase, MongoDB\n",
    "- Graph : Prefgel, Trinity\n",
    "- IoT : NoSQL DB + Analytics Scolution\n",
    "\n",
    "#### Component\n",
    "- App\n",
    "- SW Platform\n",
    "- HW Infra"
   ]
  },
  {
   "cell_type": "markdown",
   "metadata": {},
   "source": [
    "----"
   ]
  },
  {
   "cell_type": "markdown",
   "metadata": {},
   "source": [
    "### 3-2. Course Topics"
   ]
  },
  {
   "cell_type": "markdown",
   "metadata": {},
   "source": [
    "#### Course\n",
    "이 모든 내용을 본 강의에서 다룰 수는 없다. \n",
    "- 주요 트렌드 및 기술 소개\n",
    "- 몇 가지 알고리즘에 대한 소개\n",
    "- 특정 스킬 연습"
   ]
  },
  {
   "cell_type": "markdown",
   "metadata": {},
   "source": [
    "### Practice\n",
    "1. DB, SQL\n",
    "1. MapReduce, Hadoop, NoSQL\n",
    "1. 통계, 최적화\n",
    "1. ML\n",
    "1. 데이터 전처리"
   ]
  },
  {
   "cell_type": "markdown",
   "metadata": {},
   "source": [
    "----"
   ]
  }
 ],
 "metadata": {
  "kernelspec": {
   "display_name": "Python 3",
   "language": "python",
   "name": "python3"
  },
  "language_info": {
   "codemirror_mode": {
    "name": "ipython",
    "version": 3
   },
   "file_extension": ".py",
   "mimetype": "text/x-python",
   "name": "python",
   "nbconvert_exporter": "python",
   "pygments_lexer": "ipython3",
   "version": "3.6.5"
  }
 },
 "nbformat": 4,
 "nbformat_minor": 2
}
