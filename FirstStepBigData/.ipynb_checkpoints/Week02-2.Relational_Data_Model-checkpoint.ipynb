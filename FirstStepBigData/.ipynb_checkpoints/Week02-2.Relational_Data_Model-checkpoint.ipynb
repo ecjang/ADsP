{
 "cells": [
  {
   "cell_type": "markdown",
   "metadata": {},
   "source": [
    "- 교제 정보 : https://goo.gl/eFk5uN"
   ]
  },
  {
   "cell_type": "markdown",
   "metadata": {},
   "source": [
    "# Lesson4. Reational Data Model"
   ]
  },
  {
   "cell_type": "markdown",
   "metadata": {},
   "source": [
    "----"
   ]
  },
  {
   "cell_type": "markdown",
   "metadata": {},
   "source": [
    "## Topic1. Relational Databases"
   ]
  },
  {
   "cell_type": "markdown",
   "metadata": {},
   "source": [
    "### 1-1. Relational Databases"
   ]
  },
  {
   "cell_type": "markdown",
   "metadata": {},
   "source": [
    "#### Curt Monash\n",
    "\"Relational Database Management System were invented to let you use one set of data in multiple ways, including ways that are unforeseen at the time the database is built and the 1st applications are written\"\n",
    "\n",
    "처음 데이터를 작성할 때 예상치 못한 것까지 지원하여 데이터를 조회 할 수 있도록 개발된 것이 RDMS이다."
   ]
  },
  {
   "cell_type": "markdown",
   "metadata": {},
   "source": [
    "### 1-2. Relational Databases (Codd 1970)\n",
    "모든 것이 행렬을 가진 테이블 구조로 표현하는 것. 테이블들 간의 관계를 가지고 있으며 이걸로 검색한다.\n",
    "\n",
    "- 강의 테이블 : 강의 아이디, 학생 아이디\n",
    "- 학생 테이블 : 학생 아이디, 학생 이름\n",
    "- 강의에서 학생 아이디를 찾고 학생 테이블에서 학생의 이름을 찾는다. 반대의 과정도 가능."
   ]
  },
  {
   "cell_type": "markdown",
   "metadata": {},
   "source": [
    "#### Term\n",
    "\n",
    "- **Row** : Record, Tuple, Instance, Object,... / 좀 큰 의미를 가짐\n",
    "- **Column** : Attribute, Dimension, Feature, Field\n"
   ]
  },
  {
   "cell_type": "markdown",
   "metadata": {},
   "source": [
    "----"
   ]
  },
  {
   "cell_type": "markdown",
   "metadata": {},
   "source": [
    "## Topic2. Data Representation"
   ]
  },
  {
   "cell_type": "markdown",
   "metadata": {},
   "source": [
    "### 2-1. Data Type & Representation\n",
    "테이블 형태 말고도 다양한 형태의 데이터가 있다.\n",
    "\n",
    "1. **Record 테이블** : 관계형 데이터, 테이블 구조, 트렌잭션 데이터\n",
    "1. **Graph, Network 그래프, 네트워크** : 그래프, 웹, 링크를 가진 문서, 쇼셜 네트워크\n",
    "1. **Orderd 정렬** : 시간 데이터, 시퀀싱 데이터\n",
    "1. **Spatial,Image, Multimedia 공간, 이미지, 멀티미디어** : 지도, 이미지, 비디오"
   ]
  },
  {
   "cell_type": "markdown",
   "metadata": {},
   "source": [
    "### 2-2. Attribute Type\n",
    "각 칼럼들은 같은 타입을 가진다. 각 타입별로 분석이 달라진다.\n",
    "\n",
    "1. **Nominal, Categorical 일반적, 카테고리형** : 차 종류, 색 이름\n",
    "1. **Binary 바이러니형** : 예아니오 형태, 성별, 소유 유무\n",
    "1. **Ordinal 등급형** : A,B,C 등의 등급, 카테고리형과는 다르게 등급형은 각 등급별 거리가 정해져 있다.\n",
    "1. **Numerical 숫자형** : 숫자형, 키, 온도\n",
    "1. **Discrete 이산형** : 정수, 1,2,3\n",
    "1. **Continuous 연속형** : 실수, 1,1.5,2,2.5\n"
   ]
  },
  {
   "cell_type": "markdown",
   "metadata": {},
   "source": [
    "----"
   ]
  },
  {
   "cell_type": "markdown",
   "metadata": {},
   "source": [
    "## Topic3. Relational Algedra"
   ]
  },
  {
   "cell_type": "markdown",
   "metadata": {},
   "source": [
    "### 3-1. Relaional Database History\n",
    "\n",
    "관계형 데이터가 가장 많이 사용되는 형태로 사용이 편리하다. 예전에는 파일에 저장해서 다루기 힘들었다. 초장기 RDBMS에서 오류가 많았음에도 생산성이 높아졌다. \n",
    "데이터가 테이블의 연산으로 이루어져 하드디스크에 파일을 어떻게 저장할지 신경쓸 필요가 없었다.\n",
    "\n",
    "\"Activities of users at terminals and most application programs should remain unaffected when the internal representation of data is changed and even when some aspects of the external representation are changed.\"\n",
    "\n",
    "터미널과 대부분의 애플리케이션 사용자들의 활동은 데이터의 내부, 외부 표현이 변경되어도 영향을 받지 않아야 한다.\n"
   ]
  },
  {
   "cell_type": "markdown",
   "metadata": {},
   "source": [
    "### 3-2. Key Idea : Physical Data Independence\n",
    "기존 데이터를 직접 가져오기 위해서는 복잡한 코드가 필요했는데 SQL을 사용하면 보다 쉽게 사용할 수 있다. 프로그램의 생산성이 향상된다."
   ]
  },
  {
   "cell_type": "markdown",
   "metadata": {},
   "source": [
    "### 3-3. Key Idea : An Algebra of Tables\n",
    "\n",
    "테이블 연산에는 몇가지 종류가 있다.\n",
    "\n",
    "1. **Select** : 특정 행을 선택\n",
    "1. **Project** : 특정 열을 선택 \n",
    "1. **Join** : 특정 테이블을 합침\n"
   ]
  },
  {
   "cell_type": "markdown",
   "metadata": {},
   "source": [
    "### 3-4. key Idea : Algebraic Optimization\n",
    "사칙연산에는 고유의 규칙이 있는데 테이블 연산에도 이런 규칙과 순서가 있다.\n",
    "- **Distributes 분배법칙** : $(n\\times x  + n\\times y) = n\\times(x+y)$\n",
    "- **Commutes 결합법칙** : $x \\times y = y \\times x$"
   ]
  },
  {
   "cell_type": "markdown",
   "metadata": {},
   "source": [
    "### 3-5. Relational Algebra Operators\n",
    "몇 가지 관계형 데이터에서 사용하는 기호들이 있다.\n",
    "\n",
    "- **RA** : $\\cup$: Union,  $\\cap$: Intersection,  $-$: Difference, $s$: Selection, $\\Pi$: Projection, $\\bowtie$: Join\n",
    "- **Extend RA** : $d$: Duplicate elimeination, $g$: Grouping and Aggregation. $t$: Sorting"
   ]
  },
  {
   "cell_type": "markdown",
   "metadata": {},
   "source": [
    "----"
   ]
  }
 ],
 "metadata": {
  "kernelspec": {
   "display_name": "Python 3",
   "language": "python",
   "name": "python3"
  },
  "language_info": {
   "codemirror_mode": {
    "name": "ipython",
    "version": 3
   },
   "file_extension": ".py",
   "mimetype": "text/x-python",
   "name": "python",
   "nbconvert_exporter": "python",
   "pygments_lexer": "ipython3",
   "version": "3.6.5"
  }
 },
 "nbformat": 4,
 "nbformat_minor": 2
}
