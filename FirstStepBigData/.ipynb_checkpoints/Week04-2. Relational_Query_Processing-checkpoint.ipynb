{
 "cells": [
  {
   "cell_type": "markdown",
   "metadata": {},
   "source": [
    "# Lesson2. Relational Query Processing"
   ]
  },
  {
   "cell_type": "markdown",
   "metadata": {},
   "source": [
    "----"
   ]
  },
  {
   "cell_type": "markdown",
   "metadata": {},
   "source": [
    "## Topic1. Query Plan Generation"
   ]
  },
  {
   "cell_type": "markdown",
   "metadata": {},
   "source": [
    "### 1-1. Query Plan\n",
    "\n",
    "사람이 쉽게 인식할 수 있도록 쿼리를 작성하지만 컴퓨터는 다른 방식으로 인식한다.\n",
    "\n",
    "1. order 테이블의 order와 item 테이블의 order를 스캔한 후\n",
    "1. order의 내용으로 두 테이블을 결합\n",
    "1. 일반적인 C 코드로 작성하는 것보다 훨씬 빠름"
   ]
  },
  {
   "cell_type": "markdown",
   "metadata": {},
   "source": [
    "#### SQL 코드\n",
    "``` mysql\n",
    "SELECT *\n",
    "FROM Order o, Item i\n",
    "WHERE o.order = i.order\n",
    "```"
   ]
  },
  {
   "cell_type": "markdown",
   "metadata": {},
   "source": [
    "#### C코드 1\n",
    "이중 반복문으로 처리하여 작성\n",
    "- 테이블의 크기만큼의 시간이 소요\n",
    "\n",
    "``` c\n",
    "for each record i in Item:\n",
    "    for each record o in Order:\n",
    "        if o.order = i.order:\n",
    "            return (r,s)\n",
    "```"
   ]
  },
  {
   "cell_type": "markdown",
   "metadata": {},
   "source": [
    "#### C코드 2\n",
    "해쉬 코드를 사용할 수 도 있다.\n",
    "- item 테이블 + Order 테이블 만큼의 시간이 소요\n",
    "\n",
    "``` c\n",
    "for each record i in Item:\n",
    "    insert into hashtable\n",
    "    \n",
    "for each record o in Order:\n",
    "    lookup corresponding records in hashtable\n",
    "    return matching pairs\n",
    "```"
   ]
  },
  {
   "cell_type": "markdown",
   "metadata": {},
   "source": [
    "### 1-2. Exposing the Algebra: Micosoft SQL Server\n",
    "\n",
    "사용자는 어떤 쿼리가 최적인지 알 필요가 없다. 그 계산은 DBMS가 계산하여 최적의 쿼리를 정하여 계산한다."
   ]
  },
  {
   "cell_type": "markdown",
   "metadata": {},
   "source": [
    "#### SQL 1\n",
    "\n",
    "- **셀프조인** : 자기 자신을 조인하는 것, 아래 예에서는 term_id가 매칭이 안된는 것만 조회\n",
    "- 해쉬조인을 할지 그냥 조인을 할지는 상황에 맞추어서 실행됨\n",
    "\n",
    "```mysql\n",
    "SELECT a.term_id, b.term_id\n",
    "FROM [billhowe].[reuters] a, [billhowe].[reuters] b\n",
    "WHERE a.doc_id = b.doc_id \n",
    "    AND a.term_id != b.term_id\n",
    "```"
   ]
  },
  {
   "cell_type": "markdown",
   "metadata": {},
   "source": [
    "#### SQL2\n",
    "\n",
    "- 위의 쿼리식에 a.term_id 조건이 하나 추가됨\n",
    "- 위 조건으로 실행 조인이 달라짐\n",
    "- DBMS에서 해쉬보다는 네스트 조인이 더 빠르다고 판단\n",
    "\n",
    "```mysql\n",
    "SELECT a.term_id, b.term_id\n",
    "FROM [billhowe].[reuters] a, [billhowe].[reuters] b\n",
    "WHERE a.doc_id = b.doc_id \n",
    "    AND a.term_id != b.term_id\n",
    "    AND a.term_id = 'parliament'\n",
    "```"
   ]
  },
  {
   "cell_type": "markdown",
   "metadata": {},
   "source": [
    "### 1-3. Algebra Optimization"
   ]
  },
  {
   "cell_type": "markdown",
   "metadata": {},
   "source": [
    "로직에 따라 같은 결과라도 처리 비용이 달라질 수 있다.\n",
    "- 괄호() 기호에 따라 처리 순서가 달라진다.\n",
    "- **Declarative 언어** : 어떻게 할지만을 정하고 어떤 순서로 실행할지는 정하지 않는 언어.\n"
   ]
  },
  {
   "cell_type": "markdown",
   "metadata": {},
   "source": [
    "#### SQL 1\n",
    "SQL을 보면 어떤게 먼저 처리될지 알 수 없다.\n",
    "- 쿼리 플랜을 보면 테이블을 먼저 스캔한 후, SELECT로 요소를 선택 후 JOIN한다.\n",
    "``` mysql\n",
    "SELECT *\n",
    "FROM Order o, Item i\n",
    "WHERE o.order = i.order\n",
    "AND o.date = today()\n",
    "```"
   ]
  },
  {
   "cell_type": "markdown",
   "metadata": {},
   "source": [
    "#### SQL2\n",
    "SQL은 무엇이지 어떻게가 아니다. SQL is the \"WHAT\" not the \"HOW\"\n",
    "- 무엇을 얻으려는지 알 수 있다. 하지만 어떤 순서인지는 알 수 없다.\n",
    "\n",
    "``` mysql\n",
    "SELECT DISTINCT x.name, z.name\n",
    "FROM Product x, Purchase y, Customer z\n",
    "WHERE x.pid = y.pid\n",
    "AND y.cid = z.cid\n",
    "AND x.price > 100\n",
    "AND z.city = 'Seoul'\n",
    "```"
   ]
  },
  {
   "cell_type": "markdown",
   "metadata": {},
   "source": [
    "----"
   ]
  }
 ],
 "metadata": {
  "kernelspec": {
   "display_name": "Python 3",
   "language": "python",
   "name": "python3"
  },
  "language_info": {
   "codemirror_mode": {
    "name": "ipython",
    "version": 3
   },
   "file_extension": ".py",
   "mimetype": "text/x-python",
   "name": "python",
   "nbconvert_exporter": "python",
   "pygments_lexer": "ipython3",
   "version": "3.7.0"
  }
 },
 "nbformat": 4,
 "nbformat_minor": 2
}
