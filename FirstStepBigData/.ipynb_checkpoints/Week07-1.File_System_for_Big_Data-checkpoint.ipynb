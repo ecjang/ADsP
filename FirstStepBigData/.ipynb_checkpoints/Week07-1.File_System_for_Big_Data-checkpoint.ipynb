{
 "cells": [
  {
   "cell_type": "markdown",
   "metadata": {},
   "source": [
    "# Lesson 1. File System for Big Data"
   ]
  },
  {
   "cell_type": "markdown",
   "metadata": {},
   "source": [
    "----"
   ]
  },
  {
   "cell_type": "markdown",
   "metadata": {},
   "source": [
    "## Topic1. Combiner"
   ]
  },
  {
   "cell_type": "markdown",
   "metadata": {},
   "source": [
    "### 1-1. HDFS - Block based"
   ]
  },
  {
   "cell_type": "markdown",
   "metadata": {},
   "source": [
    "#### 1-1-1. MapReduce Phase\n",
    "앞에서 살펴본 것 외에 Combine 기능을 알아본다. 단어 빈도 계산 예제에서 Map 부분에서 각 청크별 단어의 개수를 세고, Reduce 부분에서 결과를 병합하는 기능을 하였다.\n",
    "- 그럼 한 청크에서 동일한 작업이 연속해서 일어날 경우는?\n",
    "- (w1,1)이 2번 일어났다면 (w1,2)식으로 보내는 것이 더 좋음"
   ]
  },
  {
   "cell_type": "markdown",
   "metadata": {},
   "source": [
    "#### 1-1-2. Combiner\n",
    "한 작업안에서 같은 키가 나올 경우 병합하는 작업을 의미한다.\n",
    "- 실질적으로 **reduce 함수와 동일**\n",
    "- 단지 conbiner는 하나의 output에 대해서만 작동\n",
    "- reduce는 모든 output에 대해서 작동\n",
    "\n",
    "- Combin function\n",
    "``` c\n",
    "combine(String intermedia_key, Iterator intermediate_values):\n",
    "    // output_key : word\n",
    "    // output_value : ????\n",
    "    int result = 0;\n",
    "    for each v in intermediate_values:\n",
    "        result += v;\n",
    "       Emit(intermediate_key, result);\n",
    "```"
   ]
  },
  {
   "cell_type": "markdown",
   "metadata": {},
   "source": []
  },
  {
   "cell_type": "markdown",
   "metadata": {},
   "source": []
  },
  {
   "cell_type": "markdown",
   "metadata": {},
   "source": []
  },
  {
   "cell_type": "markdown",
   "metadata": {},
   "source": []
  },
  {
   "cell_type": "markdown",
   "metadata": {},
   "source": []
  },
  {
   "cell_type": "markdown",
   "metadata": {},
   "source": []
  },
  {
   "cell_type": "markdown",
   "metadata": {},
   "source": []
  },
  {
   "cell_type": "markdown",
   "metadata": {},
   "source": [
    "---"
   ]
  }
 ],
 "metadata": {
  "kernelspec": {
   "display_name": "Python 3",
   "language": "python",
   "name": "python3"
  },
  "language_info": {
   "codemirror_mode": {
    "name": "ipython",
    "version": 3
   },
   "file_extension": ".py",
   "mimetype": "text/x-python",
   "name": "python",
   "nbconvert_exporter": "python",
   "pygments_lexer": "ipython3",
   "version": "3.6.5"
  }
 },
 "nbformat": 4,
 "nbformat_minor": 2
}
