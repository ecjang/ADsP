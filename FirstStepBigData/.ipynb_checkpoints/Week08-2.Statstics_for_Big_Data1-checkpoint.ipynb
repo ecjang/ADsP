{
 "cells": [
  {
   "cell_type": "markdown",
   "metadata": {},
   "source": [
    "# Lesson 1. Statistics for Big Data 1"
   ]
  },
  {
   "cell_type": "markdown",
   "metadata": {},
   "source": [
    "----"
   ]
  },
  {
   "cell_type": "markdown",
   "metadata": {},
   "source": [
    "## Topic1. Hypothesis Test"
   ]
  },
  {
   "cell_type": "markdown",
   "metadata": {},
   "source": [
    "### 1-1. Hypothesis Test"
   ]
  },
  {
   "cell_type": "markdown",
   "metadata": {},
   "source": [
    "#### 1-1-1. Background \n",
    "\n",
    "다양한 자료들 중에서 의미있는 정보를 추출하기 위해 필요하다.\n",
    "- Hypothesis Test\n",
    "- Confidence interval"
   ]
  },
  {
   "cell_type": "markdown",
   "metadata": {},
   "source": [
    "#### 1-1-2. Hypothesis Test\n",
    "실험군과 대조군을 비교하는 방식이다.\n",
    "- **$H_0$** : Null 가설, 두 그룹사이 아무런 차이가 없음\n",
    "- **$H_A$** : 대립 가설, 두 그룹사이의 유의미한 차이\n",
    "- 예\n",
    "    1. 광고와 제품 판매 증가의 관계\n",
    "    1. 더 나은 치료방법을 위한 비교"
   ]
  },
  {
   "cell_type": "markdown",
   "metadata": {},
   "source": [
    "#### 1-1-3. Hypothesis Test\n",
    "새로운 엔진을 만들었다고 가정해보자. 새로 만든 엔진이 기존의 엔진보다 더 효과적인지 비교해보자.\n",
    "\n",
    "![Test](./img/07-2-001-Test.png)"
   ]
  },
  {
   "cell_type": "markdown",
   "metadata": {},
   "source": [
    "- $H_0$은 두 엔진간 차이가 없고, $H_A$은 더 효과적이라는 의미\n",
    "\n",
    "\n",
    "- **Reject $H_0$, Type1 Error** : 귀무가설을 기각하는 오류. \n",
    "    - 기존 엔진과 신형 엔진이 차이가 없는데도 차이가 있다고 하는 경우\n",
    "    - 실제로는 같은 건데 다르다고 판단한 것\n",
    "\n",
    "\n",
    "- **Reject $H_A$, Type2 Error** : 대립가설을 기각하는 오류.\n",
    "    - 신형 엔진이 기존 엔진보다 더 효과적인데도 똑같다고 하는 경우\n",
    "    - 실제로는 다른 차이가 있는데 같다고 판단한 것"
   ]
  },
  {
   "cell_type": "markdown",
   "metadata": {},
   "source": [
    "#### 1-1-4. Different\n",
    "두 대조군이 다르다면 얼마나 다른지 얼마나 알 수 있을까?\n",
    "\n",
    "- **P-Value** : 반복적인 실험에서 귀무가설이 참일 때 최소 얼마나 자주 다른 결과가 나오는지에 대한 지표.\n",
    "    - 100번의 테스트 결과 90번이 같고 10번이 다르게 나온다면 p-value는 0.1\n",
    "    - 실험군과 대조군이 실제로 같은데 반복적인 실험을 반복할 경우 다르게 나올 확률\n",
    "    \n",
    "    \n",
    "    "
   ]
  },
  {
   "cell_type": "markdown",
   "metadata": {},
   "source": [
    "----"
   ]
  },
  {
   "cell_type": "markdown",
   "metadata": {},
   "source": [
    "## Topic 2. P-Value"
   ]
  },
  {
   "cell_type": "markdown",
   "metadata": {},
   "source": [
    "### 2-1. P-Value"
   ]
  },
  {
   "cell_type": "markdown",
   "metadata": {},
   "source": [
    "#### 2-1-1. P-Value\n",
    "Hypothesis 테스트가 얼마나 정확한지 알려주는 지표이다.\n",
    "\n",
    "- **Two-Sided Test**\n",
    "    - $H_A$와 $H_0$가 다른지 여부를 확인, **P-value = 2 x P(X > |observed value|)**\n",
    "    \n",
    "\n",
    "- **One-Sided Test**\n",
    "    - $H_A$가 $H_0$보다 큰지 여부를 확인, **P-value = P(X > observed value)**\n",
    "    - $H_A$가 $H_0$보다 작은지 여부를 확인, **P-value = P(X < observed value)**\n",
    "\n"
   ]
  },
  {
   "cell_type": "markdown",
   "metadata": {},
   "source": [
    "#### 2-1-2. P-Value Mean\n",
    "100번의 테스트에 대한 평균 자료를 그래프로 그려보았다.\n",
    "\n",
    "![pval](./img/07-2-002-pval.png)\n",
    "\n",
    "- 귀무가설은 평균값이 325, 대립가설은 325가 아니라는 의미\n",
    "- 실제 가설은 328이 나왔는데 실제로 다른지 확인\n",
    "- 노란색 영역이 P-value를 의미\n",
    "- **P-value가 낮다는 것은 우연에 의해서 다른 값이 나올 확률이 낮다는 의미**"
   ]
  },
  {
   "cell_type": "markdown",
   "metadata": {},
   "source": [
    "### 2-2. P-value\n",
    "보통 0.05 미만이면 좋다고 할 수 있다.\n",
    "\n",
    "- 0.05인 이유는 보편적으로 사용되는 값이기 때문"
   ]
  },
  {
   "cell_type": "markdown",
   "metadata": {},
   "source": [
    "----"
   ]
  },
  {
   "cell_type": "markdown",
   "metadata": {},
   "source": [
    "## Topic 3. Effect Size"
   ]
  },
  {
   "cell_type": "markdown",
   "metadata": {},
   "source": [
    "### 3-1. Effect Size"
   ]
  },
  {
   "cell_type": "markdown",
   "metadata": {},
   "source": [
    "#### 3-1-1. Effect Size\n",
    "결론적으로 P-value는 결과가 의미가 있느냐 없느냐를 구분하는 지표가 된다. Effect size(효과크기)는 결과값이 얼마나 중요한지를 의미한다.\n",
    "\n",
    "- **Effect Size = (대조군의 평균 - 실험군의 평균) / 표준편차  **\n",
    "- 주로 메타분석에 사용"
   ]
  },
  {
   "cell_type": "markdown",
   "metadata": {},
   "source": [
    "#### 3-1-2. Standard Mean Difference\n",
    "표준편차 차이라고 한다. 공식은 아래와 같다.\n",
    "\n",
    "$$ ES = \\frac{\\bar{X}_1 - \\bar{X}_2}{\\delta_{pooled}} $$\n",
    "\n",
    "\n",
    "$$ \\delta_{pooled} = \\hat{\\delta}^2 = \\sqrt{\\frac{\\delta_1^2(n_1-1)+\\delta_2^2(n_2-1)}{(n_1-1)+(n_2-1)} }  $$\n",
    "\n",
    "- 대체로 0.2 정도면 small, 0.5는 medium, 0.8은 large로 구분"
   ]
  },
  {
   "cell_type": "markdown",
   "metadata": {},
   "source": [
    "#### 3-1-3. Confidence Interval\n",
    "\n",
    "신뢰구간이다. p-value와 관려있고 보통 신뢰구간 95%구간이라는 식으로 사용한다.\n",
    "\n",
    "- 공식 : 1 - P-value\n",
    "- 신뢰구간 95% : 실험을 100번 반복시 95번 이상의 같은 결과가 나옴"
   ]
  },
  {
   "cell_type": "markdown",
   "metadata": {},
   "source": [
    "----"
   ]
  },
  {
   "cell_type": "markdown",
   "metadata": {},
   "source": [
    "### 4-1. Publication Bias"
   ]
  },
  {
   "cell_type": "markdown",
   "metadata": {},
   "source": [
    "#### 4-1-1. Publication Bias\n",
    "직역하면 발표 편향이라고 한다.\n",
    "\n",
    "- meta-analysis : 분석결과들을 모아서 그 결과들의 통계를 내는 것\n",
    "- 빅데이터 시대에 들어 여러 과장된 분석결과들이 문제가 됨\n",
    "\n",
    "\n",
    "P-value가 0.05 미만\n",
    "- 이 실험이 우연히 나올 확률이 5% 미만이라는 의미\n",
    "- 즉 20번 실험에서 1번 꼴로 대립가설에 부합하는 결과가 나올 수 있음\n",
    "- 하지만 이런 대립가설에 편향되는 경향이 있음\n",
    "- 즉 **타입1 에러**가 점점 증가\n",
    "- 실제로 실험 횟수가 늘어날 수록 effect size가 점점 줄어듬\n"
   ]
  },
  {
   "cell_type": "markdown",
   "metadata": {},
   "source": [
    "#### 4-1-2. Mistakes and Fraud\n",
    "\n",
    "PubMed와 웹 사이언스의 그래프에서 시간이 갈수록 철회하는 개수가 증가하고 있다.\n",
    "\n",
    "![Pubmed](./img/08-2-001-Pubmed.png)\n",
    "\n"
   ]
  },
  {
   "cell_type": "markdown",
   "metadata": {},
   "source": [
    "---"
   ]
  }
 ],
 "metadata": {
  "kernelspec": {
   "display_name": "Python 3",
   "language": "python",
   "name": "python3"
  },
  "language_info": {
   "codemirror_mode": {
    "name": "ipython",
    "version": 3
   },
   "file_extension": ".py",
   "mimetype": "text/x-python",
   "name": "python",
   "nbconvert_exporter": "python",
   "pygments_lexer": "ipython3",
   "version": "3.6.5"
  }
 },
 "nbformat": 4,
 "nbformat_minor": 2
}
