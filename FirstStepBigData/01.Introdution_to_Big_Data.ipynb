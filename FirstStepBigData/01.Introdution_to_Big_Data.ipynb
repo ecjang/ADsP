{
 "cells": [
  {
   "cell_type": "markdown",
   "metadata": {},
   "source": [
    "- 교제 정보 : http://www.kmooc.kr/courses/course-v1:POSTECHk+CSED490k+2018_T1/pdfbook/0/\n",
    "- 강의 주소 : https://goo.gl/ab8iDM"
   ]
  },
  {
   "cell_type": "markdown",
   "metadata": {},
   "source": [
    "# Lesson1. Introduction to Big Data"
   ]
  },
  {
   "cell_type": "markdown",
   "metadata": {},
   "source": [
    "----"
   ]
  },
  {
   "cell_type": "markdown",
   "metadata": {},
   "source": [
    "## Topic1. What is Big Data?"
   ]
  },
  {
   "cell_type": "markdown",
   "metadata": {},
   "source": [
    "### 1-1. Big Data is every where!"
   ]
  },
  {
   "cell_type": "markdown",
   "metadata": {},
   "source": [
    "#### Hospitals\n",
    "\n",
    "- What would be volume and financial impact be if we were to hire another cardiovascular surgeon?\n",
    "- What are re-admission patterns for heart failure patients?\n",
    "- For a specific diagnosis, what are core interntions the improves the outcomes?"
   ]
  },
  {
   "cell_type": "markdown",
   "metadata": {},
   "source": [
    "----"
   ]
  },
  {
   "cell_type": "markdown",
   "metadata": {},
   "source": [
    "### 1-2. What is Big Data?"
   ]
  },
  {
   "cell_type": "markdown",
   "metadata": {},
   "source": [
    "#### Define"
   ]
  },
  {
   "cell_type": "markdown",
   "metadata": {},
   "source": [
    "- **Wikipedia, Mckinsey** : Too large to store, manage, and analyze in existing wats using exsiting storage and existing DBMS SWs.\n",
    "- **Goverment&Industry** : Information technology to predict trends, respond proactively. / **Technonloy to collect, store, manage, search, analyze** large scale data.\n"
   ]
  },
  {
   "cell_type": "markdown",
   "metadata": {},
   "source": [
    "-----"
   ]
  },
  {
   "cell_type": "markdown",
   "metadata": {},
   "source": [
    "### 1-3. Evolution of Sciences"
   ]
  },
  {
   "cell_type": "markdown",
   "metadata": {},
   "source": [
    "#### History\n",
    "\n",
    "1. Before 1600 : empirical Science\n",
    "1. 1600~1950s : Each discipline has grown a **Theoretical component**, Specially Math\n",
    "1. 1950s~1990s : Most Discipline have grown a third, **computational** branch (e.g. Empirical, theoretical, and computational ecology or physics, or linguistics)\n",
    "1. 1990s~now : The flood of a data new scienctific instruments and simulationss, the abillity to ecomomically store and manage petabytes of data online"
   ]
  },
  {
   "cell_type": "markdown",
   "metadata": {},
   "source": [
    "----"
   ]
  },
  {
   "cell_type": "markdown",
   "metadata": {},
   "source": [
    "### 1-4. Big Data History"
   ]
  },
  {
   "cell_type": "markdown",
   "metadata": {},
   "source": [
    "#### History\n",
    "\n",
    "- **Relation Database Management**\n",
    "- **Data Warehousing** : Using from 1970, Skills and manage from 1980\n",
    "- **Data Mininig** : Entering 1900s, started to pile up, 2010 era of mobile computing\n",
    "- **Big Data**"
   ]
  },
  {
   "cell_type": "markdown",
   "metadata": {},
   "source": [
    "\n",
    "----"
   ]
  },
  {
   "cell_type": "markdown",
   "metadata": {},
   "source": [
    "## Topic 2. Prospects of Big Data"
   ]
  },
  {
   "cell_type": "markdown",
   "metadata": {},
   "source": [
    "### 2-1. Business Intelligence"
   ]
  },
  {
   "cell_type": "markdown",
   "metadata": {},
   "source": [
    "#### Pyramid structure\n",
    "\n",
    "1. Decision Making : End User\n",
    "1. Data Presentation : Business Analyst\n",
    "1. Data Mining : Data Analyst\n",
    "1. Data Exploration : Data Analyst\n",
    "1. Data Preprocessing·Integration, Data Warehouses : DBA\n",
    "1. Data Sources : DBA"
   ]
  },
  {
   "cell_type": "markdown",
   "metadata": {},
   "source": [
    "#### Data Analyst\n",
    "\n",
    "Data Analysts and Data Base Administrators are **promising Job!** <br>\n",
    "**Humanities** research and studies alse conducted through the data analysis."
   ]
  },
  {
   "cell_type": "markdown",
   "metadata": {},
   "source": [
    "----"
   ]
  },
  {
   "cell_type": "markdown",
   "metadata": {},
   "source": [
    "### 2-2. Big Data Demands"
   ]
  },
  {
   "cell_type": "markdown",
   "metadata": {},
   "source": [
    "#### McKinsey Report, 2011\n",
    "\n",
    "Predicion repid growth of Big Data industry. In USA at 2018, 0.5 million big data experts demended but only 0.3 million supplied."
   ]
  },
  {
   "cell_type": "markdown",
   "metadata": {},
   "source": [
    "----"
   ]
  },
  {
   "cell_type": "markdown",
   "metadata": {},
   "source": [
    "### 2-3. Data Science"
   ]
  },
  {
   "cell_type": "markdown",
   "metadata": {},
   "source": [
    "##### Conway's Venn diagram\n",
    "1. **Hacking skills**\n",
    "1. **Math & Statistics Knowledge**\n",
    "1. **Substantive Expertise**\n",
    "\n",
    "![img](https://i.imgur.com/XhfZizd.png)\n"
   ]
  },
  {
   "cell_type": "markdown",
   "metadata": {},
   "source": [
    "#### Conditions\n",
    "\n",
    "1. DBA : unstrured data\n",
    "1. Statstician : data the does not fit in memory\n",
    "1. Software Engineer : statstical modeling and How communicate result\n",
    "1. Business Analyst : Algorithms and Programmings"
   ]
  },
  {
   "cell_type": "markdown",
   "metadata": {},
   "source": [
    "----"
   ]
  }
 ],
 "metadata": {
  "kernelspec": {
   "display_name": "Python 3",
   "language": "python",
   "name": "python3"
  },
  "language_info": {
   "codemirror_mode": {
    "name": "ipython",
    "version": 3
   },
   "file_extension": ".py",
   "mimetype": "text/x-python",
   "name": "python",
   "nbconvert_exporter": "python",
   "pygments_lexer": "ipython3",
   "version": "3.6.5"
  }
 },
 "nbformat": 4,
 "nbformat_minor": 2
}
