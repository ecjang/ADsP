{
 "cells": [
  {
   "cell_type": "markdown",
   "metadata": {},
   "source": [
    "- 교제 정보 : https://goo.gl/eFk5uN"
   ]
  },
  {
   "cell_type": "markdown",
   "metadata": {},
   "source": [
    "# Lesson3. Data Model"
   ]
  },
  {
   "cell_type": "markdown",
   "metadata": {},
   "source": [
    "----"
   ]
  },
  {
   "cell_type": "markdown",
   "metadata": {},
   "source": [
    "## Topic1. Data Storage"
   ]
  },
  {
   "cell_type": "markdown",
   "metadata": {},
   "source": [
    "### 1-1. How do we store Data?"
   ]
  },
  {
   "cell_type": "markdown",
   "metadata": {},
   "source": [
    "데이터가 어떻게 저장되어야 분석이 편할까? 과거에는 HDD를 주로 사용했지만 현재는 SDD를 사용한다. 구조에 따라 내부에 저장되는 형태가 달라진다. 분석하는 사람 입장에서는 저장되는 형태와 상관없이 작업을 할 수 있도록 **데이터 모델**이 필요하다.\n",
    "\n",
    "- Excel : 데이터를 테이블 형태로 저장한다. 그래서 사용자도 데이터를 테이블 형식으로 저장해야 한다.\n",
    "- Hierarchical : 폴더 구조처럼 계층적인 구조로 윈도우즈에서 파일 관리에 사용되는 형태이다.\n",
    "- Unstructured : 복잡한 데이터의 경우 정형화되지 않은 형태로 저장할 수 있다."
   ]
  },
  {
   "cell_type": "markdown",
   "metadata": {},
   "source": [
    "----"
   ]
  },
  {
   "cell_type": "markdown",
   "metadata": {},
   "source": [
    "## Topic2. Components of Data Model"
   ]
  },
  {
   "cell_type": "markdown",
   "metadata": {},
   "source": [
    "### 2-1. What is a Data Model?"
   ]
  },
  {
   "cell_type": "markdown",
   "metadata": {},
   "source": [
    "#### 3 Component\n",
    "1. **Structure 구조** : 행렬, 노드와 엣지, 키와 값, 시퀀스\n",
    "\n",
    "1. **Constraints 조건** : 모든 행은 동일한 칼럼을 가진다. / 열의 모든 값은 동일한 타입을 가진다. / 트리형태의 경우 자식은 2개 이상의 부모를 가질 수 없다.\n",
    "\n",
    "1. **Operations 연산** : 특정 키에 맞는 값을 검색 / 특정 이름이 속한 행을 검색 / 다음 데이터를 검색"
   ]
  },
  {
   "cell_type": "markdown",
   "metadata": {},
   "source": [
    "----"
   ]
  },
  {
   "cell_type": "markdown",
   "metadata": {},
   "source": [
    "## Topic3. DataBase"
   ]
  },
  {
   "cell_type": "markdown",
   "metadata": {},
   "source": [
    "### 3-1. What is a Database?\n",
    "\n",
    "\"A collection of information organized to afford efficient retrieval\" 데이터 모델로 표현된 데이터를 빠르게 검색하고 조직하는 것."
   ]
  },
  {
   "cell_type": "markdown",
   "metadata": {},
   "source": [
    "#### why\n",
    "데이터를 관리하는데 편리한 기능을 지원하기 때문\n",
    "- **Sharing 공유** : 동시에 여러명의 사용자가 사용 가능\n",
    "- **Enforcement 시행** : 확실하고 구조화된 데이터\n",
    "- **Scale 크기** : 메모리보다 큰 데이터를 다룸\n",
    "- **Flexibility 유연** : 다양한 방식 지원"
   ]
  },
  {
   "cell_type": "markdown",
   "metadata": {},
   "source": [
    "----"
   ]
  },
  {
   "cell_type": "markdown",
   "metadata": {},
   "source": [
    "### 3-2. Question to Consider\n",
    "데이터베이스를 만드는 입장에서 어떤 점을 고려해야 할까? \n",
    "- 데이터가 물리적으로 어떻게 구조화되는가?\n",
    "- 어떤 형태의 쿼리를 지원할까?\n",
    "- 데이터 수정 작업이 정상적으로 이루어질까?\n",
    "- 예상히지 못한 새로운 쿼리도 유연하게 지원될까?"
   ]
  },
  {
   "cell_type": "markdown",
   "metadata": {},
   "source": [
    "----"
   ]
  },
  {
   "cell_type": "markdown",
   "metadata": {},
   "source": [
    "### 3-3. Historical Example\n",
    "과거 이런 시스템을 만들기 위해 다양한 시도가 있었다.\n",
    "- 네트워크 데이터베이스 : 쿼리에 한계가 있어 많이 사용안함\n",
    "- 계층적 데이터베이스 : 구조적으로 트리형태, 특정 내용을 검색할 때 많은 연산 필요. 범용적 사용에 한계"
   ]
  },
  {
   "cell_type": "markdown",
   "metadata": {},
   "source": [
    "----"
   ]
  }
 ],
 "metadata": {
  "kernelspec": {
   "display_name": "Python 3",
   "language": "python",
   "name": "python3"
  },
  "language_info": {
   "codemirror_mode": {
    "name": "ipython",
    "version": 3
   },
   "file_extension": ".py",
   "mimetype": "text/x-python",
   "name": "python",
   "nbconvert_exporter": "python",
   "pygments_lexer": "ipython3",
   "version": "3.6.5"
  }
 },
 "nbformat": 4,
 "nbformat_minor": 2
}
