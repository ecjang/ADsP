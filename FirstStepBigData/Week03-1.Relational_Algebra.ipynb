{
 "cells": [
  {
   "cell_type": "markdown",
   "metadata": {},
   "source": [
    "- 교제 정보 : https://goo.gl/eFk5uN"
   ]
  },
  {
   "cell_type": "markdown",
   "metadata": {},
   "source": [
    "# Lesson5. Relational Agebra"
   ]
  },
  {
   "cell_type": "markdown",
   "metadata": {},
   "source": [
    "----"
   ]
  },
  {
   "cell_type": "markdown",
   "metadata": {},
   "source": [
    "## Topic1. Sets vs Bags"
   ]
  },
  {
   "cell_type": "markdown",
   "metadata": {},
   "source": [
    "### 1-1. Sets vs Bags\n",
    "Sets와 Bags 시멘틱스 2가지 종류가 있다. Sets는 하나의 집합에 동일한 요소가 있을 수 없지만, Bags는 중복된 요소가 있을 수 있다.\n",
    "- 일반적으로 Sets 시멘틱스를 가정하여 사용, 하지만 실제로는 Bags로 구현되어 있음\n",
    "- 둘 다 정렬기능을 제공하지 않음.\n",
    "- 결국 둘 다 섞어 사용함."
   ]
  },
  {
   "cell_type": "markdown",
   "metadata": {},
   "source": [
    "----"
   ]
  },
  {
   "cell_type": "markdown",
   "metadata": {},
   "source": [
    "## Topic2. Basic Relational Algebra Operation \n",
    "\n",
    "정수의 연산은 정수로 나오듯이 테이블의 연산 결과는 테이블로 나온다. 이를 닫혀있다고 한다."
   ]
  },
  {
   "cell_type": "markdown",
   "metadata": {},
   "source": [
    "### 2-1. Selection\n",
    "\n",
    "조건에 부합하는 모든 튜플을 반환한다.\n",
    "- 기호 : **$\\sigma_c{(R)}$**, 시그마 기호를 사용.\n",
    "- 조건 : =, <, >, ≤, ≥, ≠\n",
    "- 예 : SELECT * FROM Employee WHERE Salary > 40000; = $\\sigma_{Salary>4000}(Employee)$"
   ]
  },
  {
   "cell_type": "markdown",
   "metadata": {},
   "source": [
    "### 2-2. Union\n",
    "테이블을 합쳐서 반환한다.\n",
    "- 기호 : $R1 \\cup R2$\n",
    "- 예 : SELECT * FROM R1 UNION ALL SELECT * FROM R2; = $R1 \\cup R2$\n",
    "- Union ALL : 중복을 허용한다는 의미, 즉 Bags로 병합\n",
    "- Union : 중복을 허용하지 않는다는 의미, 즉, Sets로 병합"
   ]
  },
  {
   "cell_type": "markdown",
   "metadata": {},
   "source": [
    "### 2-3. Difference\n",
    "말그대로 빼는 연산이다.\n",
    "- 기호 : $R1 - R2$\n",
    "- 예 : SELECT * FROM R1 EXCEPT SELECT * FROM R2; = $R1-R2$"
   ]
  },
  {
   "cell_type": "markdown",
   "metadata": {},
   "source": [
    "### 2-4. What is about Intersection?\n",
    "교집합도 -연산자로 표현할 수 있다.\n",
    "\n",
    "- 빼기 연산자 : $R1 \\cap R2 = R1 - (R1-R2)$\n",
    "- 조인 연산자 : $R1 \\cap R2 = R1 \\bowtie R2$\n"
   ]
  },
  {
   "cell_type": "markdown",
   "metadata": {},
   "source": [
    "### 2-5. Projection\n",
    "칼럼을 제거하거나 필요한 칼럼만 추출하는 연산이다.\n",
    "- 기호 : $\\Pi_{A_1,...,A_n}(R)$\n",
    "- 예 : SELCT SSN,name FROM Employee; = $\\Pi_{SSM, name}(Employee)$\n",
    "- **DISTICT : 중복을 제거. Sets 대신 Bags로 계산. Bags가 더 빨리 처리된다.**"
   ]
  },
  {
   "cell_type": "markdown",
   "metadata": {},
   "source": [
    "### 2-6. Cross Product\n",
    "\n",
    "각 튜플을 곱하는 연산이다. 연산량이 많아 실제로는 자주 사용하지 않는다.\n",
    "\n",
    "- 기호 $R1 \\times R2$\n",
    "- 각 튜플을 곱한 양이 반환된다.\n"
   ]
  },
  {
   "cell_type": "markdown",
   "metadata": {},
   "source": [
    "### 2-7. Equi-Join\n",
    "\n",
    "곱연산을 할 때는 조인 연산을 많이 사용한다. 조건을 만족하는 것만 Cross Product하는 연산이다.\n",
    "- 기호 : $R1 \\bowtie_{A=B} R2 = \\sigma_{A=B}(R1 \\times R2)$\n",
    "- 예 : SELECT * FROM R1,R2 WHERE R1.A=R2.B; = SELECT * FROM R1 JOIN R2 WHERE R1.A = R2.B;\n",
    "- 둘은 같은 연산을 한다."
   ]
  },
  {
   "cell_type": "markdown",
   "metadata": {},
   "source": [
    "### 2-8. Theta Join\n",
    "Equi-Join과 다르게 다른 조건이 올 수도 있다.\n",
    "- 기호 : $R1 \\bowtie_{\\theta} R2 = \\delta_{\\theta} (R1 \\times R2) $\n",
    "- $\\theta$는 조건을 의미하며 Equi-Join의 특별한 형태이다.\n",
    "- 예1 : SELECT DISTINCT h.name WHERE Hospitals h, Schools s WHERE distance(h.location, s.location) < 5 = $\\Pi_{Name}(Hospitals \\bowtie_{distance(location,location)<5} Schools)$\n",
    "- 예2 : SELECT * FROM Clicks c, PageLoads p WHERE abs(c.click_time - p.load_time) < 5 = $Clicks \\bowtie_{abs(click_time - load_time)<5} PageLoads$"
   ]
  },
  {
   "cell_type": "markdown",
   "metadata": {},
   "source": [
    "### 2-9. Outer join\n",
    "매치 부분 외의 부분까지 병합하는 기능이다. Left는 왼쪽의 모든 데이터를, Right는 오른쪽의 모든 데이터를 모두 가져온다.\n",
    "\n",
    "- ⟕ : Left outer join\n",
    "- ⟖ : Right outer join\n",
    "- ⟗ : Full outer join \n",
    "- 매칭되지 않아 데이터가 없는 경우는 null로 채워진다."
   ]
  },
  {
   "cell_type": "markdown",
   "metadata": {},
   "source": [
    "----"
   ]
  },
  {
   "cell_type": "markdown",
   "metadata": {},
   "source": [
    "# Lesson2. SQLite Practice"
   ]
  },
  {
   "cell_type": "markdown",
   "metadata": {},
   "source": [
    "----"
   ]
  },
  {
   "cell_type": "markdown",
   "metadata": {},
   "source": [
    "## Topic1. What is SQLite?"
   ]
  },
  {
   "cell_type": "markdown",
   "metadata": {},
   "source": [
    "### 1-1. What is SQLite?\n",
    "\n",
    "가장 보편적으로 사용되고 있는 데이터베이스 엔진이다.\n",
    "\n",
    "- 특징: 오픈소스, 기본 제공되는 패키지, 서버가 없어도 됨, 무구성\n",
    "- 임베디드 엔진, 기본적인 기능 제공, 가벼운 용량, 안정적, ACID 프로퍼티 만족\n",
    "- 기능 : 메모리를 초과하는 데이터도 분석 가능"
   ]
  },
  {
   "cell_type": "markdown",
   "metadata": {},
   "source": [
    "### 1-2. What is SQLite?\n",
    "\n",
    "다운로드 받아 설치 가능. 혹은 파이썬 설치시 자동으로 설치되니 불러와서 사용 가능.\n",
    "- web : https://www.sqlite.org/download.html\n",
    "- import : import sqlite3"
   ]
  },
  {
   "cell_type": "code",
   "execution_count": 3,
   "metadata": {},
   "outputs": [],
   "source": [
    "import sqlite3"
   ]
  },
  {
   "cell_type": "markdown",
   "metadata": {},
   "source": [
    "----"
   ]
  }
 ],
 "metadata": {
  "kernelspec": {
   "display_name": "Python 3",
   "language": "python",
   "name": "python3"
  },
  "language_info": {
   "codemirror_mode": {
    "name": "ipython",
    "version": 3
   },
   "file_extension": ".py",
   "mimetype": "text/x-python",
   "name": "python",
   "nbconvert_exporter": "python",
   "pygments_lexer": "ipython3",
   "version": "3.6.5"
  }
 },
 "nbformat": 4,
 "nbformat_minor": 2
}
