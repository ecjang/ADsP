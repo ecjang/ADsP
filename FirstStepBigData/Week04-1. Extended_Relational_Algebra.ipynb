{
 "cells": [
  {
   "cell_type": "markdown",
   "metadata": {},
   "source": [
    "- 교제 정보 : https://goo.gl/eFk5uN"
   ]
  },
  {
   "cell_type": "markdown",
   "metadata": {},
   "source": [
    "# Lesson1. Extended Relational Algebra"
   ]
  },
  {
   "cell_type": "markdown",
   "metadata": {},
   "source": [
    "----"
   ]
  },
  {
   "cell_type": "markdown",
   "metadata": {},
   "source": [
    "## Topic1. Extended Relational Algebra Operation"
   ]
  },
  {
   "cell_type": "markdown",
   "metadata": {},
   "source": [
    "### 1-1. Aggregation: GROUP BY\n",
    "\n",
    "영역별로 그룹을 지어서 그 중에서 계산된 값을 반환한다.\n",
    "$$ _{Branch}G_{max(Balance)}(Bank) $$\n",
    "\n",
    "- 예 : Bank라는 테이블을 만든뒤 각 브랜치별로 그룹을 지어서 그 중의 최대 잔고를 조회하는 예\n",
    "- 식 : **SELECT Branch, max(Balance) FROM Bank GROUP BY Branch**"
   ]
  },
  {
   "cell_type": "markdown",
   "metadata": {},
   "source": [
    "실습 참고 \n",
    "- SQLite in Jupyter Notebook : https://docs.python.org/2/library/sqlite3.html\n",
    "- Install SQLite in Mac : https://goo.gl/ruiZEK"
   ]
  },
  {
   "cell_type": "code",
   "execution_count": 1,
   "metadata": {},
   "outputs": [],
   "source": [
    "import sqlite3 as sql"
   ]
  },
  {
   "cell_type": "code",
   "execution_count": 2,
   "metadata": {},
   "outputs": [
    {
     "data": {
      "text/plain": [
       "<sqlite3.Cursor at 0x25a6737b180>"
      ]
     },
     "execution_count": 2,
     "metadata": {},
     "output_type": "execute_result"
    }
   ],
   "source": [
    "# 작성한 테이블 삭제용\n",
    "conn = sql.connect(\"Bank.sqlite\")\n",
    "cursor = conn.cursor()\n",
    "cursor.execute(\"\"\"DROP TABLE Bank\"\"\")"
   ]
  },
  {
   "cell_type": "code",
   "execution_count": 3,
   "metadata": {},
   "outputs": [],
   "source": [
    "conn = sql.connect(\"Bank.sqlite\")\n",
    "cursor = conn.cursor()\n",
    "cursor.execute(\"\"\"CREATE TABLE Bank(Account int, Branch text, Country text, Balance text) \"\"\")\n",
    "cursor.execute(\"INSERT INTO Bank(Account, Branch, Country, Balance) VALUES(100090, 'Seoul', 'Korea', 10000)\")\n",
    "cursor.execute(\"INSERT INTO Bank(Account, Branch, Country, Balance) VALUES(100100, 'Busan', 'Korea', 9000)\")\n",
    "cursor.execute(\"INSERT INTO Bank(Account, Branch, Country, Balance) VALUES(200010, 'New York', 'USA', 20000)\")\n",
    "cursor.execute(\"INSERT INTO Bank(Account, Branch, Country, Balance) VALUES(100090, 'Seoul', 'Korea', 3000)\")\n",
    "cursor.execute(\"INSERT INTO Bank(Account, Branch, Country, Balance) VALUES(100100, 'Busan', 'Korea', 4000)\")\n",
    "cursor.execute(\"INSERT INTO Bank(Account, Branch, Country, Balance) VALUES(200010, 'New York', 'USA', 15000)\")\n",
    "conn.commit()"
   ]
  },
  {
   "cell_type": "code",
   "execution_count": 4,
   "metadata": {},
   "outputs": [
    {
     "name": "stdout",
     "output_type": "stream",
     "text": [
      "('Busan', '9000')\n",
      "('New York', '20000')\n",
      "('Seoul', '3000')\n"
     ]
    }
   ],
   "source": [
    "conn = sql.connect(\"Bank.sqlite\")\n",
    "cursor = conn.cursor()\n",
    "for row in cursor.execute(\"SELECT Branch, max(Balance) FROM Bank GROUP BY Branch\"):\n",
    "    print(row)\n",
    "cursor.close()"
   ]
  },
  {
   "cell_type": "markdown",
   "metadata": {},
   "source": [
    "### 1-2. Aggregation: GROUP BY ... HAVING ....\n",
    "\n",
    "그룹별로 정렬한 것 중에서 조건식을 적용할 수 있다.\n",
    "\n",
    "$$ \\delta_{sum(Balance)>10,000}(_{Branch}G_{Balance}(Bank)) $$\n",
    "\n",
    "- 예: 각 브랜치별로 정렬한 후 최고 잔액을 구하여, 그 중 10,0000 이상인 것만 조회\n",
    "- HAVING이라는 조건이 추가. SELECT에 있는 요소가 와야 한다"
   ]
  },
  {
   "cell_type": "code",
   "execution_count": 5,
   "metadata": {},
   "outputs": [
    {
     "name": "stdout",
     "output_type": "stream",
     "text": [
      "('Busan', 13000)\n",
      "('New York', 35000)\n",
      "('Seoul', 13000)\n"
     ]
    }
   ],
   "source": [
    "conn = sql.connect(\"Bank.sqlite\")\n",
    "cursor = conn.cursor()\n",
    "for row in cursor.execute(\"\"\"\n",
    "SELECT Branch, sum(Balance) \n",
    "FROM Bank \n",
    "GROUP BY Branch \n",
    "HAVING sum(Balance) > 10000\"):\n",
    "    print(row)\n",
    "cursor.close()"
   ]
  },
  {
   "cell_type": "markdown",
   "metadata": {},
   "source": [
    "### 1-3. Aggregation: ORDER BY\n",
    "\n",
    "내림차순 오름차순 정렬 기능을 적용할 수 있다.\n",
    "\n",
    "$$ \\delta_{sum(Balance)>10,000}(_{Branch}G_{Balance}(\\delta_{countty=korea}Bank)) $$\n",
    "\n",
    "- 예: 각 브랜치별로 정렬한 후 최고 잔액을 구하여, 그 중 10,0000 이상인 것과 지역이 한국인 것을 구하여 이를 오름차순으로 정렬\n",
    "- ORDER BY를 사용하며 ASC는 오름차순, DSC는 내림차순 정렬\n",
    "- Sets는 중복불가, Bags는 중복허용 집합. 둘다 정렬을 고려하지 않기 때문에 해당 기능을 사용"
   ]
  },
  {
   "cell_type": "markdown",
   "metadata": {},
   "source": [
    "----"
   ]
  },
  {
   "cell_type": "markdown",
   "metadata": {},
   "source": [
    "## Topic2. Interpreting Complicated SQL"
   ]
  },
  {
   "cell_type": "markdown",
   "metadata": {},
   "source": [
    "### 2-1. Interpreting Complicated SQL 1\n",
    "\n",
    "복잡한 쿼리문을 보면서 어떻게 조회되는지 해석해보자.\n",
    "- 서브쿼리 : 쿼리 안에 또 다른 쿼리가 들어가는 것\n",
    "- 제일 안에 있는 쿼리부터 봐야 한다\n",
    "- 먼저 Tokyo_4_merged_date_time 테이블에 ts, binsize 칼럼이 추가됨\n",
    "- 그 뒤에 연산값을 binid로 저장하여 새로운 칼럼으로 또 추가됨\n",
    "- avg : 평균을 구하는 함수"
   ]
  },
  {
   "cell_type": "markdown",
   "metadata": {},
   "source": [
    "``` mysql\n",
    "SELECT binid,\n",
    "    round(avg(cast(Fluo as float)),3) as Fluo,\n",
    "    round(avg(cast(Oxygen as float)),3) as Oxygen,\n",
    "    round(avg(cast(Nitrate)uM as float)),3) as Nitrate_uM,\n",
    "    round(avg(cast(longitude as float)),3) as longitude,\n",
    "    round(avg(cast(latitude as float)),3) as latitude,\n",
    "FROM (\n",
    "        SELECT *,\n",
    "        cast( floor(ts) + floor((ts - floor(ts)*24*60/binsize) * binsize / (24*60) as datetime) as binid\n",
    "        FROM(\n",
    "            SELECT *,\n",
    "                cast(timestamp as float) as ts, \n",
    "                5.0 as binsize\n",
    "            FROM Tokyo_4_merged_date_time\n",
    "        ) x\n",
    "    ) bins\n",
    "GROUP BY binid\n",
    "ORDER BY binid ASC\n",
    "\n",
    "```"
   ]
  },
  {
   "cell_type": "markdown",
   "metadata": {},
   "source": [
    "### 2-1. Interpreting Complicated SQL 2\n",
    "\n",
    "이번에는 SELECT가 복잡한 예를 살펴보자. CASE WHEN이라는 조건이 포함되었는데 경우에 따라 값을 다르게 설정할 때 사용한다.\n",
    "- SELECT 문의 요소는 총 9개가 만들어 짐\n",
    "- CASE WHEN 구절이 복잡하므로 사용자 함수로 줄여쓸 수 있다"
   ]
  },
  {
   "cell_type": "markdown",
   "metadata": {},
   "source": [
    "#### User Define 함수 적용 전\n",
    "\n",
    "``` mysql\n",
    "SELECT x.strain, x.chr, x.regionas snp_region, x.start_bpas snp_start_bp, x.end_bpas snp_end_bp, w.start_bpas nc_start_bp, w.end_bpas nc_end_bp, w.categoryas nc_category, \n",
    "    CASE WHEN (x.start_bp >= w.start_bp AND x.end_bp <= w.end_bp)\n",
    "        THEN x.end_bp-x.start_bp+ 1\n",
    "    WHEN (x.start_bp <= w.start_bp AND w.start_bp <= x.end_bp)\n",
    "        THEN x.end_bp-w.start_bp+ 1\n",
    "    WHEN (x.start_bp <= w.end_bp AND w.end_bp <= x.end_bp)\n",
    "        THEN w.end_bp-x.start_bp+ 1\n",
    "    END AS len_overlap\n",
    "FROM hotspots_deserts x JOIN table_noncoding_positions w ON x.chr = w.chr\n",
    "WHERE (x.start_bp>= w.start_bpANDx.end_bp<= w.end_bp) \n",
    "    OR (x.start_bp<= w.start_bpANDw.start_bp<= x.end_bp)\n",
    "    OR (x.start_bp<= w.end_bpANDw.end_bp<= x.end_bp)\n",
    "ORDER BY x.strain, x.chrASC,x.start_bpASC\n",
    "\n",
    "```"
   ]
  },
  {
   "cell_type": "markdown",
   "metadata": {},
   "source": [
    "#### User Define 함수 적용 후\n",
    "len_overlap 구문으로 교체한다\n",
    "\n",
    "``` mysql\n",
    "SELECT x.strain, x.chr, x.regionas snp_region, x.start_bpas snp_start_bp, x.end_bpas snp_end_bp, w.start_bpas nc_start_bp, w.end_bpas nc_end_bp, w.categoryas nc_category, \n",
    "    len_overlap(x.start_bp, x.end_bp, w.start_bp, w.end_bp)\n",
    "FROM hotspots_deserts x JOIN table_noncoding_positions w ON x.chr = w.chr\n",
    "WHERE overlaps(x.start_bp, x.end_bp, w.start_bp, w.end_bp)\n",
    "ORDER BY x.strain, x.chrASC,x.start_bpASC\n",
    "\n",
    "```"
   ]
  },
  {
   "cell_type": "markdown",
   "metadata": {},
   "source": [
    "#### 최종수정 후\n",
    "FROM의 조인 구문도 줄일 수 있다. JOIN의 조건을 WHERE 절에 사용한다.\n",
    "\n",
    "``` mysql\n",
    "SELECT x.strain, x.chr, x.regionas snp_region, x.start_bpas snp_start_bp, x.end_bpas snp_end_bp, w.start_bpas nc_start_bp, w.end_bpas nc_end_bp, w.categoryas nc_category, \n",
    "    len_overlap(x.start_bp, x.end_bp, w.start_bp, w.end_bp)\n",
    "FROM hotspots_deserts x, table_noncoding_positions w\n",
    "WHERE x.chr = w.chr AND overlaps(x.start_bp, x.end_bp, w.start_bp, w.end_bp)\n",
    "ORDER BY x.strain, x.chrASC,x.start_bpASC\n",
    "\n",
    "```"
   ]
  },
  {
   "cell_type": "markdown",
   "metadata": {},
   "source": [
    "----"
   ]
  },
  {
   "cell_type": "markdown",
   "metadata": {},
   "source": [
    "## Topic3. User-Defined Function"
   ]
  },
  {
   "cell_type": "markdown",
   "metadata": {},
   "source": [
    "### 3-1. User Difined Function\n",
    "\n",
    "사용자가 직접 함수를 작성하여 등록할 수 있다. 많은 데이터베이스 소프트웨어에서 지원하는 기능이지만 SQLite에서는 지원하지 않는다.\n",
    "\n",
    "1. **Scalar Function** : 스칼라를 반환\n",
    "1. **Aggregate Function** : 통합값을 반환\n",
    "1. **Table Function** : 테이블을 반환"
   ]
  },
  {
   "cell_type": "markdown",
   "metadata": {},
   "source": [
    "----"
   ]
  }
 ],
 "metadata": {
  "kernelspec": {
   "display_name": "Python 3",
   "language": "python",
   "name": "python3"
  },
  "language_info": {
   "codemirror_mode": {
    "name": "ipython",
    "version": 3
   },
   "file_extension": ".py",
   "mimetype": "text/x-python",
   "name": "python",
   "nbconvert_exporter": "python",
   "pygments_lexer": "ipython3",
   "version": "3.6.5"
  }
 },
 "nbformat": 4,
 "nbformat_minor": 2
}
