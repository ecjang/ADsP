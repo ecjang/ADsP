{
 "cells": [
  {
   "cell_type": "markdown",
   "metadata": {},
   "source": [
    "- 교제 정보 : https://goo.gl/eFk5uN"
   ]
  },
  {
   "cell_type": "markdown",
   "metadata": {},
   "source": [
    "# Lesson1. Extended Relational Algebra"
   ]
  },
  {
   "cell_type": "markdown",
   "metadata": {},
   "source": [
    "----"
   ]
  },
  {
   "cell_type": "markdown",
   "metadata": {},
   "source": [
    "## Topic1. Extended Relational Algebra Operation"
   ]
  },
  {
   "cell_type": "markdown",
   "metadata": {},
   "source": [
    "### 1-1. Aggregation: GROUP BY\n",
    "\n",
    "영역별로 그룹을 지어서 그 중에서 계산된 값을 반환한다.\n",
    "$$ _{Branch}G_{max(Balance)}(Bank) $$\n",
    "\n",
    "- 예 : Bank라는 테이블을 만든뒤 각 브랜치별로 그룹을 지어서 그 중의 최대 잔고를 조회하는 예\n",
    "- 식 : **SELECT Branch, max(Balance) FROM Bank GROUP BY Branch**"
   ]
  },
  {
   "cell_type": "markdown",
   "metadata": {},
   "source": [
    "실습 참고 \n",
    "- SQLite in Jupyter Notebook : https://docs.python.org/2/library/sqlite3.html\n",
    "- Install SQLite in Mac : https://goo.gl/ruiZEK"
   ]
  },
  {
   "cell_type": "code",
   "execution_count": 33,
   "metadata": {},
   "outputs": [],
   "source": [
    "import sqlite3 as sql"
   ]
  },
  {
   "cell_type": "code",
   "execution_count": 71,
   "metadata": {},
   "outputs": [
    {
     "data": {
      "text/plain": [
       "<sqlite3.Cursor at 0x10a8375e0>"
      ]
     },
     "execution_count": 71,
     "metadata": {},
     "output_type": "execute_result"
    }
   ],
   "source": [
    "# 작성한 테이블 삭제용\n",
    "conn = sql.connect(\"Bank.sqlite\")\n",
    "cursor = conn.cursor()\n",
    "cursor.execute(\"\"\"DROP TABLE Bank\"\"\")"
   ]
  },
  {
   "cell_type": "code",
   "execution_count": 72,
   "metadata": {},
   "outputs": [],
   "source": [
    "conn = sql.connect(\"Bank.sqlite\")\n",
    "cursor = conn.cursor()\n",
    "cursor.execute(\"\"\"CREATE TABLE Bank(Account int, Branch text, Country text, Balance text) \"\"\")\n",
    "cursor.execute(\"INSERT INTO Bank(Account, Branch, Country, Balance) VALUES(100090, 'Seoul', 'Korea', 10000)\")\n",
    "cursor.execute(\"INSERT INTO Bank(Account, Branch, Country, Balance) VALUES(100100, 'Busan', 'Korea', 9000)\")\n",
    "cursor.execute(\"INSERT INTO Bank(Account, Branch, Country, Balance) VALUES(200010, 'New York', 'USA', 20000)\")\n",
    "cursor.execute(\"INSERT INTO Bank(Account, Branch, Country, Balance) VALUES(100090, 'Seoul', 'Korea', 3000)\")\n",
    "cursor.execute(\"INSERT INTO Bank(Account, Branch, Country, Balance) VALUES(100100, 'Busan', 'Korea', 4000)\")\n",
    "cursor.execute(\"INSERT INTO Bank(Account, Branch, Country, Balance) VALUES(200010, 'New York', 'USA', 15000)\")\n",
    "conn.commit()"
   ]
  },
  {
   "cell_type": "code",
   "execution_count": 73,
   "metadata": {},
   "outputs": [
    {
     "name": "stdout",
     "output_type": "stream",
     "text": [
      "('Busan', '9000')\n",
      "('New York', '20000')\n",
      "('Seoul', '3000')\n"
     ]
    }
   ],
   "source": [
    "conn = sql.connect(\"Bank.sqlite\")\n",
    "cursor = conn.cursor()\n",
    "for row in cursor.execute(\"SELECT Branch, max(Balance) FROM Bank GROUP BY Branch\"):\n",
    "    print(row)\n",
    "cursor.close()"
   ]
  },
  {
   "cell_type": "markdown",
   "metadata": {},
   "source": [
    "### 1-2. Aggregation: GROUP BY ... HAVING ....\n",
    "\n",
    "그룹별로 정렬한 것 중에서 조건식을 적용할 수 있다.\n",
    "\n",
    "$$ \\delta_{sum(Balance)>10,000}(_{Branch}G_{Balance}(Bank)) $$\n",
    "\n",
    "- 예: 각 브랜치별로 정렬한 후 최고 잔액을 구하여, 그 중 10,0000 이상인 것만 조회"
   ]
  },
  {
   "cell_type": "code",
   "execution_count": null,
   "metadata": {},
   "outputs": [],
   "source": []
  },
  {
   "cell_type": "markdown",
   "metadata": {},
   "source": [
    "----"
   ]
  }
 ],
 "metadata": {
  "kernelspec": {
   "display_name": "Python 3",
   "language": "python",
   "name": "python3"
  },
  "language_info": {
   "codemirror_mode": {
    "name": "ipython",
    "version": 3
   },
   "file_extension": ".py",
   "mimetype": "text/x-python",
   "name": "python",
   "nbconvert_exporter": "python",
   "pygments_lexer": "ipython3",
   "version": "3.6.5"
  }
 },
 "nbformat": 4,
 "nbformat_minor": 2
}
