{
 "cells": [
  {
   "cell_type": "markdown",
   "metadata": {},
   "source": [
    "# Lesson 1. Data Analysis using SQL"
   ]
  },
  {
   "cell_type": "markdown",
   "metadata": {},
   "source": [
    "----"
   ]
  },
  {
   "cell_type": "markdown",
   "metadata": {},
   "source": [
    "## Topic1. SQL Exercise 1"
   ]
  },
  {
   "cell_type": "markdown",
   "metadata": {},
   "source": [
    "### 1-1. SQL Exercise"
   ]
  },
  {
   "cell_type": "markdown",
   "metadata": {},
   "source": [
    "실습에 사용할 Documents 테이블을 만든다. sql파일을 다운로드 후 cmd로 활성화 한다.\n",
    "\n",
    "1. cmd로 다운받은 파일이 있는 곳으로 이동\n",
    "1. 명령창에 sqlite3.exe 실행\n",
    "1. sql 활성화\n",
    "1. CREATE TABLE Documents(DocID int, Term text, Count int);\n",
    "1. .schema\n",
    "1. .mode csv"
   ]
  },
  {
   "cell_type": "markdown",
   "metadata": {},
   "source": [
    "그리고 입력할 데이터를 엑셀로 만든다.\n",
    "- 나온 단어 수를 기록한 엑셀파일"
   ]
  },
  {
   "cell_type": "code",
   "execution_count": 1,
   "metadata": {},
   "outputs": [
    {
     "data": {
      "text/html": [
       "<div>\n",
       "<style scoped>\n",
       "    .dataframe tbody tr th:only-of-type {\n",
       "        vertical-align: middle;\n",
       "    }\n",
       "\n",
       "    .dataframe tbody tr th {\n",
       "        vertical-align: top;\n",
       "    }\n",
       "\n",
       "    .dataframe thead th {\n",
       "        text-align: right;\n",
       "    }\n",
       "</style>\n",
       "<table border=\"1\" class=\"dataframe\">\n",
       "  <thead>\n",
       "    <tr style=\"text-align: right;\">\n",
       "      <th></th>\n",
       "      <th>1</th>\n",
       "      <th>data</th>\n",
       "      <th>4</th>\n",
       "    </tr>\n",
       "  </thead>\n",
       "  <tbody>\n",
       "    <tr>\n",
       "      <th>0</th>\n",
       "      <td>1</td>\n",
       "      <td>base</td>\n",
       "      <td>3</td>\n",
       "    </tr>\n",
       "    <tr>\n",
       "      <th>1</th>\n",
       "      <td>1</td>\n",
       "      <td>system</td>\n",
       "      <td>5</td>\n",
       "    </tr>\n",
       "    <tr>\n",
       "      <th>2</th>\n",
       "      <td>1</td>\n",
       "      <td>fall</td>\n",
       "      <td>6</td>\n",
       "    </tr>\n",
       "    <tr>\n",
       "      <th>3</th>\n",
       "      <td>1</td>\n",
       "      <td>semester</td>\n",
       "      <td>2</td>\n",
       "    </tr>\n",
       "    <tr>\n",
       "      <th>4</th>\n",
       "      <td>2</td>\n",
       "      <td>data</td>\n",
       "      <td>1</td>\n",
       "    </tr>\n",
       "  </tbody>\n",
       "</table>\n",
       "</div>"
      ],
      "text/plain": [
       "   1      data  4\n",
       "0  1      base  3\n",
       "1  1    system  5\n",
       "2  1      fall  6\n",
       "3  1  semester  2\n",
       "4  2      data  1"
      ]
     },
     "execution_count": 1,
     "metadata": {},
     "output_type": "execute_result"
    }
   ],
   "source": [
    "import pandas as pd\n",
    "Documents = pd.read_csv(\"Documents.csv\")\n",
    "Documents.head()"
   ]
  },
  {
   "cell_type": "markdown",
   "metadata": {},
   "source": [
    "그리고 sql에서 해당 파일을 로드한다.\n",
    "- .import Documents.csv Documents\n",
    "- 불러온 데이터 확인 : SELECT * FROM Documents\n"
   ]
  },
  {
   "cell_type": "markdown",
   "metadata": {},
   "source": [
    "#### 실습1\n",
    "$$ \\pi_{Term}(\\delta_{Docid=2}(Documents)) \\cup \\pi_{Term}(\\delta_{counts=3}(Documents)) $$\n",
    "- 왼쪽 : Term만 조회, 그 중 Docid가 2인 것\n",
    "- 오른쪽 : Term만 조회, 그 중 Counts가 3인 것 \n",
    "- 유니온 : select Term from Documents where Docid=2 union select Term from Documents where Docid=3;\n",
    "- union all 하면 중복된 내용도 포함\n",
    "- or : select Term from Documents where Docid=2 or Docid=3;"
   ]
  },
  {
   "cell_type": "markdown",
   "metadata": {},
   "source": [
    "#### 실습2\n",
    "- \"data\"를 포함하는 수 :  select count(*) from Documents where Term=\"data\";\n",
    "- 3자 이상의 글자를 포함하는 것 : select Docid, count(*) from Documents group by DocID having count(*)>=3;\n",
    "- 3자 이상의 글자를 포함하는 것(having 기능 없이) : select DocID, number from (select DocID, count(*) as number from Documents group by DocID) where number>=3;\n",
    "- data와 base를 포함하는 문서의 수 : select DocId, count(*) from Documents where Term=\"data\" or Term=\"base\" group by DocID; select count(*) from (select DocId, count(*) from Documents where Term=\"data\" or Term=\"base\" group by DocID having count(*)=2);"
   ]
  },
  {
   "cell_type": "markdown",
   "metadata": {},
   "source": [
    "#### 실습 3\n",
    "- 유사도 비교 : Doc1<'a':2, 'b':1, 'c':3>, Doc2<'b':2, 'c':1, 'd':4> 는 1x2 ('b') + 3x1('c') = 5 식으로 계산\n",
    "- 셀프조인활용"
   ]
  },
  {
   "cell_type": "markdown",
   "metadata": {},
   "source": []
  },
  {
   "cell_type": "markdown",
   "metadata": {},
   "source": []
  },
  {
   "cell_type": "markdown",
   "metadata": {},
   "source": []
  },
  {
   "cell_type": "markdown",
   "metadata": {},
   "source": []
  },
  {
   "cell_type": "markdown",
   "metadata": {},
   "source": []
  },
  {
   "cell_type": "markdown",
   "metadata": {},
   "source": []
  },
  {
   "cell_type": "markdown",
   "metadata": {},
   "source": []
  },
  {
   "cell_type": "markdown",
   "metadata": {},
   "source": []
  },
  {
   "cell_type": "markdown",
   "metadata": {},
   "source": []
  },
  {
   "cell_type": "markdown",
   "metadata": {},
   "source": []
  },
  {
   "cell_type": "markdown",
   "metadata": {},
   "source": []
  },
  {
   "cell_type": "markdown",
   "metadata": {},
   "source": []
  },
  {
   "cell_type": "markdown",
   "metadata": {},
   "source": []
  },
  {
   "cell_type": "markdown",
   "metadata": {},
   "source": []
  },
  {
   "cell_type": "markdown",
   "metadata": {},
   "source": []
  }
 ],
 "metadata": {
  "kernelspec": {
   "display_name": "Python 3",
   "language": "python",
   "name": "python3"
  },
  "language_info": {
   "codemirror_mode": {
    "name": "ipython",
    "version": 3
   },
   "file_extension": ".py",
   "mimetype": "text/x-python",
   "name": "python",
   "nbconvert_exporter": "python",
   "pygments_lexer": "ipython3",
   "version": "3.6.5"
  }
 },
 "nbformat": 4,
 "nbformat_minor": 2
}
