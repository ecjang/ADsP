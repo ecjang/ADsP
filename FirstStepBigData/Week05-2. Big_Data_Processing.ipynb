{
 "cells": [
  {
   "cell_type": "markdown",
   "metadata": {},
   "source": [
    "# Lesson 2. Big Data Processing"
   ]
  },
  {
   "cell_type": "markdown",
   "metadata": {},
   "source": [
    "----"
   ]
  },
  {
   "cell_type": "markdown",
   "metadata": {},
   "source": [
    "## Topic1. What does Scalable mean?"
   ]
  },
  {
   "cell_type": "markdown",
   "metadata": {},
   "source": [
    "### 1-1. What does Scalable mean?"
   ]
  },
  {
   "cell_type": "markdown",
   "metadata": {},
   "source": [
    "데이터 크기에 따라 사용할 수 있는 기기가 달라진다.\n",
    "- 메모리보다 작은 크기 : SAS, SPSS, Exsel\n",
    "- 메모리보다 큰 크기 : SQLite, MySQL\n",
    "- 하드디스크를 초과하는 크기 : Hadoop, Pig, Hive, NoSQL, SPARK\n",
    "\n",
    "#### 스칼라적(Scalable)이란\n",
    "사용방법적 해석\n",
    "- 과거 : 데이터가 메모리를 초과하여도 작업하는 것\n",
    "- 현재 : 1000대의 컴퓨터를 사용하여 작업하는 것\n",
    "\n",
    "알고리즘적 해석\n",
    "- 과거 : $N^m$개 이상의 작업 수행 불가 (**Polynormal time algorithms**) \n",
    "- 현재 : $N^m/k$여러대의 컴퓨터로 병렬처리 가능 (**Polynormal time algorithms을 병렬처리**)\n",
    "- 미래 : $log(N)$개의 작업 가능 \n",
    "    - 빅데이터의 **3V(Volume, Velocity, Variety)**로 더 커지고 빠르고 다양해짐\n",
    "    - 데이터 사이즈가 커지면서 한번만 볼 수 있음. 두번 볼 기회가 주어지지 않음(=실시간 처리 필요) \n"
   ]
  },
  {
   "cell_type": "markdown",
   "metadata": {},
   "source": [
    "\n",
    "----"
   ]
  },
  {
   "cell_type": "markdown",
   "metadata": {},
   "source": [
    "## Topic 2. Big Data Processing"
   ]
  },
  {
   "cell_type": "markdown",
   "metadata": {},
   "source": [
    "### 2-1. Big Data Processing"
   ]
  },
  {
   "cell_type": "markdown",
   "metadata": {},
   "source": [
    "#### 실습\n",
    "굉장히 큰 데이터를 처리하는 실습을 해보자.\n",
    "- DNA Sequencing을 조회\n",
    "- \"GATTACGATATTA\"와 매칭되는 부분을 전부 조회\n",
    "\n",
    "#### 조회 방법 1\n",
    "하나씩 조회하여 순차적으로 비교\n",
    "- 데이터 개수만큼 비교할 수 있음\n",
    "- 40개의 기록이 있으면 40번 비교 가능\n",
    "- O(N)만큼 연산\n",
    "\n",
    "#### 조회 방법 2\n",
    "알파벳순으로 정렬하여 비교, 바이러니 조회\n",
    "- 정가운데에서 부터 비교\n",
    "- 단 4번만에 찾음\n",
    "- $O(log(N))$으로 보다 빨리 조회 가능\n",
    "\n",
    "#### Relational Databases\n",
    "이런식으로 RDBMS에서는 빠르게 연산이 가능하다.\n",
    "- 인덱스를 설정하면 보다 빠른 연산 가능(자동으로 인식하여 쿼리 조회)\n",
    "\n",
    "\n",
    "```mysql\n",
    "CREATE INDEX seq_idx ON sequence (seq);\n",
    "\n",
    "SELECT seq\n",
    "FROM sequence\n",
    "WHERE seq = \"GATTACGATATTA\";\n",
    "```\n",
    "\n",
    "\n",
    "#### 새로운 문제 : Read Trimming\n",
    "- DNA 시퀀싱 세트를 조회\n",
    "- 마지막 시퀀싱의 n개를 제거하는 것\n",
    "- 이거는 처음부터 쭉 작업을 해야 함\n",
    "- 결국 병렬 및 분산 처리. 데이터를 작은 청크(Chunck)로 나누어 처리\n",
    "- 총 7번만에 처리 $O(N/k)$\n",
    "- Hadoop은 이런 분산 병렬 처리에 최적화 되어 있음.\n"
   ]
  },
  {
   "cell_type": "markdown",
   "metadata": {},
   "source": [
    "---"
   ]
  }
 ],
 "metadata": {
  "kernelspec": {
   "display_name": "Python 3",
   "language": "python",
   "name": "python3"
  },
  "language_info": {
   "codemirror_mode": {
    "name": "ipython",
    "version": 3
   },
   "file_extension": ".py",
   "mimetype": "text/x-python",
   "name": "python",
   "nbconvert_exporter": "python",
   "pygments_lexer": "ipython3",
   "version": "3.6.5"
  }
 },
 "nbformat": 4,
 "nbformat_minor": 2
}
