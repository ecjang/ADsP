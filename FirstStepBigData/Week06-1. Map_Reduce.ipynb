{
 "cells": [
  {
   "cell_type": "markdown",
   "metadata": {},
   "source": [
    "# Lesson 1. Map-Reduce 1"
   ]
  },
  {
   "cell_type": "markdown",
   "metadata": {},
   "source": [
    "----"
   ]
  },
  {
   "cell_type": "markdown",
   "metadata": {},
   "source": [
    "## Topic1. Big Data Processing"
   ]
  },
  {
   "cell_type": "markdown",
   "metadata": {},
   "source": [
    "### 1-1. Big Data Processing"
   ]
  },
  {
   "cell_type": "markdown",
   "metadata": {},
   "source": [
    "#### 1-1-1. Trimming 작업\n",
    "굉장히 많은 데이터에서 일정한 부분을 제거하는 작업이 필요다고 가정해보자.\n",
    "\n",
    "![Trimming](./img/06-1-001_Trimming.png)\n",
    "\n",
    "- **Chunk(청크, 잘라진 하나의 조각)**마다 특정한 함수를 적용\n",
    "- **$f$**는 trim 작업을 적용하는 역할\n",
    "- 작업결과 또한 분산되어 저장됨\n",
    "- 활용 예 : 많은 양의 이미지 포맷을 변경, 수천건의 문서 자료에서 일반적인 단어를 분류 등"
   ]
  },
  {
   "cell_type": "markdown",
   "metadata": {},
   "source": [
    "#### 1-1-2. Map 함수\n",
    "위의 과정에서 분산된 데이터에 적용되는 함수를 **Map 맵** 함수라고 한다.\n",
    "- tiff 이미지를 png 이미지로 변환하는 맵\n",
    "- 입력값으로 예상값을 계산하는 맵\n",
    "- 문서에서 단어들의 개수를 세어주는 맵"
   ]
  },
  {
   "cell_type": "markdown",
   "metadata": {},
   "source": [
    "#### 1-1-3. Reduce : Merge all results\n",
    "이번에는 반대로 큼 문서를 분할하는 것이 아닌 여러 문서를 합쳐서 분석하는 것을 알아보자.\n",
    "\n",
    "![bottleneck](./img/06-1-001_Bottleneck.png)\n",
    "\n",
    "- 위의 과정과 동일한 과정으로 분석을 실시\n",
    "- 마지막에서 각 청크별 처리결과를 받아야 하는데 많은 연산으로 장애가 생길 수 있음\n",
    "- 이런 문제를 해결하는 것이 바로 **Reduce 리듀스** 기능"
   ]
  },
  {
   "cell_type": "markdown",
   "metadata": {},
   "source": [
    "#### 1-1-4. Reduce function\n",
    "500만개의 문서 작업을 가정해보자.\n",
    "\n",
    "![reduce](./img/06-1-003_Reduce.png)\n",
    "\n",
    "- Map에서 나온 결과에서 같은 결과를 각각의 컴퓨터로 보냄\n",
    "- 각각의 컴퓨터가 결과를 병합하여 처리\n",
    "- 이 과정이 **Reduce 리듀스** 기능\n",
    "- **Shuffle 셔플** : 각각의 결과를 각각의 처리 머신에 저장. key별로 value를 저장.\n",
    "- 이 예에서는 word가 **key**, freq가 **value**가 됨\n"
   ]
  },
  {
   "cell_type": "markdown",
   "metadata": {},
   "source": [
    "\n",
    "----"
   ]
  },
  {
   "cell_type": "markdown",
   "metadata": {},
   "source": [
    "## Topic2.  Map/ Reduce Function"
   ]
  },
  {
   "cell_type": "markdown",
   "metadata": {},
   "source": [
    "### 2-1. Map/Reduce Function"
   ]
  },
  {
   "cell_type": "markdown",
   "metadata": {},
   "source": [
    "#### Map-Reduce\n",
    "Map 함수는 각 문서로부터 단어를 분류하는 기능을 하고, Reduce는 각 결과를 병합하는 기능을한다.\n",
    "- 2004년 구글에서 개발. 하둡에서 사용.\n",
    "- 높은 레벨의 프로그래밍 모델로 큰 데이터를 병렬처리하는 기능"
   ]
  },
  {
   "cell_type": "markdown",
   "metadata": {},
   "source": [
    "####  Data Model\n",
    "맵-리듀스에서 단점도 있다.\n",
    "- **Key, Value를 가진 파일이어야 함**\n",
    "- 인풋과 아웃풋이 같은 형식이어야 함."
   ]
  },
  {
   "cell_type": "markdown",
   "metadata": {},
   "source": [
    "#### Map Phase\n",
    "- input : **(input key, value)**\n",
    "- output : bag of **(intermediate key, value)**\n"
   ]
  },
  {
   "cell_type": "markdown",
   "metadata": {},
   "source": [
    "#### Reduce Phase\n",
    "- input : **(intermediate key, value)**\n",
    "- output : bag of output (output key, value)"
   ]
  },
  {
   "cell_type": "markdown",
   "metadata": {},
   "source": [
    "#### MapReduce Programing Model\n",
    "입력값과 출력값은 키와 값 쌍이어야 한다.\n",
    "- input : **map(in_key, in_value) -> list(intermediate_key, intermediate_value)**\n",
    "- output : **reduce(intermediate_key, list(intermediate_value)) -> one_key, list(out_value)**\n"
   ]
  },
  {
   "cell_type": "markdown",
   "metadata": {},
   "source": [
    "---"
   ]
  }
 ],
 "metadata": {
  "kernelspec": {
   "display_name": "Python 3",
   "language": "python",
   "name": "python3"
  },
  "language_info": {
   "codemirror_mode": {
    "name": "ipython",
    "version": 3
   },
   "file_extension": ".py",
   "mimetype": "text/x-python",
   "name": "python",
   "nbconvert_exporter": "python",
   "pygments_lexer": "ipython3",
   "version": "3.6.5"
  }
 },
 "nbformat": 4,
 "nbformat_minor": 2
}
