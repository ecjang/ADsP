{
 "cells": [
  {
   "cell_type": "markdown",
   "metadata": {},
   "source": [
    "# Lesson 2. Map-Reduce 2"
   ]
  },
  {
   "cell_type": "markdown",
   "metadata": {},
   "source": [
    "----"
   ]
  },
  {
   "cell_type": "markdown",
   "metadata": {},
   "source": [
    "## Topic1. Document Processing using MR"
   ]
  },
  {
   "cell_type": "markdown",
   "metadata": {},
   "source": [
    "### 1-1. Document Processing using MR"
   ]
  },
  {
   "cell_type": "markdown",
   "metadata": {},
   "source": [
    "#### 1-1-1. Word Length Histogram\n",
    "\n",
    "어떤 문장에서 단어의 길이별로 구분하는 작업을 알아보자.\n",
    "\n",
    "![word](./img/06-2-001-Word.png)\n",
    "\n",
    "- 이런 식으로 길이별 단어의 개수를 구하는 예제.\n",
    "- 그런데 이런 문서가 너무 커서 한번에 저장이 안 될 경우\n",
    "- 일정 부분으로 나누어 분산처리 필요\n",
    "\n",
    "![Chunk](./img/06-2-002-Chunk.png)\n",
    "- 분산처리하여 각각 단어 길이를 계산\n",
    "- 각 길이별 단어의 개수를 구함\n",
    "- 각 결과값을 하나로 병합"
   ]
  },
  {
   "cell_type": "markdown",
   "metadata": {},
   "source": [
    "#### 1-1-2. Build an lnverted Index\n",
    "검색어를 입력하면 검색어가 포함된 결과를 분석하는 과정을 알아보자.\n",
    "- 꽤 복잡한 과정이지만 상당히 빠른 시간에 처리됨\n",
    "- 검색어가 포함된 문서가 엄청 많아 일일히 조회 불가\n",
    "- Inverted Index 기능을 사용하여 조회\n",
    "- 맵 리듀스를 사용하여 단시간에 제작 가능\n",
    "\n",
    "#####  Inverted Index\n",
    "문장에 포함된 단어들로 구성된 인덱스. 특정 단어가 포함된 문장의 리스트를 가진다."
   ]
  },
  {
   "cell_type": "markdown",
   "metadata": {},
   "source": [
    "----"
   ]
  },
  {
   "cell_type": "markdown",
   "metadata": {},
   "source": [
    "## Topic 2. Join using MR"
   ]
  },
  {
   "cell_type": "markdown",
   "metadata": {},
   "source": [
    "### 2-1. Join using MR"
   ]
  },
  {
   "cell_type": "markdown",
   "metadata": {},
   "source": [
    "#### Relation Join\n",
    "이번에는 관계형 데이터를 다루는 방법을 알아보자.\n",
    "\n",
    "![table](./img/06-2-003-Table.png)\n",
    "\n",
    "- Employee, Assigned Departments 테이블을 조인\n",
    "- 조인 식은 $ Employee \\Join Departments $\n",
    "- 관계형의 테이블 관계를 맵리듀스의 키벨류 관계로 바꿔야 함\n",
    "- 테이블 이름을 Key, 테이블 값을 Value로 구성\n",
    "- 변환값을 파일로 저장"
   ]
  },
  {
   "cell_type": "markdown",
   "metadata": {},
   "source": [
    "#### Relation Join in MR\n",
    "파일로 저장된 것 중 키값의 내용을 바꿔서 조인한다.\n",
    "\n",
    "![join](./img/06-2-004-Join.png)\n",
    "\n",
    "- 키 값을 SSN으로 변경한 후 나머지를 Value로 넣어줌\n",
    "- 조인 과정으로 5개의 결과가 나옴\n",
    "- 9999999 키 값으로는 1개, 7777777 키 값으로 2개의 결과가 나옴"
   ]
  },
  {
   "cell_type": "markdown",
   "metadata": {},
   "source": [
    "---"
   ]
  }
 ],
 "metadata": {
  "kernelspec": {
   "display_name": "Python 3",
   "language": "python",
   "name": "python3"
  },
  "language_info": {
   "codemirror_mode": {
    "name": "ipython",
    "version": 3
   },
   "file_extension": ".py",
   "mimetype": "text/x-python",
   "name": "python",
   "nbconvert_exporter": "python",
   "pygments_lexer": "ipython3",
   "version": "3.6.5"
  }
 },
 "nbformat": 4,
 "nbformat_minor": 2
}
