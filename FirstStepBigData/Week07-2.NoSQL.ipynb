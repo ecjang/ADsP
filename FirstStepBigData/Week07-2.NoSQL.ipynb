{
 "cells": [
  {
   "cell_type": "markdown",
   "metadata": {},
   "source": [
    "# Lesson 1. NoSQL 1"
   ]
  },
  {
   "cell_type": "markdown",
   "metadata": {},
   "source": [
    "----"
   ]
  },
  {
   "cell_type": "markdown",
   "metadata": {},
   "source": [
    "## Topic1. NoSQL System"
   ]
  },
  {
   "cell_type": "markdown",
   "metadata": {},
   "source": [
    "### 1-1. NoSQL System"
   ]
  },
  {
   "cell_type": "markdown",
   "metadata": {},
   "source": [
    "#### 1-1-1. NoSQL\n",
    "SQL과 noSQL을 구분하는 것은 SQL쿼리 지원여부가 아니라 Scale-Out 유무로 구분할 수 있다.\n",
    "- 2000년 이후로 다양한 noSQL DB가 나옴\n",
    "- 최대 1000대의 컴퓨터까지 확장 가능\n",
    "- RDBMS는 데이터간의 유효성을 목적으로 하기 때문에 확장성이 부족"
   ]
  },
  {
   "cell_type": "markdown",
   "metadata": {},
   "source": [
    "#### 1-1-2. Distribute Problem\n",
    "확장성 좋게 분산 저장을 하다보면 문제가 생길 수 있다.\n",
    "- 여러 복제본이 분산 저장되어 오류가 발생해도 안정적\n",
    "- 하지만 업데이트를 하려면 다른 데이터도 같이 업데이트 되어야 함\n",
    "- 하나의 카피를 업데이트 하면 다른 데이터까지 적용될 때가지 시간이 필요"
   ]
  },
  {
   "cell_type": "markdown",
   "metadata": {},
   "source": [
    "#### 1-1-3. Eventually Consistance\n",
    "데이터들의 유효성을 보장하기 위해 만들어진 기능이다.\n",
    "- 유투브에 영상을 올리고 수정을 하면 바로 반영이 되지 않음\n",
    "- 하지만 시간이 지나면 변경된 내용이 반영됨\n",
    "- DB와 NoSQL의 차이점\n",
    "    - Database : 모든 사람들은 반드시 똑같은 것을 봐야한다. \n",
    "    - NoSQL : 큰 애플리케이션의 경우 오랜시간 적용되는 것은 안된다. "
   ]
  },
  {
   "cell_type": "markdown",
   "metadata": {},
   "source": [
    "----"
   ]
  },
  {
   "cell_type": "markdown",
   "metadata": {},
   "source": [
    "## Topic 2. Two-Phase Commit"
   ]
  },
  {
   "cell_type": "markdown",
   "metadata": {},
   "source": [
    "### 2-1. Two-Phase Commit"
   ]
  },
  {
   "cell_type": "markdown",
   "metadata": {},
   "source": [
    "#### 2-1-1. Two-Phase Commit\n",
    "데이터의 카피가 나누어 저장될 때 일괄적으로 적용될 수 있도록 하는 기능이다.\n",
    "\n",
    "- 업데이트를 하기 전에 미리 준비\n",
    "- 우선 로그를 작성후 준비가 되었다고 재전송\n",
    "- 모든 노드가 업데이트 준비가 되면 업데이트 실행.\n",
    "- 만일 오류 발생시 이전 로그로 되돌아 감"
   ]
  },
  {
   "cell_type": "markdown",
   "metadata": {},
   "source": [
    "----"
   ]
  },
  {
   "cell_type": "markdown",
   "metadata": {},
   "source": [
    "## Topic 3. Eventual Consistency"
   ]
  },
  {
   "cell_type": "markdown",
   "metadata": {},
   "source": [
    "### 3-1. Eventual Consistency"
   ]
  },
  {
   "cell_type": "markdown",
   "metadata": {},
   "source": [
    "#### 3-1-1. Eventual Consistency\n",
    "어떤 애플리케이션이냐에 따라 하드 방식, Two-Phase 방식을 골라서 사용해야 한다.\n",
    "- 은행같은 애플리케이션은 하드 방식을, SNS에서는 이벤트성 방식이 유용\n",
    "- 모든 데이터에 업데이트를 적용할 때까지 데이터 일괄성을 보장할 수 없다는 특징이 있음\n",
    "- 대부분 noSQL은 **Transactions** 기능을 지원"
   ]
  },
  {
   "cell_type": "markdown",
   "metadata": {},
   "source": [
    "#### 3-1-2. CAP Theorem\n",
    "3가지 프로퍼티에 대해 정의한 내용이다.\n",
    "\n",
    "- **Consistency 일관성** : 모든 애플리케이션은 동일한 데이터를 가지는가?\n",
    "- **Availabily 유용성** : 특정 노드가 고장나도 전체적으로 작동하는가?\n",
    "- **Partitioning 분할성** : 서로 독립적으로 분할할 수 있는가? 분할성이 높아지면 유용성도 높아진다.\n",
    "- RDBMS는 Consistency와 Availablily에 특화\n",
    "- HBase, Spanner는 Consistency와 Partitioning에 중점\n",
    "- Dynamom, Riak는 Availablity와 Partitioning에 중점"
   ]
  },
  {
   "cell_type": "markdown",
   "metadata": {},
   "source": []
  },
  {
   "cell_type": "markdown",
   "metadata": {},
   "source": []
  },
  {
   "cell_type": "markdown",
   "metadata": {},
   "source": [
    "---"
   ]
  }
 ],
 "metadata": {
  "kernelspec": {
   "display_name": "Python 3",
   "language": "python",
   "name": "python3"
  },
  "language_info": {
   "codemirror_mode": {
    "name": "ipython",
    "version": 3
   },
   "file_extension": ".py",
   "mimetype": "text/x-python",
   "name": "python",
   "nbconvert_exporter": "python",
   "pygments_lexer": "ipython3",
   "version": "3.6.5"
  }
 },
 "nbformat": 4,
 "nbformat_minor": 2
}
