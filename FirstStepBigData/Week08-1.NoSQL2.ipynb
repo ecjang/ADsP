{
 "cells": [
  {
   "cell_type": "markdown",
   "metadata": {},
   "source": [
    "# Lesson 1. NoSQL 2"
   ]
  },
  {
   "cell_type": "markdown",
   "metadata": {},
   "source": [
    "----"
   ]
  },
  {
   "cell_type": "markdown",
   "metadata": {},
   "source": [
    "## Topic1. Document Store"
   ]
  },
  {
   "cell_type": "markdown",
   "metadata": {},
   "source": [
    "### 1-1. Document Store in NoSQL"
   ]
  },
  {
   "cell_type": "markdown",
   "metadata": {},
   "source": [
    "#### 1-1-1. Scalable SQL & NoSQL Data Store\n",
    "\n",
    "1970년 이후 다양한 DBMS들이 개발되었는데 그 중 데이터 모델 속성을 보면 table, key-val, docuemnt등이 있다.\n",
    "\n",
    "- tables : 관계형에서 사용하는 방식\n",
    "- ext, record : extensible record sotre 방식\n",
    "- document : document store 방식\n",
    "- 현재 **document 방식**이 주로 사용되며 대표적으로 **CouchDB, MongoDB**가 해당"
   ]
  },
  {
   "cell_type": "markdown",
   "metadata": {},
   "source": [
    "#### 1-1-2. NoSQL Features\n",
    "NoSQL은 다양한 기능들을 제공한다.\n",
    "- Simple : 키값 조회, 읽기와 쓰기 등\n",
    "- Partitioning : 대용량 데이터를 분산처리, Sharding, Horizontal Partitioning\n",
    "- Simple API : 쿼리언어보다는 API를 지원하는 추세\n",
    "- ACID : weaker 트랜젝션 지원\n",
    "- Efficient : 분산처리 인덱스와 데이터 저장용 램을 효율적으로 사용\n",
    "- Dynamically : 동적으로 새로운 데이터 사용가능"
   ]
  },
  {
   "cell_type": "markdown",
   "metadata": {},
   "source": [
    "#### 1-1-3. ACID vs BASE\n",
    "NoSQL에서는 기존의 ACID 기능을 지원하지 않는다. 대신 BASE를 사용한다.\n",
    "\n",
    "- **ACID** : Atomicity Consistency, Isolation and Durability\n",
    "\n",
    "    - Atomicity : 전부 다 처리하던가 아님 전부 하지 않는 방식, 하나의 원자처럼 작동하는 의미(All or Nothing)\n",
    "    - Consistency : 저장된 데이터가 이상없이 유효하게 처리되는 기능\n",
    "    - Isolation : 트랜잭션이 다른 영향 없이 독립적으로 실행, 다른 사람이 중간결과를 볼 수 없음\n",
    "    - Durability : 실행중 오류가 나도 데이터를 유지되도록 하는 기능\n",
    "\n",
    "\n",
    "- **BASE** : Basically Available, Soft state, Eventually Consistent"
   ]
  },
  {
   "cell_type": "markdown",
   "metadata": {},
   "source": [
    "#### 1-1-4. Major System\n",
    "BASE의 대표적인 시스템으로 Rick Cattel이 있다.\n",
    "\n",
    "- **Memcached** : 메모리 안의 인덱스가 얼마나 큰 데이터를 분산처리하는지 설명\n",
    "- **Dynamo** : Eventual Consistency의 높은 유용성과 확장성을 위한 기능\n",
    "- **BigTable** : 1000대 이상의 기기와 노드를 지원하기 위한 기능"
   ]
  },
  {
   "cell_type": "markdown",
   "metadata": {},
   "source": [
    "----"
   ]
  },
  {
   "cell_type": "markdown",
   "metadata": {},
   "source": [
    "## Topic2. CouchDB"
   ]
  },
  {
   "cell_type": "markdown",
   "metadata": {},
   "source": [
    "### 2-1. CouchDB"
   ]
  },
  {
   "cell_type": "markdown",
   "metadata": {},
   "source": [
    "#### 2-1-1. Couch DB\n",
    "\n",
    "Document Storage를 자세히 알아보자. **CouchDB, MongoDB**는 이런 방식을 사용하는 대표적인 DBMS이다."
   ]
  },
  {
   "cell_type": "markdown",
   "metadata": {},
   "source": [
    "#### 2-1-2. Data Model\n",
    "Document는 key, Value 쌍의 set으로 되어 있다.\n",
    "- example\n",
    "\n",
    "```json\n",
    "   {\n",
    "       \"Subject\" : \"I like Plankton\"\n",
    "       \"Author\" : \"Rusty\"\n",
    "       \"PostedDate\" : \"5/23/2006\"\n",
    "       \"Tags\" : [\"plankton\", \"baseball\", \"descisions\"]\n",
    "       \"Body\" : \"I decied today that I don't like baseball. I like plankton.\"\n",
    "   } \n",
    "```\n"
   ]
  },
  {
   "cell_type": "markdown",
   "metadata": {},
   "source": [
    "#### 2-1-3. View\n",
    "맵 리듀스 기능을 위해 View 기능을 지원한다.\n",
    "- view\n",
    "``` json\n",
    "\"views\" :\n",
    "{\n",
    "    \"all\" : \n",
    "    {\n",
    "        \"map\" : \"function(doc) {if (doc.Type=='customer') emit(null, doc)}\"\n",
    "    },\n",
    "    \"by_lastname\" : \n",
    "    {\n",
    "        \"map\" : \"funcion(doc) {if (doc.Type=='customer') emit(doc.LastName, doc)}\"\n",
    "    }\n",
    "    \"total_purchases\" :\n",
    "    {\n",
    "        \"map\" : \"function(doc) {if(dic.Type=='purchase') emit(doc.Customer, doc.Amount)}\",\n",
    "        \"reduce\" : \"function(keys, values) {return sum(values) }\"\n",
    "    }\n",
    "}\n",
    "```"
   ]
  },
  {
   "cell_type": "markdown",
   "metadata": {},
   "source": [
    "----"
   ]
  },
  {
   "cell_type": "markdown",
   "metadata": {},
   "source": [
    "## Topic 3. NoSQL Criticism"
   ]
  },
  {
   "cell_type": "markdown",
   "metadata": {},
   "source": [
    "### 3-1. NoSQL Criticism"
   ]
  },
  {
   "cell_type": "markdown",
   "metadata": {},
   "source": [
    "#### 3-1-1. NoSQL Criticism\n",
    "가장 강한 2가지 요인이 있다.\n",
    "\n",
    "- **Performance** : 기존의 노드보다 훨씬 더 많은 노드를 지원\n",
    "- **Flexibility** : DB가 데이터를 저장시 스키마를 자동으로 관리"
   ]
  },
  {
   "cell_type": "markdown",
   "metadata": {},
   "source": [
    "#### 3-1-2. Critism\n",
    "이런 장점이 있지만 광범위하게 사용되지 않는다.\n",
    "- 많은 스타트업들, 그리고 몇몇 기업들만 사용\n",
    "- 기존 OLTP DB를 주로 사용하고 있음\n",
    "- RBMS에서도 대부분의 기능 지원"
   ]
  },
  {
   "cell_type": "markdown",
   "metadata": {},
   "source": [
    "#### 3-1-3. Flexibility Argument\n",
    "- ACID 시스템 사용자가 큰 관심 없음\n",
    "- Low-level 쿼리 : 각자 자기만의 쿼리 언어를 지원\n",
    "- NoStandard : 아직 표준화된 방침이 없음"
   ]
  },
  {
   "cell_type": "markdown",
   "metadata": {},
   "source": [
    "---"
   ]
  }
 ],
 "metadata": {
  "kernelspec": {
   "display_name": "Python 3",
   "language": "python",
   "name": "python3"
  },
  "language_info": {
   "codemirror_mode": {
    "name": "ipython",
    "version": 3
   },
   "file_extension": ".py",
   "mimetype": "text/x-python",
   "name": "python",
   "nbconvert_exporter": "python",
   "pygments_lexer": "ipython3",
   "version": "3.6.5"
  }
 },
 "nbformat": 4,
 "nbformat_minor": 2
}
