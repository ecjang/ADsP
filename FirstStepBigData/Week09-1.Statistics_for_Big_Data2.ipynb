{
 "cells": [
  {
   "cell_type": "markdown",
   "metadata": {},
   "source": [
    "# Lesson 1. Statistics for Big Data 2"
   ]
  },
  {
   "cell_type": "markdown",
   "metadata": {},
   "source": [
    "----"
   ]
  },
  {
   "cell_type": "markdown",
   "metadata": {},
   "source": [
    "## Topic1. Benfords' Law"
   ]
  },
  {
   "cell_type": "markdown",
   "metadata": {},
   "source": [
    "### 1-1. Benford's Law"
   ]
  },
  {
   "cell_type": "markdown",
   "metadata": {},
   "source": [
    "#### 1-1-1. Benford Law\n",
    "\n",
    "분식 예측을 위한 잠재적인 툴로서 통계자료에서 구한 **수치가 1일 경우가 많다**라는 것이다.\n",
    "- 미국의 주요 지역별 인구에 대한 다양한 지료를 분석\n",
    "- 어떤 지표이든 첫번째 자리 숫자가 1이 많음\n",
    "- 특정 결과와 비교하여 조작되었는 판별하는 용도로 사용"
   ]
  },
  {
   "cell_type": "markdown",
   "metadata": {},
   "source": [
    "#### 1-1-2. Benford's Law Intiotion\n",
    "그럼 왜 1이 가장 많이 나올까? 한가지 예를 들어보자.\n",
    "\n",
    "![Benford](./img/09-1-001-Benford.png)\n",
    "\n",
    "- 1부터 999999까지의 카드를 각각 하나의 모자에 하나씩 꼽는다고 가정\n",
    "- n번 시행시 카드의 첫번째 숫자가 1일 확률은?\n",
    "    - 1부터 10까지는 무조건 1이 포함됨\n",
    "    - 20부터는 그 확률이 점점 줄어듬\n",
    "    - 그러다 100부터는 다시 무조건 1이 포함됨\n",
    "    - 즉 올라갔다 내려가는 과정이 계속 반복됨\n",
    "- 결국 첫번째 자리가 1인 경우가 맣음"
   ]
  },
  {
   "cell_type": "markdown",
   "metadata": {},
   "source": [
    "---"
   ]
  },
  {
   "cell_type": "markdown",
   "metadata": {},
   "source": [
    "## Topic 2. Multople Hypothesis Testing"
   ]
  },
  {
   "cell_type": "markdown",
   "metadata": {},
   "source": [
    "### 2-1. Multiple Hypothesis Testing"
   ]
  },
  {
   "cell_type": "markdown",
   "metadata": {},
   "source": [
    "#### 2-1-1. Multiple Hypothesis Testing\n",
    "같은 군집합으로 반복실험시 문제가 발생할 수 있다.\n",
    "\n",
    "- $\\alpha=0.05$일 때 P-value를 확정"
   ]
  },
  {
   "cell_type": "markdown",
   "metadata": {},
   "source": []
  },
  {
   "cell_type": "markdown",
   "metadata": {},
   "source": []
  },
  {
   "cell_type": "markdown",
   "metadata": {},
   "source": []
  },
  {
   "cell_type": "markdown",
   "metadata": {},
   "source": []
  },
  {
   "cell_type": "markdown",
   "metadata": {},
   "source": []
  },
  {
   "cell_type": "markdown",
   "metadata": {},
   "source": []
  },
  {
   "cell_type": "markdown",
   "metadata": {},
   "source": []
  },
  {
   "cell_type": "markdown",
   "metadata": {},
   "source": []
  },
  {
   "cell_type": "markdown",
   "metadata": {},
   "source": []
  },
  {
   "cell_type": "markdown",
   "metadata": {},
   "source": []
  },
  {
   "cell_type": "markdown",
   "metadata": {},
   "source": [
    "---"
   ]
  }
 ],
 "metadata": {
  "kernelspec": {
   "display_name": "Python 3",
   "language": "python",
   "name": "python3"
  },
  "language_info": {
   "codemirror_mode": {
    "name": "ipython",
    "version": 3
   },
   "file_extension": ".py",
   "mimetype": "text/x-python",
   "name": "python",
   "nbconvert_exporter": "python",
   "pygments_lexer": "ipython3",
   "version": "3.6.5"
  }
 },
 "nbformat": 4,
 "nbformat_minor": 2
}
