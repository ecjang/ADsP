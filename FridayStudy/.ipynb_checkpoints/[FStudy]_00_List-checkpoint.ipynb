{
 "cells": [
  {
   "cell_type": "markdown",
   "metadata": {},
   "source": [
    "# List"
   ]
  },
  {
   "cell_type": "markdown",
   "metadata": {},
   "source": [
    "----"
   ]
  },
  {
   "cell_type": "code",
   "execution_count": 13,
   "metadata": {},
   "outputs": [
    {
     "data": {
      "text/html": [
       "<style> table, tbody, thead, th, td {width:100% !important; text-align:center !important;} </style>"
      ],
      "text/plain": [
       "<IPython.core.display.HTML object>"
      ]
     },
     "metadata": {},
     "output_type": "display_data"
    },
    {
     "data": {
      "text/html": [
       "<style> th:first-child {width:10% !important; text-align:center !important;} </style>"
      ],
      "text/plain": [
       "<IPython.core.display.HTML object>"
      ]
     },
     "metadata": {},
     "output_type": "display_data"
    },
    {
     "data": {
      "text/html": [
       "<style> th:last-child {width:40% !important; text-align:center !important;} </style>"
      ],
      "text/plain": [
       "<IPython.core.display.HTML object>"
      ]
     },
     "metadata": {},
     "output_type": "display_data"
    }
   ],
   "source": [
    "from IPython.core.display import display, HTML\n",
    "display(HTML(\"<style> table, tbody, thead, th, td {width:100% !important; text-align:center !important;} </style>\"))\n",
    "display(HTML(\"<style> th:first-child {width:10% !important; text-align:center !important;} </style>\"))\n",
    "display(HTML(\"<style> th:last-child {width:40% !important; text-align:center !important;} </style>\"))"
   ]
  },
  {
   "cell_type": "markdown",
   "metadata": {},
   "source": [
    "금요일 마다 평소 관심있거나 공부하고 싶은 것들을 정리하는 페이지입니다. 웹상에서 찾은 자료들의 목록을 정리하였습니다."
   ]
  },
  {
   "cell_type": "markdown",
   "metadata": {},
   "source": [
    "| Num | Title | URL |\n",
    "| --- | ---- | ----|\n",
    "| 1 | TCP/IP 네트워크 스택 이해하기 | https://goo.gl/bGmjUx |\n",
    "| 2 | 효과적인 소프트웨어 문서를 적는 방법 | https://goo.gl/sAu8XE |\n",
    "| 3 | 2019 UX/UI 디자인 트랜드 | https://goo.gl/4KeiCd |\n",
    "| 4 | [카카오 AI리포트] 머선러닝 적용의 실제 | https://goo.gl/XV5CGo |\n",
    "| 5 | [카카오 AI리포트] 음성인식 방법과 카카오i의 음성형엔진 | https://goo.gl/kncifx |\n",
    "\n"
   ]
  },
  {
   "cell_type": "markdown",
   "metadata": {},
   "source": [
    "----"
   ]
  }
 ],
 "metadata": {
  "kernelspec": {
   "display_name": "Python 3",
   "language": "python",
   "name": "python3"
  },
  "language_info": {
   "codemirror_mode": {
    "name": "ipython",
    "version": 3
   },
   "file_extension": ".py",
   "mimetype": "text/x-python",
   "name": "python",
   "nbconvert_exporter": "python",
   "pygments_lexer": "ipython3",
   "version": "3.7.0"
  }
 },
 "nbformat": 4,
 "nbformat_minor": 2
}
