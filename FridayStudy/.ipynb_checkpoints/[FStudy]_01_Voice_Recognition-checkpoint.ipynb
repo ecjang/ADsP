{
 "cells": [
  {
   "cell_type": "markdown",
   "metadata": {},
   "source": [
    "# 음성인식 방법과 카카오i이ㅡ 음성형엔진"
   ]
  },
  {
   "cell_type": "markdown",
   "metadata": {},
   "source": [
    "음성 정보를 문자 정보를 변환하는 방법과 음성 인식 기술의 활용을 소개"
   ]
  },
  {
   "cell_type": "markdown",
   "metadata": {},
   "source": [
    "----"
   ]
  },
  {
   "cell_type": "markdown",
   "metadata": {},
   "source": [
    "### 1. 음식인식 개요\n",
    "\n",
    "음성인식이란 입력된 음성이 어떤 단어들로 이루어져 있는지 예측하는 것. \n",
    "\n",
    "$$ argmax P(X|W)P(W) \\quad \\text{W: N개의 단어들로 이루어진 문장, X: T개의 음성 특징 벡터} $$"
   ]
  },
  {
   "cell_type": "markdown",
   "metadata": {},
   "source": [
    "### 2. 음성 분석\n",
    "\n",
    "음성신호에서 주파수 분석을 통해 특징되는 부분을 추출하는 과정.\n",
    "- **샘플링** :음성을 마이크로폰을 이용해 디지털신호로 바꾸는 작업\n",
    "    - 1/16000초 간격으로 음성의 크기를 측정\n",
    "    - 각 샘플은 2byte short으로 표현\n",
    "    - 1초 샘플링시 $2^{16000\\times 2 \\times 8}$로 엄청난 경우의 수가 가능\n",
    "    - 다양한 변이를 훨씬 작은 차원으로 줄이기 때문에 인식 가능\n",
    "\n",
    "\n",
    "- **벡터** : 음성을 여러 분석 과정을 거쳐 숫자 데이터로 표현하는 작업\n",
    "    - Quasi-Statinary : 짧은 구간(0.02초 정도)의 주기적인 특성\n",
    "    - 위 단위로 음석을 분석하여 최종적으로 벡터를 만듬"
   ]
  },
  {
   "cell_type": "markdown",
   "metadata": {},
   "source": [
    "### 3. 음향모델\n",
    "벡터들을 통해 가장 적합한 단어를 예측하는 과정. 고전적으로 GMM-HMM 방식을 사용한다. 음성신호의 데이터가 무척 크기때문에 신경망 분석만 사용하는 것보단 기존 방식을 혼횽하는 것이 가장 성능이 좋다.\n",
    "\n",
    "- GMM : Gaussian Mixture Model\n",
    "- HMM : Hiden Markov Model\n",
    "- **GMM-HMM** : GMM으로 모델링, HMM으로 예측\n",
    "- **DNN-HMM** : GMM을 딥러닝(DNN)으로 대체, 가장 뛰어난 성능\n",
    "- **종단 간 방식(End-to-End)** : 모든 부분을 신경망 분석 활용\n",
    "- 음향모델 학습\n",
    "    - **원고 Script** : 음성데이터가 표현하는 문장\n",
    "    - **옮겨쓰기 Transcription** : 녹음된 음성을 듣고 해당 문장을 작성"
   ]
  },
  {
   "cell_type": "markdown",
   "metadata": {},
   "source": []
  },
  {
   "cell_type": "markdown",
   "metadata": {},
   "source": []
  },
  {
   "cell_type": "markdown",
   "metadata": {},
   "source": []
  },
  {
   "cell_type": "markdown",
   "metadata": {},
   "source": []
  },
  {
   "cell_type": "markdown",
   "metadata": {},
   "source": [
    "----"
   ]
  }
 ],
 "metadata": {
  "kernelspec": {
   "display_name": "Python 3",
   "language": "python",
   "name": "python3"
  },
  "language_info": {
   "codemirror_mode": {
    "name": "ipython",
    "version": 3
   },
   "file_extension": ".py",
   "mimetype": "text/x-python",
   "name": "python",
   "nbconvert_exporter": "python",
   "pygments_lexer": "ipython3",
   "version": "3.7.0"
  }
 },
 "nbformat": 4,
 "nbformat_minor": 2
}
