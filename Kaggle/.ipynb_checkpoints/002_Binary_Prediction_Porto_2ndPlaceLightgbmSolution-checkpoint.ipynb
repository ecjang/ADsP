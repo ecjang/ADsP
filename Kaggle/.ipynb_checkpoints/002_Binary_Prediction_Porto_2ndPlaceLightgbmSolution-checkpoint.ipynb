{
 "cells": [
  {
   "cell_type": "markdown",
   "metadata": {},
   "source": [
    "- Porto Kernel : https://www.kaggle.com/c/porto-seguro-safe-driver-prediction/kernels\n",
    "- 2nd Place Lightgbm Solution : https://www.kaggle.com/xiaozhouwang/2nd-place-lightgbm-solution\n",
    "- 포트투 커널 스터디 5 : https://www.youtube.com/watch?v=mZSh9_Lh_5g&list=PLC_wC_PMBL5NLKkMooi-n4iK4gv3VqXyo&index=5\n"
   ]
  },
  {
   "cell_type": "markdown",
   "metadata": {},
   "source": [
    "----"
   ]
  },
  {
   "cell_type": "markdown",
   "metadata": {},
   "source": [
    "# 2nd Place Lightgbm Solution\n",
    "\n",
    "Part of 2nd Place soultion : Lightgbm model with private score 0.29124 and public 1b socre 0.28555"
   ]
  },
  {
   "cell_type": "markdown",
   "metadata": {},
   "source": [
    "## Contents\n",
    "\n",
    "1. [import Library](#001)\n",
    "1. [Define Gini](#002)\n",
    "1. [Define Global Variables](#003)\n",
    "1. [Define Evalerror](#004)\n",
    "1. [Setting Train & Test](#005)\n",
    "1. [Categorycal Features](#006)\n",
    "1. [One Hot Encoding](#007)\n",
    "1. [Indicate Variable](#008)\n",
    "1. [Model Development](#009)\n",
    "\n"
   ]
  },
  {
   "cell_type": "markdown",
   "metadata": {},
   "source": [
    "<a class=\"anchor\" id=\"001\"></a>\n",
    "\n",
    "## Import Library"
   ]
  },
  {
   "cell_type": "code",
   "execution_count": 1,
   "metadata": {},
   "outputs": [
    {
     "name": "stderr",
     "output_type": "stream",
     "text": [
      "/Users/jang/.pyenv/versions/3.6.5/lib/python3.6/site-packages/lightgbm/__init__.py:46: UserWarning: Starting from version 2.2.1, the library file in distribution wheels for macOS is built by the Apple Clang (Xcode_8.3.3) compiler.\n",
      "This means that in case of installing LightGBM from PyPI via the ``pip install lightgbm`` command, you don't need to install the gcc compiler anymore.\n",
      "Instead of that, you need to install the OpenMP library, which is required for running LightGBM on the system with the Apple Clang compiler.\n",
      "You can install the OpenMP library by the following command: ``brew install libomp``.\n",
      "  \"You can install the OpenMP library by the following command: ``brew install libomp``.\", UserWarning)\n"
     ]
    }
   ],
   "source": [
    "import lightgbm as lgbm\n",
    "from scipy import sparse as ssp\n",
    "from sklearn.model_selection import StratifiedKFold\n",
    "import numpy as np\n",
    "import pandas as pd\n",
    "from sklearn.preprocessing import LabelEncoder\n",
    "from sklearn.preprocessing import OneHotEncoder\n",
    "\n",
    "import warnings\n",
    "warnings.filterwarnings('ignore')"
   ]
  },
  {
   "cell_type": "markdown",
   "metadata": {},
   "source": [
    "<a class='anchor' id='002'></a>\n",
    "\n",
    "## Define Gini"
   ]
  },
  {
   "cell_type": "code",
   "execution_count": 2,
   "metadata": {},
   "outputs": [],
   "source": [
    "def Gini(y_true, y_pred):\n",
    "    \n",
    "    # Check and get number of sample\n",
    "    assert y_true.shape == y_pred.shape\n",
    "    n_samples = y_true.shape[0]\n",
    "    \n",
    "    # sort rows on prediction column\n",
    "    # from largest to smallest\n",
    "    arr = np.array([y_true, y_pred]).transpose()\n",
    "    true_order = arr[arr[:, 0].argsort()][::-1, 0]\n",
    "    pred_order = arr[arr[:, 1].argsort()][::-1, 0]\n",
    "    \n",
    "    #get Lorenz curves\n",
    "    L_true = np.cumsum(true_order) * 1. / np.sum(true_order)\n",
    "    L_pred = np.cumsum(pred_order) * 1. / np.sum(pred_order)\n",
    "    L_ones = np.linspace(1 / n_samples, 1, n_samples)\n",
    "    \n",
    "    # get Gini coefficients (area between curves)\n",
    "    G_true = np.sum(L_ones - L_true)\n",
    "    G_pred = np.sum(L_ones - L_pred)\n",
    "    \n",
    "    # normalize to true Gini coefficient\n",
    "    return G_pred * 1. / G_true"
   ]
  },
  {
   "cell_type": "markdown",
   "metadata": {},
   "source": [
    "<a class=\"anchor\" id=\"003\"></a>\n",
    "\n",
    "## Define Global Variables"
   ]
  },
  {
   "cell_type": "code",
   "execution_count": 3,
   "metadata": {},
   "outputs": [],
   "source": [
    "cv_only = True\n",
    "save_cv = True\n",
    "full_train = False"
   ]
  },
  {
   "cell_type": "markdown",
   "metadata": {},
   "source": [
    "<a class=\"anchor\" id=\"004\"></a>\n",
    "\n",
    "## Define Evalerror"
   ]
  },
  {
   "cell_type": "code",
   "execution_count": 4,
   "metadata": {},
   "outputs": [],
   "source": [
    "def evalerror(preds, dtrain):\n",
    "    labels = dtrain.get_label()\n",
    "    return 'gini', Gini(labels, preds), True"
   ]
  },
  {
   "cell_type": "markdown",
   "metadata": {},
   "source": [
    "<a class=\"anchor\" id=\"005\"></a>\n",
    "\n",
    "## Setting Train & Test\n",
    "\n",
    "path에 train, test 데이터가 있는 경로를 입력해준다."
   ]
  },
  {
   "cell_type": "code",
   "execution_count": 5,
   "metadata": {
    "scrolled": true
   },
   "outputs": [
    {
     "name": "stdout",
     "output_type": "stream",
     "text": [
      "CPU times: user 138 ms, sys: 34 ms, total: 172 ms\n",
      "Wall time: 188 ms\n"
     ]
    }
   ],
   "source": [
    "%%time\n",
    "path = \"../../input/porto/\"\n",
    "train = pd.read_csv(path+'train.csv', nrows=10000)\n",
    "train_label = train['target']\n",
    "train_id = train['id']\n",
    "test = pd.read_csv(path+'test.csv', nrows=10000)\n",
    "test_id = test['id']"
   ]
  },
  {
   "cell_type": "code",
   "execution_count": 6,
   "metadata": {
    "scrolled": true
   },
   "outputs": [
    {
     "name": "stdout",
     "output_type": "stream",
     "text": [
      "(10000, 59)\n"
     ]
    },
    {
     "data": {
      "text/html": [
       "<div>\n",
       "<style scoped>\n",
       "    .dataframe tbody tr th:only-of-type {\n",
       "        vertical-align: middle;\n",
       "    }\n",
       "\n",
       "    .dataframe tbody tr th {\n",
       "        vertical-align: top;\n",
       "    }\n",
       "\n",
       "    .dataframe thead th {\n",
       "        text-align: right;\n",
       "    }\n",
       "</style>\n",
       "<table border=\"1\" class=\"dataframe\">\n",
       "  <thead>\n",
       "    <tr style=\"text-align: right;\">\n",
       "      <th></th>\n",
       "      <th>id</th>\n",
       "      <th>target</th>\n",
       "      <th>ps_ind_01</th>\n",
       "      <th>ps_ind_02_cat</th>\n",
       "      <th>ps_ind_03</th>\n",
       "      <th>ps_ind_04_cat</th>\n",
       "      <th>ps_ind_05_cat</th>\n",
       "      <th>ps_ind_06_bin</th>\n",
       "      <th>ps_ind_07_bin</th>\n",
       "      <th>ps_ind_08_bin</th>\n",
       "      <th>...</th>\n",
       "      <th>ps_calc_11</th>\n",
       "      <th>ps_calc_12</th>\n",
       "      <th>ps_calc_13</th>\n",
       "      <th>ps_calc_14</th>\n",
       "      <th>ps_calc_15_bin</th>\n",
       "      <th>ps_calc_16_bin</th>\n",
       "      <th>ps_calc_17_bin</th>\n",
       "      <th>ps_calc_18_bin</th>\n",
       "      <th>ps_calc_19_bin</th>\n",
       "      <th>ps_calc_20_bin</th>\n",
       "    </tr>\n",
       "  </thead>\n",
       "  <tbody>\n",
       "    <tr>\n",
       "      <th>0</th>\n",
       "      <td>7</td>\n",
       "      <td>0</td>\n",
       "      <td>2</td>\n",
       "      <td>2</td>\n",
       "      <td>5</td>\n",
       "      <td>1</td>\n",
       "      <td>0</td>\n",
       "      <td>0</td>\n",
       "      <td>1</td>\n",
       "      <td>0</td>\n",
       "      <td>...</td>\n",
       "      <td>9</td>\n",
       "      <td>1</td>\n",
       "      <td>5</td>\n",
       "      <td>8</td>\n",
       "      <td>0</td>\n",
       "      <td>1</td>\n",
       "      <td>1</td>\n",
       "      <td>0</td>\n",
       "      <td>0</td>\n",
       "      <td>1</td>\n",
       "    </tr>\n",
       "    <tr>\n",
       "      <th>1</th>\n",
       "      <td>9</td>\n",
       "      <td>0</td>\n",
       "      <td>1</td>\n",
       "      <td>1</td>\n",
       "      <td>7</td>\n",
       "      <td>0</td>\n",
       "      <td>0</td>\n",
       "      <td>0</td>\n",
       "      <td>0</td>\n",
       "      <td>1</td>\n",
       "      <td>...</td>\n",
       "      <td>3</td>\n",
       "      <td>1</td>\n",
       "      <td>1</td>\n",
       "      <td>9</td>\n",
       "      <td>0</td>\n",
       "      <td>1</td>\n",
       "      <td>1</td>\n",
       "      <td>0</td>\n",
       "      <td>1</td>\n",
       "      <td>0</td>\n",
       "    </tr>\n",
       "    <tr>\n",
       "      <th>2</th>\n",
       "      <td>13</td>\n",
       "      <td>0</td>\n",
       "      <td>5</td>\n",
       "      <td>4</td>\n",
       "      <td>9</td>\n",
       "      <td>1</td>\n",
       "      <td>0</td>\n",
       "      <td>0</td>\n",
       "      <td>0</td>\n",
       "      <td>1</td>\n",
       "      <td>...</td>\n",
       "      <td>4</td>\n",
       "      <td>2</td>\n",
       "      <td>7</td>\n",
       "      <td>7</td>\n",
       "      <td>0</td>\n",
       "      <td>1</td>\n",
       "      <td>1</td>\n",
       "      <td>0</td>\n",
       "      <td>1</td>\n",
       "      <td>0</td>\n",
       "    </tr>\n",
       "    <tr>\n",
       "      <th>3</th>\n",
       "      <td>16</td>\n",
       "      <td>0</td>\n",
       "      <td>0</td>\n",
       "      <td>1</td>\n",
       "      <td>2</td>\n",
       "      <td>0</td>\n",
       "      <td>0</td>\n",
       "      <td>1</td>\n",
       "      <td>0</td>\n",
       "      <td>0</td>\n",
       "      <td>...</td>\n",
       "      <td>2</td>\n",
       "      <td>2</td>\n",
       "      <td>4</td>\n",
       "      <td>9</td>\n",
       "      <td>0</td>\n",
       "      <td>0</td>\n",
       "      <td>0</td>\n",
       "      <td>0</td>\n",
       "      <td>0</td>\n",
       "      <td>0</td>\n",
       "    </tr>\n",
       "    <tr>\n",
       "      <th>4</th>\n",
       "      <td>17</td>\n",
       "      <td>0</td>\n",
       "      <td>0</td>\n",
       "      <td>2</td>\n",
       "      <td>0</td>\n",
       "      <td>1</td>\n",
       "      <td>0</td>\n",
       "      <td>1</td>\n",
       "      <td>0</td>\n",
       "      <td>0</td>\n",
       "      <td>...</td>\n",
       "      <td>3</td>\n",
       "      <td>1</td>\n",
       "      <td>1</td>\n",
       "      <td>3</td>\n",
       "      <td>0</td>\n",
       "      <td>0</td>\n",
       "      <td>0</td>\n",
       "      <td>1</td>\n",
       "      <td>1</td>\n",
       "      <td>0</td>\n",
       "    </tr>\n",
       "  </tbody>\n",
       "</table>\n",
       "<p>5 rows × 59 columns</p>\n",
       "</div>"
      ],
      "text/plain": [
       "   id  target  ps_ind_01  ps_ind_02_cat  ps_ind_03  ps_ind_04_cat  \\\n",
       "0   7       0          2              2          5              1   \n",
       "1   9       0          1              1          7              0   \n",
       "2  13       0          5              4          9              1   \n",
       "3  16       0          0              1          2              0   \n",
       "4  17       0          0              2          0              1   \n",
       "\n",
       "   ps_ind_05_cat  ps_ind_06_bin  ps_ind_07_bin  ps_ind_08_bin       ...        \\\n",
       "0              0              0              1              0       ...         \n",
       "1              0              0              0              1       ...         \n",
       "2              0              0              0              1       ...         \n",
       "3              0              1              0              0       ...         \n",
       "4              0              1              0              0       ...         \n",
       "\n",
       "   ps_calc_11  ps_calc_12  ps_calc_13  ps_calc_14  ps_calc_15_bin  \\\n",
       "0           9           1           5           8               0   \n",
       "1           3           1           1           9               0   \n",
       "2           4           2           7           7               0   \n",
       "3           2           2           4           9               0   \n",
       "4           3           1           1           3               0   \n",
       "\n",
       "   ps_calc_16_bin  ps_calc_17_bin  ps_calc_18_bin  ps_calc_19_bin  \\\n",
       "0               1               1               0               0   \n",
       "1               1               1               0               1   \n",
       "2               1               1               0               1   \n",
       "3               0               0               0               0   \n",
       "4               0               0               1               1   \n",
       "\n",
       "   ps_calc_20_bin  \n",
       "0               1  \n",
       "1               0  \n",
       "2               0  \n",
       "3               0  \n",
       "4               0  \n",
       "\n",
       "[5 rows x 59 columns]"
      ]
     },
     "execution_count": 6,
     "metadata": {},
     "output_type": "execute_result"
    }
   ],
   "source": [
    "# 불러온 데이터를 확인한다.\n",
    "print(train.shape)\n",
    "train.head()"
   ]
  },
  {
   "cell_type": "code",
   "execution_count": 7,
   "metadata": {},
   "outputs": [
    {
     "data": {
      "text/plain": [
       "StratifiedKFold(n_splits=5, random_state=218, shuffle=True)"
      ]
     },
     "execution_count": 7,
     "metadata": {},
     "output_type": "execute_result"
    }
   ],
   "source": [
    "# StratifiedKFold는 같은 구성비로 데이터를 나누는 기능\n",
    "# 이때 인덱스가 겹치는 것을 방지한다.\n",
    "NFOLDS = 5\n",
    "kfold = StratifiedKFold(n_splits=NFOLDS, shuffle=True, random_state=218)\n",
    "kfold"
   ]
  },
  {
   "cell_type": "code",
   "execution_count": 8,
   "metadata": {},
   "outputs": [
    {
     "data": {
      "text/plain": [
       "array([0, 0, 0, ..., 0, 0, 0])"
      ]
     },
     "execution_count": 8,
     "metadata": {},
     "output_type": "execute_result"
    }
   ],
   "source": [
    "# 확인 결과 대부분의 값은 0이다.\n",
    "y = train['target'].values\n",
    "y"
   ]
  },
  {
   "cell_type": "code",
   "execution_count": 9,
   "metadata": {},
   "outputs": [],
   "source": [
    "# 사용하지 않는 변수는 제거한다.\n",
    "drop_feature = ['id', 'target']\n",
    "X = train.drop(drop_feature, axis=1)\n",
    "# 남은 변수를 리스트로 변환한다.\n",
    "feature_names = X.columns.tolist()"
   ]
  },
  {
   "cell_type": "markdown",
   "metadata": {},
   "source": [
    "<a class=\"anchor\" id=\"feature_engineering\"></a>\n",
    "\n",
    "## Feature Engineering\n",
    "\n",
    "데이터를 불러온 다음 훈련에 적합하도록 변수를 조정한다. 전처리는 N/A값을 처리는 한면, 엔지니어링은 예측력을 높일 수 있는 기능을 만드는 차이가 있다."
   ]
  },
  {
   "cell_type": "code",
   "execution_count": 10,
   "metadata": {},
   "outputs": [],
   "source": [
    "cat_features = [c for c in feature_names if ('cat' in c and 'count' not in c)]\n",
    "num_features = [c for c in feature_names if ('cat' not in c and 'calc' not in c)]"
   ]
  },
  {
   "cell_type": "code",
   "execution_count": 11,
   "metadata": {
    "scrolled": true
   },
   "outputs": [
    {
     "name": "stdout",
     "output_type": "stream",
     "text": [
      "14\n",
      "처음 5개만 출력 :  ['ps_ind_02_cat', 'ps_ind_04_cat', 'ps_ind_05_cat', 'ps_car_01_cat', 'ps_car_02_cat']\n"
     ]
    }
   ],
   "source": [
    "# 확인결과 카테고리 변수들은 아래와 같다. 총 14개가 있다.\n",
    "cat_feature = [c for c in feature_names if ('cat' in c and 'count' not in c)]\n",
    "print(len(cat_feature))\n",
    "print('처음 5개만 출력 : ', cat_feature[:5])"
   ]
  },
  {
   "cell_type": "code",
   "execution_count": 12,
   "metadata": {},
   "outputs": [
    {
     "data": {
      "text/html": [
       "<div>\n",
       "<style scoped>\n",
       "    .dataframe tbody tr th:only-of-type {\n",
       "        vertical-align: middle;\n",
       "    }\n",
       "\n",
       "    .dataframe tbody tr th {\n",
       "        vertical-align: top;\n",
       "    }\n",
       "\n",
       "    .dataframe thead th {\n",
       "        text-align: right;\n",
       "    }\n",
       "</style>\n",
       "<table border=\"1\" class=\"dataframe\">\n",
       "  <thead>\n",
       "    <tr style=\"text-align: right;\">\n",
       "      <th></th>\n",
       "      <th>id</th>\n",
       "      <th>target</th>\n",
       "      <th>ps_ind_01</th>\n",
       "      <th>ps_ind_02_cat</th>\n",
       "      <th>ps_ind_03</th>\n",
       "      <th>ps_ind_04_cat</th>\n",
       "      <th>ps_ind_05_cat</th>\n",
       "      <th>ps_ind_06_bin</th>\n",
       "      <th>ps_ind_07_bin</th>\n",
       "      <th>ps_ind_08_bin</th>\n",
       "      <th>...</th>\n",
       "      <th>ps_calc_11</th>\n",
       "      <th>ps_calc_12</th>\n",
       "      <th>ps_calc_13</th>\n",
       "      <th>ps_calc_14</th>\n",
       "      <th>ps_calc_15_bin</th>\n",
       "      <th>ps_calc_16_bin</th>\n",
       "      <th>ps_calc_17_bin</th>\n",
       "      <th>ps_calc_18_bin</th>\n",
       "      <th>ps_calc_19_bin</th>\n",
       "      <th>ps_calc_20_bin</th>\n",
       "    </tr>\n",
       "  </thead>\n",
       "  <tbody>\n",
       "    <tr>\n",
       "      <th>0</th>\n",
       "      <td>False</td>\n",
       "      <td>False</td>\n",
       "      <td>False</td>\n",
       "      <td>False</td>\n",
       "      <td>False</td>\n",
       "      <td>False</td>\n",
       "      <td>False</td>\n",
       "      <td>False</td>\n",
       "      <td>False</td>\n",
       "      <td>False</td>\n",
       "      <td>...</td>\n",
       "      <td>False</td>\n",
       "      <td>False</td>\n",
       "      <td>False</td>\n",
       "      <td>False</td>\n",
       "      <td>False</td>\n",
       "      <td>False</td>\n",
       "      <td>False</td>\n",
       "      <td>False</td>\n",
       "      <td>False</td>\n",
       "      <td>False</td>\n",
       "    </tr>\n",
       "    <tr>\n",
       "      <th>1</th>\n",
       "      <td>False</td>\n",
       "      <td>False</td>\n",
       "      <td>False</td>\n",
       "      <td>False</td>\n",
       "      <td>False</td>\n",
       "      <td>False</td>\n",
       "      <td>False</td>\n",
       "      <td>False</td>\n",
       "      <td>False</td>\n",
       "      <td>False</td>\n",
       "      <td>...</td>\n",
       "      <td>False</td>\n",
       "      <td>False</td>\n",
       "      <td>False</td>\n",
       "      <td>False</td>\n",
       "      <td>False</td>\n",
       "      <td>False</td>\n",
       "      <td>False</td>\n",
       "      <td>False</td>\n",
       "      <td>False</td>\n",
       "      <td>False</td>\n",
       "    </tr>\n",
       "    <tr>\n",
       "      <th>2</th>\n",
       "      <td>False</td>\n",
       "      <td>False</td>\n",
       "      <td>False</td>\n",
       "      <td>False</td>\n",
       "      <td>False</td>\n",
       "      <td>False</td>\n",
       "      <td>False</td>\n",
       "      <td>False</td>\n",
       "      <td>False</td>\n",
       "      <td>False</td>\n",
       "      <td>...</td>\n",
       "      <td>False</td>\n",
       "      <td>False</td>\n",
       "      <td>False</td>\n",
       "      <td>False</td>\n",
       "      <td>False</td>\n",
       "      <td>False</td>\n",
       "      <td>False</td>\n",
       "      <td>False</td>\n",
       "      <td>False</td>\n",
       "      <td>False</td>\n",
       "    </tr>\n",
       "    <tr>\n",
       "      <th>3</th>\n",
       "      <td>False</td>\n",
       "      <td>False</td>\n",
       "      <td>False</td>\n",
       "      <td>False</td>\n",
       "      <td>False</td>\n",
       "      <td>False</td>\n",
       "      <td>False</td>\n",
       "      <td>False</td>\n",
       "      <td>False</td>\n",
       "      <td>False</td>\n",
       "      <td>...</td>\n",
       "      <td>False</td>\n",
       "      <td>False</td>\n",
       "      <td>False</td>\n",
       "      <td>False</td>\n",
       "      <td>False</td>\n",
       "      <td>False</td>\n",
       "      <td>False</td>\n",
       "      <td>False</td>\n",
       "      <td>False</td>\n",
       "      <td>False</td>\n",
       "    </tr>\n",
       "    <tr>\n",
       "      <th>4</th>\n",
       "      <td>False</td>\n",
       "      <td>False</td>\n",
       "      <td>False</td>\n",
       "      <td>False</td>\n",
       "      <td>False</td>\n",
       "      <td>False</td>\n",
       "      <td>False</td>\n",
       "      <td>False</td>\n",
       "      <td>False</td>\n",
       "      <td>False</td>\n",
       "      <td>...</td>\n",
       "      <td>False</td>\n",
       "      <td>False</td>\n",
       "      <td>False</td>\n",
       "      <td>False</td>\n",
       "      <td>False</td>\n",
       "      <td>False</td>\n",
       "      <td>False</td>\n",
       "      <td>False</td>\n",
       "      <td>False</td>\n",
       "      <td>False</td>\n",
       "    </tr>\n",
       "  </tbody>\n",
       "</table>\n",
       "<p>5 rows × 59 columns</p>\n",
       "</div>"
      ],
      "text/plain": [
       "      id  target  ps_ind_01  ps_ind_02_cat  ps_ind_03  ps_ind_04_cat  \\\n",
       "0  False   False      False          False      False          False   \n",
       "1  False   False      False          False      False          False   \n",
       "2  False   False      False          False      False          False   \n",
       "3  False   False      False          False      False          False   \n",
       "4  False   False      False          False      False          False   \n",
       "\n",
       "   ps_ind_05_cat  ps_ind_06_bin  ps_ind_07_bin  ps_ind_08_bin       ...        \\\n",
       "0          False          False          False          False       ...         \n",
       "1          False          False          False          False       ...         \n",
       "2          False          False          False          False       ...         \n",
       "3          False          False          False          False       ...         \n",
       "4          False          False          False          False       ...         \n",
       "\n",
       "   ps_calc_11  ps_calc_12  ps_calc_13  ps_calc_14  ps_calc_15_bin  \\\n",
       "0       False       False       False       False           False   \n",
       "1       False       False       False       False           False   \n",
       "2       False       False       False       False           False   \n",
       "3       False       False       False       False           False   \n",
       "4       False       False       False       False           False   \n",
       "\n",
       "   ps_calc_16_bin  ps_calc_17_bin  ps_calc_18_bin  ps_calc_19_bin  \\\n",
       "0           False           False           False           False   \n",
       "1           False           False           False           False   \n",
       "2           False           False           False           False   \n",
       "3           False           False           False           False   \n",
       "4           False           False           False           False   \n",
       "\n",
       "   ps_calc_20_bin  \n",
       "0           False  \n",
       "1           False  \n",
       "2           False  \n",
       "3           False  \n",
       "4           False  \n",
       "\n",
       "[5 rows x 59 columns]"
      ]
     },
     "execution_count": 12,
     "metadata": {},
     "output_type": "execute_result"
    }
   ],
   "source": [
    "# train == -1 은 조건검색으로 True / False로 나옴.\n",
    "(train==-1).head()"
   ]
  },
  {
   "cell_type": "code",
   "execution_count": 13,
   "metadata": {},
   "outputs": [
    {
     "data": {
      "text/plain": [
       "2    4314\n",
       "1    2600\n",
       "0    2123\n",
       "3     928\n",
       "4      34\n",
       "7       1\n",
       "dtype: int64"
      ]
     },
     "execution_count": 13,
     "metadata": {},
     "output_type": "execute_result"
    }
   ],
   "source": [
    "# 조건식에 sum()을 붙이면 True의 개수를 반환한다.\n",
    "# 행 단위로 계산하기 위해 axis=1로 설정한다.\n",
    "# 확인 결과 2개의 -1을 가진 행이 가장 많다.\n",
    "(train==-1).sum(axis=1).value_counts()"
   ]
  },
  {
   "cell_type": "code",
   "execution_count": 14,
   "metadata": {},
   "outputs": [
    {
     "data": {
      "text/html": [
       "<div>\n",
       "<style scoped>\n",
       "    .dataframe tbody tr th:only-of-type {\n",
       "        vertical-align: middle;\n",
       "    }\n",
       "\n",
       "    .dataframe tbody tr th {\n",
       "        vertical-align: top;\n",
       "    }\n",
       "\n",
       "    .dataframe thead tr th {\n",
       "        text-align: left;\n",
       "    }\n",
       "</style>\n",
       "<table border=\"1\" class=\"dataframe\">\n",
       "  <thead>\n",
       "    <tr>\n",
       "      <th></th>\n",
       "      <th>0</th>\n",
       "      <th colspan=\"2\" halign=\"left\">target</th>\n",
       "    </tr>\n",
       "    <tr>\n",
       "      <th></th>\n",
       "      <th></th>\n",
       "      <th>count</th>\n",
       "      <th>mean</th>\n",
       "    </tr>\n",
       "  </thead>\n",
       "  <tbody>\n",
       "    <tr>\n",
       "      <th>0</th>\n",
       "      <td>0</td>\n",
       "      <td>2123</td>\n",
       "      <td>0.045219</td>\n",
       "    </tr>\n",
       "    <tr>\n",
       "      <th>1</th>\n",
       "      <td>1</td>\n",
       "      <td>2600</td>\n",
       "      <td>0.043077</td>\n",
       "    </tr>\n",
       "    <tr>\n",
       "      <th>2</th>\n",
       "      <td>2</td>\n",
       "      <td>4314</td>\n",
       "      <td>0.033148</td>\n",
       "    </tr>\n",
       "    <tr>\n",
       "      <th>3</th>\n",
       "      <td>3</td>\n",
       "      <td>928</td>\n",
       "      <td>0.028017</td>\n",
       "    </tr>\n",
       "    <tr>\n",
       "      <th>4</th>\n",
       "      <td>4</td>\n",
       "      <td>34</td>\n",
       "      <td>0.058824</td>\n",
       "    </tr>\n",
       "    <tr>\n",
       "      <th>5</th>\n",
       "      <td>7</td>\n",
       "      <td>1</td>\n",
       "      <td>0.000000</td>\n",
       "    </tr>\n",
       "  </tbody>\n",
       "</table>\n",
       "</div>"
      ],
      "text/plain": [
       "   0 target          \n",
       "      count      mean\n",
       "0  0   2123  0.045219\n",
       "1  1   2600  0.043077\n",
       "2  2   4314  0.033148\n",
       "3  3    928  0.028017\n",
       "4  4     34  0.058824\n",
       "5  7      1  0.000000"
      ]
     },
     "execution_count": 14,
     "metadata": {},
     "output_type": "execute_result"
    }
   ],
   "source": [
    "# 위 과정을 표로 볼 수 있다.\n",
    "# -1값을 2개 가진 행은 4314개이며 평균은 0.03이다.\n",
    "pd.concat( [(train==-1).sum(axis=1), train['target']], axis=1).groupby(0).agg(['count', 'mean']).reset_index()"
   ]
  },
  {
   "cell_type": "code",
   "execution_count": 15,
   "metadata": {},
   "outputs": [
    {
     "data": {
      "text/plain": [
       "0    1.0\n",
       "1    2.0\n",
       "2    3.0\n",
       "3    0.0\n",
       "4    2.0\n",
       "Name: missing, dtype: float64"
      ]
     },
     "execution_count": 15,
     "metadata": {},
     "output_type": "execute_result"
    }
   ],
   "source": [
    "train['missing'] = (train==-1).sum(axis=1).astype(float)\n",
    "train['missing'].head()"
   ]
  },
  {
   "cell_type": "code",
   "execution_count": 16,
   "metadata": {},
   "outputs": [
    {
     "data": {
      "text/plain": [
       "0    2.0\n",
       "1    1.0\n",
       "2    2.0\n",
       "3    3.0\n",
       "4    2.0\n",
       "Name: missing, dtype: float64"
      ]
     },
     "execution_count": 16,
     "metadata": {},
     "output_type": "execute_result"
    }
   ],
   "source": [
    "test['missing'] = (test==-1).sum(axis=1).astype(float)\n",
    "test['missing'].head()"
   ]
  },
  {
   "cell_type": "code",
   "execution_count": 17,
   "metadata": {
    "scrolled": true
   },
   "outputs": [
    {
     "data": {
      "text/plain": [
       "['ps_ind_01',\n",
       " 'ps_ind_03',\n",
       " 'ps_ind_06_bin',\n",
       " 'ps_ind_07_bin',\n",
       " 'ps_ind_08_bin',\n",
       " 'ps_ind_09_bin',\n",
       " 'ps_ind_10_bin',\n",
       " 'ps_ind_11_bin',\n",
       " 'ps_ind_12_bin',\n",
       " 'ps_ind_13_bin',\n",
       " 'ps_ind_14',\n",
       " 'ps_ind_15',\n",
       " 'ps_ind_16_bin',\n",
       " 'ps_ind_17_bin',\n",
       " 'ps_ind_18_bin',\n",
       " 'ps_reg_01',\n",
       " 'ps_reg_02',\n",
       " 'ps_reg_03',\n",
       " 'ps_car_11',\n",
       " 'ps_car_12',\n",
       " 'ps_car_13',\n",
       " 'ps_car_14',\n",
       " 'ps_car_15',\n",
       " 'missing']"
      ]
     },
     "execution_count": 17,
     "metadata": {},
     "output_type": "execute_result"
    }
   ],
   "source": [
    "num_features.append('missing')\n",
    "num_features"
   ]
  },
  {
   "cell_type": "markdown",
   "metadata": {},
   "source": [
    "<a class=\"anchor\" id=\"006\"></a>\n",
    "\n",
    "## Categorycal Features"
   ]
  },
  {
   "cell_type": "code",
   "execution_count": 18,
   "metadata": {},
   "outputs": [
    {
     "name": "stdout",
     "output_type": "stream",
     "text": [
      "Object `le.transform` not found.\n"
     ]
    }
   ],
   "source": [
    "? le.transform()"
   ]
  },
  {
   "cell_type": "code",
   "execution_count": 19,
   "metadata": {},
   "outputs": [],
   "source": [
    "for c in cat_features:\n",
    "    le = LabelEncoder()\n",
    "    le.fit(train[c])\n",
    "    train[c] = le.transform(train[c])\n",
    "    test[c] = le.transform(test[c])\n"
   ]
  },
  {
   "cell_type": "markdown",
   "metadata": {},
   "source": [
    "<a class=\"anchor\" id=\"007\"></a>\n",
    "\n",
    "## One Hot Encoding"
   ]
  },
  {
   "cell_type": "code",
   "execution_count": 20,
   "metadata": {},
   "outputs": [
    {
     "data": {
      "text/plain": [
       "OneHotEncoder(categorical_features=None, categories=None,\n",
       "       dtype=<class 'numpy.float64'>, handle_unknown='error',\n",
       "       n_values=None, sparse=True)"
      ]
     },
     "execution_count": 20,
     "metadata": {},
     "output_type": "execute_result"
    }
   ],
   "source": [
    "enc = OneHotEncoder()\n",
    "enc.fit(train[cat_features])"
   ]
  },
  {
   "cell_type": "code",
   "execution_count": 21,
   "metadata": {},
   "outputs": [],
   "source": [
    "X_cat = enc.transform(train[cat_features])\n",
    "X_t_cat = enc.transform(test[cat_features])"
   ]
  },
  {
   "cell_type": "markdown",
   "metadata": {},
   "source": [
    "<a class=\"anchor\" id=\"008\"></a>\n",
    "\n",
    "## Ind Variable"
   ]
  },
  {
   "cell_type": "code",
   "execution_count": 22,
   "metadata": {},
   "outputs": [
    {
     "name": "stdout",
     "output_type": "stream",
     "text": [
      "18\n"
     ]
    },
    {
     "data": {
      "text/plain": [
       "['ps_ind_01',\n",
       " 'ps_ind_02_cat',\n",
       " 'ps_ind_03',\n",
       " 'ps_ind_04_cat',\n",
       " 'ps_ind_05_cat',\n",
       " 'ps_ind_06_bin',\n",
       " 'ps_ind_07_bin',\n",
       " 'ps_ind_08_bin',\n",
       " 'ps_ind_09_bin',\n",
       " 'ps_ind_10_bin',\n",
       " 'ps_ind_11_bin',\n",
       " 'ps_ind_12_bin',\n",
       " 'ps_ind_13_bin',\n",
       " 'ps_ind_14',\n",
       " 'ps_ind_15',\n",
       " 'ps_ind_16_bin',\n",
       " 'ps_ind_17_bin',\n",
       " 'ps_ind_18_bin']"
      ]
     },
     "execution_count": 22,
     "metadata": {},
     "output_type": "execute_result"
    }
   ],
   "source": [
    "# 총 18개의 변수가 해당한다.\n",
    "ind_features = [c for c in feature_names if 'ind' in c]\n",
    "count = 0\n",
    "print(len(ind_features))\n",
    "ind_features"
   ]
  },
  {
   "cell_type": "code",
   "execution_count": 23,
   "metadata": {},
   "outputs": [],
   "source": [
    "# 첫번째 요소는 대체하는 거고 두번째 요소부터는 추가가 된다.\n",
    "# 새로운 칼럼을 만드는 기능 : ind feature를 하나로 묶어서 새로운 카테고리를 만들어 낸 것.\n",
    "for c in ind_features:\n",
    "    #break\n",
    "    if count==0:\n",
    "        train['new_ind'] = train[c].astype(str)+\"_\"  # 타입이 int64에서 object(str)으로 바뀐다.\n",
    "        test['new_ind'] = test[c].astype(str)+'_'\n",
    "        count+=1\n",
    "    else:\n",
    "        train['new_ind'] += train[c].astype(str)+'_'\n",
    "        test['new_ind'] += test[c].astype(str)+'_'\n"
   ]
  },
  {
   "cell_type": "code",
   "execution_count": 24,
   "metadata": {},
   "outputs": [
    {
     "name": "stdout",
     "output_type": "stream",
     "text": [
      "(10000,)\n",
      "7010\n"
     ]
    },
    {
     "data": {
      "text/plain": [
       "0    2_2_5_2_1_0_1_0_0_0_0_0_0_0_11_0_1_0_\n",
       "1     1_1_7_1_1_0_0_1_0_0_0_0_0_0_3_0_0_1_\n",
       "2    5_4_9_2_1_0_0_1_0_0_0_0_0_0_12_1_0_0_\n",
       "3     0_1_2_1_1_1_0_0_0_0_0_0_0_0_8_1_0_0_\n",
       "4     0_2_0_2_1_1_0_0_0_0_0_0_0_0_9_1_0_0_\n",
       "Name: new_ind, dtype: object"
      ]
     },
     "execution_count": 24,
     "metadata": {},
     "output_type": "execute_result"
    }
   ],
   "source": [
    "# 위 함수 결과 \n",
    "# 총 1만개가 있으며 7010가지의 값이 있다.\n",
    "print(train['new_ind'].shape)\n",
    "print(train['new_ind'].value_counts().shape[0])\n",
    "train['new_ind'].head()"
   ]
  },
  {
   "cell_type": "code",
   "execution_count": 25,
   "metadata": {},
   "outputs": [],
   "source": [
    "cat_count_features = []\n",
    "\n",
    "# cat_features는 카테고리 변수만 모아놓은 것.\n",
    "# cat_features+['new_ind'] 하면 새로운 변수가 추가된다.\n",
    "for c in cat_features+['new_ind']:\n",
    "    d = pd.concat([train[c], test[c]]).value_counts().to_dict()\n",
    "    train['%s_count'%c] = train[c].apply(lambda x:d.get(x,0))\n",
    "    test['%s_count'%c] = test[c].apply(lambda x:d.get(x,0))\n",
    "    cat_count_features.append('%s_count'%c)\n"
   ]
  },
  {
   "cell_type": "code",
   "execution_count": 26,
   "metadata": {},
   "outputs": [
    {
     "data": {
      "text/plain": [
       "<10000x183 sparse matrix of type '<class 'numpy.float64'>'\n",
       "\twith 140000 stored elements in Compressed Sparse Row format>"
      ]
     },
     "execution_count": 26,
     "metadata": {},
     "output_type": "execute_result"
    }
   ],
   "source": [
    "X_cat"
   ]
  },
  {
   "cell_type": "code",
   "execution_count": 27,
   "metadata": {},
   "outputs": [
    {
     "data": {
      "text/plain": [
       "[array([[2.0000e+00, 5.0000e+00, 0.0000e+00, ..., 1.9833e+04, 2.2200e+02,\n",
       "         1.0000e+00],\n",
       "        [1.0000e+00, 7.0000e+00, 0.0000e+00, ..., 1.9833e+04, 1.5600e+02,\n",
       "         1.0000e+00],\n",
       "        [5.0000e+00, 9.0000e+00, 0.0000e+00, ..., 1.9833e+04, 2.7300e+02,\n",
       "         2.0000e+00],\n",
       "        ...,\n",
       "        [1.0000e+00, 5.0000e+00, 1.0000e+00, ..., 1.9833e+04, 1.5500e+02,\n",
       "         4.0000e+00],\n",
       "        [1.0000e+00, 6.0000e+00, 1.0000e+00, ..., 1.9833e+04, 2.7300e+02,\n",
       "         1.1000e+01],\n",
       "        [0.0000e+00, 4.0000e+00, 1.0000e+00, ..., 1.9833e+04, 8.4000e+01,\n",
       "         2.0000e+00]]),\n",
       " <10000x183 sparse matrix of type '<class 'numpy.float64'>'\n",
       " \twith 140000 stored elements in Compressed Sparse Row format>]"
      ]
     },
     "execution_count": 27,
     "metadata": {},
     "output_type": "execute_result"
    }
   ],
   "source": [
    "train_list = [train[num_features+cat_count_features].values, X_cat,]\n",
    "train_list"
   ]
  },
  {
   "cell_type": "code",
   "execution_count": 28,
   "metadata": {},
   "outputs": [
    {
     "data": {
      "text/plain": [
       "[array([[0.0000e+00, 8.0000e+00, 0.0000e+00, ..., 1.9833e+04, 3.5400e+02,\n",
       "         8.0000e+00],\n",
       "        [4.0000e+00, 5.0000e+00, 0.0000e+00, ..., 1.9833e+04, 7.8700e+02,\n",
       "         1.0000e+00],\n",
       "        [5.0000e+00, 3.0000e+00, 0.0000e+00, ..., 1.9833e+04, 1.5200e+02,\n",
       "         1.0000e+00],\n",
       "        ...,\n",
       "        [4.0000e+00, 1.0000e+01, 0.0000e+00, ..., 1.9833e+04, 4.5800e+02,\n",
       "         1.0000e+00],\n",
       "        [1.0000e+00, 5.0000e+00, 0.0000e+00, ..., 1.9833e+04, 1.5200e+02,\n",
       "         2.0000e+00],\n",
       "        [1.0000e+00, 6.0000e+00, 0.0000e+00, ..., 1.9833e+04, 2.9120e+03,\n",
       "         2.0000e+00]]),\n",
       " <10000x183 sparse matrix of type '<class 'numpy.float64'>'\n",
       " \twith 140000 stored elements in Compressed Sparse Row format>]"
      ]
     },
     "execution_count": 28,
     "metadata": {},
     "output_type": "execute_result"
    }
   ],
   "source": [
    "test_list = [test[num_features+cat_count_features].values, X_cat,]\n",
    "test_list"
   ]
  },
  {
   "cell_type": "code",
   "execution_count": 29,
   "metadata": {},
   "outputs": [
    {
     "data": {
      "text/plain": [
       "<10000x222 sparse matrix of type '<class 'numpy.float64'>'\n",
       "\twith 420920 stored elements in Compressed Sparse Row format>"
      ]
     },
     "execution_count": 29,
     "metadata": {},
     "output_type": "execute_result"
    }
   ],
   "source": [
    "X = ssp.hstack(train_list).tocsr()\n",
    "X_test = ssp.hstack(test_list).tocsr()\n",
    "X"
   ]
  },
  {
   "cell_type": "code",
   "execution_count": 30,
   "metadata": {},
   "outputs": [
    {
     "data": {
      "text/plain": [
       "<10000x222 sparse matrix of type '<class 'numpy.float64'>'\n",
       "\twith 420920 stored elements in COOrdinate format>"
      ]
     },
     "execution_count": 30,
     "metadata": {},
     "output_type": "execute_result"
    }
   ],
   "source": [
    "ssp.hstack(train_list)"
   ]
  },
  {
   "cell_type": "code",
   "execution_count": 31,
   "metadata": {},
   "outputs": [
    {
     "data": {
      "text/plain": [
       "<10000x222 sparse matrix of type '<class 'numpy.float64'>'\n",
       "\twith 420920 stored elements in Compressed Sparse Row format>"
      ]
     },
     "execution_count": 31,
     "metadata": {},
     "output_type": "execute_result"
    }
   ],
   "source": [
    "# tocsr()은 Compressed Spares Row로 압축된 로우로 변경해준다.\n",
    "ssp.hstack(train_list).tocsr()"
   ]
  },
  {
   "cell_type": "markdown",
   "metadata": {},
   "source": [
    "<a class=\"anchor\" id=\"009\"></a>\n",
    "\n",
    "## Model Development"
   ]
  },
  {
   "cell_type": "code",
   "execution_count": 32,
   "metadata": {},
   "outputs": [],
   "source": [
    "learning_rate=0.1\n",
    "num_leaves = 15\n",
    "min_data_in_leaf = 2000\n",
    "feature_fraction = 0.6\n",
    "num_boost_round = 10000"
   ]
  },
  {
   "cell_type": "code",
   "execution_count": 33,
   "metadata": {},
   "outputs": [],
   "source": [
    "params = {\n",
    "    \"objective\": \"binary\",\n",
    "    \"boosting_type\" : \"gbdt\",\n",
    "    \"learning_rate\" : learning_rate,\n",
    "    \"num_leaves\" : num_leaves,\n",
    "    \"max_bin\" : 256,\n",
    "    \"feature_fraction\" : feature_fraction,\n",
    "    \"verbosity\": 0,\n",
    "    \"drop_rate\": 0.1,\n",
    "    \"is_unbalance\": False,\n",
    "    \"max_drop\": 50,\n",
    "    \"min_child_sample\": 10,\n",
    "    \"min_child_weight\": 150,\n",
    "    \"min_split_gain\": 0,\n",
    "    \"subsample\":0.9\n",
    "}"
   ]
  },
  {
   "cell_type": "code",
   "execution_count": 34,
   "metadata": {},
   "outputs": [],
   "source": [
    "x_score= []\n",
    "final_cv_train = np.zeros(len(train_label))\n",
    "final_cv_pred = np.zeros(len(test_id))"
   ]
  },
  {
   "cell_type": "code",
   "execution_count": 35,
   "metadata": {
    "scrolled": true
   },
   "outputs": [
    {
     "name": "stdout",
     "output_type": "stream",
     "text": [
      "(array([   1,    2,    3, ..., 9997, 9998, 9999]), array([   0,    8,   10, ..., 9990, 9992, 9994]))\n",
      "(array([   0,    1,    2, ..., 9997, 9998, 9999]), array([   5,    7,   13, ..., 9980, 9989, 9991]))\n",
      "(array([   0,    1,    3, ..., 9994, 9996, 9998]), array([   2,    6,   15, ..., 9995, 9997, 9999]))\n",
      "(array([   0,    2,    5, ..., 9995, 9997, 9999]), array([   1,    3,    4, ..., 9993, 9996, 9998]))\n",
      "(array([   0,    1,    2, ..., 9997, 9998, 9999]), array([   9,   12,   24, ..., 9959, 9971, 9987]))\n"
     ]
    }
   ],
   "source": [
    "for i in kfold.split(X, train_label):\n",
    "    print(i)"
   ]
  },
  {
   "cell_type": "code",
   "execution_count": 36,
   "metadata": {
    "scrolled": true
   },
   "outputs": [
    {
     "name": "stdout",
     "output_type": "stream",
     "text": [
      "Training until validation scores don't improve for 100 rounds.\n",
      "[100]\tvalid_0's binary_logloss: 0.247265\tvalid_0's gini: -0.0761586\n",
      "Early stopping, best iteration is:\n",
      "[1]\tvalid_0's binary_logloss: 0.247265\tvalid_0's gini: -0.0761586\n",
      "-0.07615857826384138\n",
      "Training until validation scores don't improve for 100 rounds.\n",
      "[100]\tvalid_0's binary_logloss: 0.247397\tvalid_0's gini: -0.00436317\n",
      "Early stopping, best iteration is:\n",
      "[1]\tvalid_0's binary_logloss: 0.247397\tvalid_0's gini: -0.00436317\n",
      "-0.00436316883685302\n",
      "Training until validation scores don't improve for 100 rounds.\n",
      "[100]\tvalid_0's binary_logloss: 0.247397\tvalid_0's gini: -0.0709596\n",
      "Early stopping, best iteration is:\n",
      "[1]\tvalid_0's binary_logloss: 0.247397\tvalid_0's gini: -0.0709596\n",
      "-0.07095962359120252\n",
      "Training until validation scores don't improve for 100 rounds.\n",
      "[100]\tvalid_0's binary_logloss: 0.247397\tvalid_0's gini: -0.0313492\n",
      "Early stopping, best iteration is:\n",
      "[1]\tvalid_0's binary_logloss: 0.247397\tvalid_0's gini: -0.0313492\n",
      "-0.03134916292811026\n",
      "Training until validation scores don't improve for 100 rounds.\n",
      "[100]\tvalid_0's binary_logloss: 0.244047\tvalid_0's gini: 0.00433818\n",
      "Early stopping, best iteration is:\n",
      "[1]\tvalid_0's binary_logloss: 0.244047\tvalid_0's gini: 0.00433818\n",
      "0.00433818433818444\n",
      "cv scroe :\n",
      "-6.609332761807546e-05\n",
      "current score :  -6.609332761807546e-05 1\n",
      "[-0.07615857826384138, -0.00436316883685302, -0.07095962359120252, -0.03134916292811026, 0.00433818433818444]\n",
      "[1, 1, 1, 1, 1] 1.0\n",
      "Training until validation scores don't improve for 100 rounds.\n",
      "[100]\tvalid_0's binary_logloss: 0.247265\tvalid_0's gini: -0.0761586\n",
      "Early stopping, best iteration is:\n",
      "[1]\tvalid_0's binary_logloss: 0.247265\tvalid_0's gini: -0.0761586\n",
      "-0.07615857826384138\n",
      "Training until validation scores don't improve for 100 rounds.\n",
      "[100]\tvalid_0's binary_logloss: 0.247397\tvalid_0's gini: -0.00436317\n",
      "Early stopping, best iteration is:\n",
      "[1]\tvalid_0's binary_logloss: 0.247397\tvalid_0's gini: -0.00436317\n",
      "-0.00436316883685302\n",
      "Training until validation scores don't improve for 100 rounds.\n",
      "[100]\tvalid_0's binary_logloss: 0.247397\tvalid_0's gini: -0.0709596\n",
      "Early stopping, best iteration is:\n",
      "[1]\tvalid_0's binary_logloss: 0.247397\tvalid_0's gini: -0.0709596\n",
      "-0.07095962359120252\n",
      "Training until validation scores don't improve for 100 rounds.\n",
      "[100]\tvalid_0's binary_logloss: 0.247397\tvalid_0's gini: -0.0313492\n",
      "Early stopping, best iteration is:\n",
      "[1]\tvalid_0's binary_logloss: 0.247397\tvalid_0's gini: -0.0313492\n",
      "-0.03134916292811026\n",
      "Training until validation scores don't improve for 100 rounds.\n",
      "[100]\tvalid_0's binary_logloss: 0.244047\tvalid_0's gini: 0.00433818\n",
      "Early stopping, best iteration is:\n",
      "[1]\tvalid_0's binary_logloss: 0.244047\tvalid_0's gini: 0.00433818\n",
      "0.00433818433818444\n",
      "cv scroe :\n",
      "-6.609332761807546e-05\n",
      "current score :  -6.609332761807546e-05 2\n",
      "[-0.07615857826384138, -0.00436316883685302, -0.07095962359120252, -0.03134916292811026, 0.00433818433818444]\n",
      "[1, 1, 1, 1, 1] 1.0\n",
      "Training until validation scores don't improve for 100 rounds.\n",
      "[100]\tvalid_0's binary_logloss: 0.247265\tvalid_0's gini: -0.0761586\n",
      "Early stopping, best iteration is:\n",
      "[1]\tvalid_0's binary_logloss: 0.247265\tvalid_0's gini: -0.0761586\n",
      "-0.07615857826384138\n",
      "Training until validation scores don't improve for 100 rounds.\n",
      "[100]\tvalid_0's binary_logloss: 0.247397\tvalid_0's gini: -0.00436317\n",
      "Early stopping, best iteration is:\n",
      "[1]\tvalid_0's binary_logloss: 0.247397\tvalid_0's gini: -0.00436317\n",
      "-0.00436316883685302\n",
      "Training until validation scores don't improve for 100 rounds.\n",
      "[100]\tvalid_0's binary_logloss: 0.247397\tvalid_0's gini: -0.0709596\n",
      "Early stopping, best iteration is:\n",
      "[1]\tvalid_0's binary_logloss: 0.247397\tvalid_0's gini: -0.0709596\n",
      "-0.07095962359120252\n",
      "Training until validation scores don't improve for 100 rounds.\n",
      "[100]\tvalid_0's binary_logloss: 0.247397\tvalid_0's gini: -0.0313492\n",
      "Early stopping, best iteration is:\n",
      "[1]\tvalid_0's binary_logloss: 0.247397\tvalid_0's gini: -0.0313492\n",
      "-0.03134916292811026\n",
      "Training until validation scores don't improve for 100 rounds.\n",
      "[100]\tvalid_0's binary_logloss: 0.244047\tvalid_0's gini: 0.00433818\n",
      "Early stopping, best iteration is:\n",
      "[1]\tvalid_0's binary_logloss: 0.244047\tvalid_0's gini: 0.00433818\n",
      "0.00433818433818444\n",
      "cv scroe :\n",
      "-6.609332761807546e-05\n",
      "current score :  -6.609332761807546e-05 3\n",
      "[-0.07615857826384138, -0.00436316883685302, -0.07095962359120252, -0.03134916292811026, 0.00433818433818444]\n",
      "[1, 1, 1, 1, 1] 1.0\n",
      "Training until validation scores don't improve for 100 rounds.\n",
      "[100]\tvalid_0's binary_logloss: 0.247265\tvalid_0's gini: -0.0761586\n",
      "Early stopping, best iteration is:\n",
      "[1]\tvalid_0's binary_logloss: 0.247265\tvalid_0's gini: -0.0761586\n",
      "-0.07615857826384138\n",
      "Training until validation scores don't improve for 100 rounds.\n",
      "[100]\tvalid_0's binary_logloss: 0.247397\tvalid_0's gini: -0.00436317\n",
      "Early stopping, best iteration is:\n",
      "[1]\tvalid_0's binary_logloss: 0.247397\tvalid_0's gini: -0.00436317\n",
      "-0.00436316883685302\n",
      "Training until validation scores don't improve for 100 rounds.\n",
      "[100]\tvalid_0's binary_logloss: 0.247397\tvalid_0's gini: -0.0709596\n",
      "Early stopping, best iteration is:\n",
      "[1]\tvalid_0's binary_logloss: 0.247397\tvalid_0's gini: -0.0709596\n",
      "-0.07095962359120252\n",
      "Training until validation scores don't improve for 100 rounds.\n",
      "[100]\tvalid_0's binary_logloss: 0.247397\tvalid_0's gini: -0.0313492\n",
      "Early stopping, best iteration is:\n",
      "[1]\tvalid_0's binary_logloss: 0.247397\tvalid_0's gini: -0.0313492\n",
      "-0.03134916292811026\n",
      "Training until validation scores don't improve for 100 rounds.\n",
      "[100]\tvalid_0's binary_logloss: 0.244047\tvalid_0's gini: 0.00433818\n",
      "Early stopping, best iteration is:\n",
      "[1]\tvalid_0's binary_logloss: 0.244047\tvalid_0's gini: 0.00433818\n",
      "0.00433818433818444\n",
      "cv scroe :\n",
      "-6.609332761807546e-05\n",
      "current score :  -6.609332761807546e-05 4\n",
      "[-0.07615857826384138, -0.00436316883685302, -0.07095962359120252, -0.03134916292811026, 0.00433818433818444]\n",
      "[1, 1, 1, 1, 1] 1.0\n",
      "Training until validation scores don't improve for 100 rounds.\n",
      "[100]\tvalid_0's binary_logloss: 0.247265\tvalid_0's gini: -0.0761586\n",
      "Early stopping, best iteration is:\n",
      "[1]\tvalid_0's binary_logloss: 0.247265\tvalid_0's gini: -0.0761586\n",
      "-0.07615857826384138\n",
      "Training until validation scores don't improve for 100 rounds.\n",
      "[100]\tvalid_0's binary_logloss: 0.247397\tvalid_0's gini: -0.00436317\n",
      "Early stopping, best iteration is:\n",
      "[1]\tvalid_0's binary_logloss: 0.247397\tvalid_0's gini: -0.00436317\n",
      "-0.00436316883685302\n",
      "Training until validation scores don't improve for 100 rounds.\n",
      "[100]\tvalid_0's binary_logloss: 0.247397\tvalid_0's gini: -0.0709596\n",
      "Early stopping, best iteration is:\n",
      "[1]\tvalid_0's binary_logloss: 0.247397\tvalid_0's gini: -0.0709596\n",
      "-0.07095962359120252\n",
      "Training until validation scores don't improve for 100 rounds.\n",
      "[100]\tvalid_0's binary_logloss: 0.247397\tvalid_0's gini: -0.0313492\n",
      "Early stopping, best iteration is:\n",
      "[1]\tvalid_0's binary_logloss: 0.247397\tvalid_0's gini: -0.0313492\n",
      "-0.03134916292811026\n",
      "Training until validation scores don't improve for 100 rounds.\n",
      "[100]\tvalid_0's binary_logloss: 0.244047\tvalid_0's gini: 0.00433818\n",
      "Early stopping, best iteration is:\n",
      "[1]\tvalid_0's binary_logloss: 0.244047\tvalid_0's gini: 0.00433818\n",
      "0.00433818433818444\n",
      "cv scroe :\n",
      "-6.609332761807546e-05\n",
      "current score :  -6.609332761807546e-05 5\n",
      "[-0.07615857826384138, -0.00436316883685302, -0.07095962359120252, -0.03134916292811026, 0.00433818433818444]\n",
      "[1, 1, 1, 1, 1] 1.0\n",
      "Training until validation scores don't improve for 100 rounds.\n",
      "[100]\tvalid_0's binary_logloss: 0.247265\tvalid_0's gini: -0.0761586\n",
      "Early stopping, best iteration is:\n",
      "[1]\tvalid_0's binary_logloss: 0.247265\tvalid_0's gini: -0.0761586\n",
      "-0.07615857826384138\n",
      "Training until validation scores don't improve for 100 rounds.\n",
      "[100]\tvalid_0's binary_logloss: 0.247397\tvalid_0's gini: -0.00436317\n",
      "Early stopping, best iteration is:\n",
      "[1]\tvalid_0's binary_logloss: 0.247397\tvalid_0's gini: -0.00436317\n",
      "-0.00436316883685302\n",
      "Training until validation scores don't improve for 100 rounds.\n",
      "[100]\tvalid_0's binary_logloss: 0.247397\tvalid_0's gini: -0.0709596\n",
      "Early stopping, best iteration is:\n",
      "[1]\tvalid_0's binary_logloss: 0.247397\tvalid_0's gini: -0.0709596\n",
      "-0.07095962359120252\n",
      "Training until validation scores don't improve for 100 rounds.\n",
      "[100]\tvalid_0's binary_logloss: 0.247397\tvalid_0's gini: -0.0313492\n",
      "Early stopping, best iteration is:\n",
      "[1]\tvalid_0's binary_logloss: 0.247397\tvalid_0's gini: -0.0313492\n",
      "-0.03134916292811026\n"
     ]
    },
    {
     "name": "stdout",
     "output_type": "stream",
     "text": [
      "Training until validation scores don't improve for 100 rounds.\n",
      "[100]\tvalid_0's binary_logloss: 0.244047\tvalid_0's gini: 0.00433818\n",
      "Early stopping, best iteration is:\n",
      "[1]\tvalid_0's binary_logloss: 0.244047\tvalid_0's gini: 0.00433818\n",
      "0.00433818433818444\n",
      "cv scroe :\n",
      "-6.609332761807546e-05\n",
      "current score :  -6.609332761807546e-05 6\n",
      "[-0.07615857826384138, -0.00436316883685302, -0.07095962359120252, -0.03134916292811026, 0.00433818433818444]\n",
      "[1, 1, 1, 1, 1] 1.0\n",
      "Training until validation scores don't improve for 100 rounds.\n",
      "[100]\tvalid_0's binary_logloss: 0.247265\tvalid_0's gini: -0.0761586\n",
      "Early stopping, best iteration is:\n",
      "[1]\tvalid_0's binary_logloss: 0.247265\tvalid_0's gini: -0.0761586\n",
      "-0.07615857826384138\n",
      "Training until validation scores don't improve for 100 rounds.\n",
      "[100]\tvalid_0's binary_logloss: 0.247397\tvalid_0's gini: -0.00436317\n",
      "Early stopping, best iteration is:\n",
      "[1]\tvalid_0's binary_logloss: 0.247397\tvalid_0's gini: -0.00436317\n",
      "-0.00436316883685302\n",
      "Training until validation scores don't improve for 100 rounds.\n",
      "[100]\tvalid_0's binary_logloss: 0.247397\tvalid_0's gini: -0.0709596\n",
      "Early stopping, best iteration is:\n",
      "[1]\tvalid_0's binary_logloss: 0.247397\tvalid_0's gini: -0.0709596\n",
      "-0.07095962359120252\n",
      "Training until validation scores don't improve for 100 rounds.\n",
      "[100]\tvalid_0's binary_logloss: 0.247397\tvalid_0's gini: -0.0313492\n",
      "Early stopping, best iteration is:\n",
      "[1]\tvalid_0's binary_logloss: 0.247397\tvalid_0's gini: -0.0313492\n",
      "-0.03134916292811026\n",
      "Training until validation scores don't improve for 100 rounds.\n",
      "[100]\tvalid_0's binary_logloss: 0.244047\tvalid_0's gini: 0.00433818\n",
      "Early stopping, best iteration is:\n",
      "[1]\tvalid_0's binary_logloss: 0.244047\tvalid_0's gini: 0.00433818\n",
      "0.00433818433818444\n",
      "cv scroe :\n",
      "-6.609332761807546e-05\n",
      "current score :  -6.609332761807546e-05 7\n",
      "[-0.07615857826384138, -0.00436316883685302, -0.07095962359120252, -0.03134916292811026, 0.00433818433818444]\n",
      "[1, 1, 1, 1, 1] 1.0\n",
      "Training until validation scores don't improve for 100 rounds.\n",
      "[100]\tvalid_0's binary_logloss: 0.247265\tvalid_0's gini: -0.0761586\n",
      "Early stopping, best iteration is:\n",
      "[1]\tvalid_0's binary_logloss: 0.247265\tvalid_0's gini: -0.0761586\n",
      "-0.07615857826384138\n",
      "Training until validation scores don't improve for 100 rounds.\n",
      "[100]\tvalid_0's binary_logloss: 0.247397\tvalid_0's gini: -0.00436317\n",
      "Early stopping, best iteration is:\n",
      "[1]\tvalid_0's binary_logloss: 0.247397\tvalid_0's gini: -0.00436317\n",
      "-0.00436316883685302\n",
      "Training until validation scores don't improve for 100 rounds.\n",
      "[100]\tvalid_0's binary_logloss: 0.247397\tvalid_0's gini: -0.0709596\n",
      "Early stopping, best iteration is:\n",
      "[1]\tvalid_0's binary_logloss: 0.247397\tvalid_0's gini: -0.0709596\n",
      "-0.07095962359120252\n",
      "Training until validation scores don't improve for 100 rounds.\n",
      "[100]\tvalid_0's binary_logloss: 0.247397\tvalid_0's gini: -0.0313492\n",
      "Early stopping, best iteration is:\n",
      "[1]\tvalid_0's binary_logloss: 0.247397\tvalid_0's gini: -0.0313492\n",
      "-0.03134916292811026\n",
      "Training until validation scores don't improve for 100 rounds.\n",
      "[100]\tvalid_0's binary_logloss: 0.244047\tvalid_0's gini: 0.00433818\n",
      "Early stopping, best iteration is:\n",
      "[1]\tvalid_0's binary_logloss: 0.244047\tvalid_0's gini: 0.00433818\n",
      "0.00433818433818444\n",
      "cv scroe :\n",
      "-6.609332761807546e-05\n",
      "current score :  -6.609332761807546e-05 8\n",
      "[-0.07615857826384138, -0.00436316883685302, -0.07095962359120252, -0.03134916292811026, 0.00433818433818444]\n",
      "[1, 1, 1, 1, 1] 1.0\n",
      "Training until validation scores don't improve for 100 rounds.\n",
      "[100]\tvalid_0's binary_logloss: 0.247265\tvalid_0's gini: -0.0761586\n",
      "Early stopping, best iteration is:\n",
      "[1]\tvalid_0's binary_logloss: 0.247265\tvalid_0's gini: -0.0761586\n",
      "-0.07615857826384138\n",
      "Training until validation scores don't improve for 100 rounds.\n",
      "[100]\tvalid_0's binary_logloss: 0.247397\tvalid_0's gini: -0.00436317\n",
      "Early stopping, best iteration is:\n",
      "[1]\tvalid_0's binary_logloss: 0.247397\tvalid_0's gini: -0.00436317\n",
      "-0.00436316883685302\n",
      "Training until validation scores don't improve for 100 rounds.\n",
      "[100]\tvalid_0's binary_logloss: 0.247397\tvalid_0's gini: -0.0709596\n",
      "Early stopping, best iteration is:\n",
      "[1]\tvalid_0's binary_logloss: 0.247397\tvalid_0's gini: -0.0709596\n",
      "-0.07095962359120252\n",
      "Training until validation scores don't improve for 100 rounds.\n",
      "[100]\tvalid_0's binary_logloss: 0.247397\tvalid_0's gini: -0.0313492\n",
      "Early stopping, best iteration is:\n",
      "[1]\tvalid_0's binary_logloss: 0.247397\tvalid_0's gini: -0.0313492\n",
      "-0.03134916292811026\n",
      "Training until validation scores don't improve for 100 rounds.\n",
      "[100]\tvalid_0's binary_logloss: 0.244047\tvalid_0's gini: 0.00433818\n",
      "Early stopping, best iteration is:\n",
      "[1]\tvalid_0's binary_logloss: 0.244047\tvalid_0's gini: 0.00433818\n",
      "0.00433818433818444\n",
      "cv scroe :\n",
      "-6.609332761807546e-05\n",
      "current score :  -6.609332761807546e-05 9\n",
      "[-0.07615857826384138, -0.00436316883685302, -0.07095962359120252, -0.03134916292811026, 0.00433818433818444]\n",
      "[1, 1, 1, 1, 1] 1.0\n",
      "Training until validation scores don't improve for 100 rounds.\n",
      "[100]\tvalid_0's binary_logloss: 0.247265\tvalid_0's gini: -0.0761586\n",
      "Early stopping, best iteration is:\n",
      "[1]\tvalid_0's binary_logloss: 0.247265\tvalid_0's gini: -0.0761586\n",
      "-0.07615857826384138\n",
      "Training until validation scores don't improve for 100 rounds.\n",
      "[100]\tvalid_0's binary_logloss: 0.247397\tvalid_0's gini: -0.00436317\n",
      "Early stopping, best iteration is:\n",
      "[1]\tvalid_0's binary_logloss: 0.247397\tvalid_0's gini: -0.00436317\n",
      "-0.00436316883685302\n",
      "Training until validation scores don't improve for 100 rounds.\n",
      "[100]\tvalid_0's binary_logloss: 0.247397\tvalid_0's gini: -0.0709596\n",
      "Early stopping, best iteration is:\n",
      "[1]\tvalid_0's binary_logloss: 0.247397\tvalid_0's gini: -0.0709596\n",
      "-0.07095962359120252\n",
      "Training until validation scores don't improve for 100 rounds.\n",
      "[100]\tvalid_0's binary_logloss: 0.247397\tvalid_0's gini: -0.0313492\n",
      "Early stopping, best iteration is:\n",
      "[1]\tvalid_0's binary_logloss: 0.247397\tvalid_0's gini: -0.0313492\n",
      "-0.03134916292811026\n",
      "Training until validation scores don't improve for 100 rounds.\n",
      "[100]\tvalid_0's binary_logloss: 0.244047\tvalid_0's gini: 0.00433818\n",
      "Early stopping, best iteration is:\n",
      "[1]\tvalid_0's binary_logloss: 0.244047\tvalid_0's gini: 0.00433818\n",
      "0.00433818433818444\n",
      "cv scroe :\n",
      "-6.609332761807546e-05\n",
      "current score :  -6.609332761807546e-05 10\n",
      "[-0.07615857826384138, -0.00436316883685302, -0.07095962359120252, -0.03134916292811026, 0.00433818433818444]\n",
      "[1, 1, 1, 1, 1] 1.0\n",
      "Training until validation scores don't improve for 100 rounds.\n",
      "[100]\tvalid_0's binary_logloss: 0.247265\tvalid_0's gini: -0.0761586\n",
      "Early stopping, best iteration is:\n",
      "[1]\tvalid_0's binary_logloss: 0.247265\tvalid_0's gini: -0.0761586\n",
      "-0.07615857826384138\n",
      "Training until validation scores don't improve for 100 rounds.\n",
      "[100]\tvalid_0's binary_logloss: 0.247397\tvalid_0's gini: -0.00436317\n",
      "Early stopping, best iteration is:\n",
      "[1]\tvalid_0's binary_logloss: 0.247397\tvalid_0's gini: -0.00436317\n",
      "-0.00436316883685302\n",
      "Training until validation scores don't improve for 100 rounds.\n",
      "[100]\tvalid_0's binary_logloss: 0.247397\tvalid_0's gini: -0.0709596\n",
      "Early stopping, best iteration is:\n",
      "[1]\tvalid_0's binary_logloss: 0.247397\tvalid_0's gini: -0.0709596\n",
      "-0.07095962359120252\n",
      "Training until validation scores don't improve for 100 rounds.\n",
      "[100]\tvalid_0's binary_logloss: 0.247397\tvalid_0's gini: -0.0313492\n",
      "Early stopping, best iteration is:\n",
      "[1]\tvalid_0's binary_logloss: 0.247397\tvalid_0's gini: -0.0313492\n",
      "-0.03134916292811026\n",
      "Training until validation scores don't improve for 100 rounds.\n",
      "[100]\tvalid_0's binary_logloss: 0.244047\tvalid_0's gini: 0.00433818\n",
      "Early stopping, best iteration is:\n",
      "[1]\tvalid_0's binary_logloss: 0.244047\tvalid_0's gini: 0.00433818\n",
      "0.00433818433818444\n",
      "cv scroe :\n",
      "-6.609332761807546e-05\n",
      "current score :  -6.609332761807546e-05 11\n",
      "[-0.07615857826384138, -0.00436316883685302, -0.07095962359120252, -0.03134916292811026, 0.00433818433818444]\n",
      "[1, 1, 1, 1, 1] 1.0\n",
      "Training until validation scores don't improve for 100 rounds.\n",
      "[100]\tvalid_0's binary_logloss: 0.247265\tvalid_0's gini: -0.0761586\n",
      "Early stopping, best iteration is:\n",
      "[1]\tvalid_0's binary_logloss: 0.247265\tvalid_0's gini: -0.0761586\n",
      "-0.07615857826384138\n",
      "Training until validation scores don't improve for 100 rounds.\n",
      "[100]\tvalid_0's binary_logloss: 0.247397\tvalid_0's gini: -0.00436317\n",
      "Early stopping, best iteration is:\n",
      "[1]\tvalid_0's binary_logloss: 0.247397\tvalid_0's gini: -0.00436317\n",
      "-0.00436316883685302\n",
      "Training until validation scores don't improve for 100 rounds.\n"
     ]
    },
    {
     "name": "stdout",
     "output_type": "stream",
     "text": [
      "[100]\tvalid_0's binary_logloss: 0.247397\tvalid_0's gini: -0.0709596\n",
      "Early stopping, best iteration is:\n",
      "[1]\tvalid_0's binary_logloss: 0.247397\tvalid_0's gini: -0.0709596\n",
      "-0.07095962359120252\n",
      "Training until validation scores don't improve for 100 rounds.\n",
      "[100]\tvalid_0's binary_logloss: 0.247397\tvalid_0's gini: -0.0313492\n",
      "Early stopping, best iteration is:\n",
      "[1]\tvalid_0's binary_logloss: 0.247397\tvalid_0's gini: -0.0313492\n",
      "-0.03134916292811026\n",
      "Training until validation scores don't improve for 100 rounds.\n",
      "[100]\tvalid_0's binary_logloss: 0.244047\tvalid_0's gini: 0.00433818\n",
      "Early stopping, best iteration is:\n",
      "[1]\tvalid_0's binary_logloss: 0.244047\tvalid_0's gini: 0.00433818\n",
      "0.00433818433818444\n",
      "cv scroe :\n",
      "-6.609332761807546e-05\n",
      "current score :  -6.609332761807546e-05 12\n",
      "[-0.07615857826384138, -0.00436316883685302, -0.07095962359120252, -0.03134916292811026, 0.00433818433818444]\n",
      "[1, 1, 1, 1, 1] 1.0\n",
      "Training until validation scores don't improve for 100 rounds.\n",
      "[100]\tvalid_0's binary_logloss: 0.247265\tvalid_0's gini: -0.0761586\n",
      "Early stopping, best iteration is:\n",
      "[1]\tvalid_0's binary_logloss: 0.247265\tvalid_0's gini: -0.0761586\n",
      "-0.07615857826384138\n",
      "Training until validation scores don't improve for 100 rounds.\n",
      "[100]\tvalid_0's binary_logloss: 0.247397\tvalid_0's gini: -0.00436317\n",
      "Early stopping, best iteration is:\n",
      "[1]\tvalid_0's binary_logloss: 0.247397\tvalid_0's gini: -0.00436317\n",
      "-0.00436316883685302\n",
      "Training until validation scores don't improve for 100 rounds.\n",
      "[100]\tvalid_0's binary_logloss: 0.247397\tvalid_0's gini: -0.0709596\n",
      "Early stopping, best iteration is:\n",
      "[1]\tvalid_0's binary_logloss: 0.247397\tvalid_0's gini: -0.0709596\n",
      "-0.07095962359120252\n",
      "Training until validation scores don't improve for 100 rounds.\n",
      "[100]\tvalid_0's binary_logloss: 0.247397\tvalid_0's gini: -0.0313492\n",
      "Early stopping, best iteration is:\n",
      "[1]\tvalid_0's binary_logloss: 0.247397\tvalid_0's gini: -0.0313492\n",
      "-0.03134916292811026\n",
      "Training until validation scores don't improve for 100 rounds.\n",
      "[100]\tvalid_0's binary_logloss: 0.244047\tvalid_0's gini: 0.00433818\n",
      "Early stopping, best iteration is:\n",
      "[1]\tvalid_0's binary_logloss: 0.244047\tvalid_0's gini: 0.00433818\n",
      "0.00433818433818444\n",
      "cv scroe :\n",
      "-6.609332761807546e-05\n",
      "current score :  -6.609332761807546e-05 13\n",
      "[-0.07615857826384138, -0.00436316883685302, -0.07095962359120252, -0.03134916292811026, 0.00433818433818444]\n",
      "[1, 1, 1, 1, 1] 1.0\n",
      "Training until validation scores don't improve for 100 rounds.\n",
      "[100]\tvalid_0's binary_logloss: 0.247265\tvalid_0's gini: -0.0761586\n",
      "Early stopping, best iteration is:\n",
      "[1]\tvalid_0's binary_logloss: 0.247265\tvalid_0's gini: -0.0761586\n",
      "-0.07615857826384138\n",
      "Training until validation scores don't improve for 100 rounds.\n",
      "[100]\tvalid_0's binary_logloss: 0.247397\tvalid_0's gini: -0.00436317\n",
      "Early stopping, best iteration is:\n",
      "[1]\tvalid_0's binary_logloss: 0.247397\tvalid_0's gini: -0.00436317\n",
      "-0.00436316883685302\n",
      "Training until validation scores don't improve for 100 rounds.\n",
      "[100]\tvalid_0's binary_logloss: 0.247397\tvalid_0's gini: -0.0709596\n",
      "Early stopping, best iteration is:\n",
      "[1]\tvalid_0's binary_logloss: 0.247397\tvalid_0's gini: -0.0709596\n",
      "-0.07095962359120252\n",
      "Training until validation scores don't improve for 100 rounds.\n",
      "[100]\tvalid_0's binary_logloss: 0.247397\tvalid_0's gini: -0.0313492\n",
      "Early stopping, best iteration is:\n",
      "[1]\tvalid_0's binary_logloss: 0.247397\tvalid_0's gini: -0.0313492\n",
      "-0.03134916292811026\n",
      "Training until validation scores don't improve for 100 rounds.\n",
      "[100]\tvalid_0's binary_logloss: 0.244047\tvalid_0's gini: 0.00433818\n",
      "Early stopping, best iteration is:\n",
      "[1]\tvalid_0's binary_logloss: 0.244047\tvalid_0's gini: 0.00433818\n",
      "0.00433818433818444\n",
      "cv scroe :\n",
      "-6.609332761807546e-05\n",
      "current score :  -6.609332761807546e-05 14\n",
      "[-0.07615857826384138, -0.00436316883685302, -0.07095962359120252, -0.03134916292811026, 0.00433818433818444]\n",
      "[1, 1, 1, 1, 1] 1.0\n",
      "Training until validation scores don't improve for 100 rounds.\n",
      "[100]\tvalid_0's binary_logloss: 0.247265\tvalid_0's gini: -0.0761586\n",
      "Early stopping, best iteration is:\n",
      "[1]\tvalid_0's binary_logloss: 0.247265\tvalid_0's gini: -0.0761586\n",
      "-0.07615857826384138\n",
      "Training until validation scores don't improve for 100 rounds.\n",
      "[100]\tvalid_0's binary_logloss: 0.247397\tvalid_0's gini: -0.00436317\n",
      "Early stopping, best iteration is:\n",
      "[1]\tvalid_0's binary_logloss: 0.247397\tvalid_0's gini: -0.00436317\n",
      "-0.00436316883685302\n",
      "Training until validation scores don't improve for 100 rounds.\n",
      "[100]\tvalid_0's binary_logloss: 0.247397\tvalid_0's gini: -0.0709596\n",
      "Early stopping, best iteration is:\n",
      "[1]\tvalid_0's binary_logloss: 0.247397\tvalid_0's gini: -0.0709596\n",
      "-0.07095962359120252\n",
      "Training until validation scores don't improve for 100 rounds.\n",
      "[100]\tvalid_0's binary_logloss: 0.247397\tvalid_0's gini: -0.0313492\n",
      "Early stopping, best iteration is:\n",
      "[1]\tvalid_0's binary_logloss: 0.247397\tvalid_0's gini: -0.0313492\n",
      "-0.03134916292811026\n",
      "Training until validation scores don't improve for 100 rounds.\n",
      "[100]\tvalid_0's binary_logloss: 0.244047\tvalid_0's gini: 0.00433818\n",
      "Early stopping, best iteration is:\n",
      "[1]\tvalid_0's binary_logloss: 0.244047\tvalid_0's gini: 0.00433818\n",
      "0.00433818433818444\n",
      "cv scroe :\n",
      "-6.609332761807546e-05\n",
      "current score :  -6.609332761807546e-05 15\n",
      "[-0.07615857826384138, -0.00436316883685302, -0.07095962359120252, -0.03134916292811026, 0.00433818433818444]\n",
      "[1, 1, 1, 1, 1] 1.0\n",
      "Training until validation scores don't improve for 100 rounds.\n",
      "[100]\tvalid_0's binary_logloss: 0.247265\tvalid_0's gini: -0.0761586\n",
      "Early stopping, best iteration is:\n",
      "[1]\tvalid_0's binary_logloss: 0.247265\tvalid_0's gini: -0.0761586\n",
      "-0.07615857826384138\n",
      "Training until validation scores don't improve for 100 rounds.\n",
      "[100]\tvalid_0's binary_logloss: 0.247397\tvalid_0's gini: -0.00436317\n",
      "Early stopping, best iteration is:\n",
      "[1]\tvalid_0's binary_logloss: 0.247397\tvalid_0's gini: -0.00436317\n",
      "-0.00436316883685302\n",
      "Training until validation scores don't improve for 100 rounds.\n",
      "[100]\tvalid_0's binary_logloss: 0.247397\tvalid_0's gini: -0.0709596\n",
      "Early stopping, best iteration is:\n",
      "[1]\tvalid_0's binary_logloss: 0.247397\tvalid_0's gini: -0.0709596\n",
      "-0.07095962359120252\n",
      "Training until validation scores don't improve for 100 rounds.\n",
      "[100]\tvalid_0's binary_logloss: 0.247397\tvalid_0's gini: -0.0313492\n",
      "Early stopping, best iteration is:\n",
      "[1]\tvalid_0's binary_logloss: 0.247397\tvalid_0's gini: -0.0313492\n",
      "-0.03134916292811026\n",
      "Training until validation scores don't improve for 100 rounds.\n",
      "[100]\tvalid_0's binary_logloss: 0.244047\tvalid_0's gini: 0.00433818\n",
      "Early stopping, best iteration is:\n",
      "[1]\tvalid_0's binary_logloss: 0.244047\tvalid_0's gini: 0.00433818\n",
      "0.00433818433818444\n",
      "cv scroe :\n",
      "-6.609332761807546e-05\n",
      "current score :  -6.609332761807546e-05 16\n",
      "[-0.07615857826384138, -0.00436316883685302, -0.07095962359120252, -0.03134916292811026, 0.00433818433818444]\n",
      "[1, 1, 1, 1, 1] 1.0\n",
      "[-6.609332761807546e-05, -6.609332761807546e-05, -6.609332761807546e-05, -6.609332761807546e-05, -6.609332761807546e-05, -6.609332761807546e-05, -6.609332761807546e-05, -6.609332761807546e-05, -6.609332761807546e-05, -6.609332761807546e-05, -6.609332761807546e-05, -6.609332761807546e-05, -6.609332761807546e-05, -6.609332761807546e-05, -6.609332761807546e-05, -6.609332761807546e-05]\n"
     ]
    }
   ],
   "source": [
    "for s in range(16):\n",
    "    cv_train = np.zeros(len(train_label))\n",
    "    cv_pred = np.zeros(len(test_id))\n",
    "    \n",
    "    params['seed'] = s\n",
    "    \n",
    "    if cv_only:\n",
    "        kf = kfold.split(X, train_label)\n",
    "        \n",
    "        best_trees = []\n",
    "        fold_scores = []\n",
    "        \n",
    "        for i, (train_fold, validate) in enumerate(kf):\n",
    "            X_train, X_validate, label_train, label_validate = \\\n",
    "                X[train_fold, :], X[validate, :], train_label[train_fold], train_label[validate]\n",
    "            dtrain = lgbm.Dataset(X_train, label_train)\n",
    "            dvalid = lgbm.Dataset(X_validate, label_validate, reference=dtrain)\n",
    "            bst = lgbm.train(params, dtrain, num_boost_round, valid_sets=dvalid, feval=evalerror,\n",
    "                            verbose_eval=100, early_stopping_rounds=100)\n",
    "            best_trees.append(bst.best_iteration)\n",
    "            cv_pred += bst.predict(X_test, num_iteration=bst.best_iteration)\n",
    "            cv_train[validate] += bst.predict(X_validate)\n",
    "            \n",
    "            score = Gini(label_validate, cv_train[validate])\n",
    "            print(score)\n",
    "            fold_scores.append(score)\n",
    "        \n",
    "        cv_pred /= NFOLDS\n",
    "        final_cv_train += cv_train\n",
    "        final_cv_pred += cv_pred\n",
    "        \n",
    "        print('cv scroe :')\n",
    "        print(Gini(train_label, cv_train))\n",
    "        print('current score : ', Gini(train_label, final_cv_train / (s + 1.)), s+1)\n",
    "        print(fold_scores)\n",
    "        print(best_trees, np.mean(best_trees))\n",
    "        \n",
    "        x_score.append(Gini(train_label, cv_train))\n",
    "\n",
    "print(x_score)\n",
    "pd.DataFrame({'id':test_id, 'target':final_cv_pred / 16.}).to_csv('../../input/porto/lgbm3_pred_avg.csv', index=False)\n",
    "pd.DataFrame({'id':train_id, 'target':final_cv_train / 16.}).to_csv('../../input/porto/lgbm3_cv_avg.csv', index=False)\n",
    "            \n",
    "            "
   ]
  },
  {
   "cell_type": "markdown",
   "metadata": {},
   "source": [
    "====== 위 함수를 뜯어보자 ========"
   ]
  },
  {
   "cell_type": "code",
   "execution_count": 118,
   "metadata": {},
   "outputs": [],
   "source": [
    "for s in range(16):\n",
    "    break"
   ]
  },
  {
   "cell_type": "code",
   "execution_count": 125,
   "metadata": {},
   "outputs": [
    {
     "data": {
      "text/plain": [
       "10000"
      ]
     },
     "execution_count": 125,
     "metadata": {},
     "output_type": "execute_result"
    }
   ],
   "source": [
    "cv_train = np.zeros(len(train_label))\n",
    "cv_pred = np.zeros(len(test_id))\n",
    "# 앙상블은 다양성이 있어서 되는 것. 랜덤넘버를 다양하게 설정하여 조정할 수 있다.\n",
    "params['seed'] = s"
   ]
  },
  {
   "cell_type": "code",
   "execution_count": 43,
   "metadata": {},
   "outputs": [
    {
     "name": "stdout",
     "output_type": "stream",
     "text": [
      "(array([   1,    2,    3, ..., 9997, 9998, 9999]), array([   0,    8,   10, ..., 9990, 9992, 9994]))\n",
      "(array([   0,    1,    2, ..., 9997, 9998, 9999]), array([   5,    7,   13, ..., 9980, 9989, 9991]))\n",
      "(array([   0,    1,    3, ..., 9994, 9996, 9998]), array([   2,    6,   15, ..., 9995, 9997, 9999]))\n",
      "(array([   0,    2,    5, ..., 9995, 9997, 9999]), array([   1,    3,    4, ..., 9993, 9996, 9998]))\n",
      "(array([   0,    1,    2, ..., 9997, 9998, 9999]), array([   9,   12,   24, ..., 9959, 9971, 9987]))\n"
     ]
    }
   ],
   "source": [
    "kf = kfold.split(X, train_label)\n",
    "# kfold를 뜰어보면 이렇게 생겼다.\n",
    "for i in kf:\n",
    "    print(i)"
   ]
  },
  {
   "cell_type": "code",
   "execution_count": 45,
   "metadata": {},
   "outputs": [],
   "source": [
    "best_trees = []; fold_scores = []"
   ]
  },
  {
   "cell_type": "code",
   "execution_count": 54,
   "metadata": {},
   "outputs": [
    {
     "data": {
      "text/plain": [
       "array([   0,    1,    2, ..., 9997, 9998, 9999])"
      ]
     },
     "execution_count": 54,
     "metadata": {},
     "output_type": "execute_result"
    }
   ],
   "source": [
    "train_fold"
   ]
  },
  {
   "cell_type": "code",
   "execution_count": 63,
   "metadata": {},
   "outputs": [],
   "source": [
    "for i,(train_fold, validate) in enumerate(kf):\n",
    "    break"
   ]
  },
  {
   "cell_type": "code",
   "execution_count": 67,
   "metadata": {},
   "outputs": [
    {
     "name": "stdout",
     "output_type": "stream",
     "text": [
      "8001 (8001,) [   0    1    2 ... 9997 9998 9999]\n"
     ]
    }
   ],
   "source": [
    "print(len(train_fold), train_fold.shape, train_fold)"
   ]
  },
  {
   "cell_type": "code",
   "execution_count": 68,
   "metadata": {},
   "outputs": [
    {
     "name": "stdout",
     "output_type": "stream",
     "text": [
      "1999 (1999,) [   9   12   24 ... 9959 9971 9987]\n"
     ]
    }
   ],
   "source": [
    "print(len(validate), validate.shape, validate)"
   ]
  },
  {
   "cell_type": "code",
   "execution_count": 60,
   "metadata": {},
   "outputs": [],
   "source": [
    " X_train, X_validate, label_train, label_validate = \\\n",
    "        X[train_fold,:], X[validate], train_label[train_fold], train_label[validate]"
   ]
  },
  {
   "cell_type": "code",
   "execution_count": 72,
   "metadata": {},
   "outputs": [
    {
     "name": "stdout",
     "output_type": "stream",
     "text": [
      "<lightgbm.basic.Dataset object at 0x11aef3390> <lightgbm.basic.Dataset object at 0x11aef3588>\n"
     ]
    }
   ],
   "source": [
    "dtrain = lgbm.Dataset(X_train, label_train)\n",
    "dvalid = lgbm.Dataset(X_validate, label_validate, reference=dtrain)\n",
    "print(dtrain, dvalid)"
   ]
  },
  {
   "cell_type": "code",
   "execution_count": 76,
   "metadata": {},
   "outputs": [
    {
     "name": "stdout",
     "output_type": "stream",
     "text": [
      "Training until validation scores don't improve for 100 rounds.\n",
      "[100]\tvalid_0's binary_logloss: 0.244047\tvalid_0's gini: 0.00433818\n",
      "Early stopping, best iteration is:\n",
      "[1]\tvalid_0's binary_logloss: 0.244047\tvalid_0's gini: 0.00433818\n"
     ]
    },
    {
     "data": {
      "text/plain": [
       "<lightgbm.basic.Booster at 0x11af15da0>"
      ]
     },
     "execution_count": 76,
     "metadata": {},
     "output_type": "execute_result"
    }
   ],
   "source": [
    "lgbm.train(params, dtrain, \n",
    "           num_boost_round, \n",
    "           valid_sets=dvalid, \n",
    "           feval=evalerror, \n",
    "           verbose_eval=100, \n",
    "           early_stopping_rounds=100)\\"
   ]
  },
  {
   "cell_type": "code",
   "execution_count": null,
   "metadata": {},
   "outputs": [],
   "source": []
  },
  {
   "cell_type": "code",
   "execution_count": null,
   "metadata": {},
   "outputs": [],
   "source": []
  },
  {
   "cell_type": "code",
   "execution_count": null,
   "metadata": {},
   "outputs": [],
   "source": []
  },
  {
   "cell_type": "code",
   "execution_count": null,
   "metadata": {},
   "outputs": [],
   "source": [
    " bst = lgbm.train(params, dtrain, num_boost_round, valid_sets=dvalid, feval=evalerror,\n",
    "                            verbose_eval=100, early_stopping_rounds=100)"
   ]
  },
  {
   "cell_type": "markdown",
   "metadata": {},
   "source": [
    "====== 위 함수를 뜯어보자 완료 ========"
   ]
  },
  {
   "cell_type": "markdown",
   "metadata": {},
   "source": [
    "=============================="
   ]
  },
  {
   "cell_type": "markdown",
   "metadata": {},
   "source": [
    "----"
   ]
  }
 ],
 "metadata": {
  "kernelspec": {
   "display_name": "Python 3",
   "language": "python",
   "name": "python3"
  },
  "language_info": {
   "codemirror_mode": {
    "name": "ipython",
    "version": 3
   },
   "file_extension": ".py",
   "mimetype": "text/x-python",
   "name": "python",
   "nbconvert_exporter": "python",
   "pygments_lexer": "ipython3",
   "version": "3.6.5"
  }
 },
 "nbformat": 4,
 "nbformat_minor": 2
}
