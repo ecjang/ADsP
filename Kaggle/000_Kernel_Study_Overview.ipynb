{
 "cells": [
  {
   "cell_type": "markdown",
   "metadata": {},
   "source": [
    "# 000_Kernel_Study_Overview"
   ]
  },
  {
   "cell_type": "markdown",
   "metadata": {},
   "source": [
    "필사적으로 필사하세요. 커널의 A 부터 Z 까지 다 똑같이 3번 적고 다음 커널로 넘어가시면 됩니다.\n",
    "\n",
    "- Curriculum : https://goo.gl/mZHsP4\n",
    "1. 파이썬 라이브러리를 활용한 머신러닝\n",
    "1. 핸즈온 머신러닝\n",
    "1. 캐라스 창시자한테 배우는 딥러닝\n",
    "1. 파이썬 딥러닝 케라스"
   ]
  },
  {
   "cell_type": "markdown",
   "metadata": {},
   "source": [
    "----"
   ]
  },
  {
   "cell_type": "markdown",
   "metadata": {},
   "source": [
    "## 1. Binary Calssification"
   ]
  },
  {
   "cell_type": "markdown",
   "metadata": {},
   "source": [
    "### 1st level. Titanic Competition\n",
    "1. Discription : https://www.kaggle.com/c/titanic\n",
    "1. kernel 1 : https://www.kaggle.com/ash316/eda-to-prediction-dietanic\n",
    "1. Youtube Cannel : https://www.youtube.com/channel/UC--LgKcZVgffjsxudoXg5pQ/videos\n",
    "\n",
    "Tianic Study\n",
    "    1. 001 : https://www.youtube.com/watch?v=VOjIb2TJyWg\n",
    "    1. 002 : https://www.youtube.com/watch?v=fSA89TapzdA\n",
    "\n",
    "#### Notebook\n",
    "- [Tinanic Prediction](001_Binary_Prediction_Titanic.ipynb)"
   ]
  },
  {
   "cell_type": "markdown",
   "metadata": {},
   "source": [
    "### 2nd level. Porto"
   ]
  },
  {
   "cell_type": "markdown",
   "metadata": {},
   "source": [
    "#### Info\n",
    "- Discription : https://www.kaggle.com/c/porto-seguro-safe-driver-prediction"
   ]
  },
  {
   "cell_type": "markdown",
   "metadata": {},
   "source": [
    "#### kernel\n",
    "- 1st kernel https://www.kaggle.com/bertcarremans/data-preparation-exploration\n",
    "- 2nd kernel https://www.kaggle.com/arthurtok/interactive-porto-insights-a-plot-ly-tutorial\n",
    "- 3rd kernel https://www.kaggle.com/aharless/xgboost-cv-lb-284\n",
    "- 4th kernel https://www.kaggle.com/gpreda/porto-seguro-exploratory-analysis-and-prediction"
   ]
  },
  {
   "cell_type": "markdown",
   "metadata": {},
   "source": [
    "#### Youtube\n",
    "Porto Study : https://goo.gl/mKB8Ly\n",
    "1. 001 : https://goo.gl/qoYsKq\n",
    "1. 002 : https://goo.gl/CdTbYu\n",
    "1. 003 : https://goo.gl/zwbCJt\n",
    "1. 004 : https://goo.gl/N6W3NW\n",
    "1. 005 : https://goo.gl/MGwYWz"
   ]
  },
  {
   "cell_type": "markdown",
   "metadata": {},
   "source": [
    "----"
   ]
  },
  {
   "cell_type": "markdown",
   "metadata": {},
   "source": [
    "## 2. Multi-Class Classification"
   ]
  },
  {
   "cell_type": "markdown",
   "metadata": {},
   "source": [
    "----"
   ]
  },
  {
   "cell_type": "markdown",
   "metadata": {},
   "source": [
    "## 3. Binary Calssificaion"
   ]
  },
  {
   "cell_type": "markdown",
   "metadata": {},
   "source": [
    "----"
   ]
  },
  {
   "cell_type": "markdown",
   "metadata": {},
   "source": [
    "## 4. Multi-Class Classificaion : Image"
   ]
  },
  {
   "cell_type": "markdown",
   "metadata": {},
   "source": [
    "----"
   ]
  },
  {
   "cell_type": "markdown",
   "metadata": {},
   "source": [
    "## 5. Audio Recognition"
   ]
  },
  {
   "cell_type": "markdown",
   "metadata": {},
   "source": [
    "----"
   ]
  },
  {
   "cell_type": "markdown",
   "metadata": {},
   "source": [
    "## 6. Regression : Tabular"
   ]
  },
  {
   "cell_type": "markdown",
   "metadata": {},
   "source": [
    "----"
   ]
  },
  {
   "cell_type": "markdown",
   "metadata": {},
   "source": [
    "## 7. Object Segmentation"
   ]
  },
  {
   "cell_type": "markdown",
   "metadata": {},
   "source": [
    "----"
   ]
  },
  {
   "cell_type": "markdown",
   "metadata": {},
   "source": [
    "## 8. Natural Language Processing"
   ]
  },
  {
   "cell_type": "markdown",
   "metadata": {},
   "source": [
    "----"
   ]
  },
  {
   "cell_type": "markdown",
   "metadata": {},
   "source": [
    "## 9. Other Dataset : Anomaly detection, Visualization"
   ]
  },
  {
   "cell_type": "markdown",
   "metadata": {},
   "source": [
    "----"
   ]
  }
 ],
 "metadata": {
  "kernelspec": {
   "display_name": "Python 3",
   "language": "python",
   "name": "python3"
  },
  "language_info": {
   "codemirror_mode": {
    "name": "ipython",
    "version": 3
   },
   "file_extension": ".py",
   "mimetype": "text/x-python",
   "name": "python",
   "nbconvert_exporter": "python",
   "pygments_lexer": "ipython3",
   "version": "3.6.5"
  }
 },
 "nbformat": 4,
 "nbformat_minor": 2
}
