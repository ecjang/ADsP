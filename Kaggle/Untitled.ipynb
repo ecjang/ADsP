{
 "cells": [
  {
   "cell_type": "code",
   "execution_count": 1,
   "metadata": {},
   "outputs": [],
   "source": [
    "text = \"\"\"\n",
    "1\t\n",
    "2\t\n",
    "3\t4\n",
    "5\t11\n",
    "12\t13\n",
    "14\t16\n",
    "17\t21\n",
    "22\t25\n",
    "26\t\n",
    "27\t28\n",
    "29\t\n",
    "30\t33\n",
    "34\t36\n",
    "37\t\n",
    "38\t42\n",
    "43\t44\n",
    "45\t51\n",
    "52\t\n",
    "53\t59\n",
    "60\t\n",
    "61\t\n",
    "62\t63\n",
    "64\t\n",
    "65\t66\n",
    "67\t70\n",
    "71\t\n",
    "72\t\n",
    "73\t\n",
    "74\t\n",
    "75\t\n",
    "76\t\n",
    "77\t\n",
    "78\t80\n",
    "81\t82\n",
    "83\t\n",
    "84\t\n",
    "85\t\n",
    "86\t\n",
    "87\t89\n",
    "90\t95\n",
    "96\t99\n",
    "97\t\n",
    "100\t\n",
    "101\t\n",
    "102\t\n",
    "103\t106\n",
    "107\t108\n",
    "109\t110\n",
    "111\t\n",
    "112\t\n",
    "113\t115\n",
    "116\t\n",
    "117\t\n",
    "118\t\n",
    "119\t120\n",
    "121\t\n",
    "122\t\n",
    "123\t\n",
    "124\t\n",
    "125\t\n",
    "126\t130\n",
    "131\t134\n",
    "\"\"\""
   ]
  },
  {
   "cell_type": "code",
   "execution_count": 2,
   "metadata": {},
   "outputs": [
    {
     "data": {
      "text/plain": [
       "'\\n1\\t\\n2\\t\\n3\\t4\\n5\\t11\\n12\\t13\\n14\\t16\\n17\\t21\\n22\\t25\\n26\\t\\n27\\t28\\n29\\t\\n30\\t33\\n34\\t36\\n37\\t\\n38\\t42\\n43\\t44\\n45\\t51\\n52\\t\\n53\\t59\\n60\\t\\n61\\t\\n62\\t63\\n64\\t\\n65\\t66\\n67\\t70\\n71\\t\\n72\\t\\n73\\t\\n74\\t\\n75\\t\\n76\\t\\n77\\t\\n78\\t80\\n81\\t82\\n83\\t\\n84\\t\\n85\\t\\n86\\t\\n87\\t89\\n90\\t95\\n96\\t99\\n97\\t\\n100\\t\\n101\\t\\n102\\t\\n103\\t106\\n107\\t108\\n109\\t110\\n111\\t\\n112\\t\\n113\\t115\\n116\\t\\n117\\t\\n118\\t\\n119\\t120\\n121\\t\\n122\\t\\n123\\t\\n124\\t\\n125\\t\\n126\\t130\\n131\\t134\\n'"
      ]
     },
     "execution_count": 2,
     "metadata": {},
     "output_type": "execute_result"
    }
   ],
   "source": [
    "text"
   ]
  }
 ],
 "metadata": {
  "kernelspec": {
   "display_name": "Python 3",
   "language": "python",
   "name": "python3"
  },
  "language_info": {
   "codemirror_mode": {
    "name": "ipython",
    "version": 3
   },
   "file_extension": ".py",
   "mimetype": "text/x-python",
   "name": "python",
   "nbconvert_exporter": "python",
   "pygments_lexer": "ipython3",
   "version": "3.6.5"
  }
 },
 "nbformat": 4,
 "nbformat_minor": 2
}
