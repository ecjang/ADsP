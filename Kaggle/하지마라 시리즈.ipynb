{
 "cells": [
  {
   "cell_type": "markdown",
   "metadata": {},
   "source": [
    "https://blog.pabii.co/beginners-5-mistakes-machine-learning/"
   ]
  },
  {
   "cell_type": "markdown",
   "metadata": {},
   "source": [
    "# 머신러닝 초보자를 위한 하지마라 시리즈"
   ]
  },
  {
   "cell_type": "markdown",
   "metadata": {},
   "source": [
    "#### 일단 예제 연습부터\n",
    "코딩 또한 하나의 언어이만큼 남들이 하는 표현을 따라하면서 늘 수 밖에 없다. \n",
    "- 가장 많이 하는 질문\n",
    "    1. 추천 공부 서적\n",
    "    1. 요구하는 개발 지식의 정도\n",
    "    1. 통계학 지식의 필요성\n"
   ]
  },
  {
   "cell_type": "markdown",
   "metadata": {},
   "source": [
    "----"
   ]
  },
  {
   "cell_type": "markdown",
   "metadata": {},
   "source": [
    "## 1. 이론부터 시작하지 마라"
   ]
  },
  {
   "cell_type": "markdown",
   "metadata": {},
   "source": [
    "구글만 검색해도 이론이 넘쳐난다. 일단 예제부터 시작하는 것이 좋다.\n",
    "\n",
    "- 추천 예제\n",
    "    1. [페이스북 유저 데이터 분석](https://blog.pabii.co/facebook-data-mining/)\n",
    "    1. [신경망 예제 for 딥러닝-그래프 모양 맞추기](https://blog.pabii.co/neural-network-example-1-find-a-matching-graph/)\n",
    "    1. [머신러닝 언어처리-r을 이용한 단어구름](https://blog.pabii.co/wordcloud-r/)"
   ]
  },
  {
   "cell_type": "markdown",
   "metadata": {},
   "source": [
    "----"
   ]
  },
  {
   "cell_type": "markdown",
   "metadata": {},
   "source": [
    "## 2. 머신러닝을 다 배울려고 하지 마라"
   ]
  },
  {
   "cell_type": "markdown",
   "metadata": {},
   "source": [
    "고등학교 3년을 다 배워야 수1 문제를 풀 수 있는게 아니다. 전문 영역부터 하지 말고 하나씩 배워나가는 것이 중요"
   ]
  },
  {
   "cell_type": "markdown",
   "metadata": {},
   "source": [
    "----"
   ]
  },
  {
   "cell_type": "markdown",
   "metadata": {},
   "source": [
    "## 3. 수학 수식에 집착하지 마라"
   ]
  },
  {
   "cell_type": "markdown",
   "metadata": {},
   "source": [
    "한 두번 써보고, 직접 연습하는 과정에서 감을 잡을 수 있다. \n",
    "하지만 그래도 기본은 알아야 전체적인 직관을 알 수 있다."
   ]
  },
  {
   "cell_type": "markdown",
   "metadata": {},
   "source": [
    "----"
   ]
  },
  {
   "cell_type": "markdown",
   "metadata": {},
   "source": [
    "## 4. Scratch부터 다 만들려고 하지 마라"
   ]
  },
  {
   "cell_type": "markdown",
   "metadata": {},
   "source": [
    "숙달되기 전까지는 배껴라. 좋은 것을 보고 배울 수록 빨리 는다. "
   ]
  },
  {
   "cell_type": "markdown",
   "metadata": {},
   "source": [
    "----"
   ]
  },
  {
   "cell_type": "markdown",
   "metadata": {},
   "source": [
    "## 5. 코딩 언어를 바꾸지 마라"
   ]
  },
  {
   "cell_type": "markdown",
   "metadata": {},
   "source": [
    "요즘 유행하는 것이 R과 Python이다. 초보자라면 한 번 들어보자.\n",
    "\n",
    "- [R](https://machinelearningmastery.com/r-machine-learning-mini-course/)\n",
    "- [Python](https://machinelearningmastery.com/python-machine-learning-mini-course/)"
   ]
  },
  {
   "cell_type": "markdown",
   "metadata": {},
   "source": [
    "----"
   ]
  },
  {
   "cell_type": "markdown",
   "metadata": {},
   "source": [
    "### 기초 수준 이후"
   ]
  },
  {
   "cell_type": "markdown",
   "metadata": {},
   "source": [
    "실리콘 벨리의 데이터 사이언티스트들은 뇌과학, 산업공학, 경제학 등의 응용수학 등의 박사 학위를 가지고 있다. 꾸준히 좋은 코드를 보고 연습하면 뭔가 고치고 싶은 마음이 들때 기초 수준을 넘어선 것이다.\n",
    "\n",
    "수학 모델링과 통계학을 강조하는 이유는 그 수준에서 멈추지 말아야 하기 때문이다."
   ]
  }
 ],
 "metadata": {
  "kernelspec": {
   "display_name": "Python 3",
   "language": "python",
   "name": "python3"
  },
  "language_info": {
   "codemirror_mode": {
    "name": "ipython",
    "version": 3
   },
   "file_extension": ".py",
   "mimetype": "text/x-python",
   "name": "python",
   "nbconvert_exporter": "python",
   "pygments_lexer": "ipython3",
   "version": "3.6.5"
  }
 },
 "nbformat": 4,
 "nbformat_minor": 2
}
