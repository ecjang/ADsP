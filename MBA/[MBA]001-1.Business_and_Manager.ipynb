{
 "cells": [
  {
   "cell_type": "markdown",
   "metadata": {},
   "source": [
    "제 1장. 기업과 기업경영"
   ]
  },
  {
   "cell_type": "markdown",
   "metadata": {},
   "source": [
    "# 제 1절. 기업경영과 경영자"
   ]
  },
  {
   "cell_type": "markdown",
   "metadata": {},
   "source": [
    "학습내용\n",
    "1. 경영학의 학문적 정의\n",
    "1. 기업경영의 구성요소\n",
    "1. 경영자가 내려야할 의사결정의 유형과 합리적 의사결정 방법\n",
    "\n",
    "학습목표\n",
    "1. 기업경영의 중요성을 이해하고, 경영이란 무엇인가 정의 내릴 수 있다.\n",
    "1. 경영자의 역할 중 가장 중요한 의사결정의 의미와 무게를 오롯이 이해하고, 현명한 의사결을 내리는 방법을 학습할 수 있다."
   ]
  },
  {
   "cell_type": "markdown",
   "metadata": {},
   "source": [
    "----"
   ]
  },
  {
   "cell_type": "markdown",
   "metadata": {},
   "source": [
    "## Lesson1. 겨영의 의미와 경영자의 역할"
   ]
  },
  {
   "cell_type": "markdown",
   "metadata": {},
   "source": [
    "### 1. 국가와 기업의 성패를 결정짖는 리더의 중요성"
   ]
  },
  {
   "cell_type": "markdown",
   "metadata": {},
   "source": [
    "리더의 결정이 엄청난 차이를 만들어 낼 수 있다.\n",
    "- 미국과 멕시코의 입국차이\n",
    "- 두바이의 통치자 세이크 모하메드의 결정으로 두바이의 성장\n",
    "- 잭 월치는 5배의 매출, 순이익 8배, 시가총액 26배로 성장시킴"
   ]
  },
  {
   "cell_type": "markdown",
   "metadata": {},
   "source": [
    "### 2. 경영학의 태동"
   ]
  },
  {
   "cell_type": "markdown",
   "metadata": {},
   "source": [
    "20세의 폭발적인 성장과 발달은 경영의 탄생에서 비롯되었다. 현대 경영학의 아버지는 피터 드러커는 경영컨설턴트의 창시자 이다.\n",
    "\n",
    "> 위대한 경영자들이 실패한 이유는 경영을 할 줄 몰랐기 때문이다.\n",
    "\n",
    "- 1800년도 에디슨, 존 록펠러 등으로 경영이 시작\n",
    "- 100년 정도의 경영의 역사\n",
    "- **경영학의 발전에 따라 조직 생산성에 대한 이해도 증가**\n",
    "\n",
    "#### 과학적 관리법 Scientific management\n",
    "프레드릭 테일러 Frederick Taylor가 고안한 방법으로 성과가 좋은 사람들을 연구하여, 그 방법으로 학습방법을 만듬.\n",
    "- 작업분류, 표준화, 선별, 보상\n",
    "\n",
    "#### 일반관리의 원칙\n",
    "앙리 페올 Henry Fayol이 정한 원칙이다.\n",
    "- 분업, 권한, 책임, 규율, 명령 일원화, 지휘 일원화, 적정보상 등의 원칙\n",
    "\n",
    "#### 호손 실험 Hawthorn Experiment 1924~1932\n",
    "어떻게 하면 공장의 생산성을 높일 수 있을지 연구한 실험이다.\n",
    "- 여러 물리적 조건들을 달리하면 대조군과 실험군을 비교실험"
   ]
  },
  {
   "cell_type": "markdown",
   "metadata": {},
   "source": [
    "### 3. 경영의 개념"
   ]
  },
  {
   "cell_type": "markdown",
   "metadata": {},
   "source": [
    "동양에서는 시경이라는 서적에서 처음 소개되었다. 경지영지(=경영)이라고 하며 '사람이 모여서 계획하고 일을 만들어 가는 것'이라는 의미이다.\n",
    "- 어떤 일을 시켰는데 계획을 세워서 진행해보니 하루만에 끝났다는 일화\n",
    "- **기능적, 정태적 관점** : 생산, 재무, 인사, 마케팅\n",
    "- **과정적, 통태적 관점 : 계획(Plan), 실행(Do), 평가(See)**\n",
    "- 조동성 교수 : 기업의 비전과 목표를 효과적으로 달성하기 위해서 경영자원을 활용하는 것\n",
    "- 경영관리 과정 : PDS (Plan-Do-See)\n",
    "- PDCA Cycle : Deming's Cycle (Action 대응 - Plan 계획 - Do 실행 - Check 검증)\n",
    "- 기업경영의 3요소 : 가치, 가격, 비용\n",
    "\n",
    "#### 기업의 생존 부등식\n",
    "서울대학교 윤석철 명예교수가 만든 마케팅 솔루션이다.\n",
    "1. 소비자한테 제공되는 가치는 제품의 가격보다 커야 한다.\n",
    "1. 제품의 가격은 비용보다 커야 한다.\n",
    "1. 기업의 제품의 가치를 높이면서 제품의 비용을 낮추기 위해 끊임없이 노력해야 한다."
   ]
  },
  {
   "cell_type": "markdown",
   "metadata": {},
   "source": [
    "----"
   ]
  },
  {
   "cell_type": "markdown",
   "metadata": {},
   "source": [
    "## Lesson 2. 기업경영과 의사결정의 이해"
   ]
  },
  {
   "cell_type": "markdown",
   "metadata": {},
   "source": []
  },
  {
   "cell_type": "markdown",
   "metadata": {},
   "source": []
  },
  {
   "cell_type": "markdown",
   "metadata": {},
   "source": []
  },
  {
   "cell_type": "markdown",
   "metadata": {},
   "source": []
  },
  {
   "cell_type": "markdown",
   "metadata": {},
   "source": []
  },
  {
   "cell_type": "markdown",
   "metadata": {},
   "source": []
  },
  {
   "cell_type": "markdown",
   "metadata": {},
   "source": []
  },
  {
   "cell_type": "markdown",
   "metadata": {},
   "source": []
  },
  {
   "cell_type": "markdown",
   "metadata": {},
   "source": []
  },
  {
   "cell_type": "markdown",
   "metadata": {},
   "source": []
  },
  {
   "cell_type": "markdown",
   "metadata": {},
   "source": []
  },
  {
   "cell_type": "markdown",
   "metadata": {},
   "source": []
  }
 ],
 "metadata": {
  "kernelspec": {
   "display_name": "Python 3",
   "language": "python",
   "name": "python3"
  },
  "language_info": {
   "codemirror_mode": {
    "name": "ipython",
    "version": 3
   },
   "file_extension": ".py",
   "mimetype": "text/x-python",
   "name": "python",
   "nbconvert_exporter": "python",
   "pygments_lexer": "ipython3",
   "version": "3.6.5"
  }
 },
 "nbformat": 4,
 "nbformat_minor": 2
}
