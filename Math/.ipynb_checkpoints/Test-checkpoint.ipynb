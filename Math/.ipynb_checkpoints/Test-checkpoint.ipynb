{
 "cells": [
  {
   "cell_type": "markdown",
   "metadata": {},
   "source": [
    "## 09. 확률"
   ]
  },
  {
   "cell_type": "markdown",
   "metadata": {},
   "source": [
    "### 09_1. 시행과 사건"
   ]
  },
  {
   "cell_type": "markdown",
   "metadata": {},
   "source": [
    "**시행** : 같은 조건 아래에서 반복할 수 있고 그 결과가 우연에 의해서 결정되는 실험이나 관찰을 시행이라고 한다.\n",
    "\n",
    "**표본공간** : 어떤 시행에서 나올 수 있는 모든 결과의 집합을 말하며 표본공간의 부분집합을 사건이라고 한다.\n",
    "\n",
    "**합사건, 곱사건** : 표본공간 S의 두 사건 A, B에 대하여 **A 또는 B가 일어나는 시건을 A와 B의 합사건**, **A와 B가 동시에 일어나는 사건을 A와 B의 곱사건**이라고 한다. 각각 기호로 **$A\\cup B, \\, A\\cap B $**라고 표시한다.\n",
    "\n",
    "**배반사건** : 두 사건이 동시에 일어나지 않을 때, 즉 $A\\cap B = \\varnothing $일 때, A와 B를 배반사건이라고 한다.\n",
    "\n",
    "**여사건** : 사건 A가 일어나지 않을 사건을 A의 여사건이라고 하고 기호로 $A^c$라고 표시한다."
   ]
  },
  {
   "cell_type": "markdown",
   "metadata": {},
   "source": [
    "예 : 한 개의 주사위를 던지는 시행에서 짝수의 눈이 나오는 사건을 A, 홀수의 눈이 나올 확률을 B라고 하면 $A\\cap B = \\varnothing$이므로 두 사건 A, B는 서로 배반사건이고 사건 A의 여사건 $A^c$는 B이다."
   ]
  },
  {
   "cell_type": "markdown",
   "metadata": {},
   "source": [
    "### 09_2. 확률의 뜻"
   ]
  },
  {
   "cell_type": "markdown",
   "metadata": {},
   "source": [
    "**수학적 확률** : 표본공간 S의 원소의 개수가 m이고, 각 원소가 선택될 가능성이 같은 정도로 기대될 때, 사건 A의 원소의 개수가 r이면 **사건 A가 일어날 확률은 다음과 같고 이와 같이 정의한 확률을 수학적 확률이라고 한다.**\n",
    "\n",
    "$$ P(A) = \\frac{n(A)}{n(S)} = \\frac{r}{m} $$"
   ]
  },
  {
   "cell_type": "markdown",
   "metadata": {},
   "source": [
    "- 예 : 주사위를 한 번 던져 나온 눈이 소수인 사건을 A라 할 때, 표본공간 S는 $S=\\{1,2,3,4,5,6\\}$이고 사건 A를 나타내는 부분집합은 $A=\\{2,3,5\\}$이므로 사건 A가 일어날 확률은 $\\frac{3}{6} = \\frac{1}{2}$이다."
   ]
  },
  {
   "cell_type": "markdown",
   "metadata": {},
   "source": [
    "**통계적 확률** : 같은 시행을 n번 반복하여 사건 A가 일어나는 횟수를 $r_n$이라고 할 때, n이 한없이 커짐에 따라 상대도수 $\\frac{r_n}{n}$은 일정한 값 p에 한없이 가까워진다. 이 일정한 값 p를 사건 A의 통계적 확률이라고 한다."
   ]
  },
  {
   "cell_type": "markdown",
   "metadata": {},
   "source": [
    "### 09_3. 조건부확률"
   ]
  },
  {
   "cell_type": "markdown",
   "metadata": {},
   "source": [
    "**조건부확률** : 사건 A가 일어났을 때 사건 B의 조건부 확률은 다음과 같다. \n",
    "\n",
    "$$ P(B|A) = \\frac{P(A\\cap{B})}{P(A)} \\text{ (단, P(A)>0)} $$"
   ]
  },
  {
   "cell_type": "markdown",
   "metadata": {},
   "source": [
    "- 설명 : 일반적으로 표본공간 S와 두 사건 A, B(A≠Φ)에 대하여 다음과 같다.<br><br>\n",
    "$$P(B|A) = \\frac{n(A\\cap{B})}{n(A)} \\ \\frac{n(A\\cap{B})/n(S)}{n(A)/n(S)} = \\frac{P(A\\cap{B})}{P(A)} $$\n",
    "\n",
    "이것이 의미하는 바는 표본공간이 전체집합 S에서 사건 A를 나타내는 부분집합으로 바뀌었다는 것을 의미한다. 즉 부분집합 A가 새로운 표본공간이고 사건 B는 집합 A내에서 일어나는 사건 B만을 의미하므로 사건 $A\\cap{B}$이다."
   ]
  },
  {
   "cell_type": "markdown",
   "metadata": {},
   "source": [
    "**확률의 곱셈정리** : 두 사건 A, B에 대하여 아래가 성립한다.\n",
    "\n",
    "$$ \\begin{matrix} P(A\\cap{B}) = P(A)P(B|A) (단, P(A)>0) \\\\ P(A\\cup{B}) = P(B)P(A|B) (단, P(B)>0) \\end{matrix} $$"
   ]
  },
  {
   "cell_type": "markdown",
   "metadata": {},
   "source": [
    "----"
   ]
  }
 ],
 "metadata": {
  "kernelspec": {
   "display_name": "Python 3",
   "language": "python",
   "name": "python3"
  },
  "language_info": {
   "codemirror_mode": {
    "name": "ipython",
    "version": 3
   },
   "file_extension": ".py",
   "mimetype": "text/x-python",
   "name": "python",
   "nbconvert_exporter": "python",
   "pygments_lexer": "ipython3",
   "version": "3.6.5"
  }
 },
 "nbformat": 4,
 "nbformat_minor": 2
}
