{
 "cells": [
  {
   "cell_type": "markdown",
   "metadata": {},
   "source": [
    "##### 미적분과 통계기본"
   ]
  },
  {
   "cell_type": "markdown",
   "metadata": {},
   "source": [
    "# 01. 함수의 극한"
   ]
  },
  {
   "cell_type": "markdown",
   "metadata": {},
   "source": [
    "### 01_1. 함수의 극한"
   ]
  },
  {
   "cell_type": "markdown",
   "metadata": {},
   "source": [
    "#### 함수의 극한\n",
    "\n",
    "- **함수 $y=f(x)$에서 $x\\neq{a}$이면서** x의 값이 a에 한없이 가까워 진다.\n",
    "- 함수$f(x)$값이 일정한 값 a에 한없이 가까워지면 **함수 f(x)는 a에 수렴한다**.\n",
    "- 이를 **f(x)의 극한값 또는 극한**이라고 한다.\n",
    "\n",
    "$$ x \\to a \\text{ 일 때 } \\lim_{x \\to a} f(x) = \\alpha $$"
   ]
  },
  {
   "cell_type": "markdown",
   "metadata": {},
   "source": [
    "### 01_2. 우극한과 좌극한"
   ]
  },
  {
   "cell_type": "markdown",
   "metadata": {},
   "source": [
    "#### 우극한과 좌극한\n",
    "\n",
    "- x의 값이 a보다 크면서 a에 수렴하는 것을 기호로 $ x \\to a+0 $ 으로 표현한다.\n",
    "- 이때 $f(x)$값이 $\\alpha$값에 수렴하면 **$\\alpha$을 우극한 이라고 한다.**\n",
    "- 반대의 경우를 좌극한이라고 한다."
   ]
  },
  {
   "cell_type": "markdown",
   "metadata": {},
   "source": [
    "#### 함수의 극한값\n",
    "- 일반적으로 함수의 극한값이 존재하려면 **좌극한과 우극한이 서로 같아야 한다.**\n",
    "\n",
    "$$ \\lim_{x\\to{a-0}}f(x) = \\lim_{x\\to{a+0}}f(x) \\iff \\lim_{x\\to a}f(x) = \\alpha $$\n"
   ]
  },
  {
   "cell_type": "markdown",
   "metadata": {},
   "source": [
    "### 01_3. 함수의 극한 성질"
   ]
  },
  {
   "cell_type": "markdown",
   "metadata": {},
   "source": [
    "두 함수 $f(x), g(x)$에 대해 $\\lim_{x\\to{a}}f(x)=\\alpha, \\, \\lim_{x\\to{a}}g(x)=\\beta$일 경우 다음이 성립한다.\n",
    "\n",
    "1. $ \\lim_{x\\to{a}}cf(x)=c = c\\lim_{x\\to{a}}f(x) $\n",
    "1. $ \\lim_{x\\to{a}}\\{f(x)+g(x)\\} = \\lim_{x\\to{a}}f(x) + \\lim_{x\\to{a}}g(x) = \\alpha + \\beta \\text{ -경우도 성립}  $\n",
    "1. $ \\lim_{x\\to{a}}f(x)g(x) = \\lim_{x\\to{a}}f(x) \\bullet \\lim_{x\\to{a}}g(x) = \\alpha \\beta $\n",
    "1. $ \\lim_{x\\to{a}}\\frac{f(x)}{g(x)} = \\lim_{x\\to{a}}f(x) / \\lim_{x\\to{a}}g(x) = \\alpha / \\beta $\n"
   ]
  },
  {
   "cell_type": "markdown",
   "metadata": {},
   "source": []
  },
  {
   "cell_type": "markdown",
   "metadata": {},
   "source": []
  },
  {
   "cell_type": "markdown",
   "metadata": {},
   "source": [
    "### 01_4. 극한값 계산"
   ]
  },
  {
   "cell_type": "markdown",
   "metadata": {},
   "source": [
    "### 01_5. 대소관계"
   ]
  },
  {
   "cell_type": "markdown",
   "metadata": {},
   "source": [
    "### 01_6. 미정계수"
   ]
  },
  {
   "cell_type": "markdown",
   "metadata": {},
   "source": [
    "-----"
   ]
  }
 ],
 "metadata": {
  "kernelspec": {
   "display_name": "Python 3",
   "language": "python",
   "name": "python3"
  },
  "language_info": {
   "codemirror_mode": {
    "name": "ipython",
    "version": 3
   },
   "file_extension": ".py",
   "mimetype": "text/x-python",
   "name": "python",
   "nbconvert_exporter": "python",
   "pygments_lexer": "ipython3",
   "version": "3.6.5"
  }
 },
 "nbformat": 4,
 "nbformat_minor": 2
}
