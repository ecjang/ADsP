{
 "cells": [
  {
   "cell_type": "markdown",
   "metadata": {},
   "source": [
    "# 미적분과 통계기본\n",
    "\n",
    "수능특강"
   ]
  },
  {
   "cell_type": "markdown",
   "metadata": {},
   "source": [
    "----"
   ]
  },
  {
   "cell_type": "markdown",
   "metadata": {},
   "source": [
    "### 01. 함수의 극한\n",
    "### 02. 함수의 연속\n",
    "### 03. 미분계수와 도함수\n",
    "### 04. 도함수의 활용 1\n",
    "### 05. 도함수의 활용 2\n",
    "### 06. 부정적분과 정적분\n",
    "### 07. 정적분의 활용\n",
    "### 08. 조합\n",
    "### 09. 확률\n",
    "### 10. 이산확률분포\n",
    "### 11. 연속확률 분포\n",
    "### 12. 통계적 추정"
   ]
  },
  {
   "cell_type": "markdown",
   "metadata": {},
   "source": [
    "----"
   ]
  }
 ],
 "metadata": {
  "kernelspec": {
   "display_name": "Python 3",
   "language": "python",
   "name": "python3"
  },
  "language_info": {
   "codemirror_mode": {
    "name": "ipython",
    "version": 3
   },
   "file_extension": ".py",
   "mimetype": "text/x-python",
   "name": "python",
   "nbconvert_exporter": "python",
   "pygments_lexer": "ipython3",
   "version": "3.6.5"
  }
 },
 "nbformat": 4,
 "nbformat_minor": 2
}
