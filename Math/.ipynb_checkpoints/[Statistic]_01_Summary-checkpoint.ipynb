{
 "cells": [
  {
   "cell_type": "markdown",
   "metadata": {},
   "source": [
    "# 미적분과 통계기본\n",
    "\n",
    "수능특강"
   ]
  },
  {
   "cell_type": "markdown",
   "metadata": {},
   "source": [
    "----"
   ]
  },
  {
   "cell_type": "markdown",
   "metadata": {},
   "source": [
    "Latex : https://oeis.org/wiki/List_of_LaTeX_mathematical_symbols\n"
   ]
  },
  {
   "cell_type": "markdown",
   "metadata": {},
   "source": [
    "----"
   ]
  },
  {
   "cell_type": "markdown",
   "metadata": {},
   "source": [
    "## 01. 함수의 극한"
   ]
  },
  {
   "cell_type": "markdown",
   "metadata": {},
   "source": [
    "\n",
    "### 1_1. 함수의 극한\n",
    "\n",
    "함수 $y=f(x)$에서 $x\\ne{a}$이면서 $x$의 값이 $a$에 한없이 가까워질 때, $f(x)$의 값이 일정한 값 $a$에 한없이 가까워지면 **함수 $f(X)$sms $a$에 수렴한다**라고 한다. $a$를 $x$의 값이 $a$에 가까워질 때 **$f(x)$의 극한값 또는 극한**이라고 한다. \n",
    "\n",
    "- 기호로는 $x \\longrightarrow a$ 일 때 $ f(x) \\longrightarrow \\lim\\limits_{x\\to{a}}f(x) = 5 $\n"
   ]
  },
  {
   "cell_type": "markdown",
   "metadata": {},
   "source": [
    "### 1_2. 우극한과 좌극한\n",
    "\n",
    "함수 $f(x)$에서 $x$ 값이 $a$ 보다 크면서 $a$에 한없이 가까워지는 것을 $ x \\longrightarrow a+0 $이라고 한다.\n",
    "\n",
    "$ x \\longrightarrow a+0 $ 일 때 $ f(x) $의 값이 일정한 값 $a$에 한없이 가까워지면 **$a$를 $x=a$에서의 우극한**이라고 한다.\n",
    "\n",
    "- 기호로 $ \\lim\\limits_{x\\to{a+0}}f(x)=a $\n",
    "- 좌극한은 우극한에서 $a$보다 작으면서 한없이 가까워 지는 경우\n"
   ]
  },
  {
   "cell_type": "markdown",
   "metadata": {},
   "source": [
    "\n",
    "## 02. 함수의 연속"
   ]
  },
  {
   "cell_type": "markdown",
   "metadata": {},
   "source": [
    "### 2_1. 연속과 불연속\n",
    "\n",
    "함수 $f(x)$가 $a$에 대하여 다음의 조선을 만족하면 **함수$f(x)$는 $x=a$에서 연속이다**라고 한다.\n",
    "1. $x=a$에서 함수값 $f(a)$가 존재\n",
    "1. 극한값 $\\lim_{x\\to{a}}f(x)$가 존재\n",
    "1. $\\lim_{x\\to{a}}f(x) = f(a)$"
   ]
  },
  {
   "cell_type": "markdown",
   "metadata": {},
   "source": [
    "### 2_2. 구간\n",
    "\n",
    "$a\\leq b$인 두 실수 $ a, b $에 대하여 실수의 집합 $\\{ x|a\\leq{x}\\leq{b}\\}$, $\\{ x|a<x<b\\}$, $\\{ x|a\\leq{x}<{b}\\}$, $\\{ x|a<{x}\\leq{b}\\}$를 **구간**이라고 한다.**[$a,b$]fmf 닫힌구간**, **($a,b$)를 열린구간**, **[$a,b$), ($a,b$]를 반닫힌구간 또는 반열린구간**이라고한다.\n",
    "\n",
    "- $\\{ x|a\\leq{x}\\leq{b}\\}$ = [$a,b$]\n",
    "- $\\{ x|a<x<b\\}$ = ($a,b$)\n",
    "- $\\{ x|a\\leq{x}<{b}\\}$ = [$a,b$)\n",
    "- $\\{ x|a<{x}\\leq{b}\\}$ = ($a,b$]"
   ]
  },
  {
   "cell_type": "markdown",
   "metadata": {},
   "source": [
    "## 03. 미분계수와 도함수"
   ]
  },
  {
   "cell_type": "markdown",
   "metadata": {},
   "source": [
    "### 1. 평균변화율\n",
    "\n",
    "함수 $y=f(x)$ 에서 $x$의 값이 $a$에서 $b$까지 변할 때, $y$의 값은 $f(a)$에서 $f(b)$까지 변한다. $x$값의 변화량에 대한 $y$값의 변화량의 비율은 아래와 같다.함수 **$f(x)$에 대하여 $x$의 값이 $a$에서 $b$까지 변할 때의 평균변화율이라고 한다.**\n",
    "\n",
    "$$ \\frac{\\Delta{y}}{\\Delta{x}} = \\frac{f(b)-f(a)}{b-a} = \\frac{f(a + \\Delta{x})-f(a)}{\\Delta{x}} $$\n"
   ]
  },
  {
   "cell_type": "markdown",
   "metadata": {},
   "source": [
    "### 2. 미분계수\n",
    "\n",
    "함수$y=f(x)$에서 $x$의 값이 $a$에서 $a+\\Delta{x}$까지 변하고, $\\Delta{x}\\longrightarrow{0}$일 때 평균변화율의 극한값이 존재하면 이 값을 **$y=f(x)$의 $x=a$에서의 미분계수 또는 순간변화율**이라고 한다. \n",
    "- 기호로는 $f'(a)$와 같이 나타냄\n",
    "\n",
    "$$ \\text{평균변화율의 극한값 = } \\ \\lim\\limits_{x\\to{a}} \\frac{\\Delta{y}}{\\Delta{x}} = \\lim\\limits_{x\\to{a}}\\frac{f(a + \\Delta{x})-f(a)}{\\Delta{x}}  $$\n",
    "\n",
    "$$ \\text{미분계수 = } \\ f'(a) = \\lim\\limits_{x\\to{a}} \\frac{f(a + \\Delta{x}) - f(a)}{\\Delta{x}} = \\lim\\limits_{x\\to{a}}\\frac{f(x)-f(a)}{x-a} $$"
   ]
  },
  {
   "cell_type": "markdown",
   "metadata": {},
   "source": [
    "### 3. 미분계수의 기하학적 의미\n",
    "\n",
    "함수 $y=f(x)$에 대하여 $x=a$에서의 미분계수 $f'(a)$는 곡선 $y=f(x)$ 위의 점 $P(a, f(a))$에서의 **접선의 기울기**를 의미한다.\n",
    "\n",
    "- 예: 함수 $f(x)=x^2+x$에 대하여 \n",
    "$$f`(1) = \\lim\\limits_{x\\to{1}} \\frac{f(x)-f(1)}{x-1} = \\lim\\limits_{x\\to{1}} \\frac{x^2+x+2}{x-1} = \\lim\\limits_{x\\to{1}} \\frac{(x-1)(x+2)}{x-1} = 3  $$\n",
    "\n",
    "이고, 이 값은 곡선 $ y=x^2+x$ 위의 점 (1,2)에서 **접선의 기울기**와 같다.\n"
   ]
  },
  {
   "cell_type": "markdown",
   "metadata": {},
   "source": [
    "### 4. 도함수의 정의1\n",
    "\n",
    "미분가능한 함수 $f(x)$의 정의역에 속하는 모든 $x$에 대하여 미분계수 $f`(x)$를 대응시키면 새로운 함수 $f`:x\\longrightarrow{f`(x)}$를 얻을 수 있다. 이 함수를 함수 $y=f(x)$의 도함수라 하고, 기호로 \n",
    "$$ y`, f`(x), \\frac{dy}{dx}, \\frac{d}{dx}f(x) $$\n",
    "와 같이 나타낸다. 즉 아래와 같다.\n",
    "$$ f'(x) = \\lim\\limits_{h\\to{0}} \\frac{f(x+h)-f(x)}{h} $$\n"
   ]
  },
  {
   "cell_type": "markdown",
   "metadata": {},
   "source": [
    "### 5. 도함수의 정의2\n",
    "\n",
    "함수 $f(x)$의 도함수 $f`(x)$를 구하는 것을 **함수 $f(x)$를 $x$에 대하여 미분한다고 하고, 그 계산법을 미분법이라고 한다.**\n",
    "\n",
    "- 예 : 함수 $f(x)=x^3$의 도함수 $f`(x)$는 다음과 같이 구할 수 있다.\n",
    "<br><br>\n",
    "$$ f`(x)= \\lim\\limits_{x\\to{0}} \\frac{f(x+h)-f(x)}{h} = \\lim\\limits_{x\\to{0}} \\frac{(x+h)^3-x^3}{h} \n",
    "= \\lim\\limits_{x\\to{0}} \\frac{3x^2h + 3xh^2 + h^3}{h} = \\lim\\limits_{x\\to{0}}(3x^2+3xh+h^2) = 3x^2 $$\n"
   ]
  },
  {
   "cell_type": "markdown",
   "metadata": {},
   "source": [
    "## 04. 도함수의 활용 1"
   ]
  },
  {
   "cell_type": "markdown",
   "metadata": {},
   "source": [
    "### 04_1. 접선의 방정식 : 곡선 위의 점에서의 접선의 방정식\n",
    "\n",
    "함수 $f(x)$가 미분가능할 때, 곡선 $y=f(x)$ 위의 점 $P(a, f(a))$에서 접선의 기울기는 $x=a$에서의 미분계수 $f'(x)$와 같다.\n",
    "\n",
    "그러므로 점 $P(a, f(a))$에서의 접선의 방정식은 $y-f(a) = f'(a)(x-a)$이다.\n",
    "\n",
    "- 접선과 수직인 방정식\n",
    "    곡선 $y=f(x)$ 위의 점 $P(a, f(a))$에서의 접선과 수직이고 점 P를 지나는 직선의 방정식은 아래와 같다.\n",
    "    $$ y-f(a) = -\\frac{1}{f'(a)}(x-a) ~~(\\text{단,}~f'(a)\\neq{0}) $$\n",
    "    \n",
    "    \n",
    "- 예 : 곡선 $y=x^3+x^2$ 위의 점$P(1,2)$에서 접선의 방정식.\n",
    "    $ y'=3x^2+2x $ 이므로 기울기는 "
   ]
  },
  {
   "cell_type": "markdown",
   "metadata": {},
   "source": [
    "## 05. 도함수의 활용 2\n"
   ]
  },
  {
   "cell_type": "markdown",
   "metadata": {},
   "source": [
    "## 06. 부정적분과 정적분\n"
   ]
  },
  {
   "cell_type": "markdown",
   "metadata": {},
   "source": [
    "## 07. 정적분의 활용\n"
   ]
  },
  {
   "cell_type": "markdown",
   "metadata": {},
   "source": [
    "## 08. 조합\n"
   ]
  },
  {
   "cell_type": "markdown",
   "metadata": {},
   "source": [
    "## 09. 확률\n"
   ]
  },
  {
   "cell_type": "markdown",
   "metadata": {},
   "source": [
    "## 10. 이산확률분포\n"
   ]
  },
  {
   "cell_type": "markdown",
   "metadata": {},
   "source": [
    "## 11. 연속확률 분포\n"
   ]
  },
  {
   "cell_type": "markdown",
   "metadata": {},
   "source": [
    "## 12. 통계적 추정"
   ]
  },
  {
   "cell_type": "markdown",
   "metadata": {},
   "source": [
    "----"
   ]
  }
 ],
 "metadata": {
  "kernelspec": {
   "display_name": "Python 3",
   "language": "python",
   "name": "python3"
  },
  "language_info": {
   "codemirror_mode": {
    "name": "ipython",
    "version": 3
   },
   "file_extension": ".py",
   "mimetype": "text/x-python",
   "name": "python",
   "nbconvert_exporter": "python",
   "pygments_lexer": "ipython3",
   "version": "3.6.5"
  }
 },
 "nbformat": 4,
 "nbformat_minor": 2
}
