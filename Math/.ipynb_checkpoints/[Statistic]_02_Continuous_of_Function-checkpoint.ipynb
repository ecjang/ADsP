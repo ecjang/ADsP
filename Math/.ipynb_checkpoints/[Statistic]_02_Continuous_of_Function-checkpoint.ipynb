{
 "cells": [
  {
   "cell_type": "markdown",
   "metadata": {},
   "source": [
    "##### 미적분과 통계기본"
   ]
  },
  {
   "cell_type": "markdown",
   "metadata": {},
   "source": [
    "# 02. 함수의 연속"
   ]
  },
  {
   "cell_type": "markdown",
   "metadata": {},
   "source": [
    "----"
   ]
  },
  {
   "cell_type": "markdown",
   "metadata": {},
   "source": [
    "### 02_1. x=a에서의 연속과 불연속"
   ]
  },
  {
   "cell_type": "markdown",
   "metadata": {},
   "source": [
    "#### x=a에서의 연속일 때\n",
    "함수 $f(x)$가 실수 a에 대해서 **x=a에서 함숫값 $f(a)$가 존재하고, 극한값 $lim_{x\\to{a}}f(x)$가 존재하고, $lim_{x\\to{a}}f(x)=f(a)$일 때**, 함수 $f(x)$는 x=a에서 연속이라고 한다.\n",
    "\n",
    "#### x=a에서 불연속일 때\n",
    "위의 세 조건을 하나라도 만족시키지 않으면 불연속이다.\n"
   ]
  },
  {
   "cell_type": "markdown",
   "metadata": {},
   "source": [
    "### 02_2. 구간"
   ]
  },
  {
   "cell_type": "markdown",
   "metadata": {},
   "source": [
    "#### 열린구간, 닫힌구간\n",
    "부등호가 이상, 이하이면 열린구간, 초과, 미만이면 닫힌 구간이다. 열린구간은 기호로 (a, b), 닫힌구간은 [a,b]로 쓴다.\n",
    "- **a≤x≤b = 닫친구간 = [a,b]**\n",
    "- **a<x<b = 열린구간 = (a,b)**"
   ]
  },
  {
   "cell_type": "markdown",
   "metadata": {},
   "source": [
    "### 02_3. 구간에서 연속"
   ]
  },
  {
   "cell_type": "markdown",
   "metadata": {},
   "source": [
    "- **열린구간 (a,b)에서 연속** : 임의의 실수 t에서 대해서 $lim_{x\\to{t}}f(x)=f(t)$이면 열린구간 (a,b)에서 연속\n",
    "- **닫친구간 [a,b]에서 연속** : 열린구간 (a,b)에서 연속이고, $lim_{x\\to{a}}f(x)=f(a), \\,\n",
    "lim_{x\\to{b}}f(x)=f(b)$일 때, 함수 $f(x)$는 닫친 구간에서 연속\n",
    "- **연속함수** : 함수 $f(x)$가 정의역의 모든 실수에 대해 연속일 경우 "
   ]
  },
  {
   "cell_type": "markdown",
   "metadata": {},
   "source": [
    "### 02_4. 여러가지 연속·불연속"
   ]
  },
  {
   "cell_type": "markdown",
   "metadata": {},
   "source": [
    "#### $x^n$ 형태\n",
    "|x|>1, |x|<1, x=±1인 경우로 나누어 연속성을 계산\n",
    "1. |x|>1일 때 $\\lim_{x\\to{\\infty}}|x^n|=\\infty$\n",
    "1. |x|<1일 때 $\\lim_{x\\to{\\infty}}x^n=0$\n",
    "1. x=1일 때 $\\lim_{x\\to{\\infty}}x^n=1$\n",
    "1. x=-1일 때 $\\lim_{x\\to{\\infty}}x^n$는 진동\n",
    "\n",
    "#### $x^n$ 형태 예\n",
    "함수 $f(x)=\\lim_{x\\to{\\infty}}x^{2x}=0$의 연속성을 조사 \n",
    "- x=±1일 경우 함수값 $\\lim_{x\\to{\\infty}}(±1)^{2n}=1$\n",
    "- |x|<1일 때 $f(x)=\\lim_{x\\to{\\infty}}x^{2n}=0$\n",
    "- |x|>1일 때 $f(x)=\\lim_{x\\to{\\infty}}x^{2n}=\\infty$\n",
    "- 그러므로 -1<x<1에서 연속이다.\n",
    "\n",
    "#### 무한등비급수\n",
    "함수 $f(x)$가 공비가 x인 무한등비금수의 꼴일 때\n",
    "1. 공비 x의 범위에 따라서 경계점의 연속성을 판단한다.\n",
    "1. 첫째항이 0이 되는 경우 연속·불연속을 따로 조사하여 판단"
   ]
  },
  {
   "cell_type": "markdown",
   "metadata": {},
   "source": []
  },
  {
   "cell_type": "markdown",
   "metadata": {},
   "source": []
  },
  {
   "cell_type": "markdown",
   "metadata": {},
   "source": []
  },
  {
   "cell_type": "markdown",
   "metadata": {},
   "source": []
  },
  {
   "cell_type": "markdown",
   "metadata": {},
   "source": []
  },
  {
   "cell_type": "markdown",
   "metadata": {},
   "source": [
    "-----"
   ]
  }
 ],
 "metadata": {
  "kernelspec": {
   "display_name": "Python 3",
   "language": "python",
   "name": "python3"
  },
  "language_info": {
   "codemirror_mode": {
    "name": "ipython",
    "version": 3
   },
   "file_extension": ".py",
   "mimetype": "text/x-python",
   "name": "python",
   "nbconvert_exporter": "python",
   "pygments_lexer": "ipython3",
   "version": "3.6.5"
  }
 },
 "nbformat": 4,
 "nbformat_minor": 2
}
