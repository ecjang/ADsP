{
 "cells": [
  {
   "cell_type": "markdown",
   "metadata": {},
   "source": [
    "##### 미적분과 통계기본"
   ]
  },
  {
   "cell_type": "markdown",
   "metadata": {},
   "source": [
    "# 05. 도함수의 활용2"
   ]
  },
  {
   "cell_type": "markdown",
   "metadata": {},
   "source": [
    "----"
   ]
  },
  {
   "cell_type": "markdown",
   "metadata": {},
   "source": [
    "### 05_1.  함수의 그래프"
   ]
  },
  {
   "cell_type": "markdown",
   "metadata": {},
   "source": [
    "####  함수의 그래프\n",
    "\n",
    "함수 $y=f(x)$의 그래프는 증가와 감소, 극대와 극소, 좌표축과의 교점 등을 이용하면 그 개형을 쉽게 그릴 수 있다. 함수의 증가와 감소를 표로 나타내면 편리하다.\n",
    "\n",
    "\n",
    "- 함수의 그래프 예\n",
    "    - 함수 $f(x)=x^3-3x^2+1$의 증가와 감소를 표로 나타내어 보자. $f'(x)=3x^2-6x$이므로 $f'(x)=0$에서 $x=0$ 또는 $x=2$이다.\n",
    "\n",
    "| x | ... | 0 | ... | 2 | ... |\n",
    "| --- |  --- |  --- |  --- | --- | --- |\n",
    "| $f'(x)$ | + | 0 | - | 0 | + |\n",
    "| $f(x)$ | ↗ | 1 | ↘ | -3 | ↗ |\n"
   ]
  },
  {
   "cell_type": "code",
   "execution_count": 3,
   "metadata": {},
   "outputs": [
    {
     "data": {
      "text/html": [
       "<style>table,tbody,thead { width:80% !important; align:center }</style>"
      ],
      "text/plain": [
       "<IPython.core.display.HTML object>"
      ]
     },
     "metadata": {},
     "output_type": "display_data"
    },
    {
     "data": {
      "text/html": [
       "<style> tr th td {text-align:center !important;}</style>"
      ],
      "text/plain": [
       "<IPython.core.display.HTML object>"
      ]
     },
     "metadata": {},
     "output_type": "display_data"
    }
   ],
   "source": [
    "from IPython.core.display import display, HTML\n",
    "display(HTML(\"<style>table,tbody,thead { width:80% !important; align:center }</style>\"))\n",
    "display(HTML(\"<style> tr th td {text-align:center !important;}</style>\"))"
   ]
  },
  {
   "cell_type": "markdown",
   "metadata": {},
   "source": [
    "#### 함수의 최대와 최소\n",
    "\n",
    "함수 $f(x)$가 닫친구간 [$a,b$]에서 연속이면 함수 $f(x)$는 이 **구간에서 반드시 최댓값과 최솟값을 갇는다.(=최대최소정리)** 최댓값과 최솟값을 구하는 방법은 다음과 같다.\n",
    "\n",
    "1. 닫힌구간 [$a,b$]에서 함수 $f(x)$의 모든 극댓값과 극솟값을 계산\n",
    "1. 구간의 양 끝값에서 함수값 $f(a), f(b)$를 구함\n",
    "1. 극댓값, 극솟값, $f(a), f(b)$ 중 가장 큰 값이 최댓값이고, 가장 작은 값이 최솟값\n",
    "\n",
    "\n",
    "- 참고\n",
    "    - 닫힌구간 또는 연속함수가 아니면 최댓값이나 최솟값이 없을 수 있음\n",
    "    - 극댓값, 극솟값이 반드시 최댓값, 최솟값이 되는 것이 아님\n"
   ]
  },
  {
   "cell_type": "markdown",
   "metadata": {},
   "source": [
    "#### 함수의 최대와 최소의 활용\n",
    "\n",
    "도형의 길이, 넓이, 부피 등의 최댓값 또는 최솟값은 다음과 같은 방법으로 구한다.\n",
    "\n",
    "1. 주어진 조건에 적합한 변수를 정하여 미지수 $x$로 놓고 $x$값의 범위를 구함\n",
    "1. 도형의 길이, 넓이, 부피 등을 함수 $f(x)$로 나타냄\n",
    "1. 함수의 그래프를 이용하여 $f(x)$의 최댓값 또는 최솟값을 구함\n"
   ]
  },
  {
   "cell_type": "markdown",
   "metadata": {},
   "source": [
    "---"
   ]
  },
  {
   "cell_type": "markdown",
   "metadata": {},
   "source": [
    "### 05_2. 방정식에의 활용"
   ]
  },
  {
   "cell_type": "markdown",
   "metadata": {},
   "source": [
    "#### 방정식에서 실근의 개수\n",
    "함수의 그래프를 사용하여 방정식의 실근의 개수를 구할 수 있다.\n",
    "\n",
    "1. 방정식 $f(x)=0$의 실근은 함수 $y=f(x)$의 그래프와 $x$축의 교점의 $x$좌표\n",
    "1. 방정식 $f(x)=g(x)$의 실근은 두 함수 $y=f(x), y=g(x)$의 그래프의 교점의 x좌표\n"
   ]
  },
  {
   "cell_type": "code",
   "execution_count": 53,
   "metadata": {},
   "outputs": [
    {
     "ename": "SyntaxError",
     "evalue": "invalid syntax (<ipython-input-53-05fa2a78e8ee>, line 1)",
     "output_type": "error",
     "traceback": [
      "\u001b[1;36m  File \u001b[1;32m\"<ipython-input-53-05fa2a78e8ee>\"\u001b[1;36m, line \u001b[1;32m1\u001b[0m\n\u001b[1;33m    fig, ((ax1, ax2), (ax3, ax4))plt.subplots(nrows=2, ncols=2)\u001b[0m\n\u001b[1;37m                                   ^\u001b[0m\n\u001b[1;31mSyntaxError\u001b[0m\u001b[1;31m:\u001b[0m invalid syntax\n"
     ]
    }
   ],
   "source": [
    "fig, ((ax1, ax2), (ax3, ax4))plt.subplots(nrows=2, ncols=2)\n",
    "plt.plot(x, x**3 - 12*x  , label=\"$f(x)$\")plt.plot(x, x**3 - 12*x  , label=\"$f(x)$\")"
   ]
  },
  {
   "cell_type": "code",
   "execution_count": 47,
   "metadata": {},
   "outputs": [
    {
     "data": {
      "image/png": "[encoded data removed]",
      "text/plain": [
       "<Figure size 432x288 with 1 Axes>"
      ]
     },
     "metadata": {},
     "output_type": "display_data"
    },
    {
     "data": {
      "image/png": "[encoded data removed]",
      "text/plain": [
       "<Figure size 432x288 with 1 Axes>"
      ]
     },
     "metadata": {},
     "output_type": "display_data"
    }
   ],
   "source": [
    "x = np.arange(-5,5, 0.01)\n",
    "plt.figure(1)\n",
    "plt.plot(x, x**3 - 12*x  , label=\"$f(x)$\")\n",
    "\n",
    "\n",
    "plt.figure(2)\n",
    "plt.plot(x, x**3 - 12*x  , label=\"$f(x)$\")\n",
    "\n",
    "\n",
    "plt.grid()\n",
    "plt.legend()\n",
    "plt.show()"
   ]
  },
  {
   "cell_type": "markdown",
   "metadata": {},
   "source": [
    "#### 삼차함수의 그래프와 삼차방정식의 근\n",
    "\n",
    "삼차항의 계수가 양수인 삼차함수 $f(x)$에 대하여 $y=f(x)$의 그래프와 방정식 $f(x)=0$의 관계를 정리하면 다음과 같다.\n",
    "\n",
    "1. **$f(x)$의 극값이 존재할 때 $y=f(x)$의 그래프와 방정식 $f(x)=0$의 근**\n",
    "\n",
    "\n"
   ]
  },
  {
   "cell_type": "markdown",
   "metadata": {},
   "source": []
  },
  {
   "cell_type": "markdown",
   "metadata": {},
   "source": []
  },
  {
   "cell_type": "markdown",
   "metadata": {},
   "source": []
  },
  {
   "cell_type": "markdown",
   "metadata": {},
   "source": []
  },
  {
   "cell_type": "markdown",
   "metadata": {},
   "source": []
  },
  {
   "cell_type": "code",
   "execution_count": 4,
   "metadata": {},
   "outputs": [],
   "source": [
    "import matplotlib.pyplot as plt; import numpy as np"
   ]
  },
  {
   "cell_type": "code",
   "execution_count": 7,
   "metadata": {},
   "outputs": [
    {
     "data": {
      "image/png": "[encoded data removed]",
      "text/plain": [
       "<Figure size 432x288 with 1 Axes>"
      ]
     },
     "metadata": {},
     "output_type": "display_data"
    }
   ],
   "source": [
    "x = np.arange(-2,3, 0.01)\n",
    "plt.plot(x,x**3 + x**2, label=\"$f(x)$\")\n",
    "plt.plot(x, 5*x-3, label=\"$y=5x-3$\")\n",
    "plt.plot(1,2,'o')\n",
    "plt.grid()\n",
    "plt.legend()\n",
    "plt.annotate('P(1,2)',xy=(1,2), xytext=(0.2,5), fontsize=20 )\n",
    "plt.show()"
   ]
  },
  {
   "cell_type": "code",
   "execution_count": 6,
   "metadata": {},
   "outputs": [],
   "source": [
    "t"
   ]
  },
  {
   "cell_type": "markdown",
   "metadata": {},
   "source": [
    "-----"
   ]
  }
 ],
 "metadata": {
  "kernelspec": {
   "display_name": "Python 3",
   "language": "python",
   "name": "python3"
  },
  "language_info": {
   "codemirror_mode": {
    "name": "ipython",
    "version": 3
   },
   "file_extension": ".py",
   "mimetype": "text/x-python",
   "name": "python",
   "nbconvert_exporter": "python",
   "pygments_lexer": "ipython3",
   "version": "3.6.5"
  }
 },
 "nbformat": 4,
 "nbformat_minor": 2
}
