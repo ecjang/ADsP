{
 "cells": [
  {
   "cell_type": "markdown",
   "metadata": {},
   "source": [
    "##### 미적분과 통계기본"
   ]
  },
  {
   "cell_type": "markdown",
   "metadata": {},
   "source": [
    "# 01. 함수의 극한"
   ]
  },
  {
   "cell_type": "markdown",
   "metadata": {},
   "source": [
    "### 01_1. 함수의 극한"
   ]
  },
  {
   "cell_type": "markdown",
   "metadata": {},
   "source": [
    "#### 함수의 극한\n",
    "\n",
    "- **함수 $y=f(x)$에서 $x\\neq{a}$이면서** x의 값이 a에 한없이 가까워 진다.\n",
    "- 함수$f(x)$값이 일정한 값 a에 한없이 가까워지면 **함수 f(x)는 a에 수렴한다**.\n",
    "- 이를 **f(x)의 극한값 또는 극한**이라고 한다.\n",
    "\n",
    "$$ x \\to a \\text{ 일 때 } \\lim_{x \\to a} f(x) = \\alpha $$"
   ]
  },
  {
   "cell_type": "markdown",
   "metadata": {},
   "source": [
    "### 01_2. 우극한과 좌극한"
   ]
  },
  {
   "cell_type": "markdown",
   "metadata": {},
   "source": [
    "#### 우극한과 좌극한\n",
    "\n",
    "- x의 값이 a보다 크면서 a에 수렴하는 것을 기호로 $ x \\to a+0 $ 으로 표현한다.\n",
    "- 이때 $f(x)$값이 $\\alpha$값에 수렴하면 **$\\alpha$을 우극한 이라고 한다.**\n",
    "- 반대의 경우를 좌극한이라고 한다."
   ]
  },
  {
   "cell_type": "markdown",
   "metadata": {},
   "source": [
    "#### 함수의 극한값\n",
    "- 일반적으로 함수의 극한값이 존재하려면 **좌극한과 우극한이 서로 같아야 한다.**\n",
    "\n",
    "$$ \\lim_{x\\to{a-0}}f(x) = \\lim_{x\\to{a+0}}f(x) \\iff \\lim_{x\\to a}f(x) = \\alpha $$\n"
   ]
  },
  {
   "cell_type": "markdown",
   "metadata": {},
   "source": [
    "### 01_3. 함수의 극한 성질"
   ]
  },
  {
   "cell_type": "markdown",
   "metadata": {},
   "source": [
    "두 함수 $f(x), g(x)$에 대해 $\\lim_{x\\to{a}}f(x)=\\alpha, \\, \\lim_{x\\to{a}}g(x)=\\beta$일 경우 다음이 성립한다.\n",
    "\n",
    "1. $ \\lim_{x\\to{a}}cf(x)=c = c\\lim_{x\\to{a}}f(x) $\n",
    "1. $ \\lim_{x\\to{a}}\\{f(x)+g(x)\\} = \\lim_{x\\to{a}}f(x) + \\lim_{x\\to{a}}g(x) = \\alpha + \\beta \\text{ -경우도 성립}  $\n",
    "1. $ \\lim_{x\\to{a}}f(x)g(x) = \\lim_{x\\to{a}}f(x) \\bullet \\lim_{x\\to{a}}g(x) = \\alpha \\beta $\n",
    "1. $ \\lim_{x\\to{a}}\\frac{f(x)}{g(x)} = \\lim_{x\\to{a}}f(x) / \\lim_{x\\to{a}}g(x) = \\alpha / \\beta $\n"
   ]
  },
  {
   "cell_type": "markdown",
   "metadata": {},
   "source": [
    "### 01_4. 극한값 계산"
   ]
  },
  {
   "cell_type": "markdown",
   "metadata": {},
   "source": [
    "#### 0/0 꼴의 극한값\n",
    "**분수식**일 경우 인수분해하여 약분하는 방식으로, **무리식**일 경우 유리화하여 계산한다.\n",
    "\n",
    "#### ∞/∞ 꼴의 극한값\n",
    "분모의 최고차항으로 나눈다.\n",
    "- 분모의 차수가 클 때 : 0으로 수렴\n",
    "- 분모의 차수가 같을 때 : 최고차항의 계수의 비로 수렴\n",
    "- 분자의 차수가 클 때 : 무한대로 발산"
   ]
  },
  {
   "cell_type": "markdown",
   "metadata": {},
   "source": [
    "### 01_5. 대소관계"
   ]
  },
  {
   "cell_type": "markdown",
   "metadata": {},
   "source": [
    "#### 함수의 극한과 대소 관계\n",
    "\n",
    "두 함수 $f(x), g(x)$에 대하여 $ \\lim_{x\\to{a}}f(x)=\\alpha$, $\\lim_{x\\to{a}}g(x)=\\beta$ (α,β는 실수)일 때\n",
    "\n",
    "- $f(x)≤g(x)$ 이면 $\\lim_{x\\to{a}}f(x) ≤ lim_{x\\to{a}}g(x)$ 즉 α≤β 이다.\n",
    "- $f(x)≤h(x)≤g(x)$ 이고 α=β이면 $lim_{x\\to{a}}h(x)=\\alpha$"
   ]
  },
  {
   "cell_type": "markdown",
   "metadata": {},
   "source": [
    "예: $\\lim_{x\\to\\infty} \\sin{x}/x$의 값\n",
    "\n",
    "1. $-1<\\sin{x}<1$ 이므로 각 변에 $1/x$를 곱한다. 이 때, $x\\to\\infty$ 이므로 $x>0$이고 $-1/x ≤ 1/x \\sin{x} ≤ 1/x$이다.\n",
    "1. 그런데 $lim_{x\\to\\infty}(\\frac{-1}{x}) ≤ lim_{x\\to{\\infty}} \\sin{x} ≤ lim_{x\\to{\\infty}}\\frac{1}{x} = 0$ 이므로 $ lim_{x\\to{a}}\\frac{1}{x} \\sin{x}=0 $이다."
   ]
  },
  {
   "cell_type": "markdown",
   "metadata": {},
   "source": []
  },
  {
   "cell_type": "markdown",
   "metadata": {},
   "source": [
    "### 01_6. 미정계수"
   ]
  },
  {
   "cell_type": "markdown",
   "metadata": {},
   "source": [
    "-----"
   ]
  }
 ],
 "metadata": {
  "kernelspec": {
   "display_name": "Python 3",
   "language": "python",
   "name": "python3"
  },
  "language_info": {
   "codemirror_mode": {
    "name": "ipython",
    "version": 3
   },
   "file_extension": ".py",
   "mimetype": "text/x-python",
   "name": "python",
   "nbconvert_exporter": "python",
   "pygments_lexer": "ipython3",
   "version": "3.6.5"
  }
 },
 "nbformat": 4,
 "nbformat_minor": 2
}
