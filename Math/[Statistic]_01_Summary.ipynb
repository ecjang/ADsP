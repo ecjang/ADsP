{
 "cells": [
  {
   "cell_type": "markdown",
   "metadata": {},
   "source": [
    "# 미적분과 통계기본\n",
    "\n",
    "수능특강"
   ]
  },
  {
   "cell_type": "markdown",
   "metadata": {},
   "source": [
    "----"
   ]
  },
  {
   "cell_type": "markdown",
   "metadata": {},
   "source": [
    "Latex : https://oeis.org/wiki/List_of_LaTeX_mathematical_symbols\n"
   ]
  },
  {
   "cell_type": "markdown",
   "metadata": {},
   "source": [
    "----"
   ]
  },
  {
   "cell_type": "markdown",
   "metadata": {},
   "source": [
    "## 01. 함수의 극한"
   ]
  },
  {
   "cell_type": "markdown",
   "metadata": {},
   "source": [
    "\n",
    "### 1_1. 함수의 극한\n",
    "\n",
    "함수 $y=f(x)$에서 $x\\ne{a}$이면서 $x$의 값이 $a$에 한없이 가까워질 때, $f(x)$의 값이 일정한 값 $a$에 한없이 가까워지면 **함수 $f(X)$sms $a$에 수렴한다**라고 한다. $a$를 $x$의 값이 $a$에 가까워질 때 **$f(x)$의 극한값 또는 극한**이라고 한다. \n",
    "\n",
    "- 기호로는 $x \\longrightarrow a$ 일 때 $ f(x) \\longrightarrow \\lim\\limits_{x\\to{a}}f(x) = 5 $\n"
   ]
  },
  {
   "cell_type": "markdown",
   "metadata": {},
   "source": [
    "### 1_2. 우극한과 좌극한\n",
    "\n",
    "함수 $f(x)$에서 $x$ 값이 $a$ 보다 크면서 $a$에 한없이 가까워지는 것을 $ x \\longrightarrow a+0 $이라고 한다.\n",
    "\n",
    "$ x \\longrightarrow a+0 $ 일 때 $ f(x) $의 값이 일정한 값 $a$에 한없이 가까워지면 **$a$를 $x=a$에서의 우극한**이라고 한다.\n",
    "\n",
    "- 기호로 $ \\lim\\limits_{x\\to{a+0}}f(x)=a $\n",
    "- 좌극한은 우극한에서 $a$보다 작으면서 한없이 가까워 지는 경우\n"
   ]
  },
  {
   "cell_type": "markdown",
   "metadata": {},
   "source": [
    "\n",
    "## 02. 함수의 연속"
   ]
  },
  {
   "cell_type": "markdown",
   "metadata": {},
   "source": [
    "### 2_1. 연속과 불연속\n",
    "\n",
    "함수 $f(x)$가 $a$에 대하여 다음의 조선을 만족하면 **함수$f(x)$는 $x=a$에서 연속이다**라고 한다.\n",
    "1. $x=a$에서 함수값 $f(a)$가 존재\n",
    "1. 극한값 $\\lim_{x\\to{a}}f(x)$가 존재\n",
    "1. $\\lim_{x\\to{a}}f(x) = f(a)$"
   ]
  },
  {
   "cell_type": "markdown",
   "metadata": {},
   "source": [
    "### 2_2. 구간\n",
    "\n",
    "$a\\leq b$인 두 실수 $ a, b $에 대하여 실수의 집합 $\\{ x|a\\leq{x}\\leq{b}\\}$, $\\{ x|a<x<b\\}$, $\\{ x|a\\leq{x}<{b}\\}$, $\\{ x|a<{x}\\leq{b}\\}$를 **구간**이라고 한다.**[$a,b$]fmf 닫힌구간**, **($a,b$)를 열린구간**, **[$a,b$), ($a,b$]를 반닫힌구간 또는 반열린구간**이라고한다.\n",
    "\n",
    "- $\\{ x|a\\leq{x}\\leq{b}\\}$ = [$a,b$]\n",
    "- $\\{ x|a<x<b\\}$ = ($a,b$)\n",
    "- $\\{ x|a\\leq{x}<{b}\\}$ = [$a,b$)\n",
    "- $\\{ x|a<{x}\\leq{b}\\}$ = ($a,b$]"
   ]
  },
  {
   "cell_type": "markdown",
   "metadata": {},
   "source": [
    "----"
   ]
  },
  {
   "cell_type": "markdown",
   "metadata": {},
   "source": [
    "## 03. 미분계수와 도함수"
   ]
  },
  {
   "cell_type": "markdown",
   "metadata": {},
   "source": [
    "### 1. 평균변화율\n",
    "\n",
    "함수 $y=f(x)$ 에서 $x$의 값이 $a$에서 $b$까지 변할 때, $y$의 값은 $f(a)$에서 $f(b)$까지 변한다. $x$값의 변화량에 대한 $y$값의 변화량의 비율은 아래와 같다.함수 **$f(x)$에 대하여 $x$의 값이 $a$에서 $b$까지 변할 때의 평균변화율이라고 한다.**\n",
    "\n",
    "$$ \\frac{\\Delta{y}}{\\Delta{x}} = \\frac{f(b)-f(a)}{b-a} = \\frac{f(a + \\Delta{x})-f(a)}{\\Delta{x}} $$\n"
   ]
  },
  {
   "cell_type": "markdown",
   "metadata": {},
   "source": [
    "### 2. 미분계수\n",
    "\n",
    "함수$y=f(x)$에서 $x$의 값이 $a$에서 $a+\\Delta{x}$까지 변하고, $\\Delta{x}\\longrightarrow{0}$일 때 평균변화율의 극한값이 존재하면 이 값을 **$y=f(x)$의 $x=a$에서의 미분계수 또는 순간변화율**이라고 한다. \n",
    "- 기호로는 $f'(a)$와 같이 나타냄\n",
    "\n",
    "$$ \\text{평균변화율의 극한값 = } \\ \\lim\\limits_{x\\to{a}} \\frac{\\Delta{y}}{\\Delta{x}} = \\lim\\limits_{x\\to{a}}\\frac{f(a + \\Delta{x})-f(a)}{\\Delta{x}}  $$\n",
    "\n",
    "$$ \\text{미분계수 = } \\ f'(a) = \\lim\\limits_{x\\to{a}} \\frac{f(a + \\Delta{x}) - f(a)}{\\Delta{x}} = \\lim\\limits_{x\\to{a}}\\frac{f(x)-f(a)}{x-a} $$"
   ]
  },
  {
   "cell_type": "markdown",
   "metadata": {},
   "source": [
    "### 3. 미분계수의 기하학적 의미\n",
    "\n",
    "함수 $y=f(x)$에 대하여 $x=a$에서의 미분계수 $f'(a)$는 곡선 $y=f(x)$ 위의 점 $P(a, f(a))$에서의 **접선의 기울기**를 의미한다.\n",
    "\n",
    "- 예: 함수 $f(x)=x^2+x$에 대하여 \n",
    "$$f`(1) = \\lim\\limits_{x\\to{1}} \\frac{f(x)-f(1)}{x-1} = \\lim\\limits_{x\\to{1}} \\frac{x^2+x+2}{x-1} = \\lim\\limits_{x\\to{1}} \\frac{(x-1)(x+2)}{x-1} = 3  $$\n",
    "\n",
    "이고, 이 값은 곡선 $ y=x^2+x$ 위의 점 (1,2)에서 **접선의 기울기**와 같다.\n"
   ]
  },
  {
   "cell_type": "markdown",
   "metadata": {},
   "source": [
    "### 4. 도함수의 정의1\n",
    "\n",
    "미분가능한 함수 $f(x)$의 정의역에 속하는 모든 $x$에 대하여 미분계수 $f`(x)$를 대응시키면 새로운 함수 $f`:x\\longrightarrow{f`(x)}$를 얻을 수 있다. 이 함수를 함수 $y=f(x)$의 도함수라 하고, 기호로 \n",
    "$$ y', \\ f'(x), \\ \\frac{dy}{dx}, \\ \\frac{d}{dx}f(x) $$\n",
    "와 같이 나타낸다. 즉 아래와 같다.\n",
    "$$ f'(x) = \\lim\\limits_{h\\to{0}} \\frac{f(x+h)-f(x)}{h} $$\n"
   ]
  },
  {
   "cell_type": "markdown",
   "metadata": {},
   "source": [
    "### 5. 도함수의 정의2\n",
    "\n",
    "함수 $f(x)$의 도함수 $f`(x)$를 구하는 것을 **함수 $f(x)$를 $x$에 대하여 미분한다고 하고, 그 계산법을 미분법이라고 한다.**\n",
    "\n",
    "- 예 : 함수 $f(x)=x^3$의 도함수 $f`(x)$는 다음과 같이 구할 수 있다.\n",
    "<br><br>\n",
    "$$ f'(x)= \\lim\\limits_{x\\to{0}} \\frac{f(x+h)-f(x)}{h} = \\lim\\limits_{x\\to{0}} \\frac{(x+h)^3-x^3}{h} \n",
    "= \\lim\\limits_{x\\to{0}} \\frac{3x^2h + 3xh^2 + h^3}{h} = \\lim\\limits_{x\\to{0}}(3x^2+3xh+h^2) = 3x^2 $$\n"
   ]
  },
  {
   "cell_type": "markdown",
   "metadata": {},
   "source": [
    "----"
   ]
  },
  {
   "cell_type": "markdown",
   "metadata": {},
   "source": [
    "## 04. 도함수의 활용 1"
   ]
  },
  {
   "cell_type": "markdown",
   "metadata": {},
   "source": [
    "### 04_1. 접선의 방정식 1 : 곡선 위의 점에서의 접선의 방정식\n",
    "\n",
    "함수 $f(x)$가 미분가능할 때, 곡선 $y=f(x)$ 위의 점 $P(a, f(a))$에서 접선의 기울기는 $x=a$에서의 미분계수 $f'(x)$와 같다.\n",
    "\n",
    "그러므로 **점 $P(a, f(a))$에서의 접선의 방정식은 $y-f(a) = f'(a)(x-a)$이다.**\n",
    "\n",
    "- 접선과 수직인 방정식\n",
    "    곡선 $y=f(x)$ 위의 점 $P(a, f(a))$에서의 접선과 수직이고 점 P를 지나는 직선의 방정식은 아래와 같다.\n",
    "    $$ y-f(a) = -\\frac{1}{f'(a)}(x-a) ~~(\\text{단,}~f'(a)\\neq{0}) $$\n",
    "    \n",
    "    \n",
    "- 예 : 곡선 $y=x^3+x^2$ 위의 점$P(1,2)$에서 접선의 방정식.\n",
    "    \n",
    "    $ y'=3x^2+2x $ 이므로 기울기는 $y'_{x=1}=3+2=5$이다. 따라서 접선의 방정식은 $y-2=5x-3$이다."
   ]
  },
  {
   "cell_type": "markdown",
   "metadata": {},
   "source": [
    "### 04_2. 접선의 방정식 2 : 기울기가 주어진 접선의 방정식\n",
    "\n",
    "함수 $f(x)$가 미분가능할 때, 기울기가 $m$이고 곡선 $y=f(x)$에 접하는 직선의 방정식은 다음과 같은 순서로 구한다.\n",
    "\n",
    "1. 접점을 $(t, f(t))$으로 놓는다.\n",
    "1. t에 대한 방정식 $f'(x)=m$을 만족시키는 실수 t를 구한다.\n",
    "1. 접선의 방정식 $y-f(t)=f'(x)(x-t)$를 구한다."
   ]
  },
  {
   "cell_type": "markdown",
   "metadata": {},
   "source": [
    "- 예 : 곡선 $y=x^3$에 접하고 기울기가 3인 직선의 방정식.\n",
    "    1. 접점을 $(t, t^3)$으로 놓으면 $y'=3x^2$이므로 3t^2=3   ∴ $t=\\pm{1}$\n",
    "    1. 점 $P(-1, -1)$에서 접선의 방정석은 $ y+1 = 3(x+1) $에서 $y=3x+2$\n",
    "    1. 점 $Q(1,1)$에서 접선의 방정식은 $ y-1 = 3(x-1) $ 에서 $y=3x-2$"
   ]
  },
  {
   "cell_type": "markdown",
   "metadata": {},
   "source": [
    "### 04_3. 접선의 방정식 3 : 곡선 밖의 한 점에서 곡선에 그은 접선의 방정식 \n",
    "\n",
    "함수 $f(x)$가 미분가능할 때, 곡선 $y=f(x)$ 밖의 한 점 $(a,b)$에서 곡선 $y=f(x)$에 그은 접선의 방정식은 다음과 같은 순서로 구한다.\n",
    "\n",
    "1. 접점을 $(t, f(t))$로 놓는다.\n",
    "1. 점 $(t, f(t))$에서의 접선의 방정식 $y-f(t)=f'(t)(x-t)$ …①을 구한다.\n",
    "1. 점 $(a,b)$는 접선 위의 점이므로 $x=a, y=b$를 ①에 대입한다.\n",
    "1. $t$에 대한 방정식 $b-f(t)=f'(t)(x-t)$에서 실수 t의 값을 구한다.\n",
    "1. 접선의 방정식 $ y-f(t) = f'(t)(x-t) $를 구한다."
   ]
  },
  {
   "cell_type": "markdown",
   "metadata": {},
   "source": [
    "- 예 : 원점에서 곡선 $y=x^2+1$에 그은 접선의 방정식.\n",
    "    1. 접점을 $(t, t^2+1)$로 놓으면 $y'=2x$이므로 접선의 방정식은 $y=(t^2+1)=2t(x-t)$이다.\n",
    "    1. 접선은 원점을 지나므로 $ -(t^2+1)=2t(-t) $에서 $t^2=1$  ∴$t=\\pm{1}$ \n",
    "    1. $y-2=-2(x+1)$ 에서 $y=-2x$\n",
    "    1. $y-2=2(x-1)$ 에서 $y=2x$"
   ]
  },
  {
   "cell_type": "markdown",
   "metadata": {},
   "source": [
    "### 04_4. 접선의 방정식 4: 두 곡선에 접하는 직선의 방정식\n",
    "\n",
    "두 함수 $f(x), g(x)$가 미분가능할 때, 두 곡선 $y=f(x), y=g(x)$에 접하는 직선의 방정식은 다음과 같은 방법으로 구한다.\n",
    "\n",
    "1. 접점이 서로 같은 경우\n",
    "    \n",
    "    두 곡선 $y=f(x), y=g(x)$가 한 점 $P$에서 만나므로 점 $P$의 $x$좌표를 $t$라고 하면 $x=t$에서 함숫값이 서로 같다. 또한, 점 P에서의 접선은 같은 직선이므로 $x=t$에서의 미분계수도 서로 같다. 즉 다음 등식이 성립한다.\n",
    "    \n",
    "    $$ f(t) = g(t),\\quad f'(t)=g'(t) $$\n",
    "     \n",
    "1. 접점이 서로 다른 경우 \n",
    "\n",
    "    두 곡선 $y=f(x), y=g(x)$의 접점을 각각 $P(\\alpha,f(\\alpha)), Q(\\beta, g(\\beta))$로 놓으며 두 점 $P,Q$에서의 접선은 같은 직선이다. 점 $P$에서의 접선은 $y=f'(\\alpha)(x-\\alpha)+f(\\alpha)$ 이고, 점 $Q$에서의 접선은 $y=g'(\\beta)(x-\\beta)+f(\\beta)$이므로 다음 등식이 성립한다.\n",
    "    \n",
    "    $$ f'(\\alpha)=g'(\\beta),\\quad -af'(\\alpha)+f(\\alpha) = -af'(\\beta)+f(\\beta) $$\n",
    "    "
   ]
  },
  {
   "cell_type": "markdown",
   "metadata": {},
   "source": [
    "---"
   ]
  },
  {
   "cell_type": "markdown",
   "metadata": {},
   "source": [
    "## 05. 도함수의 활용 2\n"
   ]
  },
  {
   "cell_type": "markdown",
   "metadata": {},
   "source": [
    "### 05_1. 함수의 그래프\n",
    "\n",
    "함수 $y=f(x)$의 그래프는 증가와 감소, 극대와 극소,좌표측과의 교점을 이용하면 그 개형을 쉽게 그릴 수 있다. 함수의 증가와 감소는 표로 나타내면 편리하다.\n",
    "\n",
    "\n"
   ]
  },
  {
   "cell_type": "markdown",
   "metadata": {},
   "source": [
    "- 예 : 함수 $f(x)=x^3-3x^2+1$의 증가와 감소를 표로 나타내어 보자. $f'(x)=3x^2-6x$이므로 $f'(x)=0$ 에서 $x=0$또는 $x=2$\n",
    "\n",
    "\n",
    "| x &emsp;&emsp;  | ...  | 0  | ... | 2  | ...\n",
    "| ---- | ---- | ---- | ---- | ---- | ---- |\n",
    "| $f'(x)$ | + | 0 | - | 0 | + \n",
    "| $f(x)$ | ↗ | 1 | ↘ | -3 | ↗\n"
   ]
  },
  {
   "cell_type": "markdown",
   "metadata": {},
   "source": [
    "### 05_2. 방정식의 실근의 개수\n",
    "\n",
    "함수의 그래프를 이용하여 방정식의 실근의 개수를 구할 수 있다. \n",
    "\n",
    "1. 방정식 $f(x)=0$의 실근은 함수 $y=f(x)$의 그래프와 $x$축의 교점의 $x$좌표이다.\n",
    "1. 방정식 $f(x)=g(x)$의 실근은 두 함수 $y=f(x), y=g(x)$의 그래프의 교점의 $x$좌표이다."
   ]
  },
  {
   "cell_type": "markdown",
   "metadata": {},
   "source": [
    "### 05_3. 모든 실수에 대하여 성립하는 부등식\n",
    "\n",
    "1. 모든 실수 $x$에 대하여 부등식 $f(x)\\geq{0}$이 성립함을 보일 때는 함수 $f(x)$의 최솟값을 구하여 $\\text{최솟값}\\geq{0}$임을 보인다.\n",
    "\n",
    "1. 모든 실수 $x$에 대하여 부등식 $f(x)\\geq{k}\\ \\text{(k는 상수)}$가 성립함을 보일 때는 다음과 같은 방법을 사용한다.\n",
    "    \n",
    "    1. 함수 $y=f(x)$의 그래프가 직선 $y=k$에 접하거나 위에 있음을 보인다.\n",
    "    1. 함수 $y=f(x)-k$의 최솟값을 구하여 $\\text{최솟값}\\geq{0}$임을 보인다."
   ]
  },
  {
   "cell_type": "markdown",
   "metadata": {},
   "source": [
    "### 05_4. 속도와 가속도\n",
    "\n",
    "수직선 위를 움직이는 점 $P$의 위치 $x$가 시각 $t$의 함수 $x=f(t)$로 나타내어질 때, 시각 $t$에서의 점 P의 속도, 가속도, 속력은 다음과 같다.\n",
    "\n",
    "\n",
    "속도 |  가속도  |  속력\n",
    "---- | -----    | ----- \n",
    "$$ v(t) = \\frac{dx}{dt} = f'(t) $$ | $$ a(t)=\\frac{dv}{dt}=v'(t) $$  | $$ |v(t)|=|f'(t)| $$\n",
    "\n"
   ]
  },
  {
   "cell_type": "markdown",
   "metadata": {},
   "source": [
    "- 참고\n",
    "    \n",
    "    $t$에서 시각 $t+\\Delta{t}$까지의 점 $P$의 위치의 변화량 $\\Delta{x}$는 $\\Delta{x}=f(t+\\Delta{t})-f(t)$이다. 이때, 시각 $t$에서 시각 $t+\\Delta{t}$까지의 점 $P$의 평균속도는 아래와 같다.\n",
    "    \n",
    "    $$ \\frac{\\Delta{x}}{\\Delta{t}} = \\frac{f(t+\\Delta{t})-f(t)}{\\Delta{t}} $$\n",
    "    \n",
    "    이것은 **함수 $x=f(x)$의 평균변화율이다.** 또, 시각 $t$에서의 **위치 $x$의 순간변화율은 시각 $t$에서의 점 $P$의 순간 속도 또는 속도라고 한다.**\n"
   ]
  },
  {
   "cell_type": "markdown",
   "metadata": {},
   "source": [
    "- 예\n",
    "    수직선 위를 움직이는 점 $P$의 시각 $t$에서의 위치가 $x=t^3-t^2+2t$일 때, 속도 $v(t)=3t^2-2t+2$이고, 가속도 $a(t)=6t-2$ 이다."
   ]
  },
  {
   "cell_type": "markdown",
   "metadata": {},
   "source": [
    "---"
   ]
  },
  {
   "cell_type": "markdown",
   "metadata": {},
   "source": [
    "## 06. 부정적분과 정적분\n"
   ]
  },
  {
   "cell_type": "markdown",
   "metadata": {},
   "source": [
    "### 06_1. 부정적분의 뜻\n",
    "\n",
    "함수 $F(x)$의 도함수가 $f(x)$일 때, 즉 $F'(x)=f(x)$일 때, **$F(x)$를 $f(x)$의 원시함수 또는 부정적분**이라 하고, $f(x)$의 부정적분을 구하는 것을 $f(x)$를 **적분한다고 한다.**\n"
   ]
  },
  {
   "cell_type": "markdown",
   "metadata": {},
   "source": [
    "- 표현\n",
    "\n",
    "    함수 $f(x)$의 부정적분이 $F(x)$일 때, 함수 $f(x)$의 임의의 부정적분은 $F(x)+C(\\ \\text{C는 상수})$의 꼴로 나타내어지는데 이것을 기호로 $ \\int{f(x)dx} $으로 표시한다. 이때, **f(x)를 피적분함수, C를 적분상수**라고 한다.\n",
    "    \n",
    "    **$$ F'(x)=f(x) \\Leftarrow\\Rightarrow \\int{f(x)dx} = F(x)+C \\text{ (C는 상수)} $$**"
   ]
  },
  {
   "cell_type": "markdown",
   "metadata": {},
   "source": [
    "### 06_2. 부정적분과 미분의 관계\n",
    "$$\\frac{d}{dx}{\\int{f(x)dx}} = f(x) \\quad \\int{\\{\\frac{d}{dx}f(x)\\}}dx=f(x)\\text{ (단, C는 적분상수)}$$"
   ]
  },
  {
   "cell_type": "markdown",
   "metadata": {},
   "source": [
    "- 예\n",
    "$$ \\frac{d}{dx} \\{ \\int{(x^2+x)dx} \\} = x^2+x \\text{    이고    }  \\int{ \\{ \\frac{d}{dx}(x^2+x) \\} }dx = x^2+x+C \\text{ (C는 적분상수) 이다.} $$"
   ]
  },
  {
   "cell_type": "markdown",
   "metadata": {},
   "source": [
    "- 설명\n",
    "\n",
    "    1. $ F'(x) = f(x) $라고 하면 $ \\int{ f(x)dx } = F(x) + C \\text{ (C는 적분상수)} $  이므로 <br><br>\n",
    "    $$ \\frac{d}{dx}\\{ \\int{f(x)dx} \\} = \\frac{d}{dx} \\{ F(x)+C \\} = F'(x) = f(x) $$\n",
    "    <br><br>    \n",
    "    1. $ \\int \\{ \\frac{d}{dx}f(x) \\}dx = g(x) $로 놓으면 $\\frac{d}{dx}g(x) = \\frac{d}{dx}f(x)$이므로 <br><br>\n",
    "    $$ \\frac{d}{dx}g(x) - \\frac{d}{dx}f(x)=0, \\quad \\frac{d}{dx}\\{ g(x)-f(x) \\} \\quad ∴ g(x)-f(x)=C \\text{ (단,C는 적분상수)}  $$ <br>\n",
    "    따라서 $g(x)-f(x)+C$이므로 $ \\int \\{ \\frac{d}{dx}f(x) \\}dx=f(x)+C $이다."
   ]
  },
  {
   "cell_type": "markdown",
   "metadata": {},
   "source": [
    "### 06_3. $x^n$의 부정적분"
   ]
  },
  {
   "cell_type": "markdown",
   "metadata": {},
   "source": [
    "n이 음이 아닌 정수일 때, $$ \\int x^ndx = \\frac{1}{n+1}x^{x+1}+c \\text{ (단, C는 적분상수) } $$"
   ]
  },
  {
   "cell_type": "markdown",
   "metadata": {},
   "source": [
    "특히, $n=0$일 때, $$ \\int 1dx = x + C \\text{ (단, C는 적분상수) } $$"
   ]
  },
  {
   "cell_type": "markdown",
   "metadata": {},
   "source": [
    "- 설명 : $ (\\frac{1}{n+1}x^{x+1})' = x^n $ 이므로 $\\int x^ndx = \\frac{1}{n+1}x^{x+1}+C \\text{ (단, C는 적분상수)} $ 또, $(x)'=1$이므로 $ \\int 1dx = x+c \\text{(단, C는 적분상수)} $"
   ]
  },
  {
   "cell_type": "markdown",
   "metadata": {},
   "source": [
    "### 06_4. 부정적분의 성질"
   ]
  },
  {
   "cell_type": "markdown",
   "metadata": {},
   "source": [
    "| $$1$$ | $$2$$ | $$3$$ |\n",
    "| ---- | ---- | ---- |\n",
    "| $$ \\int kf(x)dx = k\\int f(x)dx $$ | $$ \\int \\{ f(x)+g(x) \\}dx = \\int f(x)dx + \\int g(x)dx $$ | $$ \\int \\{ f(x)-g(x) \\}dx = \\int f(x)dx - \\int g(x)dx $$|"
   ]
  },
  {
   "cell_type": "markdown",
   "metadata": {},
   "source": [
    "- 설명1\n",
    "    \n",
    "    $F'(x) = f(x), G'(x) = g(x)$라 하고 $k$를 임의의 실수라고 하면 $\\{ kF(x) \\}'=kf(x)$ 이므로 $ \\int kf(x)dx = kF(x)+C_1 $ 또, $ k \\int f(x)dx = k\\{ F(x)+C_2 \\} = kF(x)+kC_2 $ 이때, $C_1$과 $kC_2$는 모두 적분상수이므로 $C_1=kC_2$가 되게 잡으면 $ \\int kf(x)dx = k \\int f(x)dx $이다."
   ]
  },
  {
   "cell_type": "markdown",
   "metadata": {},
   "source": [
    "- 설명2\n",
    "\n",
    "    $ \\{F(x)+G(x)\\}'=f(x)+g(x) $ 이므로 $ \\int \\{ f(x)+g(x) \\}dx = F(x) + G(x) + C_1 $ 또, $ \\int f(x)dx + \\int g(x)dx = F(x)+C_2+G(x)+C_3 $ 이때 $C_1, C_2, C_3$은 모두 적분상수이므로 $C_1 = C_2+C_3$이 되게 잡으면 $f\\{f(x)+g(x)\\}dx=\\int f(x)dx + \\int g(x)dx$이다."
   ]
  },
  {
   "cell_type": "markdown",
   "metadata": {},
   "source": [
    "- 설명3 : 설명2와 동일한 방법으로 증명 가능"
   ]
  },
  {
   "cell_type": "markdown",
   "metadata": {},
   "source": [
    "----"
   ]
  },
  {
   "cell_type": "markdown",
   "metadata": {},
   "source": [
    "## 07. 정적분의 활용\n"
   ]
  },
  {
   "cell_type": "markdown",
   "metadata": {},
   "source": [
    "### 07_1. x축과 곡선 사이의 넓이"
   ]
  },
  {
   "cell_type": "markdown",
   "metadata": {},
   "source": [
    "함수 $y=f(x)$가 닫힌구간 $[a,b]$에서 연속일 때, 곡선 $y=f(x)$와 $x$축 두 직선 $x=a, x=b \\ (a<b)$로 둘러싸힌 도형의 넓이 $S$는 아래와 같다.\n",
    "$$ S=\\int_a^b |\\, f(x) \\, | dx $$"
   ]
  },
  {
   "cell_type": "markdown",
   "metadata": {},
   "source": [
    "- 설명1 : 닫힌 구간 $[a,b]$에서 $f(x)>0$일 때, $ S = \\int_a^b f(x)dx = \\int_a^b |f(x)|dx $"
   ]
  },
  {
   "cell_type": "markdown",
   "metadata": {},
   "source": [
    "- 설명2 : 닫힌 구간 $[a,b]$에서 $f(x)\\leq0$일 때, 곡선 $y=f(x)$를 $x$축에 대하여 대칭이동시킨 곡선 $y=-f(x)$에 대하여 $-f(x)\\geq0$이므로 $ S = \\int_a^b{-f(x)}dx = \\int_a^b |f(x)|dx $"
   ]
  },
  {
   "cell_type": "markdown",
   "metadata": {},
   "source": [
    "-설명3 : 닫힌 구간 $[a,b]$에서 $f(x)\\leq0$이고 닫힌 구간 $[c,d]$에서 $f(x)\\geq0$일 때, $|f(x)|= \\begin{array}{rl} -f(x) (a \\leq x \\leq b) \\\\ f(x) (c\\leq x\\leq d)x  \\end{array} $ 이므로 $ S=S_1+S_2 = \\int_a^c\\{ -f(x) \\}dx + \\int_c^d f(x)dx = \\int_a^d |f(x)|dx $"
   ]
  },
  {
   "cell_type": "markdown",
   "metadata": {},
   "source": [
    "### 07_2. 직선 운동에서의 위치"
   ]
  },
  {
   "cell_type": "markdown",
   "metadata": {},
   "source": [
    "수직선 위를 움직이는 점 $P$의 시각에 t에서의 속도가 $v(t)$이고, 시각 $t=t_0$에서의 점 $P$의 위치가 $x_0$일 때, 시각 $t$에서의 점 $P$의 위치 $x(t)$는 아래와 같다.\n",
    "\n",
    "$$ x(t) = x_0 + \\int^t_{t_0} v(t)dt $$"
   ]
  },
  {
   "cell_type": "markdown",
   "metadata": {},
   "source": [
    "- 설명 : 수직선 위를 움직는 점 $P$의 시각 $t$에서의 위치 $x(t)$가 $x(t)=f(t)$일 때, 시각 $t$에서의 속도 $v(t)$는 $v(t)=f'(x)$이므로 $x_0=f(t_0)$이라 하면 $ \\int^t_{t_0}v(t)dt = \\int^t_{t_0}f'(t)dt = f(t)-f(t_0) = x(t) - x_0 $이다. 그러므로 $ x(t) = x_0 + \\int^t_{t_0}v(t)dt $ 이다."
   ]
  },
  {
   "cell_type": "markdown",
   "metadata": {},
   "source": [
    "### 07_3. 직선 운동에서의 위치의 변화량과 움직인 거리"
   ]
  },
  {
   "cell_type": "markdown",
   "metadata": {},
   "source": [
    "수직선 위를 움직이는 점 $P$의 시각 $t$에서의 속도가 $v(t)$일 때\n",
    "\n",
    "1. 시각 $t=a$에서 $t=b \\,(a\\leq{b})$까지의 점 $P$의 위치 변화량 $$\\int_a^bv(t)dt$$\n",
    "\n",
    "1. 시각 $t=a$에서 $t=b \\,(a\\leq{b})$까지의 점 $P$가 움직인 거리 $$\\int_a^b|v(t)|$$"
   ]
  },
  {
   "cell_type": "markdown",
   "metadata": {},
   "source": [
    "- 예1: 수직선 위를 움직이는 점 $P$의 시각 $t$에서의 위치 $x(t)$가 $f(t)$일 때 시각 $t=a$에서 $t=b\\,(a\\leq{b})$까지 점 $P$의 위치 변화량은 $x(b)-x(a) = f(b)-f(a) = \\int_a^b f'(t)dt = \\int_a^b v(t)dt$"
   ]
  },
  {
   "cell_type": "markdown",
   "metadata": {},
   "source": [
    "- 예2: 같은 조건에서 점 $P$가 움직인 거리 $s$는 운동 방향을 생각하지 않은 것으로 \n",
    "    \n",
    "    1. 닫힌 구간 [$a,b$]에서 $v(t)\\geq{b}$이면 $s=\\int_a^bv(t)dt$\n",
    "    1. 닫힌 구간 [$a,b$]에서 $v(t)<0$이면 $s=\\int_a^b\\{-v(t)\\}dt$\n",
    "    \n",
    "    따라서 $s=\\int_a^b|v(t)|dt$"
   ]
  },
  {
   "cell_type": "markdown",
   "metadata": {},
   "source": [
    "-----"
   ]
  },
  {
   "cell_type": "markdown",
   "metadata": {},
   "source": [
    "## 08. 조합\n"
   ]
  },
  {
   "cell_type": "markdown",
   "metadata": {},
   "source": [
    "### 08_1. 중복조합"
   ]
  },
  {
   "cell_type": "markdown",
   "metadata": {},
   "source": [
    "**서로 다른 $n$개에서 중복을 허락하여 $r$개를 택하는 조합**을 중복조합이라고 한다."
   ]
  },
  {
   "cell_type": "markdown",
   "metadata": {},
   "source": [
    "### 08_2. 중복조합의 수"
   ]
  },
  {
   "cell_type": "markdown",
   "metadata": {},
   "source": [
    "서로 다른 $n$개에서 $r$개를 택하는 중복조합의 수 \n",
    "$$ _{n+r-1}C_r = \\frac{r!}{r!(n-r)!} $$"
   ]
  },
  {
   "cell_type": "markdown",
   "metadata": {},
   "source": [
    "- 설명 : 서로 다른 2개에서 4개를 택하는 택하는 중복조합의 수\n",
    "    \n",
    "    $$ \n",
    "    \\begin{matrix}\n",
    "        aaaa \\iff ○○○○■ \\\\ aaab \\iff ○○○■○ \\\\ aabb \\iff ○○■○○ \\\\ abbb \\iff ○■○○○ \\\\ bbbb \\iff ■○○○○\n",
    "    \\end{matrix}\n",
    "    $$\n",
    "\n",
    "    예를 들어 2개의 문자 a, b에서 4개를 택하는 중복조합을 모두 나열하면 위의 그림과 같다. 이때, 각각의 경우는 4개의 ○와 1개의 ■를 일렬로 배열한 후 ■의 왼쪽에 있는 ○에 a를, 오른쪽에 있는 ○에 b를 대응시킨 것과 같다. 따라서 5개의 자리에서 ○를 배열한 4개의 자리를 택하는 경우의 수인 $_5C_4$와 같다. 일반적으로 서로 다른 $n$개에서 $r$개를 택하는 중복조합의 수는 $r$개의 ○와 $(n-1)$개를 일렬로 배치하는 방법의 수와 같고 이는 $(n+r-1)$개의 자리에서 ○를 배열할 $r$개의 자리를 택하는 조합의 수인 $_{n+r-1}C_r$와 같다."
   ]
  },
  {
   "cell_type": "markdown",
   "metadata": {},
   "source": [
    "### 08_3. 중복조합의 활용"
   ]
  },
  {
   "cell_type": "markdown",
   "metadata": {},
   "source": [
    "방정식 $x+y+z = n \\text{ (n은 자연수)}$에서 \n",
    "1. 음이 아닌 정수해의 순서쌍 $(x,y,z)$의 개수 : $_{3+n-1}C_n$, 즉 $_{n+2}C_2$\n",
    "1. 양의 정수해의 순서쌍 $(x,y,z)$의 개수 : $_{3+(n-2)}C_{n-3}$,즉 $_{n-1}C_2 \\text{ (단, n≥3})$"
   ]
  },
  {
   "cell_type": "markdown",
   "metadata": {},
   "source": [
    "- 설명1 : 예를 들어 $x+y+z=7$의 음이 아닌 정수해를 순서쌍 $(x,y,z)$로 나타낼 때, (2,2,3)은 하나의 해이고 순서쌍 (2,2,3)은 $x,x,y,y,z,z,z$와 대응시킬 수 있다. 이와 같이 $x+y+z=7$의 음이 아닌 정수해 $(x,y,z)$는 세 대의 문자 $x,y,z$에서 7개를 택하는 중복조합과 일대일 대응 관계가 있으므로 그 개수는 $_{3+7-1}C_7$ 즉, 36이다."
   ]
  },
  {
   "cell_type": "markdown",
   "metadata": {},
   "source": [
    "- 설명2. 예를 들어 $x+y+z=7$의 양의 정수해의 순서쌍 $(x,y,z)$의 개수를 구할 때에는 $x=1+x', y=1+y', z=1+z' \\text{(x', y', z'은 음이 아닌 정수)}$으로 놓고 이를 $x+y+z=7$에 대입하여 정리하면 $x'+y'+z'=4$의 음이 아닌 정수해의 순서쌍 $(x',y',z')$의 개수인 $_{3+4-1}C_4$와 같고 이는 $_{3+(7-3)-1}C_4$과 같다."
   ]
  },
  {
   "cell_type": "markdown",
   "metadata": {},
   "source": [
    "다항식 $(a+b+c)^n \\text{ (n은 자연수)}$의 전개식에서 서로 다른 항의 개수 : $_{3+n-1}C_n = _{2+n}C_2$"
   ]
  },
  {
   "cell_type": "markdown",
   "metadata": {},
   "source": [
    "- 설명 : $(a+b+c)^4 = (a+b+c)(a+b+c)(a+b+c)(a+b+c)$ 이므로 $(a+b+c)^4$를 전개할 때 생기는 항은 $a^4, a^3b, a^3c, ..., c^4$와 같이 사차항이고, **이들은 $a,b,c$에서 중복을 허락하여 4개를 택하는 중복조합**과 일대일대응된다. 따라서 항의 개수는 $_{3+4-1}C_4 = _6C_4 = _6C_2=15$이다."
   ]
  },
  {
   "cell_type": "markdown",
   "metadata": {},
   "source": [
    "집합 $X=\\{1,2,3\\}$에서 집합 $Y=\\{1,2,3,4\\}$로의 함수 $f$ 중 $X$의 원소 $x_i. x_j$에 대하여  $x_i<x_j$ 이면 $f(x_i)\\leq{f(x_j)}$를 만족하는 함수 $f$의 개수 : $_{4+3-1}C_3=_6C_3$"
   ]
  },
  {
   "cell_type": "markdown",
   "metadata": {},
   "source": [
    "- 설명 : 위의 조건을 만족하는 함수 $f$는 네 개의 수 1,2,3,4에서 중복을 허락하여 3개를 택한후, 그 세수를 작은 것 부터 크기순으로 일렬로 나열하고 차례로 $f(1), f(2), f(3)$에 대응시키면 된다. 따라서 그 개수는 서로 다른 4개에서 3개를 택하는 중복조합의 수와 같다."
   ]
  },
  {
   "cell_type": "markdown",
   "metadata": {},
   "source": [
    "### 08_4. 이항정리"
   ]
  },
  {
   "cell_type": "markdown",
   "metadata": {},
   "source": [
    "$n$이 자연수일 때 아래 식이 성립하고 이를 **이항정리**하고 한다. \n",
    "$$(a+b)^n = _nC_0a^n + _nC_1a^{n-1}b + _nC_2a^{n-2}b^2 + ... + _nC_ra^{n-r}b^r + ... + _nC_nb^n = \\sum_{r=0}^n{_nC_r}a^{n-r}b^r  $$"
   ]
  },
  {
   "cell_type": "markdown",
   "metadata": {},
   "source": [
    "위의 전개식에서 각 항의 계수 $_nC_0, _nC_1, _nC_2, ..., _nC_r, ..., _nC_n$을 **이항계수**라 하고, $(r+1)$번째의 항 $_nC_ra^{n-r}b^r$을 **일반항**이라고 한다."
   ]
  },
  {
   "cell_type": "markdown",
   "metadata": {},
   "source": [
    "### 08_5. 이항정리의 성질"
   ]
  },
  {
   "cell_type": "markdown",
   "metadata": {},
   "source": [
    "$n$이 자연수일 때 $(1+x)^n = _nC_0 + _nC_1x + _nC_2x^2 + ... + _nC_n$ 이므로 다음이 성립한다.\n",
    "\n",
    "1. $ _nC_0 + _nC_1 + _nC_2 + ... + _nC_n = 2^n $\n",
    "1. $ _nC_0 - _nC_1 + _nC_2 - _nC_3 + ... + (-1)^n{_nC_n} = 0 $\n",
    "1. $ _nC_0 + _nC_2 + _nC4 + ... = _nC_1 + _nC_2 + _nC_5 + ... = 2^{n-1} $"
   ]
  },
  {
   "cell_type": "markdown",
   "metadata": {},
   "source": [
    "- 설명1 : $(1+x)^n = _nC_0 + _nC_1x + _nC_2x^2 + ... + _nC_nx^n $의 양변에 $x=1$을 대입하면 $(1+1)^n = _nC_0 + _nC_1 + _nC_2 + ... + _nC_n = _nC_0 + _nC_1 + _nC_2 + ... + _nC_n = 2^n$"
   ]
  },
  {
   "cell_type": "markdown",
   "metadata": {},
   "source": [
    "- 설명2 : $(1+x)^n = _nC_0 + _nC_1 x + _nC_2 x^2 + ... + _nC_n x^n $의 양변에 $x=-1$을 대입하면 $(1-1)^n = _nC_0 - _nC_1 + _nC_2 - _nC_3 + ... +(-1)^n{_nC_n} \\,=\\, _nC_0 - _nC_1 + _nC_2 - _nC_3 + ... + (-1)^n {_nC_n}$"
   ]
  },
  {
   "cell_type": "markdown",
   "metadata": {},
   "source": [
    "- 설명3 : 설명2에서 $_nC_0 + _nC_2 + _nC_4 + ... = _nC_1 + _nC_3 + _nC_5 + ...$ 이고 설명1에서 $(_nC_0 + _nC_2 + _nC_4 + ...) + (_nC_1 + _nC_3 + _nC_5 + ...) = 2^n$ 이므로 $_nC_0 + _nC_2 + _nC_4 + ... = _nC_1 + _nC_3 + _nC_5 + ... = \\frac{1}{2} 2^n = 2^{n-1} $이다."
   ]
  },
  {
   "cell_type": "markdown",
   "metadata": {},
   "source": [
    "- 예: $(a+b)^5$의 전개식에서 이항계수는 차례로 $_5C_0,\\ _5C_1,\\ _5C_2,\\ _5C_3\\, _5C_4,\\ _5C_5$이고 이들의 값은 각각 1, 5, 1, 10, 5, 1이다.\n",
    "\n",
    "    1. $_5C_0 + _5C_1 + _5C_2 + _5C_3 + _5C_4 + _5C_5 = 1 + 5 + 10 + 10 + 5 + 1 = 32 = 2^5$\n",
    "    1. $_5C_0 - _5C_1 + _5C_2 - _5C_3 + _5C_4 - _5C_5 = 1 - 5 + 10 - 10 + 5 - 1 = 0$\n",
    "    1. $\\begin{matrix} _5C_0 + _5C_2 + _5C_4  = 1 + 10 + 5 = 16 = 2^{5-1} \\\\ _5C_1 + _5C_3 + _5C_5 = 5 + 10 + 1 = 16 = 2^{5-1} \\end{matrix} $"
   ]
  },
  {
   "cell_type": "markdown",
   "metadata": {},
   "source": [
    "---"
   ]
  },
  {
   "cell_type": "markdown",
   "metadata": {},
   "source": [
    "## 09. 확률"
   ]
  },
  {
   "cell_type": "markdown",
   "metadata": {},
   "source": [
    "### 09_1. 시행과 사건"
   ]
  },
  {
   "cell_type": "markdown",
   "metadata": {},
   "source": [
    "**시행** : 같은 조건 아래에서 반복할 수 있고 그 결과가 우연에 의해서 결정되는 실험이나 관찰을 시행이라고 한다.\n",
    "\n",
    "**표본공간** : 어떤 시행에서 나올 수 있는 모든 결과의 집합을 말하며 표본공간의 부분집합을 사건이라고 한다.\n",
    "\n",
    "**합사건, 곱사건** : 표본공간 S의 두 사건 A, B에 대하여 **A 또는 B가 일어나는 시건을 A와 B의 합사건**, **A와 B가 동시에 일어나는 사건을 A와 B의 곱사건**이라고 한다. 각각 기호로 **$A\\cup B, \\, A\\cap B $**라고 표시한다.\n",
    "\n",
    "**배반사건** : 두 사건이 동시에 일어나지 않을 때, 즉 $A\\cap B = \\varnothing $일 때, A와 B를 배반사건이라고 한다.\n",
    "\n",
    "**여사건** : 사건 A가 일어나지 않을 사건을 A의 여사건이라고 하고 기호로 $A^c$라고 표시한다."
   ]
  },
  {
   "cell_type": "markdown",
   "metadata": {},
   "source": [
    "예 : 한 개의 주사위를 던지는 시행에서 짝수의 눈이 나오는 사건을 A, 홀수의 눈이 나올 확률을 B라고 하면 $A\\cap B = \\varnothing$이므로 두 사건 A, B는 서로 배반사건이고 사건 A의 여사건 $A^c$는 B이다."
   ]
  },
  {
   "cell_type": "markdown",
   "metadata": {},
   "source": [
    "### 09_2. 확률의 뜻"
   ]
  },
  {
   "cell_type": "markdown",
   "metadata": {},
   "source": [
    "**수학적 확률** : 표본공간 S의 원소의 개수가 m이고, 각 원소가 선택될 가능성이 같은 정도로 기대될 때, 사건 A의 원소의 개수가 r이면 **사건 A가 일어날 확률은 다음과 같고 이와 같이 정의한 확률을 수학적 확률이라고 한다.**\n",
    "\n",
    "$$ P(A) = \\frac{n(A)}{n(S)} = \\frac{r}{m} $$"
   ]
  },
  {
   "cell_type": "markdown",
   "metadata": {},
   "source": [
    "- 예 : 주사위를 한 번 던져 나온 눈이 소수인 사건을 A라 할 때, 표본공간 S는 $S=\\{1,2,3,4,5,6\\}$이고 사건 A를 나타내는 부분집합은 $A=\\{2,3,5\\}$이므로 사건 A가 일어날 확률은 $\\frac{3}{6} = \\frac{1}{2}$이다."
   ]
  },
  {
   "cell_type": "markdown",
   "metadata": {},
   "source": [
    "**통계적 확률** : 같은 시행을 n번 반복하여 사건 A가 일어나는 횟수를 $r_n$이라고 할 때, n이 한없이 커짐에 따라 상대도수 $\\frac{r_n}{n}$은 일정한 값 p에 한없이 가까워진다. 이 일정한 값 p를 사건 A의 통계적 확률이라고 한다."
   ]
  },
  {
   "cell_type": "markdown",
   "metadata": {},
   "source": [
    "### 09_3. 조건부확률"
   ]
  },
  {
   "cell_type": "markdown",
   "metadata": {},
   "source": [
    "**조건부확률** : 사건 A가 일어났을 때 사건 B의 조건부 확률은 다음과 같다. \n",
    "\n",
    "$$ P(B|A) = \\frac{P(A\\cap{B})}{P(A)} \\text{ (단, P(A)>0)} $$"
   ]
  },
  {
   "cell_type": "markdown",
   "metadata": {},
   "source": [
    "- 설명 : 일반적으로 표본공간 S와 두 사건 A, B(A≠Φ)에 대하여 다음과 같다.<br><br>\n",
    "$$P(B|A) = \\frac{n(A\\cap{B})}{n(A)} \\ \\frac{n(A\\cap{B})/n(S)}{n(A)/n(S)} = \\frac{P(A\\cap{B})}{P(A)} $$\n",
    "\n",
    "이것이 의미하는 바는 표본공간이 전체집합 S에서 사건 A를 나타내는 부분집합으로 바뀌었다는 것을 의미한다. 즉 부분집합 A가 새로운 표본공간이고 사건 B는 집합 A내에서 일어나는 사건 B만을 의미하므로 사건 $A\\cap{B}$이다."
   ]
  },
  {
   "cell_type": "markdown",
   "metadata": {},
   "source": [
    "**확률의 곱셈정리** : 두 사건 A, B에 대하여 아래가 성립한다.\n",
    "\n",
    "$$ \\begin{matrix} P(A\\cap{B}) = P(A)P(B|A) (단, P(A)>0) \\\\ P(A\\cup{B}) = P(B)P(A|B) (단, P(B)>0) \\end{matrix} $$"
   ]
  },
  {
   "cell_type": "markdown",
   "metadata": {},
   "source": [
    "### 09_4 사건의 독립과 종속"
   ]
  },
  {
   "cell_type": "markdown",
   "metadata": {},
   "source": [
    "**독립** : 두 사건 A, B에 대하여 사건 A가 일어나는 것이 사건 B가 일어날 확률에 **영향을 미치지 않을 때**, 사건 A와 사건 B는 서로 독립이다. 즉 $ P(B|A)=P(B) 또는 P(A|B)=P(A)$이면 두 사건 A, B는 독립니다.\n",
    "\n",
    "\n",
    "**종속** : 두 사건이 독립이 아닐 때 두 사건은 서로 종속이라고 한다. 따러서 $P(B|A)≠P(B)$이고 $P(A|B)≠P(A)$이다."
   ]
  },
  {
   "cell_type": "markdown",
   "metadata": {},
   "source": [
    "- 설명 : **이것은 배반사건과 다른 것임을 주의한다.** 곱사건이 공사건인 경우에 배반사건이지만 두 사건 A, B가 서로 독립인 경우는 표본공간 S에서 사건 B가 일어날 확률과 S의 부분집합 A가 표본공간일 때, A와 B의 곱사건 $A\\cap{B}$가 일어날 확률이 같다는 것이다."
   ]
  },
  {
   "cell_type": "markdown",
   "metadata": {},
   "source": [
    "- 예 : 주사위를 한 번 던지는 시행에서 3의 배수의 눈이 나오는 사건 A와 짝수의 눈이 나오는 사건 B가 서로 독립이라는 의미는 사건 A가 일어날 확률 P(A)=2/6 = 1/3과 사건 B가 일어났을 때 사건 A가 일어날 확률 P(A|B)=1/3이 서로 같은 값은 값을 갖는다는 의미이다."
   ]
  },
  {
   "cell_type": "markdown",
   "metadata": {},
   "source": [
    "공사건이 아닌 두 사건 A, B가 서로 독립이기 위한 필요충분조건은 $P(A\\cap{B})=P(A)P(B)$이다.\n",
    "\n",
    "- $P(A\\cap{B})=P(A)P(B)$ 이면 $P(A^C\\cap{B}) = P(A^C)P(B)$, $P(A\\cap{B^C})=P(A)P(B^C)$, $P(A^C\\cap{B^C})=P(A^C)P(B^C)$이 성립한다. 즉 여사건도 서로 독립사건이 된다."
   ]
  },
  {
   "cell_type": "markdown",
   "metadata": {},
   "source": [
    "### 09_5. 독립시행의 확률"
   ]
  },
  {
   "cell_type": "markdown",
   "metadata": {},
   "source": [
    "**독립시행** : 주사위나 동전을 던지는 시행과 같이 **어떤 시행을 반복하는 경우 매 시행마다 일어나는 사건이 서로 독립일 때**, 이러한 시행을 독립시행이라고 한다. "
   ]
  },
  {
   "cell_type": "markdown",
   "metadata": {},
   "source": [
    "**독립시행의 확률** : 1회의 시행에서 사건 A가 일어날 확률이 p인 독립시행을 n회 반복할 때, 사건 A가 일어날 확률은 아래와 같다.<br><br>\n",
    "$$ _nC_r P^r(1-p)^{n-r} \\text{ (단, r=0,1,2,...,n) } $$"
   ]
  },
  {
   "cell_type": "markdown",
   "metadata": {},
   "source": [
    "---"
   ]
  },
  {
   "cell_type": "markdown",
   "metadata": {},
   "source": [
    "## 10. 이산확률분포\n"
   ]
  },
  {
   "cell_type": "markdown",
   "metadata": {},
   "source": [
    "### 10_1. 확률변수와 이산확률변수"
   ]
  },
  {
   "cell_type": "markdown",
   "metadata": {},
   "source": [
    "**확률변수** : 어떤 시행에서 **표본공간의 각 원소에 하나의 실수 값을 대응**시키는 것을 확률변수라고 한다.\n",
    "\n",
    "**이산확률변수** : **확률변수 X가 가지는 값이 유한개이거나 자연수와 같이 셀 수 있을 때**, X를 이산확률변수라고 한다.\n",
    "- 확률변수는 표본공간을 정의역으로 하고, 실주의 집합을 공역으로 갖는 함수이다."
   ]
  },
  {
   "cell_type": "markdown",
   "metadata": {},
   "source": [
    "### 10_2. 이산확률변수의 확률분포"
   ]
  },
  {
   "cell_type": "markdown",
   "metadata": {},
   "source": [
    "(1) 이산확률변수 X가 가질 수 있는 모든 값 $x_1, x_2, x_3, ..., x_n$과 그 값을 가질 때의 **각각의 확률 $p_1, p_2, p_3, ..., p_n$의 대응 관계**를 이산확률변수 X의 확률분포라고 한다.\n",
    "\n",
    "(2) 이산확률변수 X의 확률분포를 나타내는 함수 **$P(X=x_i) = p_i(i=1,2,3,...,n)$를 이산확률변수 x의 확률질량함수** 라고한다. 이때, 이산확률변수 x의 확률분포는 표 또는 그래프로 나타낸다."
   ]
  },
  {
   "cell_type": "markdown",
   "metadata": {},
   "source": [
    "| X | $X_1$ | $X_2$ | $X_3$ | .... | $X_n$ | 합계 |\n",
    "| :---: | :---: | :---: | :---: | :---: | :---: | :---: |\n",
    "| $P(X=x_i)$ | $p_1$ | $p_2$ | $p_3$ | ... | $p_n$ | 1 |"
   ]
  },
  {
   "cell_type": "markdown",
   "metadata": {},
   "source": [
    "- 예 : 두 개의 동전을 동시에 던지는 시행에서 앞면을 H, 뒷면을 T라 하면 표본공간 S는 S={HH, HT, TH, TT} 이므로 앞면이 나오는 횟수를 X라 하면 S의 각 원소 HH, HT, TH, TT에 대응하는 X의 값은 각각 2, 1, 1, 0이다. 따라서 X가 가질 수 있는 값은 0,1,2이고 그 확률은 각각 1/4, 1/2, 1/4이므로 x의 확률분포를 나타내는 표는 아래와 같다."
   ]
  },
  {
   "cell_type": "markdown",
   "metadata": {},
   "source": [
    "| X | 0 | 1 | 2| 합계 |\n",
    "|---|---|---|---|---|\n",
    "| $P(X=x)$ | 1/4 | 1/2 | 1/4 | 1 |"
   ]
  },
  {
   "cell_type": "markdown",
   "metadata": {},
   "source": [
    "### 10_3 확률질량함수의 성질"
   ]
  },
  {
   "cell_type": "markdown",
   "metadata": {},
   "source": [
    "이산확률변수 X의 확률질량함수가 $P(X=x_i)=p_i (i=1,2,3,...,n)$일 때, 확률의 기본성질에 의하여 다음이 성립한다.\n",
    "\n",
    "1. $ 0 \\leq{P_i}\\leq{1} \\text{ (i=1,2,3,...,n)} $\n",
    "1. $ P(X=X_i) = \\sum_{i=1}^n p_i = 1 $\n",
    "1. $ P(X=x_i \\text{ 또는 } X=x_j) = P(X=x_i) + P(X=x_j) = p_i + p_j \\text{ (단, i≠j)} $\n",
    "1. $ P(x_i\\leq{X}\\leq{x_j}) = P(X=x_i) + P(X=x_{i+1}) + P(X=x_{i+2}) + ... P(X=x_j) = p_i + p_{i+1} + p_{i+2} + p_{i+3} + ... + p_j = \\sum_{k=1}^{j} p_k \\text{ (단, i,j = 1,2,3,..., n이고 i≤j)} $\n"
   ]
  },
  {
   "cell_type": "markdown",
   "metadata": {},
   "source": [
    "### 10_4. 이산확률변수의 기댓값(평균)과 분산 및 표준편차"
   ]
  },
  {
   "cell_type": "markdown",
   "metadata": {},
   "source": [
    "이산확률변수 X의 확률질량함수가  $P(X=x_i) = p_i \\text{ (i=1,2,3,...,n)}$ 일 때\n",
    "\n",
    "1. **기댓값(평균)** : \n",
    "$$ E(X) = x_1p_1 + x_2p_2 + x_3p_3 + ... + x_np_n = \\sum_{i=1}^n x_ip_i $$<br>\n",
    "\n",
    "2. **분산** : $E(X)=m$이라고 하면 **$(X-m)^2$의 기댓값(평균)을 확률변수 X의 분산** 이라고 하고 기호로 다음과 같이 나타낸다.\n",
    "$$ V(X) = E((X-m)^2) = \\sum_{i=1}^n (x_i - m)^2 p_i $$ <br>\n",
    "\n",
    "3. **표준편차** : \n",
    "$$ \\delta{(X)} = \\sqrt{V(X)} $$"
   ]
  },
  {
   "cell_type": "markdown",
   "metadata": {},
   "source": [
    "- 참고 : $ V(X) = \\sum_{i=1}^n (x_i-m)^2p_i = \\sum_{i=1}^n x_i^2p_i - 2m\\sum_{i=1}^nx_ip_i + m^2\\sum_{i=1}^np_i = \\sum_{i=1}^n x_i^2p_i - 2m^2 + m^2 = \\sum_{i=1}^n x_i^2p_i - m^2 = E(X^2) - \\{E(x)^2\\} $ "
   ]
  },
  {
   "cell_type": "markdown",
   "metadata": {},
   "source": [
    "### 10_5. 확률변수 aX+b의 평균과 분산 및 표준편차"
   ]
  },
  {
   "cell_type": "markdown",
   "metadata": {},
   "source": [
    "확률변수 X와 두 상수 a, b에 대하여 확률변수 aX+b의 평균과 분산 및 표준편차는 다음과 같다.\n",
    "\n",
    "$$E(aX+b) = aE(X)+b, \\quad V(aX+b) = a^2V(X), \\quad \\delta(aX+b) = |a|\\delta(x) $$\n",
    " "
   ]
  },
  {
   "cell_type": "markdown",
   "metadata": {},
   "source": [
    "### 10_6. 이항분포"
   ]
  },
  {
   "cell_type": "markdown",
   "metadata": {},
   "source": [
    "한 번의 시행에서 사건 A가 일어날 확률이 p일 때, **n회의 독립시행에서 사건 A가 일어날 횟수를 확률변수 X라 하면 X의 확률질량함수**는 아래와 같다.\n",
    "\n",
    "$$ P(X=x) = _nC_x p^xq^{n-x} \\text{ (q=1-p, x=0,1,2,...,n) } $$\n",
    "<br>\n",
    "\n",
    "| x | 0 | 1 | 2 | ... | k | ... | n | 합계|\n",
    "|---|---|---|---|---|---|---|---|---|\n",
    "|$P(X=x)$ | $_nC_0p^0q^n$ | $_nC_1p^1q^{n-1}$ | $_nC_2p^2q^{n-2}$ | ... | $_nC_kp^kq^{n-k}$ | ... | $_nC_np^nq^{0}$ | 1 |"
   ]
  },
  {
   "cell_type": "markdown",
   "metadata": {},
   "source": [
    "### 10_7 이항분포의 평균과 표준편차"
   ]
  },
  {
   "cell_type": "markdown",
   "metadata": {},
   "source": [
    "확률변수 X가 이항분포 $B(n,p)$를 따를 때 아래가 성립한다.\n",
    "\n",
    "$$ E(X) = np, \\quad V(X) = npq \\text{ (단, q=1-p)}, \\quad \\delta(X) = \\sqrt{npq} \\text{ (단, q=1-p)} $$"
   ]
  },
  {
   "cell_type": "markdown",
   "metadata": {},
   "source": [
    "----"
   ]
  },
  {
   "cell_type": "markdown",
   "metadata": {},
   "source": [
    "## 11. 연속확률 분포\n"
   ]
  },
  {
   "cell_type": "markdown",
   "metadata": {},
   "source": [
    "**연속확률변수** : 확률변수 X가 어떤 구간에 속하는 모든 실수값을 가질 때, X를 연속확률분포라고 한다.\n",
    "\n",
    "**연속밀도함수** : 닫친 구간 $[\\alpha, \\beta]$에 속하는 임의의 실수 값을 가지는 확률변수 X에 대하여 함수 $f(x)$가 닫친 구간 $[\\alpha, \\beta]$에서 다음 3가지 조건을 만족시킬 때, **함수 $f(x)$를 확률변수 X의 확률밀도함수라고 한다.**\n",
    "\n",
    "$$ 1. f(x) \\geq{0}, \\quad 2. \\int_a^b f(x)dx = 1$$\n",
    "\n",
    "$$ \\quad \\text{X가 닫친 구간 [a,b]에 속할 확률} = P(a\\leq{X}\\leq{b}) = \\int_{a}^{b} f(x)dx \\, (단, \\alpha\\leq{a}\\leq{b}\\leq{\\beta})  $$"
   ]
  },
  {
   "cell_type": "markdown",
   "metadata": {},
   "source": [
    "- 참고\n",
    "    1. 연속확률변수의 길이, 무게, 시간 등과 같이 어떤 구간에서 연속적인 값을 가진다.\n",
    "    1. 연속확률변수 X가 하나의 값을 가질 확률은 0이다. 즉 $P(X=x_i)=0$이다.\n",
    "    \n",
    "    $$ P(x_1\\leq{X}\\leq{x_2}) = P(x_1<{X}\\leq{x_2}) = P(x_1\\leq{X}<{x_2}) = P(x_1<{X}<{x_2}) $$\n"
   ]
  },
  {
   "cell_type": "markdown",
   "metadata": {},
   "source": [
    "- 예 : 확률변수 X의 확률밀도함수 $f(x)$가 $f(x) = \\frac{1}{2}(x+1) \\text{ (-1≤x≤1)}$ 이라 하면 \n",
    "$$ P(X\\geq{0}) = \\int_0^1 f(x)dx = \\int_0^1 \\frac{1}{2} (x+1)dx = \\frac{1}{2} [\\frac{1}{2}x^2+x]_0^1 = \\frac{3}{4} $$"
   ]
  },
  {
   "cell_type": "code",
   "execution_count": null,
   "metadata": {},
   "outputs": [],
   "source": [
    "\n"
   ]
  },
  {
   "cell_type": "markdown",
   "metadata": {},
   "source": []
  },
  {
   "cell_type": "markdown",
   "metadata": {},
   "source": []
  },
  {
   "cell_type": "markdown",
   "metadata": {},
   "source": []
  },
  {
   "cell_type": "markdown",
   "metadata": {},
   "source": [
    "## 12. 통계적 추정"
   ]
  },
  {
   "cell_type": "markdown",
   "metadata": {},
   "source": [
    "----"
   ]
  },
  {
   "cell_type": "code",
   "execution_count": 1,
   "metadata": {},
   "outputs": [
    {
     "data": {
      "text/html": [
       "<style>table{width:90%;}</style>"
      ],
      "text/plain": [
       "<IPython.core.display.HTML object>"
      ]
     },
     "execution_count": 1,
     "metadata": {},
     "output_type": "execute_result"
    }
   ],
   "source": [
    "from IPython.display import HTML\n",
    "CSS =\"\"\"<style>table{width:90%;}</style>\"\"\"; HTML(CSS)"
   ]
  },
  {
   "cell_type": "markdown",
   "metadata": {},
   "source": [
    "----"
   ]
  }
 ],
 "metadata": {
  "kernelspec": {
   "display_name": "Python 3",
   "language": "python",
   "name": "python3"
  },
  "language_info": {
   "codemirror_mode": {
    "name": "ipython",
    "version": 3
   },
   "file_extension": ".py",
   "mimetype": "text/x-python",
   "name": "python",
   "nbconvert_exporter": "python",
   "pygments_lexer": "ipython3",
   "version": "3.6.5"
  }
 },
 "nbformat": 4,
 "nbformat_minor": 2
}
