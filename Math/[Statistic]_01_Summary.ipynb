{
 "cells": [
  {
   "cell_type": "markdown",
   "metadata": {},
   "source": [
    "# 미적분과 통계기본\n",
    "\n",
    "수능특강"
   ]
  },
  {
   "cell_type": "markdown",
   "metadata": {},
   "source": [
    "----"
   ]
  },
  {
   "cell_type": "markdown",
   "metadata": {},
   "source": [
    "Latex : https://oeis.org/wiki/List_of_LaTeX_mathematical_symbols\n"
   ]
  },
  {
   "cell_type": "markdown",
   "metadata": {},
   "source": [
    "----"
   ]
  },
  {
   "cell_type": "markdown",
   "metadata": {},
   "source": [
    "## 01. 함수의 극한"
   ]
  },
  {
   "cell_type": "markdown",
   "metadata": {},
   "source": [
    "\n",
    "### 1_1. 함수의 극한\n",
    "\n",
    "함수 $y=f(x)$에서 $x\\ne{a}$이면서 $x$의 값이 $a$에 한없이 가까워질 때, $f(x)$의 값이 일정한 값 $a$에 한없이 가까워지면 **함수 $f(X)$sms $a$에 수렴한다**라고 한다. $a$를 $x$의 값이 $a$에 가까워질 때 **$f(x)$의 극한값 또는 극한**이라고 한다. \n",
    "\n",
    "- 기호로는 $x \\longrightarrow a$ 일 때 $ f(x) \\longrightarrow \\lim\\limits_{x\\to{a}}f(x) = 5 $\n"
   ]
  },
  {
   "cell_type": "markdown",
   "metadata": {},
   "source": [
    "### 1_2. 우극한과 좌극한\n",
    "\n",
    "함수 $f(x)$에서 $x$ 값이 $a$ 보다 크면서 $a$에 한없이 가까워지는 것을 $ x \\longrightarrow a+0 $이라고 한다.\n",
    "\n",
    "$ x \\longrightarrow a+0 $ 일 때 $ f(x) $의 값이 일정한 값 $a$에 한없이 가까워지면 **$a$를 $x=a$에서의 우극한**이라고 한다.\n",
    "\n",
    "- 기호로 $ \\lim\\limits_{x\\to{a+0}}f(x)=a $\n",
    "- 좌극한은 우극한에서 $a$보다 작으면서 한없이 가까워 지는 경우\n"
   ]
  },
  {
   "cell_type": "markdown",
   "metadata": {},
   "source": [
    "\n",
    "## 02. 함수의 연속"
   ]
  },
  {
   "cell_type": "markdown",
   "metadata": {},
   "source": [
    "### 2_1. 연속과 불연속\n",
    "\n",
    "함수 $f(x)$가 $a$에 대하여 다음의 조선을 만족하면 **함수$f(x)$는 $x=a$에서 연속이다**라고 한다.\n",
    "1. $x=a$에서 함수값 $f(a)$가 존재\n",
    "1. 극한값 $\\lim_{x\\to{a}}f(x)$가 존재\n",
    "1. $\\lim_{x\\to{a}}f(x) = f(a)$"
   ]
  },
  {
   "cell_type": "markdown",
   "metadata": {},
   "source": [
    "### 2_2. 구간\n",
    "\n",
    "$a\\leq b$인 두 실수 $ a, b $에 대하여 실수의 집합 $\\{ x|a\\leq{x}\\leq{b}\\}$, $\\{ x|a<x<b\\}$, $\\{ x|a\\leq{x}<{b}\\}$, $\\{ x|a<{x}\\leq{b}\\}$를 **구간**이라고 한다.**[$a,b$]fmf 닫힌구간**, **($a,b$)를 열린구간**, **[$a,b$), ($a,b$]를 반닫힌구간 또는 반열린구간**이라고한다.\n",
    "\n",
    "- $\\{ x|a\\leq{x}\\leq{b}\\}$ = [$a,b$]\n",
    "- $\\{ x|a<x<b\\}$ = ($a,b$)\n",
    "- $\\{ x|a\\leq{x}<{b}\\}$ = [$a,b$)\n",
    "- $\\{ x|a<{x}\\leq{b}\\}$ = ($a,b$]"
   ]
  },
  {
   "cell_type": "markdown",
   "metadata": {},
   "source": [
    "----"
   ]
  },
  {
   "cell_type": "markdown",
   "metadata": {},
   "source": [
    "## 03. 미분계수와 도함수"
   ]
  },
  {
   "cell_type": "markdown",
   "metadata": {},
   "source": [
    "### 1. 평균변화율\n",
    "\n",
    "함수 $y=f(x)$ 에서 $x$의 값이 $a$에서 $b$까지 변할 때, $y$의 값은 $f(a)$에서 $f(b)$까지 변한다. $x$값의 변화량에 대한 $y$값의 변화량의 비율은 아래와 같다.함수 **$f(x)$에 대하여 $x$의 값이 $a$에서 $b$까지 변할 때의 평균변화율이라고 한다.**\n",
    "\n",
    "$$ \\frac{\\Delta{y}}{\\Delta{x}} = \\frac{f(b)-f(a)}{b-a} = \\frac{f(a + \\Delta{x})-f(a)}{\\Delta{x}} $$\n"
   ]
  },
  {
   "cell_type": "markdown",
   "metadata": {},
   "source": [
    "### 2. 미분계수\n",
    "\n",
    "함수$y=f(x)$에서 $x$의 값이 $a$에서 $a+\\Delta{x}$까지 변하고, $\\Delta{x}\\longrightarrow{0}$일 때 평균변화율의 극한값이 존재하면 이 값을 **$y=f(x)$의 $x=a$에서의 미분계수 또는 순간변화율**이라고 한다. \n",
    "- 기호로는 $f'(a)$와 같이 나타냄\n",
    "\n",
    "$$ \\text{평균변화율의 극한값 = } \\ \\lim\\limits_{x\\to{a}} \\frac{\\Delta{y}}{\\Delta{x}} = \\lim\\limits_{x\\to{a}}\\frac{f(a + \\Delta{x})-f(a)}{\\Delta{x}}  $$\n",
    "\n",
    "$$ \\text{미분계수 = } \\ f'(a) = \\lim\\limits_{x\\to{a}} \\frac{f(a + \\Delta{x}) - f(a)}{\\Delta{x}} = \\lim\\limits_{x\\to{a}}\\frac{f(x)-f(a)}{x-a} $$"
   ]
  },
  {
   "cell_type": "markdown",
   "metadata": {},
   "source": [
    "### 3. 미분계수의 기하학적 의미\n",
    "\n",
    "함수 $y=f(x)$에 대하여 $x=a$에서의 미분계수 $f'(a)$는 곡선 $y=f(x)$ 위의 점 $P(a, f(a))$에서의 **접선의 기울기**를 의미한다.\n",
    "\n",
    "- 예: 함수 $f(x)=x^2+x$에 대하여 \n",
    "$$f`(1) = \\lim\\limits_{x\\to{1}} \\frac{f(x)-f(1)}{x-1} = \\lim\\limits_{x\\to{1}} \\frac{x^2+x+2}{x-1} = \\lim\\limits_{x\\to{1}} \\frac{(x-1)(x+2)}{x-1} = 3  $$\n",
    "\n",
    "이고, 이 값은 곡선 $ y=x^2+x$ 위의 점 (1,2)에서 **접선의 기울기**와 같다.\n"
   ]
  },
  {
   "cell_type": "markdown",
   "metadata": {},
   "source": [
    "### 4. 도함수의 정의1\n",
    "\n",
    "미분가능한 함수 $f(x)$의 정의역에 속하는 모든 $x$에 대하여 미분계수 $f`(x)$를 대응시키면 새로운 함수 $f`:x\\longrightarrow{f`(x)}$를 얻을 수 있다. 이 함수를 함수 $y=f(x)$의 도함수라 하고, 기호로 \n",
    "$$ y', \\ f'(x), \\ \\frac{dy}{dx}, \\ \\frac{d}{dx}f(x) $$\n",
    "와 같이 나타낸다. 즉 아래와 같다.\n",
    "$$ f'(x) = \\lim\\limits_{h\\to{0}} \\frac{f(x+h)-f(x)}{h} $$\n"
   ]
  },
  {
   "cell_type": "markdown",
   "metadata": {},
   "source": [
    "### 5. 도함수의 정의2\n",
    "\n",
    "함수 $f(x)$의 도함수 $f`(x)$를 구하는 것을 **함수 $f(x)$를 $x$에 대하여 미분한다고 하고, 그 계산법을 미분법이라고 한다.**\n",
    "\n",
    "- 예 : 함수 $f(x)=x^3$의 도함수 $f`(x)$는 다음과 같이 구할 수 있다.\n",
    "<br><br>\n",
    "$$ f`(x)= \\lim\\limits_{x\\to{0}} \\frac{f(x+h)-f(x)}{h} = \\lim\\limits_{x\\to{0}} \\frac{(x+h)^3-x^3}{h} \n",
    "= \\lim\\limits_{x\\to{0}} \\frac{3x^2h + 3xh^2 + h^3}{h} = \\lim\\limits_{x\\to{0}}(3x^2+3xh+h^2) = 3x^2 $$\n"
   ]
  },
  {
   "cell_type": "markdown",
   "metadata": {},
   "source": [
    "----"
   ]
  },
  {
   "cell_type": "markdown",
   "metadata": {},
   "source": [
    "## 04. 도함수의 활용 1"
   ]
  },
  {
   "cell_type": "markdown",
   "metadata": {},
   "source": [
    "### 04_1. 접선의 방정식 1 : 곡선 위의 점에서의 접선의 방정식\n",
    "\n",
    "함수 $f(x)$가 미분가능할 때, 곡선 $y=f(x)$ 위의 점 $P(a, f(a))$에서 접선의 기울기는 $x=a$에서의 미분계수 $f'(x)$와 같다.\n",
    "\n",
    "그러므로 **점 $P(a, f(a))$에서의 접선의 방정식은 $y-f(a) = f'(a)(x-a)$이다.**\n",
    "\n",
    "- 접선과 수직인 방정식\n",
    "    곡선 $y=f(x)$ 위의 점 $P(a, f(a))$에서의 접선과 수직이고 점 P를 지나는 직선의 방정식은 아래와 같다.\n",
    "    $$ y-f(a) = -\\frac{1}{f'(a)}(x-a) ~~(\\text{단,}~f'(a)\\neq{0}) $$\n",
    "    \n",
    "    \n",
    "- 예 : 곡선 $y=x^3+x^2$ 위의 점$P(1,2)$에서 접선의 방정식.\n",
    "    \n",
    "    $ y'=3x^2+2x $ 이므로 기울기는 $y'_{x=1}=3+2=5$이다. 따라서 접선의 방정식은 $y-2=5x-3$이다."
   ]
  },
  {
   "cell_type": "markdown",
   "metadata": {},
   "source": [
    "### 04_2. 접선의 방정식 2 : 기울기가 주어진 접선의 방정식\n",
    "\n",
    "함수 $f(x)$가 미분가능할 때, 기울기가 $m$이고 곡선 $y=f(x)$에 접하는 직선의 방정식은 다음과 같은 순서로 구한다.\n",
    "\n",
    "1. 접점을 $(t, f(t))$으로 놓는다.\n",
    "1. t에 대한 방정식 $f'(x)=m$을 만족시키는 실수 t를 구한다.\n",
    "1. 접선의 방정식 $y-f(t)=f'(x)(x-t)$를 구한다."
   ]
  },
  {
   "cell_type": "markdown",
   "metadata": {},
   "source": [
    "- 예 : 곡선 $y=x^3$에 접하고 기울기가 3인 직선의 방정식.\n",
    "    1. 접점을 $(t, t^3)$으로 놓으면 $y'=3x^2$이므로 3t^2=3   ∴ $t=\\pm{1}$\n",
    "    1. 점 $P(-1, -1)$에서 접선의 방정석은 $ y+1 = 3(x+1) $에서 $y=3x+2$\n",
    "    1. 점 $Q(1,1)$에서 접선의 방정식은 $ y-1 = 3(x-1) $ 에서 $y=3x-2$"
   ]
  },
  {
   "cell_type": "markdown",
   "metadata": {},
   "source": [
    "### 04_3. 접선의 방정식 3 : 곡선 밖의 한 점에서 곡선에 그은 접선의 방정식 \n",
    "\n",
    "함수 $f(x)$가 미분가능할 때, 곡선 $y=f(x)$ 밖의 한 점 $(a,b)$에서 곡선 $y=f(x)$에 그은 접선의 방정식은 다음과 같은 순서로 구한다.\n",
    "\n",
    "1. 접점을 $(t, f(t))$로 놓는다.\n",
    "1. 점 $(t, f(t))$에서의 접선의 방정식 $y-f(t)=f'(t)(x-t)$ …①을 구한다.\n",
    "1. 점 $(a,b)$는 접선 위의 점이므로 $x=a, y=b$를 ①에 대입한다.\n",
    "1. $t$에 대한 방정식 $b-f(t)=f'(t)(x-t)$에서 실수 t의 값을 구한다.\n",
    "1. 접선의 방정식 $ y-f(t) = f'(t)(x-t) $를 구한다."
   ]
  },
  {
   "cell_type": "markdown",
   "metadata": {},
   "source": [
    "- 예 : 원점에서 곡선 $y=x^2+1$에 그은 접선의 방정식.\n",
    "    1. 접점을 $(t, t^2+1)$로 놓으면 $y'=2x$이므로 접선의 방정식은 $y=(t^2+1)=2t(x-t)$이다.\n",
    "    1. 접선은 원점을 지나므로 $ -(t^2+1)=2t(-t) $에서 $t^2=1$  ∴$t=\\pm{1}$ \n",
    "    1. $y-2=-2(x+1)$ 에서 $y=-2x$\n",
    "    1. $y-2=2(x-1)$ 에서 $y=2x$"
   ]
  },
  {
   "cell_type": "markdown",
   "metadata": {},
   "source": [
    "### 04_4. 접선의 방정식 4: 두 곡선에 접하는 직선의 방정식\n",
    "\n",
    "두 함수 $f(x), g(x)$가 미분가능할 때, 두 곡선 $y=f(x), y=g(x)$에 접하는 직선의 방정식은 다음과 같은 방법으로 구한다.\n",
    "\n",
    "1. 접점이 서로 같은 경우\n",
    "    \n",
    "    두 곡선 $y=f(x), y=g(x)$가 한 점 $P$에서 만나므로 점 $P$의 $x$좌표를 $t$라고 하면 $x=t$에서 함숫값이 서로 같다. 또한, 점 P에서의 접선은 같은 직선이므로 $x=t$에서의 미분계수도 서로 같다. 즉 다음 등식이 성립한다.\n",
    "    \n",
    "    $$ f(t) = g(t),\\quad f'(t)=g'(t) $$\n",
    "     \n",
    "1. 접점이 서로 다른 경우 \n",
    "\n",
    "    두 곡선 $y=f(x), y=g(x)$의 접점을 각각 $P(\\alpha,f(\\alpha)), Q(\\beta, g(\\beta))$로 놓으며 두 점 $P,Q$에서의 접선은 같은 직선이다. 점 $P$에서의 접선은 $y=f'(\\alpha)(x-\\alpha)+f(\\alpha)$ 이고, 점 $Q$에서의 접선은 $y=g'(\\beta)(x-\\beta)+f(\\beta)$이므로 다음 등식이 성립한다.\n",
    "    \n",
    "    $$ f'(\\alpha)=g'(\\beta),\\quad -af'(\\alpha)+f(\\alpha) = -af'(\\beta)+f(\\beta) $$\n",
    "    "
   ]
  },
  {
   "cell_type": "markdown",
   "metadata": {},
   "source": [
    "---"
   ]
  },
  {
   "cell_type": "markdown",
   "metadata": {},
   "source": [
    "## 05. 도함수의 활용 2\n"
   ]
  },
  {
   "cell_type": "markdown",
   "metadata": {},
   "source": [
    "### 05_1. 함수의 그래프\n",
    "\n",
    "함수 $y=f(x)$의 그래프는 증가와 감소, 극대와 극소,좌표측과의 교점을 이용하면 그 개형을 쉽게 그릴 수 있다. 함수의 증가와 감소는 표로 나타내면 편리하다.\n",
    "\n",
    "\n"
   ]
  },
  {
   "cell_type": "markdown",
   "metadata": {},
   "source": [
    "- 예 : 함수 $f(x)=x^3-3x^2+1$의 증가와 감소를 표로 나타내어 보자. $f'(x)=3x^2-6x$이므로 $f'(x)=0$ 에서 $x=0$또는 $x=2$\n",
    "\n",
    "\n",
    "| x &emsp;&emsp;  | ...  | 0  | ... | 2  | ...\n",
    "| ---- | ---- | ---- | ---- | ---- | ---- |\n",
    "| $f'(x)$ | + | 0 | - | 0 | + \n",
    "| $f(x)$ | ↗ | 1 | ↘ | -3 | ↗\n"
   ]
  },
  {
   "cell_type": "markdown",
   "metadata": {},
   "source": [
    "### 05_2. 방정식의 실근의 개수\n",
    "\n",
    "함수의 그래프를 이용하여 방정식의 실근의 개수를 구할 수 있다. \n",
    "\n",
    "1. 방정식 $f(x)=0$의 실근은 함수 $y=f(x)$의 그래프와 $x$축의 교점의 $x$좌표이다.\n",
    "1. 방정식 $f(x)=g(x)$의 실근은 두 함수 $y=f(x), y=g(x)$의 그래프의 교점의 $x$좌표이다."
   ]
  },
  {
   "cell_type": "markdown",
   "metadata": {},
   "source": [
    "### 05_3. 모든 실수에 대하여 성립하는 부등식\n",
    "\n",
    "1. 모든 실수 $x$에 대하여 부등식 $f(x)\\geq{0}$이 성립함을 보일 때는 함수 $f(x)$의 최솟값을 구하여 $\\text{최솟값}\\geq{0}$임을 보인다.\n",
    "\n",
    "1. 모든 실수 $x$에 대하여 부등식 $f(x)\\geq{k}\\ \\text{(k는 상수)}$가 성립함을 보일 때는 다음과 같은 방법을 사용한다.\n",
    "    \n",
    "    1. 함수 $y=f(x)$의 그래프가 직선 $y=k$에 접하거나 위에 있음을 보인다.\n",
    "    1. 함수 $y=f(x)-k$의 최솟값을 구하여 $\\text{최솟값}\\geq{0}$임을 보인다."
   ]
  },
  {
   "cell_type": "markdown",
   "metadata": {},
   "source": [
    "### 05_4. 속도와 가속도\n",
    "\n",
    "수직선 위를 움직이는 점 $P$의 위치 $x$가 시각 $t$의 함수 $x=f(t)$로 나타내어질 때, 시각 $t$에서의 점 P의 속도, 가속도, 속력은 다음과 같다.\n",
    "\n",
    "\n",
    "속도 |  가속도  |  속력\n",
    "---- | -----    | ----- \n",
    "$$ v(t) = \\frac{dx}{dt} = f'(t) $$ | $$ a(t)=\\frac{dv}{dt}=v'(t) $$  | $$ |v(t)|=|f'(t)| $$\n",
    "\n"
   ]
  },
  {
   "cell_type": "markdown",
   "metadata": {},
   "source": [
    "- 참고\n",
    "    \n",
    "    $t$에서 시각 $t+\\Delta{t}$까지의 점 $P$의 위치의 변화량 $\\Delta{x}$는 $\\Delta{x}=f(t+\\Delta{t})-f(t)$이다. 이때, 시각 $t$에서 시각 $t+\\Delta{t}$까지의 점 $P$의 평균속도는 아래와 같다.\n",
    "    \n",
    "    $$ \\frac{\\Delta{x}}{\\Delta{t}} = \\frac{f(t+\\Delta{t})-f(t)}{\\Delta{t}} $$\n",
    "    \n",
    "    이것은 **함수 $x=f(x)$의 평균변화율이다.** 또, 시각 $t$에서의 **위치 $x$의 순간변화율은 시각 $t$에서의 점 $P$의 순간 속도 또는 속도라고 한다.**\n"
   ]
  },
  {
   "cell_type": "markdown",
   "metadata": {},
   "source": [
    "- 예\n",
    "    수직선 위를 움직이는 점 $P$의 시각 $t$에서의 위치가 $x=t^3-t^2+2t$일 때, 속도 $v(t)=3t^2-2t+2$이고, 가속도 $a(t)=6t-2$ 이다."
   ]
  },
  {
   "cell_type": "markdown",
   "metadata": {},
   "source": [
    "---"
   ]
  },
  {
   "cell_type": "markdown",
   "metadata": {},
   "source": [
    "## 06. 부정적분과 정적분\n"
   ]
  },
  {
   "cell_type": "markdown",
   "metadata": {},
   "source": [
    "### 06_1. 부정적분의 뜻\n",
    "\n",
    "함수 $F(x)$의 도함수가 $f(x)$일 때, 즉 $F'(x)=f(x)$일 때, **$F(x)$를 $f(x)$의 원시함수 또는 부정적분**이라 하고, $f(x)$의 부정적분을 구하는 것을 $f(x)$를 **적분한다고 한다.**\n"
   ]
  },
  {
   "cell_type": "markdown",
   "metadata": {},
   "source": [
    "- 표현\n",
    "\n",
    "    함수 $f(x)$의 부정적분이 $F(x)$일 때, 함수 $f(x)$의 임의의 부정적분은 $F(x)+C(\\ \\text{C는 상수})$의 꼴로 나타내어지는데 이것을 기호로 $ \\int{f(x)dx} $으로 표시한다. 이때, **f(x)를 피적분함수, C를 적분상수**라고 한다.\n",
    "    \n",
    "    **$$ F'(x)=f(x) \\Leftarrow\\Rightarrow \\int{f(x)dx} = F(x)+C \\text{ (C는 상수)} $$**"
   ]
  },
  {
   "cell_type": "markdown",
   "metadata": {},
   "source": [
    "### 06_2. 부정적분과 미분의 관계\n",
    "$$\\frac{d}{dx}{\\int{f(x)dx}} = f(x) \\quad \\int{\\{\\frac{d}{dx}f(x)\\}}dx=f(x)\\text{ (단, C는 적분상수)}$$"
   ]
  },
  {
   "cell_type": "markdown",
   "metadata": {},
   "source": [
    "- 예\n",
    "$$ \\frac{d}{dx} \\{ \\int{(x^2+x)dx} \\} = x^2+x \\text{    이고    }  \\int{ \\{ \\frac{d}{dx}(x^2+x) \\} }dx = x^2+x+C \\text{ (C는 적분상수) 이다.} $$"
   ]
  },
  {
   "cell_type": "markdown",
   "metadata": {},
   "source": [
    "- 설명\n",
    "\n",
    "    1. $ F'(x) = f(x) $라고 하면 $ \\int{ f(x)dx } = F(x) + C \\text{ (C는 적분상수)} $  이므로 <br><br>\n",
    "    $$ \\frac{d}{dx}\\{ \\int{f(x)dx} \\} = \\frac{d}{dx} \\{ F(x)+C \\} = F'(x) = f(x) $$\n",
    "    <br><br>    \n",
    "    1. $ \\int \\{ \\frac{d}{dx}f(x) \\}dx = g(x) $로 놓으면 $\\frac{d}{dx}g(x) = \\frac{d}{dx}f(x)$이므로 <br><br>\n",
    "    $$ \\frac{d}{dx}g(x) - \\frac{d}{dx}f(x)=0, \\quad \\frac{d}{dx}\\{ g(x)-f(x) \\} \\quad ∴ g(x)-f(x)=C \\text{ (단,C는 적분상수)}  $$ <br>\n",
    "    따라서 $g(x)-f(x)+C$이므로 $ \\int \\{ \\frac{d}{dx}f(x) \\}dx=f(x)+C $이다."
   ]
  },
  {
   "cell_type": "markdown",
   "metadata": {},
   "source": [
    "### 06_3. $x^n$의 부정적분"
   ]
  },
  {
   "cell_type": "markdown",
   "metadata": {},
   "source": [
    "n이 음이 아닌 정수일 때, $$ \\int x^ndx = \\frac{1}{n+1}x^{x+1}+c \\text{ (단, C는 적분상수) } $$"
   ]
  },
  {
   "cell_type": "markdown",
   "metadata": {},
   "source": [
    "특히, $n=0$일 때, $$ \\int 1dx = x + C \\text{ (단, C는 적분상수) } $$"
   ]
  },
  {
   "cell_type": "markdown",
   "metadata": {},
   "source": [
    "- 설명 : $ (\\frac{1}{n+1}x^{x+1})' = x^n $ 이므로 $\\int x^ndx = \\frac{1}{n+1}x^{x+1}+C \\text{ (단, C는 적분상수)} $ 또, $(x)'=1$이므로 $ \\int 1dx = x+c \\text{(단, C는 적분상수)} $"
   ]
  },
  {
   "cell_type": "markdown",
   "metadata": {},
   "source": [
    "### 06_4. 부정적분의 성질"
   ]
  },
  {
   "cell_type": "markdown",
   "metadata": {},
   "source": [
    "| $$1$$ | $$2$$ | $$3$$ |\n",
    "| ---- | ---- | ---- |\n",
    "| $$ \\int kf(x)dx = k\\int f(x)dx $$ | $$ \\int \\{ f(x)+g(x) \\}dx = \\int f(x)dx + \\int g(x)dx $$ | $$ \\int \\{ f(x)-g(x) \\}dx = \\int f(x)dx - \\int g(x)dx $$|"
   ]
  },
  {
   "cell_type": "markdown",
   "metadata": {},
   "source": [
    "- 설명1\n",
    "    \n",
    "    $F'(x) = f(x), G'(x) = g(x)$라 하고 $k$를 임의의 실수라고 하면 $\\{ kF(x) \\}'=kf(x)$ 이므로 $ \\int kf(x)dx = kF(x)+C_1 $ 또, $ k \\int f(x)dx = k\\{ F(x)+C_2 \\} = kF(x)+kC_2 $ 이때, $C_1$과 $kC_2$는 모두 적분상수이므로 $C_1=kC_2$가 되게 잡으면 $ \\int kf(x)dx = k \\int f(x)dx $이다."
   ]
  },
  {
   "cell_type": "markdown",
   "metadata": {},
   "source": [
    "- 설명2\n",
    "\n",
    "    $ \\{F(x)+G(x)\\}'=f(x)+g(x) $ 이므로 $ \\int \\{ f(x)+g(x) \\}dx = F(x) + G(x) + C_1 $ 또, $ \\int f(x)dx + \\int g(x)dx = F(x)+C_2+G(x)+C_3 $ 이때 $C_1, C_2, C_3$은 모두 적분상수이므로 $C_1 = C_2+C_3$이 되게 잡으면 $f\\{f(x)+g(x)\\}dx=\\int f(x)dx + \\int g(x)dx$이다."
   ]
  },
  {
   "cell_type": "markdown",
   "metadata": {},
   "source": [
    "- 설명3 : 설명2와 동일한 방법으로 증명 가능"
   ]
  },
  {
   "cell_type": "markdown",
   "metadata": {},
   "source": [
    "----"
   ]
  },
  {
   "cell_type": "markdown",
   "metadata": {},
   "source": [
    "## 07. 정적분의 활용\n"
   ]
  },
  {
   "cell_type": "markdown",
   "metadata": {},
   "source": [
    "### 07_1. x축과 곡선 사이의 넓이"
   ]
  },
  {
   "cell_type": "markdown",
   "metadata": {},
   "source": [
    "함수 $y=f(x)$가 닫힌구간 $[a,b]$에서 연속일 때, 곡선 $y=f(x)$와 $x$축 두 직선 $x=a, x=b \\ (a<b)$로 둘러싸힌 도형의 넓이 $S$는 아래와 같다.\n",
    "$$ S=\\int_a^b |\\, f(x) \\, | dx $$"
   ]
  },
  {
   "cell_type": "markdown",
   "metadata": {},
   "source": [
    "- 설명1 : 닫힌 구간 $[a,b]$에서 $f(x)>0$일 때, $ S = \\int_a^b f(x)dx = \\int_a^b |f(x)|dx $"
   ]
  },
  {
   "cell_type": "markdown",
   "metadata": {},
   "source": [
    "- 설명2 : 닫힌 구간 $[a,b]$에서 $f(x)\\leq0$일 때, 곡선 $y=f(x)$를 $x$축에 대하여 대칭이동시킨 곡선 $y=-f(x)$에 대하여 $-f(x)\\geq0$이므로 $ S = \\int_a^b{-f(x)}dx = \\int_a^b |f(x)|dx $"
   ]
  },
  {
   "cell_type": "markdown",
   "metadata": {},
   "source": [
    "-설명3 : 닫힌 구간 $[a,b]$에서 $f(x)\\leq0$이고 닫힌 구간 $[c,d]$에서 $f(x)\\geq0$일 때, $|f(x)|= \\begin{array}{rl} -f(x) (a \\leq x \\leq b) \\\\ f(x) (c\\leq x\\leq d)x  \\end{array} $ 이므로 $ S=S_1+S_2 = \\int_a^c\\{ -f(x) \\}dx + \\int_c^d f(x)dx = \\int_a^d |f(x)|dx $"
   ]
  },
  {
   "cell_type": "markdown",
   "metadata": {},
   "source": [
    "### 07_2. 직선 운동에서의 위치"
   ]
  },
  {
   "cell_type": "markdown",
   "metadata": {},
   "source": [
    "수직선 위를 움직이는 점 $P$의 시각에 t에서의 속도가 $v(t)$이고, 시각 $t=t_0$에서의 점 $P$의 위치가 $x_0$일 때, 시각 $t$에서의 점 $P$의 위치 $x(t)$는 아래와 같다.\n",
    "\n",
    "$$ x(t) = x_0 + \\int^t_{t_0} v(t)dt $$"
   ]
  },
  {
   "cell_type": "markdown",
   "metadata": {},
   "source": [
    "- 설명 : 수직선 위를 움직는 점 $P$의 시각 $t$에서의 위치 $x(t)$가 $x(t)=f(t)$일 때, 시각 $t$에서의 속도 $v(t)$는 $v(t)=f'(x)$이므로 $x_0=f(t_0)$이라 하면 $ \\int^t_{t_0}v(t)dt = \\int^t_{t_0}f'(t)dt = f(t)-f(t_0) = x(t) - x_0 $이다. 그러므로 $ x(t) = x_0 + \\int^t_{t_0}v(t)dt $ 이다."
   ]
  },
  {
   "cell_type": "markdown",
   "metadata": {},
   "source": [
    "### 07_3. 직선 운동에서의 위치의 변화량과 움직인 거리"
   ]
  },
  {
   "cell_type": "markdown",
   "metadata": {},
   "source": [
    "수직선 위를 움직이는 점 $P$의 시각 $t$에서의 속도가 $v(t)$일 때\n",
    "\n",
    "1. 시각 $t=a$에서 $t=b \\,(a\\leq{b})$까지의 점 $P$의 위치 변화량 $$\\int_a^bv(t)dt$$\n",
    "\n",
    "1. 시각 $t=a$에서 $t=b \\,(a\\leq{b})$까지의 점 $P$가 움직인 거리 $$\\int_a^b|v(t)|$$"
   ]
  },
  {
   "cell_type": "markdown",
   "metadata": {},
   "source": [
    "- 예1: 수직선 위를 움직이는 점 $P$의 시각 $t$에서의 위치 $x(t)$가 $f(t)$일 때 시각 $t=a$에서 $t=b\\,(a\\leq{b})$까지 점 $P$의 위치 변화량은 $x(b)-x(a) = f(b)-f(a) = \\int_a^b f'(t)dt = \\int_a^b v(t)dt$"
   ]
  },
  {
   "cell_type": "markdown",
   "metadata": {},
   "source": [
    "- 예2: 같은 조건에서 점 $P$가 움직인 거리 $s$는 운동 방향을 생각하지 않은 것으로 \n",
    "    \n",
    "    1. 닫힌 구간 [$a,b$]에서 $v(t)\\geq{b}$이면 $s=\\int_a^bv(t)dt$\n",
    "    1. 닫힌 구간 [$a,b$]에서 $v(t)<0$이면 $s=\\int_a^b\\{-v(t)\\}dt$\n",
    "    \n",
    "    따라서 $s=\\int_a^b|v(t)|dt$"
   ]
  },
  {
   "cell_type": "markdown",
   "metadata": {},
   "source": [
    "-----"
   ]
  },
  {
   "cell_type": "markdown",
   "metadata": {},
   "source": [
    "## 08. 조합\n"
   ]
  },
  {
   "cell_type": "markdown",
   "metadata": {},
   "source": [
    "### 08_1. 중복조합"
   ]
  },
  {
   "cell_type": "markdown",
   "metadata": {},
   "source": [
    "**서로 다른 $n$개에서 중복을 허락하여 $r$개를 택하는 조합**을 중복조합이라고 한다."
   ]
  },
  {
   "cell_type": "markdown",
   "metadata": {},
   "source": [
    "### 08_2. 중복조합의 수"
   ]
  },
  {
   "cell_type": "markdown",
   "metadata": {},
   "source": [
    "서로 다른 $n$개에서 $r$개를 택하는 중복조합의 수 \n",
    "$$ _{n+r-1}C_k = \\frac{\\{r+(n-1)\\}!}{r!(n-1)!} $$"
   ]
  },
  {
   "cell_type": "markdown",
   "metadata": {},
   "source": [
    "- 설명 : 서로 다른 2개에서 4개를 택하는 택하는 중복조합의 수\n",
    "    \n",
    "    $$ \n",
    "    \\begin{matrix}\n",
    "        aaaa \\iff ○○○○■ \\\\ aaab \\iff ○○○■○ \\\\ aabb \\iff ○○■○○ \\\\ abbb \\iff ○■○○○ \\\\ bbbb \\iff ■○○○○\n",
    "    \\end{matrix}\n",
    "    $$\n",
    "\n",
    "    예를 들어 2개의 문자 a, b에서 4개를 택하는 중복조합을 모두 나열하면 위의 그림과 같다. 이때, 각각의 경우는 4개의 ○와 1개의 ■를 일렬로 배열한 후 ■의 왼쪽에 있는 ○에 a를, 오른쪽에 있는 ○에 b를 대응시킨 것과 같다. 따라서 5개의 자리에서 ○를 배열한 4개의 자리를 택하는 경우의 수인 $_5C_4$와 같다. 일반적으로 서로 다른 $n$개에서 $r$개를 택하는 중복조합의 수는 $r$개의 ○와 $(n-1)$개를 일렬로 배치하는 방법의 수와 같고 이는 $(n+r-1)$개의 자리에서 ○를 배열할 $r$개의 자리를 택하는 조합의 수인 $_{n+r-1}C_r$와 같다."
   ]
  },
  {
   "cell_type": "markdown",
   "metadata": {},
   "source": [
    "### 08_3. 중복조합의 활용"
   ]
  },
  {
   "cell_type": "markdown",
   "metadata": {},
   "source": [
    "방정식 $x+y+z = n \\text{ (n은 자연수)}$에서 \n",
    "1. 음이 아닌 정수해의 순서쌍 $(x,y,z)$의 개수 : $_{3+n-1}C_n$, 즉 $_{n+2}C_2$\n",
    "1. 양의 정수해의 순서쌍 $(x,y,z)$의 개수 : $_{3+(n-2)}C_{n-3}$,즉 $_{n-1}C_2 \\text{ (단, n≥3})$"
   ]
  },
  {
   "cell_type": "markdown",
   "metadata": {},
   "source": [
    "- 설명1 : 예를 들어 $x+y+z=7$의 음이 아닌 정수해를 순서쌍 $(x,y,z)$로 나타낼 때, (2,2,3)은 하나의 해이고 순서쌍 (2,2,3)은 $x,x,y,y,z,z,z$와 대응시킬 수 있다. 이와 같이 $x+y+z=7$의 음이 아닌 정수해 $(x,y,z)$는 세 대의 문자 $x,y,z$에서 7개를 택하는 중복조합과 일대일 대응 관계가 있으므로 그 개수는 $_{3+7-1}C_7$ 즉, 36이다."
   ]
  },
  {
   "cell_type": "markdown",
   "metadata": {},
   "source": [
    "- 설명2. 예를 들어 $x+y+z=7$의 양의 정수해의 순서쌍 $(x,y,z)$의 개수를 구할 때에는 $x=1+x', y=1+y', z=1+z' \\text{(x', y', z'은 음이 아닌 정수)}$으로 놓고 이를 $x+y+z=7$에 대입하여 정리하면 $x'+y'+z'=4$의 음이 아닌 정수해의 순서쌍 $(x',y',z')$의 개수인 $_{3+4-1}C_4$와 같고 이는 $_{3+(7-3)-1}C_4$과 같다."
   ]
  },
  {
   "cell_type": "markdown",
   "metadata": {},
   "source": [
    "### 08_4. 이항정리"
   ]
  },
  {
   "cell_type": "markdown",
   "metadata": {},
   "source": []
  },
  {
   "cell_type": "markdown",
   "metadata": {},
   "source": [
    "### 08_5. 이항정리의 성질"
   ]
  },
  {
   "cell_type": "markdown",
   "metadata": {},
   "source": []
  },
  {
   "cell_type": "markdown",
   "metadata": {},
   "source": []
  },
  {
   "cell_type": "markdown",
   "metadata": {},
   "source": [
    "---"
   ]
  },
  {
   "cell_type": "markdown",
   "metadata": {},
   "source": [
    "## 09. 확률\n"
   ]
  },
  {
   "cell_type": "markdown",
   "metadata": {},
   "source": [
    "## 10. 이산확률분포\n"
   ]
  },
  {
   "cell_type": "markdown",
   "metadata": {},
   "source": [
    "## 11. 연속확률 분포\n"
   ]
  },
  {
   "cell_type": "markdown",
   "metadata": {},
   "source": [
    "## 12. 통계적 추정"
   ]
  },
  {
   "cell_type": "markdown",
   "metadata": {},
   "source": [
    "----"
   ]
  },
  {
   "cell_type": "code",
   "execution_count": 2,
   "metadata": {},
   "outputs": [
    {
     "data": {
      "text/html": [
       "<style>table{width:90%;}</style>"
      ],
      "text/plain": [
       "<IPython.core.display.HTML object>"
      ]
     },
     "execution_count": 2,
     "metadata": {},
     "output_type": "execute_result"
    }
   ],
   "source": [
    "from IPython.display import HTML\n",
    "CSS =\"\"\"<style>table{width:90%;}</style>\"\"\"; HTML(CSS)"
   ]
  },
  {
   "cell_type": "markdown",
   "metadata": {},
   "source": [
    "----"
   ]
  }
 ],
 "metadata": {
  "kernelspec": {
   "display_name": "Python 3",
   "language": "python",
   "name": "python3"
  },
  "language_info": {
   "codemirror_mode": {
    "name": "ipython",
    "version": 3
   },
   "file_extension": ".py",
   "mimetype": "text/x-python",
   "name": "python",
   "nbconvert_exporter": "python",
   "pygments_lexer": "ipython3",
   "version": "3.6.5"
  }
 },
 "nbformat": 4,
 "nbformat_minor": 2
}
