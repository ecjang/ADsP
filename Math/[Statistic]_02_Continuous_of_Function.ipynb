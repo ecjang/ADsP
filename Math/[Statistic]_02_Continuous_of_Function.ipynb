{
 "cells": [
  {
   "cell_type": "markdown",
   "metadata": {},
   "source": [
    "##### 미적분과 통계기본"
   ]
  },
  {
   "cell_type": "markdown",
   "metadata": {},
   "source": [
    "# 02. 함수의 연속"
   ]
  },
  {
   "cell_type": "markdown",
   "metadata": {},
   "source": [
    "----"
   ]
  },
  {
   "cell_type": "markdown",
   "metadata": {},
   "source": [
    "### 02_1. x=a에서의 연속과 불연속"
   ]
  },
  {
   "cell_type": "markdown",
   "metadata": {},
   "source": [
    "#### x=a에서의 연속일 때\n",
    "함수 $f(x)$가 실수 a에 대해서 **x=a에서 함숫값 $f(a)$가 존재하고, 극한값 $lim_{x\\to{a}}f(x)$가 존재하고, $lim_{x\\to{a}}f(x)=f(a)$일 때**, 함수 $f(x)$는 x=a에서 연속이라고 한다.\n",
    "\n",
    "#### x=a에서 불연속일 때\n",
    "위의 세 조건을 하나라도 만족시키지 않으면 불연속이다.\n"
   ]
  },
  {
   "cell_type": "markdown",
   "metadata": {},
   "source": [
    "### 02_2. 구간"
   ]
  },
  {
   "cell_type": "markdown",
   "metadata": {},
   "source": [
    "#### 열린구간, 닫힌구간\n",
    "부등호가 이상, 이하이면 열린구간, 초과, 미만이면 닫힌 구간이다. 열린구간은 기호로 (a, b), 닫힌구간은 [a,b]로 쓴다.\n",
    "- **a≤x≤b = 닫친구간 = [a,b]**\n",
    "- **a<x<b = 열린구간 = (a,b)**"
   ]
  },
  {
   "cell_type": "markdown",
   "metadata": {},
   "source": [
    "### 02_3. 구간에서 연속"
   ]
  },
  {
   "cell_type": "markdown",
   "metadata": {},
   "source": []
  },
  {
   "cell_type": "markdown",
   "metadata": {},
   "source": []
  },
  {
   "cell_type": "markdown",
   "metadata": {},
   "source": []
  },
  {
   "cell_type": "markdown",
   "metadata": {},
   "source": [
    "-----"
   ]
  }
 ],
 "metadata": {
  "kernelspec": {
   "display_name": "Python 3",
   "language": "python",
   "name": "python3"
  },
  "language_info": {
   "codemirror_mode": {
    "name": "ipython",
    "version": 3
   },
   "file_extension": ".py",
   "mimetype": "text/x-python",
   "name": "python",
   "nbconvert_exporter": "python",
   "pygments_lexer": "ipython3",
   "version": "3.6.5"
  }
 },
 "nbformat": 4,
 "nbformat_minor": 2
}
