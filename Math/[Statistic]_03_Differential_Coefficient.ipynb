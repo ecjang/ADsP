{
 "cells": [
  {
   "cell_type": "markdown",
   "metadata": {},
   "source": [
    "##### 미적분과 통계기본"
   ]
  },
  {
   "cell_type": "markdown",
   "metadata": {},
   "source": [
    "# 03. 미분계수와 도함수"
   ]
  },
  {
   "cell_type": "markdown",
   "metadata": {},
   "source": [
    "----"
   ]
  },
  {
   "cell_type": "markdown",
   "metadata": {},
   "source": [
    "### 03_1. 평균변화율"
   ]
  },
  {
   "cell_type": "markdown",
   "metadata": {},
   "source": [
    "#### 평균변화율\n",
    "- 함수 $y=f(x)$에서 x의 값이 a에서 b로 변할 때, y값은 $f(a)$에서 $f(b)$까지 변할 경우\n",
    "- x의 값이 a에서 b까지 변할 때 x의 변화량에 대한 y의 변화량에 대한 비율을 의미한다.\n",
    "\n",
    "\n",
    "$$ \\frac{\\Delta y}{\\Delta x} = \\frac{f(b)-f(a)}{b-a} = \\frac{f(a+\\Delta x) - f(a)}{\\Delta x} $$"
   ]
  },
  {
   "cell_type": "markdown",
   "metadata": {},
   "source": [
    "-----"
   ]
  }
 ],
 "metadata": {
  "kernelspec": {
   "display_name": "Python 3",
   "language": "python",
   "name": "python3"
  },
  "language_info": {
   "codemirror_mode": {
    "name": "ipython",
    "version": 3
   },
   "file_extension": ".py",
   "mimetype": "text/x-python",
   "name": "python",
   "nbconvert_exporter": "python",
   "pygments_lexer": "ipython3",
   "version": "3.6.5"
  }
 },
 "nbformat": 4,
 "nbformat_minor": 2
}
