{
 "cells": [
  {
   "cell_type": "markdown",
   "metadata": {},
   "source": [
    "##### 미적분과 통계기본"
   ]
  },
  {
   "cell_type": "markdown",
   "metadata": {},
   "source": [
    "# 03. 미분계수와 도함수"
   ]
  },
  {
   "cell_type": "markdown",
   "metadata": {},
   "source": [
    "----"
   ]
  },
  {
   "cell_type": "markdown",
   "metadata": {},
   "source": [
    "### 03_1. 평균변화율 Average Rate of Change"
   ]
  },
  {
   "cell_type": "markdown",
   "metadata": {},
   "source": [
    "#### 평균변화율\n",
    "함수 $y=f(x)$에서 x의 값이 a에서 b로 변할 때, y값은 $f(a)$에서 $f(b)$까지 변할 경우 x의 값이 a에서 b까지 변할 때 x의 변화량에 대한 y의 변화량에 대한 비율을 의미한다.\n",
    "\n",
    "$$ \\frac{\\Delta y}{\\Delta x} = \\frac{f(b)-f(a)}{b-a} = \\frac{f(a+\\Delta x) - f(a)}{\\Delta x} $$\n",
    "\n",
    "\n",
    "#### 기하학적 의미\n",
    "함수 $y=f(x)$에서 $x$값이 $a$에서 $b$로 변할 때의 평균 변화율은 두 점 $P(a,f(a)),Q(b,f(b))$을 지나는 직선의 기울기와 같다.\n",
    "\n",
    "#### 평균변화율 예\n",
    "함수 $f(x)=x^3$에서 $x$값이 1에서 3까지 변할 때 평균변화율은 $\\frac{3^3-1^3}{3-1} = 4$이다.\n",
    "이 값은 곡선 $y=x^2$ 위의 두 점 (1,1), (3,9)를 지나는 직선의 기울기와 같다."
   ]
  },
  {
   "cell_type": "markdown",
   "metadata": {},
   "source": [
    "----"
   ]
  },
  {
   "cell_type": "markdown",
   "metadata": {},
   "source": [
    "### 03_2. 미분계수 Differntial Coefficient"
   ]
  },
  {
   "cell_type": "markdown",
   "metadata": {},
   "source": [
    "#### 미분계수의 정의\n",
    "함수 $y=f(x)$에서 $x$값이 $a$에서 $a+\\Delta x$까지 변하고, $\\Delta x \\to 0$일 때 **평균변화율의 극한값**\n",
    "\n",
    "$$ \\lim_{x\\to{0}} \\frac{\\Delta y}{\\Delta x} = \\lim_{x\\to{0}}\\frac{ f(a+\\Delta x)-f(a) }{\\Delta x} $$\n",
    "\n",
    "\n",
    "이 값이 존재하면 함수 $y=f(x)$의 $x=a$에서의 **미분계수 또는 순간변화율**이라고 하고 기호로 $ f'(a) $로 나타낸다.\n",
    "\n",
    "$$ f'(a)=\\lim_{x\\to{0}}f(x) = \\frac{ f(a+\\Delta x)-f(a) }{\\Delta x} = \\lim_{x\\to{a}} \\frac{f(x)-f(a)}{x-a} $$"
   ]
  },
  {
   "cell_type": "markdown",
   "metadata": {},
   "source": [
    "#### 미분계수의 기하학적 의미"
   ]
  },
  {
   "cell_type": "markdown",
   "metadata": {},
   "source": [
    "함수 $y=f(x)$에 대하여 $x=a$에서의 미분계수 $f'(a)$는 곡선 $y=f(x)$ 위의 **점 $P(a,f(a))$에서의 접선의 기울기**"
   ]
  },
  {
   "cell_type": "markdown",
   "metadata": {},
   "source": [
    "#### 예\n",
    "\n",
    "함수 $f(x)=x^2+x$에 대하여 $ f'(1)=\\lim_{x\\to{1}} \\frac{f(x)-f(1)}{x-1} = \\lim_{x\\to{1}} \\frac{x^2+x-2}{x-1} = \\lim_{x\\to{1}} \\frac{(x-1)(x+2)}{x-1}=3 $이고, 이 값은 곡선 $y=x^2+x$ 위의 점 (1,2)에서의 접선의 기울기와 같다."
   ]
  },
  {
   "cell_type": "markdown",
   "metadata": {},
   "source": [
    "-----"
   ]
  },
  {
   "cell_type": "markdown",
   "metadata": {},
   "source": [
    "### 03_3. 미분가능과 연속"
   ]
  },
  {
   "cell_type": "markdown",
   "metadata": {},
   "source": [
    "#### 미분가능\n",
    "\n",
    "함수 $f(x)$에 대하여 $x=a$에서의 **미분계수 $f'(a)$가 존재할 때 $f(x)$는 $x=a$에서 미분가능이라고 한다.**\n",
    "- $f'(a)$값은 $\\lim_{x\\to{a}} \\frac{f(x)-f(a)}{x-a}$와 같다.\n",
    "- $\\lim_{x\\to{a}} \\frac{f(x)-f(a)}{(x-a)}$의 값은 함수 $\\frac{f(x)-f(a)}{(x-a)}$의 좌극한과 우극한이 서로 같은 경우를 의미한다.\n"
   ]
  },
  {
   "cell_type": "markdown",
   "metadata": {},
   "source": [
    "#### 미분가능한 함수\n",
    "\n",
    "함수 $f(x)$가 어떤 구간에 속하는 x의 모든 값에서 미분가능할 때, **그 구간에서 미분가능이라고 한다.**\n",
    "- 함수 $f(x)$가 정의역에 속하는 모든 x값에서 미분가능할 때, 함수 $f(x)$를 미분가능한 함수라고 한다.\n",
    "- 함수 $f(x)=x^2+2-1, f(x)=-2x+1$등은 실수 전체에 대해 미분가능하다."
   ]
  },
  {
   "cell_type": "markdown",
   "metadata": {},
   "source": [
    "#### 미분가능과 연속\n",
    "\n",
    "함수 $f(x)$가 $x=a$에서 **미분가능하면 함수 $f(x)$는 $x=a$에서 연속**이다. 그리고 **함수 $f(x)$가 $x=a$에서 연속이지만 $x=a$에서 미분가능하지 않은 경우도 있다.**"
   ]
  },
  {
   "cell_type": "markdown",
   "metadata": {},
   "source": [
    "#### 참고\n",
    "함수 $f(x)$가 $x=a$에서 미분가능하면 $f'(a)= \\lim_{x\\to{a}} \\frac{f(x)-f(a)}{x-a}$의 값이 존재한다.\n",
    "$$ \\lim_{x\\to{a}}f(x) =   \\lim_{x\\to{a}}\\{\\frac{f(x)-f(a)}{x-a}·(x-a)+f(a)\\} = f'(a)·f(a) = f(a) $$\n",
    "\n",
    "함수 $f(x)=|x|$는 $\\lim_{x\\to{0}}f(x)=f(0)=0$이므로 $x=0$에서 연속이다. 그러나 $x=0$에서의 미분계수가 존재하지 않는다. 따라서 함수 $f(x)=|x|$는 **$x=0$에서 연속이지만 미분가능하지 않다.**\n",
    "$$ \\lim_{x\\to{+0}}\\frac{f(x)-f(0)}{x-0} = \\lim_{x\\to{a}}\\frac{x}{x} = 1, \\quad \\lim_{x\\to{-0}} \\frac{f(x)-f(0)}{x-0} = \\lim_{x\\to{-0}}\\frac{-x}{x} = -1 $$\n"
   ]
  },
  {
   "cell_type": "markdown",
   "metadata": {},
   "source": [
    "----"
   ]
  },
  {
   "cell_type": "markdown",
   "metadata": {},
   "source": [
    "### 03_4. 도함수"
   ]
  },
  {
   "cell_type": "markdown",
   "metadata": {},
   "source": [
    "#### 도함수의 정의\n",
    "\n",
    "미분가능한 함수 $f(x)$의 정의역에 속하는 모든 $x$에 대하여 미분계수 $f'(x)$를 대응시키면 새로운 함수 $f':x\\to{f'(x)}$를 얻을 수 있다. **이 함수를 함수 $y=f(x)$의 도함수라고 하며 아래와 같이 표시한다.**\n",
    "$$ y', f'(x), \\frac{dy}{dx}, \\frac{d}{dx}f(x) \\quad \\text{ 즉 } f'(x) = \\lim_{h\\to{0}}\\frac{f(x+h-f(x))}{h} \\text{ 이다.} $$"
   ]
  },
  {
   "cell_type": "markdown",
   "metadata": {},
   "source": [
    "#### 미분의 의미\n",
    "\n",
    "**함수 $f(x)$의 도함수 $f'(x)$를 구하는 것**을 함수 $f(x)$를 $x$에 대해 미분한다고 하고, 그 **계산법을 미분법**이라고 한다.\n",
    "\n",
    "- 예<BR>\n",
    "    \n",
    "    함수 $f(x)=x^3$의 도함수 f'(x)는 다음과 같이 구할 수 있다. $ f'(x) = \\lim_{x\\to{0}}\\frac{f(x)-f(h)}{h} = \\lim_{x\\to{0}}\\frac{(x+h)^3-x^3}{h} = \\lim_{x\\to{0}}\\frac{3x^2h + 3xh^2 + h^3}{h} = \\lim_{x\\to{0}}(3x^2 + 3xh + h^2) = 3x^2 $"
   ]
  },
  {
   "cell_type": "markdown",
   "metadata": {},
   "source": [
    "#### 도함수의 미분계수\n",
    "\n",
    "도함수의 정의에 의하여 $f'(x) = \\lim_{x\\to{0}}\\frac{f(x+h)-f(h)}{h}$이다. 따라서 함수 $f(x)$에 대하여 $x=a$에서의 **미분계수 $f'(a)$는 도함수$f'(x)$에 $x=a$를 대입하여 얻은 함숫값이다.**\n",
    "\n",
    "- 예 : 함수 $f(x)=x^3$에 대하여 $x=-2$에서의 미분계수 $f'(-2)$는 다음과 같이 구할 수 있다.<br>\n",
    "    \n",
    "    방법1. 미분계수의 정의<br>\n",
    "    $ f'(-2) = \\lim_{x\\to{-2}}\\frac{f(x)-f(-2)}{x-(-2)} = \\lim_{x\\to{-2}}\\frac{x^3+8}{x+2} = \\lim_{x\\to{-2}}\\frac{(x+2)(x^2-2x+4)}{x+2} = \\lim_{x\\to{-2}}(x^2-2x+4) = 12 $\n",
    "    \n",
    "    방법2. 도함수의 함숫값<br>\n",
    "    $f'(x)=3x^2$ 이므로 $f'(-2)=12$"
   ]
  },
  {
   "cell_type": "markdown",
   "metadata": {},
   "source": [
    "#### 미분법의 공식\n",
    "\n",
    "함수 $y=x^n$과 **상수함수의 도함수의 경우, $y=x^n \\text{ (n은 자연수)}$이면 $y'=nx^{n-1}$, $y=c \\text{ (c는 상수)}$이면 $y'=0$**\n",
    "\n",
    "- 설명1. 상수함수의 경우 <br>\n",
    "    $$ \\begin{align}\n",
    "    &y'=\\lim_{x\\to{0}}\\frac{f(x+h)-f(x)}{h} = \\lim_{x\\to{0}}\\frac{(x+h)^n-x^n}{h} \\\\\n",
    "    &= \\lim_{x\\to{0}}\\frac{ (x+h-x)\\{ (x+h)^{n-1} + (x+h)^{n-2}x + ... + (x+h)x^{n-2} + x^{n-1} \\} }{h} \\\\\n",
    "    &= \\lim_{x\\to{0}}\\{ (x+h)^{n-1} + (x+h)^{n-2}x + ... + (x+h)x^{n-2} + x^{n-1} \\} \\\\\n",
    "    &= nx^{n-1} \\end{align}$$"
   ]
  },
  {
   "cell_type": "markdown",
   "metadata": {},
   "source": []
  },
  {
   "cell_type": "markdown",
   "metadata": {},
   "source": []
  },
  {
   "cell_type": "markdown",
   "metadata": {},
   "source": []
  },
  {
   "cell_type": "markdown",
   "metadata": {},
   "source": [
    "-----"
   ]
  }
 ],
 "metadata": {
  "kernelspec": {
   "display_name": "Python 3",
   "language": "python",
   "name": "python3"
  },
  "language_info": {
   "codemirror_mode": {
    "name": "ipython",
    "version": 3
   },
   "file_extension": ".py",
   "mimetype": "text/x-python",
   "name": "python",
   "nbconvert_exporter": "python",
   "pygments_lexer": "ipython3",
   "version": "3.6.5"
  }
 },
 "nbformat": 4,
 "nbformat_minor": 2
}
