{
 "cells": [
  {
   "cell_type": "markdown",
   "metadata": {},
   "source": [
    "##### 미적분과 통계기본"
   ]
  },
  {
   "cell_type": "markdown",
   "metadata": {},
   "source": [
    "# 05. 도함수의 활용2"
   ]
  },
  {
   "cell_type": "markdown",
   "metadata": {},
   "source": [
    "----"
   ]
  },
  {
   "cell_type": "markdown",
   "metadata": {},
   "source": [
    "### 05_1.  함수의 그래프"
   ]
  },
  {
   "cell_type": "markdown",
   "metadata": {},
   "source": [
    "####  함수의 그래프\n",
    "\n",
    "함수 $y=f(x)$의 그래프는 증가와 감소, 극대와 극소, 좌표축과의 교점 등을 이용하면 그 개형을 쉽게 그릴 수 있다. 함수의 증가와 감소를 표로 나타내면 편리하다.\n",
    "\n",
    "#### 함수의 그래프 예\n",
    "함수 $f(x)=x^3-3x^2+1$의 증가와 감소를 표로 나타내어 보자. $f'(x)=3x^2-6x$이므로 $f'(x)=0$에서 $x=0$ 또는 $x=2$이다.\n",
    "\n",
    "| x | ... | 0 | ... | 2 | ... |\n",
    "| --- |  --- |  --- |  --- | --- | --- |\n",
    "| $f'(x)$ | + | 0 | - | 0 | + |\n",
    "| $f(x)$ | ↗ | 1 | ↘ | -3 | ↗ |\n"
   ]
  },
  {
   "cell_type": "code",
   "execution_count": 13,
   "metadata": {},
   "outputs": [
    {
     "data": {
      "text/html": [
       "<style>table,tbody,thead { width:100% !important; align:center }</style>"
      ],
      "text/plain": [
       "<IPython.core.display.HTML object>"
      ]
     },
     "metadata": {},
     "output_type": "display_data"
    },
    {
     "data": {
      "text/html": [
       "<style> th td {text-align:center !important;}</style>"
      ],
      "text/plain": [
       "<IPython.core.display.HTML object>"
      ]
     },
     "metadata": {},
     "output_type": "display_data"
    }
   ],
   "source": [
    "from IPython.core.display import display, HTML\n",
    "display(HTML(\"<style>table,tbody,thead { width:100% !important; align:center }</style>\"))\n",
    "display(HTML(\"<style> th td {text-align:center !important;}</style>\"))"
   ]
  },
  {
   "cell_type": "code",
   "execution_count": 2,
   "metadata": {},
   "outputs": [],
   "source": [
    "import matplotlib.pyplot as plt; import numpy as np"
   ]
  },
  {
   "cell_type": "code",
   "execution_count": 16,
   "metadata": {},
   "outputs": [
    {
     "data": {
      "image/png": "[encoded data removed]",
      "text/plain": [
       "<Figure size 432x288 with 1 Axes>"
      ]
     },
     "metadata": {},
     "output_type": "display_data"
    }
   ],
   "source": [
    "x = np.arange(-2,3, 0.01)\n",
    "plt.plot(x,x**3 + x**2, label=\"$f(x)$\")\n",
    "plt.plot(x, 5*x-3, label=\"$y=5x-3$\")\n",
    "plt.plot(1,2,'o')\n",
    "plt.grid()\n",
    "plt.legend()\n",
    "plt.annotate('P(1,2)',xy=(1,2), xytext=(0.2,5), fontsize=20 )\n",
    "plt.show()"
   ]
  },
  {
   "cell_type": "markdown",
   "metadata": {},
   "source": [
    "-----"
   ]
  }
 ],
 "metadata": {
  "kernelspec": {
   "display_name": "Python 3",
   "language": "python",
   "name": "python3"
  },
  "language_info": {
   "codemirror_mode": {
    "name": "ipython",
    "version": 3
   },
   "file_extension": ".py",
   "mimetype": "text/x-python",
   "name": "python",
   "nbconvert_exporter": "python",
   "pygments_lexer": "ipython3",
   "version": "3.6.5"
  }
 },
 "nbformat": 4,
 "nbformat_minor": 2
}
