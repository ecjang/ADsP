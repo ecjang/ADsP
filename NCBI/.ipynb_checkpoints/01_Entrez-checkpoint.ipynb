{
 "cells": [
  {
   "cell_type": "markdown",
   "metadata": {},
   "source": [
    "# NCBI\n",
    "- National Center for Biotechology Information \n",
    "- 미국 보건성 산하의 국립 의학 도서관의 운영 분야 중 하나\n",
    "- 생명정보학전담부서 DB구축 및 분석도구를 개발\n",
    "- 모든 정보를 Entrez 포탈 검색 엔진을 통하여 이용 가능\n"
   ]
  },
  {
   "cell_type": "markdown",
   "metadata": {},
   "source": [
    "## Tuto"
   ]
  },
  {
   "cell_type": "markdown",
   "metadata": {},
   "source": [
    "우선 biothyon을 설치.\n"
   ]
  },
  {
   "cell_type": "markdown",
   "metadata": {},
   "source": [
    "pip 업데이트"
   ]
  },
  {
   "cell_type": "markdown",
   "metadata": {},
   "source": [
    "python -m pip install -U pip"
   ]
  },
  {
   "cell_type": "markdown",
   "metadata": {},
   "source": [
    "#### biopython 설치\n",
    "```\n",
    "pip install biopython\n",
    "pip install-U biopython\n",
    "```"
   ]
  },
  {
   "cell_type": "markdown",
   "metadata": {},
   "source": [
    "#### 이후 Bio 라이브러리 불러오기\n"
   ]
  },
  {
   "cell_type": "code",
   "execution_count": 4,
   "metadata": {},
   "outputs": [],
   "source": [
    "from Bio import Entrez"
   ]
  },
  {
   "cell_type": "markdown",
   "metadata": {},
   "source": [
    "#### 메일 주소 설정"
   ]
  },
  {
   "cell_type": "code",
   "execution_count": 5,
   "metadata": {},
   "outputs": [],
   "source": [
    "Entrez.email = \"A.N.Other@example.com\"\n",
    "handle = Entrez.einfo()\n",
    "result = handle.read()"
   ]
  },
  {
   "cell_type": "markdown",
   "metadata": {},
   "source": [
    "#### EINFO"
   ]
  },
  {
   "cell_type": "code",
   "execution_count": 6,
   "metadata": {
    "scrolled": true
   },
   "outputs": [
    {
     "name": "stdout",
     "output_type": "stream",
     "text": [
      "<?xml version=\"1.0\" encoding=\"UTF-8\" ?>\n",
      "<!DOCTYPE eInfoResult PUBLIC \"-//NLM//DTD einfo 20130322//EN\" \"https://eutils.ncbi.nlm.nih.gov/eutils/dtd/20130322/einfo.dtd\">\n",
      "<eInfoResult>\n",
      "<DbList>\n",
      "\n",
      "\t<DbName>pubmed</DbName>\n",
      "\t<DbName>protein</DbName>\n",
      "\t<DbName>nuccore</DbName>\n",
      "\t<DbName>ipg</DbName>\n",
      "\t<DbName>nucleotide</DbName>\n",
      "\t<DbName>nucgss</DbName>\n",
      "\t<DbName>nucest</DbName>\n",
      "\t<DbName>structure</DbName>\n",
      "\t<DbName>sparcle</DbName>\n",
      "\t<DbName>genome</DbName>\n",
      "\t<DbName>annotinfo</DbName>\n",
      "\t<DbName>assembly</DbName>\n",
      "\t<DbName>bioproject</DbName>\n",
      "\t<DbName>biosample</DbName>\n",
      "\t<DbName>blastdbinfo</DbName>\n",
      "\t<DbName>books</DbName>\n",
      "\t<DbName>cdd</DbName>\n",
      "\t<DbName>clinvar</DbName>\n",
      "\t<DbName>clone</DbName>\n",
      "\t<DbName>gap</DbName>\n",
      "\t<DbName>gapplus</DbName>\n",
      "\t<DbName>grasp</DbName>\n",
      "\t<DbName>dbvar</DbName>\n",
      "\t<DbName>gene</DbName>\n",
      "\t<DbName>gds</DbName>\n",
      "\t<DbName>geoprofiles</DbName>\n",
      "\t<DbName>homologene</DbName>\n",
      "\t<DbName>medgen</DbName>\n",
      "\t<DbName>mesh</DbName>\n",
      "\t<DbName>ncbisearch</DbName>\n",
      "\t<DbName>nlmcatalog</DbName>\n",
      "\t<DbName>omim</DbName>\n",
      "\t<DbName>orgtrack</DbName>\n",
      "\t<DbName>pmc</DbName>\n",
      "\t<DbName>popset</DbName>\n",
      "\t<DbName>probe</DbName>\n",
      "\t<DbName>proteinclusters</DbName>\n",
      "\t<DbName>pcassay</DbName>\n",
      "\t<DbName>biosystems</DbName>\n",
      "\t<DbName>pccompound</DbName>\n",
      "\t<DbName>pcsubstance</DbName>\n",
      "\t<DbName>seqannot</DbName>\n",
      "\t<DbName>snp</DbName>\n",
      "\t<DbName>sra</DbName>\n",
      "\t<DbName>taxonomy</DbName>\n",
      "\t<DbName>biocollections</DbName>\n",
      "\t<DbName>unigene</DbName>\n",
      "\t<DbName>gencoll</DbName>\n",
      "\t<DbName>gtr</DbName>\n",
      "</DbList>\n",
      "\n",
      "</eInfoResult>\n",
      "\n"
     ]
    }
   ],
   "source": [
    "print(result)"
   ]
  },
  {
   "cell_type": "markdown",
   "metadata": {},
   "source": [
    "#### DB 목록 파싱  \n",
    "목록을 사전 형태로 저장"
   ]
  },
  {
   "cell_type": "code",
   "execution_count": 10,
   "metadata": {},
   "outputs": [
    {
     "name": "stdout",
     "output_type": "stream",
     "text": [
      "https://eutils.ncbi.nlm.nih.gov/entrez/eutils/einfo.fcgi?tool=biopython&email=A.N.Other%40example.com\n"
     ]
    }
   ],
   "source": [
    "print(handle.url)"
   ]
  },
  {
   "cell_type": "code",
   "execution_count": 13,
   "metadata": {},
   "outputs": [
    {
     "data": {
      "text/plain": [
       "dict_keys(['DbList'])"
      ]
     },
     "execution_count": 13,
     "metadata": {},
     "output_type": "execute_result"
    }
   ],
   "source": [
    "handle = Entrez.einfo()\n",
    "record = Entrez.read(handle)\n",
    "record.keys()"
   ]
  },
  {
   "cell_type": "code",
   "execution_count": 21,
   "metadata": {},
   "outputs": [
    {
     "name": "stdout",
     "output_type": "stream",
     "text": [
      "<class 'Bio.Entrez.Parser.DictionaryElement'> \n",
      "\n",
      " DictElement({'DbList': ['pubmed', 'protein', 'nuccore', 'ipg', 'nucleotide', 'nucgss', 'nucest', 'structure', 'sparcle', 'genome', 'annotinfo', 'assembly', 'bioproject', 'biosample', 'blastdbinfo', 'books', 'cdd', 'clinvar', 'clone', 'gap', 'gapplus', 'grasp', 'dbvar', 'gene', 'gds', 'geoprofiles', 'homologene', 'medgen', 'mesh', 'ncbisearch', 'nlmcatalog', 'omim', 'orgtrack', 'pmc', 'popset', 'probe', 'proteinclusters', 'pcassay', 'biosystems', 'pccompound', 'pcsubstance', 'seqannot', 'snp', 'sra', 'taxonomy', 'biocollections', 'unigene', 'gencoll', 'gtr']}, attributes={})\n"
     ]
    }
   ],
   "source": [
    "print( type(record),\"\\n\\n\", record)"
   ]
  },
  {
   "cell_type": "code",
   "execution_count": 23,
   "metadata": {},
   "outputs": [
    {
     "data": {
      "text/plain": [
       "49"
      ]
     },
     "execution_count": 23,
     "metadata": {},
     "output_type": "execute_result"
    }
   ],
   "source": [
    "len(record[\"DbList\"])"
   ]
  },
  {
   "cell_type": "markdown",
   "metadata": {},
   "source": [
    "#### 논문 초록 조회\n",
    "pubmed를 이용. einfo(db=\"pubmed\")"
   ]
  },
  {
   "cell_type": "code",
   "execution_count": 24,
   "metadata": {},
   "outputs": [],
   "source": [
    "handle = Entrez.einfo(db=\"pubmed\")\n",
    "record = Entrez.read(handle)"
   ]
  },
  {
   "cell_type": "code",
   "execution_count": 35,
   "metadata": {},
   "outputs": [],
   "source": [
    "key_list = list(record[\"DbInfo\"].keys())"
   ]
  },
  {
   "cell_type": "code",
   "execution_count": 58,
   "metadata": {},
   "outputs": [
    {
     "name": "stdout",
     "output_type": "stream",
     "text": [
      "name:  DbName  / conut:  6  / type:  <class 'Bio.Entrez.Parser.StringElement'>\n",
      "name:  MenuName  / conut:  6  / type:  <class 'Bio.Entrez.Parser.StringElement'>\n",
      "name:  Description  / conut:  27  / type:  <class 'Bio.Entrez.Parser.StringElement'>\n",
      "name:  DbBuild  / conut:  19  / type:  <class 'Bio.Entrez.Parser.StringElement'>\n",
      "name:  Count  / conut:  8  / type:  <class 'Bio.Entrez.Parser.StringElement'>\n",
      "name:  LastUpdate  / conut:  16  / type:  <class 'Bio.Entrez.Parser.StringElement'>\n",
      "name:  FieldList  / conut:  51  / type:  <class 'Bio.Entrez.Parser.ListElement'>\n",
      "name:  LinkList  / conut:  59  / type:  <class 'Bio.Entrez.Parser.ListElement'>\n"
     ]
    }
   ],
   "source": [
    "Dinfo = record[\"DbInfo\"]\n",
    "\n",
    "for nkey in key_list:\n",
    "    nval = Dinfo[nkey]\n",
    "    print(\"name: \", nkey, \" / conut: \", len(nval),\" / type: \", type(nval) )"
   ]
  },
  {
   "cell_type": "code",
   "execution_count": 84,
   "metadata": {},
   "outputs": [
    {
     "name": "stdout",
     "output_type": "stream",
     "text": [
      "<class 'Bio.Entrez.Parser.ListElement'>   51\n"
     ]
    }
   ],
   "source": [
    "print(type(Dinfo[\"FieldList\"]),\" \", len(Dinfo[\"FieldList\"]))"
   ]
  },
  {
   "cell_type": "code",
   "execution_count": 115,
   "metadata": {},
   "outputs": [],
   "source": [
    "import pandas as pd"
   ]
  },
  {
   "cell_type": "code",
   "execution_count": 103,
   "metadata": {},
   "outputs": [
    {
     "data": {
      "text/html": [
       "<div>\n",
       "<style scoped>\n",
       "    .dataframe tbody tr th:only-of-type {\n",
       "        vertical-align: middle;\n",
       "    }\n",
       "\n",
       "    .dataframe tbody tr th {\n",
       "        vertical-align: top;\n",
       "    }\n",
       "\n",
       "    .dataframe thead th {\n",
       "        text-align: right;\n",
       "    }\n",
       "</style>\n",
       "<table border=\"1\" class=\"dataframe\">\n",
       "  <thead>\n",
       "    <tr style=\"text-align: right;\">\n",
       "      <th></th>\n",
       "      <th>Description</th>\n",
       "      <th>FullName</th>\n",
       "      <th>Hierarchy</th>\n",
       "      <th>IsDate</th>\n",
       "      <th>IsHidden</th>\n",
       "      <th>IsNumerical</th>\n",
       "      <th>Name</th>\n",
       "      <th>SingleToken</th>\n",
       "      <th>TermCount</th>\n",
       "    </tr>\n",
       "  </thead>\n",
       "  <tbody>\n",
       "    <tr>\n",
       "      <th>9</th>\n",
       "      <td>Author's institutional affiliation and address</td>\n",
       "      <td>Affiliation</td>\n",
       "      <td>N</td>\n",
       "      <td>N</td>\n",
       "      <td>N</td>\n",
       "      <td>N</td>\n",
       "      <td>AFFL</td>\n",
       "      <td>N</td>\n",
       "      <td>49050415</td>\n",
       "    </tr>\n",
       "    <tr>\n",
       "      <th>0</th>\n",
       "      <td>All terms from all searchable fields</td>\n",
       "      <td>All Fields</td>\n",
       "      <td>N</td>\n",
       "      <td>N</td>\n",
       "      <td>N</td>\n",
       "      <td>N</td>\n",
       "      <td>ALL</td>\n",
       "      <td>N</td>\n",
       "      <td>210478151</td>\n",
       "    </tr>\n",
       "    <tr>\n",
       "      <th>7</th>\n",
       "      <td>Author(s) of publication</td>\n",
       "      <td>Author</td>\n",
       "      <td>N</td>\n",
       "      <td>N</td>\n",
       "      <td>N</td>\n",
       "      <td>N</td>\n",
       "      <td>AUTH</td>\n",
       "      <td>Y</td>\n",
       "      <td>19646245</td>\n",
       "    </tr>\n",
       "    <tr>\n",
       "      <th>25</th>\n",
       "      <td>Corporate Author of publication</td>\n",
       "      <td>Author - Corporate</td>\n",
       "      <td>N</td>\n",
       "      <td>N</td>\n",
       "      <td>N</td>\n",
       "      <td>N</td>\n",
       "      <td>COLN</td>\n",
       "      <td>N</td>\n",
       "      <td>251460</td>\n",
       "    </tr>\n",
       "    <tr>\n",
       "      <th>32</th>\n",
       "      <td>First Author of publication</td>\n",
       "      <td>Author - First</td>\n",
       "      <td>N</td>\n",
       "      <td>N</td>\n",
       "      <td>N</td>\n",
       "      <td>N</td>\n",
       "      <td>FAUT</td>\n",
       "      <td>Y</td>\n",
       "      <td>10533208</td>\n",
       "    </tr>\n",
       "    <tr>\n",
       "      <th>33</th>\n",
       "      <td>Full Author Name(s) of publication</td>\n",
       "      <td>Author - Full</td>\n",
       "      <td>N</td>\n",
       "      <td>N</td>\n",
       "      <td>N</td>\n",
       "      <td>N</td>\n",
       "      <td>FULL</td>\n",
       "      <td>Y</td>\n",
       "      <td>13142872</td>\n",
       "    </tr>\n",
       "    <tr>\n",
       "      <th>48</th>\n",
       "      <td>Author Identifier</td>\n",
       "      <td>Author - Identifier</td>\n",
       "      <td>N</td>\n",
       "      <td>N</td>\n",
       "      <td>N</td>\n",
       "      <td>N</td>\n",
       "      <td>AUID</td>\n",
       "      <td>Y</td>\n",
       "      <td>3094462</td>\n",
       "    </tr>\n",
       "    <tr>\n",
       "      <th>36</th>\n",
       "      <td>Last Author of publication</td>\n",
       "      <td>Author - Last</td>\n",
       "      <td>N</td>\n",
       "      <td>N</td>\n",
       "      <td>N</td>\n",
       "      <td>N</td>\n",
       "      <td>LAUT</td>\n",
       "      <td>Y</td>\n",
       "      <td>8883895</td>\n",
       "    </tr>\n",
       "    <tr>\n",
       "      <th>45</th>\n",
       "      <td>Author Cluster ID</td>\n",
       "      <td>Author Cluster ID</td>\n",
       "      <td>N</td>\n",
       "      <td>N</td>\n",
       "      <td>Y</td>\n",
       "      <td>N</td>\n",
       "      <td>AUCL</td>\n",
       "      <td>Y</td>\n",
       "      <td>0</td>\n",
       "    </tr>\n",
       "    <tr>\n",
       "      <th>41</th>\n",
       "      <td>ID of the book that contains the document</td>\n",
       "      <td>Book</td>\n",
       "      <td>N</td>\n",
       "      <td>N</td>\n",
       "      <td>N</td>\n",
       "      <td>N</td>\n",
       "      <td>BOOK</td>\n",
       "      <td>Y</td>\n",
       "      <td>5947</td>\n",
       "    </tr>\n",
       "    <tr>\n",
       "      <th>50</th>\n",
       "      <td>Conflict of Interest Statements</td>\n",
       "      <td>Conflict of Interest Statements</td>\n",
       "      <td>N</td>\n",
       "      <td>N</td>\n",
       "      <td>N</td>\n",
       "      <td>N</td>\n",
       "      <td>COIS</td>\n",
       "      <td>N</td>\n",
       "      <td>201172</td>\n",
       "    </tr>\n",
       "    <tr>\n",
       "      <th>47</th>\n",
       "      <td>Additional text from the summary</td>\n",
       "      <td>DSO</td>\n",
       "      <td>N</td>\n",
       "      <td>N</td>\n",
       "      <td>Y</td>\n",
       "      <td>N</td>\n",
       "      <td>DSO</td>\n",
       "      <td>N</td>\n",
       "      <td>366024</td>\n",
       "    </tr>\n",
       "    <tr>\n",
       "      <th>30</th>\n",
       "      <td>Date of completion</td>\n",
       "      <td>Date - Completion</td>\n",
       "      <td>N</td>\n",
       "      <td>Y</td>\n",
       "      <td>N</td>\n",
       "      <td>N</td>\n",
       "      <td>CDAT</td>\n",
       "      <td>Y</td>\n",
       "      <td>11688</td>\n",
       "    </tr>\n",
       "    <tr>\n",
       "      <th>40</th>\n",
       "      <td>Date publication first accessible through Entrez</td>\n",
       "      <td>Date - Create</td>\n",
       "      <td>N</td>\n",
       "      <td>Y</td>\n",
       "      <td>N</td>\n",
       "      <td>N</td>\n",
       "      <td>CRDT</td>\n",
       "      <td>Y</td>\n",
       "      <td>30338</td>\n",
       "    </tr>\n",
       "    <tr>\n",
       "      <th>13</th>\n",
       "      <td>Date publication first accessible through Entrez</td>\n",
       "      <td>Date - Entrez</td>\n",
       "      <td>N</td>\n",
       "      <td>Y</td>\n",
       "      <td>N</td>\n",
       "      <td>N</td>\n",
       "      <td>EDAT</td>\n",
       "      <td>Y</td>\n",
       "      <td>39090</td>\n",
       "    </tr>\n",
       "    <tr>\n",
       "      <th>21</th>\n",
       "      <td>Date publication was indexed with MeSH terms</td>\n",
       "      <td>Date - MeSH</td>\n",
       "      <td>N</td>\n",
       "      <td>Y</td>\n",
       "      <td>N</td>\n",
       "      <td>N</td>\n",
       "      <td>MHDA</td>\n",
       "      <td>Y</td>\n",
       "      <td>38947</td>\n",
       "    </tr>\n",
       "    <tr>\n",
       "      <th>29</th>\n",
       "      <td>Date of last modification</td>\n",
       "      <td>Date - Modification</td>\n",
       "      <td>N</td>\n",
       "      <td>Y</td>\n",
       "      <td>N</td>\n",
       "      <td>N</td>\n",
       "      <td>MDAT</td>\n",
       "      <td>Y</td>\n",
       "      <td>7031</td>\n",
       "    </tr>\n",
       "    <tr>\n",
       "      <th>12</th>\n",
       "      <td>Date of publication</td>\n",
       "      <td>Date - Publication</td>\n",
       "      <td>N</td>\n",
       "      <td>Y</td>\n",
       "      <td>N</td>\n",
       "      <td>N</td>\n",
       "      <td>PDAT</td>\n",
       "      <td>Y</td>\n",
       "      <td>40139</td>\n",
       "    </tr>\n",
       "    <tr>\n",
       "      <th>10</th>\n",
       "      <td>EC number for enzyme or CAS registry number</td>\n",
       "      <td>EC/RN Number</td>\n",
       "      <td>N</td>\n",
       "      <td>N</td>\n",
       "      <td>N</td>\n",
       "      <td>N</td>\n",
       "      <td>ECNO</td>\n",
       "      <td>Y</td>\n",
       "      <td>103420</td>\n",
       "    </tr>\n",
       "    <tr>\n",
       "      <th>42</th>\n",
       "      <td>Section's Editor</td>\n",
       "      <td>Editor</td>\n",
       "      <td>N</td>\n",
       "      <td>N</td>\n",
       "      <td>N</td>\n",
       "      <td>N</td>\n",
       "      <td>ED</td>\n",
       "      <td>Y</td>\n",
       "      <td>4795</td>\n",
       "    </tr>\n",
       "    <tr>\n",
       "      <th>38</th>\n",
       "      <td>Date of Electronic publication</td>\n",
       "      <td>Electronic Publication Date</td>\n",
       "      <td>N</td>\n",
       "      <td>Y</td>\n",
       "      <td>Y</td>\n",
       "      <td>N</td>\n",
       "      <td>EPDT</td>\n",
       "      <td>Y</td>\n",
       "      <td>7399</td>\n",
       "    </tr>\n",
       "    <tr>\n",
       "      <th>46</th>\n",
       "      <td>Extended PMID</td>\n",
       "      <td>Extended PMID</td>\n",
       "      <td>N</td>\n",
       "      <td>N</td>\n",
       "      <td>Y</td>\n",
       "      <td>N</td>\n",
       "      <td>EID</td>\n",
       "      <td>Y</td>\n",
       "      <td>29287445</td>\n",
       "    </tr>\n",
       "    <tr>\n",
       "      <th>2</th>\n",
       "      <td>Limits the records</td>\n",
       "      <td>Filter</td>\n",
       "      <td>N</td>\n",
       "      <td>N</td>\n",
       "      <td>N</td>\n",
       "      <td>N</td>\n",
       "      <td>FILT</td>\n",
       "      <td>Y</td>\n",
       "      <td>12346</td>\n",
       "    </tr>\n",
       "    <tr>\n",
       "      <th>28</th>\n",
       "      <td>NIH Grant Numbers</td>\n",
       "      <td>Grant Number</td>\n",
       "      <td>N</td>\n",
       "      <td>N</td>\n",
       "      <td>N</td>\n",
       "      <td>N</td>\n",
       "      <td>GRNT</td>\n",
       "      <td>Y</td>\n",
       "      <td>4261628</td>\n",
       "    </tr>\n",
       "    <tr>\n",
       "      <th>43</th>\n",
       "      <td>ISBN</td>\n",
       "      <td>ISBN</td>\n",
       "      <td>N</td>\n",
       "      <td>N</td>\n",
       "      <td>N</td>\n",
       "      <td>N</td>\n",
       "      <td>ISBN</td>\n",
       "      <td>Y</td>\n",
       "      <td>3747</td>\n",
       "    </tr>\n",
       "    <tr>\n",
       "      <th>24</th>\n",
       "      <td>Investigator</td>\n",
       "      <td>Investigator</td>\n",
       "      <td>N</td>\n",
       "      <td>N</td>\n",
       "      <td>N</td>\n",
       "      <td>N</td>\n",
       "      <td>INVR</td>\n",
       "      <td>Y</td>\n",
       "      <td>1648842</td>\n",
       "    </tr>\n",
       "    <tr>\n",
       "      <th>34</th>\n",
       "      <td>Full name of investigator</td>\n",
       "      <td>Investigator - Full</td>\n",
       "      <td>N</td>\n",
       "      <td>N</td>\n",
       "      <td>N</td>\n",
       "      <td>N</td>\n",
       "      <td>FINV</td>\n",
       "      <td>Y</td>\n",
       "      <td>944384</td>\n",
       "    </tr>\n",
       "    <tr>\n",
       "      <th>18</th>\n",
       "      <td>Issue number of publication</td>\n",
       "      <td>Issue</td>\n",
       "      <td>N</td>\n",
       "      <td>N</td>\n",
       "      <td>N</td>\n",
       "      <td>N</td>\n",
       "      <td>ISS</td>\n",
       "      <td>Y</td>\n",
       "      <td>16729</td>\n",
       "    </tr>\n",
       "    <tr>\n",
       "      <th>8</th>\n",
       "      <td>Journal abbreviation of publication</td>\n",
       "      <td>Journal</td>\n",
       "      <td>N</td>\n",
       "      <td>N</td>\n",
       "      <td>N</td>\n",
       "      <td>N</td>\n",
       "      <td>JOUR</td>\n",
       "      <td>Y</td>\n",
       "      <td>197538</td>\n",
       "    </tr>\n",
       "    <tr>\n",
       "      <th>17</th>\n",
       "      <td>Language of publication</td>\n",
       "      <td>Language</td>\n",
       "      <td>N</td>\n",
       "      <td>N</td>\n",
       "      <td>N</td>\n",
       "      <td>N</td>\n",
       "      <td>LANG</td>\n",
       "      <td>Y</td>\n",
       "      <td>59</td>\n",
       "    </tr>\n",
       "    <tr>\n",
       "      <th>39</th>\n",
       "      <td>ELocation ID</td>\n",
       "      <td>Location ID</td>\n",
       "      <td>N</td>\n",
       "      <td>N</td>\n",
       "      <td>N</td>\n",
       "      <td>N</td>\n",
       "      <td>LID</td>\n",
       "      <td>Y</td>\n",
       "      <td>15137548</td>\n",
       "    </tr>\n",
       "    <tr>\n",
       "      <th>6</th>\n",
       "      <td>MeSH terms of major importance to publication</td>\n",
       "      <td>MeSH Major Topic</td>\n",
       "      <td>Y</td>\n",
       "      <td>N</td>\n",
       "      <td>N</td>\n",
       "      <td>N</td>\n",
       "      <td>MAJR</td>\n",
       "      <td>Y</td>\n",
       "      <td>544470</td>\n",
       "    </tr>\n",
       "    <tr>\n",
       "      <th>19</th>\n",
       "      <td>Additional specificity for MeSH term</td>\n",
       "      <td>MeSH Subheading</td>\n",
       "      <td>Y</td>\n",
       "      <td>N</td>\n",
       "      <td>N</td>\n",
       "      <td>N</td>\n",
       "      <td>SUBH</td>\n",
       "      <td>Y</td>\n",
       "      <td>76</td>\n",
       "    </tr>\n",
       "    <tr>\n",
       "      <th>5</th>\n",
       "      <td>Medical Subject Headings assigned to publication</td>\n",
       "      <td>MeSH Terms</td>\n",
       "      <td>Y</td>\n",
       "      <td>N</td>\n",
       "      <td>N</td>\n",
       "      <td>N</td>\n",
       "      <td>MESH</td>\n",
       "      <td>Y</td>\n",
       "      <td>606053</td>\n",
       "    </tr>\n",
       "    <tr>\n",
       "      <th>23</th>\n",
       "      <td>Other terms associated with publication</td>\n",
       "      <td>Other Term</td>\n",
       "      <td>N</td>\n",
       "      <td>N</td>\n",
       "      <td>N</td>\n",
       "      <td>N</td>\n",
       "      <td>OTRM</td>\n",
       "      <td>N</td>\n",
       "      <td>3868726</td>\n",
       "    </tr>\n",
       "    <tr>\n",
       "      <th>15</th>\n",
       "      <td>Page number(s) of publication</td>\n",
       "      <td>Pagination</td>\n",
       "      <td>N</td>\n",
       "      <td>N</td>\n",
       "      <td>N</td>\n",
       "      <td>N</td>\n",
       "      <td>PAGE</td>\n",
       "      <td>Y</td>\n",
       "      <td>3355760</td>\n",
       "    </tr>\n",
       "    <tr>\n",
       "      <th>27</th>\n",
       "      <td>MeSH pharmacological action pre-explosions</td>\n",
       "      <td>Pharmacological Action</td>\n",
       "      <td>N</td>\n",
       "      <td>N</td>\n",
       "      <td>N</td>\n",
       "      <td>N</td>\n",
       "      <td>PAPX</td>\n",
       "      <td>Y</td>\n",
       "      <td>540</td>\n",
       "    </tr>\n",
       "    <tr>\n",
       "      <th>26</th>\n",
       "      <td>Country of publication</td>\n",
       "      <td>Place of Publication</td>\n",
       "      <td>N</td>\n",
       "      <td>N</td>\n",
       "      <td>Y</td>\n",
       "      <td>N</td>\n",
       "      <td>CNTY</td>\n",
       "      <td>N</td>\n",
       "      <td>228</td>\n",
       "    </tr>\n",
       "    <tr>\n",
       "      <th>37</th>\n",
       "      <td>Date of print publication</td>\n",
       "      <td>Print Publication Date</td>\n",
       "      <td>N</td>\n",
       "      <td>Y</td>\n",
       "      <td>Y</td>\n",
       "      <td>N</td>\n",
       "      <td>PPDT</td>\n",
       "      <td>Y</td>\n",
       "      <td>40127</td>\n",
       "    </tr>\n",
       "    <tr>\n",
       "      <th>16</th>\n",
       "      <td>Type of publication (e.g., review)</td>\n",
       "      <td>Publication Type</td>\n",
       "      <td>Y</td>\n",
       "      <td>N</td>\n",
       "      <td>N</td>\n",
       "      <td>N</td>\n",
       "      <td>PTYP</td>\n",
       "      <td>Y</td>\n",
       "      <td>87</td>\n",
       "    </tr>\n",
       "    <tr>\n",
       "      <th>44</th>\n",
       "      <td>Publisher's name</td>\n",
       "      <td>Publisher</td>\n",
       "      <td>N</td>\n",
       "      <td>N</td>\n",
       "      <td>N</td>\n",
       "      <td>N</td>\n",
       "      <td>PUBN</td>\n",
       "      <td>Y</td>\n",
       "      <td>546</td>\n",
       "    </tr>\n",
       "    <tr>\n",
       "      <th>31</th>\n",
       "      <td>Publisher ID</td>\n",
       "      <td>Publisher ID</td>\n",
       "      <td>N</td>\n",
       "      <td>N</td>\n",
       "      <td>Y</td>\n",
       "      <td>N</td>\n",
       "      <td>PID</td>\n",
       "      <td>Y</td>\n",
       "      <td>23358286</td>\n",
       "    </tr>\n",
       "    <tr>\n",
       "      <th>20</th>\n",
       "      <td>Cross-reference from publication to other data...</td>\n",
       "      <td>Secondary Source ID</td>\n",
       "      <td>N</td>\n",
       "      <td>N</td>\n",
       "      <td>N</td>\n",
       "      <td>N</td>\n",
       "      <td>SI</td>\n",
       "      <td>Y</td>\n",
       "      <td>7746614</td>\n",
       "    </tr>\n",
       "    <tr>\n",
       "      <th>49</th>\n",
       "      <td>Personal Name as Subject</td>\n",
       "      <td>Subject - Personal Name</td>\n",
       "      <td>N</td>\n",
       "      <td>N</td>\n",
       "      <td>N</td>\n",
       "      <td>N</td>\n",
       "      <td>PS</td>\n",
       "      <td>Y</td>\n",
       "      <td>544448</td>\n",
       "    </tr>\n",
       "    <tr>\n",
       "      <th>11</th>\n",
       "      <td>CAS chemical name or MEDLINE Substance Name</td>\n",
       "      <td>Supplementary Concept</td>\n",
       "      <td>N</td>\n",
       "      <td>N</td>\n",
       "      <td>N</td>\n",
       "      <td>N</td>\n",
       "      <td>SUBS</td>\n",
       "      <td>Y</td>\n",
       "      <td>258786</td>\n",
       "    </tr>\n",
       "    <tr>\n",
       "      <th>4</th>\n",
       "      <td>Free text associated with publication</td>\n",
       "      <td>Text Word</td>\n",
       "      <td>N</td>\n",
       "      <td>N</td>\n",
       "      <td>N</td>\n",
       "      <td>N</td>\n",
       "      <td>WORD</td>\n",
       "      <td>N</td>\n",
       "      <td>62477493</td>\n",
       "    </tr>\n",
       "    <tr>\n",
       "      <th>3</th>\n",
       "      <td>Words in title of publication</td>\n",
       "      <td>Title</td>\n",
       "      <td>N</td>\n",
       "      <td>N</td>\n",
       "      <td>N</td>\n",
       "      <td>N</td>\n",
       "      <td>TITL</td>\n",
       "      <td>N</td>\n",
       "      <td>17229844</td>\n",
       "    </tr>\n",
       "    <tr>\n",
       "      <th>22</th>\n",
       "      <td>Free text associated with Abstract/Title</td>\n",
       "      <td>Title/Abstract</td>\n",
       "      <td>N</td>\n",
       "      <td>N</td>\n",
       "      <td>N</td>\n",
       "      <td>N</td>\n",
       "      <td>TIAB</td>\n",
       "      <td>N</td>\n",
       "      <td>52653103</td>\n",
       "    </tr>\n",
       "    <tr>\n",
       "      <th>35</th>\n",
       "      <td>Words in transliterated title of publication</td>\n",
       "      <td>Transliterated Title</td>\n",
       "      <td>N</td>\n",
       "      <td>N</td>\n",
       "      <td>N</td>\n",
       "      <td>N</td>\n",
       "      <td>TT</td>\n",
       "      <td>N</td>\n",
       "      <td>2324315</td>\n",
       "    </tr>\n",
       "    <tr>\n",
       "      <th>1</th>\n",
       "      <td>Unique number assigned to publication</td>\n",
       "      <td>UID</td>\n",
       "      <td>N</td>\n",
       "      <td>N</td>\n",
       "      <td>Y</td>\n",
       "      <td>Y</td>\n",
       "      <td>UID</td>\n",
       "      <td>Y</td>\n",
       "      <td>0</td>\n",
       "    </tr>\n",
       "    <tr>\n",
       "      <th>14</th>\n",
       "      <td>Volume number of publication</td>\n",
       "      <td>Volume</td>\n",
       "      <td>N</td>\n",
       "      <td>N</td>\n",
       "      <td>N</td>\n",
       "      <td>N</td>\n",
       "      <td>VOL</td>\n",
       "      <td>Y</td>\n",
       "      <td>13184</td>\n",
       "    </tr>\n",
       "  </tbody>\n",
       "</table>\n",
       "</div>"
      ],
      "text/plain": [
       "                                          Description  \\\n",
       "9      Author's institutional affiliation and address   \n",
       "0                All terms from all searchable fields   \n",
       "7                            Author(s) of publication   \n",
       "25                    Corporate Author of publication   \n",
       "32                        First Author of publication   \n",
       "33                 Full Author Name(s) of publication   \n",
       "48                                  Author Identifier   \n",
       "36                         Last Author of publication   \n",
       "45                                  Author Cluster ID   \n",
       "41          ID of the book that contains the document   \n",
       "50                    Conflict of Interest Statements   \n",
       "47                   Additional text from the summary   \n",
       "30                                 Date of completion   \n",
       "40   Date publication first accessible through Entrez   \n",
       "13   Date publication first accessible through Entrez   \n",
       "21       Date publication was indexed with MeSH terms   \n",
       "29                          Date of last modification   \n",
       "12                                Date of publication   \n",
       "10        EC number for enzyme or CAS registry number   \n",
       "42                                   Section's Editor   \n",
       "38                     Date of Electronic publication   \n",
       "46                                      Extended PMID   \n",
       "2                                  Limits the records   \n",
       "28                                  NIH Grant Numbers   \n",
       "43                                               ISBN   \n",
       "24                                       Investigator   \n",
       "34                          Full name of investigator   \n",
       "18                        Issue number of publication   \n",
       "8                 Journal abbreviation of publication   \n",
       "17                            Language of publication   \n",
       "39                                       ELocation ID   \n",
       "6       MeSH terms of major importance to publication   \n",
       "19               Additional specificity for MeSH term   \n",
       "5    Medical Subject Headings assigned to publication   \n",
       "23            Other terms associated with publication   \n",
       "15                      Page number(s) of publication   \n",
       "27         MeSH pharmacological action pre-explosions   \n",
       "26                             Country of publication   \n",
       "37                          Date of print publication   \n",
       "16                 Type of publication (e.g., review)   \n",
       "44                                   Publisher's name   \n",
       "31                                       Publisher ID   \n",
       "20  Cross-reference from publication to other data...   \n",
       "49                           Personal Name as Subject   \n",
       "11        CAS chemical name or MEDLINE Substance Name   \n",
       "4               Free text associated with publication   \n",
       "3                       Words in title of publication   \n",
       "22           Free text associated with Abstract/Title   \n",
       "35       Words in transliterated title of publication   \n",
       "1               Unique number assigned to publication   \n",
       "14                       Volume number of publication   \n",
       "\n",
       "                           FullName Hierarchy IsDate IsHidden IsNumerical  \\\n",
       "9                       Affiliation         N      N        N           N   \n",
       "0                        All Fields         N      N        N           N   \n",
       "7                            Author         N      N        N           N   \n",
       "25               Author - Corporate         N      N        N           N   \n",
       "32                   Author - First         N      N        N           N   \n",
       "33                    Author - Full         N      N        N           N   \n",
       "48              Author - Identifier         N      N        N           N   \n",
       "36                    Author - Last         N      N        N           N   \n",
       "45                Author Cluster ID         N      N        Y           N   \n",
       "41                             Book         N      N        N           N   \n",
       "50  Conflict of Interest Statements         N      N        N           N   \n",
       "47                              DSO         N      N        Y           N   \n",
       "30                Date - Completion         N      Y        N           N   \n",
       "40                    Date - Create         N      Y        N           N   \n",
       "13                    Date - Entrez         N      Y        N           N   \n",
       "21                      Date - MeSH         N      Y        N           N   \n",
       "29              Date - Modification         N      Y        N           N   \n",
       "12               Date - Publication         N      Y        N           N   \n",
       "10                     EC/RN Number         N      N        N           N   \n",
       "42                           Editor         N      N        N           N   \n",
       "38      Electronic Publication Date         N      Y        Y           N   \n",
       "46                    Extended PMID         N      N        Y           N   \n",
       "2                            Filter         N      N        N           N   \n",
       "28                     Grant Number         N      N        N           N   \n",
       "43                             ISBN         N      N        N           N   \n",
       "24                     Investigator         N      N        N           N   \n",
       "34              Investigator - Full         N      N        N           N   \n",
       "18                            Issue         N      N        N           N   \n",
       "8                           Journal         N      N        N           N   \n",
       "17                         Language         N      N        N           N   \n",
       "39                      Location ID         N      N        N           N   \n",
       "6                  MeSH Major Topic         Y      N        N           N   \n",
       "19                  MeSH Subheading         Y      N        N           N   \n",
       "5                        MeSH Terms         Y      N        N           N   \n",
       "23                       Other Term         N      N        N           N   \n",
       "15                       Pagination         N      N        N           N   \n",
       "27           Pharmacological Action         N      N        N           N   \n",
       "26             Place of Publication         N      N        Y           N   \n",
       "37           Print Publication Date         N      Y        Y           N   \n",
       "16                 Publication Type         Y      N        N           N   \n",
       "44                        Publisher         N      N        N           N   \n",
       "31                     Publisher ID         N      N        Y           N   \n",
       "20              Secondary Source ID         N      N        N           N   \n",
       "49          Subject - Personal Name         N      N        N           N   \n",
       "11            Supplementary Concept         N      N        N           N   \n",
       "4                         Text Word         N      N        N           N   \n",
       "3                             Title         N      N        N           N   \n",
       "22                   Title/Abstract         N      N        N           N   \n",
       "35             Transliterated Title         N      N        N           N   \n",
       "1                               UID         N      N        Y           Y   \n",
       "14                           Volume         N      N        N           N   \n",
       "\n",
       "    Name SingleToken  TermCount  \n",
       "9   AFFL           N   49050415  \n",
       "0    ALL           N  210478151  \n",
       "7   AUTH           Y   19646245  \n",
       "25  COLN           N     251460  \n",
       "32  FAUT           Y   10533208  \n",
       "33  FULL           Y   13142872  \n",
       "48  AUID           Y    3094462  \n",
       "36  LAUT           Y    8883895  \n",
       "45  AUCL           Y          0  \n",
       "41  BOOK           Y       5947  \n",
       "50  COIS           N     201172  \n",
       "47   DSO           N     366024  \n",
       "30  CDAT           Y      11688  \n",
       "40  CRDT           Y      30338  \n",
       "13  EDAT           Y      39090  \n",
       "21  MHDA           Y      38947  \n",
       "29  MDAT           Y       7031  \n",
       "12  PDAT           Y      40139  \n",
       "10  ECNO           Y     103420  \n",
       "42    ED           Y       4795  \n",
       "38  EPDT           Y       7399  \n",
       "46   EID           Y   29287445  \n",
       "2   FILT           Y      12346  \n",
       "28  GRNT           Y    4261628  \n",
       "43  ISBN           Y       3747  \n",
       "24  INVR           Y    1648842  \n",
       "34  FINV           Y     944384  \n",
       "18   ISS           Y      16729  \n",
       "8   JOUR           Y     197538  \n",
       "17  LANG           Y         59  \n",
       "39   LID           Y   15137548  \n",
       "6   MAJR           Y     544470  \n",
       "19  SUBH           Y         76  \n",
       "5   MESH           Y     606053  \n",
       "23  OTRM           N    3868726  \n",
       "15  PAGE           Y    3355760  \n",
       "27  PAPX           Y        540  \n",
       "26  CNTY           N        228  \n",
       "37  PPDT           Y      40127  \n",
       "16  PTYP           Y         87  \n",
       "44  PUBN           Y        546  \n",
       "31   PID           Y   23358286  \n",
       "20    SI           Y    7746614  \n",
       "49    PS           Y     544448  \n",
       "11  SUBS           Y     258786  \n",
       "4   WORD           N   62477493  \n",
       "3   TITL           N   17229844  \n",
       "22  TIAB           N   52653103  \n",
       "35    TT           N    2324315  \n",
       "1    UID           Y          0  \n",
       "14   VOL           Y      13184  "
      ]
     },
     "execution_count": 103,
     "metadata": {},
     "output_type": "execute_result"
    }
   ],
   "source": [
    "df = pd.DataFrame(Dinfo[\"FieldList\"])\n",
    "df = df.sort_values([\"FullName\"])\n",
    "df"
   ]
  },
  {
   "cell_type": "code",
   "execution_count": 107,
   "metadata": {},
   "outputs": [
    {
     "name": "stdout",
     "output_type": "stream",
     "text": [
      "<class 'Bio.Entrez.Parser.ListElement'>   59\n"
     ]
    }
   ],
   "source": [
    "print(type(Dinfo[\"LinkList\"]),\" \", len(Dinfo[\"LinkList\"]))"
   ]
  },
  {
   "cell_type": "code",
   "execution_count": 109,
   "metadata": {},
   "outputs": [
    {
     "data": {
      "text/html": [
       "<div>\n",
       "<style scoped>\n",
       "    .dataframe tbody tr th:only-of-type {\n",
       "        vertical-align: middle;\n",
       "    }\n",
       "\n",
       "    .dataframe tbody tr th {\n",
       "        vertical-align: top;\n",
       "    }\n",
       "\n",
       "    .dataframe thead th {\n",
       "        text-align: right;\n",
       "    }\n",
       "</style>\n",
       "<table border=\"1\" class=\"dataframe\">\n",
       "  <thead>\n",
       "    <tr style=\"text-align: right;\">\n",
       "      <th></th>\n",
       "      <th>DbTo</th>\n",
       "      <th>Description</th>\n",
       "      <th>Menu</th>\n",
       "      <th>Name</th>\n",
       "    </tr>\n",
       "  </thead>\n",
       "  <tbody>\n",
       "    <tr>\n",
       "      <th>0</th>\n",
       "      <td>assembly</td>\n",
       "      <td>Assembly</td>\n",
       "      <td>Assembly</td>\n",
       "      <td>pubmed_assembly</td>\n",
       "    </tr>\n",
       "    <tr>\n",
       "      <th>1</th>\n",
       "      <td>bioproject</td>\n",
       "      <td>Related Projects</td>\n",
       "      <td>Project Links</td>\n",
       "      <td>pubmed_bioproject</td>\n",
       "    </tr>\n",
       "    <tr>\n",
       "      <th>2</th>\n",
       "      <td>biosample</td>\n",
       "      <td>BioSample links</td>\n",
       "      <td>BioSample Links</td>\n",
       "      <td>pubmed_biosample</td>\n",
       "    </tr>\n",
       "    <tr>\n",
       "      <th>3</th>\n",
       "      <td>biosystems</td>\n",
       "      <td>BioSystems</td>\n",
       "      <td>BioSystem Links</td>\n",
       "      <td>pubmed_biosystems</td>\n",
       "    </tr>\n",
       "    <tr>\n",
       "      <th>4</th>\n",
       "      <td>books</td>\n",
       "      <td>PubMed links associated with Books</td>\n",
       "      <td>Cited in Books</td>\n",
       "      <td>pubmed_books_refs</td>\n",
       "    </tr>\n",
       "  </tbody>\n",
       "</table>\n",
       "</div>"
      ],
      "text/plain": [
       "         DbTo                         Description             Menu  \\\n",
       "0    assembly                            Assembly         Assembly   \n",
       "1  bioproject                    Related Projects    Project Links   \n",
       "2   biosample                     BioSample links  BioSample Links   \n",
       "3  biosystems                          BioSystems  BioSystem Links   \n",
       "4       books  PubMed links associated with Books   Cited in Books   \n",
       "\n",
       "                Name  \n",
       "0    pubmed_assembly  \n",
       "1  pubmed_bioproject  \n",
       "2   pubmed_biosample  \n",
       "3  pubmed_biosystems  \n",
       "4  pubmed_books_refs  "
      ]
     },
     "execution_count": 109,
     "metadata": {},
     "output_type": "execute_result"
    }
   ],
   "source": [
    "df = pd.DataFrame(Dinfo[\"LinkList\"])\n",
    "df.head()"
   ]
  },
  {
   "cell_type": "code",
   "execution_count": 112,
   "metadata": {},
   "outputs": [
    {
     "data": {
      "text/html": [
       "<div>\n",
       "<style scoped>\n",
       "    .dataframe tbody tr th:only-of-type {\n",
       "        vertical-align: middle;\n",
       "    }\n",
       "\n",
       "    .dataframe tbody tr th {\n",
       "        vertical-align: top;\n",
       "    }\n",
       "\n",
       "    .dataframe thead th {\n",
       "        text-align: right;\n",
       "    }\n",
       "</style>\n",
       "<table border=\"1\" class=\"dataframe\">\n",
       "  <thead>\n",
       "    <tr style=\"text-align: right;\">\n",
       "      <th></th>\n",
       "      <th>DbTo</th>\n",
       "      <th>Description</th>\n",
       "      <th>Menu</th>\n",
       "      <th>Name</th>\n",
       "    </tr>\n",
       "  </thead>\n",
       "  <tbody>\n",
       "    <tr>\n",
       "      <th>49</th>\n",
       "      <td>pubmed</td>\n",
       "      <td>Similar PubMed articles, obtained by matching ...</td>\n",
       "      <td>Similar articles</td>\n",
       "      <td>pubmed_pubmed</td>\n",
       "    </tr>\n",
       "    <tr>\n",
       "      <th>50</th>\n",
       "      <td>pubmed</td>\n",
       "      <td>Articles frequently viewed together</td>\n",
       "      <td>Articles frequently viewed together</td>\n",
       "      <td>pubmed_pubmed_alsoviewed</td>\n",
       "    </tr>\n",
       "    <tr>\n",
       "      <th>51</th>\n",
       "      <td>pubmed</td>\n",
       "      <td>PubMed abstracts for articles cited in this re...</td>\n",
       "      <td>References for this Bookshelf citation</td>\n",
       "      <td>pubmed_pubmed_bookrecords</td>\n",
       "    </tr>\n",
       "    <tr>\n",
       "      <th>52</th>\n",
       "      <td>pubmed</td>\n",
       "      <td>References for this PMC Article</td>\n",
       "      <td>References for PMC Articles</td>\n",
       "      <td>pubmed_pubmed_refs</td>\n",
       "    </tr>\n",
       "  </tbody>\n",
       "</table>\n",
       "</div>"
      ],
      "text/plain": [
       "      DbTo                                        Description  \\\n",
       "49  pubmed  Similar PubMed articles, obtained by matching ...   \n",
       "50  pubmed                Articles frequently viewed together   \n",
       "51  pubmed  PubMed abstracts for articles cited in this re...   \n",
       "52  pubmed                    References for this PMC Article   \n",
       "\n",
       "                                      Menu                       Name  \n",
       "49                        Similar articles              pubmed_pubmed  \n",
       "50     Articles frequently viewed together   pubmed_pubmed_alsoviewed  \n",
       "51  References for this Bookshelf citation  pubmed_pubmed_bookrecords  \n",
       "52             References for PMC Articles         pubmed_pubmed_refs  "
      ]
     },
     "execution_count": 112,
     "metadata": {},
     "output_type": "execute_result"
    }
   ],
   "source": [
    "df.loc[ df[\"DbTo\"] == \"pubmed\" ]"
   ]
  },
  {
   "cell_type": "code",
   "execution_count": 63,
   "metadata": {},
   "outputs": [
    {
     "name": "stdout",
     "output_type": "stream",
     "text": [
      "PubMed bibliographic record  /  29304852  /  2019/01/24 03:39\n"
     ]
    }
   ],
   "source": [
    "print(Dinfo[\"Description\"],\" / \",Dinfo[\"Count\"],\" / \",Dinfo[\"LastUpdate\"])"
   ]
  },
  {
   "cell_type": "markdown",
   "metadata": {},
   "source": [
    "#### esearch\n",
    "방대한 자료를 검색. Enterez.esrach(db=\"pubmed\", term=\"biopython\")의 형태를 사용한다.\n",
    "pubmed에서 biopython을 검색."
   ]
  },
  {
   "cell_type": "code",
   "execution_count": 113,
   "metadata": {},
   "outputs": [],
   "source": [
    "handle = Entrez.esearch(db=\"pubmed\", term=\"biopython\")\n",
    "record = Entrez.read(handle)"
   ]
  },
  {
   "cell_type": "code",
   "execution_count": 117,
   "metadata": {},
   "outputs": [
    {
     "data": {
      "text/plain": [
       "DictElement({'Count': '24', 'RetMax': '20', 'RetStart': '0', 'IdList': ['30013827', '29641230', '28011774', '24929426', '24497503', '24267035', '24194598', '23842806', '23157543', '22909249', '22399473', '21666252', '21210977', '20015970', '19811691', '19773334', '19304878', '18606172', '21585724', '16403221'], 'TranslationSet': [], 'TranslationStack': [DictElement({'Term': 'biopython[All Fields]', 'Field': 'All Fields', 'Count': '24', 'Explode': 'N'}, attributes={}), 'GROUP'], 'QueryTranslation': 'biopython[All Fields]'}, attributes={})"
      ]
     },
     "execution_count": 117,
     "metadata": {},
     "output_type": "execute_result"
    }
   ],
   "source": [
    "record"
   ]
  },
  {
   "cell_type": "code",
   "execution_count": 121,
   "metadata": {},
   "outputs": [
    {
     "name": "stdout",
     "output_type": "stream",
     "text": [
      "Count :  24  /  <class 'Bio.Entrez.Parser.StringElement'>\n",
      "RetMax :  20  /  <class 'Bio.Entrez.Parser.StringElement'>\n",
      "RetStart :  0  /  <class 'Bio.Entrez.Parser.StringElement'>\n",
      "IdList :  ['30013827', '29641230', '28011774', '24929426', '24497503', '24267035', '24194598', '23842806', '23157543', '22909249', '22399473', '21666252', '21210977', '20015970', '19811691', '19773334', '19304878', '18606172', '21585724', '16403221']  /  <class 'Bio.Entrez.Parser.ListElement'>\n",
      "TranslationSet :  []  /  <class 'Bio.Entrez.Parser.ListElement'>\n",
      "TranslationStack :  [DictElement({'Term': 'biopython[All Fields]', 'Field': 'All Fields', 'Count': '24', 'Explode': 'N'}, attributes={}), 'GROUP']  /  <class 'Bio.Entrez.Parser.ListElement'>\n",
      "QueryTranslation :  biopython[All Fields]  /  <class 'Bio.Entrez.Parser.StringElement'>\n"
     ]
    }
   ],
   "source": [
    "record_key = record.keys()\n",
    "\n",
    "for nkey in record_key:\n",
    "    print(nkey,\": \",record[nkey],\" / \",type(record[nkey]))"
   ]
  },
  {
   "cell_type": "markdown",
   "metadata": {},
   "source": [
    "#### 서열 검색\n",
    "검색어 AND 조건을 추가할 수 있다. Cypripedioideae[Orgn] AND matK[Gens]으로 검색. Orgn은 특정 계통으로 toxonomy를 선택, Gene은 matK라는 유전자 이름만 검색한다는 의미."
   ]
  },
  {
   "cell_type": "code",
   "execution_count": 126,
   "metadata": {},
   "outputs": [],
   "source": [
    "handle = Entrez.esearch(db=\"nucleotide\", term=\"Cypripedioideae[Orgn] AND matK[Gene]\")\n",
    "record = Entrez.read(handle)"
   ]
  },
  {
   "cell_type": "code",
   "execution_count": 128,
   "metadata": {},
   "outputs": [
    {
     "name": "stdout",
     "output_type": "stream",
     "text": [
      "Count :  416  /  <class 'Bio.Entrez.Parser.StringElement'>\n",
      "RetMax :  20  /  <class 'Bio.Entrez.Parser.StringElement'>\n",
      "RetStart :  0  /  <class 'Bio.Entrez.Parser.StringElement'>\n",
      "IdList :  ['1530728898', '1530728896', '1530728894', '1530728892', '1530728890', '1530728888', '1530728886', '1530728884', '1530728882', '1530728880', '1530728878', '1530728876', '1530728874', '1530728872', '1530728870', '1530728868', '1530728866', '1434742847', '1434742845', '1434742843']  /  <class 'Bio.Entrez.Parser.ListElement'>\n",
      "TranslationSet :  [DictElement({'From': 'Cypripedioideae[Orgn]', 'To': '\"Cypripedioideae\"[Organism]'}, attributes={})]  /  <class 'Bio.Entrez.Parser.ListElement'>\n",
      "TranslationStack :  [DictElement({'Term': '\"Cypripedioideae\"[Organism]', 'Field': 'Organism', 'Count': '4872', 'Explode': 'Y'}, attributes={}), DictElement({'Term': 'matK[Gene]', 'Field': 'Gene', 'Count': '160053', 'Explode': 'N'}, attributes={}), 'AND']  /  <class 'Bio.Entrez.Parser.ListElement'>\n",
      "QueryTranslation :  \"Cypripedioideae\"[Organism] AND matK[Gene]  /  <class 'Bio.Entrez.Parser.StringElement'>\n"
     ]
    }
   ],
   "source": [
    "record_key = record.keys()\n",
    "\n",
    "for nkey in record_key:\n",
    "    print(nkey,\": \",record[nkey],\" / \",type(record[nkey]))"
   ]
  },
  {
   "cell_type": "markdown",
   "metadata": {},
   "source": [
    "#### efetch\n",
    "검색결과의 세부 정보를 확인. efetch(db=\"nucleotide\", id=\"123456\", rettype=\"gb\", retmode=\"text\") 식으로 사용. rettype은 데이터 포맷, retmode는 데이터 형태를 의미한다."
   ]
  },
  {
   "cell_type": "code",
   "execution_count": 143,
   "metadata": {},
   "outputs": [
    {
     "data": {
      "text/plain": [
       "'LOCUS       MG522909                 836 bp    DNA     linear   PLN 11-DEC-2018\\nDEFINITION  Paphiope'"
      ]
     },
     "execution_count": 143,
     "metadata": {},
     "output_type": "execute_result"
    }
   ],
   "source": [
    "handle = Entrez.efetch(db=\"nucleotide\", id=\"1530728898\", rettype=\"gb\", retmode=\"text\") \n",
    "handle.read()[:100]"
   ]
  },
  {
   "cell_type": "markdown",
   "metadata": {},
   "source": [
    "XML데이터를 바이오파이썬에서 읽을 수 있다. 파일 포맷이 gb인데 이는 genbank의 약자이다."
   ]
  },
  {
   "cell_type": "code",
   "execution_count": 140,
   "metadata": {},
   "outputs": [],
   "source": [
    "from Bio import SeqIO"
   ]
  },
  {
   "cell_type": "code",
   "execution_count": 149,
   "metadata": {},
   "outputs": [],
   "source": [
    "handle = Entrez.efetch(db=\"nucleotide\", id=\"1530728898\", rettype=\"gb\", retmode=\"text\") \n",
    "record = SeqIO.read(handle, \"genbank\")\n",
    "handle.close()"
   ]
  },
  {
   "cell_type": "code",
   "execution_count": 150,
   "metadata": {},
   "outputs": [
    {
     "data": {
      "text/plain": [
       "SeqRecord(seq=Seq('TCAAGTACTTCAATGCTGGATCAAGGATGTTCCTTCTTTGCATTTATTGCGATT...CAA', IUPACAmbiguousDNA()), id='MG522909.1', name='MG522909', description='Paphiopedilum niveum voucher UPM-MCR 021 maturase K (matK) gene, partial cds; chloroplast', dbxrefs=[])"
      ]
     },
     "execution_count": 150,
     "metadata": {},
     "output_type": "execute_result"
    }
   ],
   "source": [
    "record"
   ]
  },
  {
   "cell_type": "markdown",
   "metadata": {},
   "source": [
    "#### 검색결과를 파일로 저장"
   ]
  },
  {
   "cell_type": "code",
   "execution_count": 152,
   "metadata": {},
   "outputs": [],
   "source": [
    "import os"
   ]
  },
  {
   "cell_type": "code",
   "execution_count": 156,
   "metadata": {},
   "outputs": [
    {
     "data": {
      "text/plain": [
       "'LOCUS       MG522909                 836 bp    DNA     linear   PLN 11-DEC-2018\\nDEFINITION  Paphiopedilum niveum voucher UPM-MCR 021 maturase K (matK) gene,\\n            partial cds; chloroplast.\\nACCESSION   MG522909\\nVERSION     MG522909.1\\nKEYWORDS    .\\nSOURCE      chloroplast Paphiopedilum niveum\\n  ORGANISM  Paphiopedilum niveum\\n            Eukaryota; Viridiplantae; Streptophyta; Embryophyta; Tracheophyta;\\n            Spermatophyta; Magnoliophyta; Liliopsida; Asparagales; Orchidaceae;\\n          '"
      ]
     },
     "execution_count": 156,
     "metadata": {},
     "output_type": "execute_result"
    }
   ],
   "source": [
    "net_handle = Entrez.efetch(db=\"nucleotide\", id=\"1530728898\", rettype=\"gb\", retmode=\"text\") \n",
    "net_handle.read()[:500]"
   ]
  },
  {
   "cell_type": "code",
   "execution_count": 165,
   "metadata": {},
   "outputs": [],
   "source": [
    "net_handle = Entrez.efetch(db=\"nucleotide\", id=\"1530728898\", rettype=\"gb\", retmode=\"text\")\n",
    "\n",
    "filename = \"1530728898_2.gbk\"\n",
    "out_file = open(filename, \"w\")\n",
    "out_file.write(net_handle.read())\n",
    "out_file.close()\n",
    "net_handle.close()"
   ]
  },
  {
   "cell_type": "code",
   "execution_count": 167,
   "metadata": {},
   "outputs": [
    {
     "data": {
      "text/plain": [
       "SeqRecord(seq=Seq('TCAAGTACTTCAATGCTGGATCAAGGATGTTCCTTCTTTGCATTTATTGCGATT...CAA', IUPACAmbiguousDNA()), id='MG522909.1', name='MG522909', description='Paphiopedilum niveum voucher UPM-MCR 021 maturase K (matK) gene, partial cds; chloroplast', dbxrefs=[])"
      ]
     },
     "execution_count": 167,
     "metadata": {},
     "output_type": "execute_result"
    }
   ],
   "source": [
    "record = SeqIO.read(filename, \"genbank\")\n",
    "record"
   ]
  },
  {
   "cell_type": "markdown",
   "metadata": {},
   "source": []
  },
  {
   "cell_type": "markdown",
   "metadata": {},
   "source": []
  }
 ],
 "metadata": {
  "kernelspec": {
   "display_name": "Python 3",
   "language": "python",
   "name": "python3"
  },
  "language_info": {
   "codemirror_mode": {
    "name": "ipython",
    "version": 3
   },
   "file_extension": ".py",
   "mimetype": "text/x-python",
   "name": "python",
   "nbconvert_exporter": "python",
   "pygments_lexer": "ipython3",
   "version": "3.6.5"
  }
 },
 "nbformat": 4,
 "nbformat_minor": 2
}
