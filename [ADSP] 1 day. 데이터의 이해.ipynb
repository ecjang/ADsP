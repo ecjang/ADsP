{
 "cells": [
  {
   "cell_type": "markdown",
   "metadata": {},
   "source": [
    "### 목표\n",
    "\n",
    "- 데이터의 정의를 이해\n",
    "- 데이터베이스의 정의와 특징\n",
    "- 데이터베이스 활용에 대한 이해"
   ]
  },
  {
   "cell_type": "markdown",
   "metadata": {},
   "source": [
    "----"
   ]
  },
  {
   "cell_type": "markdown",
   "metadata": {},
   "source": [
    " <h1><center> 1절. 데이터와 정보 </center></h1>"
   ]
  },
  {
   "cell_type": "markdown",
   "metadata": {},
   "source": [
    "## 1. 데이터의 정의\n",
    "```\n",
    "데이터라는 단어는  1646년 영국 문헌에 처음 등장. 라틴어인 Dare(주다)의 과거분사형으로 \"주어진 것\"이란 의미이다. 1940년 데이터는 추상적인 의미를 넘어 기술적이고 사실적인 의미를 가진다.\n",
    "```\n",
    "\n",
    "### 1_1 데이터의 정의\n",
    "- 존재적 특성 - 객관적 사실 <br>\n",
    "- 당위적 특성 : 추론, 예측 등을 위한 근거<br>\n",
    "\n",
    "### 1_2 데이터의 특징\n",
    "- 정성적 데이터 : 언어, 문자 (회사 매출 증가)<br>\n",
    "- 정략적 데이터 : 수치, 도형, 기호 (나이, 몸무게 , 주가)<br>\n",
    "\n",
    "### 1_3 지식\n",
    "- [Tacit Knowledge 암묵지] : 학습과 경험을 통해 체화된 지식, 공유 어려움, 내면화 -> 공통화 필요. (김치 담그기, 자전거 타기)<br>\n",
    "- [Explicit Knowledge 형식지] : 문서나 매뉴얼처럼 형식화된 지식, 공유 수월, 표준화 -> 연결화"
   ]
  },
  {
   "cell_type": "markdown",
   "metadata": {},
   "source": [
    "## 2. 데이터와 정보\n",
    "```\n",
    "[ 데이터 Data ] : 단순한 사실. \"고기를 A 마트는 5000원에, B 마트는 6000원에 판매한다.\"\n",
    "[ 정보 Information ] : 의미 도출. \"A 마트가 더 싸게 판다! \"\n",
    "[ 지식 Knowledge ] : 구조화, 예측. \"그러므로 A 마트에서 사야지!\"\n",
    "[ 지혜 Wisdom ] : 아이디어, 솔루션 \"다른 상품도 A마트가 쌀 거야.\"\n",
    "```"
   ]
  },
  {
   "cell_type": "markdown",
   "metadata": {},
   "source": [
    "----"
   ]
  },
  {
   "cell_type": "markdown",
   "metadata": {},
   "source": [
    " <h1><center> 2절. 데이터베이스의 정의와 특징 </center></h1>"
   ]
  },
  {
   "cell_type": "markdown",
   "metadata": {},
   "source": [
    "## 1. 용어\n",
    "```\n",
    "1950, 미국 군대의 데이터의 기지라는 뜻으로 탄생.\n",
    "1963, 미국 SDC가 개최한 심포지엄에서 공식용어로 사용.\n",
    "1970, 유럽에서 데이터베이스라는 단일어로 일반화.\n",
    "1975, 국내에서 미국의 CAC가 KORSTIC을 처음으로 서비스.\n",
    "```"
   ]
  },
  {
   "cell_type": "markdown",
   "metadata": {},
   "source": [
    "## 2. 정의\n",
    "```\n",
    "EU : 체계적으로 정리되고, 전자식이나 개별적으로 접근할 수 있는 독립된 저장물, 데이터, 수집물.\n",
    "국내 저작권법 : 소재를 체계적으로 배열한 편집물로 개별적으로 접근하거나 검색할 수 있도록 한 것.\n",
    "국내 컴퓨터 용어 사전 : 동시에 여러 업무가 가능하도록 복수 이용자의 요구에 맞추어 데이터를 받아들이고 저장하기 위해 일정한 구조에 따라서 편성된 데이터의 집합.\n",
    "```"
   ]
  },
  {
   "cell_type": "markdown",
   "metadata": {},
   "source": [
    "## 3. 특징\n",
    "* [Integrated 통합된] 데이터  : 동일한 내용의 데이터가 중복되지 않는다. \n",
    "\n",
    "* [Stored 저장된] 데이터  : 컴퓨터가 접근할 수 있는 저장매체에 저장된다.\n",
    "\n",
    "* [Shared 공용]  데이터  : 여러 사용자가 동시에 이용할 수 있다.\n",
    "\n",
    "* [Changeable 변화되는] 데이터  : 새로운 데이터의 삽입되고 기존 데이터는 삭제되거나 갱신되면서 현재의 정확한 데이터를 유지한다."
   ]
  },
  {
   "cell_type": "markdown",
   "metadata": {},
   "source": [
    "----"
   ]
  },
  {
   "cell_type": "markdown",
   "metadata": {},
   "source": [
    " <h1><center> 3절. 데이터베이스 활용 </center></h1>"
   ]
  },
  {
   "cell_type": "markdown",
   "metadata": {},
   "source": [
    "## 1. 기업 내부 데이터베이스\n",
    "\n",
    "1. **[OLTP On-Line Transaction Processing]**\n",
    "```\n",
    "호스트 컴퓨터가 데이터베이스를 액세스, 바로 처리 결과를 돌려보내는 형태.\n",
    "주문입력, 재고관리 시스템 등\n",
    "응답 시간이 빠르고 현재 데이터를 사용\n",
    "주기적으로 질의하며 예측이 가능\n",
    "```\n",
    "\n",
    "1. **[OLAP On-Line Analytical Processing]**\n",
    "```\n",
    "정보 위주의 분석 처리로 의사결정에 활용하는 정보를 얻을 수 있는 시스템\n",
    "데이터 조회 위주\n",
    "축소된 데이터를 다루며 예측하기 어려움\n",
    "```\n",
    "\n",
    "1. [CRAM Customer Relationship Managemanet]\n",
    "```\n",
    "고객 관계 관리를 의미\n",
    "고객의 자료를 분석하여 고객 중심 자원을 극대화\n",
    "한 번 고객은 평생 고객\n",
    "```\n",
    "\n",
    "1. [SCM Supply Chain Management 공급망 관리] <br>\n",
    "1. [ERP Enterprise Resource Plainning 전사적 자원 관리]<br>\n",
    "1. [RTE Real-Time Enterpise 실시간 기업]<br>\n",
    "\n",
    "1. [BI Business Intelligence]\n",
    "```\n",
    "기업의 모든 데이터를 정리 및 분석하여 기업의 의사결정에 활용하는 일련의 프로세스\n",
    "데이터 수집, 저장, 접근 응용 시스템\n",
    "고객의 수익성, 고객별 위험도, 행동 패턴 등의 정보가 BI의 산출물.\n",
    "질의, 보고, 온라인 분석 처리(OLAP), 통계분석, 예측, 데이터 마이닝의 결합\n",
    "```\n",
    "\n",
    "1. [EAI Enterpise Application Intelligence 전사적 애플리케이션 인텔리젠스]<br>\n",
    "1. [KMS Knowledge Management System 지식 관리 시스템]<br>\n",
    "```\n",
    "지식 사회로 급변하면서 새롭게 조명받는 방식\n",
    "인적 자원이 떠나면 해당 정보도 같이 없어지는 관점에서 출발\n",
    "```"
   ]
  },
  {
   "cell_type": "markdown",
   "metadata": {},
   "source": [
    "## 2. 사회기반구조로서의 데이터베이스\n",
    "```\n",
    "정부를 중심으로 [SOC 사회간접자본] 차원에서 EDI를 활용하여 [VAN 부가가치 통신망]을 구축하기 시작. 2000년도에 들어서 일반인도 지리 교통 등의 데이터베이스에 접속할 수 있게 되었다.\n",
    "```\n",
    "1. [EDI Electronic Data Intelligence 전자 정보 인텔리젠스] : 각종 표준화된 양식을 컴퓨터 통신망에 적용\n",
    "1. [VAN Value Added Network 가치 추가 네트워크] : 통신회선을 차용하여 독자적인 통신망을 구축\n",
    "1. [CALS Commerce At Light Speed] : 제품 라이프 사이클 전반의 데이터 공유를 위한 경영통합정보시스템\n",
    "\n",
    "\n",
    "### 2_1 물류부문\n",
    "1. [CVO Commercial Vehicle Operation System]\n",
    "1. [PORT-MIS 항만 운영 시스템]\n",
    "\n",
    "### 2_2 지리/교통 부분\n",
    "1. [GIS Geographic Information System 지리 정보 시스템]\n",
    "1. [RS Remote Sensing 원격 센서]\n",
    "1. [GPS Global Positioning System 국제 위치 시스템]\n",
    "1. [ITS Intelligence Transport System 인텔리전스 변환 시스템]\n",
    "1. [LBS Location Based Service 지역 기반 서비스]\n",
    "1. [SIM Spatial Information Management 공간 정보 시스템]\n",
    "\n",
    "### 2_3 의료 부분\n",
    "1. [PACS Picture Archiving and Communications System]\n",
    "1. [U헬스 Ubiquitous-Health]"
   ]
  },
  {
   "cell_type": "markdown",
   "metadata": {},
   "source": [
    "----"
   ]
  }
 ],
 "metadata": {
  "kernelspec": {
   "display_name": "Python 3",
   "language": "python",
   "name": "python3"
  },
  "language_info": {
   "codemirror_mode": {
    "name": "ipython",
    "version": 3
   },
   "file_extension": ".py",
   "mimetype": "text/x-python",
   "name": "python",
   "nbconvert_exporter": "python",
   "pygments_lexer": "ipython3",
   "version": "3.6.5"
  }
 },
 "nbformat": 4,
 "nbformat_minor": 2
}
