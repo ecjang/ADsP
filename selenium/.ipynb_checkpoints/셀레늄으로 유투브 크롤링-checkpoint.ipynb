{
 "cells": [
  {
   "cell_type": "markdown",
   "metadata": {},
   "source": [
    "# 셀레늄 유투브 크롤링\n",
    "- 참고 : https://code-ing.tistory.com/6"
   ]
  },
  {
   "cell_type": "markdown",
   "metadata": {},
   "source": [
    "### Chrome Driver 설치\n",
    "아래 링크에서 사용중인 크롬의 버전에 맞는 드라이브를 받아서 설치.\n",
    "- 다운경로 : 해당 스크립트가 있는 곳\n",
    "- 크롬 버전 확인 : chrome://settings/help\n",
    "   - 현 버전 : 버전 79.0.3945.88(공식 빌드) (64비트)\n",
    "- https://sites.google.com/a/chromium.org/chromedriver/downloads"
   ]
  },
  {
   "cell_type": "markdown",
   "metadata": {},
   "source": [
    "### 코드 시작\n",
    "없는 라이브러리는 \"!pip install 라이브러리명\"으로 설치."
   ]
  },
  {
   "cell_type": "code",
   "execution_count": 28,
   "metadata": {},
   "outputs": [],
   "source": [
    "from selenium import webdriver\n",
    "from selenium.webdriver.common.keys import Keys\n",
    "from bs4 import BeautifulSoup\n",
    "import time\n",
    "import re"
   ]
  },
  {
   "cell_type": "code",
   "execution_count": 3,
   "metadata": {},
   "outputs": [],
   "source": [
    "# 드라이브 설정\n",
    "# driver 실행 시 새 크롬이 뜬다.\n",
    "# 설정 초기화가 뜬다면 무시\n",
    "driver = webdriver.Chrome() # 같은 폴더에 있으므로 별도 경로 지정 X"
   ]
  },
  {
   "cell_type": "code",
   "execution_count": 4,
   "metadata": {},
   "outputs": [],
   "source": [
    "# 테스트\n",
    "url = 'https://www.youtube.com/results?search_query=%EC%9E%90%EA%B8%B0%EA%B3%84%EB%B0%9C'\n",
    "driver.get(url)\n",
    "time.sleep(1) # 임포트할 여유 시간\n",
    "body = driver.find_element_by_tag_name('body')"
   ]
  },
  {
   "cell_type": "code",
   "execution_count": 5,
   "metadata": {},
   "outputs": [],
   "source": [
    "# 페이지 스크롤 : END를 3번 누르기\n",
    "# Keys의 종류 참고 : https://tinyurl.com/rwflajz\n",
    "num_of_pagedowns = 3\n",
    "while num_of_pagedowns:\n",
    "    body.send_keys(Keys.END)\n",
    "    time.sleep(0.5)\n",
    "    num_of_pagedowns -= 1\n",
    "       "
   ]
  },
  {
   "cell_type": "code",
   "execution_count": null,
   "metadata": {},
   "outputs": [],
   "source": []
  },
  {
   "cell_type": "code",
   "execution_count": 90,
   "metadata": {},
   "outputs": [
    {
     "data": {
      "text/plain": [
       "[]"
      ]
     },
     "execution_count": 90,
     "metadata": {},
     "output_type": "execute_result"
    }
   ],
   "source": [
    "# 내용 가져오기\n",
    "# html = driver.page_source\n",
    "# soup = BeautifulSoup(html, \"lxml\")\n",
    "# titles = soup.find_all('a', {'class':'ytd-video-renderer'})\n",
    "# users = soup.find_all('a',{'class':'yt-formatted-string'})\n",
    "titles = driver.find_elements_by_xpath('//*[@id=\"video-title\"]')\n",
    "users = driver.find_elements_by_xpath('//*[@id=\"text\"]/a')\n",
    "counts = driver.find_elements_by_xpath('//*[@id=\"metadata-line\"]/span[1]')\n",
    "days = driver.find_elements_by_xpath('//*[@id=\"metadata-line\"]/span[2]')\n",
    "texts= driver.find_elements_by_xpath('//*[@id=\"description-text\"]')\n",
    "titles\n",
    "\n",
    "\n"
   ]
  },
  {
   "cell_type": "code",
   "execution_count": 93,
   "metadata": {},
   "outputs": [
    {
     "name": "stdout",
     "output_type": "stream",
     "text": [
      "0 61 59 58 61\n"
     ]
    }
   ],
   "source": [
    "print(len(titles), len(users), len(counts), len(days), len(texts))"
   ]
  }
 ],
 "metadata": {
  "kernelspec": {
   "display_name": "Python 3",
   "language": "python",
   "name": "python3"
  },
  "language_info": {
   "codemirror_mode": {
    "name": "ipython",
    "version": 3
   },
   "file_extension": ".py",
   "mimetype": "text/x-python",
   "name": "python",
   "nbconvert_exporter": "python",
   "pygments_lexer": "ipython3",
   "version": "3.7.0"
  }
 },
 "nbformat": 4,
 "nbformat_minor": 2
}
